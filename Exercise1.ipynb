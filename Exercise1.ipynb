{
 "cells": [
  {
   "cell_type": "markdown",
   "id": "3d0cee65-313d-4c6d-8e22-cc8a7e406cb1",
   "metadata": {},
   "source": [
    "# Exercise 1\n",
    "## Exercise 1.1: Command line exercises\n",
    "Done with the terminal. <br>\n",
    "Remark: on mac, *\"command + shift + .\"* shows hidden files. \n",
    "\n",
    "## Exercise 1.2: Making an rc file\n",
    "Done with terminal and text edit\n",
    "\n",
    "## Exercise 1.3: Time and type conversions\n",
    "Using the techniques you have learned in the first day of bootcamp, generate a time stamp (like 13:29:45 for nearly half past one in the afternoon) for the time that is 63,252 seconds after midnight. Start with this statement:"
   ]
  },
  {
   "cell_type": "code",
   "execution_count": 4,
   "id": "77e3bbc9-afd6-4ee2-967c-c10d4a9b188d",
   "metadata": {},
   "outputs": [
    {
     "name": "stdout",
     "output_type": "stream",
     "text": [
      "17:34:12\n",
      "The hours passed is 5:34:12 PM\n"
     ]
    }
   ],
   "source": [
    "seconds_past_midnight = 63252\n",
    "# Only needs 0, 2, 3, 6\n",
    "\n",
    "hours = seconds_past_midnight // 3600 \n",
    "# Better than hours = int(seconds_past_midnight / 3600)\n",
    "# But good to safeguard code in case seconds_past_midnight is not an int !\n",
    "remaining_seconds_after_hours = (seconds_past_midnight % 3600)\n",
    "minutes = remaining_seconds_after_hours // 60 \n",
    "last_seconds = seconds_past_midnight - hours*3600 - minutes*60\n",
    "\n",
    "time = str(hours) + ':' + str(minutes) + ':' + str(last_seconds)\n",
    "print(time)\n",
    "\n",
    "# Solution discussion\n",
    "if hours > 12:\n",
    "    print('The hours passed is ' + str(hours-12) + ':' + str(minutes) + ':' + str(last_seconds) + ' PM')\n",
    "else:\n",
    "    print('The hours passed is ' + str(hours) + ':' + str(minutes) + ':' + str(last_seconds) + ' AM')"
   ]
  },
  {
   "cell_type": "markdown",
   "id": "61886e2c-5114-48d8-89b5-8bb9e5c912e1",
   "metadata": {},
   "source": [
    "## Exercise 1.4: Using string methods\n",
    "In Lesson 7, we wrote a function to compute the reverse complement of a sequence.\n",
    "\n",
    "a) Write that function again, still using a for loop, but do not use the built-in reversed() function.\n",
    "\n",
    "b) Write the function one more time, but without any loops."
   ]
  },
  {
   "cell_type": "code",
   "execution_count": 10,
   "id": "cb1996d1-2701-434a-92d1-4b52f13ad20a",
   "metadata": {},
   "outputs": [
    {
     "data": {
      "text/plain": [
       "'TGCAACTGC'"
      ]
     },
     "execution_count": 10,
     "metadata": {},
     "output_type": "execute_result"
    }
   ],
   "source": [
    "# Lesson 7 methods\n",
    "def complement_base(base):\n",
    "    \"\"\"Returns the Watson-Crick complement of a base.\"\"\"\n",
    "    if base in 'Aa':\n",
    "        return 'T'\n",
    "    elif base in 'Tt':\n",
    "        return 'A'\n",
    "    elif base in 'Gg':\n",
    "        return 'C'\n",
    "    else:\n",
    "        return 'G'\n",
    "\n",
    "\n",
    "def reverse_complement(seq):\n",
    "    \"\"\"Compute reverse complement of a sequence.\"\"\"\n",
    "    # Initialize reverse complement\n",
    "    rev_seq = ''\n",
    "\n",
    "    # Loop through and populate list with reverse complement\n",
    "    for base in reversed(seq):\n",
    "        rev_seq += complement_base(base)\n",
    "\n",
    "    return rev_seq\n",
    "\n",
    "reverse_complement('GCAGTTGCA')"
   ]
  },
  {
   "cell_type": "code",
   "execution_count": 27,
   "id": "794311b7-a794-4b8d-8e41-58568f7a171c",
   "metadata": {},
   "outputs": [
    {
     "data": {
      "text/plain": [
       "'TGCAACTGC'"
      ]
     },
     "execution_count": 27,
     "metadata": {},
     "output_type": "execute_result"
    }
   ],
   "source": [
    "def reverse_complement2(seq):\n",
    "    \"\"\"Compute reverse complement of a sequence without the reversed function.\"\"\"\n",
    "    # Initialize reverse complement\n",
    "    rev_seq = ''\n",
    "\n",
    "    # Loop through and populate list with reverse complement\n",
    "    for base in seq[::-1]:\n",
    "        rev_seq += complement_base(base)\n",
    "\n",
    "    return rev_seq\n",
    "\n",
    "reverse_complement2('GCAGTTGCA')"
   ]
  },
  {
   "cell_type": "code",
   "execution_count": 32,
   "id": "bda6f9ee-d176-4664-9a69-eb2ad29d7aea",
   "metadata": {},
   "outputs": [
    {
     "data": {
      "text/plain": [
       "'TGCAACTGC'"
      ]
     },
     "execution_count": 32,
     "metadata": {},
     "output_type": "execute_result"
    }
   ],
   "source": [
    "def reverse_complement3(seq):\n",
    "    \"\"\"Compute reverse complement of a sequence without any loops.\"\"\"\n",
    "    rev_seq = seq.lower()\n",
    "    rev_seq = rev_seq[::-1]\n",
    "    \n",
    "    rev_seq = rev_seq.replace('a', 'T')\n",
    "    rev_seq = rev_seq.replace('t', 'A')\n",
    "    rev_seq = rev_seq.replace('c', 'G')\n",
    "    rev_seq = rev_seq.replace('g', 'C')\n",
    "\n",
    "    return rev_seq\n",
    "\n",
    "reverse_complement3('GCAGTTGCA')"
   ]
  },
  {
   "cell_type": "markdown",
   "id": "ef825f34-f30d-4596-825e-85c015bef48f",
   "metadata": {},
   "source": [
    "## Exercise 1.5: Longest common substring\n",
    "\n",
    "Write a function that takes two sequences and returns the longest common substring. A substring is a contiguous portion of a string."
   ]
  },
  {
   "cell_type": "code",
   "execution_count": 5,
   "id": "7e0870b1-463b-4cf4-9bf8-954853175178",
   "metadata": {},
   "outputs": [
    {
     "name": "stdout",
     "output_type": "stream",
     "text": [
      "ATGCATATCGTA   CTGCATATCGTG   TGCATATCGT\n",
      "ATGCATATCGTA   CCGATAGGGGGG   ATA\n",
      "ATGCATATCGTA   ATG   ATG\n",
      "CTGCATATCGTG   ATG   TG\n"
     ]
    }
   ],
   "source": [
    "def longest_common_substring(s1, s2):\n",
    "    \"\"\"Compute the/ longest common substring of two sequences.\"\"\"\n",
    "    sub_str = ''\n",
    "    short_str = s1\n",
    "    long_str = s2\n",
    "    \n",
    "    if len(s1) > len(s2):\n",
    "        short_str = s2\n",
    "        long_str = s1\n",
    "\n",
    "    # First particular case coded, but my final solution works without it ! \n",
    "    # if long_str.find(short_str) != -1:\n",
    "    #    sub_str = short_str\n",
    "    # Start with long substring and remove one nucleotide at a time and check all possibilities\n",
    "    \n",
    "    # Advice TA, exploit indexing: seq[2:4]\n",
    "    \n",
    "    sub_str_len = len(short_str)\n",
    "    Detected_sub = False\n",
    "    \n",
    "    while sub_str_len > 0 and not Detected_sub:\n",
    "        for i in range(len(short_str) - sub_str_len + 1):\n",
    "            if short_str[i:i+sub_str_len] in long_str:\n",
    "                sub_str = short_str[i:i+sub_str_len] \n",
    "                Detected_sub = True\n",
    "                \n",
    "        sub_str_len -=1\n",
    "           \n",
    "    return sub_str\n",
    "\n",
    "s1 = 'ATGCATATCGTA'\n",
    "s2 = 'CTGCATATCGTG'\n",
    "s3 = 'CCGATAGGGGGG'\n",
    "s4 = 'ATG'\n",
    "\n",
    "print(s1, ' ', s2, ' ', longest_common_substring(s1, s2))\n",
    "print(s1, ' ', s3, ' ', longest_common_substring(s1, s3))\n",
    "print(s1, ' ', s4, ' ', longest_common_substring(s1, s4))\n",
    "print(s2, ' ', s4, ' ', longest_common_substring(s2, s4))"
   ]
  },
  {
   "cell_type": "markdown",
   "id": "d519a05b-f908-45f2-9946-1d963d413224",
   "metadata": {},
   "source": [
    "## Exercise 1.6: RNA secondary structure validator"
   ]
  },
  {
   "cell_type": "markdown",
   "id": "4d5d1e59-80f5-4d99-964d-836219bd8c73",
   "metadata": {},
   "source": [
    "a) Write a function to make sure that the number of closed parentheses is equal to the number of open parentheses, a requirement for a valid secondary structure. It should return True if the parentheses are valid and False otherwise."
   ]
  },
  {
   "cell_type": "code",
   "execution_count": 53,
   "id": "6e187049-858d-4455-9284-99850d7ad5c4",
   "metadata": {},
   "outputs": [
    {
     "name": "stdout",
     "output_type": "stream",
     "text": [
      "True False True False\n"
     ]
    }
   ],
   "source": [
    "def parentheses_count(str):\n",
    "    \"\"\"Checks if there are equal number of open and closed parentheses in structure, string.\"\"\"\n",
    "    \n",
    "    return str.count('(') == str.count(')')\n",
    "\n",
    "str1 = '(((...)))'\n",
    "str2 = '(((...))'\n",
    "str3 = '((.(...))..)'\n",
    "str4 = '((.(...))..))'\n",
    "\n",
    "print(parentheses_count(str1), parentheses_count(str2), parentheses_count(str3), parentheses_count(str4))"
   ]
  },
  {
   "cell_type": "markdown",
   "id": "69266615-637f-473b-8501-7aaa3a9b1df6",
   "metadata": {},
   "source": [
    "b) Write a function that converts the dot-parens notation to a tuple of 2-tuples representing the base pairs. We’ll call this function dotparen_to_bp(). An example input/output of this function would be:\n",
    "\n",
    "dotparen_to_bp('(((....)))')\n",
    "\n",
    "((0, 9), (1, 8), (2, 7))"
   ]
  },
  {
   "cell_type": "code",
   "execution_count": 76,
   "id": "6b461c75-964d-4163-9689-af6d35ea868b",
   "metadata": {},
   "outputs": [
    {
     "name": "stdout",
     "output_type": "stream",
     "text": [
      "((0, 8), (1, 7), (2, 6))\n",
      "Incorrect structure, unbalenced number of parentheses\n",
      "('',)\n",
      "((0, 11), (1, 8), (3, 7))\n",
      "Incorrect structure, unbalenced number of parentheses\n",
      "('',)\n"
     ]
    }
   ],
   "source": [
    "def dotparen_to_bp(str):\n",
    "    \"\"\"Converts the dot-parens notation to a tuple of 2-tuples representing the base pairs.\"\"\"\n",
    "    \n",
    "    if not parentheses_count(str):\n",
    "        print('Incorrect structure, unbalenced number of parentheses')\n",
    "        return ('',)\n",
    "    \n",
    "    temp_open = []\n",
    "    temp_close = []\n",
    "    temp_both = []\n",
    "    \n",
    "    for index, element in enumerate(str):\n",
    "        if element == '(':\n",
    "            temp_open.append(index)\n",
    "        elif element == ')':\n",
    "            temp_close.append(index)\n",
    "    \n",
    "    for index, element in enumerate(temp_open):\n",
    "        temp_both.append(tuple([temp_open[index], temp_close[-index -1]]))\n",
    "    \n",
    "    out = tuple(temp_both)\n",
    "    return out\n",
    "\n",
    "print(dotparen_to_bp(str1))\n",
    "print(dotparen_to_bp(str2))\n",
    "print(dotparen_to_bp(str3))\n",
    "print(dotparen_to_bp(str4))"
   ]
  },
  {
   "cell_type": "markdown",
   "id": "9fec1493-7223-4969-9d8a-3652104602ea",
   "metadata": {},
   "source": [
    "Write a function that verifies that a list of base pairs (as outputted by dotparen_to_bp()) satisfies the minimal hairpin length requirement."
   ]
  },
  {
   "cell_type": "code",
   "execution_count": 91,
   "id": "5cd75cd0-0439-4ea4-a720-eddd0a4c1f88",
   "metadata": {},
   "outputs": [
    {
     "name": "stdout",
     "output_type": "stream",
     "text": [
      "True\n",
      "A hairpin does not satisfy the minimal hairpin length requirement. See base pair 3.\n",
      "False\n"
     ]
    }
   ],
   "source": [
    "def check_hairpin(base_pairs):\n",
    "    \"\"\"Check if list of base pairs satisfies the minimal hairpin length requirement.\"\"\" \n",
    "    for index, element_pair in enumerate(base_pairs):\n",
    "        if element_pair[1] - element_pair[0] < 4:\n",
    "            print(f'A hairpin does not satisfy the minimal hairpin length requirement. See base pair {index+1}.') \n",
    "            return False\n",
    "    return True\n",
    "\n",
    "print(check_hairpin(dotparen_to_bp(str1)))\n",
    "strF = '(((.)))'\n",
    "print(check_hairpin(dotparen_to_bp(strF)))"
   ]
  },
  {
   "cell_type": "markdown",
   "id": "a17eb387-fbf5-4ff3-91f1-3f614e144bb3",
   "metadata": {},
   "source": [
    "d) Now write your validator function. The function definition should look like this:\n",
    "def rna_ss_validator(seq, sec_struc, wobble=True):\n",
    "\n",
    "It should return True if the sequence is commensurate with a valid secondary structure and False otherwise. The wobble keyword argument is True if we allow wobble pairs (G paired with U)."
   ]
  },
  {
   "cell_type": "code",
   "execution_count": null,
   "id": "edfc710b-bf6f-453c-8f5d-3175bf76942d",
   "metadata": {},
   "outputs": [],
   "source": []
  },
  {
   "cell_type": "code",
   "execution_count": null,
   "id": "e8db3bca-fbb6-4c1c-a595-c12e959d16e4",
   "metadata": {},
   "outputs": [],
   "source": []
  }
 ],
 "metadata": {
  "kernelspec": {
   "display_name": "Python 3 (ipykernel)",
   "language": "python",
   "name": "python3"
  },
  "language_info": {
   "codemirror_mode": {
    "name": "ipython",
    "version": 3
   },
   "file_extension": ".py",
   "mimetype": "text/x-python",
   "name": "python",
   "nbconvert_exporter": "python",
   "pygments_lexer": "ipython3",
   "version": "3.9.12"
  }
 },
 "nbformat": 4,
 "nbformat_minor": 5
}
