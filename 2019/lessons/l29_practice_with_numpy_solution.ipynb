{
 "cells": [
  {
   "cell_type": "markdown",
   "metadata": {},
   "source": [
    "# Lesson 29: Practice with Numpy *solutions*\n",
    "\n",
    "(c) 2019 Justin Bois. With the exception of pasted graphics, where the source is noted, this work is licensed under a [Creative Commons Attribution License CC-BY 4.0](https://creativecommons.org/licenses/by/4.0/). All code contained herein is licensed under an [MIT license](https://opensource.org/licenses/MIT).\n",
    "\n",
    "This document was prepared at [Caltech](http://www.caltech.edu) with financial support from the [Donna and Benjamin M. Rosen Bioengineering Center](http://rosen.caltech.edu).\n",
    "\n",
    "<img src=\"caltech_rosen.png\">\n",
    "\n",
    "*This lesson was generated from a Jupyter notebook.  You can download the notebook [here](l29_practice_with_numpy_solution.ipynb).*\n",
    "\n",
    "<hr />"
   ]
  },
  {
   "cell_type": "code",
   "execution_count": 1,
   "metadata": {
    "collapsed": true
   },
   "outputs": [
    {
     "data": {
      "text/html": [
       "\n",
       "    <div class=\"bk-root\">\n",
       "        <a href=\"https://bokeh.pydata.org\" target=\"_blank\" class=\"bk-logo bk-logo-small bk-logo-notebook\"></a>\n",
       "        <span id=\"1001\">Loading BokehJS ...</span>\n",
       "    </div>"
      ]
     },
     "metadata": {},
     "output_type": "display_data"
    },
    {
     "data": {
      "application/javascript": [
       "\n",
       "(function(root) {\n",
       "  function now() {\n",
       "    return new Date();\n",
       "  }\n",
       "\n",
       "  var force = true;\n",
       "\n",
       "  if (typeof root._bokeh_onload_callbacks === \"undefined\" || force === true) {\n",
       "    root._bokeh_onload_callbacks = [];\n",
       "    root._bokeh_is_loading = undefined;\n",
       "  }\n",
       "\n",
       "  var JS_MIME_TYPE = 'application/javascript';\n",
       "  var HTML_MIME_TYPE = 'text/html';\n",
       "  var EXEC_MIME_TYPE = 'application/vnd.bokehjs_exec.v0+json';\n",
       "  var CLASS_NAME = 'output_bokeh rendered_html';\n",
       "\n",
       "  /**\n",
       "   * Render data to the DOM node\n",
       "   */\n",
       "  function render(props, node) {\n",
       "    var script = document.createElement(\"script\");\n",
       "    node.appendChild(script);\n",
       "  }\n",
       "\n",
       "  /**\n",
       "   * Handle when an output is cleared or removed\n",
       "   */\n",
       "  function handleClearOutput(event, handle) {\n",
       "    var cell = handle.cell;\n",
       "\n",
       "    var id = cell.output_area._bokeh_element_id;\n",
       "    var server_id = cell.output_area._bokeh_server_id;\n",
       "    // Clean up Bokeh references\n",
       "    if (id != null && id in Bokeh.index) {\n",
       "      Bokeh.index[id].model.document.clear();\n",
       "      delete Bokeh.index[id];\n",
       "    }\n",
       "\n",
       "    if (server_id !== undefined) {\n",
       "      // Clean up Bokeh references\n",
       "      var cmd = \"from bokeh.io.state import curstate; print(curstate().uuid_to_server['\" + server_id + \"'].get_sessions()[0].document.roots[0]._id)\";\n",
       "      cell.notebook.kernel.execute(cmd, {\n",
       "        iopub: {\n",
       "          output: function(msg) {\n",
       "            var id = msg.content.text.trim();\n",
       "            if (id in Bokeh.index) {\n",
       "              Bokeh.index[id].model.document.clear();\n",
       "              delete Bokeh.index[id];\n",
       "            }\n",
       "          }\n",
       "        }\n",
       "      });\n",
       "      // Destroy server and session\n",
       "      var cmd = \"import bokeh.io.notebook as ion; ion.destroy_server('\" + server_id + \"')\";\n",
       "      cell.notebook.kernel.execute(cmd);\n",
       "    }\n",
       "  }\n",
       "\n",
       "  /**\n",
       "   * Handle when a new output is added\n",
       "   */\n",
       "  function handleAddOutput(event, handle) {\n",
       "    var output_area = handle.output_area;\n",
       "    var output = handle.output;\n",
       "\n",
       "    // limit handleAddOutput to display_data with EXEC_MIME_TYPE content only\n",
       "    if ((output.output_type != \"display_data\") || (!output.data.hasOwnProperty(EXEC_MIME_TYPE))) {\n",
       "      return\n",
       "    }\n",
       "\n",
       "    var toinsert = output_area.element.find(\".\" + CLASS_NAME.split(' ')[0]);\n",
       "\n",
       "    if (output.metadata[EXEC_MIME_TYPE][\"id\"] !== undefined) {\n",
       "      toinsert[toinsert.length - 1].firstChild.textContent = output.data[JS_MIME_TYPE];\n",
       "      // store reference to embed id on output_area\n",
       "      output_area._bokeh_element_id = output.metadata[EXEC_MIME_TYPE][\"id\"];\n",
       "    }\n",
       "    if (output.metadata[EXEC_MIME_TYPE][\"server_id\"] !== undefined) {\n",
       "      var bk_div = document.createElement(\"div\");\n",
       "      bk_div.innerHTML = output.data[HTML_MIME_TYPE];\n",
       "      var script_attrs = bk_div.children[0].attributes;\n",
       "      for (var i = 0; i < script_attrs.length; i++) {\n",
       "        toinsert[toinsert.length - 1].firstChild.setAttribute(script_attrs[i].name, script_attrs[i].value);\n",
       "      }\n",
       "      // store reference to server id on output_area\n",
       "      output_area._bokeh_server_id = output.metadata[EXEC_MIME_TYPE][\"server_id\"];\n",
       "    }\n",
       "  }\n",
       "\n",
       "  function register_renderer(events, OutputArea) {\n",
       "\n",
       "    function append_mime(data, metadata, element) {\n",
       "      // create a DOM node to render to\n",
       "      var toinsert = this.create_output_subarea(\n",
       "        metadata,\n",
       "        CLASS_NAME,\n",
       "        EXEC_MIME_TYPE\n",
       "      );\n",
       "      this.keyboard_manager.register_events(toinsert);\n",
       "      // Render to node\n",
       "      var props = {data: data, metadata: metadata[EXEC_MIME_TYPE]};\n",
       "      render(props, toinsert[toinsert.length - 1]);\n",
       "      element.append(toinsert);\n",
       "      return toinsert\n",
       "    }\n",
       "\n",
       "    /* Handle when an output is cleared or removed */\n",
       "    events.on('clear_output.CodeCell', handleClearOutput);\n",
       "    events.on('delete.Cell', handleClearOutput);\n",
       "\n",
       "    /* Handle when a new output is added */\n",
       "    events.on('output_added.OutputArea', handleAddOutput);\n",
       "\n",
       "    /**\n",
       "     * Register the mime type and append_mime function with output_area\n",
       "     */\n",
       "    OutputArea.prototype.register_mime_type(EXEC_MIME_TYPE, append_mime, {\n",
       "      /* Is output safe? */\n",
       "      safe: true,\n",
       "      /* Index of renderer in `output_area.display_order` */\n",
       "      index: 0\n",
       "    });\n",
       "  }\n",
       "\n",
       "  // register the mime type if in Jupyter Notebook environment and previously unregistered\n",
       "  if (root.Jupyter !== undefined) {\n",
       "    var events = require('base/js/events');\n",
       "    var OutputArea = require('notebook/js/outputarea').OutputArea;\n",
       "\n",
       "    if (OutputArea.prototype.mime_types().indexOf(EXEC_MIME_TYPE) == -1) {\n",
       "      register_renderer(events, OutputArea);\n",
       "    }\n",
       "  }\n",
       "\n",
       "  \n",
       "  if (typeof (root._bokeh_timeout) === \"undefined\" || force === true) {\n",
       "    root._bokeh_timeout = Date.now() + 5000;\n",
       "    root._bokeh_failed_load = false;\n",
       "  }\n",
       "\n",
       "  var NB_LOAD_WARNING = {'data': {'text/html':\n",
       "     \"<div style='background-color: #fdd'>\\n\"+\n",
       "     \"<p>\\n\"+\n",
       "     \"BokehJS does not appear to have successfully loaded. If loading BokehJS from CDN, this \\n\"+\n",
       "     \"may be due to a slow or bad network connection. Possible fixes:\\n\"+\n",
       "     \"</p>\\n\"+\n",
       "     \"<ul>\\n\"+\n",
       "     \"<li>re-rerun `output_notebook()` to attempt to load from CDN again, or</li>\\n\"+\n",
       "     \"<li>use INLINE resources instead, as so:</li>\\n\"+\n",
       "     \"</ul>\\n\"+\n",
       "     \"<code>\\n\"+\n",
       "     \"from bokeh.resources import INLINE\\n\"+\n",
       "     \"output_notebook(resources=INLINE)\\n\"+\n",
       "     \"</code>\\n\"+\n",
       "     \"</div>\"}};\n",
       "\n",
       "  function display_loaded() {\n",
       "    var el = document.getElementById(\"1001\");\n",
       "    if (el != null) {\n",
       "      el.textContent = \"BokehJS is loading...\";\n",
       "    }\n",
       "    if (root.Bokeh !== undefined) {\n",
       "      if (el != null) {\n",
       "        el.textContent = \"BokehJS \" + root.Bokeh.version + \" successfully loaded.\";\n",
       "      }\n",
       "    } else if (Date.now() < root._bokeh_timeout) {\n",
       "      setTimeout(display_loaded, 100)\n",
       "    }\n",
       "  }\n",
       "\n",
       "\n",
       "  function run_callbacks() {\n",
       "    try {\n",
       "      root._bokeh_onload_callbacks.forEach(function(callback) {\n",
       "        if (callback != null)\n",
       "          callback();\n",
       "      });\n",
       "    } finally {\n",
       "      delete root._bokeh_onload_callbacks\n",
       "    }\n",
       "    console.debug(\"Bokeh: all callbacks have finished\");\n",
       "  }\n",
       "\n",
       "  function load_libs(css_urls, js_urls, callback) {\n",
       "    if (css_urls == null) css_urls = [];\n",
       "    if (js_urls == null) js_urls = [];\n",
       "\n",
       "    root._bokeh_onload_callbacks.push(callback);\n",
       "    if (root._bokeh_is_loading > 0) {\n",
       "      console.debug(\"Bokeh: BokehJS is being loaded, scheduling callback at\", now());\n",
       "      return null;\n",
       "    }\n",
       "    if (js_urls == null || js_urls.length === 0) {\n",
       "      run_callbacks();\n",
       "      return null;\n",
       "    }\n",
       "    console.debug(\"Bokeh: BokehJS not loaded, scheduling load and callback at\", now());\n",
       "    root._bokeh_is_loading = css_urls.length + js_urls.length;\n",
       "\n",
       "    function on_load() {\n",
       "      root._bokeh_is_loading--;\n",
       "      if (root._bokeh_is_loading === 0) {\n",
       "        console.debug(\"Bokeh: all BokehJS libraries/stylesheets loaded\");\n",
       "        run_callbacks()\n",
       "      }\n",
       "    }\n",
       "\n",
       "    function on_error() {\n",
       "      console.error(\"failed to load \" + url);\n",
       "    }\n",
       "\n",
       "    for (var i = 0; i < css_urls.length; i++) {\n",
       "      var url = css_urls[i];\n",
       "      const element = document.createElement(\"link\");\n",
       "      element.onload = on_load;\n",
       "      element.onerror = on_error;\n",
       "      element.rel = \"stylesheet\";\n",
       "      element.type = \"text/css\";\n",
       "      element.href = url;\n",
       "      console.debug(\"Bokeh: injecting link tag for BokehJS stylesheet: \", url);\n",
       "      document.body.appendChild(element);\n",
       "    }\n",
       "\n",
       "    for (var i = 0; i < js_urls.length; i++) {\n",
       "      var url = js_urls[i];\n",
       "      var element = document.createElement('script');\n",
       "      element.onload = on_load;\n",
       "      element.onerror = on_error;\n",
       "      element.async = false;\n",
       "      element.src = url;\n",
       "      console.debug(\"Bokeh: injecting script tag for BokehJS library: \", url);\n",
       "      document.head.appendChild(element);\n",
       "    }\n",
       "  };var element = document.getElementById(\"1001\");\n",
       "  if (element == null) {\n",
       "    console.error(\"Bokeh: ERROR: autoload.js configured with elementid '1001' but no matching script tag was found. \")\n",
       "    return false;\n",
       "  }\n",
       "\n",
       "  function inject_raw_css(css) {\n",
       "    const element = document.createElement(\"style\");\n",
       "    element.appendChild(document.createTextNode(css));\n",
       "    document.body.appendChild(element);\n",
       "  }\n",
       "\n",
       "  var js_urls = [\"https://cdn.pydata.org/bokeh/release/bokeh-1.2.0.min.js\", \"https://cdn.pydata.org/bokeh/release/bokeh-widgets-1.2.0.min.js\", \"https://cdn.pydata.org/bokeh/release/bokeh-tables-1.2.0.min.js\", \"https://cdn.pydata.org/bokeh/release/bokeh-gl-1.2.0.min.js\"];\n",
       "  var css_urls = [\"https://cdn.pydata.org/bokeh/release/bokeh-1.2.0.min.css\", \"https://cdn.pydata.org/bokeh/release/bokeh-widgets-1.2.0.min.css\", \"https://cdn.pydata.org/bokeh/release/bokeh-tables-1.2.0.min.css\"];\n",
       "\n",
       "  var inline_js = [\n",
       "    function(Bokeh) {\n",
       "      Bokeh.set_log_level(\"info\");\n",
       "    },\n",
       "    \n",
       "    function(Bokeh) {\n",
       "      \n",
       "    },\n",
       "    function(Bokeh) {} // ensure no trailing comma for IE\n",
       "  ];\n",
       "\n",
       "  function run_inline_js() {\n",
       "    \n",
       "    if ((root.Bokeh !== undefined) || (force === true)) {\n",
       "      for (var i = 0; i < inline_js.length; i++) {\n",
       "        inline_js[i].call(root, root.Bokeh);\n",
       "      }if (force === true) {\n",
       "        display_loaded();\n",
       "      }} else if (Date.now() < root._bokeh_timeout) {\n",
       "      setTimeout(run_inline_js, 100);\n",
       "    } else if (!root._bokeh_failed_load) {\n",
       "      console.log(\"Bokeh: BokehJS failed to load within specified timeout.\");\n",
       "      root._bokeh_failed_load = true;\n",
       "    } else if (force !== true) {\n",
       "      var cell = $(document.getElementById(\"1001\")).parents('.cell').data().cell;\n",
       "      cell.output_area.append_execute_result(NB_LOAD_WARNING)\n",
       "    }\n",
       "\n",
       "  }\n",
       "\n",
       "  if (root._bokeh_is_loading === 0) {\n",
       "    console.debug(\"Bokeh: BokehJS loaded, going straight to plotting\");\n",
       "    run_inline_js();\n",
       "  } else {\n",
       "    load_libs(css_urls, js_urls, function() {\n",
       "      console.debug(\"Bokeh: BokehJS plotting callback run at\", now());\n",
       "      run_inline_js();\n",
       "    });\n",
       "  }\n",
       "}(window));"
      ],
      "application/vnd.bokehjs_load.v0+json": "\n(function(root) {\n  function now() {\n    return new Date();\n  }\n\n  var force = true;\n\n  if (typeof root._bokeh_onload_callbacks === \"undefined\" || force === true) {\n    root._bokeh_onload_callbacks = [];\n    root._bokeh_is_loading = undefined;\n  }\n\n  \n\n  \n  if (typeof (root._bokeh_timeout) === \"undefined\" || force === true) {\n    root._bokeh_timeout = Date.now() + 5000;\n    root._bokeh_failed_load = false;\n  }\n\n  var NB_LOAD_WARNING = {'data': {'text/html':\n     \"<div style='background-color: #fdd'>\\n\"+\n     \"<p>\\n\"+\n     \"BokehJS does not appear to have successfully loaded. If loading BokehJS from CDN, this \\n\"+\n     \"may be due to a slow or bad network connection. Possible fixes:\\n\"+\n     \"</p>\\n\"+\n     \"<ul>\\n\"+\n     \"<li>re-rerun `output_notebook()` to attempt to load from CDN again, or</li>\\n\"+\n     \"<li>use INLINE resources instead, as so:</li>\\n\"+\n     \"</ul>\\n\"+\n     \"<code>\\n\"+\n     \"from bokeh.resources import INLINE\\n\"+\n     \"output_notebook(resources=INLINE)\\n\"+\n     \"</code>\\n\"+\n     \"</div>\"}};\n\n  function display_loaded() {\n    var el = document.getElementById(\"1001\");\n    if (el != null) {\n      el.textContent = \"BokehJS is loading...\";\n    }\n    if (root.Bokeh !== undefined) {\n      if (el != null) {\n        el.textContent = \"BokehJS \" + root.Bokeh.version + \" successfully loaded.\";\n      }\n    } else if (Date.now() < root._bokeh_timeout) {\n      setTimeout(display_loaded, 100)\n    }\n  }\n\n\n  function run_callbacks() {\n    try {\n      root._bokeh_onload_callbacks.forEach(function(callback) {\n        if (callback != null)\n          callback();\n      });\n    } finally {\n      delete root._bokeh_onload_callbacks\n    }\n    console.debug(\"Bokeh: all callbacks have finished\");\n  }\n\n  function load_libs(css_urls, js_urls, callback) {\n    if (css_urls == null) css_urls = [];\n    if (js_urls == null) js_urls = [];\n\n    root._bokeh_onload_callbacks.push(callback);\n    if (root._bokeh_is_loading > 0) {\n      console.debug(\"Bokeh: BokehJS is being loaded, scheduling callback at\", now());\n      return null;\n    }\n    if (js_urls == null || js_urls.length === 0) {\n      run_callbacks();\n      return null;\n    }\n    console.debug(\"Bokeh: BokehJS not loaded, scheduling load and callback at\", now());\n    root._bokeh_is_loading = css_urls.length + js_urls.length;\n\n    function on_load() {\n      root._bokeh_is_loading--;\n      if (root._bokeh_is_loading === 0) {\n        console.debug(\"Bokeh: all BokehJS libraries/stylesheets loaded\");\n        run_callbacks()\n      }\n    }\n\n    function on_error() {\n      console.error(\"failed to load \" + url);\n    }\n\n    for (var i = 0; i < css_urls.length; i++) {\n      var url = css_urls[i];\n      const element = document.createElement(\"link\");\n      element.onload = on_load;\n      element.onerror = on_error;\n      element.rel = \"stylesheet\";\n      element.type = \"text/css\";\n      element.href = url;\n      console.debug(\"Bokeh: injecting link tag for BokehJS stylesheet: \", url);\n      document.body.appendChild(element);\n    }\n\n    for (var i = 0; i < js_urls.length; i++) {\n      var url = js_urls[i];\n      var element = document.createElement('script');\n      element.onload = on_load;\n      element.onerror = on_error;\n      element.async = false;\n      element.src = url;\n      console.debug(\"Bokeh: injecting script tag for BokehJS library: \", url);\n      document.head.appendChild(element);\n    }\n  };var element = document.getElementById(\"1001\");\n  if (element == null) {\n    console.error(\"Bokeh: ERROR: autoload.js configured with elementid '1001' but no matching script tag was found. \")\n    return false;\n  }\n\n  function inject_raw_css(css) {\n    const element = document.createElement(\"style\");\n    element.appendChild(document.createTextNode(css));\n    document.body.appendChild(element);\n  }\n\n  var js_urls = [\"https://cdn.pydata.org/bokeh/release/bokeh-1.2.0.min.js\", \"https://cdn.pydata.org/bokeh/release/bokeh-widgets-1.2.0.min.js\", \"https://cdn.pydata.org/bokeh/release/bokeh-tables-1.2.0.min.js\", \"https://cdn.pydata.org/bokeh/release/bokeh-gl-1.2.0.min.js\"];\n  var css_urls = [\"https://cdn.pydata.org/bokeh/release/bokeh-1.2.0.min.css\", \"https://cdn.pydata.org/bokeh/release/bokeh-widgets-1.2.0.min.css\", \"https://cdn.pydata.org/bokeh/release/bokeh-tables-1.2.0.min.css\"];\n\n  var inline_js = [\n    function(Bokeh) {\n      Bokeh.set_log_level(\"info\");\n    },\n    \n    function(Bokeh) {\n      \n    },\n    function(Bokeh) {} // ensure no trailing comma for IE\n  ];\n\n  function run_inline_js() {\n    \n    if ((root.Bokeh !== undefined) || (force === true)) {\n      for (var i = 0; i < inline_js.length; i++) {\n        inline_js[i].call(root, root.Bokeh);\n      }if (force === true) {\n        display_loaded();\n      }} else if (Date.now() < root._bokeh_timeout) {\n      setTimeout(run_inline_js, 100);\n    } else if (!root._bokeh_failed_load) {\n      console.log(\"Bokeh: BokehJS failed to load within specified timeout.\");\n      root._bokeh_failed_load = true;\n    } else if (force !== true) {\n      var cell = $(document.getElementById(\"1001\")).parents('.cell').data().cell;\n      cell.output_area.append_execute_result(NB_LOAD_WARNING)\n    }\n\n  }\n\n  if (root._bokeh_is_loading === 0) {\n    console.debug(\"Bokeh: BokehJS loaded, going straight to plotting\");\n    run_inline_js();\n  } else {\n    load_libs(css_urls, js_urls, function() {\n      console.debug(\"Bokeh: BokehJS plotting callback run at\", now());\n      run_inline_js();\n    });\n  }\n}(window));"
     },
     "metadata": {},
     "output_type": "display_data"
    }
   ],
   "source": [
    "import numpy as np\n",
    "import scipy.stats\n",
    "import pandas as pd\n",
    "\n",
    "import bokeh_catplot\n",
    "\n",
    "import bokeh.io\n",
    "import bokeh.plotting\n",
    "\n",
    "bokeh.io.output_notebook()"
   ]
  },
  {
   "cell_type": "markdown",
   "metadata": {},
   "source": [
    "<hr />\n",
    "\n",
    "Numpy arrays can take a while to get the hang of. Therefore, it's important to practice practice practice!"
   ]
  },
  {
   "cell_type": "markdown",
   "metadata": {},
   "source": [
    "## Practice 1: Computing things!\n",
    "\n",
    "In the last lesson, we looked at a data set from Harvey and Orbidans on the cross-sectional area of *C. elegans* eggs. Recall, we loaded the data and converted everything to Numpy arrays like this:"
   ]
  },
  {
   "cell_type": "code",
   "execution_count": 2,
   "metadata": {},
   "outputs": [],
   "source": [
    "df = pd.read_csv('data/c_elegans_egg_xa.csv', comment='#')\n",
    "\n",
    "xa_high = df.loc[df['food']=='high', 'area (sq. um)'].values\n",
    "xa_low = df.loc[df['food']=='low', 'area (sq. um)'].values"
   ]
  },
  {
   "cell_type": "markdown",
   "metadata": {},
   "source": [
    "Now we would like to compute the diameter of the egg from the cross-sectional area. Write a function that takes in an array of cross-sectional areas and returns an array of diameters. Recall that the diameter $d$ and cross-sectional area $A$ are related by $A = \\pi d^2/4$. There should be no `for` loops in your function! The call signature is\n",
    "\n",
    "```python\n",
    "xa_to_diameter(xa)\n",
    "```\n",
    "\n",
    "Use your function to compute the diameters of the eggs."
   ]
  },
  {
   "cell_type": "markdown",
   "metadata": {},
   "source": [
    "### Practice 1: solution"
   ]
  },
  {
   "cell_type": "code",
   "execution_count": 3,
   "metadata": {},
   "outputs": [
    {
     "name": "stdout",
     "output_type": "stream",
     "text": [
      "Diameters of eggs from well fed mothers:\n",
      " [46.29105911 51.22642581 47.76657057 48.5596503  51.59790585 47.61973991\n",
      " 49.33998388 47.89966242 47.21697198 46.94654036 49.08125119 49.84064959\n",
      " 47.9926071  46.29105911 47.69988539 48.40207395 48.15152345 49.3141717\n",
      " 49.57168871 47.87307365 48.30991705 46.29105911 46.12573337 46.24978308\n",
      " 46.41466697 47.87307365 48.15152345 48.95137203 45.72372833 47.18999856\n",
      " 46.68817945 45.98750791 46.53794651 52.2111661  48.70364742 47.23045291\n",
      " 47.06842687 46.81073869 45.97366251 49.57168871 50.8397116  48.54653847\n",
      " 52.08909166 48.24398292]\n",
      "\n",
      "Diameters of eggs from poorly fed mothers:\n",
      " [48.40207395 51.58556628 52.55146594 50.31103472 53.06982074 54.57203767\n",
      " 50.32368681 52.24773281 53.99739399 49.44309786 53.87936676 47.9926071\n",
      " 52.41804019 47.87307365 52.11352942 51.21399674 52.44232467 50.47526453\n",
      " 50.8397116  51.56087828 49.84064959 55.96578669 50.72688754 50.58864976\n",
      " 52.18677405 52.44232467 51.78264653 52.57568879 51.86863366 52.67246879\n",
      " 49.05530287 52.67246879 50.72688754 50.07003758 52.32078957 49.18490759\n",
      " 53.72554372 46.67454189 49.19784929 51.88090591 51.85635852 54.8280819\n",
      " 52.07686848 51.22642581 51.96673046 48.29673743 53.04582353 52.07686848\n",
      " 52.35727972 50.57606396 51.70882946 53.54750652 52.23554675 53.54750652\n",
      " 53.18964437 51.96673046 55.38261517]\n"
     ]
    }
   ],
   "source": [
    "def xa_to_diameter(xa):\n",
    "    \"\"\"\n",
    "    Convert an array of cross-sectional areas\n",
    "    to diameters with commensurate units.\n",
    "    \"\"\"\n",
    "    # Compute diameter from area\n",
    "    diameter = 2 * np.sqrt(xa / np.pi)\n",
    "    \n",
    "    return diameter\n",
    "\n",
    "print('Diameters of eggs from well fed mothers:\\n', xa_to_diameter(xa_high))\n",
    "print('\\nDiameters of eggs from poorly fed mothers:\\n', xa_to_diameter(xa_low))"
   ]
  },
  {
   "cell_type": "markdown",
   "metadata": {},
   "source": [
    "<br />"
   ]
  },
  {
   "cell_type": "markdown",
   "metadata": {},
   "source": [
    "## Practice 2: Working with two-dimensional arrays\n",
    "\n",
    "Numpy enables you do to matrix calculations on two-dimensional arrays. In exercise, you will practice doing matrix calculations on arrays. We'll start by making a matrix and a vector to practice with. You can copy and paste the code below."
   ]
  },
  {
   "cell_type": "code",
   "execution_count": 4,
   "metadata": {},
   "outputs": [],
   "source": [
    "A = np.array([[6.7, 1.3, 0.6, 0.7],\n",
    "              [0.1, 5.5, 0.4, 2.4],\n",
    "              [1.1, 0.8, 4.5, 1.7],\n",
    "              [0.0, 1.5, 3.4, 7.5]])\n",
    "\n",
    "b = np.array([1.1, 2.3, 3.3, 3.9])"
   ]
  },
  {
   "cell_type": "markdown",
   "metadata": {},
   "source": [
    "**a)** First, let's practice slicing.\n",
    "\n",
    "1. Print row 1 (remember, indexing starts at zero) of `A`.\n",
    "2. Print columns 1 and 3 of `A`.\n",
    "3. Print the values of every entry in `A` that is greater than 2.\n",
    "4. Print the diagonal of `A`. using the `np.diag()` function."
   ]
  },
  {
   "cell_type": "markdown",
   "metadata": {},
   "source": [
    "#### Solution"
   ]
  },
  {
   "cell_type": "code",
   "execution_count": 5,
   "metadata": {},
   "outputs": [
    {
     "name": "stdout",
     "output_type": "stream",
     "text": [
      "[0.1 5.5 0.4 2.4]\n",
      "[[1.3 0.7]\n",
      " [5.5 2.4]\n",
      " [0.8 1.7]\n",
      " [1.5 7.5]]\n",
      "[6.7 5.5 2.4 4.5 3.4 7.5]\n",
      "[6.7 5.5 4.5 7.5]\n"
     ]
    }
   ],
   "source": [
    "# 1.\n",
    "print(A[1,:])\n",
    "\n",
    "# 2.\n",
    "print(A[:,[1,3]])\n",
    "\n",
    "# 3. \n",
    "print(A[A>2])\n",
    "\n",
    "# 4.\n",
    "print(np.diag(A))"
   ]
  },
  {
   "cell_type": "markdown",
   "metadata": {},
   "source": [
    "**b)** The `np.linalg` module has some powerful linear algebra tools. \n",
    "\n",
    "1. First, we'll solve the linear system $\\mathsf{A}\\cdot \\mathbf{x} = \\mathbf{b}$. Try it out: use `np.linalg.solve()`. Store your answer in the Numpy array `x`.\n",
    "2. Now do `np.dot(A, x)` to verify that $\\mathsf{A}\\cdot \\mathbf{x} = \\mathbf{b}$.\n",
    "3. Use `np.transpose()` to compute the transpose of `A`.\n",
    "4. Use `np.linalg.inv()` to compute the inverse of `A`."
   ]
  },
  {
   "cell_type": "markdown",
   "metadata": {},
   "source": [
    "#### Solution"
   ]
  },
  {
   "cell_type": "code",
   "execution_count": 6,
   "metadata": {},
   "outputs": [
    {
     "name": "stdout",
     "output_type": "stream",
     "text": [
      "A . x:\n",
      " [1.1 2.3 3.3 3.9]\n",
      "\n",
      "b:\n",
      " [1.1 2.3 3.3 3.9]\n",
      "\n",
      "transpose of A:\n",
      " [[6.7 0.1 1.1 0. ]\n",
      " [1.3 5.5 0.8 1.5]\n",
      " [0.6 0.4 4.5 3.4]\n",
      " [0.7 2.4 1.7 7.5]]\n",
      "\n",
      "inverse of A:\n",
      " [[ 0.15267508 -0.03365026 -0.01778     0.00054854]\n",
      " [-0.00906001  0.19788853  0.03719385 -0.07090934]\n",
      " [-0.04391535 -0.0144834   0.26880108 -0.05219479]\n",
      " [ 0.02172029 -0.0330119  -0.12929526  0.17117684]]\n"
     ]
    }
   ],
   "source": [
    "# 1.\n",
    "x = np.linalg.solve(A, b)\n",
    "\n",
    "# 2.\n",
    "print('A . x:\\n', np.dot(A, x))\n",
    "print('\\nb:\\n', b)\n",
    "\n",
    "# 3.\n",
    "print('\\ntranspose of A:\\n', np.transpose(A))\n",
    "\n",
    "# 4.\n",
    "print('\\ninverse of A:\\n', np.linalg.inv(A))"
   ]
  },
  {
   "cell_type": "markdown",
   "metadata": {},
   "source": [
    "**c)** Sometimes you want to convert a two-dimensional array to a one-dimensional array. This can be done with `np.ravel()`. \n",
    "\n",
    "1. See what happens when you do `B = np.ravel(A)`.\n",
    "2. Look of the documentation for `np.reshape()`. Then, reshape `B` to make it look like `A` again."
   ]
  },
  {
   "cell_type": "markdown",
   "metadata": {},
   "source": [
    "#### Solution"
   ]
  },
  {
   "cell_type": "code",
   "execution_count": 7,
   "metadata": {},
   "outputs": [
    {
     "name": "stdout",
     "output_type": "stream",
     "text": [
      "[6.7 1.3 0.6 0.7 0.1 5.5 0.4 2.4 1.1 0.8 4.5 1.7 0.  1.5 3.4 7.5]\n"
     ]
    },
    {
     "data": {
      "text/plain": [
       "array([[6.7, 1.3, 0.6, 0.7],\n",
       "       [0.1, 5.5, 0.4, 2.4],\n",
       "       [1.1, 0.8, 4.5, 1.7],\n",
       "       [0. , 1.5, 3.4, 7.5]])"
      ]
     },
     "execution_count": 7,
     "metadata": {},
     "output_type": "execute_result"
    }
   ],
   "source": [
    "# 1.\n",
    "B = np.ravel(A)\n",
    "print(B)\n",
    "\n",
    "# 2.\n",
    "np.reshape(B, A.shape)"
   ]
  },
  {
   "cell_type": "markdown",
   "metadata": {},
   "source": [
    "<br />"
   ]
  },
  {
   "cell_type": "markdown",
   "metadata": {},
   "source": [
    "## Practice 3: Understanding and building ECDFs\n",
    "\n",
    "Write a function with call signature\n",
    "\n",
    "```python\n",
    "ecdf_vals(data)\n",
    "```\n",
    "\n",
    "which takes a one-dimensional NumPy array (or Pandas Series; the same construction of your function will work for both) of data and returns the `x` and `y` values for plotting a \"dot-style\" ECDF. That is, each dot has a `y` value given by the ECDF evaluated at `x`. As a reminder,\n",
    "\n",
    ">ECDF(x) = fraction of data points ≤ x.\n",
    "\n",
    "When writing a function, you should have detailed doc strings and checking of input. However, here the focus is on your understanding of ECDFs and developing skills with NumPy, so you do not need to have a very descriptive doc string nor lots of input checking.\n",
    "\n",
    "*Hint*: The functions `np.sort()` and `np.arange()` may be useful."
   ]
  },
  {
   "cell_type": "markdown",
   "metadata": {},
   "source": [
    "### Practice 3 solution"
   ]
  },
  {
   "cell_type": "code",
   "execution_count": 8,
   "metadata": {},
   "outputs": [],
   "source": [
    "def ecdf_vals(data):\n",
    "    \"\"\"Return x and y values for an ECDF.\"\"\"\n",
    "    return np.sort(data), np.arange(1, len(data)+1) / len(data)"
   ]
  },
  {
   "cell_type": "markdown",
   "metadata": {},
   "source": [
    "<br/>"
   ]
  },
  {
   "cell_type": "markdown",
   "metadata": {},
   "source": [
    "## Practice 4: Are they Normally distributed?\n",
    "\n",
    "We might be interested to see if the egg cross-section data follow a Normal distribution. After all, this is commonly an underlying assumption when people report data from repeated measurements in the literature.\n",
    "\n",
    "One way to assess this is to plot the theoretical CDF with the same mean and standard deviation as the data on the same plot as the ECDFs. (There are better graphical ways to do this, but this is ok for our purposes here.) We know the cumulative distribution function for a Normal distribution with mean $\\mu$ and standard deviation $\\sigma$ is\n",
    "\n",
    "\\begin{align}\n",
    "\\mathrm{cdf}(x) = \\frac{1}{2}\\left(1 + \\mathrm{erf}\\left(\\frac{x - \\mu}{\\sqrt{2\\sigma^2}}\\right)\\right),\n",
    "\\end{align}\n",
    "\n",
    "but instead of coding this up directly, we can use the `scipy.stats` module to do it for us! We just need to supply where we want the CDF evaluated ($x$), and the mean (the location parameter) and standard deviation (the scale parameter).\n",
    "\n",
    "Now, let's make the plot.\n",
    "\n",
    "1. Compute smooth curves for Normal CDFs. Use the `scipy.stats` module to make the curves. I am intentionally not telling you how to do this nor giving you a link to the docs. This will help you practice using Google to figure out how to use these tools.\n",
    "2. Overlay the ECDFs of the cross-sectional areas to give a graphical evaluation of the Normality of the data."
   ]
  },
  {
   "cell_type": "markdown",
   "metadata": {},
   "source": [
    "### Practice 4: solution"
   ]
  },
  {
   "cell_type": "code",
   "execution_count": 9,
   "metadata": {},
   "outputs": [
    {
     "data": {
      "text/html": [
       "\n",
       "\n",
       "\n",
       "\n",
       "\n",
       "\n",
       "  <div class=\"bk-root\" id=\"f26b669d-5766-47fb-ab2e-e9a038cd7eca\" data-root-id=\"1002\"></div>\n"
      ]
     },
     "metadata": {},
     "output_type": "display_data"
    },
    {
     "data": {
      "application/javascript": [
       "(function(root) {\n",
       "  function embed_document(root) {\n",
       "    \n",
       "  var docs_json = {\"21c48721-3d34-4057-9054-c543efe83fe0\":{\"roots\":{\"references\":[{\"attributes\":{\"below\":[{\"id\":\"1011\",\"type\":\"LinearAxis\"}],\"center\":[{\"id\":\"1015\",\"type\":\"Grid\"},{\"id\":\"1020\",\"type\":\"Grid\"},{\"id\":\"1061\",\"type\":\"Legend\"}],\"left\":[{\"id\":\"1016\",\"type\":\"LinearAxis\"}],\"plot_height\":250,\"plot_width\":350,\"renderers\":[{\"id\":\"1037\",\"type\":\"GlyphRenderer\"},{\"id\":\"1042\",\"type\":\"GlyphRenderer\"},{\"id\":\"1048\",\"type\":\"GlyphRenderer\"},{\"id\":\"1067\",\"type\":\"GlyphRenderer\"}],\"title\":{\"id\":\"1050\",\"type\":\"Title\"},\"toolbar\":{\"id\":\"1027\",\"type\":\"Toolbar\"},\"x_range\":{\"id\":\"1003\",\"type\":\"DataRange1d\"},\"x_scale\":{\"id\":\"1007\",\"type\":\"LinearScale\"},\"y_range\":{\"id\":\"1005\",\"type\":\"DataRange1d\"},\"y_scale\":{\"id\":\"1009\",\"type\":\"LinearScale\"}},\"id\":\"1002\",\"subtype\":\"Figure\",\"type\":\"Plot\"},{\"attributes\":{},\"id\":\"1022\",\"type\":\"WheelZoomTool\"},{\"attributes\":{},\"id\":\"1080\",\"type\":\"UnionRenderers\"},{\"attributes\":{},\"id\":\"1009\",\"type\":\"LinearScale\"},{\"attributes\":{\"overlay\":{\"id\":\"1056\",\"type\":\"BoxAnnotation\"}},\"id\":\"1023\",\"type\":\"BoxZoomTool\"},{\"attributes\":{},\"id\":\"1058\",\"type\":\"Selection\"},{\"attributes\":{},\"id\":\"1024\",\"type\":\"SaveTool\"},{\"attributes\":{\"fill_color\":{\"value\":\"#ff7f0e\"},\"line_color\":{\"value\":\"#ff7f0e\"},\"x\":{\"field\":\"area (sq. um)\"},\"y\":{\"field\":\"__ECDF\"}},\"id\":\"1065\",\"type\":\"Circle\"},{\"attributes\":{\"axis_label\":\"cross sectional area (\\u00b5m\\u00b2)\",\"formatter\":{\"id\":\"1052\",\"type\":\"BasicTickFormatter\"},\"ticker\":{\"id\":\"1012\",\"type\":\"BasicTicker\"}},\"id\":\"1011\",\"type\":\"LinearAxis\"},{\"attributes\":{\"callback\":null,\"data\":{\"__ECDF\":{\"__ndarray__\":\"FtNZTGcxzT8N5TWU11DePz+C+wjuI+g/H8F9BPcR3D9IcB/BfQTnP2cxncV0FuM/cB/BfQT30T9nMZ3FdBbTPwAAAAAAAPA/TGcxncV0xj86i+ksprPYP1VVVVVVVdU/BPcR3Edwzz9MZzGdxXTmP0xnMZ3FdNY/bCivobyG4j9wH8F9BPehP1FeQ3kN5eU/KK+hvIbyqj8W01lMZzHtP15DeQ3lNcQ/EtxHcB/B7T86i+ksprPoPyivobyG8ro/NpTXUF5D6T9eQ3kN5TXUPyivobyG8uo/H8F9BPcR7D9jOovpLKbjPyS4j+A+gus/KK+hvIby2j95DeU1lNfQP1VVVVVVVeU/cB/BfQT34T8xncV0FtPpP3AfwX0E97E/XkN5DeU15D9+BPcR3EfgP3UW01lMZ+E/Ce4juI/g7j8W01lMZzHdPwT3EdxHcN8/cB/BfQT3wT9wH8F9BPeRPxvKayivoew/BPcR3Edwvz9aTGcxncXkPzqL6Syms8g/Q3kN5TWU1z95DeU1lNfgPwT3EdxHcO8/LaazmM5i6j8or6G8hvLKP0N5DeU1lOc/MZ3FdBbT2T9MZzGdxXS2Pw3lNZTXUO4/\",\"dtype\":\"float64\",\"shape\":[57]},\"__label\":[\"low\",\"low\",\"low\",\"low\",\"low\",\"low\",\"low\",\"low\",\"low\",\"low\",\"low\",\"low\",\"low\",\"low\",\"low\",\"low\",\"low\",\"low\",\"low\",\"low\",\"low\",\"low\",\"low\",\"low\",\"low\",\"low\",\"low\",\"low\",\"low\",\"low\",\"low\",\"low\",\"low\",\"low\",\"low\",\"low\",\"low\",\"low\",\"low\",\"low\",\"low\",\"low\",\"low\",\"low\",\"low\",\"low\",\"low\",\"low\",\"low\",\"low\",\"low\",\"low\",\"low\",\"low\",\"low\",\"low\",\"low\"],\"__sort\":[0,0,0,0,0,0,0,0,0,0,0,0,0,0,0,0,0,0,0,0,0,0,0,0,0,0,0,0,0,0,0,0,0,0,0,0,0,0,0,0,0,0,0,0,0,0,0,0,0,0,0,0,0,0,0,0,0],\"area (sq. um)\":[1989,2113,2171,2106,2160,2139,2010,2021,2460,1951,2088,2030,2001,2160,2060,2133,1800,2158,1809,2280,1920,2290,2179,1890,2179,2021,2222,2252,2143,2252,2100,2009,2153,2130,2210,1832,2144,2121,2130,2361,2112,2114,1901,1711,2267,1900,2150,1969,2061,2121,2409,2212,1988,2169,2090,1840,2339],\"food\":[\"low\",\"low\",\"low\",\"low\",\"low\",\"low\",\"low\",\"low\",\"low\",\"low\",\"low\",\"low\",\"low\",\"low\",\"low\",\"low\",\"low\",\"low\",\"low\",\"low\",\"low\",\"low\",\"low\",\"low\",\"low\",\"low\",\"low\",\"low\",\"low\",\"low\",\"low\",\"low\",\"low\",\"low\",\"low\",\"low\",\"low\",\"low\",\"low\",\"low\",\"low\",\"low\",\"low\",\"low\",\"low\",\"low\",\"low\",\"low\",\"low\",\"low\",\"low\",\"low\",\"low\",\"low\",\"low\",\"low\",\"low\"],\"index\":[50,72,71,70,69,68,67,66,65,64,63,62,61,60,59,58,57,56,55,54,53,52,73,74,75,76,98,97,96,95,94,93,92,91,90,89,51,88,86,85,84,83,82,81,80,79,78,77,87,99,100,48,47,46,45,44,49]},\"selected\":{\"id\":\"1081\",\"type\":\"Selection\"},\"selection_policy\":{\"id\":\"1080\",\"type\":\"UnionRenderers\"}},\"id\":\"1044\",\"type\":\"ColumnDataSource\"},{\"attributes\":{},\"id\":\"1096\",\"type\":\"UnionRenderers\"},{\"attributes\":{},\"id\":\"1007\",\"type\":\"LinearScale\"},{\"attributes\":{},\"id\":\"1025\",\"type\":\"ResetTool\"},{\"attributes\":{\"source\":{\"id\":\"1063\",\"type\":\"ColumnDataSource\"}},\"id\":\"1068\",\"type\":\"CDSView\"},{\"attributes\":{\"data_source\":{\"id\":\"1063\",\"type\":\"ColumnDataSource\"},\"glyph\":{\"id\":\"1065\",\"type\":\"Circle\"},\"hover_glyph\":null,\"muted_glyph\":null,\"nonselection_glyph\":{\"id\":\"1066\",\"type\":\"Circle\"},\"selection_glyph\":null,\"view\":{\"id\":\"1068\",\"type\":\"CDSView\"}},\"id\":\"1067\",\"type\":\"GlyphRenderer\"},{\"attributes\":{\"text\":\"\"},\"id\":\"1050\",\"type\":\"Title\"},{\"attributes\":{},\"id\":\"1026\",\"type\":\"HelpTool\"},{\"attributes\":{\"callback\":null,\"data\":{\"x\":{\"__ndarray__\":\"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\",\"dtype\":\"float64\",\"shape\":[400]},\"y\":{\"__ndarray__\":\"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\",\"dtype\":\"float64\",\"shape\":[400]}},\"selected\":{\"id\":\"1058\",\"type\":\"Selection\"},\"selection_policy\":{\"id\":\"1057\",\"type\":\"UnionRenderers\"}},\"id\":\"1034\",\"type\":\"ColumnDataSource\"},{\"attributes\":{\"callback\":null,\"data\":{\"__ECDF\":{\"__ndarray__\":\"jC666KKL3j/poosuuujqP3TRRRdddOk/L7rooosu4j8XXXTRRRflP6OLLrroots/XXTRRRddxD900UUXXXThP1100UUXXew/6aKLLrro0j9ddNFFF13kP0YXXXTRRdc/uuiiiy664D8vuuiiiy7qPy+66KKLLto/jC666KKL7j+MLrrooovmPxdddNFFF90/0UUXXXTR7T+66KKLLrroP0YXXXTRRcc/L7rooosuyj8XXXTRRRe9P6OLLrroouM/RhdddNFF7z/RRRdddNHlPxdddNFFF+0/o4suuuii6z9GF1100UWnP3TRRRdddNE/XXTRRRdd1D+66KKLLrrYP0YXXXTRRec/AAAAAAAA8D8XXXTRRRfNP3TRRRdddLE/AAAAAAAA0D/RRRdddNHVP0YXXXTRRZc/AAAAAAAA6D/poosuuujiPwAAAAAAAOA/RhdddNFFtz900UUXXXTBPw==\",\"dtype\":\"float64\",\"shape\":[44]},\"__label\":[\"high\",\"high\",\"high\",\"high\",\"high\",\"high\",\"high\",\"high\",\"high\",\"high\",\"high\",\"high\",\"high\",\"high\",\"high\",\"high\",\"high\",\"high\",\"high\",\"high\",\"high\",\"high\",\"high\",\"high\",\"high\",\"high\",\"high\",\"high\",\"high\",\"high\",\"high\",\"high\",\"high\",\"high\",\"high\",\"high\",\"high\",\"high\",\"high\",\"high\",\"high\",\"high\",\"high\",\"high\"],\"__sort\":[1,1,1,1,1,1,1,1,1,1,1,1,1,1,1,1,1,1,1,1,1,1,1,1,1,1,1,1,1,1,1,1,1,1,1,1,1,1,1,1,1,1,1,1],\"area (sq. um)\":[1800,1930,1910,1821,1840,1787,1683,1809,1951,1731,1833,1751,1802,1912,1781,2091,1852,1792,2061,1892,1683,1692,1680,1828,2131,1851,2030,1930,1660,1721,1740,1752,1863,2141,1701,1661,1712,1749,1642,1882,1821,1800,1671,1683],\"food\":[\"high\",\"high\",\"high\",\"high\",\"high\",\"high\",\"high\",\"high\",\"high\",\"high\",\"high\",\"high\",\"high\",\"high\",\"high\",\"high\",\"high\",\"high\",\"high\",\"high\",\"high\",\"high\",\"high\",\"high\",\"high\",\"high\",\"high\",\"high\",\"high\",\"high\",\"high\",\"high\",\"high\",\"high\",\"high\",\"high\",\"high\",\"high\",\"high\",\"high\",\"high\",\"high\",\"high\",\"high\"],\"index\":[19,18,17,16,15,14,13,12,11,9,20,8,7,6,5,4,3,2,1,10,21,24,23,43,42,41,40,39,38,37,36,35,34,33,32,31,30,29,28,27,26,25,22,0]},\"selected\":{\"id\":\"1097\",\"type\":\"Selection\"},\"selection_policy\":{\"id\":\"1096\",\"type\":\"UnionRenderers\"}},\"id\":\"1063\",\"type\":\"ColumnDataSource\"},{\"attributes\":{\"active_drag\":\"auto\",\"active_inspect\":\"auto\",\"active_multi\":null,\"active_scroll\":\"auto\",\"active_tap\":\"auto\",\"tools\":[{\"id\":\"1021\",\"type\":\"PanTool\"},{\"id\":\"1022\",\"type\":\"WheelZoomTool\"},{\"id\":\"1023\",\"type\":\"BoxZoomTool\"},{\"id\":\"1024\",\"type\":\"SaveTool\"},{\"id\":\"1025\",\"type\":\"ResetTool\"},{\"id\":\"1026\",\"type\":\"HelpTool\"}]},\"id\":\"1027\",\"type\":\"Toolbar\"},{\"attributes\":{\"fill_alpha\":{\"value\":0.1},\"fill_color\":{\"value\":\"#1f77b4\"},\"line_alpha\":{\"value\":0.1},\"line_color\":{\"value\":\"#1f77b4\"},\"x\":{\"field\":\"area (sq. um)\"},\"y\":{\"field\":\"__ECDF\"}},\"id\":\"1066\",\"type\":\"Circle\"},{\"attributes\":{\"label\":{\"value\":\"low\"},\"renderers\":[{\"id\":\"1048\",\"type\":\"GlyphRenderer\"}]},\"id\":\"1062\",\"type\":\"LegendItem\"},{\"attributes\":{},\"id\":\"1012\",\"type\":\"BasicTicker\"},{\"attributes\":{\"source\":{\"id\":\"1034\",\"type\":\"ColumnDataSource\"}},\"id\":\"1038\",\"type\":\"CDSView\"},{\"attributes\":{\"fill_color\":{\"value\":\"#1f77b4\"},\"line_color\":{\"value\":\"#1f77b4\"},\"x\":{\"field\":\"area (sq. um)\"},\"y\":{\"field\":\"__ECDF\"}},\"id\":\"1046\",\"type\":\"Circle\"},{\"attributes\":{},\"id\":\"1081\",\"type\":\"Selection\"},{\"attributes\":{\"label\":{\"value\":\"high\"},\"renderers\":[{\"id\":\"1067\",\"type\":\"GlyphRenderer\"}]},\"id\":\"1082\",\"type\":\"LegendItem\"},{\"attributes\":{\"line_color\":\"#ff7f0e\",\"line_width\":2,\"x\":{\"field\":\"x\"},\"y\":{\"field\":\"y\"}},\"id\":\"1040\",\"type\":\"Line\"},{\"attributes\":{\"ticker\":{\"id\":\"1012\",\"type\":\"BasicTicker\"}},\"id\":\"1015\",\"type\":\"Grid\"},{\"attributes\":{},\"id\":\"1097\",\"type\":\"Selection\"},{\"attributes\":{\"callback\":null},\"id\":\"1003\",\"type\":\"DataRange1d\"},{\"attributes\":{\"source\":{\"id\":\"1044\",\"type\":\"ColumnDataSource\"}},\"id\":\"1049\",\"type\":\"CDSView\"},{\"attributes\":{\"dimension\":1,\"ticker\":{\"id\":\"1017\",\"type\":\"BasicTicker\"}},\"id\":\"1020\",\"type\":\"Grid\"},{\"attributes\":{\"line_alpha\":0.1,\"line_color\":\"#1f77b4\",\"line_width\":2,\"x\":{\"field\":\"x\"},\"y\":{\"field\":\"y\"}},\"id\":\"1041\",\"type\":\"Line\"},{\"attributes\":{\"data_source\":{\"id\":\"1044\",\"type\":\"ColumnDataSource\"},\"glyph\":{\"id\":\"1046\",\"type\":\"Circle\"},\"hover_glyph\":null,\"muted_glyph\":null,\"nonselection_glyph\":{\"id\":\"1047\",\"type\":\"Circle\"},\"selection_glyph\":null,\"view\":{\"id\":\"1049\",\"type\":\"CDSView\"}},\"id\":\"1048\",\"type\":\"GlyphRenderer\"},{\"attributes\":{\"click_policy\":\"hide\",\"items\":[{\"id\":\"1062\",\"type\":\"LegendItem\"},{\"id\":\"1082\",\"type\":\"LegendItem\"}],\"location\":\"bottom_right\",\"title\":\"food level\"},\"id\":\"1061\",\"type\":\"Legend\"},{\"attributes\":{\"axis_label\":\"CDF\",\"formatter\":{\"id\":\"1054\",\"type\":\"BasicTickFormatter\"},\"ticker\":{\"id\":\"1017\",\"type\":\"BasicTicker\"}},\"id\":\"1016\",\"type\":\"LinearAxis\"},{\"attributes\":{\"data_source\":{\"id\":\"1039\",\"type\":\"ColumnDataSource\"},\"glyph\":{\"id\":\"1040\",\"type\":\"Line\"},\"hover_glyph\":null,\"muted_glyph\":null,\"nonselection_glyph\":{\"id\":\"1041\",\"type\":\"Line\"},\"selection_glyph\":null,\"view\":{\"id\":\"1043\",\"type\":\"CDSView\"}},\"id\":\"1042\",\"type\":\"GlyphRenderer\"},{\"attributes\":{},\"id\":\"1052\",\"type\":\"BasicTickFormatter\"},{\"attributes\":{},\"id\":\"1017\",\"type\":\"BasicTicker\"},{\"attributes\":{\"line_alpha\":0.1,\"line_color\":\"#1f77b4\",\"line_width\":2,\"x\":{\"field\":\"x\"},\"y\":{\"field\":\"y\"}},\"id\":\"1036\",\"type\":\"Line\"},{\"attributes\":{\"source\":{\"id\":\"1039\",\"type\":\"ColumnDataSource\"}},\"id\":\"1043\",\"type\":\"CDSView\"},{\"attributes\":{},\"id\":\"1054\",\"type\":\"BasicTickFormatter\"},{\"attributes\":{\"data_source\":{\"id\":\"1034\",\"type\":\"ColumnDataSource\"},\"glyph\":{\"id\":\"1035\",\"type\":\"Line\"},\"hover_glyph\":null,\"muted_glyph\":null,\"nonselection_glyph\":{\"id\":\"1036\",\"type\":\"Line\"},\"selection_glyph\":null,\"view\":{\"id\":\"1038\",\"type\":\"CDSView\"}},\"id\":\"1037\",\"type\":\"GlyphRenderer\"},{\"attributes\":{\"bottom_units\":\"screen\",\"fill_alpha\":{\"value\":0.5},\"fill_color\":{\"value\":\"lightgrey\"},\"left_units\":\"screen\",\"level\":\"overlay\",\"line_alpha\":{\"value\":1.0},\"line_color\":{\"value\":\"black\"},\"line_dash\":[4,4],\"line_width\":{\"value\":2},\"render_mode\":\"css\",\"right_units\":\"screen\",\"top_units\":\"screen\"},\"id\":\"1056\",\"type\":\"BoxAnnotation\"},{\"attributes\":{\"line_color\":\"#1f77b4\",\"line_width\":2,\"x\":{\"field\":\"x\"},\"y\":{\"field\":\"y\"}},\"id\":\"1035\",\"type\":\"Line\"},{\"attributes\":{},\"id\":\"1059\",\"type\":\"UnionRenderers\"},{\"attributes\":{\"fill_alpha\":{\"value\":0.1},\"fill_color\":{\"value\":\"#1f77b4\"},\"line_alpha\":{\"value\":0.1},\"line_color\":{\"value\":\"#1f77b4\"},\"x\":{\"field\":\"area (sq. um)\"},\"y\":{\"field\":\"__ECDF\"}},\"id\":\"1047\",\"type\":\"Circle\"},{\"attributes\":{},\"id\":\"1057\",\"type\":\"UnionRenderers\"},{\"attributes\":{\"callback\":null,\"data\":{\"x\":{\"__ndarray__\":\"AAAAAABwl0CgmoFqBnqXQEE1A9UMhJdA4c+EPxOOl0CCagaqGZiXQCIFiBQgopdAwp8Jfyasl0BjOovpLLaXQAPVDFQzwJdApG+OvjnKl0BEChApQNSXQOSkkZNG3pdAhT8T/kzol0Al2pRoU/KXQMZ0FtNZ/JdAZg+YPWAGmEAGqhmoZhCYQKdEmxJtGphAR98cfXMkmEDoeZ7neS6YQIgUIFKAOJhAKK+hvIZCmEDJSSMnjUyYQGnkpJGTVphACn8m/JlgmECqGahmoGqYQEq0KdGmdJhA606rO61+mECL6Syms4iYQCyErhC6kphAzB4we8CcmEBsubHlxqaYQA1UM1DNsJhAre60utO6mEBOiTYl2sSYQO4juI/gzphAjr45+ubYmEAvWbtk7eKYQM/zPM/z7JhAcI6+Ofr2mEAQKUCkAAGZQLDDwQ4HC5lAUV5DeQ0VmUDx+MTjEx+ZQJKTRk4aKZlAMi7IuCAzmUDSyEkjJz2ZQHNjy40tR5lAE/5M+DNRmUC0mM5iOluZQFQzUM1AZZlA9M3RN0dvmUCVaFOiTXmZQDUD1QxUg5lA1p1Wd1qNmUB2ONjhYJeZQBbTWUxnoZlAt23btm2rmUBXCF0hdLWZQPii3ot6v5lAmD1g9oDJmUA42OFgh9OZQNlyY8uN3ZlAeQ3lNZTnmUAaqGagmvGZQLpC6Aqh+5lAWt1pdacFmkD7d+vfrQ+aQJsSbUq0GZpAPK3utLojmkDcR3AfwS2aQHzi8YnHN5pAHX1z9M1BmkC9F/Ve1EuaQF6ydsnaVZpA/kz4M+FfmkCe53me52maQD+C+wjuc5pA3xx9c/R9mkCAt/7d+oeaQCBSgEgBkppAwOwBswecmkBhh4MdDqaaQAEiBYgUsJpAoryG8hq6mkBCVwhdIcSaQOLxiccnzppAg4wLMi7YmkAjJ42cNOKaQMTBDgc77JpAZFyQcUH2mkAE9xHcRwCbQKWRk0ZOCptARSwVsVQUm0DmxpYbWx6bQIZhGIZhKJtAJvyZ8Gcym0DHlhtbbjybQGcxncV0RptACMweMHtQm0CoZqCagVqbQEgBIgWIZJtA6Zujb45um0CJNiXalHibQCrRpkSbgptAymsor6GMm0BqBqoZqJabQAuhK4SuoJtAqzut7rSqm0BM1i5Zu7SbQOxwsMPBvptAjAsyLsjIm0AtprOYztKbQM1ANQPV3JtAbtu2bdvmm0AOdjjY4fCbQK4QukLo+ptAT6s7re4EnEDvRb0X9Q6cQJDgPoL7GJxAMHvA7AEjnEDQFUJXCC2cQHGww8EON5xAEUtFLBVBnECy5caWG0ucQFKASAEiVZxA8hrKayhfnECTtUvWLmmcQDNQzUA1c5xA1OpOqzt9nEB0hdAVQoecQBQgUoBIkZxAtbrT6k6bnEBVVVVVVaWcQPbv1r9br5xAlopYKmK5nEA2JdqUaMOcQNe/W/9uzZxAd1rdaXXXnEAY9V7Ue+GcQLiP4D6C65xAWCpiqYj1nED5xOMTj/+cQJlfZX6VCZ1AOvrm6JsTnUDalGhToh2dQHov6r2oJ51AG8prKK8xnUC7ZO2StTudQFz/bv27RZ1A/JnwZ8JPnUCcNHLSyFmdQD3P8zzPY51A3Wl1p9VtnUB+BPcR3HedQB6feHzigZ1Avjn65uiLnUBf1HtR75WdQP9u/bv1n51AoAl/JvypnUBApACRArSdQOA+gvsIvp1AgdkDZg/InUAhdIXQFdKdQMIOBzsc3J1AYqmIpSLmnUACRAoQKfCdQKPei3ov+p1AQ3kN5TUEnkDkE49PPA6eQISuELpCGJ5AJEmSJEkinkDF4xOPTyyeQGV+lflVNp5ABhkXZFxAnkCms5jOYkqeQEZOGjlpVJ5A5+ibo29enkCHgx0OdmieQCgen3h8cp5AyLgg44J8nkBoU6JNiYaeQAnuI7iPkJ5AqYilIpaankBKIyeNnKSeQOq9qPeirp5AilgqYqm4nkAr86vMr8KeQMuNLTe2zJ5AbCivobzWnkAMwzAMw+CeQKxdsnbJ6p5ATfgz4c/0nkDtkrVL1v6eQI4tN7bcCJ9ALsi4IOMSn0DOYjqL6RyfQG/9u/XvJp9AD5g9YPYwn0CwMr/K/DqfQFDNQDUDRZ9A8GfCnwlPn0CRAkQKEFmfQDGdxXQWY59A0jdH3xxtn0By0shJI3efQBJtSrQpgZ9AswfMHjCLn0BUok2JNpWfQPQ8z/M8n59AlNdQXkOpn0A0ctLISbOfQNUMVDNQvZ9AdqfVnVbHn0AWQlcIXdGfQLbc2HJj259AVnda3Wnln0D3EdxHcO+fQJisXbJ2+Z9AnKNvjr4BoEDscLDDwQagQDw+8fjEC6BAjAsyLsgQoEDd2HJjyxWgQC2ms5jOGqBAfXP0zdEfoEDNQDUD1SSgQB4OdjjYKaBAbtu2bdsuoEC+qPei3jOgQA52ONjhOKBAXkN5DeU9oECuELpC6EKgQP/d+nfrR6BAT6s7re5MoECfeHzi8VGgQO9FvRf1VqBAQBP+TPhboECQ4D6C+2CgQOCtf7f+ZaBAMHvA7AFroECASAEiBXCgQNAVQlcIdaBAIeOCjAt6oEBxsMPBDn+gQMF9BPcRhKBAEUtFLBWJoEBiGIZhGI6gQLLlxpYbk6BAArMHzB6YoEBSgEgBIp2gQKJNiTYloqBA8hrKayinoEBD6AqhK6ygQJO1S9YusaBA44KMCzK2oEAzUM1ANbugQIQdDnY4wKBA1OpOqzvFoEAkuI/gPsqgQHSF0BVCz6BAxFIRS0XUoEAUIFKASNmgQGXtkrVL3qBAtbrT6k7joEAFiBQgUuigQFVVVVVV7aBApiKWiljyoED279a/W/egQEa9F/Ve/KBAlopYKmIBoUDmV5lfZQahQDYl2pRoC6FAh/IaymsQoUDXv1v/bhWhQCeNnDRyGqFAd1rdaXUfoUDIJx6feCShQBj1XtR7KaFAaMKfCX8uoUC4j+A+gjOhQAhdIXSFOKFAWCpiqYg9oUCp96Lei0KhQPnE4xOPR6FASZIkSZJMoUCZX2V+lVGhQOosprOYVqFAOvrm6JtboUCKxycen2ChQNqUaFOiZaFAKmKpiKVqoUB6L+q9qG+hQMv8KvOrdKFAG8prKK95oUBrl6xdsn6hQLtk7ZK1g6FADDIuyLiIoUBc/279u42hQKzMrzK/kqFA/JnwZ8KXoUBMZzGdxZyhQJw0ctLIoaFA7QGzB8ymoUA9z/M8z6uhQI2cNHLSsKFA3Wl1p9W1oUAuN7bc2LqhQH4E9xHcv6FAztE3R9/EoUAen3h84smhQG5subHlzqFAvjn65ujToUAPBzsc7NihQF/Ue1Hv3aFAr6G8hvLioUD/bv279eehQFA8PvH47KFAoAl/JvzxoUDw1r9b//ahQECkAJEC/KFAkHFBxgUBokDgPoL7CAaiQDEMwzAMC6JAgdkDZg8QokDRpkSbEhWiQCF0hdAVGqJAckHGBRkfokDCDgc7HCSiQBLcR3AfKaJAYqmIpSIuokCydsnaJTOiQAJEChApOKJAUxFLRSw9okCj3ot6L0KiQPOrzK8yR6JAQ3kN5TVMokCURk4aOVGiQOQTj088VqJANOHPhD9bokCErhC6QmCiQNR7Ue9FZaJAJEmSJElqokB1FtNZTG+iQMXjE49PdKJAFbFUxFJ5okBlfpX5VX6iQLZL1i5Zg6JABhkXZFyIokBW5leZX42iQKazmM5ikqJA9oDZA2aXokBGTho5aZyiQJcbW25soaJA5+ibo2+mokA3ttzYcquiQIeDHQ52sKJA2FBeQ3m1okAoHp94fLqiQHjr361/v6JAyLgg44LEokAYhmEYhsmiQGhTok2JzqJAuSDjgozTokAJ7iO4j9iiQFm7ZO2S3aJAqYilIpbiokD6VeZXmeeiQEojJ42c7KJAmvBnwp/xokDqvaj3ovaiQDqL6Sym+6JAilgqYqkAo0DbJWuXrAWjQCvzq8yvCqNAe8DsAbMPo0DLjS03thSjQBxbbmy5GaNAbCivobweo0C89e/WvyOjQAzDMAzDKKNAXJBxQcYto0CsXbJ2yTKjQP0q86vMN6NATfgz4c88o0CdxXQW00GjQO2StUvWRqNAPmD2gNlLo0COLTe23FCjQN76d+vfVaNALsi4IONao0B+lflV5l+jQM5iOovpZKNAHzB7wOxpo0Bv/bv1726jQL/K/Crzc6NAD5g9YPZ4o0BgZX6V+X2jQLAyv8r8gqNAAAAAAACIo0A=\",\"dtype\":\"float64\",\"shape\":[400]},\"y\":{\"__ndarray__\":\"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\",\"dtype\":\"float64\",\"shape\":[400]}},\"selected\":{\"id\":\"1060\",\"type\":\"Selection\"},\"selection_policy\":{\"id\":\"1059\",\"type\":\"UnionRenderers\"}},\"id\":\"1039\",\"type\":\"ColumnDataSource\"},{\"attributes\":{},\"id\":\"1060\",\"type\":\"Selection\"},{\"attributes\":{},\"id\":\"1021\",\"type\":\"PanTool\"},{\"attributes\":{\"callback\":null},\"id\":\"1005\",\"type\":\"DataRange1d\"}],\"root_ids\":[\"1002\"]},\"title\":\"Bokeh Application\",\"version\":\"1.2.0\"}};\n",
       "  var render_items = [{\"docid\":\"21c48721-3d34-4057-9054-c543efe83fe0\",\"roots\":{\"1002\":\"f26b669d-5766-47fb-ab2e-e9a038cd7eca\"}}];\n",
       "  root.Bokeh.embed.embed_items_notebook(docs_json, render_items);\n",
       "\n",
       "  }\n",
       "  if (root.Bokeh !== undefined) {\n",
       "    embed_document(root);\n",
       "  } else {\n",
       "    var attempts = 0;\n",
       "    var timer = setInterval(function(root) {\n",
       "      if (root.Bokeh !== undefined) {\n",
       "        embed_document(root);\n",
       "        clearInterval(timer);\n",
       "      }\n",
       "      attempts++;\n",
       "      if (attempts > 100) {\n",
       "        console.log(\"Bokeh: ERROR: Unable to run BokehJS code because BokehJS library is missing\");\n",
       "        clearInterval(timer);\n",
       "      }\n",
       "    }, 10, root)\n",
       "  }\n",
       "})(window);"
      ],
      "application/vnd.bokehjs_exec.v0+json": ""
     },
     "metadata": {
      "application/vnd.bokehjs_exec.v0+json": {
       "id": "1002"
      }
     },
     "output_type": "display_data"
    }
   ],
   "source": [
    "# Make smooth x-values\n",
    "x = np.linspace(1500, 2500, 400)\n",
    "\n",
    "# Compute theoretical Normal distributions\n",
    "cdf_low = scipy.stats.norm.cdf(x, loc=np.mean(xa_low), scale=np.std(xa_low))\n",
    "cdf_high = scipy.stats.norm.cdf(x, loc=np.mean(xa_high), scale=np.std(xa_high))\n",
    "\n",
    "# Color palette\n",
    "palette = bokeh.palettes.d3['Category10'][10]\n",
    "\n",
    "# Make a plot of the theoretical distributions\n",
    "p = bokeh.plotting.figure(\n",
    "    height=250,\n",
    "    width=350,\n",
    "    x_axis_label='cross sectional area (µm²)',\n",
    "    y_axis_label='CDF',\n",
    ")\n",
    "\n",
    "p.line(\n",
    "    x=x,\n",
    "    y=cdf_low,\n",
    "    color=palette[0],\n",
    "    line_width=2,\n",
    ")\n",
    "\n",
    "p.line(\n",
    "    x=x,\n",
    "    y=cdf_high,\n",
    "    color=palette[1],\n",
    "    line_width=2,\n",
    ")\n",
    "\n",
    "# Overlay ECDFs\n",
    "p = bokeh_catplot.ecdf(\n",
    "    data=df,\n",
    "    cats='food',\n",
    "    val='area (sq. um)',\n",
    "    order=['low', 'high'],\n",
    "    palette=palette,\n",
    "    p=p,\n",
    ")\n",
    "\n",
    "p.legend.title = 'food level'\n",
    "\n",
    "bokeh.io.show(p)"
   ]
  },
  {
   "cell_type": "markdown",
   "metadata": {},
   "source": [
    "<br />"
   ]
  },
  {
   "cell_type": "markdown",
   "metadata": {},
   "source": [
    "### A reminder about documentation\n",
    "\n",
    "It is important to note that I didn't just memorize how all of these functions work when I wrote these practice exercises. I looked at the online documentation.  For example, I looked at the [`scipy.stats.norm` documentation](http://docs.scipy.org/doc/scipy/reference/generated/scipy.stats.norm.html).  To find those links, I just Googled \"scipy.stats normal\".\n",
    "\n",
    "These packages are all very well documented, and those docs will be your guide.  You don't need to memorize (though you will eventually just by accident)."
   ]
  },
  {
   "cell_type": "markdown",
   "metadata": {},
   "source": [
    "## Computing environment"
   ]
  },
  {
   "cell_type": "code",
   "execution_count": 10,
   "metadata": {},
   "outputs": [
    {
     "name": "stdout",
     "output_type": "stream",
     "text": [
      "CPython 3.7.3\n",
      "IPython 7.1.1\n",
      "\n",
      "numpy 1.16.4\n",
      "scipy 1.2.1\n",
      "pandas 0.24.2\n",
      "bokeh 1.2.0\n",
      "bokeh_catplot 0.1.2\n",
      "jupyterlab 0.35.5\n"
     ]
    }
   ],
   "source": [
    "%load_ext watermark\n",
    "%watermark -v -p numpy,scipy,pandas,bokeh,bokeh_catplot,jupyterlab"
   ]
  }
 ],
 "metadata": {
  "anaconda-cloud": {},
  "kernelspec": {
   "display_name": "Python 3",
   "language": "python",
   "name": "python3"
  },
  "language_info": {
   "codemirror_mode": {
    "name": "ipython",
    "version": 3
   },
   "file_extension": ".py",
   "mimetype": "text/x-python",
   "name": "python",
   "nbconvert_exporter": "python",
   "pygments_lexer": "ipython3",
   "version": "3.7.3"
  }
 },
 "nbformat": 4,
 "nbformat_minor": 2
}
