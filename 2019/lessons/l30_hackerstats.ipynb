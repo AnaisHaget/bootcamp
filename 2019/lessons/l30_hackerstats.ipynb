{
 "cells": [
  {
   "cell_type": "markdown",
   "metadata": {},
   "source": [
    "# Lesson 30: Hacker statistics\n",
    "\n",
    "(c) 2019 Justin Bois. With the exception of pasted graphics, where the source is noted, this work is licensed under a [Creative Commons Attribution License CC-BY 4.0](https://creativecommons.org/licenses/by/4.0/). All code contained herein is licensed under an [MIT license](https://opensource.org/licenses/MIT).\n",
    "\n",
    "This document was prepared at [Caltech](http://www.caltech.edu) with financial support from the [Donna and Benjamin M. Rosen Bioengineering Center](http://rosen.caltech.edu).\n",
    "\n",
    "<img src=\"caltech_rosen.png\">\n",
    "\n",
    "*This tutorial was generated from a Jupyter notebook.  You can download the notebook [here](l30_hackerstats.ipynb).*\n",
    "\n",
    "<br /> <br />"
   ]
  },
  {
   "cell_type": "code",
   "execution_count": 1,
   "metadata": {
    "collapsed": true
   },
   "outputs": [
    {
     "data": {
      "text/html": [
       "\n",
       "    <div class=\"bk-root\">\n",
       "        <a href=\"https://bokeh.pydata.org\" target=\"_blank\" class=\"bk-logo bk-logo-small bk-logo-notebook\"></a>\n",
       "        <span id=\"1001\">Loading BokehJS ...</span>\n",
       "    </div>"
      ]
     },
     "metadata": {},
     "output_type": "display_data"
    },
    {
     "data": {
      "application/javascript": [
       "\n",
       "(function(root) {\n",
       "  function now() {\n",
       "    return new Date();\n",
       "  }\n",
       "\n",
       "  var force = true;\n",
       "\n",
       "  if (typeof root._bokeh_onload_callbacks === \"undefined\" || force === true) {\n",
       "    root._bokeh_onload_callbacks = [];\n",
       "    root._bokeh_is_loading = undefined;\n",
       "  }\n",
       "\n",
       "  var JS_MIME_TYPE = 'application/javascript';\n",
       "  var HTML_MIME_TYPE = 'text/html';\n",
       "  var EXEC_MIME_TYPE = 'application/vnd.bokehjs_exec.v0+json';\n",
       "  var CLASS_NAME = 'output_bokeh rendered_html';\n",
       "\n",
       "  /**\n",
       "   * Render data to the DOM node\n",
       "   */\n",
       "  function render(props, node) {\n",
       "    var script = document.createElement(\"script\");\n",
       "    node.appendChild(script);\n",
       "  }\n",
       "\n",
       "  /**\n",
       "   * Handle when an output is cleared or removed\n",
       "   */\n",
       "  function handleClearOutput(event, handle) {\n",
       "    var cell = handle.cell;\n",
       "\n",
       "    var id = cell.output_area._bokeh_element_id;\n",
       "    var server_id = cell.output_area._bokeh_server_id;\n",
       "    // Clean up Bokeh references\n",
       "    if (id != null && id in Bokeh.index) {\n",
       "      Bokeh.index[id].model.document.clear();\n",
       "      delete Bokeh.index[id];\n",
       "    }\n",
       "\n",
       "    if (server_id !== undefined) {\n",
       "      // Clean up Bokeh references\n",
       "      var cmd = \"from bokeh.io.state import curstate; print(curstate().uuid_to_server['\" + server_id + \"'].get_sessions()[0].document.roots[0]._id)\";\n",
       "      cell.notebook.kernel.execute(cmd, {\n",
       "        iopub: {\n",
       "          output: function(msg) {\n",
       "            var id = msg.content.text.trim();\n",
       "            if (id in Bokeh.index) {\n",
       "              Bokeh.index[id].model.document.clear();\n",
       "              delete Bokeh.index[id];\n",
       "            }\n",
       "          }\n",
       "        }\n",
       "      });\n",
       "      // Destroy server and session\n",
       "      var cmd = \"import bokeh.io.notebook as ion; ion.destroy_server('\" + server_id + \"')\";\n",
       "      cell.notebook.kernel.execute(cmd);\n",
       "    }\n",
       "  }\n",
       "\n",
       "  /**\n",
       "   * Handle when a new output is added\n",
       "   */\n",
       "  function handleAddOutput(event, handle) {\n",
       "    var output_area = handle.output_area;\n",
       "    var output = handle.output;\n",
       "\n",
       "    // limit handleAddOutput to display_data with EXEC_MIME_TYPE content only\n",
       "    if ((output.output_type != \"display_data\") || (!output.data.hasOwnProperty(EXEC_MIME_TYPE))) {\n",
       "      return\n",
       "    }\n",
       "\n",
       "    var toinsert = output_area.element.find(\".\" + CLASS_NAME.split(' ')[0]);\n",
       "\n",
       "    if (output.metadata[EXEC_MIME_TYPE][\"id\"] !== undefined) {\n",
       "      toinsert[toinsert.length - 1].firstChild.textContent = output.data[JS_MIME_TYPE];\n",
       "      // store reference to embed id on output_area\n",
       "      output_area._bokeh_element_id = output.metadata[EXEC_MIME_TYPE][\"id\"];\n",
       "    }\n",
       "    if (output.metadata[EXEC_MIME_TYPE][\"server_id\"] !== undefined) {\n",
       "      var bk_div = document.createElement(\"div\");\n",
       "      bk_div.innerHTML = output.data[HTML_MIME_TYPE];\n",
       "      var script_attrs = bk_div.children[0].attributes;\n",
       "      for (var i = 0; i < script_attrs.length; i++) {\n",
       "        toinsert[toinsert.length - 1].firstChild.setAttribute(script_attrs[i].name, script_attrs[i].value);\n",
       "      }\n",
       "      // store reference to server id on output_area\n",
       "      output_area._bokeh_server_id = output.metadata[EXEC_MIME_TYPE][\"server_id\"];\n",
       "    }\n",
       "  }\n",
       "\n",
       "  function register_renderer(events, OutputArea) {\n",
       "\n",
       "    function append_mime(data, metadata, element) {\n",
       "      // create a DOM node to render to\n",
       "      var toinsert = this.create_output_subarea(\n",
       "        metadata,\n",
       "        CLASS_NAME,\n",
       "        EXEC_MIME_TYPE\n",
       "      );\n",
       "      this.keyboard_manager.register_events(toinsert);\n",
       "      // Render to node\n",
       "      var props = {data: data, metadata: metadata[EXEC_MIME_TYPE]};\n",
       "      render(props, toinsert[toinsert.length - 1]);\n",
       "      element.append(toinsert);\n",
       "      return toinsert\n",
       "    }\n",
       "\n",
       "    /* Handle when an output is cleared or removed */\n",
       "    events.on('clear_output.CodeCell', handleClearOutput);\n",
       "    events.on('delete.Cell', handleClearOutput);\n",
       "\n",
       "    /* Handle when a new output is added */\n",
       "    events.on('output_added.OutputArea', handleAddOutput);\n",
       "\n",
       "    /**\n",
       "     * Register the mime type and append_mime function with output_area\n",
       "     */\n",
       "    OutputArea.prototype.register_mime_type(EXEC_MIME_TYPE, append_mime, {\n",
       "      /* Is output safe? */\n",
       "      safe: true,\n",
       "      /* Index of renderer in `output_area.display_order` */\n",
       "      index: 0\n",
       "    });\n",
       "  }\n",
       "\n",
       "  // register the mime type if in Jupyter Notebook environment and previously unregistered\n",
       "  if (root.Jupyter !== undefined) {\n",
       "    var events = require('base/js/events');\n",
       "    var OutputArea = require('notebook/js/outputarea').OutputArea;\n",
       "\n",
       "    if (OutputArea.prototype.mime_types().indexOf(EXEC_MIME_TYPE) == -1) {\n",
       "      register_renderer(events, OutputArea);\n",
       "    }\n",
       "  }\n",
       "\n",
       "  \n",
       "  if (typeof (root._bokeh_timeout) === \"undefined\" || force === true) {\n",
       "    root._bokeh_timeout = Date.now() + 5000;\n",
       "    root._bokeh_failed_load = false;\n",
       "  }\n",
       "\n",
       "  var NB_LOAD_WARNING = {'data': {'text/html':\n",
       "     \"<div style='background-color: #fdd'>\\n\"+\n",
       "     \"<p>\\n\"+\n",
       "     \"BokehJS does not appear to have successfully loaded. If loading BokehJS from CDN, this \\n\"+\n",
       "     \"may be due to a slow or bad network connection. Possible fixes:\\n\"+\n",
       "     \"</p>\\n\"+\n",
       "     \"<ul>\\n\"+\n",
       "     \"<li>re-rerun `output_notebook()` to attempt to load from CDN again, or</li>\\n\"+\n",
       "     \"<li>use INLINE resources instead, as so:</li>\\n\"+\n",
       "     \"</ul>\\n\"+\n",
       "     \"<code>\\n\"+\n",
       "     \"from bokeh.resources import INLINE\\n\"+\n",
       "     \"output_notebook(resources=INLINE)\\n\"+\n",
       "     \"</code>\\n\"+\n",
       "     \"</div>\"}};\n",
       "\n",
       "  function display_loaded() {\n",
       "    var el = document.getElementById(\"1001\");\n",
       "    if (el != null) {\n",
       "      el.textContent = \"BokehJS is loading...\";\n",
       "    }\n",
       "    if (root.Bokeh !== undefined) {\n",
       "      if (el != null) {\n",
       "        el.textContent = \"BokehJS \" + root.Bokeh.version + \" successfully loaded.\";\n",
       "      }\n",
       "    } else if (Date.now() < root._bokeh_timeout) {\n",
       "      setTimeout(display_loaded, 100)\n",
       "    }\n",
       "  }\n",
       "\n",
       "\n",
       "  function run_callbacks() {\n",
       "    try {\n",
       "      root._bokeh_onload_callbacks.forEach(function(callback) {\n",
       "        if (callback != null)\n",
       "          callback();\n",
       "      });\n",
       "    } finally {\n",
       "      delete root._bokeh_onload_callbacks\n",
       "    }\n",
       "    console.debug(\"Bokeh: all callbacks have finished\");\n",
       "  }\n",
       "\n",
       "  function load_libs(css_urls, js_urls, callback) {\n",
       "    if (css_urls == null) css_urls = [];\n",
       "    if (js_urls == null) js_urls = [];\n",
       "\n",
       "    root._bokeh_onload_callbacks.push(callback);\n",
       "    if (root._bokeh_is_loading > 0) {\n",
       "      console.debug(\"Bokeh: BokehJS is being loaded, scheduling callback at\", now());\n",
       "      return null;\n",
       "    }\n",
       "    if (js_urls == null || js_urls.length === 0) {\n",
       "      run_callbacks();\n",
       "      return null;\n",
       "    }\n",
       "    console.debug(\"Bokeh: BokehJS not loaded, scheduling load and callback at\", now());\n",
       "    root._bokeh_is_loading = css_urls.length + js_urls.length;\n",
       "\n",
       "    function on_load() {\n",
       "      root._bokeh_is_loading--;\n",
       "      if (root._bokeh_is_loading === 0) {\n",
       "        console.debug(\"Bokeh: all BokehJS libraries/stylesheets loaded\");\n",
       "        run_callbacks()\n",
       "      }\n",
       "    }\n",
       "\n",
       "    function on_error() {\n",
       "      console.error(\"failed to load \" + url);\n",
       "    }\n",
       "\n",
       "    for (var i = 0; i < css_urls.length; i++) {\n",
       "      var url = css_urls[i];\n",
       "      const element = document.createElement(\"link\");\n",
       "      element.onload = on_load;\n",
       "      element.onerror = on_error;\n",
       "      element.rel = \"stylesheet\";\n",
       "      element.type = \"text/css\";\n",
       "      element.href = url;\n",
       "      console.debug(\"Bokeh: injecting link tag for BokehJS stylesheet: \", url);\n",
       "      document.body.appendChild(element);\n",
       "    }\n",
       "\n",
       "    for (var i = 0; i < js_urls.length; i++) {\n",
       "      var url = js_urls[i];\n",
       "      var element = document.createElement('script');\n",
       "      element.onload = on_load;\n",
       "      element.onerror = on_error;\n",
       "      element.async = false;\n",
       "      element.src = url;\n",
       "      console.debug(\"Bokeh: injecting script tag for BokehJS library: \", url);\n",
       "      document.head.appendChild(element);\n",
       "    }\n",
       "  };var element = document.getElementById(\"1001\");\n",
       "  if (element == null) {\n",
       "    console.error(\"Bokeh: ERROR: autoload.js configured with elementid '1001' but no matching script tag was found. \")\n",
       "    return false;\n",
       "  }\n",
       "\n",
       "  function inject_raw_css(css) {\n",
       "    const element = document.createElement(\"style\");\n",
       "    element.appendChild(document.createTextNode(css));\n",
       "    document.body.appendChild(element);\n",
       "  }\n",
       "\n",
       "  var js_urls = [\"https://cdn.pydata.org/bokeh/release/bokeh-1.2.0.min.js\", \"https://cdn.pydata.org/bokeh/release/bokeh-widgets-1.2.0.min.js\", \"https://cdn.pydata.org/bokeh/release/bokeh-tables-1.2.0.min.js\", \"https://cdn.pydata.org/bokeh/release/bokeh-gl-1.2.0.min.js\"];\n",
       "  var css_urls = [\"https://cdn.pydata.org/bokeh/release/bokeh-1.2.0.min.css\", \"https://cdn.pydata.org/bokeh/release/bokeh-widgets-1.2.0.min.css\", \"https://cdn.pydata.org/bokeh/release/bokeh-tables-1.2.0.min.css\"];\n",
       "\n",
       "  var inline_js = [\n",
       "    function(Bokeh) {\n",
       "      Bokeh.set_log_level(\"info\");\n",
       "    },\n",
       "    \n",
       "    function(Bokeh) {\n",
       "      \n",
       "    },\n",
       "    function(Bokeh) {} // ensure no trailing comma for IE\n",
       "  ];\n",
       "\n",
       "  function run_inline_js() {\n",
       "    \n",
       "    if ((root.Bokeh !== undefined) || (force === true)) {\n",
       "      for (var i = 0; i < inline_js.length; i++) {\n",
       "        inline_js[i].call(root, root.Bokeh);\n",
       "      }if (force === true) {\n",
       "        display_loaded();\n",
       "      }} else if (Date.now() < root._bokeh_timeout) {\n",
       "      setTimeout(run_inline_js, 100);\n",
       "    } else if (!root._bokeh_failed_load) {\n",
       "      console.log(\"Bokeh: BokehJS failed to load within specified timeout.\");\n",
       "      root._bokeh_failed_load = true;\n",
       "    } else if (force !== true) {\n",
       "      var cell = $(document.getElementById(\"1001\")).parents('.cell').data().cell;\n",
       "      cell.output_area.append_execute_result(NB_LOAD_WARNING)\n",
       "    }\n",
       "\n",
       "  }\n",
       "\n",
       "  if (root._bokeh_is_loading === 0) {\n",
       "    console.debug(\"Bokeh: BokehJS loaded, going straight to plotting\");\n",
       "    run_inline_js();\n",
       "  } else {\n",
       "    load_libs(css_urls, js_urls, function() {\n",
       "      console.debug(\"Bokeh: BokehJS plotting callback run at\", now());\n",
       "      run_inline_js();\n",
       "    });\n",
       "  }\n",
       "}(window));"
      ],
      "application/vnd.bokehjs_load.v0+json": "\n(function(root) {\n  function now() {\n    return new Date();\n  }\n\n  var force = true;\n\n  if (typeof root._bokeh_onload_callbacks === \"undefined\" || force === true) {\n    root._bokeh_onload_callbacks = [];\n    root._bokeh_is_loading = undefined;\n  }\n\n  \n\n  \n  if (typeof (root._bokeh_timeout) === \"undefined\" || force === true) {\n    root._bokeh_timeout = Date.now() + 5000;\n    root._bokeh_failed_load = false;\n  }\n\n  var NB_LOAD_WARNING = {'data': {'text/html':\n     \"<div style='background-color: #fdd'>\\n\"+\n     \"<p>\\n\"+\n     \"BokehJS does not appear to have successfully loaded. If loading BokehJS from CDN, this \\n\"+\n     \"may be due to a slow or bad network connection. Possible fixes:\\n\"+\n     \"</p>\\n\"+\n     \"<ul>\\n\"+\n     \"<li>re-rerun `output_notebook()` to attempt to load from CDN again, or</li>\\n\"+\n     \"<li>use INLINE resources instead, as so:</li>\\n\"+\n     \"</ul>\\n\"+\n     \"<code>\\n\"+\n     \"from bokeh.resources import INLINE\\n\"+\n     \"output_notebook(resources=INLINE)\\n\"+\n     \"</code>\\n\"+\n     \"</div>\"}};\n\n  function display_loaded() {\n    var el = document.getElementById(\"1001\");\n    if (el != null) {\n      el.textContent = \"BokehJS is loading...\";\n    }\n    if (root.Bokeh !== undefined) {\n      if (el != null) {\n        el.textContent = \"BokehJS \" + root.Bokeh.version + \" successfully loaded.\";\n      }\n    } else if (Date.now() < root._bokeh_timeout) {\n      setTimeout(display_loaded, 100)\n    }\n  }\n\n\n  function run_callbacks() {\n    try {\n      root._bokeh_onload_callbacks.forEach(function(callback) {\n        if (callback != null)\n          callback();\n      });\n    } finally {\n      delete root._bokeh_onload_callbacks\n    }\n    console.debug(\"Bokeh: all callbacks have finished\");\n  }\n\n  function load_libs(css_urls, js_urls, callback) {\n    if (css_urls == null) css_urls = [];\n    if (js_urls == null) js_urls = [];\n\n    root._bokeh_onload_callbacks.push(callback);\n    if (root._bokeh_is_loading > 0) {\n      console.debug(\"Bokeh: BokehJS is being loaded, scheduling callback at\", now());\n      return null;\n    }\n    if (js_urls == null || js_urls.length === 0) {\n      run_callbacks();\n      return null;\n    }\n    console.debug(\"Bokeh: BokehJS not loaded, scheduling load and callback at\", now());\n    root._bokeh_is_loading = css_urls.length + js_urls.length;\n\n    function on_load() {\n      root._bokeh_is_loading--;\n      if (root._bokeh_is_loading === 0) {\n        console.debug(\"Bokeh: all BokehJS libraries/stylesheets loaded\");\n        run_callbacks()\n      }\n    }\n\n    function on_error() {\n      console.error(\"failed to load \" + url);\n    }\n\n    for (var i = 0; i < css_urls.length; i++) {\n      var url = css_urls[i];\n      const element = document.createElement(\"link\");\n      element.onload = on_load;\n      element.onerror = on_error;\n      element.rel = \"stylesheet\";\n      element.type = \"text/css\";\n      element.href = url;\n      console.debug(\"Bokeh: injecting link tag for BokehJS stylesheet: \", url);\n      document.body.appendChild(element);\n    }\n\n    for (var i = 0; i < js_urls.length; i++) {\n      var url = js_urls[i];\n      var element = document.createElement('script');\n      element.onload = on_load;\n      element.onerror = on_error;\n      element.async = false;\n      element.src = url;\n      console.debug(\"Bokeh: injecting script tag for BokehJS library: \", url);\n      document.head.appendChild(element);\n    }\n  };var element = document.getElementById(\"1001\");\n  if (element == null) {\n    console.error(\"Bokeh: ERROR: autoload.js configured with elementid '1001' but no matching script tag was found. \")\n    return false;\n  }\n\n  function inject_raw_css(css) {\n    const element = document.createElement(\"style\");\n    element.appendChild(document.createTextNode(css));\n    document.body.appendChild(element);\n  }\n\n  var js_urls = [\"https://cdn.pydata.org/bokeh/release/bokeh-1.2.0.min.js\", \"https://cdn.pydata.org/bokeh/release/bokeh-widgets-1.2.0.min.js\", \"https://cdn.pydata.org/bokeh/release/bokeh-tables-1.2.0.min.js\", \"https://cdn.pydata.org/bokeh/release/bokeh-gl-1.2.0.min.js\"];\n  var css_urls = [\"https://cdn.pydata.org/bokeh/release/bokeh-1.2.0.min.css\", \"https://cdn.pydata.org/bokeh/release/bokeh-widgets-1.2.0.min.css\", \"https://cdn.pydata.org/bokeh/release/bokeh-tables-1.2.0.min.css\"];\n\n  var inline_js = [\n    function(Bokeh) {\n      Bokeh.set_log_level(\"info\");\n    },\n    \n    function(Bokeh) {\n      \n    },\n    function(Bokeh) {} // ensure no trailing comma for IE\n  ];\n\n  function run_inline_js() {\n    \n    if ((root.Bokeh !== undefined) || (force === true)) {\n      for (var i = 0; i < inline_js.length; i++) {\n        inline_js[i].call(root, root.Bokeh);\n      }if (force === true) {\n        display_loaded();\n      }} else if (Date.now() < root._bokeh_timeout) {\n      setTimeout(run_inline_js, 100);\n    } else if (!root._bokeh_failed_load) {\n      console.log(\"Bokeh: BokehJS failed to load within specified timeout.\");\n      root._bokeh_failed_load = true;\n    } else if (force !== true) {\n      var cell = $(document.getElementById(\"1001\")).parents('.cell').data().cell;\n      cell.output_area.append_execute_result(NB_LOAD_WARNING)\n    }\n\n  }\n\n  if (root._bokeh_is_loading === 0) {\n    console.debug(\"Bokeh: BokehJS loaded, going straight to plotting\");\n    run_inline_js();\n  } else {\n    load_libs(css_urls, js_urls, function() {\n      console.debug(\"Bokeh: BokehJS plotting callback run at\", now());\n      run_inline_js();\n    });\n  }\n}(window));"
     },
     "metadata": {},
     "output_type": "display_data"
    }
   ],
   "source": [
    "import numpy as np\n",
    "import pandas as pd\n",
    "\n",
    "import bokeh_catplot\n",
    "\n",
    "import bokeh.io\n",
    "import bokeh.plotting\n",
    "\n",
    "bokeh.io.output_notebook()"
   ]
  },
  {
   "cell_type": "markdown",
   "metadata": {},
   "source": [
    "<hr />\n",
    "\n",
    "When the field of statistics was in its early days, the practitioners did not have computers. They were therefore left to use pen and paper to compute things like confidence intervals. Despite their toils, you will soon see that with just a little bit of programming experience, you can perform lots of the statistical analyses that may seem baffling when done with pen and paper.\n",
    "\n",
    "At the heart of this \"hacker statistics\" is the ability to draw random numbers. We will focus on **bootstrap** methods in particular.\n",
    "\n",
    "To motivate this study, we will work with data measured by Peter and Rosemary Grant on the island of Daphne Major on the Galápagos. They have been going to the island every year for over forty years and have been taking a careful inventory of the finches there. We will look at the finch *Geospiza scandens*. The Grants measured the depths of the beaks (defined as the top-to-bottom thickness of the beak) of all of the finches of this species on the island. We will consider their measurements from 1975 and from 2012. We will investigate how the beaks got deeper over time.\n",
    "\n",
    "The data are from the book Grants' book *40 years of evolution: Darwin's finches on Daphne Major Island*](http://www.worldcat.org/oclc/854285415). They were generous and made their data publicly available on the [Dryad data repository](http://dx.doi.org/10.5061/dryad.g6g3h). In general, it is a very good idea to put your published data in public data repositories, both to preserve the data and also to make your findings public.\n",
    "\n",
    "Ok, let's start by loading in the data. You converted the Grants' data into a single DataFrame in [exercise 3](../l23_exercise_3_solution). Let's load the data, which are available in the file `~/git/bootcamp/data/grant_complete.csv`."
   ]
  },
  {
   "cell_type": "code",
   "execution_count": 2,
   "metadata": {
    "collapsed": true
   },
   "outputs": [
    {
     "data": {
      "text/html": [
       "<div>\n",
       "<style scoped>\n",
       "    .dataframe tbody tr th:only-of-type {\n",
       "        vertical-align: middle;\n",
       "    }\n",
       "\n",
       "    .dataframe tbody tr th {\n",
       "        vertical-align: top;\n",
       "    }\n",
       "\n",
       "    .dataframe thead th {\n",
       "        text-align: right;\n",
       "    }\n",
       "</style>\n",
       "<table border=\"1\" class=\"dataframe\">\n",
       "  <thead>\n",
       "    <tr style=\"text-align: right;\">\n",
       "      <th></th>\n",
       "      <th>band</th>\n",
       "      <th>beak depth (mm)</th>\n",
       "      <th>beak length (mm)</th>\n",
       "      <th>species</th>\n",
       "      <th>year</th>\n",
       "    </tr>\n",
       "  </thead>\n",
       "  <tbody>\n",
       "    <tr>\n",
       "      <th>0</th>\n",
       "      <td>20123</td>\n",
       "      <td>8.05</td>\n",
       "      <td>9.25</td>\n",
       "      <td>fortis</td>\n",
       "      <td>1973</td>\n",
       "    </tr>\n",
       "    <tr>\n",
       "      <th>1</th>\n",
       "      <td>20126</td>\n",
       "      <td>10.45</td>\n",
       "      <td>11.35</td>\n",
       "      <td>fortis</td>\n",
       "      <td>1973</td>\n",
       "    </tr>\n",
       "    <tr>\n",
       "      <th>2</th>\n",
       "      <td>20128</td>\n",
       "      <td>9.55</td>\n",
       "      <td>10.15</td>\n",
       "      <td>fortis</td>\n",
       "      <td>1973</td>\n",
       "    </tr>\n",
       "    <tr>\n",
       "      <th>3</th>\n",
       "      <td>20129</td>\n",
       "      <td>8.75</td>\n",
       "      <td>9.95</td>\n",
       "      <td>fortis</td>\n",
       "      <td>1973</td>\n",
       "    </tr>\n",
       "    <tr>\n",
       "      <th>4</th>\n",
       "      <td>20133</td>\n",
       "      <td>10.15</td>\n",
       "      <td>11.55</td>\n",
       "      <td>fortis</td>\n",
       "      <td>1973</td>\n",
       "    </tr>\n",
       "  </tbody>\n",
       "</table>\n",
       "</div>"
      ],
      "text/plain": [
       "    band  beak depth (mm)  beak length (mm) species  year\n",
       "0  20123             8.05              9.25  fortis  1973\n",
       "1  20126            10.45             11.35  fortis  1973\n",
       "2  20128             9.55             10.15  fortis  1973\n",
       "3  20129             8.75              9.95  fortis  1973\n",
       "4  20133            10.15             11.55  fortis  1973"
      ]
     },
     "execution_count": 2,
     "metadata": {},
     "output_type": "execute_result"
    }
   ],
   "source": [
    "df = pd.read_csv('data/grant_complete.csv', comment='#')\n",
    "\n",
    "df.head()"
   ]
  },
  {
   "cell_type": "markdown",
   "metadata": {},
   "source": [
    "Let's trim down the `DataFrame` to only include *G. scandens* from 1975 and 2012 and only include the columns we need."
   ]
  },
  {
   "cell_type": "code",
   "execution_count": 3,
   "metadata": {},
   "outputs": [],
   "source": [
    "df = df.loc[(df['species']=='scandens') & (df['year'].isin([1975, 2012])),\n",
    "            ['year', 'beak depth (mm)']]"
   ]
  },
  {
   "cell_type": "markdown",
   "metadata": {},
   "source": [
    "Let's take a look at the ECDFs for these two years."
   ]
  },
  {
   "cell_type": "code",
   "execution_count": 4,
   "metadata": {},
   "outputs": [
    {
     "data": {
      "text/html": [
       "\n",
       "\n",
       "\n",
       "\n",
       "\n",
       "\n",
       "  <div class=\"bk-root\" id=\"04a4be8e-1e37-4535-95f2-e3a6402fb3bd\" data-root-id=\"1002\"></div>\n"
      ]
     },
     "metadata": {},
     "output_type": "display_data"
    },
    {
     "data": {
      "application/javascript": [
       "(function(root) {\n",
       "  function embed_document(root) {\n",
       "    \n",
       "  var docs_json = {\"09551fdd-eaba-4a72-ac01-8ff218524fdc\":{\"roots\":{\"references\":[{\"attributes\":{\"below\":[{\"id\":\"1011\",\"type\":\"LinearAxis\"}],\"center\":[{\"id\":\"1015\",\"type\":\"Grid\"},{\"id\":\"1020\",\"type\":\"Grid\"},{\"id\":\"1047\",\"type\":\"Legend\"}],\"left\":[{\"id\":\"1016\",\"type\":\"LinearAxis\"}],\"plot_height\":300,\"plot_width\":400,\"renderers\":[{\"id\":\"1038\",\"type\":\"GlyphRenderer\"},{\"id\":\"1053\",\"type\":\"GlyphRenderer\"}],\"title\":{\"id\":\"1041\",\"type\":\"Title\"},\"toolbar\":{\"id\":\"1027\",\"type\":\"Toolbar\"},\"x_range\":{\"id\":\"1003\",\"type\":\"DataRange1d\"},\"x_scale\":{\"id\":\"1007\",\"type\":\"LinearScale\"},\"y_range\":{\"id\":\"1005\",\"type\":\"DataRange1d\"},\"y_scale\":{\"id\":\"1009\",\"type\":\"LinearScale\"}},\"id\":\"1002\",\"subtype\":\"Figure\",\"type\":\"Plot\"},{\"attributes\":{},\"id\":\"1007\",\"type\":\"LinearScale\"},{\"attributes\":{\"overlay\":{\"id\":\"1046\",\"type\":\"BoxAnnotation\"}},\"id\":\"1023\",\"type\":\"BoxZoomTool\"},{\"attributes\":{},\"id\":\"1073\",\"type\":\"Selection\"},{\"attributes\":{\"axis_label\":\"beak depth (mm)\",\"formatter\":{\"id\":\"1045\",\"type\":\"BasicTickFormatter\"},\"ticker\":{\"id\":\"1012\",\"type\":\"BasicTicker\"}},\"id\":\"1011\",\"type\":\"LinearAxis\"},{\"attributes\":{\"data_source\":{\"id\":\"1034\",\"type\":\"ColumnDataSource\"},\"glyph\":{\"id\":\"1036\",\"type\":\"Circle\"},\"hover_glyph\":null,\"muted_glyph\":null,\"nonselection_glyph\":{\"id\":\"1037\",\"type\":\"Circle\"},\"selection_glyph\":null,\"view\":{\"id\":\"1039\",\"type\":\"CDSView\"}},\"id\":\"1038\",\"type\":\"GlyphRenderer\"},{\"attributes\":{\"fill_color\":{\"value\":\"#f28e2b\"},\"line_color\":{\"value\":\"#f28e2b\"},\"x\":{\"field\":\"beak depth (mm)\"},\"y\":{\"field\":\"__ECDF\"}},\"id\":\"1051\",\"type\":\"Circle\"},{\"attributes\":{},\"id\":\"1012\",\"type\":\"BasicTicker\"},{\"attributes\":{},\"id\":\"1009\",\"type\":\"LinearScale\"},{\"attributes\":{\"source\":{\"id\":\"1034\",\"type\":\"ColumnDataSource\"}},\"id\":\"1039\",\"type\":\"CDSView\"},{\"attributes\":{\"fill_alpha\":{\"value\":0.1},\"fill_color\":{\"value\":\"#1f77b4\"},\"line_alpha\":{\"value\":0.1},\"line_color\":{\"value\":\"#1f77b4\"},\"x\":{\"field\":\"beak depth (mm)\"},\"y\":{\"field\":\"__ECDF\"}},\"id\":\"1037\",\"type\":\"Circle\"},{\"attributes\":{\"fill_color\":{\"value\":\"#4e79a7\"},\"line_color\":{\"value\":\"#4e79a7\"},\"x\":{\"field\":\"beak depth (mm)\"},\"y\":{\"field\":\"__ECDF\"}},\"id\":\"1036\",\"type\":\"Circle\"},{\"attributes\":{\"axis_label\":\"ECDF\",\"formatter\":{\"id\":\"1043\",\"type\":\"BasicTickFormatter\"},\"ticker\":{\"id\":\"1017\",\"type\":\"BasicTicker\"}},\"id\":\"1016\",\"type\":\"LinearAxis\"},{\"attributes\":{\"text\":\"\"},\"id\":\"1041\",\"type\":\"Title\"},{\"attributes\":{},\"id\":\"1017\",\"type\":\"BasicTicker\"},{\"attributes\":{},\"id\":\"1043\",\"type\":\"BasicTickFormatter\"},{\"attributes\":{\"dimension\":1,\"ticker\":{\"id\":\"1017\",\"type\":\"BasicTicker\"}},\"id\":\"1020\",\"type\":\"Grid\"},{\"attributes\":{},\"id\":\"1045\",\"type\":\"BasicTickFormatter\"},{\"attributes\":{},\"id\":\"1074\",\"type\":\"UnionRenderers\"},{\"attributes\":{\"bottom_units\":\"screen\",\"fill_alpha\":{\"value\":0.5},\"fill_color\":{\"value\":\"lightgrey\"},\"left_units\":\"screen\",\"level\":\"overlay\",\"line_alpha\":{\"value\":1.0},\"line_color\":{\"value\":\"black\"},\"line_dash\":[4,4],\"line_width\":{\"value\":2},\"render_mode\":\"css\",\"right_units\":\"screen\",\"top_units\":\"screen\"},\"id\":\"1046\",\"type\":\"BoxAnnotation\"},{\"attributes\":{\"click_policy\":\"hide\",\"items\":[{\"id\":\"1048\",\"type\":\"LegendItem\"},{\"id\":\"1064\",\"type\":\"LegendItem\"}],\"location\":\"bottom_right\"},\"id\":\"1047\",\"type\":\"Legend\"},{\"attributes\":{\"callback\":null,\"data\":{\"__ECDF\":{\"__ndarray__\":\"L5BJ8QKZxD8VL5BJ8QLZP3waYbmnEcY/yKR4gUyKlz/IpHiBTIqHP9QIyz2NsNw/cLYO/Wbr0D9huacRlnvKP/rN1qHfbN0/dug3W4d+4z+WexphuafRP/rN1qHfbO0/lnsaYbmnsT9K8QKZFC/gP0EmxQtkUuw/vEAmxQtk0j8vkEnxApm0P93TCMs9jeA/yKR4gUyKxz/jBTIpXiDTPyCT4gUyKd4/Ccs9jbDc4z9huacRlnu6P3waYbmnEdY/h36zdeg36z+uQ7/ZOvTLP5ytQ7/ZOuQ/cLYO/Wbr4D+i32wd+s3mPyCT4gUyKe4/Ccs9jbDc0z81wnJPIyznPxUvkEnxAsk/R1juaYTl3j/6zdah32zNP20d+s3Woe8/GmG5pxGW6z8vkEnxApnkP+5phOWeRug/gUyKF8ik6D879JutQ7/ZP/rN1qHfbL0/YbmnEZZ72j/Cck8jLPfkP7N16Ddbh+4/bR36zdah3z/IpHiBTIrnP0dY7mmE5c4/2jr0m61D7z9HWO5phOXuP1uHfrN16Oc/1AjLPY2w7D9VVVVVVVXlP0rxApkUL9A/yKR4gUyKtz8DmRQvkEnhPxUvkEnxAuk/lnsaYbmnoT/oN1uHfrPlP/rN1qHfbK0/SvECmRQvwD+i32wd+s3WP4d+s3XoN9s/L5BJ8QKZ1D/IpHiBTIrXP8ikeIFMiqc/rkO/2Tr02z+WexphuafhP3waYbmnEeY/Z+vQb7YO7T8P/Wbr0G/mP42w3NMIy+0/AAAAAAAA8D+WexphuafBP6gRlnsaYek/vEAmxQtk4j8pXiCT4gXiP08jLPc0wuI/rkO/2Tr06z879JutQ7/pP1VVVVVVVdU/ztah32wd6j9huacRlnvqP+MFMileIOM/7mmE5Z5G2D/0m61Dv9nqP+MFMileIMM/\",\"dtype\":\"float64\",\"shape\":[87]},\"__label\":[\"1975\",\"1975\",\"1975\",\"1975\",\"1975\",\"1975\",\"1975\",\"1975\",\"1975\",\"1975\",\"1975\",\"1975\",\"1975\",\"1975\",\"1975\",\"1975\",\"1975\",\"1975\",\"1975\",\"1975\",\"1975\",\"1975\",\"1975\",\"1975\",\"1975\",\"1975\",\"1975\",\"1975\",\"1975\",\"1975\",\"1975\",\"1975\",\"1975\",\"1975\",\"1975\",\"1975\",\"1975\",\"1975\",\"1975\",\"1975\",\"1975\",\"1975\",\"1975\",\"1975\",\"1975\",\"1975\",\"1975\",\"1975\",\"1975\",\"1975\",\"1975\",\"1975\",\"1975\",\"1975\",\"1975\",\"1975\",\"1975\",\"1975\",\"1975\",\"1975\",\"1975\",\"1975\",\"1975\",\"1975\",\"1975\",\"1975\",\"1975\",\"1975\",\"1975\",\"1975\",\"1975\",\"1975\",\"1975\",\"1975\",\"1975\",\"1975\",\"1975\",\"1975\",\"1975\",\"1975\",\"1975\",\"1975\",\"1975\",\"1975\",\"1975\",\"1975\",\"1975\"],\"beak depth (mm)\":{\"__ndarray__\":\"zczMzMzMIECamZmZmZkhQM3MzMzMzCBAAAAAAAAAIECamZmZmZkfQM3MzMzMzCFAMzMzMzMzIUAAAAAAAAAhQM3MzMzMzCFAMzMzMzMzIkAzMzMzMzMhQJqZmZmZmSNAZmZmZmZmIEAAAAAAAAAiQGZmZmZmZiNAMzMzMzMzIUBmZmZmZmYgQAAAAAAAACJAzczMzMzMIEAzMzMzMzMhQM3MzMzMzCFAMzMzMzMzIkCamZmZmZkgQGZmZmZmZiFAMzMzMzMzI0AAAAAAAAAhQDMzMzMzMyJAAAAAAAAAIkBmZmZmZmYiQM3MzMzMzCNAMzMzMzMzIUBmZmZmZmYiQM3MzMzMzCBAzczMzMzMIUAAAAAAAAAhQM3MzMzMzCRAMzMzMzMzI0AzMzMzMzMiQJqZmZmZmSJAmpmZmZmZIkCamZmZmZkhQJqZmZmZmSBAmpmZmZmZIUAzMzMzMzMiQDMzMzMzMyRAzczMzMzMIUBmZmZmZmYiQAAAAAAAACFAZmZmZmZmJEAzMzMzMzMkQGZmZmZmZiJAZmZmZmZmI0AzMzMzMzMiQAAAAAAAACFAZmZmZmZmIEAAAAAAAAAiQJqZmZmZmSJAAAAAAAAAIEAzMzMzMzMiQDMzMzMzMyBAmpmZmZmZIEBmZmZmZmYhQJqZmZmZmSFAMzMzMzMzIUBmZmZmZmYhQAAAAAAAACBAmpmZmZmZIUAAAAAAAAAiQDMzMzMzMyJAexSuR+F6I0AzMzMzMzMiQJqZmZmZmSNAzczMzMzMJECamZmZmZkgQOF6FK5H4SJAFK5H4XoUIkAAAAAAAAAiQJqZmZmZGSJAzczMzMxMI0BmZmZmZuYiQM3MzMzMTCFAZmZmZmbmIkBmZmZmZuYiQJqZmZmZGSJAAAAAAACAIUBmZmZmZuYiQDMzMzMzsyBA\",\"dtype\":\"float64\",\"shape\":[87]},\"index\":[401,402,403,404,405,406,407,408,409,410,411,412,413,414,415,416,417,418,419,420,421,422,423,424,425,426,427,428,429,430,431,432,433,434,435,436,437,438,439,440,441,442,443,444,445,446,447,448,449,450,451,452,453,454,455,456,457,458,459,460,461,462,463,464,465,466,467,468,469,470,471,472,473,474,475,476,477,478,479,480,481,482,483,484,485,486,487],\"year\":[1975,1975,1975,1975,1975,1975,1975,1975,1975,1975,1975,1975,1975,1975,1975,1975,1975,1975,1975,1975,1975,1975,1975,1975,1975,1975,1975,1975,1975,1975,1975,1975,1975,1975,1975,1975,1975,1975,1975,1975,1975,1975,1975,1975,1975,1975,1975,1975,1975,1975,1975,1975,1975,1975,1975,1975,1975,1975,1975,1975,1975,1975,1975,1975,1975,1975,1975,1975,1975,1975,1975,1975,1975,1975,1975,1975,1975,1975,1975,1975,1975,1975,1975,1975,1975,1975,1975]},\"selected\":{\"id\":\"1061\",\"type\":\"Selection\"},\"selection_policy\":{\"id\":\"1062\",\"type\":\"UnionRenderers\"}},\"id\":\"1034\",\"type\":\"ColumnDataSource\"},{\"attributes\":{\"label\":{\"value\":\"1975\"},\"renderers\":[{\"id\":\"1038\",\"type\":\"GlyphRenderer\"}]},\"id\":\"1048\",\"type\":\"LegendItem\"},{\"attributes\":{},\"id\":\"1021\",\"type\":\"PanTool\"},{\"attributes\":{\"data_source\":{\"id\":\"1049\",\"type\":\"ColumnDataSource\"},\"glyph\":{\"id\":\"1051\",\"type\":\"Circle\"},\"hover_glyph\":null,\"muted_glyph\":null,\"nonselection_glyph\":{\"id\":\"1052\",\"type\":\"Circle\"},\"selection_glyph\":null,\"view\":{\"id\":\"1054\",\"type\":\"CDSView\"}},\"id\":\"1053\",\"type\":\"GlyphRenderer\"},{\"attributes\":{\"callback\":null,\"data\":{\"__ECDF\":{\"__ndarray__\":\"wzAMwzAM4z9FURRFURTlPwAAAAAAAPA/mqZpmqZpyj8cx3Ecx3G8P/y+7/u+79s/27Zt27Ztyz9d13Vd13XtP/h93/d93+c/kiRJkiRJ0j/f933f933PP1VVVVVVVeU/3/d93/d93z8YhmEYhmHYP2qapmmapuk/MQzDMAzD4D85juM4juPYP27btm3btu0/EARBEARBgD9ZlmVZlmXZP2ZZlmVZluU/0zRN0zRN4z8URVEURVGkP7Msy7Isy9I/5DiO4ziO4z92Xdd1XdflPxiGYRiGYag/DMMwDMMw7D/4fd/3fd/XPxRFURRFUbQ/EARBEARB0D8AAAAAAADgP/Q8z/M8z+M/hmEYhmEY5j8QBEEQBEGwP5ZlWZZlWeY/nud5nud5vj9BEARBEAThP1EURVEUReE/CIIgCIIg6D8QBEEQBEHgPxzHcRzHcew/0zRN0zRN0z+v67qu67ruP/Q8z/M8z9M/GIZhGIZhyD8xDMMwDMPQP7/v+77v+94/p2mapmma5j8cx3Ecx3HcP37f933f9+0/EARBEARBwD8ty7Isy7LsP47jOI7jOO4/YhiGYRiG4T/w+77v+77vPxiGYRiGYbg/GIZhGIZhmD96nud5nufpPxAEQRAEQaA/FEVRFEVR1D8QBEEQBEGQPzVN0zRN09Q/BEEQBEEQ5D8URVEURVHkPxRFURRFUcQ/VVVVVVVVxT8YhmEYhmHoP57neZ7nee4/URRFURRF0T+3bdu2bdvmP3Icx3Ecx+E/ep7neZ7n2T8hCIIgCILgPxzHcRzHccw/mqZpmqZp2j89z/M8z/PcP13XdV3Xdc0/JUmSJEmS5D+KoiiKoijqP1mWZVmWZck/z/M8z/M87z+7ruu6ruvaP8dxHMdxHOc/kiRJkiRJsj+CIAiCIAjiPymKoiiKoug/lmVZlmVZxj+WZVmWZVm2PxzHcRzHcaw/13Vd13Vd5z9JkiRJkiTpP+y6ruu6rus/Xdd1Xdd13T/oeZ7neZ7nP5qmaZqmaeo/URRFURRFwT+apmmapmm6PzmO4ziO4+g/NU3TNE3T5D89z/M8z/PsP1VVVVVVVdU/ft/3fd/33T+rqqqqqqrqP5IkSZIkSeI//L7v+77v6z92Xdd1XdfVP9d1Xdd1Xcc/3/d93/d97z+jKIqiKIriP5ZlWZZlWdY/t23btm3b1j9ZlmVZlmXpP7uu67qu6+o/v+/7vu/77j+SJEmSJEnCP03TNE3TNO0/27Zt27Zt2z+e53me53nOP3Icx3Ecx9E/0zRN0zRNwz+zLMuyLMviP8uyLMuyLOs/13Vd13Vd1z/btm3btm3rP57neZ7ned4/\",\"dtype\":\"float64\",\"shape\":[126]},\"__label\":[\"2012\",\"2012\",\"2012\",\"2012\",\"2012\",\"2012\",\"2012\",\"2012\",\"2012\",\"2012\",\"2012\",\"2012\",\"2012\",\"2012\",\"2012\",\"2012\",\"2012\",\"2012\",\"2012\",\"2012\",\"2012\",\"2012\",\"2012\",\"2012\",\"2012\",\"2012\",\"2012\",\"2012\",\"2012\",\"2012\",\"2012\",\"2012\",\"2012\",\"2012\",\"2012\",\"2012\",\"2012\",\"2012\",\"2012\",\"2012\",\"2012\",\"2012\",\"2012\",\"2012\",\"2012\",\"2012\",\"2012\",\"2012\",\"2012\",\"2012\",\"2012\",\"2012\",\"2012\",\"2012\",\"2012\",\"2012\",\"2012\",\"2012\",\"2012\",\"2012\",\"2012\",\"2012\",\"2012\",\"2012\",\"2012\",\"2012\",\"2012\",\"2012\",\"2012\",\"2012\",\"2012\",\"2012\",\"2012\",\"2012\",\"2012\",\"2012\",\"2012\",\"2012\",\"2012\",\"2012\",\"2012\",\"2012\",\"2012\",\"2012\",\"2012\",\"2012\",\"2012\",\"2012\",\"2012\",\"2012\",\"2012\",\"2012\",\"2012\",\"2012\",\"2012\",\"2012\",\"2012\",\"2012\",\"2012\",\"2012\",\"2012\",\"2012\",\"2012\",\"2012\",\"2012\",\"2012\",\"2012\",\"2012\",\"2012\",\"2012\",\"2012\",\"2012\",\"2012\",\"2012\",\"2012\",\"2012\",\"2012\",\"2012\",\"2012\",\"2012\",\"2012\",\"2012\",\"2012\",\"2012\",\"2012\",\"2012\"],\"beak depth (mm)\":{\"__ndarray__\":\"zczMzMzMIkAAAAAAAAAjQAAAAAAAACZAZmZmZmZmIUDNzMzMzMwgQDMzMzMzMyJAZmZmZmZmIUBmZmZmZmYkQDMzMzMzMyNAMzMzMzOzIUCamZmZmZkhQAAAAAAAACNAZmZmZmZmIkAAAAAAAAAiQJqZmZmZmSNAmpmZmZmZIkAAAAAAAAAiQGZmZmZmZiRAzczMzMzMHkAAAAAAAAAiQAAAAAAAACNAzczMzMzMIkAAAAAAAAAgQM3MzMzMzCFAzczMzMzMIkAAAAAAAAAjQAAAAAAAACBAAAAAAAAAJEBmZmZmZuYhQGZmZmZmZiBAmpmZmZmZIUBmZmZmZmYiQM3MzMzMzCJAAAAAAAAAI0AzMzMzMzMgQAAAAAAAACNAzczMzMzMIECamZmZmZkiQJqZmZmZmSJAMzMzMzMzI0BmZmZmZmYiQAAAAAAAACRAzczMzMzMIUAAAAAAAAAlQM3MzMzMzCFAMzMzMzMzIUCamZmZmZkhQM3MzMzMTCJAAAAAAAAAI0AzMzMzMzMiQGZmZmZmZiRAzczMzMzMIEAAAAAAAAAkQGZmZmZmZiRAmpmZmZmZIkCamZmZmZklQJqZmZmZmSBAMzMzMzMzH0CamZmZmZkjQJqZmZmZmR9AzczMzMzMIUDNzMzMzMweQM3MzMzMzCFAzczMzMzMIkDNzMzMzMwiQAAAAAAAACFAAAAAAAAAIUAzMzMzMzMjQGZmZmZmZiRAmpmZmZmZIUAAAAAAAAAjQJqZmZmZmSJAAAAAAAAAIkBmZmZmZmYiQGZmZmZmZiFAAAAAAAAAIkAzMzMzMzMiQGZmZmZmZiFAzczMzMzMIkCamZmZmZkjQDMzMzMzMyFAMzMzMzMzJUAAAAAAAAAiQAAAAAAAACNAMzMzMzMzIECamZmZmZkiQDMzMzMzMyNAAAAAAAAAIUBmZmZmZmYgQAAAAAAAACBAAAAAAAAAI0BmZmZmZmYjQM3MzMzMzCNAMzMzMzMzIkAAAAAAAAAjQJqZmZmZmSNAzczMzMzMIECamZmZmZkgQDMzMzMzMyNAzczMzMzMIkAAAAAAAAAkQM3MzMzMzCFAMzMzMzMzIkCamZmZmZkjQJqZmZmZmSJAzczMzMzMI0DNzMzMzMwhQAAAAAAAACFAMzMzMzMzJUCamZmZmZkiQM3MzMzMzCFAzczMzMzMIUBmZmZmZmYjQJqZmZmZmSNAAAAAAAAAJUDNzMzMzMwgQAAAAAAAACRAAAAAAAAAIkBmZmZmZmYhQJqZmZmZmSFAzczMzMzMIECamZmZmZkiQJqZmZmZmSNAzczMzMzMIUCamZmZmZkjQDMzMzMzMyJA\",\"dtype\":\"float64\",\"shape\":[126]},\"index\":[2173,2174,2175,2176,2177,2178,2179,2180,2181,2182,2183,2184,2185,2186,2187,2188,2189,2190,2191,2192,2193,2194,2195,2196,2197,2198,2199,2200,2201,2202,2203,2204,2205,2206,2207,2208,2209,2210,2211,2212,2213,2214,2215,2216,2217,2218,2219,2220,2221,2222,2223,2224,2225,2226,2227,2228,2229,2230,2231,2232,2233,2234,2235,2236,2237,2238,2239,2240,2241,2242,2243,2244,2245,2246,2247,2248,2249,2250,2251,2252,2253,2254,2255,2256,2257,2258,2259,2260,2261,2262,2263,2264,2265,2266,2267,2268,2269,2270,2271,2272,2273,2274,2275,2276,2277,2278,2279,2280,2281,2282,2283,2284,2285,2286,2287,2288,2289,2290,2291,2292,2293,2294,2295,2296,2297,2298],\"year\":[2012,2012,2012,2012,2012,2012,2012,2012,2012,2012,2012,2012,2012,2012,2012,2012,2012,2012,2012,2012,2012,2012,2012,2012,2012,2012,2012,2012,2012,2012,2012,2012,2012,2012,2012,2012,2012,2012,2012,2012,2012,2012,2012,2012,2012,2012,2012,2012,2012,2012,2012,2012,2012,2012,2012,2012,2012,2012,2012,2012,2012,2012,2012,2012,2012,2012,2012,2012,2012,2012,2012,2012,2012,2012,2012,2012,2012,2012,2012,2012,2012,2012,2012,2012,2012,2012,2012,2012,2012,2012,2012,2012,2012,2012,2012,2012,2012,2012,2012,2012,2012,2012,2012,2012,2012,2012,2012,2012,2012,2012,2012,2012,2012,2012,2012,2012,2012,2012,2012,2012,2012,2012,2012,2012,2012,2012]},\"selected\":{\"id\":\"1073\",\"type\":\"Selection\"},\"selection_policy\":{\"id\":\"1074\",\"type\":\"UnionRenderers\"}},\"id\":\"1049\",\"type\":\"ColumnDataSource\"},{\"attributes\":{},\"id\":\"1024\",\"type\":\"SaveTool\"},{\"attributes\":{},\"id\":\"1025\",\"type\":\"ResetTool\"},{\"attributes\":{},\"id\":\"1026\",\"type\":\"HelpTool\"},{\"attributes\":{\"fill_alpha\":{\"value\":0.1},\"fill_color\":{\"value\":\"#1f77b4\"},\"line_alpha\":{\"value\":0.1},\"line_color\":{\"value\":\"#1f77b4\"},\"x\":{\"field\":\"beak depth (mm)\"},\"y\":{\"field\":\"__ECDF\"}},\"id\":\"1052\",\"type\":\"Circle\"},{\"attributes\":{\"active_drag\":\"auto\",\"active_inspect\":\"auto\",\"active_multi\":null,\"active_scroll\":\"auto\",\"active_tap\":\"auto\",\"tools\":[{\"id\":\"1021\",\"type\":\"PanTool\"},{\"id\":\"1022\",\"type\":\"WheelZoomTool\"},{\"id\":\"1023\",\"type\":\"BoxZoomTool\"},{\"id\":\"1024\",\"type\":\"SaveTool\"},{\"id\":\"1025\",\"type\":\"ResetTool\"},{\"id\":\"1026\",\"type\":\"HelpTool\"}]},\"id\":\"1027\",\"type\":\"Toolbar\"},{\"attributes\":{\"source\":{\"id\":\"1049\",\"type\":\"ColumnDataSource\"}},\"id\":\"1054\",\"type\":\"CDSView\"},{\"attributes\":{},\"id\":\"1061\",\"type\":\"Selection\"},{\"attributes\":{\"callback\":null},\"id\":\"1003\",\"type\":\"DataRange1d\"},{\"attributes\":{\"ticker\":{\"id\":\"1012\",\"type\":\"BasicTicker\"}},\"id\":\"1015\",\"type\":\"Grid\"},{\"attributes\":{},\"id\":\"1022\",\"type\":\"WheelZoomTool\"},{\"attributes\":{},\"id\":\"1062\",\"type\":\"UnionRenderers\"},{\"attributes\":{\"callback\":null},\"id\":\"1005\",\"type\":\"DataRange1d\"},{\"attributes\":{\"label\":{\"value\":\"2012\"},\"renderers\":[{\"id\":\"1053\",\"type\":\"GlyphRenderer\"}]},\"id\":\"1064\",\"type\":\"LegendItem\"}],\"root_ids\":[\"1002\"]},\"title\":\"Bokeh Application\",\"version\":\"1.2.0\"}};\n",
       "  var render_items = [{\"docid\":\"09551fdd-eaba-4a72-ac01-8ff218524fdc\",\"roots\":{\"1002\":\"04a4be8e-1e37-4535-95f2-e3a6402fb3bd\"}}];\n",
       "  root.Bokeh.embed.embed_items_notebook(docs_json, render_items);\n",
       "\n",
       "  }\n",
       "  if (root.Bokeh !== undefined) {\n",
       "    embed_document(root);\n",
       "  } else {\n",
       "    var attempts = 0;\n",
       "    var timer = setInterval(function(root) {\n",
       "      if (root.Bokeh !== undefined) {\n",
       "        embed_document(root);\n",
       "        clearInterval(timer);\n",
       "      }\n",
       "      attempts++;\n",
       "      if (attempts > 100) {\n",
       "        console.log(\"Bokeh: ERROR: Unable to run BokehJS code because BokehJS library is missing\");\n",
       "        clearInterval(timer);\n",
       "      }\n",
       "    }, 10, root)\n",
       "  }\n",
       "})(window);"
      ],
      "application/vnd.bokehjs_exec.v0+json": ""
     },
     "metadata": {
      "application/vnd.bokehjs_exec.v0+json": {
       "id": "1002"
      }
     },
     "output_type": "display_data"
    }
   ],
   "source": [
    "p = bokeh_catplot.ecdf(\n",
    "    data=df,\n",
    "    cats='year',\n",
    "    val='beak depth (mm)',\n",
    ")\n",
    "\n",
    "bokeh.io.show(p)"
   ]
  },
  {
   "cell_type": "markdown",
   "metadata": {},
   "source": [
    "Judging from the ECDFs, it seems as though beaks have gotten deeper over time. But now, we would like a *statistic* to compare. One statistic that comes to mind it the mean. So, let's compare those. First, we'll pull out the data sets as NumPy arrays for convenience (and speed later on when we start doing bootstrap replicates)."
   ]
  },
  {
   "cell_type": "code",
   "execution_count": 5,
   "metadata": {},
   "outputs": [
    {
     "data": {
      "text/plain": [
       "(8.959999999999999, 9.188492063492063)"
      ]
     },
     "execution_count": 5,
     "metadata": {},
     "output_type": "execute_result"
    }
   ],
   "source": [
    "bd_1975 = df.loc[df['year']==1975, 'beak depth (mm)'].values\n",
    "bd_2012 = df.loc[df['year']==2012, 'beak depth (mm)'].values\n",
    "\n",
    "np.mean(bd_1975), np.mean(bd_2012)"
   ]
  },
  {
   "cell_type": "markdown",
   "metadata": {},
   "source": [
    "So, indeed, the mean beak depth is bigger in 2012 than in 1975. There is clearly some variability in beak depth among the birds measured each year, so it is possible that this observation is just due to random chance and the mean beak depth is really not that big. So, we would like to compute a *confidence interval* of the mean. We will compute the 95% confidence interval.\n",
    "\n",
    "What is a 95% confidence interval? It can be thought of as follows. If we were to repeat the experiment over and over and over again, 95% of the time, the observed mean would lie in the 95% confidence interval. So, if the confidence intervals of the means of measurements from 1975 and from 2012 overlapped, we might not be so sure that the beaks got deeper due to some underlying selective pressure, but that we just happened to *observe* deeper beaks as a result of natural variability.\n",
    "\n",
    "So, how do we compute a confidence interval? ....We use our computer!"
   ]
  },
  {
   "cell_type": "markdown",
   "metadata": {},
   "source": [
    "## Bootstrap confidence intervals\n",
    "\n",
    "The notion of the bootstrap was first published by Brad Efron in 1979. The idea is simple, and we will take the fact that it works as a given; Efron proved it for us. \n",
    "\n",
    "Here's the idea: If we could somehow repeat the measurements of the beak depths on Daphne Major, we could do it many many times, and we could then just compute the 2.5th and 97.5th percentiles to get a 95% confidence interval. The problem is, we can't repeat the experiments over and over again. 1975 only happened once, and all birds on the island were measured. We cannot have 1975 happen again under exactly the same conditions. \n",
    "\n",
    "Instead, we will have our computer *simulate* doing the experiment over and over again. Hacker statistics! We have one set of measurements. We \"repeat\" the experiment by drawing measurements out of the ones we have again and again. Here's what we do to compute a bootstrap estimate of the mean of a set of $n$ data points.\n",
    ">1. Draw n data points out of the original data set *with replacement*. This set of data points is called a **bootstrap sample**.\n",
    "2. Compute the mean of the bootstrap sample. This is called a **bootstrap replicate** of the mean.\n",
    "3. Do this over and over again, storing the results.\n",
    "\n",
    "So, it is as if we did the experiment over and over again, obtaining a mean each time. Remember, our bootstrap sample has exactly the same number of \"measurements\" as the original data set. Let's try it with the `bd_1975` data (remember the mean beak depth was 8.96 mm). First we'll generate a bootstrap sample. Remember, the function `np.random.choice()` allows us to sample out of an array with replacement, if we like."
   ]
  },
  {
   "cell_type": "code",
   "execution_count": 6,
   "metadata": {
    "collapsed": true
   },
   "outputs": [],
   "source": [
    "np.random.seed(42)\n",
    "bs_sample = np.random.choice(bd_1975, replace=True, size=len(bd_1975))"
   ]
  },
  {
   "cell_type": "markdown",
   "metadata": {},
   "source": [
    "Let's take a quick look at this bootstrap sample by plotting its ECDF right next to that of the original data set."
   ]
  },
  {
   "cell_type": "code",
   "execution_count": 7,
   "metadata": {},
   "outputs": [
    {
     "data": {
      "text/html": [
       "\n",
       "\n",
       "\n",
       "\n",
       "\n",
       "\n",
       "  <div class=\"bk-root\" id=\"c9495c4d-2621-40e6-8f5e-f5bd16281fef\" data-root-id=\"1142\"></div>\n"
      ]
     },
     "metadata": {},
     "output_type": "display_data"
    },
    {
     "data": {
      "application/javascript": [
       "(function(root) {\n",
       "  function embed_document(root) {\n",
       "    \n",
       "  var docs_json = {\"dd3cf863-dec2-409a-bd8b-b80abe5ca437\":{\"roots\":{\"references\":[{\"attributes\":{\"below\":[{\"id\":\"1151\",\"type\":\"LinearAxis\"}],\"center\":[{\"id\":\"1155\",\"type\":\"Grid\"},{\"id\":\"1160\",\"type\":\"Grid\"},{\"id\":\"1187\",\"type\":\"Legend\"}],\"left\":[{\"id\":\"1156\",\"type\":\"LinearAxis\"}],\"plot_height\":300,\"plot_width\":400,\"renderers\":[{\"id\":\"1178\",\"type\":\"GlyphRenderer\"},{\"id\":\"1193\",\"type\":\"GlyphRenderer\"}],\"title\":{\"id\":\"1181\",\"type\":\"Title\"},\"toolbar\":{\"id\":\"1167\",\"type\":\"Toolbar\"},\"x_range\":{\"id\":\"1143\",\"type\":\"DataRange1d\"},\"x_scale\":{\"id\":\"1147\",\"type\":\"LinearScale\"},\"y_range\":{\"id\":\"1145\",\"type\":\"DataRange1d\"},\"y_scale\":{\"id\":\"1149\",\"type\":\"LinearScale\"}},\"id\":\"1142\",\"subtype\":\"Figure\",\"type\":\"Plot\"},{\"attributes\":{\"data_source\":{\"id\":\"1189\",\"type\":\"ColumnDataSource\"},\"glyph\":{\"id\":\"1191\",\"type\":\"Circle\"},\"hover_glyph\":null,\"muted_glyph\":null,\"nonselection_glyph\":{\"id\":\"1192\",\"type\":\"Circle\"},\"selection_glyph\":null,\"view\":{\"id\":\"1194\",\"type\":\"CDSView\"}},\"id\":\"1193\",\"type\":\"GlyphRenderer\"},{\"attributes\":{},\"id\":\"1161\",\"type\":\"PanTool\"},{\"attributes\":{\"data_source\":{\"id\":\"1174\",\"type\":\"ColumnDataSource\"},\"glyph\":{\"id\":\"1176\",\"type\":\"Circle\"},\"hover_glyph\":null,\"muted_glyph\":null,\"nonselection_glyph\":{\"id\":\"1177\",\"type\":\"Circle\"},\"selection_glyph\":null,\"view\":{\"id\":\"1179\",\"type\":\"CDSView\"}},\"id\":\"1178\",\"type\":\"GlyphRenderer\"},{\"attributes\":{},\"id\":\"1147\",\"type\":\"LinearScale\"},{\"attributes\":{},\"id\":\"1149\",\"type\":\"LinearScale\"},{\"attributes\":{},\"id\":\"1162\",\"type\":\"WheelZoomTool\"},{\"attributes\":{},\"id\":\"1201\",\"type\":\"Selection\"},{\"attributes\":{},\"id\":\"1202\",\"type\":\"UnionRenderers\"},{\"attributes\":{},\"id\":\"1164\",\"type\":\"SaveTool\"},{\"attributes\":{\"source\":{\"id\":\"1189\",\"type\":\"ColumnDataSource\"}},\"id\":\"1194\",\"type\":\"CDSView\"},{\"attributes\":{\"overlay\":{\"id\":\"1186\",\"type\":\"BoxAnnotation\"}},\"id\":\"1163\",\"type\":\"BoxZoomTool\"},{\"attributes\":{},\"id\":\"1165\",\"type\":\"ResetTool\"},{\"attributes\":{\"fill_color\":{\"value\":\"#4e79a7\"},\"line_color\":{\"value\":\"#4e79a7\"},\"x\":{\"field\":\"beak depth (mm)\"},\"y\":{\"field\":\"__ECDF\"}},\"id\":\"1176\",\"type\":\"Circle\"},{\"attributes\":{},\"id\":\"1166\",\"type\":\"HelpTool\"},{\"attributes\":{\"active_drag\":\"auto\",\"active_inspect\":\"auto\",\"active_multi\":null,\"active_scroll\":\"auto\",\"active_tap\":\"auto\",\"tools\":[{\"id\":\"1161\",\"type\":\"PanTool\"},{\"id\":\"1162\",\"type\":\"WheelZoomTool\"},{\"id\":\"1163\",\"type\":\"BoxZoomTool\"},{\"id\":\"1164\",\"type\":\"SaveTool\"},{\"id\":\"1165\",\"type\":\"ResetTool\"},{\"id\":\"1166\",\"type\":\"HelpTool\"}]},\"id\":\"1167\",\"type\":\"Toolbar\"},{\"attributes\":{\"fill_alpha\":{\"value\":0.1},\"fill_color\":{\"value\":\"#1f77b4\"},\"line_alpha\":{\"value\":0.1},\"line_color\":{\"value\":\"#1f77b4\"},\"x\":{\"field\":\"beak depth (mm)\"},\"y\":{\"field\":\"__ECDF\"}},\"id\":\"1177\",\"type\":\"Circle\"},{\"attributes\":{\"axis_label\":\"beak depth (mm)\",\"formatter\":{\"id\":\"1185\",\"type\":\"BasicTickFormatter\"},\"ticker\":{\"id\":\"1152\",\"type\":\"BasicTicker\"}},\"id\":\"1151\",\"type\":\"LinearAxis\"},{\"attributes\":{\"ticker\":{\"id\":\"1152\",\"type\":\"BasicTicker\"}},\"id\":\"1155\",\"type\":\"Grid\"},{\"attributes\":{\"callback\":null,\"data\":{\"__ECDF\":{\"__ndarray__\":\"L5BJ8QKZxD8VL5BJ8QLZP3waYbmnEcY/yKR4gUyKlz/IpHiBTIqHP9QIyz2NsNw/cLYO/Wbr0D9huacRlnvKP/rN1qHfbN0/dug3W4d+4z+WexphuafRP/rN1qHfbO0/lnsaYbmnsT9K8QKZFC/gP0EmxQtkUuw/vEAmxQtk0j8vkEnxApm0P93TCMs9jeA/yKR4gUyKxz/jBTIpXiDTPyCT4gUyKd4/Ccs9jbDc4z9huacRlnu6P3waYbmnEdY/h36zdeg36z+uQ7/ZOvTLP5ytQ7/ZOuQ/cLYO/Wbr4D+i32wd+s3mPyCT4gUyKe4/Ccs9jbDc0z81wnJPIyznPxUvkEnxAsk/R1juaYTl3j/6zdah32zNP20d+s3Woe8/GmG5pxGW6z8vkEnxApnkP+5phOWeRug/gUyKF8ik6D879JutQ7/ZP/rN1qHfbL0/YbmnEZZ72j/Cck8jLPfkP7N16Ddbh+4/bR36zdah3z/IpHiBTIrnP0dY7mmE5c4/2jr0m61D7z9HWO5phOXuP1uHfrN16Oc/1AjLPY2w7D9VVVVVVVXlP0rxApkUL9A/yKR4gUyKtz8DmRQvkEnhPxUvkEnxAuk/lnsaYbmnoT/oN1uHfrPlP/rN1qHfbK0/SvECmRQvwD+i32wd+s3WP4d+s3XoN9s/L5BJ8QKZ1D/IpHiBTIrXP8ikeIFMiqc/rkO/2Tr02z+WexphuafhP3waYbmnEeY/Z+vQb7YO7T8P/Wbr0G/mP42w3NMIy+0/AAAAAAAA8D+WexphuafBP6gRlnsaYek/vEAmxQtk4j8pXiCT4gXiP08jLPc0wuI/rkO/2Tr06z879JutQ7/pP1VVVVVVVdU/ztah32wd6j9huacRlnvqP+MFMileIOM/7mmE5Z5G2D/0m61Dv9nqP+MFMileIMM/\",\"dtype\":\"float64\",\"shape\":[87]},\"__dummy_cat\":[\" \",\" \",\" \",\" \",\" \",\" \",\" \",\" \",\" \",\" \",\" \",\" \",\" \",\" \",\" \",\" \",\" \",\" \",\" \",\" \",\" \",\" \",\" \",\" \",\" \",\" \",\" \",\" \",\" \",\" \",\" \",\" \",\" \",\" \",\" \",\" \",\" \",\" \",\" \",\" \",\" \",\" \",\" \",\" \",\" \",\" \",\" \",\" \",\" \",\" \",\" \",\" \",\" \",\" \",\" \",\" \",\" \",\" \",\" \",\" \",\" \",\" \",\" \",\" \",\" \",\" \",\" \",\" \",\" \",\" \",\" \",\" \",\" \",\" \",\" \",\" \",\" \",\" \",\" \",\" \",\" \",\" \",\" \",\" \",\" \",\" \",\" \"],\"__label\":[\" \",\" \",\" \",\" \",\" \",\" \",\" \",\" \",\" \",\" \",\" \",\" \",\" \",\" \",\" \",\" \",\" \",\" \",\" \",\" \",\" \",\" \",\" \",\" \",\" \",\" \",\" \",\" \",\" \",\" \",\" \",\" \",\" \",\" \",\" \",\" \",\" \",\" \",\" \",\" \",\" \",\" \",\" \",\" \",\" \",\" \",\" \",\" \",\" \",\" \",\" \",\" \",\" \",\" \",\" \",\" \",\" \",\" \",\" \",\" \",\" \",\" \",\" \",\" \",\" \",\" \",\" \",\" \",\" \",\" \",\" \",\" \",\" \",\" \",\" \",\" \",\" \",\" \",\" \",\" \",\" \",\" \",\" \",\" \",\" \",\" \",\" \"],\"beak depth (mm)\":{\"__ndarray__\":\"zczMzMzMIECamZmZmZkhQM3MzMzMzCBAAAAAAAAAIECamZmZmZkfQM3MzMzMzCFAMzMzMzMzIUAAAAAAAAAhQM3MzMzMzCFAMzMzMzMzIkAzMzMzMzMhQJqZmZmZmSNAZmZmZmZmIEAAAAAAAAAiQGZmZmZmZiNAMzMzMzMzIUBmZmZmZmYgQAAAAAAAACJAzczMzMzMIEAzMzMzMzMhQM3MzMzMzCFAMzMzMzMzIkCamZmZmZkgQGZmZmZmZiFAMzMzMzMzI0AAAAAAAAAhQDMzMzMzMyJAAAAAAAAAIkBmZmZmZmYiQM3MzMzMzCNAMzMzMzMzIUBmZmZmZmYiQM3MzMzMzCBAzczMzMzMIUAAAAAAAAAhQM3MzMzMzCRAMzMzMzMzI0AzMzMzMzMiQJqZmZmZmSJAmpmZmZmZIkCamZmZmZkhQJqZmZmZmSBAmpmZmZmZIUAzMzMzMzMiQDMzMzMzMyRAzczMzMzMIUBmZmZmZmYiQAAAAAAAACFAZmZmZmZmJEAzMzMzMzMkQGZmZmZmZiJAZmZmZmZmI0AzMzMzMzMiQAAAAAAAACFAZmZmZmZmIEAAAAAAAAAiQJqZmZmZmSJAAAAAAAAAIEAzMzMzMzMiQDMzMzMzMyBAmpmZmZmZIEBmZmZmZmYhQJqZmZmZmSFAMzMzMzMzIUBmZmZmZmYhQAAAAAAAACBAmpmZmZmZIUAAAAAAAAAiQDMzMzMzMyJAexSuR+F6I0AzMzMzMzMiQJqZmZmZmSNAzczMzMzMJECamZmZmZkgQOF6FK5H4SJAFK5H4XoUIkAAAAAAAAAiQJqZmZmZGSJAzczMzMxMI0BmZmZmZuYiQM3MzMzMTCFAZmZmZmbmIkBmZmZmZuYiQJqZmZmZGSJAAAAAAACAIUBmZmZmZuYiQDMzMzMzsyBA\",\"dtype\":\"float64\",\"shape\":[87]},\"index\":[401,402,403,404,405,406,407,408,409,410,411,412,413,414,415,416,417,418,419,420,421,422,423,424,425,426,427,428,429,430,431,432,433,434,435,436,437,438,439,440,441,442,443,444,445,446,447,448,449,450,451,452,453,454,455,456,457,458,459,460,461,462,463,464,465,466,467,468,469,470,471,472,473,474,475,476,477,478,479,480,481,482,483,484,485,486,487],\"year\":[1975,1975,1975,1975,1975,1975,1975,1975,1975,1975,1975,1975,1975,1975,1975,1975,1975,1975,1975,1975,1975,1975,1975,1975,1975,1975,1975,1975,1975,1975,1975,1975,1975,1975,1975,1975,1975,1975,1975,1975,1975,1975,1975,1975,1975,1975,1975,1975,1975,1975,1975,1975,1975,1975,1975,1975,1975,1975,1975,1975,1975,1975,1975,1975,1975,1975,1975,1975,1975,1975,1975,1975,1975,1975,1975,1975,1975,1975,1975,1975,1975,1975,1975,1975,1975,1975,1975]},\"selected\":{\"id\":\"1201\",\"type\":\"Selection\"},\"selection_policy\":{\"id\":\"1202\",\"type\":\"UnionRenderers\"}},\"id\":\"1174\",\"type\":\"ColumnDataSource\"},{\"attributes\":{\"text\":\"\"},\"id\":\"1181\",\"type\":\"Title\"},{\"attributes\":{},\"id\":\"1224\",\"type\":\"UnionRenderers\"},{\"attributes\":{\"callback\":null},\"id\":\"1145\",\"type\":\"DataRange1d\"},{\"attributes\":{},\"id\":\"1183\",\"type\":\"BasicTickFormatter\"},{\"attributes\":{\"callback\":null,\"data\":{\"__ECDF\":{\"__ndarray__\":\"QSbFC2RS7D/UCMs9jbDsP42w3NMIy+0/+s3Wod9svT8gk+IFMineP/SbrUO/2eo/4wUyKV4gwz/O1qHfbB3qP2G5pxGWe+o/L5BJ8QKZ1D98GmG5pxHGP5ytQ7/ZOuQ/L5BJ8QKZ5D9huacRlnvaP7N16Ddbh+4/wnJPIyz35D+HfrN16DfbP5Z7GmG5p9E/+s3Wod9srT9HWO5phOXeP8ikeIFMisc/TyMs9zTC4j/IpHiBTIqHP1VVVVVVVeU/2jr0m61D7z/oN1uHfrPlP0rxApkUL8A/lnsaYbmnsT+HfrN16DfrP2fr0G+2Du0/VVVVVVVV1T98GmG5pxHWP1uHfrN16Oc/ot9sHfrN1j/uaYTlnkboP2G5pxGWe7o/vEAmxQtk0j8VL5BJ8QLJP4FMihfIpOg/4wUyKV4g0z9tHfrN1qHfP20d+s3Woe8/qBGWexph6T8DmRQvkEnhP8ikeIFMipc/L5BJ8QKZtD+WexphuafhP0rxApkUL+A/fBphuacR5j+uQ7/ZOvTbP+MFMileIOM/yKR4gUyKtz8P/Wbr0G/mP6LfbB36zeY/YbmnEZZ7yj8VL5BJ8QLpP65Dv9k69Ms/dug3W4d+4z8Jyz2NsNzTPwAAAAAAAPA/R1juaYTl7j+WexphuaehP9QIyz2NsNw/3dMIyz2N4D/6zdah32zNP8ikeIFMiqc/R1juaYTlzj/6zdah32zdPyleIJPiBeI/NcJyTyMs5z9wtg79ZuvgP5Z7GmG5p8E/yKR4gUyK1z+8QCbFC2TiP0rxApkUL9A/+s3Wod9s7T8gk+IFMinuPwnLPY2w3OM/L5BJ8QKZxD/uaYTlnkbYPzv0m61Dv+k/O/SbrUO/2T8aYbmnEZbrP65Dv9k69Os/yKR4gUyK5z8VL5BJ8QLZP3C2Dv1m69A/\",\"dtype\":\"float64\",\"shape\":[87]},\"__dummy_cat\":[\" \",\" \",\" \",\" \",\" \",\" \",\" \",\" \",\" \",\" \",\" \",\" \",\" \",\" \",\" \",\" \",\" \",\" \",\" \",\" \",\" \",\" \",\" \",\" \",\" \",\" \",\" \",\" \",\" \",\" \",\" \",\" \",\" \",\" \",\" \",\" \",\" \",\" \",\" \",\" \",\" \",\" \",\" \",\" \",\" \",\" \",\" \",\" \",\" \",\" \",\" \",\" \",\" \",\" \",\" \",\" \",\" \",\" \",\" \",\" \",\" \",\" \",\" \",\" \",\" \",\" \",\" \",\" \",\" \",\" \",\" \",\" \",\" \",\" \",\" \",\" \",\" \",\" \",\" \",\" \",\" \",\" \",\" \",\" \",\" \",\" \",\" \"],\"__label\":[\" \",\" \",\" \",\" \",\" \",\" \",\" \",\" \",\" \",\" \",\" \",\" \",\" \",\" \",\" \",\" \",\" \",\" \",\" \",\" \",\" \",\" \",\" \",\" \",\" \",\" \",\" \",\" \",\" \",\" \",\" \",\" \",\" \",\" \",\" \",\" \",\" \",\" \",\" \",\" \",\" \",\" \",\" \",\" \",\" \",\" \",\" \",\" \",\" \",\" \",\" \",\" \",\" \",\" \",\" \",\" \",\" \",\" \",\" \",\" \",\" \",\" \",\" \",\" \",\" \",\" \",\" \",\" \",\" \",\" \",\" \",\" \",\" \",\" \",\" \",\" \",\" \",\" \",\" \",\" \",\" \",\" \",\" \",\" \",\" \",\" \",\" \"],\"bootstrap\":{\"__ndarray__\":\"ZmZmZmZmI0BmZmZmZmYjQJqZmZmZmSNAmpmZmZmZIEDNzMzMzMwhQGZmZmZm5iJAMzMzMzOzIEDhehSuR+EiQOF6FK5H4SJAZmZmZmZmIUDNzMzMzMwgQDMzMzMzMyJAMzMzMzMzIkCamZmZmZkhQM3MzMzMzCNAMzMzMzMzIkCamZmZmZkhQDMzMzMzMyFAMzMzMzMzIEDNzMzMzMwhQM3MzMzMzCBAFK5H4XoUIkAAAAAAAAAgQDMzMzMzMyJAZmZmZmZmJEAzMzMzMzMiQJqZmZmZmSBAMzMzMzMzIEBmZmZmZuYiQGZmZmZmZiNAZmZmZmZmIUBmZmZmZmYhQGZmZmZmZiJAZmZmZmZmIUBmZmZmZmYiQGZmZmZmZiBAMzMzMzMzIUDNzMzMzMwgQGZmZmZmZiJAMzMzMzMzIUDNzMzMzMwhQM3MzMzMzCRAmpmZmZmZIkAAAAAAAAAiQAAAAAAAACBAMzMzMzMzIEAAAAAAAAAiQM3MzMzMzCFAMzMzMzMzIkCamZmZmZkhQJqZmZmZGSJAMzMzMzMzIEAzMzMzMzMiQDMzMzMzMyJAAAAAAAAAIUBmZmZmZmYiQAAAAAAAACFAmpmZmZkZIkDNzMzMzEwhQM3MzMzMzCRAMzMzMzMzJEAAAAAAAAAgQJqZmZmZmSFAzczMzMzMIUAAAAAAAAAhQAAAAAAAACBAAAAAAAAAIUCamZmZmZkhQAAAAAAAACJAMzMzMzMzIkDNzMzMzMwhQJqZmZmZmSBAZmZmZmZmIUAAAAAAAAAiQAAAAAAAACFAZmZmZmZmI0CamZmZmZkjQJqZmZmZGSJAMzMzMzOzIEBmZmZmZmYhQJqZmZmZmSJAAAAAAACAIUBmZmZmZuYiQGZmZmZm5iJAMzMzMzMzIkBmZmZmZmYhQAAAAAAAACFA\",\"dtype\":\"float64\",\"shape\":[87]},\"index\":[0,1,2,3,4,5,6,7,8,9,10,11,12,13,14,15,16,17,18,19,20,21,22,23,24,25,26,27,28,29,30,31,32,33,34,35,36,37,38,39,40,41,42,43,44,45,46,47,48,49,50,51,52,53,54,55,56,57,58,59,60,61,62,63,64,65,66,67,68,69,70,71,72,73,74,75,76,77,78,79,80,81,82,83,84,85,86]},\"selected\":{\"id\":\"1223\",\"type\":\"Selection\"},\"selection_policy\":{\"id\":\"1224\",\"type\":\"UnionRenderers\"}},\"id\":\"1189\",\"type\":\"ColumnDataSource\"},{\"attributes\":{\"dimension\":1,\"ticker\":{\"id\":\"1157\",\"type\":\"BasicTicker\"}},\"id\":\"1160\",\"type\":\"Grid\"},{\"attributes\":{},\"id\":\"1185\",\"type\":\"BasicTickFormatter\"},{\"attributes\":{\"fill_color\":{\"value\":null},\"line_color\":{\"value\":\"gray\"},\"x\":{\"field\":\"bootstrap\"},\"y\":{\"field\":\"__ECDF\"}},\"id\":\"1191\",\"type\":\"Circle\"},{\"attributes\":{\"bottom_units\":\"screen\",\"fill_alpha\":{\"value\":0.5},\"fill_color\":{\"value\":\"lightgrey\"},\"left_units\":\"screen\",\"level\":\"overlay\",\"line_alpha\":{\"value\":1.0},\"line_color\":{\"value\":\"black\"},\"line_dash\":[4,4],\"line_width\":{\"value\":2},\"render_mode\":\"css\",\"right_units\":\"screen\",\"top_units\":\"screen\"},\"id\":\"1186\",\"type\":\"BoxAnnotation\"},{\"attributes\":{},\"id\":\"1152\",\"type\":\"BasicTicker\"},{\"attributes\":{},\"id\":\"1157\",\"type\":\"BasicTicker\"},{\"attributes\":{\"items\":[{\"id\":\"1188\",\"type\":\"LegendItem\"}],\"visible\":false},\"id\":\"1187\",\"type\":\"Legend\"},{\"attributes\":{\"callback\":null},\"id\":\"1143\",\"type\":\"DataRange1d\"},{\"attributes\":{\"label\":{\"value\":\" \"},\"renderers\":[{\"id\":\"1178\",\"type\":\"GlyphRenderer\"},{\"id\":\"1193\",\"type\":\"GlyphRenderer\"}]},\"id\":\"1188\",\"type\":\"LegendItem\"},{\"attributes\":{\"axis_label\":\"ECDF\",\"formatter\":{\"id\":\"1183\",\"type\":\"BasicTickFormatter\"},\"ticker\":{\"id\":\"1157\",\"type\":\"BasicTicker\"}},\"id\":\"1156\",\"type\":\"LinearAxis\"},{\"attributes\":{\"source\":{\"id\":\"1174\",\"type\":\"ColumnDataSource\"}},\"id\":\"1179\",\"type\":\"CDSView\"},{\"attributes\":{\"fill_alpha\":{\"value\":0.1},\"fill_color\":{\"value\":\"#1f77b4\"},\"line_alpha\":{\"value\":0.1},\"line_color\":{\"value\":\"#1f77b4\"},\"x\":{\"field\":\"bootstrap\"},\"y\":{\"field\":\"__ECDF\"}},\"id\":\"1192\",\"type\":\"Circle\"},{\"attributes\":{},\"id\":\"1223\",\"type\":\"Selection\"}],\"root_ids\":[\"1142\"]},\"title\":\"Bokeh Application\",\"version\":\"1.2.0\"}};\n",
       "  var render_items = [{\"docid\":\"dd3cf863-dec2-409a-bd8b-b80abe5ca437\",\"roots\":{\"1142\":\"c9495c4d-2621-40e6-8f5e-f5bd16281fef\"}}];\n",
       "  root.Bokeh.embed.embed_items_notebook(docs_json, render_items);\n",
       "\n",
       "  }\n",
       "  if (root.Bokeh !== undefined) {\n",
       "    embed_document(root);\n",
       "  } else {\n",
       "    var attempts = 0;\n",
       "    var timer = setInterval(function(root) {\n",
       "      if (root.Bokeh !== undefined) {\n",
       "        embed_document(root);\n",
       "        clearInterval(timer);\n",
       "      }\n",
       "      attempts++;\n",
       "      if (attempts > 100) {\n",
       "        console.log(\"Bokeh: ERROR: Unable to run BokehJS code because BokehJS library is missing\");\n",
       "        clearInterval(timer);\n",
       "      }\n",
       "    }, 10, root)\n",
       "  }\n",
       "})(window);"
      ],
      "application/vnd.bokehjs_exec.v0+json": ""
     },
     "metadata": {
      "application/vnd.bokehjs_exec.v0+json": {
       "id": "1142"
      }
     },
     "output_type": "display_data"
    }
   ],
   "source": [
    "# Original data set\n",
    "p = bokeh_catplot.ecdf(\n",
    "    data=df.loc[df['year']==1975, :],\n",
    "    cats=None,\n",
    "    val='beak depth (mm)',\n",
    ")\n",
    "\n",
    "# Bootstrap data set\n",
    "p = bokeh_catplot.ecdf(\n",
    "    data=pd.DataFrame(data={'bootstrap': bs_sample}),\n",
    "    cats=None,\n",
    "    val='bootstrap',\n",
    "    p=p,\n",
    "    marker_kwargs=dict(\n",
    "        fill_color=None, \n",
    "        line_color='gray'\n",
    "    ),\n",
    ")\n",
    "\n",
    "bokeh.io.show(p)"
   ]
  },
  {
   "cell_type": "markdown",
   "metadata": {},
   "source": [
    "It is qualitatively similar, but obviously not exactly the same data set.\n",
    "\n",
    "Now, let's compute our bootstrap replicate. It's as simple as computing the mean of the bootstrap sample."
   ]
  },
  {
   "cell_type": "code",
   "execution_count": 8,
   "metadata": {},
   "outputs": [
    {
     "data": {
      "text/plain": [
       "8.92609195402299"
      ]
     },
     "execution_count": 8,
     "metadata": {},
     "output_type": "execute_result"
    }
   ],
   "source": [
    "bs_replicate = np.mean(bs_sample)\n",
    "bs_replicate"
   ]
  },
  {
   "cell_type": "markdown",
   "metadata": {},
   "source": [
    "So, the mean of the bootstrap replicate is 8.93 mm, which is less than the mean of 8.96 from the original data set.\n",
    "\n",
    "Now, we can write a **`for`** loop to get lots and lots of bootstrap replicates. Note the since you are doing the replicates many many times, speed matters. For this reason, be sure you convert the data you are bootstrapping into a Numpy array. The calculations with them are **much** faster than with Pandas `Series`."
   ]
  },
  {
   "cell_type": "code",
   "execution_count": 9,
   "metadata": {
    "collapsed": true
   },
   "outputs": [],
   "source": [
    "# Number of replicatess\n",
    "n_reps = 2000\n",
    "\n",
    "# Initialize bootstrap replicas array\n",
    "bs_reps_1975 = np.empty(n_reps)\n",
    "\n",
    "# Compute replicates\n",
    "for i in range(n_reps):\n",
    "    bs_sample = np.random.choice(bd_1975, size=len(bd_1975))\n",
    "    bs_reps_1975[i] = np.mean(bs_sample)"
   ]
  },
  {
   "cell_type": "markdown",
   "metadata": {},
   "source": [
    "Now that we have our replicas, 2,000 of them, we can plot an ECDF to see what we might expect of the mean if we were to do the experiment again."
   ]
  },
  {
   "cell_type": "code",
   "execution_count": 10,
   "metadata": {},
   "outputs": [
    {
     "data": {
      "text/html": [
       "\n",
       "\n",
       "\n",
       "\n",
       "\n",
       "\n",
       "  <div class=\"bk-root\" id=\"4423bee9-080a-4411-aa3b-28c99eaf5ac2\" data-root-id=\"1292\"></div>\n"
      ]
     },
     "metadata": {},
     "output_type": "display_data"
    },
    {
     "data": {
      "application/javascript": [
       "(function(root) {\n",
       "  function embed_document(root) {\n",
       "    \n",
       "  var docs_json = {\"75c5b8a5-f4ce-4f1c-9406-c96c1c1257b3\":{\"roots\":{\"references\":[{\"attributes\":{\"below\":[{\"id\":\"1301\",\"type\":\"LinearAxis\"}],\"center\":[{\"id\":\"1305\",\"type\":\"Grid\"},{\"id\":\"1310\",\"type\":\"Grid\"},{\"id\":\"1337\",\"type\":\"Legend\"}],\"left\":[{\"id\":\"1306\",\"type\":\"LinearAxis\"}],\"plot_height\":300,\"plot_width\":400,\"renderers\":[{\"id\":\"1328\",\"type\":\"GlyphRenderer\"}],\"title\":{\"id\":\"1331\",\"type\":\"Title\"},\"toolbar\":{\"id\":\"1317\",\"type\":\"Toolbar\"},\"x_range\":{\"id\":\"1293\",\"type\":\"DataRange1d\"},\"x_scale\":{\"id\":\"1297\",\"type\":\"LinearScale\"},\"y_range\":{\"id\":\"1295\",\"type\":\"DataRange1d\"},\"y_scale\":{\"id\":\"1299\",\"type\":\"LinearScale\"}},\"id\":\"1292\",\"subtype\":\"Figure\",\"type\":\"Plot\"},{\"attributes\":{},\"id\":\"1312\",\"type\":\"WheelZoomTool\"},{\"attributes\":{\"overlay\":{\"id\":\"1336\",\"type\":\"BoxAnnotation\"}},\"id\":\"1313\",\"type\":\"BoxZoomTool\"},{\"attributes\":{\"items\":[{\"id\":\"1338\",\"type\":\"LegendItem\"}],\"visible\":false},\"id\":\"1337\",\"type\":\"Legend\"},{\"attributes\":{\"axis_label\":\"mean beak depth (mm)\",\"formatter\":{\"id\":\"1335\",\"type\":\"BasicTickFormatter\"},\"ticker\":{\"id\":\"1302\",\"type\":\"BasicTicker\"}},\"id\":\"1301\",\"type\":\"LinearAxis\"},{\"attributes\":{},\"id\":\"1315\",\"type\":\"ResetTool\"},{\"attributes\":{\"callback\":null},\"id\":\"1295\",\"type\":\"DataRange1d\"},{\"attributes\":{},\"id\":\"1333\",\"type\":\"BasicTickFormatter\"},{\"attributes\":{\"callback\":null,\"data\":{\"__ECDF\":{\"__ndarray__\":\"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\",\"dtype\":\"float64\",\"shape\":[2000]},\"__dummy_cat\":[\" \",\" \",\" \",\" \",\" \",\" \",\" \",\" \",\" \",\" \",\" \",\" \",\" \",\" \",\" \",\" \",\" \",\" \",\" \",\" \",\" \",\" \",\" \",\" \",\" \",\" \",\" \",\" \",\" \",\" \",\" \",\" \",\" \",\" \",\" \",\" \",\" \",\" \",\" \",\" \",\" \",\" \",\" \",\" \",\" \",\" \",\" \",\" \",\" \",\" \",\" \",\" \",\" \",\" \",\" \",\" \",\" \",\" \",\" \",\" \",\" \",\" \",\" \",\" \",\" \",\" \",\" \",\" \",\" \",\" \",\" \",\" \",\" \",\" \",\" \",\" \",\" \",\" \",\" \",\" \",\" \",\" \",\" \",\" \",\" \",\" \",\" \",\" \",\" \",\" \",\" \",\" \",\" \",\" \",\" \",\" \",\" \",\" \",\" \",\" \",\" \",\" \",\" \",\" \",\" \",\" \",\" \",\" \",\" \",\" \",\" \",\" \",\" \",\" \",\" \",\" \",\" \",\" \",\" \",\" \",\" \",\" \",\" \",\" \",\" \",\" \",\" \",\" \",\" \",\" \",\" \",\" \",\" \",\" \",\" \",\" \",\" \",\" \",\" \",\" \",\" \",\" \",\" \",\" \",\" \",\" \",\" \",\" \",\" \",\" \",\" \",\" \",\" \",\" \",\" \",\" \",\" \",\" \",\" \",\" \",\" \",\" \",\" \",\" \",\" \",\" \",\" \",\" \",\" \",\" \",\" \",\" \",\" \",\" \",\" \",\" \",\" \",\" \",\" \",\" \",\" \",\" \",\" \",\" \",\" \",\" \",\" \",\" \",\" \",\" \",\" \",\" \",\" \",\" \",\" \",\" \",\" \",\" \",\" \",\" \",\" \",\" \",\" \",\" \",\" \",\" \",\" \",\" \",\" \",\" \",\" \",\" \",\" \",\" \",\" \",\" \",\" \",\" \",\" \",\" \",\" \",\" \",\" \",\" \",\" \",\" \",\" \",\" \",\" \",\" \",\" \",\" \",\" \",\" \",\" \",\" \",\" \",\" \",\" \",\" \",\" \",\" \",\" \",\" \",\" \",\" \",\" \",\" \",\" \",\" \",\" \",\" \",\" \",\" \",\" \",\" \",\" \",\" \",\" \",\" \",\" \",\" \",\" \",\" \",\" \",\" \",\" \",\" \",\" \",\" \",\" \",\" \",\" \",\" \",\" \",\" \",\" \",\" \",\" \",\" \",\" \",\" \",\" \",\" \",\" \",\" \",\" \",\" \",\" \",\" \",\" \",\" \",\" \",\" \",\" \",\" \",\" \",\" \",\" \",\" \",\" \",\" \",\" \",\" \",\" \",\" \",\" \",\" \",\" \",\" \",\" \",\" \",\" \",\" \",\" \",\" \",\" \",\" \",\" \",\" \",\" \",\" \",\" \",\" \",\" \",\" \",\" \",\" \",\" \",\" \",\" \",\" \",\" \",\" \",\" \",\" \",\" \",\" \",\" \",\" \",\" \",\" \",\" \",\" \",\" \",\" \",\" \",\" \",\" \",\" \",\" \",\" \",\" \",\" \",\" \",\" \",\" \",\" \",\" \",\" \",\" \",\" \",\" \",\" \",\" \",\" \",\" \",\" \",\" \",\" \",\" \",\" \",\" \",\" \",\" \",\" \",\" \",\" \",\" \",\" \",\" \",\" \",\" \",\" \",\" \",\" \",\" \",\" \",\" \",\" \",\" \",\" \",\" \",\" \",\" \",\" \",\" \",\" \",\" \",\" \",\" \",\" \",\" \",\" \",\" \",\" \",\" \",\" \",\" \",\" \",\" \",\" \",\" \",\" \",\" \",\" \",\" \",\" \",\" \",\" \",\" \",\" \",\" \",\" \",\" \",\" \",\" \",\" \",\" \",\" \",\" \",\" \",\" \",\" \",\" \",\" \",\" \",\" \",\" \",\" \",\" \",\" \",\" \",\" \",\" \",\" \",\" \",\" \",\" \",\" \",\" \",\" \",\" \",\" \",\" \",\" \",\" \",\" \",\" \",\" \",\" \",\" \",\" \",\" \",\" \",\" \",\" \",\" \",\" \",\" \",\" \",\" \",\" \",\" \",\" \",\" \",\" \",\" \",\" \",\" \",\" \",\" \",\" \",\" \",\" \",\" \",\" \",\" \",\" \",\" \",\" \",\" \",\" \",\" \",\" \",\" \",\" \",\" \",\" \",\" \",\" \",\" \",\" \",\" \",\" \",\" \",\" \",\" \",\" \",\" \",\" \",\" \",\" \",\" \",\" \",\" \",\" \",\" \",\" \",\" \",\" \",\" \",\" \",\" \",\" \",\" \",\" \",\" \",\" \",\" \",\" \",\" \",\" \",\" \",\" \",\" \",\" \",\" \",\" \",\" \",\" \",\" \",\" \",\" \",\" \",\" \",\" \",\" \",\" \",\" \",\" \",\" \",\" \",\" \",\" \",\" \",\" \",\" \",\" \",\" \",\" \",\" \",\" \",\" \",\" \",\" \",\" \",\" \",\" \",\" \",\" \",\" \",\" \",\" \",\" \",\" \",\" \",\" \",\" \",\" \",\" \",\" \",\" \",\" \",\" \",\" \",\" \",\" \",\" \",\" \",\" \",\" \",\" \",\" \",\" \",\" \",\" \",\" \",\" \",\" \",\" \",\" \",\" \",\" \",\" \",\" \",\" \",\" \",\" \",\" \",\" \",\" \",\" \",\" \",\" \",\" \",\" \",\" \",\" \",\" \",\" \",\" \",\" \",\" \",\" \",\" \",\" \",\" \",\" \",\" \",\" \",\" \",\" \",\" \",\" \",\" \",\" \",\" \",\" \",\" \",\" \",\" \",\" \",\" \",\" \",\" \",\" \",\" \",\" \",\" \",\" \",\" \",\" \",\" \",\" \",\" \",\" \",\" \",\" \",\" \",\" \",\" \",\" \",\" \",\" \",\" \",\" \",\" \",\" \",\" \",\" \",\" \",\" \",\" \",\" \",\" \",\" \",\" \",\" \",\" \",\" \",\" \",\" \",\" \",\" \",\" \",\" \",\" \",\" \",\" \",\" \",\" \",\" \",\" \",\" \",\" \",\" \",\" \",\" \",\" \",\" \",\" \",\" \",\" \",\" \",\" \",\" \",\" \",\" \",\" \",\" \",\" \",\" \",\" \",\" \",\" \",\" \",\" \",\" \",\" \",\" \",\" \",\" \",\" \",\" \",\" \",\" \",\" \",\" \",\" \",\" \",\" \",\" \",\" \",\" \",\" \",\" \",\" \",\" \",\" \",\" \",\" \",\" \",\" \",\" \",\" \",\" \",\" \",\" \",\" \",\" \",\" \",\" \",\" \",\" \",\" \",\" \",\" \",\" \",\" \",\" \",\" \",\" \",\" \",\" \",\" \",\" \",\" \",\" \",\" \",\" \",\" \",\" \",\" \",\" \",\" \",\" \",\" \",\" \",\" \",\" \",\" \",\" \",\" \",\" \",\" \",\" \",\" \",\" \",\" \",\" \",\" \",\" \",\" \",\" \",\" \",\" \",\" \",\" \",\" \",\" \",\" \",\" \",\" \",\" \",\" \",\" \",\" \",\" \",\" \",\" \",\" \",\" \",\" \",\" \",\" \",\" \",\" \",\" \",\" \",\" \",\" \",\" \",\" \",\" \",\" \",\" \",\" \",\" \",\" \",\" \",\" \",\" \",\" \",\" \",\" \",\" \",\" \",\" \",\" \",\" \",\" \",\" \",\" \",\" \",\" \",\" \",\" \",\" \",\" \",\" \",\" \",\" \",\" \",\" \",\" \",\" \",\" \",\" \",\" \",\" \",\" \",\" \",\" \",\" \",\" \",\" \",\" \",\" \",\" \",\" \",\" \",\" \",\" \",\" \",\" \",\" \",\" \",\" \",\" \",\" \",\" \",\" \",\" \",\" \",\" \",\" \",\" \",\" \",\" \",\" \",\" \",\" \",\" \",\" \",\" \",\" \",\" \",\" \",\" \",\" \",\" \",\" \",\" \",\" \",\" \",\" \",\" \",\" \",\" \",\" \",\" \",\" \",\" \",\" \",\" \",\" \",\" \",\" \",\" \",\" \",\" \",\" \",\" \",\" \",\" \",\" \",\" \",\" \",\" \",\" \",\" \",\" \",\" \",\" \",\" \",\" \",\" \",\" \",\" \",\" \",\" \",\" \",\" \",\" \",\" \",\" \",\" \",\" \",\" \",\" \",\" \",\" \",\" \",\" \",\" \",\" \",\" \",\" \",\" \",\" \",\" \",\" \",\" \",\" \",\" \",\" \",\" \",\" \",\" \",\" \",\" \",\" \",\" \",\" \",\" \",\" \",\" \",\" \",\" \",\" \",\" \",\" \",\" \",\" \",\" \",\" \",\" \",\" \",\" \",\" \",\" \",\" \",\" \",\" \",\" \",\" \",\" \",\" \",\" \",\" \",\" \",\" \",\" \",\" \",\" \",\" \",\" \",\" \",\" \",\" \",\" \",\" \",\" \",\" \",\" \",\" \",\" \",\" \",\" \",\" \",\" \",\" \",\" \",\" \",\" \",\" \",\" \",\" \",\" \",\" \",\" \",\" \",\" \",\" \",\" \",\" \",\" \",\" \",\" \",\" \",\" \",\" \",\" \",\" \",\" \",\" \",\" \",\" \",\" \",\" \",\" \",\" \",\" \",\" \",\" \",\" \",\" \",\" \",\" \",\" \",\" \",\" \",\" \",\" \",\" \",\" \",\" \",\" \",\" \",\" \",\" \",\" \",\" \",\" \",\" \",\" \",\" \",\" \",\" \",\" \",\" \",\" \",\" \",\" \",\" \",\" \",\" \",\" \",\" \",\" \",\" \",\" \",\" \",\" \",\" \",\" \",\" \",\" \",\" \",\" \",\" \",\" \",\" \",\" \",\" \",\" \",\" \",\" \",\" \",\" \",\" \",\" \",\" \",\" \",\" \",\" \",\" \",\" \",\" \",\" \",\" \",\" \",\" \",\" \",\" \",\" \",\" \",\" \",\" \",\" \",\" \",\" \",\" \",\" \",\" \",\" \",\" \",\" \",\" \",\" \",\" \",\" \",\" \",\" \",\" \",\" \",\" \",\" \",\" \",\" \",\" \",\" \",\" \",\" \",\" \",\" \",\" \",\" \",\" \",\" \",\" \",\" \",\" \",\" \",\" \",\" \",\" \",\" \",\" \",\" \",\" \",\" \",\" \",\" \",\" \",\" \",\" \",\" \",\" \",\" \",\" \",\" \",\" \",\" \",\" \",\" \",\" \",\" \",\" \",\" \",\" \",\" \",\" \",\" \",\" \",\" \",\" \",\" \",\" \",\" \",\" \",\" \",\" \",\" \",\" \",\" \",\" \",\" \",\" \",\" \",\" \",\" \",\" \",\" \",\" \",\" \",\" \",\" \",\" \",\" \",\" \",\" \",\" \",\" \",\" \",\" \",\" \",\" \",\" \",\" \",\" \",\" \",\" \",\" \",\" \",\" \",\" \",\" \",\" \",\" \",\" \",\" \",\" \",\" \",\" \",\" \",\" \",\" \",\" \",\" \",\" \",\" \",\" \",\" \",\" \",\" \",\" \",\" \",\" \",\" \",\" \",\" \",\" \",\" \",\" \",\" \",\" \",\" \",\" \",\" \",\" \",\" \",\" \",\" \",\" \",\" \",\" \",\" \",\" \",\" \",\" \",\" \",\" \",\" \",\" \",\" \",\" \",\" \",\" \",\" \",\" \",\" \",\" \",\" \",\" \",\" \",\" \",\" \",\" \",\" \",\" \",\" \",\" \",\" \",\" \",\" \",\" \",\" \",\" \",\" \",\" \",\" \",\" \",\" \",\" \",\" \",\" \",\" \",\" \",\" \",\" \",\" \",\" \",\" \",\" \",\" \",\" \",\" \",\" \",\" \",\" \",\" \",\" \",\" \",\" \",\" \",\" \",\" \",\" \",\" \",\" \",\" \",\" \",\" \",\" \",\" \",\" \",\" \",\" \",\" \",\" \",\" \",\" \",\" \",\" \",\" \",\" \",\" \",\" \",\" \",\" \",\" \",\" \",\" \",\" \",\" \",\" \",\" \",\" \",\" \",\" \",\" \",\" \",\" \",\" \",\" \",\" \",\" \",\" \",\" \",\" \",\" \",\" \",\" \",\" \",\" \",\" \",\" \",\" \",\" \",\" \",\" \",\" \",\" \",\" \",\" \",\" \",\" \",\" \",\" \",\" \",\" \",\" \",\" \",\" \",\" \",\" \",\" \",\" \",\" \",\" \",\" \",\" \",\" \",\" \",\" \",\" \",\" \",\" \",\" \",\" \",\" \",\" \",\" \",\" \",\" \",\" \",\" \",\" \",\" \",\" \",\" \",\" \",\" \",\" \",\" \",\" \",\" \",\" \",\" \",\" \",\" \",\" \",\" \",\" \",\" \",\" \",\" \",\" \",\" \",\" \",\" \",\" \",\" \",\" \",\" \",\" \",\" \",\" \",\" \",\" \",\" \",\" \",\" \",\" \",\" \",\" \",\" \",\" \",\" \",\" \",\" \",\" \",\" \",\" \",\" \",\" \",\" \",\" \",\" \",\" \",\" \",\" \",\" \",\" \",\" \",\" \",\" \",\" \",\" \",\" \",\" \",\" \",\" \",\" \",\" \",\" \",\" \",\" \",\" \",\" \",\" \",\" \",\" \",\" \",\" \",\" \",\" \",\" \",\" \",\" \",\" \",\" \",\" \",\" \",\" \",\" \",\" \",\" \",\" \",\" \",\" \",\" \",\" \",\" \",\" \",\" \",\" \",\" \",\" \",\" \",\" \",\" \",\" \",\" \",\" \",\" \",\" \",\" \",\" \",\" \",\" \",\" \",\" \",\" \",\" \",\" \",\" \",\" \",\" \",\" \",\" \",\" \",\" \",\" \",\" \",\" \",\" \",\" \",\" \",\" \",\" \",\" \",\" \",\" \",\" \",\" \",\" \",\" \",\" \",\" \",\" \",\" \",\" \",\" \",\" \",\" \",\" \",\" \",\" \",\" \",\" \",\" \",\" \",\" \",\" \",\" \",\" \",\" \",\" \",\" \",\" \",\" \",\" \",\" \",\" \",\" \",\" \",\" \",\" \",\" \",\" \",\" \",\" \",\" \",\" \",\" \",\" \",\" \",\" \",\" \",\" \",\" \",\" \",\" \",\" \",\" \",\" \",\" \",\" \",\" \",\" \",\" \",\" \",\" \",\" \",\" \",\" \",\" \",\" \",\" \",\" \",\" \",\" \",\" \",\" \",\" \",\" \",\" \",\" \",\" \",\" \",\" \",\" \",\" \",\" \",\" \",\" \",\" \",\" \",\" \",\" \",\" \",\" \",\" \",\" \",\" \",\" \",\" \",\" \",\" \",\" \",\" \",\" \",\" \",\" \",\" \",\" \",\" \",\" \",\" \",\" \",\" \",\" \",\" \",\" \",\" \",\" \",\" \",\" \",\" \",\" \",\" \",\" \",\" \",\" \",\" \",\" \",\" \",\" \",\" \",\" \",\" \",\" \",\" \",\" \",\" \",\" \",\" \",\" \",\" \",\" \",\" \",\" \",\" \",\" \",\" \",\" \",\" \",\" \",\" \",\" \",\" \",\" \",\" \",\" \",\" \",\" \",\" \",\" \",\" \",\" \",\" \",\" \",\" \",\" \",\" \",\" \",\" \",\" \",\" \",\" \",\" \",\" \",\" \",\" \",\" \",\" \",\" \",\" \",\" \",\" \",\" \",\" \",\" \",\" \",\" \",\" \",\" \",\" \",\" \",\" \",\" \",\" \",\" \",\" \",\" \",\" \",\" \",\" \",\" \",\" \",\" \",\" \",\" \",\" \",\" \",\" \",\" \",\" \",\" \",\" \",\" \",\" \",\" \",\" \",\" \",\" \",\" \",\" \",\" \",\" \",\" \",\" \",\" \",\" \",\" \",\" \",\" \",\" \",\" \",\" \",\" \",\" \",\" \",\" \",\" \",\" \",\" \",\" \",\" \",\" \",\" \",\" \",\" \",\" \",\" \",\" \",\" \",\" \",\" \",\" \",\" \",\" \",\" \",\" \",\" \",\" \",\" \",\" \",\" \",\" \",\" \",\" \",\" \",\" \",\" \",\" \",\" \",\" \",\" \",\" \",\" \",\" \",\" \",\" \",\" \",\" \",\" \",\" \",\" \",\" \",\" \",\" \",\" \",\" \",\" \",\" \",\" \",\" \",\" \",\" \",\" \",\" \",\" \",\" \",\" \",\" \",\" \",\" \",\" \",\" \",\" \",\" \",\" \",\" \",\" \",\" \",\" \",\" \",\" \",\" \",\" \",\" \",\" \",\" \",\" \",\" \",\" \",\" \",\" \",\" \",\" \",\" \",\" \",\" \",\" \",\" \",\" \",\" \",\" \",\" \",\" \",\" \",\" \",\" \",\" \",\" \",\" \",\" \",\" \",\" \",\" \",\" \",\" \",\" \",\" \",\" \",\" \",\" \",\" \",\" \",\" \",\" \",\" \",\" \",\" \",\" \",\" \",\" \",\" \",\" \",\" \",\" \",\" \",\" \",\" \",\" \",\" \",\" \",\" \",\" \",\" \",\" \",\" \",\" \",\" \",\" \",\" \",\" \",\" \",\" \",\" \",\" \",\" \",\" \",\" \",\" \",\" \",\" \",\" \",\" \",\" \",\" \",\" \",\" \",\" \",\" \",\" \",\" \",\" \",\" \",\" \",\" \",\" \",\" \",\" \",\" \",\" \",\" \",\" \",\" \",\" \",\" \",\" \",\" \",\" \",\" \",\" \",\" \",\" \",\" \",\" \",\" \",\" \",\" \",\" \",\" \",\" \",\" \",\" \",\" \",\" \",\" \",\" \",\" \",\" \",\" \",\" \"],\"__label\":[\" \",\" \",\" \",\" \",\" \",\" \",\" \",\" \",\" \",\" \",\" \",\" \",\" \",\" \",\" \",\" \",\" \",\" \",\" \",\" \",\" \",\" \",\" \",\" \",\" \",\" \",\" \",\" \",\" \",\" \",\" \",\" \",\" \",\" \",\" \",\" \",\" \",\" \",\" \",\" \",\" \",\" \",\" \",\" \",\" \",\" \",\" \",\" \",\" \",\" \",\" \",\" \",\" \",\" \",\" \",\" \",\" \",\" \",\" \",\" \",\" \",\" \",\" \",\" \",\" \",\" \",\" \",\" \",\" \",\" \",\" \",\" \",\" \",\" \",\" \",\" \",\" \",\" \",\" \",\" \",\" \",\" \",\" \",\" \",\" \",\" \",\" \",\" \",\" \",\" \",\" \",\" \",\" \",\" \",\" \",\" \",\" \",\" \",\" \",\" \",\" \",\" \",\" \",\" \",\" \",\" \",\" \",\" \",\" \",\" \",\" \",\" \",\" \",\" \",\" \",\" \",\" \",\" \",\" \",\" \",\" \",\" \",\" \",\" \",\" \",\" \",\" \",\" \",\" \",\" \",\" \",\" \",\" \",\" \",\" \",\" \",\" \",\" \",\" \",\" \",\" \",\" \",\" \",\" \",\" \",\" \",\" \",\" \",\" \",\" \",\" \",\" \",\" \",\" \",\" \",\" \",\" \",\" \",\" \",\" \",\" \",\" \",\" \",\" \",\" \",\" \",\" \",\" \",\" \",\" \",\" \",\" \",\" \",\" \",\" \",\" \",\" \",\" \",\" \",\" \",\" \",\" \",\" \",\" \",\" \",\" \",\" \",\" \",\" \",\" \",\" \",\" \",\" \",\" \",\" \",\" \",\" \",\" \",\" \",\" \",\" \",\" \",\" \",\" \",\" \",\" \",\" \",\" \",\" \",\" \",\" \",\" \",\" \",\" \",\" \",\" \",\" \",\" \",\" \",\" \",\" \",\" \",\" \",\" \",\" \",\" \",\" \",\" \",\" \",\" \",\" \",\" \",\" \",\" \",\" \",\" \",\" \",\" \",\" \",\" \",\" \",\" \",\" \",\" \",\" \",\" \",\" \",\" \",\" \",\" \",\" \",\" \",\" \",\" \",\" \",\" \",\" \",\" \",\" \",\" \",\" \",\" \",\" \",\" \",\" \",\" \",\" \",\" \",\" \",\" \",\" \",\" \",\" \",\" \",\" \",\" \",\" \",\" \",\" \",\" \",\" \",\" \",\" \",\" \",\" \",\" \",\" \",\" \",\" \",\" \",\" \",\" \",\" \",\" \",\" \",\" \",\" \",\" \",\" \",\" \",\" \",\" \",\" \",\" \",\" \",\" \",\" \",\" \",\" \",\" \",\" \",\" \",\" \",\" \",\" \",\" \",\" \",\" \",\" \",\" \",\" \",\" \",\" \",\" \",\" \",\" \",\" \",\" \",\" \",\" \",\" \",\" \",\" \",\" \",\" \",\" \",\" \",\" \",\" \",\" \",\" \",\" \",\" \",\" \",\" \",\" \",\" \",\" \",\" \",\" \",\" \",\" \",\" \",\" \",\" \",\" \",\" \",\" \",\" \",\" \",\" \",\" \",\" \",\" \",\" \",\" \",\" \",\" \",\" \",\" \",\" \",\" \",\" \",\" \",\" \",\" \",\" \",\" \",\" \",\" \",\" \",\" \",\" \",\" \",\" \",\" \",\" \",\" \",\" \",\" \",\" \",\" \",\" \",\" \",\" \",\" \",\" \",\" \",\" \",\" \",\" \",\" \",\" \",\" \",\" \",\" \",\" \",\" \",\" \",\" \",\" \",\" \",\" \",\" \",\" \",\" \",\" \",\" \",\" \",\" \",\" \",\" \",\" \",\" \",\" \",\" \",\" \",\" \",\" \",\" \",\" \",\" \",\" \",\" \",\" \",\" \",\" \",\" \",\" \",\" \",\" \",\" \",\" \",\" \",\" \",\" \",\" \",\" \",\" \",\" \",\" \",\" \",\" \",\" \",\" \",\" \",\" \",\" \",\" \",\" \",\" \",\" \",\" \",\" \",\" \",\" \",\" \",\" \",\" \",\" \",\" \",\" \",\" \",\" \",\" \",\" \",\" \",\" \",\" \",\" \",\" \",\" \",\" \",\" \",\" \",\" \",\" \",\" \",\" \",\" \",\" \",\" \",\" \",\" \",\" \",\" \",\" \",\" \",\" \",\" \",\" \",\" \",\" \",\" \",\" \",\" \",\" \",\" \",\" \",\" \",\" \",\" \",\" \",\" \",\" \",\" \",\" \",\" \",\" \",\" \",\" \",\" \",\" \",\" \",\" \",\" \",\" \",\" \",\" \",\" \",\" \",\" \",\" \",\" \",\" \",\" \",\" \",\" \",\" \",\" \",\" \",\" \",\" \",\" \",\" \",\" \",\" \",\" \",\" \",\" \",\" \",\" \",\" \",\" \",\" \",\" \",\" \",\" \",\" \",\" \",\" \",\" \",\" \",\" \",\" \",\" \",\" \",\" \",\" \",\" \",\" \",\" \",\" \",\" \",\" \",\" \",\" \",\" \",\" \",\" \",\" \",\" \",\" \",\" \",\" \",\" \",\" \",\" \",\" \",\" \",\" \",\" \",\" \",\" \",\" \",\" \",\" \",\" \",\" \",\" \",\" \",\" \",\" \",\" \",\" \",\" \",\" \",\" \",\" \",\" \",\" \",\" \",\" \",\" \",\" \",\" \",\" \",\" \",\" \",\" \",\" \",\" \",\" \",\" \",\" \",\" \",\" \",\" \",\" \",\" \",\" \",\" \",\" \",\" \",\" \",\" \",\" \",\" \",\" \",\" \",\" \",\" \",\" \",\" \",\" \",\" \",\" \",\" \",\" \",\" \",\" \",\" \",\" \",\" \",\" \",\" \",\" \",\" \",\" \",\" \",\" \",\" \",\" \",\" \",\" \",\" \",\" \",\" \",\" \",\" \",\" \",\" \",\" \",\" \",\" \",\" \",\" \",\" \",\" \",\" \",\" \",\" \",\" \",\" \",\" \",\" \",\" \",\" \",\" \",\" \",\" \",\" \",\" \",\" \",\" \",\" \",\" \",\" \",\" \",\" \",\" \",\" \",\" \",\" \",\" \",\" \",\" \",\" \",\" \",\" \",\" \",\" \",\" \",\" \",\" \",\" \",\" \",\" \",\" \",\" \",\" \",\" \",\" \",\" \",\" \",\" \",\" \",\" \",\" \",\" \",\" \",\" \",\" \",\" \",\" \",\" \",\" \",\" \",\" \",\" \",\" \",\" \",\" \",\" \",\" \",\" \",\" \",\" \",\" \",\" \",\" \",\" \",\" \",\" \",\" \",\" \",\" \",\" \",\" \",\" \",\" \",\" \",\" \",\" \",\" \",\" \",\" \",\" \",\" \",\" \",\" \",\" \",\" \",\" \",\" \",\" \",\" \",\" \",\" \",\" \",\" \",\" \",\" \",\" \",\" \",\" \",\" \",\" \",\" \",\" \",\" \",\" \",\" \",\" \",\" \",\" \",\" \",\" \",\" \",\" \",\" \",\" \",\" \",\" \",\" \",\" \",\" \",\" \",\" \",\" \",\" \",\" \",\" \",\" \",\" \",\" \",\" \",\" \",\" \",\" \",\" \",\" \",\" \",\" \",\" \",\" \",\" \",\" \",\" \",\" \",\" \",\" \",\" \",\" \",\" \",\" \",\" \",\" \",\" \",\" \",\" \",\" \",\" \",\" \",\" \",\" \",\" \",\" \",\" \",\" \",\" \",\" \",\" \",\" \",\" \",\" \",\" \",\" \",\" \",\" \",\" \",\" \",\" \",\" \",\" \",\" \",\" \",\" \",\" \",\" \",\" \",\" \",\" \",\" \",\" \",\" \",\" \",\" \",\" \",\" \",\" \",\" \",\" \",\" \",\" \",\" \",\" \",\" \",\" \",\" \",\" \",\" \",\" \",\" \",\" \",\" \",\" \",\" \",\" \",\" \",\" \",\" \",\" \",\" \",\" \",\" \",\" \",\" \",\" \",\" \",\" \",\" \",\" \",\" \",\" \",\" \",\" \",\" \",\" \",\" \",\" \",\" \",\" \",\" \",\" \",\" \",\" \",\" \",\" \",\" \",\" \",\" \",\" \",\" \",\" \",\" \",\" \",\" \",\" \",\" \",\" \",\" \",\" \",\" \",\" \",\" \",\" \",\" \",\" \",\" \",\" \",\" \",\" \",\" \",\" \",\" \",\" \",\" \",\" \",\" \",\" \",\" \",\" \",\" \",\" \",\" \",\" \",\" \",\" \",\" \",\" \",\" \",\" \",\" \",\" \",\" \",\" \",\" \",\" \",\" \",\" \",\" \",\" \",\" \",\" \",\" \",\" \",\" \",\" \",\" \",\" \",\" \",\" \",\" \",\" \",\" \",\" \",\" \",\" \",\" \",\" \",\" \",\" \",\" \",\" \",\" \",\" \",\" \",\" \",\" \",\" \",\" \",\" \",\" \",\" \",\" \",\" \",\" \",\" \",\" \",\" \",\" \",\" \",\" \",\" \",\" \",\" \",\" \",\" \",\" \",\" \",\" \",\" \",\" \",\" \",\" \",\" \",\" \",\" \",\" \",\" \",\" \",\" \",\" \",\" \",\" \",\" \",\" \",\" \",\" \",\" \",\" \",\" \",\" \",\" \",\" \",\" \",\" \",\" \",\" \",\" \",\" \",\" \",\" \",\" \",\" \",\" \",\" \",\" \",\" \",\" \",\" \",\" \",\" \",\" \",\" \",\" \",\" \",\" \",\" \",\" \",\" \",\" \",\" \",\" \",\" \",\" \",\" \",\" \",\" \",\" \",\" \",\" \",\" \",\" \",\" \",\" \",\" \",\" \",\" \",\" \",\" \",\" \",\" \",\" \",\" \",\" \",\" \",\" \",\" \",\" \",\" \",\" \",\" \",\" \",\" \",\" \",\" \",\" \",\" \",\" \",\" \",\" \",\" \",\" \",\" \",\" \",\" \",\" \",\" \",\" \",\" \",\" \",\" \",\" \",\" \",\" \",\" \",\" \",\" \",\" \",\" \",\" \",\" \",\" \",\" \",\" \",\" \",\" \",\" \",\" \",\" \",\" \",\" \",\" \",\" \",\" \",\" \",\" \",\" \",\" \",\" \",\" \",\" \",\" \",\" \",\" \",\" \",\" \",\" \",\" \",\" \",\" \",\" \",\" \",\" \",\" \",\" \",\" \",\" \",\" \",\" \",\" \",\" \",\" \",\" \",\" \",\" \",\" \",\" \",\" \",\" \",\" \",\" \",\" \",\" \",\" \",\" \",\" \",\" \",\" \",\" \",\" \",\" \",\" \",\" \",\" \",\" \",\" \",\" \",\" \",\" \",\" \",\" \",\" \",\" \",\" \",\" \",\" \",\" \",\" \",\" \",\" \",\" \",\" \",\" \",\" \",\" \",\" \",\" \",\" \",\" \",\" \",\" \",\" \",\" \",\" \",\" \",\" \",\" \",\" \",\" \",\" \",\" \",\" \",\" \",\" \",\" \",\" \",\" \",\" \",\" \",\" \",\" \",\" \",\" \",\" \",\" \",\" \",\" \",\" \",\" \",\" \",\" \",\" \",\" \",\" \",\" \",\" \",\" \",\" \",\" \",\" \",\" \",\" \",\" \",\" \",\" \",\" \",\" \",\" \",\" \",\" \",\" \",\" \",\" \",\" \",\" \",\" \",\" \",\" \",\" \",\" \",\" \",\" \",\" \",\" \",\" \",\" \",\" \",\" \",\" \",\" \",\" \",\" \",\" \",\" \",\" \",\" \",\" \",\" \",\" \",\" \",\" \",\" \",\" \",\" \",\" \",\" \",\" \",\" \",\" \",\" \",\" \",\" \",\" \",\" \",\" \",\" \",\" \",\" \",\" \",\" \",\" \",\" \",\" \",\" \",\" \",\" \",\" \",\" \",\" \",\" \",\" \",\" \",\" \",\" \",\" \",\" \",\" \",\" \",\" \",\" \",\" \",\" \",\" \",\" \",\" \",\" \",\" \",\" \",\" \",\" \",\" \",\" \",\" \",\" \",\" \",\" \",\" \",\" \",\" \",\" \",\" \",\" \",\" \",\" \",\" \",\" \",\" \",\" \",\" \",\" \",\" \",\" \",\" \",\" \",\" \",\" \",\" \",\" \",\" \",\" \",\" \",\" \",\" \",\" \",\" \",\" \",\" \",\" \",\" \",\" \",\" \",\" \",\" \",\" \",\" \",\" \",\" \",\" \",\" \",\" \",\" \",\" \",\" \",\" \",\" \",\" \",\" \",\" \",\" \",\" \",\" \",\" \",\" \",\" \",\" \",\" \",\" \",\" \",\" \",\" \",\" \",\" \",\" \",\" \",\" \",\" \",\" \",\" \",\" \",\" \",\" \",\" \",\" \",\" \",\" \",\" \",\" \",\" \",\" \",\" \",\" \",\" \",\" \",\" \",\" \",\" \",\" \",\" \",\" \",\" \",\" \",\" \",\" \",\" \",\" \",\" \",\" \",\" \",\" \",\" \",\" \",\" \",\" \",\" \",\" \",\" \",\" \",\" \",\" \",\" \",\" \",\" \",\" \",\" \",\" \",\" \",\" \",\" \",\" \",\" \",\" \",\" \",\" \",\" \",\" \",\" \",\" \",\" \",\" \",\" \",\" \",\" \",\" \",\" \",\" \",\" \",\" \",\" \",\" \",\" \",\" \",\" \",\" \",\" \",\" \",\" \",\" \",\" \",\" \",\" \",\" \",\" \",\" \",\" \",\" \",\" \",\" \",\" \",\" \",\" \",\" \",\" \",\" \",\" \",\" \",\" \",\" \",\" \",\" \",\" \",\" \",\" \",\" \",\" \",\" \",\" \",\" \",\" \",\" \",\" \",\" \",\" \",\" \",\" \",\" \",\" \",\" \",\" \",\" \",\" \",\" \",\" \",\" \",\" \",\" \",\" \",\" \",\" \",\" \",\" \",\" \",\" \",\" \",\" \",\" \",\" \",\" \",\" \",\" \",\" \",\" \",\" \",\" \",\" \",\" \",\" \",\" \",\" \",\" \",\" \",\" \",\" \",\" \",\" \",\" \",\" \",\" \",\" \",\" \",\" \",\" \",\" \",\" \",\" \",\" \",\" \",\" \",\" \",\" \",\" \",\" \",\" \",\" \",\" \",\" \",\" \",\" \",\" \",\" \",\" \",\" \",\" \",\" \",\" \",\" \",\" \",\" \",\" \",\" \",\" \",\" \",\" \",\" \",\" \",\" \",\" \",\" \",\" \",\" \",\" \",\" \",\" \",\" \",\" \",\" \",\" \",\" \",\" \",\" \",\" \",\" \",\" \",\" \",\" \",\" \",\" \",\" \",\" \",\" \",\" \",\" \",\" \",\" \",\" \",\" \",\" \",\" \",\" \",\" \",\" \",\" \",\" \",\" \",\" \",\" \",\" \",\" \",\" \",\" \",\" \",\" \",\" \",\" \",\" \",\" \",\" \",\" \",\" \",\" \",\" \",\" \",\" \",\" \",\" \",\" \",\" \",\" \",\" \",\" \",\" \",\" \",\" \",\" \",\" \",\" \",\" \",\" \",\" \",\" \",\" \",\" \",\" \",\" \",\" \",\" \",\" \",\" \",\" \",\" \",\" \",\" \",\" \",\" \",\" \",\" \",\" \",\" \",\" \",\" \",\" \",\" \",\" \",\" \",\" \",\" \",\" \",\" \",\" \",\" \",\" \",\" \",\" \",\" \",\" \",\" \",\" \",\" \",\" \",\" \",\" \",\" \",\" \",\" \",\" \",\" \",\" \",\" \",\" \",\" \",\" \",\" \",\" \",\" \",\" \",\" \",\" \",\" \",\" \",\" \",\" \",\" \",\" \",\" \",\" \",\" \",\" \",\" \",\" \",\" \",\" \",\" \",\" \",\" \",\" \",\" \",\" \",\" \",\" \",\" \",\" \",\" \",\" \",\" \",\" \",\" \",\" \",\" \",\" \",\" \",\" \",\" \",\" \",\" \",\" \",\" \",\" \",\" \",\" \",\" \",\" \",\" \",\" \",\" \",\" \",\" \",\" \",\" \",\" \",\" \",\" \",\" \",\" \",\" \",\" \",\" \",\" \",\" \",\" \",\" \",\" \",\" \",\" \",\" \",\" \",\" \",\" \",\" \",\" \",\" \",\" \",\" \",\" \",\" \",\" \",\" \",\" \",\" \",\" \",\" \",\" \",\" \",\" \",\" \",\" \",\" \",\" \",\" \",\" \",\" \",\" \",\" \",\" \",\" \",\" \",\" \",\" \",\" \",\" \",\" \",\" \",\" \",\" \",\" \",\" \",\" \",\" \",\" \",\" \",\" \",\" \",\" \",\" \",\" \",\" \",\" \",\" \",\" \",\" \",\" \",\" \",\" \",\" \",\" \",\" \",\" \",\" \",\" \",\" \",\" \",\" \",\" \",\" \",\" \",\" \",\" \",\" \",\" \",\" \",\" \",\" \",\" \",\" \",\" \",\" \",\" \",\" \",\" \",\" \",\" \",\" \",\" \",\" \",\" \",\" \",\" \",\" \",\" \",\" \",\" \",\" \",\" \",\" \",\" \",\" \",\" \",\" \",\" \",\" \",\" \",\" \",\" \",\" \",\" \",\" \",\" \",\" \",\" \",\" \",\" \",\" \",\" \",\" \",\" \",\" \",\" \",\" \",\" \",\" \",\" \",\" \",\" \",\" \",\" \",\" \",\" \",\" \",\" \",\" \",\" \",\" \",\" \",\" \",\" \",\" \",\" \",\" \",\" \",\" \",\" \",\" \",\" \",\" \",\" \",\" \",\" \",\" \",\" \",\" \",\" \",\" \",\" \",\" \",\" \",\" \",\" \",\" \",\" \"],\"bs_reps\":{\"__ndarray__\":\"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\",\"dtype\":\"float64\",\"shape\":[2000]},\"index\":[0,1,2,3,4,5,6,7,8,9,10,11,12,13,14,15,16,17,18,19,20,21,22,23,24,25,26,27,28,29,30,31,32,33,34,35,36,37,38,39,40,41,42,43,44,45,46,47,48,49,50,51,52,53,54,55,56,57,58,59,60,61,62,63,64,65,66,67,68,69,70,71,72,73,74,75,76,77,78,79,80,81,82,83,84,85,86,87,88,89,90,91,92,93,94,95,96,97,98,99,100,101,102,103,104,105,106,107,108,109,110,111,112,113,114,115,116,117,118,119,120,121,122,123,124,125,126,127,128,129,130,131,132,133,134,135,136,137,138,139,140,141,142,143,144,145,146,147,148,149,150,151,152,153,154,155,156,157,158,159,160,161,162,163,164,165,166,167,168,169,170,171,172,173,174,175,176,177,178,179,180,181,182,183,184,185,186,187,188,189,190,191,192,193,194,195,196,197,198,199,200,201,202,203,204,205,206,207,208,209,210,211,212,213,214,215,216,217,218,219,220,221,222,223,224,225,226,227,228,229,230,231,232,233,234,235,236,237,238,239,240,241,242,243,244,245,246,247,248,249,250,251,252,253,254,255,256,257,258,259,260,261,262,263,264,265,266,267,268,269,270,271,272,273,274,275,276,277,278,279,280,281,282,283,284,285,286,287,288,289,290,291,292,293,294,295,296,297,298,299,300,301,302,303,304,305,306,307,308,309,310,311,312,313,314,315,316,317,318,319,320,321,322,323,324,325,326,327,328,329,330,331,332,333,334,335,336,337,338,339,340,341,342,343,344,345,346,347,348,349,350,351,352,353,354,355,356,357,358,359,360,361,362,363,364,365,366,367,368,369,370,371,372,373,374,375,376,377,378,379,380,381,382,383,384,385,386,387,388,389,390,391,392,393,394,395,396,397,398,399,400,401,402,403,404,405,406,407,408,409,410,411,412,413,414,415,416,417,418,419,420,421,422,423,424,425,426,427,428,429,430,431,432,433,434,435,436,437,438,439,440,441,442,443,444,445,446,447,448,449,450,451,452,453,454,455,456,457,458,459,460,461,462,463,464,465,466,467,468,469,470,471,472,473,474,475,476,477,478,479,480,481,482,483,484,485,486,487,488,489,490,491,492,493,494,495,496,497,498,499,500,501,502,503,504,505,506,507,508,509,510,511,512,513,514,515,516,517,518,519,520,521,522,523,524,525,526,527,528,529,530,531,532,533,534,535,536,537,538,539,540,541,542,543,544,545,546,547,548,549,550,551,552,553,554,555,556,557,558,559,560,561,562,563,564,565,566,567,568,569,570,571,572,573,574,575,576,577,578,579,580,581,582,583,584,585,586,587,588,589,590,591,592,593,594,595,596,597,598,599,600,601,602,603,604,605,606,607,608,609,610,611,612,613,614,615,616,617,618,619,620,621,622,623,624,625,626,627,628,629,630,631,632,633,634,635,636,637,638,639,640,641,642,643,644,645,646,647,648,649,650,651,652,653,654,655,656,657,658,659,660,661,662,663,664,665,666,667,668,669,670,671,672,673,674,675,676,677,678,679,680,681,682,683,684,685,686,687,688,689,690,691,692,693,694,695,696,697,698,699,700,701,702,703,704,705,706,707,708,709,710,711,712,713,714,715,716,717,718,719,720,721,722,723,724,725,726,727,728,729,730,731,732,733,734,735,736,737,738,739,740,741,742,743,744,745,746,747,748,749,750,751,752,753,754,755,756,757,758,759,760,761,762,763,764,765,766,767,768,769,770,771,772,773,774,775,776,777,778,779,780,781,782,783,784,785,786,787,788,789,790,791,792,793,794,795,796,797,798,799,800,801,802,803,804,805,806,807,808,809,810,811,812,813,814,815,816,817,818,819,820,821,822,823,824,825,826,827,828,829,830,831,832,833,834,835,836,837,838,839,840,841,842,843,844,845,846,847,848,849,850,851,852,853,854,855,856,857,858,859,860,861,862,863,864,865,866,867,868,869,870,871,872,873,874,875,876,877,878,879,880,881,882,883,884,885,886,887,888,889,890,891,892,893,894,895,896,897,898,899,900,901,902,903,904,905,906,907,908,909,910,911,912,913,914,915,916,917,918,919,920,921,922,923,924,925,926,927,928,929,930,931,932,933,934,935,936,937,938,939,940,941,942,943,944,945,946,947,948,949,950,951,952,953,954,955,956,957,958,959,960,961,962,963,964,965,966,967,968,969,970,971,972,973,974,975,976,977,978,979,980,981,982,983,984,985,986,987,988,989,990,991,992,993,994,995,996,997,998,999,1000,1001,1002,1003,1004,1005,1006,1007,1008,1009,1010,1011,1012,1013,1014,1015,1016,1017,1018,1019,1020,1021,1022,1023,1024,1025,1026,1027,1028,1029,1030,1031,1032,1033,1034,1035,1036,1037,1038,1039,1040,1041,1042,1043,1044,1045,1046,1047,1048,1049,1050,1051,1052,1053,1054,1055,1056,1057,1058,1059,1060,1061,1062,1063,1064,1065,1066,1067,1068,1069,1070,1071,1072,1073,1074,1075,1076,1077,1078,1079,1080,1081,1082,1083,1084,1085,1086,1087,1088,1089,1090,1091,1092,1093,1094,1095,1096,1097,1098,1099,1100,1101,1102,1103,1104,1105,1106,1107,1108,1109,1110,1111,1112,1113,1114,1115,1116,1117,1118,1119,1120,1121,1122,1123,1124,1125,1126,1127,1128,1129,1130,1131,1132,1133,1134,1135,1136,1137,1138,1139,1140,1141,1142,1143,1144,1145,1146,1147,1148,1149,1150,1151,1152,1153,1154,1155,1156,1157,1158,1159,1160,1161,1162,1163,1164,1165,1166,1167,1168,1169,1170,1171,1172,1173,1174,1175,1176,1177,1178,1179,1180,1181,1182,1183,1184,1185,1186,1187,1188,1189,1190,1191,1192,1193,1194,1195,1196,1197,1198,1199,1200,1201,1202,1203,1204,1205,1206,1207,1208,1209,1210,1211,1212,1213,1214,1215,1216,1217,1218,1219,1220,1221,1222,1223,1224,1225,1226,1227,1228,1229,1230,1231,1232,1233,1234,1235,1236,1237,1238,1239,1240,1241,1242,1243,1244,1245,1246,1247,1248,1249,1250,1251,1252,1253,1254,1255,1256,1257,1258,1259,1260,1261,1262,1263,1264,1265,1266,1267,1268,1269,1270,1271,1272,1273,1274,1275,1276,1277,1278,1279,1280,1281,1282,1283,1284,1285,1286,1287,1288,1289,1290,1291,1292,1293,1294,1295,1296,1297,1298,1299,1300,1301,1302,1303,1304,1305,1306,1307,1308,1309,1310,1311,1312,1313,1314,1315,1316,1317,1318,1319,1320,1321,1322,1323,1324,1325,1326,1327,1328,1329,1330,1331,1332,1333,1334,1335,1336,1337,1338,1339,1340,1341,1342,1343,1344,1345,1346,1347,1348,1349,1350,1351,1352,1353,1354,1355,1356,1357,1358,1359,1360,1361,1362,1363,1364,1365,1366,1367,1368,1369,1370,1371,1372,1373,1374,1375,1376,1377,1378,1379,1380,1381,1382,1383,1384,1385,1386,1387,1388,1389,1390,1391,1392,1393,1394,1395,1396,1397,1398,1399,1400,1401,1402,1403,1404,1405,1406,1407,1408,1409,1410,1411,1412,1413,1414,1415,1416,1417,1418,1419,1420,1421,1422,1423,1424,1425,1426,1427,1428,1429,1430,1431,1432,1433,1434,1435,1436,1437,1438,1439,1440,1441,1442,1443,1444,1445,1446,1447,1448,1449,1450,1451,1452,1453,1454,1455,1456,1457,1458,1459,1460,1461,1462,1463,1464,1465,1466,1467,1468,1469,1470,1471,1472,1473,1474,1475,1476,1477,1478,1479,1480,1481,1482,1483,1484,1485,1486,1487,1488,1489,1490,1491,1492,1493,1494,1495,1496,1497,1498,1499,1500,1501,1502,1503,1504,1505,1506,1507,1508,1509,1510,1511,1512,1513,1514,1515,1516,1517,1518,1519,1520,1521,1522,1523,1524,1525,1526,1527,1528,1529,1530,1531,1532,1533,1534,1535,1536,1537,1538,1539,1540,1541,1542,1543,1544,1545,1546,1547,1548,1549,1550,1551,1552,1553,1554,1555,1556,1557,1558,1559,1560,1561,1562,1563,1564,1565,1566,1567,1568,1569,1570,1571,1572,1573,1574,1575,1576,1577,1578,1579,1580,1581,1582,1583,1584,1585,1586,1587,1588,1589,1590,1591,1592,1593,1594,1595,1596,1597,1598,1599,1600,1601,1602,1603,1604,1605,1606,1607,1608,1609,1610,1611,1612,1613,1614,1615,1616,1617,1618,1619,1620,1621,1622,1623,1624,1625,1626,1627,1628,1629,1630,1631,1632,1633,1634,1635,1636,1637,1638,1639,1640,1641,1642,1643,1644,1645,1646,1647,1648,1649,1650,1651,1652,1653,1654,1655,1656,1657,1658,1659,1660,1661,1662,1663,1664,1665,1666,1667,1668,1669,1670,1671,1672,1673,1674,1675,1676,1677,1678,1679,1680,1681,1682,1683,1684,1685,1686,1687,1688,1689,1690,1691,1692,1693,1694,1695,1696,1697,1698,1699,1700,1701,1702,1703,1704,1705,1706,1707,1708,1709,1710,1711,1712,1713,1714,1715,1716,1717,1718,1719,1720,1721,1722,1723,1724,1725,1726,1727,1728,1729,1730,1731,1732,1733,1734,1735,1736,1737,1738,1739,1740,1741,1742,1743,1744,1745,1746,1747,1748,1749,1750,1751,1752,1753,1754,1755,1756,1757,1758,1759,1760,1761,1762,1763,1764,1765,1766,1767,1768,1769,1770,1771,1772,1773,1774,1775,1776,1777,1778,1779,1780,1781,1782,1783,1784,1785,1786,1787,1788,1789,1790,1791,1792,1793,1794,1795,1796,1797,1798,1799,1800,1801,1802,1803,1804,1805,1806,1807,1808,1809,1810,1811,1812,1813,1814,1815,1816,1817,1818,1819,1820,1821,1822,1823,1824,1825,1826,1827,1828,1829,1830,1831,1832,1833,1834,1835,1836,1837,1838,1839,1840,1841,1842,1843,1844,1845,1846,1847,1848,1849,1850,1851,1852,1853,1854,1855,1856,1857,1858,1859,1860,1861,1862,1863,1864,1865,1866,1867,1868,1869,1870,1871,1872,1873,1874,1875,1876,1877,1878,1879,1880,1881,1882,1883,1884,1885,1886,1887,1888,1889,1890,1891,1892,1893,1894,1895,1896,1897,1898,1899,1900,1901,1902,1903,1904,1905,1906,1907,1908,1909,1910,1911,1912,1913,1914,1915,1916,1917,1918,1919,1920,1921,1922,1923,1924,1925,1926,1927,1928,1929,1930,1931,1932,1933,1934,1935,1936,1937,1938,1939,1940,1941,1942,1943,1944,1945,1946,1947,1948,1949,1950,1951,1952,1953,1954,1955,1956,1957,1958,1959,1960,1961,1962,1963,1964,1965,1966,1967,1968,1969,1970,1971,1972,1973,1974,1975,1976,1977,1978,1979,1980,1981,1982,1983,1984,1985,1986,1987,1988,1989,1990,1991,1992,1993,1994,1995,1996,1997,1998,1999]},\"selected\":{\"id\":\"1367\",\"type\":\"Selection\"},\"selection_policy\":{\"id\":\"1368\",\"type\":\"UnionRenderers\"}},\"id\":\"1324\",\"type\":\"ColumnDataSource\"},{\"attributes\":{},\"id\":\"1311\",\"type\":\"PanTool\"},{\"attributes\":{\"text\":\"\"},\"id\":\"1331\",\"type\":\"Title\"},{\"attributes\":{\"axis_label\":\"ECDF\",\"formatter\":{\"id\":\"1333\",\"type\":\"BasicTickFormatter\"},\"ticker\":{\"id\":\"1307\",\"type\":\"BasicTicker\"}},\"id\":\"1306\",\"type\":\"LinearAxis\"},{\"attributes\":{\"label\":{\"value\":\" \"},\"renderers\":[{\"id\":\"1328\",\"type\":\"GlyphRenderer\"}]},\"id\":\"1338\",\"type\":\"LegendItem\"},{\"attributes\":{},\"id\":\"1368\",\"type\":\"UnionRenderers\"},{\"attributes\":{\"ticker\":{\"id\":\"1302\",\"type\":\"BasicTicker\"}},\"id\":\"1305\",\"type\":\"Grid\"},{\"attributes\":{\"source\":{\"id\":\"1324\",\"type\":\"ColumnDataSource\"}},\"id\":\"1329\",\"type\":\"CDSView\"},{\"attributes\":{},\"id\":\"1314\",\"type\":\"SaveTool\"},{\"attributes\":{\"fill_alpha\":{\"value\":0.1},\"fill_color\":{\"value\":\"#1f77b4\"},\"line_alpha\":{\"value\":0.1},\"line_color\":{\"value\":\"#1f77b4\"},\"x\":{\"field\":\"bs_reps\"},\"y\":{\"field\":\"__ECDF\"}},\"id\":\"1327\",\"type\":\"Circle\"},{\"attributes\":{},\"id\":\"1302\",\"type\":\"BasicTicker\"},{\"attributes\":{},\"id\":\"1307\",\"type\":\"BasicTicker\"},{\"attributes\":{},\"id\":\"1316\",\"type\":\"HelpTool\"},{\"attributes\":{},\"id\":\"1367\",\"type\":\"Selection\"},{\"attributes\":{\"bottom_units\":\"screen\",\"fill_alpha\":{\"value\":0.5},\"fill_color\":{\"value\":\"lightgrey\"},\"left_units\":\"screen\",\"level\":\"overlay\",\"line_alpha\":{\"value\":1.0},\"line_color\":{\"value\":\"black\"},\"line_dash\":[4,4],\"line_width\":{\"value\":2},\"render_mode\":\"css\",\"right_units\":\"screen\",\"top_units\":\"screen\"},\"id\":\"1336\",\"type\":\"BoxAnnotation\"},{\"attributes\":{},\"id\":\"1335\",\"type\":\"BasicTickFormatter\"},{\"attributes\":{\"fill_color\":{\"value\":\"#4e79a7\"},\"line_color\":{\"value\":\"#4e79a7\"},\"x\":{\"field\":\"bs_reps\"},\"y\":{\"field\":\"__ECDF\"}},\"id\":\"1326\",\"type\":\"Circle\"},{\"attributes\":{},\"id\":\"1297\",\"type\":\"LinearScale\"},{\"attributes\":{},\"id\":\"1299\",\"type\":\"LinearScale\"},{\"attributes\":{\"callback\":null},\"id\":\"1293\",\"type\":\"DataRange1d\"},{\"attributes\":{\"active_drag\":\"auto\",\"active_inspect\":\"auto\",\"active_multi\":null,\"active_scroll\":\"auto\",\"active_tap\":\"auto\",\"tools\":[{\"id\":\"1311\",\"type\":\"PanTool\"},{\"id\":\"1312\",\"type\":\"WheelZoomTool\"},{\"id\":\"1313\",\"type\":\"BoxZoomTool\"},{\"id\":\"1314\",\"type\":\"SaveTool\"},{\"id\":\"1315\",\"type\":\"ResetTool\"},{\"id\":\"1316\",\"type\":\"HelpTool\"}]},\"id\":\"1317\",\"type\":\"Toolbar\"},{\"attributes\":{\"dimension\":1,\"ticker\":{\"id\":\"1307\",\"type\":\"BasicTicker\"}},\"id\":\"1310\",\"type\":\"Grid\"},{\"attributes\":{\"data_source\":{\"id\":\"1324\",\"type\":\"ColumnDataSource\"},\"glyph\":{\"id\":\"1326\",\"type\":\"Circle\"},\"hover_glyph\":null,\"muted_glyph\":null,\"nonselection_glyph\":{\"id\":\"1327\",\"type\":\"Circle\"},\"selection_glyph\":null,\"view\":{\"id\":\"1329\",\"type\":\"CDSView\"}},\"id\":\"1328\",\"type\":\"GlyphRenderer\"}],\"root_ids\":[\"1292\"]},\"title\":\"Bokeh Application\",\"version\":\"1.2.0\"}};\n",
       "  var render_items = [{\"docid\":\"75c5b8a5-f4ce-4f1c-9406-c96c1c1257b3\",\"roots\":{\"1292\":\"4423bee9-080a-4411-aa3b-28c99eaf5ac2\"}}];\n",
       "  root.Bokeh.embed.embed_items_notebook(docs_json, render_items);\n",
       "\n",
       "  }\n",
       "  if (root.Bokeh !== undefined) {\n",
       "    embed_document(root);\n",
       "  } else {\n",
       "    var attempts = 0;\n",
       "    var timer = setInterval(function(root) {\n",
       "      if (root.Bokeh !== undefined) {\n",
       "        embed_document(root);\n",
       "        clearInterval(timer);\n",
       "      }\n",
       "      attempts++;\n",
       "      if (attempts > 100) {\n",
       "        console.log(\"Bokeh: ERROR: Unable to run BokehJS code because BokehJS library is missing\");\n",
       "        clearInterval(timer);\n",
       "      }\n",
       "    }, 10, root)\n",
       "  }\n",
       "})(window);"
      ],
      "application/vnd.bokehjs_exec.v0+json": ""
     },
     "metadata": {
      "application/vnd.bokehjs_exec.v0+json": {
       "id": "1292"
      }
     },
     "output_type": "display_data"
    }
   ],
   "source": [
    "# Original data set\n",
    "p = bokeh_catplot.ecdf(\n",
    "    data=pd.DataFrame({'bs_reps': bs_reps_1975}),\n",
    "    cats=None,\n",
    "    val='bs_reps',\n",
    "    x_axis_label='mean beak depth (mm)',\n",
    ")\n",
    "\n",
    "bokeh.io.show(p)"
   ]
  },
  {
   "cell_type": "markdown",
   "metadata": {},
   "source": [
    "It looks Normally distributed, and in fact it must be Normally distributed by the Central Limit Theorem (which we will not discuss here, but we didn't really need to derive; hacker statistics brought us here!). The most probable mean (located at the inflection point on the CDF) we would get is 8.96 mm, which was what was measured, but upon repeating the experiment, we could get a mean as low as about 8.7 mm or as high as about 9.2 mm.\n",
    "\n",
    "Let's compute the 95% confidence interval."
   ]
  },
  {
   "cell_type": "code",
   "execution_count": 11,
   "metadata": {},
   "outputs": [
    {
     "data": {
      "text/plain": [
       "array([8.84168678, 9.07644253])"
      ]
     },
     "execution_count": 11,
     "metadata": {},
     "output_type": "execute_result"
    }
   ],
   "source": [
    "conf_int_1975 = np.percentile(bs_reps_1975, [2.5, 97.5])\n",
    "conf_int_1975"
   ]
  },
  {
   "cell_type": "markdown",
   "metadata": {},
   "source": [
    "### Aside: list comprehensions\n",
    "\n",
    "The construction we had for making our bootstrap replicates was a bit clunky:\n",
    "\n",
    "```python\n",
    "# Initialize bootstrap replicas array\n",
    "bs_reps_1975 = np.empty(n_reps)\n",
    "\n",
    "# Compute replicates\n",
    "for i in range(n_reps):\n",
    "    bs_sample = np.random.choice(bd_1975, size=len(bd_1975))\n",
    "    bs_reps_1975[i] = np.mean(bs_sample)\n",
    "```\n",
    "\n",
    "We had to set up an empty array, and then loop through each index, draw a bootstrap sample, compute its mean to get the replicate, and then place it in the array. We could, instead, write a function to compute a bootstrap replicate from data."
   ]
  },
  {
   "cell_type": "code",
   "execution_count": 12,
   "metadata": {
    "collapsed": true
   },
   "outputs": [],
   "source": [
    "def draw_bs_rep(data, func=np.mean):\n",
    "    \"\"\"Compute a bootstrap replicate from data.\"\"\"\n",
    "    bs_sample = np.random.choice(data, size=len(data))\n",
    "    return func(bs_sample)"
   ]
  },
  {
   "cell_type": "markdown",
   "metadata": {},
   "source": [
    "Note that this function is generic in that it can compute the replicate using any summary statistic function, such as `np.median()`, `np.std()`, or anything else. With this function in hand, our code starts to look a little cleaner.\n",
    "\n",
    "```python\n",
    "# Initialize bootstrap replicas array\n",
    "bs_reps_1975 = np.empty(n_reps)\n",
    "\n",
    "# Compute replicates\n",
    "for i in range(n_reps):\n",
    "    bs_reps_1975 = draw_bs_rep(bd_1975, func=np.mean)\n",
    "```"
   ]
  },
  {
   "cell_type": "markdown",
   "metadata": {},
   "source": [
    "We still have the problem that we initialize the array and then do the **`for`** loop. Python offers us a very useful alternative to this kind of procedure of initializing and array and the looping over it: **list comprehensions**. This, as usual, is best seen by example."
   ]
  },
  {
   "cell_type": "code",
   "execution_count": 13,
   "metadata": {
    "collapsed": true
   },
   "outputs": [],
   "source": [
    "bs_reps_1975 = [draw_bs_rep(bd_1975, func=np.mean) for _ in range(n_reps)]"
   ]
  },
  {
   "cell_type": "markdown",
   "metadata": {},
   "source": [
    "To use a list comprehension to make a list, you enclose the expression in brackets. The first item in the brackets is what you want to put at each element of the list you are creating. Next, you use a **`for`** keyword to set up the iteration over the elements of the list. In our case, the index of the element does not matter; we just want to compute `n_reps` replicates, so we do not need to keep track of the index.\n",
    "\n",
    "The result is a list, so we might want to convert it to a Numpy array."
   ]
  },
  {
   "cell_type": "code",
   "execution_count": 14,
   "metadata": {
    "collapsed": true
   },
   "outputs": [],
   "source": [
    "bs_reps_1975 = np.array([draw_bs_rep(bd_1975, func=np.mean) for _ in range(n_reps)])"
   ]
  },
  {
   "cell_type": "markdown",
   "metadata": {},
   "source": [
    "This is much more concise and perhaps cleaner syntax.\n",
    "\n",
    "Just to demonstrate how values of an iterator can be passed for each element to provide better understanding of how list comprehensions work, here is how you can make a list of the first 10 cubes."
   ]
  },
  {
   "cell_type": "code",
   "execution_count": 15,
   "metadata": {},
   "outputs": [
    {
     "data": {
      "text/plain": [
       "[1, 8, 27, 64, 125, 216, 343, 512, 729, 1000]"
      ]
     },
     "execution_count": 15,
     "metadata": {},
     "output_type": "execute_result"
    }
   ],
   "source": [
    "[i**3 for i in range(1, 11)]"
   ]
  },
  {
   "cell_type": "markdown",
   "metadata": {},
   "source": [
    "Great! Now let's use a list comprehension to make bootstrap replicates for the 2012 samples."
   ]
  },
  {
   "cell_type": "code",
   "execution_count": 16,
   "metadata": {
    "collapsed": true
   },
   "outputs": [],
   "source": [
    "# Compute replicates\n",
    "bs_reps_2012 = np.array([draw_bs_rep(bd_2012, func=np.mean) for _ in range(n_reps)])\n",
    "    \n",
    "# Compute the confidence interval\n",
    "conf_int_2012 = np.percentile(bs_reps_2012, [2.5, 97.5])"
   ]
  },
  {
   "cell_type": "markdown",
   "metadata": {},
   "source": [
    "Now, let's print the two confidence intervals next to each other for comparison."
   ]
  },
  {
   "cell_type": "code",
   "execution_count": 17,
   "metadata": {},
   "outputs": [
    {
     "name": "stdout",
     "output_type": "stream",
     "text": [
      "[8.84168678 9.07644253]\n",
      "[9.07258929 9.30556548]\n"
     ]
    }
   ],
   "source": [
    "print(conf_int_1975)\n",
    "print(conf_int_2012)"
   ]
  },
  {
   "cell_type": "markdown",
   "metadata": {},
   "source": [
    "So, the 95% confidence intervals for the 2012 and 1975 juuust overlap. This implies that the inherent variation in beak depths is likely not responsible for the observed difference. There was likely some selective pressure toward deeper beaks."
   ]
  },
  {
   "cell_type": "markdown",
   "metadata": {},
   "source": [
    "## Equivalence of bootstrap samples and standard error of the mean\n",
    "\n",
    "The **standard error of the mean**, or SEM, is a measure of uncertainty of the estimate of the mean. In other words, if we did the set of measurements again, we would get a different mean. The variability in these measured means is described by the SEM. Specifically, it is the standard deviation of the Normal distribution describing the mean of repeated measurements. So, from bootcamp replicates, we can directly apply this formula."
   ]
  },
  {
   "cell_type": "code",
   "execution_count": 18,
   "metadata": {},
   "outputs": [
    {
     "data": {
      "text/plain": [
       "0.06109072273602134"
      ]
     },
     "execution_count": 18,
     "metadata": {},
     "output_type": "execute_result"
    }
   ],
   "source": [
    "bs_sem = np.std(bs_reps_1975)\n",
    "bs_sem"
   ]
  },
  {
   "cell_type": "markdown",
   "metadata": {},
   "source": [
    "It can be shown analytically that the SEM can be computed directly from the measurements as the standard deviation of the measurements divided by the square root of the number of measurements."
   ]
  },
  {
   "cell_type": "code",
   "execution_count": 19,
   "metadata": {},
   "outputs": [
    {
     "data": {
      "text/plain": [
       "0.06074539219629801"
      ]
     },
     "execution_count": 19,
     "metadata": {},
     "output_type": "execute_result"
    }
   ],
   "source": [
    "sem = np.std(bd_1975, ddof=1) / np.sqrt(len(bd_1975))\n",
    "sem"
   ]
  },
  {
   "cell_type": "markdown",
   "metadata": {},
   "source": [
    "Hey, we got the same result! You may think I'm a jerk for making you get a simple answer the hard way by bootstrapping. But remember that bootstrap replicates are easy to generate in general for *any* statistic, and the error on those statistics might not be as simple as for the mean."
   ]
  },
  {
   "cell_type": "markdown",
   "metadata": {},
   "source": [
    "## Bootstrap confidence interval of the standard deviation\n",
    "\n",
    "We are not limited to computing bootstrap confidence intervals of the mean. We could compute bootstrap confidence intervals of any statistic, like the median, standard deviation, the standard deviation divided by the mean (coefficient of variation), whatever we like. Computing the confidence interval for the standard deviation is the same procedure as we have done; we just put `np.std` in for `np.mean`."
   ]
  },
  {
   "cell_type": "code",
   "execution_count": 20,
   "metadata": {},
   "outputs": [
    {
     "name": "stdout",
     "output_type": "stream",
     "text": [
      "[0.47569335 0.64122206]\n"
     ]
    },
    {
     "data": {
      "text/html": [
       "\n",
       "\n",
       "\n",
       "\n",
       "\n",
       "\n",
       "  <div class=\"bk-root\" id=\"369e0fde-5566-4b25-ab2f-8065d3fb8ed3\" data-root-id=\"1424\"></div>\n"
      ]
     },
     "metadata": {},
     "output_type": "display_data"
    },
    {
     "data": {
      "application/javascript": [
       "(function(root) {\n",
       "  function embed_document(root) {\n",
       "    \n",
       "  var docs_json = {\"7b42dcc0-8be0-40e2-8ff0-0d42da195f36\":{\"roots\":{\"references\":[{\"attributes\":{\"below\":[{\"id\":\"1433\",\"type\":\"LinearAxis\"}],\"center\":[{\"id\":\"1437\",\"type\":\"Grid\"},{\"id\":\"1442\",\"type\":\"Grid\"},{\"id\":\"1469\",\"type\":\"Legend\"}],\"left\":[{\"id\":\"1438\",\"type\":\"LinearAxis\"}],\"plot_height\":300,\"plot_width\":400,\"renderers\":[{\"id\":\"1460\",\"type\":\"GlyphRenderer\"}],\"title\":{\"id\":\"1463\",\"type\":\"Title\"},\"toolbar\":{\"id\":\"1449\",\"type\":\"Toolbar\"},\"x_range\":{\"id\":\"1425\",\"type\":\"DataRange1d\"},\"x_scale\":{\"id\":\"1429\",\"type\":\"LinearScale\"},\"y_range\":{\"id\":\"1427\",\"type\":\"DataRange1d\"},\"y_scale\":{\"id\":\"1431\",\"type\":\"LinearScale\"}},\"id\":\"1424\",\"subtype\":\"Figure\",\"type\":\"Plot\"},{\"attributes\":{\"items\":[{\"id\":\"1470\",\"type\":\"LegendItem\"}],\"visible\":false},\"id\":\"1469\",\"type\":\"Legend\"},{\"attributes\":{},\"id\":\"1447\",\"type\":\"ResetTool\"},{\"attributes\":{\"ticker\":{\"id\":\"1434\",\"type\":\"BasicTicker\"}},\"id\":\"1437\",\"type\":\"Grid\"},{\"attributes\":{\"label\":{\"value\":\" \"},\"renderers\":[{\"id\":\"1460\",\"type\":\"GlyphRenderer\"}]},\"id\":\"1470\",\"type\":\"LegendItem\"},{\"attributes\":{},\"id\":\"1448\",\"type\":\"HelpTool\"},{\"attributes\":{\"callback\":null},\"id\":\"1427\",\"type\":\"DataRange1d\"},{\"attributes\":{\"active_drag\":\"auto\",\"active_inspect\":\"auto\",\"active_multi\":null,\"active_scroll\":\"auto\",\"active_tap\":\"auto\",\"tools\":[{\"id\":\"1443\",\"type\":\"PanTool\"},{\"id\":\"1444\",\"type\":\"WheelZoomTool\"},{\"id\":\"1445\",\"type\":\"BoxZoomTool\"},{\"id\":\"1446\",\"type\":\"SaveTool\"},{\"id\":\"1447\",\"type\":\"ResetTool\"},{\"id\":\"1448\",\"type\":\"HelpTool\"}]},\"id\":\"1449\",\"type\":\"Toolbar\"},{\"attributes\":{},\"id\":\"1429\",\"type\":\"LinearScale\"},{\"attributes\":{\"callback\":null},\"id\":\"1425\",\"type\":\"DataRange1d\"},{\"attributes\":{\"axis_label\":\"std beak depth (mm)\",\"formatter\":{\"id\":\"1467\",\"type\":\"BasicTickFormatter\"},\"ticker\":{\"id\":\"1434\",\"type\":\"BasicTicker\"}},\"id\":\"1433\",\"type\":\"LinearAxis\"},{\"attributes\":{},\"id\":\"1444\",\"type\":\"WheelZoomTool\"},{\"attributes\":{},\"id\":\"1509\",\"type\":\"UnionRenderers\"},{\"attributes\":{},\"id\":\"1434\",\"type\":\"BasicTicker\"},{\"attributes\":{\"callback\":null,\"data\":{\"__ECDF\":{\"__ndarray__\":\"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\",\"dtype\":\"float64\",\"shape\":[2000]},\"__dummy_cat\":[\" \",\" \",\" \",\" \",\" \",\" \",\" \",\" \",\" \",\" \",\" \",\" \",\" \",\" \",\" \",\" \",\" \",\" \",\" \",\" \",\" \",\" \",\" \",\" \",\" \",\" \",\" \",\" \",\" \",\" \",\" \",\" \",\" \",\" \",\" \",\" \",\" \",\" \",\" \",\" \",\" \",\" \",\" \",\" \",\" \",\" \",\" \",\" \",\" \",\" \",\" \",\" \",\" \",\" \",\" \",\" \",\" \",\" \",\" \",\" \",\" \",\" \",\" \",\" \",\" \",\" \",\" \",\" \",\" \",\" \",\" \",\" \",\" \",\" \",\" \",\" \",\" \",\" \",\" \",\" \",\" \",\" \",\" \",\" \",\" \",\" \",\" \",\" \",\" \",\" \",\" \",\" \",\" \",\" \",\" \",\" \",\" \",\" \",\" \",\" \",\" \",\" \",\" \",\" \",\" \",\" \",\" \",\" \",\" \",\" \",\" \",\" \",\" \",\" \",\" \",\" \",\" \",\" \",\" \",\" \",\" \",\" \",\" \",\" \",\" \",\" \",\" \",\" \",\" \",\" \",\" \",\" \",\" \",\" \",\" \",\" \",\" \",\" \",\" \",\" \",\" \",\" \",\" \",\" \",\" \",\" \",\" \",\" \",\" \",\" \",\" \",\" \",\" \",\" \",\" \",\" \",\" \",\" \",\" \",\" \",\" \",\" \",\" \",\" \",\" \",\" \",\" \",\" \",\" \",\" \",\" \",\" \",\" \",\" \",\" \",\" \",\" \",\" \",\" \",\" \",\" \",\" \",\" \",\" \",\" \",\" \",\" \",\" \",\" \",\" \",\" \",\" \",\" \",\" \",\" \",\" \",\" \",\" \",\" \",\" \",\" \",\" \",\" \",\" \",\" \",\" \",\" \",\" \",\" \",\" \",\" \",\" \",\" \",\" \",\" \",\" \",\" \",\" \",\" \",\" \",\" \",\" \",\" \",\" \",\" \",\" \",\" \",\" \",\" \",\" \",\" \",\" \",\" \",\" \",\" \",\" \",\" \",\" \",\" \",\" \",\" \",\" \",\" \",\" \",\" \",\" \",\" \",\" \",\" \",\" \",\" \",\" \",\" \",\" \",\" \",\" \",\" \",\" \",\" \",\" \",\" \",\" \",\" \",\" \",\" \",\" \",\" \",\" \",\" \",\" \",\" \",\" \",\" \",\" \",\" \",\" \",\" \",\" \",\" \",\" \",\" \",\" \",\" \",\" \",\" \",\" \",\" \",\" \",\" \",\" \",\" \",\" \",\" \",\" \",\" \",\" \",\" \",\" \",\" \",\" \",\" \",\" \",\" \",\" \",\" \",\" \",\" \",\" \",\" \",\" \",\" \",\" \",\" \",\" \",\" \",\" \",\" \",\" \",\" \",\" \",\" \",\" \",\" \",\" \",\" \",\" \",\" \",\" \",\" \",\" \",\" \",\" \",\" \",\" \",\" \",\" \",\" \",\" \",\" \",\" \",\" \",\" \",\" \",\" \",\" \",\" \",\" \",\" \",\" \",\" \",\" \",\" \",\" \",\" \",\" \",\" \",\" \",\" \",\" \",\" \",\" \",\" \",\" \",\" \",\" \",\" \",\" \",\" \",\" \",\" \",\" \",\" \",\" \",\" \",\" \",\" \",\" \",\" \",\" \",\" \",\" \",\" \",\" \",\" \",\" \",\" \",\" \",\" \",\" \",\" \",\" \",\" \",\" \",\" \",\" \",\" \",\" \",\" \",\" \",\" \",\" \",\" \",\" \",\" \",\" \",\" \",\" \",\" \",\" \",\" \",\" \",\" \",\" \",\" \",\" \",\" \",\" \",\" \",\" \",\" \",\" \",\" \",\" \",\" \",\" \",\" \",\" \",\" \",\" \",\" \",\" \",\" \",\" \",\" \",\" \",\" \",\" \",\" \",\" \",\" \",\" \",\" \",\" \",\" \",\" \",\" \",\" \",\" \",\" \",\" \",\" \",\" \",\" \",\" \",\" \",\" \",\" \",\" \",\" \",\" \",\" \",\" \",\" \",\" \",\" \",\" \",\" \",\" \",\" \",\" \",\" \",\" \",\" \",\" \",\" \",\" \",\" \",\" \",\" \",\" \",\" \",\" \",\" \",\" \",\" \",\" \",\" \",\" \",\" \",\" \",\" \",\" \",\" \",\" \",\" \",\" \",\" \",\" \",\" \",\" \",\" \",\" \",\" \",\" \",\" \",\" \",\" \",\" \",\" \",\" \",\" \",\" \",\" \",\" \",\" \",\" \",\" \",\" \",\" \",\" \",\" \",\" \",\" \",\" \",\" \",\" \",\" \",\" \",\" \",\" \",\" \",\" \",\" \",\" \",\" \",\" \",\" \",\" \",\" \",\" \",\" \",\" \",\" \",\" \",\" \",\" \",\" \",\" \",\" \",\" \",\" \",\" \",\" \",\" \",\" \",\" \",\" \",\" \",\" \",\" \",\" \",\" \",\" \",\" \",\" \",\" \",\" \",\" \",\" \",\" \",\" \",\" \",\" \",\" \",\" \",\" \",\" \",\" \",\" \",\" \",\" \",\" \",\" \",\" \",\" \",\" \",\" \",\" \",\" \",\" \",\" \",\" \",\" \",\" \",\" \",\" \",\" \",\" \",\" \",\" \",\" \",\" \",\" \",\" \",\" \",\" \",\" \",\" \",\" \",\" \",\" \",\" \",\" \",\" \",\" \",\" \",\" \",\" \",\" \",\" \",\" \",\" \",\" \",\" \",\" \",\" \",\" \",\" \",\" \",\" \",\" \",\" \",\" \",\" \",\" \",\" \",\" \",\" \",\" \",\" \",\" \",\" \",\" \",\" \",\" \",\" \",\" \",\" \",\" \",\" \",\" \",\" \",\" \",\" \",\" \",\" \",\" \",\" \",\" \",\" \",\" \",\" \",\" \",\" \",\" \",\" \",\" \",\" \",\" \",\" \",\" \",\" \",\" \",\" \",\" \",\" \",\" \",\" \",\" \",\" \",\" \",\" \",\" \",\" \",\" \",\" \",\" \",\" \",\" \",\" \",\" \",\" \",\" \",\" \",\" \",\" \",\" \",\" \",\" \",\" \",\" \",\" \",\" \",\" \",\" \",\" \",\" \",\" \",\" \",\" \",\" \",\" \",\" \",\" \",\" \",\" \",\" \",\" \",\" \",\" \",\" \",\" \",\" \",\" \",\" \",\" \",\" \",\" \",\" \",\" \",\" \",\" \",\" \",\" \",\" \",\" \",\" \",\" \",\" \",\" \",\" \",\" \",\" \",\" \",\" \",\" \",\" \",\" \",\" \",\" \",\" \",\" \",\" \",\" \",\" \",\" \",\" \",\" \",\" \",\" \",\" \",\" \",\" \",\" \",\" \",\" \",\" \",\" \",\" \",\" \",\" \",\" \",\" \",\" \",\" \",\" \",\" \",\" \",\" \",\" \",\" \",\" \",\" \",\" \",\" \",\" \",\" \",\" \",\" \",\" \",\" \",\" \",\" \",\" \",\" \",\" \",\" \",\" \",\" \",\" \",\" \",\" \",\" \",\" \",\" \",\" \",\" \",\" \",\" \",\" \",\" \",\" \",\" \",\" \",\" \",\" \",\" \",\" \",\" \",\" \",\" \",\" \",\" \",\" \",\" \",\" \",\" \",\" \",\" \",\" \",\" \",\" \",\" \",\" \",\" \",\" \",\" \",\" \",\" \",\" \",\" \",\" \",\" \",\" \",\" \",\" \",\" \",\" \",\" \",\" \",\" \",\" \",\" \",\" \",\" \",\" \",\" \",\" \",\" \",\" \",\" \",\" \",\" \",\" \",\" \",\" \",\" \",\" \",\" \",\" \",\" \",\" \",\" \",\" \",\" \",\" \",\" \",\" \",\" \",\" \",\" \",\" \",\" \",\" \",\" \",\" \",\" \",\" \",\" \",\" \",\" \",\" \",\" \",\" \",\" \",\" \",\" \",\" \",\" \",\" \",\" \",\" \",\" \",\" \",\" \",\" \",\" \",\" \",\" \",\" \",\" \",\" \",\" \",\" \",\" \",\" \",\" \",\" \",\" \",\" \",\" \",\" \",\" \",\" \",\" \",\" \",\" \",\" \",\" \",\" \",\" \",\" \",\" \",\" \",\" \",\" \",\" \",\" \",\" \",\" \",\" \",\" \",\" \",\" \",\" \",\" \",\" \",\" \",\" \",\" \",\" \",\" \",\" \",\" \",\" \",\" \",\" \",\" \",\" \",\" \",\" \",\" \",\" \",\" \",\" \",\" \",\" \",\" \",\" \",\" \",\" \",\" \",\" \",\" \",\" \",\" \",\" \",\" \",\" \",\" \",\" \",\" \",\" \",\" \",\" \",\" \",\" \",\" \",\" \",\" \",\" \",\" \",\" \",\" \",\" \",\" \",\" \",\" \",\" \",\" \",\" \",\" \",\" \",\" \",\" \",\" \",\" \",\" \",\" \",\" \",\" \",\" \",\" \",\" \",\" \",\" \",\" \",\" \",\" \",\" \",\" \",\" \",\" \",\" \",\" \",\" \",\" \",\" \",\" \",\" \",\" \",\" \",\" \",\" \",\" \",\" \",\" \",\" \",\" \",\" \",\" \",\" \",\" \",\" \",\" \",\" \",\" \",\" \",\" \",\" \",\" \",\" \",\" \",\" \",\" \",\" \",\" \",\" \",\" \",\" \",\" \",\" \",\" \",\" \",\" \",\" \",\" \",\" \",\" \",\" \",\" \",\" \",\" \",\" \",\" \",\" \",\" \",\" \",\" \",\" \",\" \",\" \",\" \",\" \",\" \",\" \",\" \",\" \",\" \",\" \",\" \",\" \",\" \",\" \",\" \",\" \",\" \",\" \",\" \",\" \",\" \",\" \",\" \",\" \",\" \",\" \",\" \",\" \",\" \",\" \",\" \",\" \",\" \",\" \",\" \",\" \",\" \",\" \",\" \",\" \",\" \",\" \",\" \",\" \",\" \",\" \",\" \",\" \",\" \",\" \",\" \",\" \",\" \",\" \",\" \",\" \",\" \",\" \",\" \",\" \",\" \",\" \",\" \",\" \",\" \",\" \",\" \",\" \",\" \",\" \",\" \",\" \",\" \",\" \",\" \",\" \",\" \",\" \",\" \",\" \",\" \",\" \",\" \",\" \",\" \",\" \",\" \",\" \",\" \",\" \",\" \",\" \",\" \",\" \",\" \",\" \",\" \",\" \",\" \",\" \",\" \",\" \",\" \",\" \",\" \",\" \",\" \",\" \",\" \",\" \",\" \",\" \",\" \",\" \",\" \",\" \",\" \",\" \",\" \",\" \",\" \",\" \",\" \",\" \",\" \",\" \",\" \",\" \",\" \",\" \",\" \",\" \",\" \",\" \",\" \",\" \",\" \",\" \",\" \",\" \",\" \",\" \",\" \",\" \",\" \",\" \",\" \",\" \",\" \",\" \",\" \",\" \",\" \",\" \",\" \",\" \",\" \",\" \",\" \",\" \",\" \",\" \",\" \",\" \",\" \",\" \",\" \",\" \",\" \",\" \",\" \",\" \",\" \",\" \",\" \",\" \",\" \",\" \",\" \",\" \",\" \",\" \",\" \",\" \",\" \",\" \",\" \",\" \",\" \",\" \",\" \",\" \",\" \",\" \",\" \",\" \",\" \",\" \",\" \",\" \",\" \",\" \",\" \",\" \",\" \",\" \",\" \",\" \",\" \",\" \",\" \",\" \",\" \",\" \",\" \",\" \",\" \",\" \",\" \",\" \",\" \",\" \",\" \",\" \",\" \",\" \",\" \",\" \",\" \",\" \",\" \",\" \",\" \",\" \",\" \",\" \",\" \",\" \",\" \",\" \",\" \",\" \",\" \",\" \",\" \",\" \",\" \",\" \",\" \",\" \",\" \",\" \",\" \",\" \",\" \",\" \",\" \",\" \",\" \",\" \",\" \",\" \",\" \",\" \",\" \",\" \",\" \",\" \",\" \",\" \",\" \",\" \",\" \",\" \",\" \",\" \",\" \",\" \",\" \",\" \",\" \",\" \",\" \",\" \",\" \",\" \",\" \",\" \",\" \",\" \",\" \",\" \",\" \",\" \",\" \",\" \",\" \",\" \",\" \",\" \",\" \",\" \",\" \",\" \",\" \",\" \",\" \",\" \",\" \",\" \",\" \",\" \",\" \",\" \",\" \",\" \",\" \",\" \",\" \",\" \",\" \",\" \",\" \",\" \",\" \",\" \",\" \",\" \",\" \",\" \",\" \",\" \",\" \",\" \",\" \",\" \",\" \",\" \",\" \",\" \",\" \",\" \",\" \",\" \",\" \",\" \",\" \",\" \",\" \",\" \",\" \",\" \",\" \",\" \",\" \",\" \",\" \",\" \",\" \",\" \",\" \",\" \",\" \",\" \",\" \",\" \",\" \",\" \",\" \",\" \",\" \",\" \",\" \",\" \",\" \",\" \",\" \",\" \",\" \",\" \",\" \",\" \",\" \",\" \",\" \",\" \",\" \",\" \",\" \",\" \",\" \",\" \",\" \",\" \",\" \",\" \",\" \",\" \",\" \",\" \",\" \",\" \",\" \",\" \",\" \",\" \",\" \",\" \",\" \",\" \",\" \",\" \",\" \",\" \",\" \",\" \",\" \",\" \",\" \",\" \",\" \",\" \",\" \",\" \",\" \",\" \",\" \",\" \",\" \",\" \",\" \",\" \",\" \",\" \",\" \",\" \",\" \",\" \",\" \",\" \",\" \",\" \",\" \",\" \",\" \",\" \",\" \",\" \",\" \",\" \",\" \",\" \",\" \",\" \",\" \",\" \",\" \",\" \",\" \",\" \",\" \",\" \",\" \",\" \",\" \",\" \",\" \",\" \",\" \",\" \",\" \",\" \",\" \",\" \",\" \",\" \",\" \",\" \",\" \",\" \",\" \",\" \",\" \",\" \",\" \",\" \",\" \",\" \",\" \",\" \",\" \",\" \",\" \",\" \",\" \",\" \",\" \",\" \",\" \",\" \",\" \",\" \",\" \",\" \",\" \",\" \",\" \",\" \",\" \",\" \",\" \",\" \",\" \",\" \",\" \",\" \",\" \",\" \",\" \",\" \",\" \",\" \",\" \",\" \",\" \",\" \",\" \",\" \",\" \",\" \",\" \",\" \",\" \",\" \",\" \",\" \",\" \",\" \",\" \",\" \",\" \",\" \",\" \",\" \",\" \",\" \",\" \",\" \",\" \",\" \",\" \",\" \",\" \",\" \",\" \",\" \",\" \",\" \",\" \",\" \",\" \",\" \",\" \",\" \",\" \",\" \",\" \",\" \",\" \",\" \",\" \",\" \",\" \",\" \",\" \",\" \",\" \",\" \",\" \",\" \",\" \",\" \",\" \",\" \",\" \",\" \",\" \",\" \",\" \",\" \",\" \",\" \",\" \",\" \",\" \",\" \",\" \",\" \",\" \",\" \",\" \",\" \",\" \",\" \",\" \",\" \",\" \",\" \",\" \",\" \",\" \",\" \",\" \",\" \",\" \",\" \",\" \",\" \",\" \",\" \",\" \",\" \",\" \",\" \",\" \",\" \",\" \",\" \",\" \",\" \",\" \",\" \",\" \",\" \",\" \",\" \",\" \",\" \",\" \",\" \",\" \",\" \",\" \",\" \",\" \",\" \",\" \",\" \",\" \",\" \",\" \",\" \",\" \",\" \",\" \",\" \",\" \",\" \",\" \",\" \",\" \",\" \",\" \",\" \",\" \",\" \",\" \",\" \",\" \",\" \",\" \",\" \",\" \",\" \",\" \",\" \",\" \",\" \",\" \",\" \",\" \",\" \",\" \",\" \",\" \",\" \",\" \",\" \",\" \",\" \",\" \",\" \",\" \",\" \",\" \",\" \",\" \",\" \",\" \",\" \",\" \",\" \",\" \",\" \",\" \",\" \",\" \",\" \",\" \",\" \",\" \",\" \",\" \",\" \",\" \",\" \",\" \",\" \",\" \",\" \",\" \",\" \",\" \",\" \",\" \",\" \",\" \",\" \",\" \",\" \",\" \",\" \",\" \",\" \",\" \",\" \",\" \",\" \",\" \",\" \",\" \",\" \",\" \",\" \",\" \",\" \",\" \",\" \",\" \",\" \",\" \",\" \",\" \",\" \",\" \",\" \",\" \",\" \",\" \",\" \",\" \",\" \",\" \",\" \",\" \",\" \",\" \",\" \",\" \",\" \",\" \",\" \",\" \",\" \",\" \",\" \",\" \",\" \",\" \",\" \",\" \",\" \",\" \",\" \",\" \",\" \",\" \",\" \",\" \",\" \",\" \",\" \",\" \",\" \",\" \",\" \",\" \",\" \",\" \",\" \",\" \",\" \",\" \",\" \",\" \",\" \",\" \",\" \",\" \",\" \",\" \",\" \",\" \",\" \",\" \",\" \",\" \",\" \",\" \",\" \",\" \",\" \",\" \",\" \",\" \",\" \",\" \",\" \",\" \",\" \",\" \",\" \",\" \",\" \",\" \",\" \",\" \",\" \",\" \",\" \",\" \",\" \",\" \",\" \",\" \",\" \",\" \",\" \",\" \",\" \",\" \",\" \",\" \",\" \",\" \",\" \",\" \",\" \",\" \",\" \",\" \",\" \",\" \",\" \",\" \",\" \",\" \",\" \",\" \",\" \",\" \",\" \",\" \",\" \",\" \",\" \",\" \",\" \",\" \",\" \",\" \",\" \",\" \",\" \",\" \",\" \",\" \",\" \",\" \",\" \",\" \",\" \",\" \",\" \",\" \",\" \",\" \",\" \",\" \",\" \",\" \",\" \",\" \",\" \",\" \",\" \",\" \",\" \",\" \",\" \",\" \",\" \",\" \",\" \",\" \",\" \",\" \",\" \",\" \",\" \"],\"__label\":[\" \",\" \",\" \",\" \",\" \",\" \",\" \",\" \",\" \",\" \",\" \",\" \",\" \",\" \",\" \",\" \",\" \",\" \",\" \",\" \",\" \",\" \",\" \",\" \",\" \",\" \",\" \",\" \",\" \",\" \",\" \",\" \",\" \",\" \",\" \",\" \",\" \",\" \",\" \",\" \",\" \",\" \",\" \",\" \",\" \",\" \",\" \",\" \",\" \",\" \",\" \",\" \",\" \",\" \",\" \",\" \",\" \",\" \",\" \",\" \",\" \",\" \",\" \",\" \",\" \",\" \",\" \",\" \",\" \",\" \",\" \",\" \",\" \",\" \",\" \",\" \",\" \",\" \",\" \",\" \",\" \",\" \",\" \",\" \",\" \",\" \",\" \",\" \",\" \",\" \",\" \",\" \",\" \",\" \",\" \",\" \",\" \",\" \",\" \",\" \",\" \",\" \",\" \",\" \",\" \",\" \",\" \",\" \",\" \",\" \",\" \",\" \",\" \",\" \",\" \",\" \",\" \",\" \",\" \",\" \",\" \",\" \",\" \",\" \",\" \",\" \",\" \",\" \",\" \",\" \",\" \",\" \",\" \",\" \",\" \",\" \",\" \",\" \",\" \",\" \",\" \",\" \",\" \",\" \",\" \",\" \",\" \",\" \",\" \",\" \",\" \",\" \",\" \",\" \",\" \",\" \",\" \",\" \",\" \",\" \",\" \",\" \",\" \",\" \",\" \",\" \",\" \",\" \",\" \",\" \",\" \",\" \",\" \",\" \",\" \",\" \",\" \",\" \",\" \",\" \",\" \",\" \",\" \",\" \",\" \",\" \",\" \",\" \",\" \",\" \",\" \",\" \",\" \",\" \",\" \",\" \",\" \",\" \",\" \",\" \",\" \",\" \",\" \",\" \",\" \",\" \",\" \",\" \",\" \",\" \",\" \",\" \",\" \",\" \",\" \",\" \",\" \",\" \",\" \",\" \",\" \",\" \",\" \",\" \",\" \",\" \",\" \",\" \",\" \",\" \",\" \",\" \",\" \",\" \",\" \",\" \",\" \",\" \",\" \",\" \",\" \",\" \",\" \",\" \",\" \",\" \",\" \",\" \",\" \",\" \",\" \",\" \",\" \",\" \",\" \",\" \",\" \",\" \",\" \",\" \",\" \",\" \",\" \",\" \",\" \",\" \",\" \",\" \",\" \",\" \",\" \",\" \",\" \",\" \",\" \",\" \",\" \",\" \",\" \",\" \",\" \",\" \",\" \",\" \",\" \",\" \",\" \",\" \",\" \",\" \",\" \",\" \",\" \",\" \",\" \",\" \",\" \",\" \",\" \",\" \",\" \",\" \",\" \",\" \",\" \",\" \",\" \",\" \",\" \",\" \",\" \",\" \",\" \",\" \",\" \",\" \",\" \",\" \",\" \",\" \",\" \",\" \",\" \",\" \",\" \",\" \",\" \",\" \",\" \",\" \",\" \",\" \",\" \",\" \",\" \",\" \",\" \",\" \",\" \",\" \",\" \",\" \",\" \",\" \",\" \",\" \",\" \",\" \",\" \",\" \",\" \",\" \",\" \",\" \",\" \",\" \",\" \",\" \",\" \",\" \",\" \",\" \",\" \",\" \",\" \",\" \",\" \",\" \",\" \",\" \",\" \",\" \",\" \",\" \",\" \",\" \",\" \",\" \",\" \",\" \",\" \",\" \",\" \",\" \",\" \",\" \",\" \",\" \",\" \",\" \",\" \",\" \",\" \",\" \",\" \",\" \",\" \",\" \",\" \",\" \",\" \",\" \",\" \",\" \",\" \",\" \",\" \",\" \",\" \",\" \",\" \",\" \",\" \",\" \",\" \",\" \",\" \",\" \",\" \",\" \",\" \",\" \",\" \",\" \",\" \",\" \",\" \",\" \",\" \",\" \",\" \",\" \",\" \",\" \",\" \",\" \",\" \",\" \",\" \",\" \",\" \",\" \",\" \",\" \",\" \",\" \",\" \",\" \",\" \",\" \",\" \",\" \",\" \",\" \",\" \",\" \",\" \",\" \",\" \",\" \",\" \",\" \",\" \",\" \",\" \",\" \",\" \",\" \",\" \",\" \",\" \",\" \",\" \",\" \",\" \",\" \",\" \",\" \",\" \",\" \",\" \",\" \",\" \",\" \",\" \",\" \",\" \",\" \",\" \",\" \",\" \",\" \",\" \",\" \",\" \",\" \",\" \",\" \",\" \",\" \",\" \",\" \",\" \",\" \",\" \",\" \",\" \",\" \",\" \",\" \",\" \",\" \",\" \",\" \",\" \",\" \",\" \",\" \",\" \",\" \",\" \",\" \",\" \",\" \",\" \",\" \",\" \",\" \",\" \",\" \",\" \",\" \",\" \",\" \",\" \",\" \",\" \",\" \",\" \",\" \",\" \",\" \",\" \",\" \",\" \",\" \",\" \",\" \",\" \",\" \",\" \",\" \",\" \",\" \",\" \",\" \",\" \",\" \",\" \",\" \",\" \",\" \",\" \",\" \",\" \",\" \",\" \",\" \",\" \",\" \",\" \",\" \",\" \",\" \",\" \",\" \",\" \",\" \",\" \",\" \",\" \",\" \",\" \",\" \",\" \",\" \",\" \",\" \",\" \",\" \",\" \",\" \",\" \",\" \",\" \",\" \",\" \",\" \",\" \",\" \",\" \",\" \",\" \",\" \",\" \",\" \",\" \",\" \",\" \",\" \",\" \",\" \",\" \",\" \",\" \",\" \",\" \",\" \",\" \",\" \",\" \",\" \",\" \",\" \",\" \",\" \",\" \",\" \",\" \",\" \",\" \",\" \",\" \",\" \",\" \",\" \",\" \",\" \",\" \",\" \",\" \",\" \",\" \",\" \",\" \",\" \",\" \",\" \",\" \",\" \",\" \",\" \",\" \",\" \",\" \",\" \",\" \",\" \",\" \",\" \",\" \",\" \",\" \",\" \",\" \",\" \",\" \",\" \",\" \",\" \",\" \",\" \",\" \",\" \",\" \",\" \",\" \",\" \",\" \",\" \",\" \",\" \",\" \",\" \",\" \",\" \",\" \",\" \",\" \",\" \",\" \",\" \",\" \",\" \",\" \",\" \",\" \",\" \",\" \",\" \",\" \",\" \",\" \",\" \",\" \",\" \",\" \",\" \",\" \",\" \",\" \",\" \",\" \",\" \",\" \",\" \",\" \",\" \",\" \",\" \",\" \",\" \",\" \",\" \",\" \",\" \",\" \",\" \",\" \",\" \",\" \",\" \",\" \",\" \",\" \",\" \",\" \",\" \",\" \",\" \",\" \",\" \",\" \",\" \",\" \",\" \",\" \",\" \",\" \",\" \",\" \",\" \",\" \",\" \",\" \",\" \",\" \",\" \",\" \",\" \",\" \",\" \",\" \",\" \",\" \",\" \",\" \",\" \",\" \",\" \",\" \",\" \",\" \",\" \",\" \",\" \",\" \",\" \",\" \",\" \",\" \",\" \",\" \",\" \",\" \",\" \",\" \",\" \",\" \",\" \",\" \",\" \",\" \",\" \",\" \",\" \",\" \",\" \",\" \",\" \",\" \",\" \",\" \",\" \",\" \",\" \",\" \",\" \",\" \",\" \",\" \",\" \",\" \",\" \",\" \",\" \",\" \",\" \",\" \",\" \",\" \",\" \",\" \",\" \",\" \",\" \",\" \",\" \",\" \",\" \",\" \",\" \",\" \",\" \",\" \",\" \",\" \",\" \",\" \",\" \",\" \",\" \",\" \",\" \",\" \",\" \",\" \",\" \",\" \",\" \",\" \",\" \",\" \",\" \",\" \",\" \",\" \",\" \",\" \",\" \",\" \",\" \",\" \",\" \",\" \",\" \",\" \",\" \",\" \",\" \",\" \",\" \",\" \",\" \",\" \",\" \",\" \",\" \",\" \",\" \",\" \",\" \",\" \",\" \",\" \",\" \",\" \",\" \",\" \",\" \",\" \",\" \",\" \",\" \",\" \",\" \",\" \",\" \",\" \",\" \",\" \",\" \",\" \",\" \",\" \",\" \",\" \",\" \",\" \",\" \",\" \",\" \",\" \",\" \",\" \",\" \",\" \",\" \",\" \",\" \",\" \",\" \",\" \",\" \",\" \",\" \",\" \",\" \",\" \",\" \",\" \",\" \",\" \",\" \",\" \",\" \",\" \",\" \",\" \",\" \",\" \",\" \",\" \",\" \",\" \",\" \",\" \",\" \",\" \",\" \",\" \",\" \",\" \",\" \",\" \",\" \",\" \",\" \",\" \",\" \",\" \",\" \",\" \",\" \",\" \",\" \",\" \",\" \",\" \",\" \",\" \",\" \",\" \",\" \",\" \",\" \",\" \",\" \",\" \",\" \",\" \",\" \",\" \",\" \",\" \",\" \",\" \",\" \",\" \",\" \",\" \",\" \",\" \",\" \",\" \",\" \",\" \",\" \",\" \",\" \",\" \",\" \",\" \",\" \",\" \",\" \",\" \",\" \",\" \",\" \",\" \",\" \",\" \",\" \",\" \",\" \",\" \",\" \",\" \",\" \",\" \",\" \",\" \",\" \",\" \",\" \",\" \",\" \",\" \",\" \",\" \",\" \",\" \",\" \",\" \",\" \",\" \",\" \",\" \",\" \",\" \",\" \",\" \",\" \",\" \",\" \",\" \",\" \",\" \",\" \",\" \",\" \",\" \",\" \",\" \",\" \",\" \",\" \",\" \",\" \",\" \",\" \",\" \",\" \",\" \",\" \",\" \",\" \",\" \",\" \",\" \",\" \",\" \",\" \",\" \",\" \",\" \",\" \",\" \",\" \",\" \",\" \",\" \",\" \",\" \",\" \",\" \",\" \",\" \",\" \",\" \",\" \",\" \",\" \",\" \",\" \",\" \",\" \",\" \",\" \",\" \",\" \",\" \",\" \",\" \",\" \",\" \",\" \",\" \",\" \",\" \",\" \",\" \",\" \",\" \",\" \",\" \",\" \",\" \",\" \",\" \",\" \",\" \",\" \",\" \",\" \",\" \",\" \",\" \",\" \",\" \",\" \",\" \",\" \",\" \",\" \",\" \",\" \",\" \",\" \",\" \",\" \",\" \",\" \",\" \",\" \",\" \",\" \",\" \",\" \",\" \",\" \",\" \",\" \",\" \",\" \",\" \",\" \",\" \",\" \",\" \",\" \",\" \",\" \",\" \",\" \",\" \",\" \",\" \",\" \",\" \",\" \",\" \",\" \",\" \",\" \",\" \",\" \",\" \",\" \",\" \",\" \",\" \",\" \",\" \",\" \",\" \",\" \",\" \",\" \",\" \",\" \",\" \",\" \",\" \",\" \",\" \",\" \",\" \",\" \",\" \",\" \",\" \",\" \",\" \",\" \",\" \",\" \",\" \",\" \",\" \",\" \",\" \",\" \",\" \",\" \",\" \",\" \",\" \",\" \",\" \",\" \",\" \",\" \",\" \",\" \",\" \",\" \",\" \",\" \",\" \",\" \",\" \",\" \",\" \",\" \",\" \",\" \",\" \",\" \",\" \",\" \",\" \",\" \",\" \",\" \",\" \",\" \",\" \",\" \",\" \",\" \",\" \",\" \",\" \",\" \",\" \",\" \",\" \",\" \",\" \",\" \",\" \",\" \",\" \",\" \",\" \",\" \",\" \",\" \",\" \",\" \",\" \",\" \",\" \",\" \",\" \",\" \",\" \",\" \",\" \",\" \",\" \",\" \",\" \",\" \",\" \",\" \",\" \",\" \",\" \",\" \",\" \",\" \",\" \",\" \",\" \",\" \",\" \",\" \",\" \",\" \",\" \",\" \",\" \",\" \",\" \",\" \",\" \",\" \",\" \",\" \",\" \",\" \",\" \",\" \",\" \",\" \",\" \",\" \",\" \",\" \",\" \",\" \",\" \",\" \",\" \",\" \",\" \",\" \",\" \",\" \",\" \",\" \",\" \",\" \",\" \",\" \",\" \",\" \",\" \",\" \",\" \",\" \",\" \",\" \",\" \",\" \",\" \",\" \",\" \",\" \",\" \",\" \",\" \",\" \",\" \",\" \",\" \",\" \",\" \",\" \",\" \",\" \",\" \",\" \",\" \",\" \",\" \",\" \",\" \",\" \",\" \",\" \",\" \",\" \",\" \",\" \",\" \",\" \",\" \",\" \",\" \",\" \",\" \",\" \",\" \",\" \",\" \",\" \",\" \",\" \",\" \",\" \",\" \",\" \",\" \",\" \",\" \",\" \",\" \",\" \",\" \",\" \",\" \",\" \",\" \",\" \",\" \",\" \",\" \",\" \",\" \",\" \",\" \",\" \",\" \",\" \",\" \",\" \",\" \",\" \",\" \",\" \",\" \",\" \",\" \",\" \",\" \",\" \",\" \",\" \",\" \",\" \",\" \",\" \",\" \",\" \",\" \",\" \",\" \",\" \",\" \",\" \",\" \",\" \",\" \",\" \",\" \",\" \",\" \",\" \",\" \",\" \",\" \",\" \",\" \",\" \",\" \",\" \",\" \",\" \",\" \",\" \",\" \",\" \",\" \",\" \",\" \",\" \",\" \",\" \",\" \",\" \",\" \",\" \",\" \",\" \",\" \",\" \",\" \",\" \",\" \",\" \",\" \",\" \",\" \",\" \",\" \",\" \",\" \",\" \",\" \",\" \",\" \",\" \",\" \",\" \",\" \",\" \",\" \",\" \",\" \",\" \",\" \",\" \",\" \",\" \",\" \",\" \",\" \",\" \",\" \",\" \",\" \",\" \",\" \",\" \",\" \",\" \",\" \",\" \",\" \",\" \",\" \",\" \",\" \",\" \",\" \",\" \",\" \",\" \",\" \",\" \",\" \",\" \",\" \",\" \",\" \",\" \",\" \",\" \",\" \",\" \",\" \",\" \",\" \",\" \",\" \",\" \",\" \",\" \",\" \",\" \",\" \",\" \",\" \",\" \",\" \",\" \",\" \",\" \",\" \",\" \",\" \",\" \",\" \",\" \",\" \",\" \",\" \",\" \",\" \",\" \",\" \",\" \",\" \",\" \",\" \",\" \",\" \",\" \",\" \",\" \",\" \",\" \",\" \",\" \",\" \",\" \",\" \",\" \",\" \",\" \",\" \",\" \",\" \",\" \",\" \",\" \",\" \",\" \",\" \",\" \",\" \",\" \",\" \",\" \",\" \",\" \",\" \",\" \",\" \",\" \",\" \",\" \",\" \",\" \",\" \",\" \",\" \",\" \",\" \",\" \",\" \",\" \",\" \",\" \",\" \",\" \",\" \",\" \",\" \",\" \",\" \",\" \",\" \",\" \",\" \",\" \",\" \",\" \",\" \",\" \",\" \",\" \",\" \",\" \",\" \",\" \",\" \",\" \",\" \",\" \",\" \",\" \",\" \",\" \",\" \",\" \",\" \",\" \",\" \",\" \",\" \",\" \",\" \",\" \",\" \",\" \",\" \",\" \",\" \",\" \",\" \",\" \",\" \",\" \",\" \",\" \",\" \",\" \",\" \",\" \",\" \",\" \",\" \",\" \",\" \",\" \",\" \",\" \",\" \",\" \",\" \",\" \",\" \",\" \",\" \",\" \",\" \",\" \",\" \",\" \",\" \",\" \",\" \",\" \",\" \",\" \",\" \",\" \",\" \",\" \",\" \",\" \",\" \",\" \",\" \",\" \",\" \",\" \",\" \",\" \",\" \",\" \",\" \",\" \",\" \",\" \",\" \",\" \",\" \",\" \",\" \",\" \",\" \",\" \",\" \",\" \",\" \",\" \",\" \",\" \",\" \",\" \",\" \",\" \",\" \",\" \",\" \",\" \",\" \",\" \",\" \",\" \",\" \",\" \",\" \",\" \",\" \",\" \",\" \",\" \",\" \",\" \",\" \",\" \",\" \",\" \",\" \",\" \",\" \",\" \",\" \",\" \",\" \",\" \",\" \",\" \",\" \",\" \",\" \",\" \",\" \",\" \",\" \",\" \",\" \",\" \",\" \",\" \",\" \",\" \",\" \",\" \",\" \",\" \",\" \",\" \",\" \",\" \",\" \",\" \",\" \",\" \",\" \",\" \",\" \",\" \",\" \",\" \",\" \",\" \",\" \",\" \",\" \",\" \",\" \",\" \",\" \",\" \",\" \",\" \",\" \",\" \",\" \",\" \",\" \",\" \",\" \",\" \",\" \",\" \",\" \",\" \",\" \",\" \",\" \",\" \",\" \",\" \",\" \",\" \",\" \",\" \",\" \",\" \",\" \",\" \",\" \",\" \",\" \",\" \",\" \",\" \",\" \",\" \",\" \",\" \",\" \",\" \",\" \",\" \",\" \",\" \",\" \",\" \",\" \",\" \",\" \",\" \",\" \",\" \",\" \",\" \",\" \",\" \",\" \",\" \",\" \",\" \",\" \",\" \",\" \",\" \",\" \",\" \",\" \",\" \",\" \",\" \",\" \",\" \",\" \",\" \",\" \",\" \",\" \",\" \",\" \",\" \",\" \",\" \",\" \",\" \",\" \",\" \",\" \",\" \",\" \",\" \",\" \",\" \",\" \",\" \",\" \",\" \",\" \",\" \",\" \",\" \",\" \",\" \",\" \",\" \",\" \",\" \",\" \",\" \",\" \",\" \",\" \",\" \",\" \",\" \",\" \",\" \",\" \",\" \",\" \",\" \",\" \",\" \",\" \",\" \",\" \",\" \",\" \",\" \",\" \",\" \",\" \",\" \",\" \",\" \",\" \",\" \",\" \",\" \",\" \",\" \",\" \",\" \",\" \",\" \",\" \",\" \",\" \",\" \",\" \",\" \",\" \",\" \",\" \",\" \",\" \",\" \",\" \",\" \",\" \",\" \",\" \",\" \",\" \",\" \",\" \",\" \",\" \",\" \",\" \",\" \",\" \",\" \",\" \",\" \",\" \",\" \",\" \",\" \"],\"bs_reps\":{\"__ndarray__\":\"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\",\"dtype\":\"float64\",\"shape\":[2000]},\"index\":[0,1,2,3,4,5,6,7,8,9,10,11,12,13,14,15,16,17,18,19,20,21,22,23,24,25,26,27,28,29,30,31,32,33,34,35,36,37,38,39,40,41,42,43,44,45,46,47,48,49,50,51,52,53,54,55,56,57,58,59,60,61,62,63,64,65,66,67,68,69,70,71,72,73,74,75,76,77,78,79,80,81,82,83,84,85,86,87,88,89,90,91,92,93,94,95,96,97,98,99,100,101,102,103,104,105,106,107,108,109,110,111,112,113,114,115,116,117,118,119,120,121,122,123,124,125,126,127,128,129,130,131,132,133,134,135,136,137,138,139,140,141,142,143,144,145,146,147,148,149,150,151,152,153,154,155,156,157,158,159,160,161,162,163,164,165,166,167,168,169,170,171,172,173,174,175,176,177,178,179,180,181,182,183,184,185,186,187,188,189,190,191,192,193,194,195,196,197,198,199,200,201,202,203,204,205,206,207,208,209,210,211,212,213,214,215,216,217,218,219,220,221,222,223,224,225,226,227,228,229,230,231,232,233,234,235,236,237,238,239,240,241,242,243,244,245,246,247,248,249,250,251,252,253,254,255,256,257,258,259,260,261,262,263,264,265,266,267,268,269,270,271,272,273,274,275,276,277,278,279,280,281,282,283,284,285,286,287,288,289,290,291,292,293,294,295,296,297,298,299,300,301,302,303,304,305,306,307,308,309,310,311,312,313,314,315,316,317,318,319,320,321,322,323,324,325,326,327,328,329,330,331,332,333,334,335,336,337,338,339,340,341,342,343,344,345,346,347,348,349,350,351,352,353,354,355,356,357,358,359,360,361,362,363,364,365,366,367,368,369,370,371,372,373,374,375,376,377,378,379,380,381,382,383,384,385,386,387,388,389,390,391,392,393,394,395,396,397,398,399,400,401,402,403,404,405,406,407,408,409,410,411,412,413,414,415,416,417,418,419,420,421,422,423,424,425,426,427,428,429,430,431,432,433,434,435,436,437,438,439,440,441,442,443,444,445,446,447,448,449,450,451,452,453,454,455,456,457,458,459,460,461,462,463,464,465,466,467,468,469,470,471,472,473,474,475,476,477,478,479,480,481,482,483,484,485,486,487,488,489,490,491,492,493,494,495,496,497,498,499,500,501,502,503,504,505,506,507,508,509,510,511,512,513,514,515,516,517,518,519,520,521,522,523,524,525,526,527,528,529,530,531,532,533,534,535,536,537,538,539,540,541,542,543,544,545,546,547,548,549,550,551,552,553,554,555,556,557,558,559,560,561,562,563,564,565,566,567,568,569,570,571,572,573,574,575,576,577,578,579,580,581,582,583,584,585,586,587,588,589,590,591,592,593,594,595,596,597,598,599,600,601,602,603,604,605,606,607,608,609,610,611,612,613,614,615,616,617,618,619,620,621,622,623,624,625,626,627,628,629,630,631,632,633,634,635,636,637,638,639,640,641,642,643,644,645,646,647,648,649,650,651,652,653,654,655,656,657,658,659,660,661,662,663,664,665,666,667,668,669,670,671,672,673,674,675,676,677,678,679,680,681,682,683,684,685,686,687,688,689,690,691,692,693,694,695,696,697,698,699,700,701,702,703,704,705,706,707,708,709,710,711,712,713,714,715,716,717,718,719,720,721,722,723,724,725,726,727,728,729,730,731,732,733,734,735,736,737,738,739,740,741,742,743,744,745,746,747,748,749,750,751,752,753,754,755,756,757,758,759,760,761,762,763,764,765,766,767,768,769,770,771,772,773,774,775,776,777,778,779,780,781,782,783,784,785,786,787,788,789,790,791,792,793,794,795,796,797,798,799,800,801,802,803,804,805,806,807,808,809,810,811,812,813,814,815,816,817,818,819,820,821,822,823,824,825,826,827,828,829,830,831,832,833,834,835,836,837,838,839,840,841,842,843,844,845,846,847,848,849,850,851,852,853,854,855,856,857,858,859,860,861,862,863,864,865,866,867,868,869,870,871,872,873,874,875,876,877,878,879,880,881,882,883,884,885,886,887,888,889,890,891,892,893,894,895,896,897,898,899,900,901,902,903,904,905,906,907,908,909,910,911,912,913,914,915,916,917,918,919,920,921,922,923,924,925,926,927,928,929,930,931,932,933,934,935,936,937,938,939,940,941,942,943,944,945,946,947,948,949,950,951,952,953,954,955,956,957,958,959,960,961,962,963,964,965,966,967,968,969,970,971,972,973,974,975,976,977,978,979,980,981,982,983,984,985,986,987,988,989,990,991,992,993,994,995,996,997,998,999,1000,1001,1002,1003,1004,1005,1006,1007,1008,1009,1010,1011,1012,1013,1014,1015,1016,1017,1018,1019,1020,1021,1022,1023,1024,1025,1026,1027,1028,1029,1030,1031,1032,1033,1034,1035,1036,1037,1038,1039,1040,1041,1042,1043,1044,1045,1046,1047,1048,1049,1050,1051,1052,1053,1054,1055,1056,1057,1058,1059,1060,1061,1062,1063,1064,1065,1066,1067,1068,1069,1070,1071,1072,1073,1074,1075,1076,1077,1078,1079,1080,1081,1082,1083,1084,1085,1086,1087,1088,1089,1090,1091,1092,1093,1094,1095,1096,1097,1098,1099,1100,1101,1102,1103,1104,1105,1106,1107,1108,1109,1110,1111,1112,1113,1114,1115,1116,1117,1118,1119,1120,1121,1122,1123,1124,1125,1126,1127,1128,1129,1130,1131,1132,1133,1134,1135,1136,1137,1138,1139,1140,1141,1142,1143,1144,1145,1146,1147,1148,1149,1150,1151,1152,1153,1154,1155,1156,1157,1158,1159,1160,1161,1162,1163,1164,1165,1166,1167,1168,1169,1170,1171,1172,1173,1174,1175,1176,1177,1178,1179,1180,1181,1182,1183,1184,1185,1186,1187,1188,1189,1190,1191,1192,1193,1194,1195,1196,1197,1198,1199,1200,1201,1202,1203,1204,1205,1206,1207,1208,1209,1210,1211,1212,1213,1214,1215,1216,1217,1218,1219,1220,1221,1222,1223,1224,1225,1226,1227,1228,1229,1230,1231,1232,1233,1234,1235,1236,1237,1238,1239,1240,1241,1242,1243,1244,1245,1246,1247,1248,1249,1250,1251,1252,1253,1254,1255,1256,1257,1258,1259,1260,1261,1262,1263,1264,1265,1266,1267,1268,1269,1270,1271,1272,1273,1274,1275,1276,1277,1278,1279,1280,1281,1282,1283,1284,1285,1286,1287,1288,1289,1290,1291,1292,1293,1294,1295,1296,1297,1298,1299,1300,1301,1302,1303,1304,1305,1306,1307,1308,1309,1310,1311,1312,1313,1314,1315,1316,1317,1318,1319,1320,1321,1322,1323,1324,1325,1326,1327,1328,1329,1330,1331,1332,1333,1334,1335,1336,1337,1338,1339,1340,1341,1342,1343,1344,1345,1346,1347,1348,1349,1350,1351,1352,1353,1354,1355,1356,1357,1358,1359,1360,1361,1362,1363,1364,1365,1366,1367,1368,1369,1370,1371,1372,1373,1374,1375,1376,1377,1378,1379,1380,1381,1382,1383,1384,1385,1386,1387,1388,1389,1390,1391,1392,1393,1394,1395,1396,1397,1398,1399,1400,1401,1402,1403,1404,1405,1406,1407,1408,1409,1410,1411,1412,1413,1414,1415,1416,1417,1418,1419,1420,1421,1422,1423,1424,1425,1426,1427,1428,1429,1430,1431,1432,1433,1434,1435,1436,1437,1438,1439,1440,1441,1442,1443,1444,1445,1446,1447,1448,1449,1450,1451,1452,1453,1454,1455,1456,1457,1458,1459,1460,1461,1462,1463,1464,1465,1466,1467,1468,1469,1470,1471,1472,1473,1474,1475,1476,1477,1478,1479,1480,1481,1482,1483,1484,1485,1486,1487,1488,1489,1490,1491,1492,1493,1494,1495,1496,1497,1498,1499,1500,1501,1502,1503,1504,1505,1506,1507,1508,1509,1510,1511,1512,1513,1514,1515,1516,1517,1518,1519,1520,1521,1522,1523,1524,1525,1526,1527,1528,1529,1530,1531,1532,1533,1534,1535,1536,1537,1538,1539,1540,1541,1542,1543,1544,1545,1546,1547,1548,1549,1550,1551,1552,1553,1554,1555,1556,1557,1558,1559,1560,1561,1562,1563,1564,1565,1566,1567,1568,1569,1570,1571,1572,1573,1574,1575,1576,1577,1578,1579,1580,1581,1582,1583,1584,1585,1586,1587,1588,1589,1590,1591,1592,1593,1594,1595,1596,1597,1598,1599,1600,1601,1602,1603,1604,1605,1606,1607,1608,1609,1610,1611,1612,1613,1614,1615,1616,1617,1618,1619,1620,1621,1622,1623,1624,1625,1626,1627,1628,1629,1630,1631,1632,1633,1634,1635,1636,1637,1638,1639,1640,1641,1642,1643,1644,1645,1646,1647,1648,1649,1650,1651,1652,1653,1654,1655,1656,1657,1658,1659,1660,1661,1662,1663,1664,1665,1666,1667,1668,1669,1670,1671,1672,1673,1674,1675,1676,1677,1678,1679,1680,1681,1682,1683,1684,1685,1686,1687,1688,1689,1690,1691,1692,1693,1694,1695,1696,1697,1698,1699,1700,1701,1702,1703,1704,1705,1706,1707,1708,1709,1710,1711,1712,1713,1714,1715,1716,1717,1718,1719,1720,1721,1722,1723,1724,1725,1726,1727,1728,1729,1730,1731,1732,1733,1734,1735,1736,1737,1738,1739,1740,1741,1742,1743,1744,1745,1746,1747,1748,1749,1750,1751,1752,1753,1754,1755,1756,1757,1758,1759,1760,1761,1762,1763,1764,1765,1766,1767,1768,1769,1770,1771,1772,1773,1774,1775,1776,1777,1778,1779,1780,1781,1782,1783,1784,1785,1786,1787,1788,1789,1790,1791,1792,1793,1794,1795,1796,1797,1798,1799,1800,1801,1802,1803,1804,1805,1806,1807,1808,1809,1810,1811,1812,1813,1814,1815,1816,1817,1818,1819,1820,1821,1822,1823,1824,1825,1826,1827,1828,1829,1830,1831,1832,1833,1834,1835,1836,1837,1838,1839,1840,1841,1842,1843,1844,1845,1846,1847,1848,1849,1850,1851,1852,1853,1854,1855,1856,1857,1858,1859,1860,1861,1862,1863,1864,1865,1866,1867,1868,1869,1870,1871,1872,1873,1874,1875,1876,1877,1878,1879,1880,1881,1882,1883,1884,1885,1886,1887,1888,1889,1890,1891,1892,1893,1894,1895,1896,1897,1898,1899,1900,1901,1902,1903,1904,1905,1906,1907,1908,1909,1910,1911,1912,1913,1914,1915,1916,1917,1918,1919,1920,1921,1922,1923,1924,1925,1926,1927,1928,1929,1930,1931,1932,1933,1934,1935,1936,1937,1938,1939,1940,1941,1942,1943,1944,1945,1946,1947,1948,1949,1950,1951,1952,1953,1954,1955,1956,1957,1958,1959,1960,1961,1962,1963,1964,1965,1966,1967,1968,1969,1970,1971,1972,1973,1974,1975,1976,1977,1978,1979,1980,1981,1982,1983,1984,1985,1986,1987,1988,1989,1990,1991,1992,1993,1994,1995,1996,1997,1998,1999]},\"selected\":{\"id\":\"1508\",\"type\":\"Selection\"},\"selection_policy\":{\"id\":\"1509\",\"type\":\"UnionRenderers\"}},\"id\":\"1456\",\"type\":\"ColumnDataSource\"},{\"attributes\":{\"fill_color\":{\"value\":\"#4e79a7\"},\"line_color\":{\"value\":\"#4e79a7\"},\"x\":{\"field\":\"bs_reps\"},\"y\":{\"field\":\"__ECDF\"}},\"id\":\"1458\",\"type\":\"Circle\"},{\"attributes\":{\"dimension\":1,\"ticker\":{\"id\":\"1439\",\"type\":\"BasicTicker\"}},\"id\":\"1442\",\"type\":\"Grid\"},{\"attributes\":{\"data_source\":{\"id\":\"1456\",\"type\":\"ColumnDataSource\"},\"glyph\":{\"id\":\"1458\",\"type\":\"Circle\"},\"hover_glyph\":null,\"muted_glyph\":null,\"nonselection_glyph\":{\"id\":\"1459\",\"type\":\"Circle\"},\"selection_glyph\":null,\"view\":{\"id\":\"1461\",\"type\":\"CDSView\"}},\"id\":\"1460\",\"type\":\"GlyphRenderer\"},{\"attributes\":{},\"id\":\"1431\",\"type\":\"LinearScale\"},{\"attributes\":{\"axis_label\":\"ECDF\",\"formatter\":{\"id\":\"1465\",\"type\":\"BasicTickFormatter\"},\"ticker\":{\"id\":\"1439\",\"type\":\"BasicTicker\"}},\"id\":\"1438\",\"type\":\"LinearAxis\"},{\"attributes\":{},\"id\":\"1439\",\"type\":\"BasicTicker\"},{\"attributes\":{\"fill_alpha\":{\"value\":0.1},\"fill_color\":{\"value\":\"#1f77b4\"},\"line_alpha\":{\"value\":0.1},\"line_color\":{\"value\":\"#1f77b4\"},\"x\":{\"field\":\"bs_reps\"},\"y\":{\"field\":\"__ECDF\"}},\"id\":\"1459\",\"type\":\"Circle\"},{\"attributes\":{},\"id\":\"1508\",\"type\":\"Selection\"},{\"attributes\":{\"text\":\"\"},\"id\":\"1463\",\"type\":\"Title\"},{\"attributes\":{},\"id\":\"1465\",\"type\":\"BasicTickFormatter\"},{\"attributes\":{\"source\":{\"id\":\"1456\",\"type\":\"ColumnDataSource\"}},\"id\":\"1461\",\"type\":\"CDSView\"},{\"attributes\":{},\"id\":\"1443\",\"type\":\"PanTool\"},{\"attributes\":{},\"id\":\"1467\",\"type\":\"BasicTickFormatter\"},{\"attributes\":{\"overlay\":{\"id\":\"1468\",\"type\":\"BoxAnnotation\"}},\"id\":\"1445\",\"type\":\"BoxZoomTool\"},{\"attributes\":{\"bottom_units\":\"screen\",\"fill_alpha\":{\"value\":0.5},\"fill_color\":{\"value\":\"lightgrey\"},\"left_units\":\"screen\",\"level\":\"overlay\",\"line_alpha\":{\"value\":1.0},\"line_color\":{\"value\":\"black\"},\"line_dash\":[4,4],\"line_width\":{\"value\":2},\"render_mode\":\"css\",\"right_units\":\"screen\",\"top_units\":\"screen\"},\"id\":\"1468\",\"type\":\"BoxAnnotation\"},{\"attributes\":{},\"id\":\"1446\",\"type\":\"SaveTool\"}],\"root_ids\":[\"1424\"]},\"title\":\"Bokeh Application\",\"version\":\"1.2.0\"}};\n",
       "  var render_items = [{\"docid\":\"7b42dcc0-8be0-40e2-8ff0-0d42da195f36\",\"roots\":{\"1424\":\"369e0fde-5566-4b25-ab2f-8065d3fb8ed3\"}}];\n",
       "  root.Bokeh.embed.embed_items_notebook(docs_json, render_items);\n",
       "\n",
       "  }\n",
       "  if (root.Bokeh !== undefined) {\n",
       "    embed_document(root);\n",
       "  } else {\n",
       "    var attempts = 0;\n",
       "    var timer = setInterval(function(root) {\n",
       "      if (root.Bokeh !== undefined) {\n",
       "        embed_document(root);\n",
       "        clearInterval(timer);\n",
       "      }\n",
       "      attempts++;\n",
       "      if (attempts > 100) {\n",
       "        console.log(\"Bokeh: ERROR: Unable to run BokehJS code because BokehJS library is missing\");\n",
       "        clearInterval(timer);\n",
       "      }\n",
       "    }, 10, root)\n",
       "  }\n",
       "})(window);"
      ],
      "application/vnd.bokehjs_exec.v0+json": ""
     },
     "metadata": {
      "application/vnd.bokehjs_exec.v0+json": {
       "id": "1424"
      }
     },
     "output_type": "display_data"
    }
   ],
   "source": [
    "# Compute replicates\n",
    "bs_reps_1975 = np.array([draw_bs_rep(bd_1975, func=np.std) for _ in range(n_reps)])\n",
    "    \n",
    "# Compute confidence interval\n",
    "conf_int_1975 = np.percentile(bs_reps_1975, [2.5, 97.5])\n",
    "print(conf_int_1975)\n",
    "\n",
    "# Plot ECDF\n",
    "p = bokeh_catplot.ecdf(\n",
    "    data=pd.DataFrame({'bs_reps': bs_reps_1975}),\n",
    "    cats=None,\n",
    "    val='bs_reps',\n",
    "    x_axis_label='std beak depth (mm)',\n",
    ")\n",
    "\n",
    "bokeh.io.show(p)"
   ]
  },
  {
   "cell_type": "markdown",
   "metadata": {},
   "source": [
    "So, we now also have an estimate for the variability in beak depth. It could range from about 0.48 to 0.64 mm."
   ]
  },
  {
   "cell_type": "markdown",
   "metadata": {},
   "source": [
    "## Computing environment"
   ]
  },
  {
   "cell_type": "code",
   "execution_count": 21,
   "metadata": {},
   "outputs": [
    {
     "name": "stdout",
     "output_type": "stream",
     "text": [
      "CPython 3.7.3\n",
      "IPython 7.1.1\n",
      "\n",
      "numpy 1.16.4\n",
      "pandas 0.24.2\n",
      "bokeh 1.2.0\n",
      "bokeh_catplot 0.1.1\n",
      "jupyterlab 0.35.5\n"
     ]
    }
   ],
   "source": [
    "%load_ext watermark\n",
    "%watermark -v -p numpy,pandas,bokeh,bokeh_catplot,jupyterlab"
   ]
  }
 ],
 "metadata": {
  "anaconda-cloud": {},
  "kernelspec": {
   "display_name": "Python 3",
   "language": "python",
   "name": "python3"
  },
  "language_info": {
   "codemirror_mode": {
    "name": "ipython",
    "version": 3
   },
   "file_extension": ".py",
   "mimetype": "text/x-python",
   "name": "python",
   "nbconvert_exporter": "python",
   "pygments_lexer": "ipython3",
   "version": "3.7.3"
  }
 },
 "nbformat": 4,
 "nbformat_minor": 2
}
