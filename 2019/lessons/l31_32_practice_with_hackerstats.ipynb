{
 "cells": [
  {
   "cell_type": "markdown",
   "metadata": {},
   "source": [
    "# Lessons 31 and 32: Practice with hacker stats *solution*\n",
    "\n",
    "(c) 2019 Justin Bois. With the exception of pasted graphics, where the source is noted, this work is licensed under a [Creative Commons Attribution License CC-BY 4.0](https://creativecommons.org/licenses/by/4.0/). All code contained herein is licensed under an [MIT license](https://opensource.org/licenses/MIT).\n",
    "\n",
    "This document was prepared at [Caltech](http://www.caltech.edu) with financial support from the [Donna and Benjamin M. Rosen Bioengineering Center](http://rosen.caltech.edu).\n",
    "\n",
    "<img src=\"caltech_rosen.png\">\n",
    "\n",
    "*This tutorial was generated from a Jupyter notebook.  You can download the notebook [here](l31_32_practice_with_hackerstats.ipynb).*\n",
    "\n",
    "<hr />"
   ]
  },
  {
   "cell_type": "code",
   "execution_count": 1,
   "metadata": {
    "collapsed": true
   },
   "outputs": [],
   "source": [
    "import numpy as np\n",
    "import pandas as pd"
   ]
  },
  {
   "cell_type": "markdown",
   "metadata": {},
   "source": [
    "<hr/>\n",
    "\n",
    "## Practice 1: Writing a function to draw bootstrap replicates\n",
    "\n",
    "As you can imagine, it is quite useful to be able to generate, or \"draw,\" bootstrap replicates. Now, you will write a function, `draw_bs_reps()` to do this automatically. You will want to include this in a module so you can use it over and over again. (I will not be providing it in the `bootcamp_utils` module; I want you to write this yourself.)\n",
    "\n",
    ">1. Define a function with call signature `draw_bs_reps(data, func=np.mean, size=1)`, where `func` is a function that takes in an array and returns a statistic. Examples that could be passed in as `func` are `np.mean`, `np.std`, `np.median`, or a user-defined function. `size` is the number of replicates to generate.\n",
    "2. Write a good doc string.\n",
    "3. Define `n` to be the length of the input `data` array.\n",
    "4. Use a list comprehension to compute a list of bootstrap replicates.\n",
    "5. Return the replicates as a Numpy array.\n",
    "\n",
    "Now that you have the function, feel free to play around with it and compute bootstrap replicates with the finch beak or other data you want to play with. This is a function you may use over and over again in your research, so you might want to keep it in a module you will use going forward. *Or, you can install the [`dc_stat_think` module](https://github.com/justinbois/dc_stat_think) that I wrote using `pip`, which has this and many other useful functions for bootstrapping.*"
   ]
  },
  {
   "cell_type": "markdown",
   "metadata": {},
   "source": [
    "<br />"
   ]
  },
  {
   "cell_type": "markdown",
   "metadata": {},
   "source": [
    "## Practice 2: Estimating the difference between two means\n",
    "\n",
    "We have used bootstrapping to get estimates of summary statistics about a single set of repeated measurements. But we are often in interested in the *difference* between two data sets. As an example, in [our lesson on hacker stats](l30_hacker_stats.html), we computed the confidence interval for the mean beak depth of *G. scandens* in 1975 and in 2012. We can easily compute the difference in means between these two years."
   ]
  },
  {
   "cell_type": "code",
   "execution_count": 2,
   "metadata": {},
   "outputs": [
    {
     "name": "stdout",
     "output_type": "stream",
     "text": [
      "Difference of means (2012 - 1975):  0.2284920634920642 mm\n"
     ]
    }
   ],
   "source": [
    "# Load data set\n",
    "df = pd.read_csv(\"data/grant_complete.csv\", comment=\"#\")\n",
    "\n",
    "# Pull out records of interest\n",
    "df = df.loc[\n",
    "    (df[\"species\"] == \"scandens\") & (df[\"year\"].isin([1975, 2012])),\n",
    "    [\"year\", \"beak depth (mm)\"],\n",
    "]\n",
    "\n",
    "# Convert to NumPy arrays\n",
    "bd_1975 = df.loc[df['year']==1975, 'beak depth (mm)'].values\n",
    "bd_2012 = df.loc[df['year']==2012, 'beak depth (mm)'].values\n",
    "\n",
    "# Compute difference of means\n",
    "print(\"Difference of means (2012 - 1975): \", \n",
    "      np.mean(bd_2012) - np.mean(bd_1975),\n",
    "      \"mm\")"
   ]
  },
  {
   "cell_type": "markdown",
   "metadata": {},
   "source": [
    "We might like a confidence interval on this value. This can also be achieved by bootstrapping! Remember, the ideas is to sample out of the actual measured data set, with replacement, and then compute the summary statistic. For this calculation, it would go as follows.\n",
    "\n",
    "1. Draw `B` bootstrap replicates of the mean out of `bd_1975`.\n",
    "2. Draw `B` bootstrap replicates of the mean out of `bd_2012`.\n",
    "3. Subtract the replicates from 1975 from those from 2012, and, voilà!, you have bootstrap replicates for the difference in means.\n",
    "\n",
    "Be sure you understand why technique is following the general bootstrap prescription. Code this up, and give a confidence interval for the difference in mean beak depth between 2012 and 1975."
   ]
  },
  {
   "cell_type": "markdown",
   "metadata": {},
   "source": [
    "<br />"
   ]
  },
  {
   "cell_type": "markdown",
   "metadata": {},
   "source": [
    "## Practice 3: Visualizing ECDF confidence intervals\n",
    "\n",
    "In the previous exercise, we showed that we can compute confidence intervals for the difference of means. We can compute confidence intervals for anything directly computed from the data. This includes the value of the ECDF for an arbitrary `x`. Here is how we can compute the confidence interval for the ECDF.\n",
    "\n",
    "1. Generate a bootstrap sample of the data.\n",
    "2. For each value `x` of your data set, evaluate the value of the ECDF at that point and record it. This is a bootstrap replicate of the ECDF at `x`.\n",
    "3. Do steps 1 and 2 over and over until you get your desired number of bootstrap replicates.\n",
    "4. For each value of `x` in your data set, compute the appropriate percentiles of your ECDF replicates. This gives you the ECDF confidence interval at `x`.\n",
    "\n",
    "Step 2 is kind of tricky, since not all of your measured data points are present in each bootstrap sample and you have to use the formal definition of the ECDF to get a replicate of the ECDF. Fortunately, this is done for you in the `bokeh_catplot.ecdf()` function. Use the `conf_int` kwarg in the `bokeh_catplot.ecdf()` function to plot an ECDFs of the *G. scandens* beak depth for 1975 and 2012 with confidence intervals."
   ]
  },
  {
   "cell_type": "markdown",
   "metadata": {},
   "source": [
    "<br />"
   ]
  },
  {
   "cell_type": "markdown",
   "metadata": {},
   "source": [
    "## Practice 4: Bootstrapping \"theory\" with hacker stats\n",
    "\n",
    "Say we have a data set with $n$ unique measurements. It can be shown that on average a fraction of $(1-1/n)^n$ of the measurements do not appear in a bootstrap sample. Note that for large samples, this is approximately $1/e \\approx 1/2.7$, since\n",
    "\n",
    "\\begin{align}\n",
    "\\lim_{n\\to\\infty} (1-1/n)^n = 1/e.\n",
    "\\end{align}\n",
    "\n",
    "Use hacker stats to show that this is, indeed true. *Hint*: Think about a convenient \"data set\" to use for drawing samples.\n",
    "\n",
    "This is kind of fun; you're investigating some theory behind hacker stats *with hacker stats*!"
   ]
  },
  {
   "cell_type": "markdown",
   "metadata": {},
   "source": [
    "## Computing environment"
   ]
  },
  {
   "cell_type": "code",
   "execution_count": 3,
   "metadata": {},
   "outputs": [
    {
     "name": "stdout",
     "output_type": "stream",
     "text": [
      "CPython 3.7.3\n",
      "IPython 7.1.1\n",
      "\n",
      "numpy 1.16.4\n",
      "pandas 0.24.2\n",
      "jupyterlab 0.35.5\n"
     ]
    }
   ],
   "source": [
    "%load_ext watermark\n",
    "%watermark -v -p numpy,pandas,jupyterlab"
   ]
  }
 ],
 "metadata": {
  "anaconda-cloud": {},
  "kernelspec": {
   "display_name": "Python 3",
   "language": "python",
   "name": "python3"
  },
  "language_info": {
   "codemirror_mode": {
    "name": "ipython",
    "version": 3
   },
   "file_extension": ".py",
   "mimetype": "text/x-python",
   "name": "python",
   "nbconvert_exporter": "python",
   "pygments_lexer": "ipython3",
   "version": "3.7.3"
  }
 },
 "nbformat": 4,
 "nbformat_minor": 2
}
