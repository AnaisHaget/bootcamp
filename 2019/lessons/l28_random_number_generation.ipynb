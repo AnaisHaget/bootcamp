{
 "cells": [
  {
   "cell_type": "markdown",
   "metadata": {},
   "source": [
    "# Lesson 28: Random number generation\n",
    "\n",
    "(c) 2019 Justin Bois. With the exception of pasted graphics, where the source is noted, this work is licensed under a [Creative Commons Attribution License CC-BY 4.0](https://creativecommons.org/licenses/by/4.0/). All code contained herein is licensed under an [MIT license](https://opensource.org/licenses/MIT).\n",
    "\n",
    "This document was prepared at [Caltech](http://www.caltech.edu) with financial support from the [Donna and Benjamin M. Rosen Bioengineering Center](http://rosen.caltech.edu).\n",
    "\n",
    "<img src=\"caltech_rosen.png\">\n",
    "\n",
    "*This tutorial was generated from a Jupyter notebook.  You can download the notebook [here](l28_random_number_generation.ipynb).*\n",
    "\n",
    "<hr />"
   ]
  },
  {
   "cell_type": "code",
   "execution_count": 1,
   "metadata": {
    "collapsed": true
   },
   "outputs": [
    {
     "data": {
      "text/html": [
       "\n",
       "    <div class=\"bk-root\">\n",
       "        <a href=\"https://bokeh.pydata.org\" target=\"_blank\" class=\"bk-logo bk-logo-small bk-logo-notebook\"></a>\n",
       "        <span id=\"1001\">Loading BokehJS ...</span>\n",
       "    </div>"
      ]
     },
     "metadata": {},
     "output_type": "display_data"
    },
    {
     "data": {
      "application/javascript": [
       "\n",
       "(function(root) {\n",
       "  function now() {\n",
       "    return new Date();\n",
       "  }\n",
       "\n",
       "  var force = true;\n",
       "\n",
       "  if (typeof root._bokeh_onload_callbacks === \"undefined\" || force === true) {\n",
       "    root._bokeh_onload_callbacks = [];\n",
       "    root._bokeh_is_loading = undefined;\n",
       "  }\n",
       "\n",
       "  var JS_MIME_TYPE = 'application/javascript';\n",
       "  var HTML_MIME_TYPE = 'text/html';\n",
       "  var EXEC_MIME_TYPE = 'application/vnd.bokehjs_exec.v0+json';\n",
       "  var CLASS_NAME = 'output_bokeh rendered_html';\n",
       "\n",
       "  /**\n",
       "   * Render data to the DOM node\n",
       "   */\n",
       "  function render(props, node) {\n",
       "    var script = document.createElement(\"script\");\n",
       "    node.appendChild(script);\n",
       "  }\n",
       "\n",
       "  /**\n",
       "   * Handle when an output is cleared or removed\n",
       "   */\n",
       "  function handleClearOutput(event, handle) {\n",
       "    var cell = handle.cell;\n",
       "\n",
       "    var id = cell.output_area._bokeh_element_id;\n",
       "    var server_id = cell.output_area._bokeh_server_id;\n",
       "    // Clean up Bokeh references\n",
       "    if (id != null && id in Bokeh.index) {\n",
       "      Bokeh.index[id].model.document.clear();\n",
       "      delete Bokeh.index[id];\n",
       "    }\n",
       "\n",
       "    if (server_id !== undefined) {\n",
       "      // Clean up Bokeh references\n",
       "      var cmd = \"from bokeh.io.state import curstate; print(curstate().uuid_to_server['\" + server_id + \"'].get_sessions()[0].document.roots[0]._id)\";\n",
       "      cell.notebook.kernel.execute(cmd, {\n",
       "        iopub: {\n",
       "          output: function(msg) {\n",
       "            var id = msg.content.text.trim();\n",
       "            if (id in Bokeh.index) {\n",
       "              Bokeh.index[id].model.document.clear();\n",
       "              delete Bokeh.index[id];\n",
       "            }\n",
       "          }\n",
       "        }\n",
       "      });\n",
       "      // Destroy server and session\n",
       "      var cmd = \"import bokeh.io.notebook as ion; ion.destroy_server('\" + server_id + \"')\";\n",
       "      cell.notebook.kernel.execute(cmd);\n",
       "    }\n",
       "  }\n",
       "\n",
       "  /**\n",
       "   * Handle when a new output is added\n",
       "   */\n",
       "  function handleAddOutput(event, handle) {\n",
       "    var output_area = handle.output_area;\n",
       "    var output = handle.output;\n",
       "\n",
       "    // limit handleAddOutput to display_data with EXEC_MIME_TYPE content only\n",
       "    if ((output.output_type != \"display_data\") || (!output.data.hasOwnProperty(EXEC_MIME_TYPE))) {\n",
       "      return\n",
       "    }\n",
       "\n",
       "    var toinsert = output_area.element.find(\".\" + CLASS_NAME.split(' ')[0]);\n",
       "\n",
       "    if (output.metadata[EXEC_MIME_TYPE][\"id\"] !== undefined) {\n",
       "      toinsert[toinsert.length - 1].firstChild.textContent = output.data[JS_MIME_TYPE];\n",
       "      // store reference to embed id on output_area\n",
       "      output_area._bokeh_element_id = output.metadata[EXEC_MIME_TYPE][\"id\"];\n",
       "    }\n",
       "    if (output.metadata[EXEC_MIME_TYPE][\"server_id\"] !== undefined) {\n",
       "      var bk_div = document.createElement(\"div\");\n",
       "      bk_div.innerHTML = output.data[HTML_MIME_TYPE];\n",
       "      var script_attrs = bk_div.children[0].attributes;\n",
       "      for (var i = 0; i < script_attrs.length; i++) {\n",
       "        toinsert[toinsert.length - 1].firstChild.setAttribute(script_attrs[i].name, script_attrs[i].value);\n",
       "      }\n",
       "      // store reference to server id on output_area\n",
       "      output_area._bokeh_server_id = output.metadata[EXEC_MIME_TYPE][\"server_id\"];\n",
       "    }\n",
       "  }\n",
       "\n",
       "  function register_renderer(events, OutputArea) {\n",
       "\n",
       "    function append_mime(data, metadata, element) {\n",
       "      // create a DOM node to render to\n",
       "      var toinsert = this.create_output_subarea(\n",
       "        metadata,\n",
       "        CLASS_NAME,\n",
       "        EXEC_MIME_TYPE\n",
       "      );\n",
       "      this.keyboard_manager.register_events(toinsert);\n",
       "      // Render to node\n",
       "      var props = {data: data, metadata: metadata[EXEC_MIME_TYPE]};\n",
       "      render(props, toinsert[toinsert.length - 1]);\n",
       "      element.append(toinsert);\n",
       "      return toinsert\n",
       "    }\n",
       "\n",
       "    /* Handle when an output is cleared or removed */\n",
       "    events.on('clear_output.CodeCell', handleClearOutput);\n",
       "    events.on('delete.Cell', handleClearOutput);\n",
       "\n",
       "    /* Handle when a new output is added */\n",
       "    events.on('output_added.OutputArea', handleAddOutput);\n",
       "\n",
       "    /**\n",
       "     * Register the mime type and append_mime function with output_area\n",
       "     */\n",
       "    OutputArea.prototype.register_mime_type(EXEC_MIME_TYPE, append_mime, {\n",
       "      /* Is output safe? */\n",
       "      safe: true,\n",
       "      /* Index of renderer in `output_area.display_order` */\n",
       "      index: 0\n",
       "    });\n",
       "  }\n",
       "\n",
       "  // register the mime type if in Jupyter Notebook environment and previously unregistered\n",
       "  if (root.Jupyter !== undefined) {\n",
       "    var events = require('base/js/events');\n",
       "    var OutputArea = require('notebook/js/outputarea').OutputArea;\n",
       "\n",
       "    if (OutputArea.prototype.mime_types().indexOf(EXEC_MIME_TYPE) == -1) {\n",
       "      register_renderer(events, OutputArea);\n",
       "    }\n",
       "  }\n",
       "\n",
       "  \n",
       "  if (typeof (root._bokeh_timeout) === \"undefined\" || force === true) {\n",
       "    root._bokeh_timeout = Date.now() + 5000;\n",
       "    root._bokeh_failed_load = false;\n",
       "  }\n",
       "\n",
       "  var NB_LOAD_WARNING = {'data': {'text/html':\n",
       "     \"<div style='background-color: #fdd'>\\n\"+\n",
       "     \"<p>\\n\"+\n",
       "     \"BokehJS does not appear to have successfully loaded. If loading BokehJS from CDN, this \\n\"+\n",
       "     \"may be due to a slow or bad network connection. Possible fixes:\\n\"+\n",
       "     \"</p>\\n\"+\n",
       "     \"<ul>\\n\"+\n",
       "     \"<li>re-rerun `output_notebook()` to attempt to load from CDN again, or</li>\\n\"+\n",
       "     \"<li>use INLINE resources instead, as so:</li>\\n\"+\n",
       "     \"</ul>\\n\"+\n",
       "     \"<code>\\n\"+\n",
       "     \"from bokeh.resources import INLINE\\n\"+\n",
       "     \"output_notebook(resources=INLINE)\\n\"+\n",
       "     \"</code>\\n\"+\n",
       "     \"</div>\"}};\n",
       "\n",
       "  function display_loaded() {\n",
       "    var el = document.getElementById(\"1001\");\n",
       "    if (el != null) {\n",
       "      el.textContent = \"BokehJS is loading...\";\n",
       "    }\n",
       "    if (root.Bokeh !== undefined) {\n",
       "      if (el != null) {\n",
       "        el.textContent = \"BokehJS \" + root.Bokeh.version + \" successfully loaded.\";\n",
       "      }\n",
       "    } else if (Date.now() < root._bokeh_timeout) {\n",
       "      setTimeout(display_loaded, 100)\n",
       "    }\n",
       "  }\n",
       "\n",
       "\n",
       "  function run_callbacks() {\n",
       "    try {\n",
       "      root._bokeh_onload_callbacks.forEach(function(callback) {\n",
       "        if (callback != null)\n",
       "          callback();\n",
       "      });\n",
       "    } finally {\n",
       "      delete root._bokeh_onload_callbacks\n",
       "    }\n",
       "    console.debug(\"Bokeh: all callbacks have finished\");\n",
       "  }\n",
       "\n",
       "  function load_libs(css_urls, js_urls, callback) {\n",
       "    if (css_urls == null) css_urls = [];\n",
       "    if (js_urls == null) js_urls = [];\n",
       "\n",
       "    root._bokeh_onload_callbacks.push(callback);\n",
       "    if (root._bokeh_is_loading > 0) {\n",
       "      console.debug(\"Bokeh: BokehJS is being loaded, scheduling callback at\", now());\n",
       "      return null;\n",
       "    }\n",
       "    if (js_urls == null || js_urls.length === 0) {\n",
       "      run_callbacks();\n",
       "      return null;\n",
       "    }\n",
       "    console.debug(\"Bokeh: BokehJS not loaded, scheduling load and callback at\", now());\n",
       "    root._bokeh_is_loading = css_urls.length + js_urls.length;\n",
       "\n",
       "    function on_load() {\n",
       "      root._bokeh_is_loading--;\n",
       "      if (root._bokeh_is_loading === 0) {\n",
       "        console.debug(\"Bokeh: all BokehJS libraries/stylesheets loaded\");\n",
       "        run_callbacks()\n",
       "      }\n",
       "    }\n",
       "\n",
       "    function on_error() {\n",
       "      console.error(\"failed to load \" + url);\n",
       "    }\n",
       "\n",
       "    for (var i = 0; i < css_urls.length; i++) {\n",
       "      var url = css_urls[i];\n",
       "      const element = document.createElement(\"link\");\n",
       "      element.onload = on_load;\n",
       "      element.onerror = on_error;\n",
       "      element.rel = \"stylesheet\";\n",
       "      element.type = \"text/css\";\n",
       "      element.href = url;\n",
       "      console.debug(\"Bokeh: injecting link tag for BokehJS stylesheet: \", url);\n",
       "      document.body.appendChild(element);\n",
       "    }\n",
       "\n",
       "    for (var i = 0; i < js_urls.length; i++) {\n",
       "      var url = js_urls[i];\n",
       "      var element = document.createElement('script');\n",
       "      element.onload = on_load;\n",
       "      element.onerror = on_error;\n",
       "      element.async = false;\n",
       "      element.src = url;\n",
       "      console.debug(\"Bokeh: injecting script tag for BokehJS library: \", url);\n",
       "      document.head.appendChild(element);\n",
       "    }\n",
       "  };var element = document.getElementById(\"1001\");\n",
       "  if (element == null) {\n",
       "    console.error(\"Bokeh: ERROR: autoload.js configured with elementid '1001' but no matching script tag was found. \")\n",
       "    return false;\n",
       "  }\n",
       "\n",
       "  function inject_raw_css(css) {\n",
       "    const element = document.createElement(\"style\");\n",
       "    element.appendChild(document.createTextNode(css));\n",
       "    document.body.appendChild(element);\n",
       "  }\n",
       "\n",
       "  var js_urls = [\"https://cdn.pydata.org/bokeh/release/bokeh-1.2.0.min.js\", \"https://cdn.pydata.org/bokeh/release/bokeh-widgets-1.2.0.min.js\", \"https://cdn.pydata.org/bokeh/release/bokeh-tables-1.2.0.min.js\", \"https://cdn.pydata.org/bokeh/release/bokeh-gl-1.2.0.min.js\"];\n",
       "  var css_urls = [\"https://cdn.pydata.org/bokeh/release/bokeh-1.2.0.min.css\", \"https://cdn.pydata.org/bokeh/release/bokeh-widgets-1.2.0.min.css\", \"https://cdn.pydata.org/bokeh/release/bokeh-tables-1.2.0.min.css\"];\n",
       "\n",
       "  var inline_js = [\n",
       "    function(Bokeh) {\n",
       "      Bokeh.set_log_level(\"info\");\n",
       "    },\n",
       "    \n",
       "    function(Bokeh) {\n",
       "      \n",
       "    },\n",
       "    function(Bokeh) {} // ensure no trailing comma for IE\n",
       "  ];\n",
       "\n",
       "  function run_inline_js() {\n",
       "    \n",
       "    if ((root.Bokeh !== undefined) || (force === true)) {\n",
       "      for (var i = 0; i < inline_js.length; i++) {\n",
       "        inline_js[i].call(root, root.Bokeh);\n",
       "      }if (force === true) {\n",
       "        display_loaded();\n",
       "      }} else if (Date.now() < root._bokeh_timeout) {\n",
       "      setTimeout(run_inline_js, 100);\n",
       "    } else if (!root._bokeh_failed_load) {\n",
       "      console.log(\"Bokeh: BokehJS failed to load within specified timeout.\");\n",
       "      root._bokeh_failed_load = true;\n",
       "    } else if (force !== true) {\n",
       "      var cell = $(document.getElementById(\"1001\")).parents('.cell').data().cell;\n",
       "      cell.output_area.append_execute_result(NB_LOAD_WARNING)\n",
       "    }\n",
       "\n",
       "  }\n",
       "\n",
       "  if (root._bokeh_is_loading === 0) {\n",
       "    console.debug(\"Bokeh: BokehJS loaded, going straight to plotting\");\n",
       "    run_inline_js();\n",
       "  } else {\n",
       "    load_libs(css_urls, js_urls, function() {\n",
       "      console.debug(\"Bokeh: BokehJS plotting callback run at\", now());\n",
       "      run_inline_js();\n",
       "    });\n",
       "  }\n",
       "}(window));"
      ],
      "application/vnd.bokehjs_load.v0+json": "\n(function(root) {\n  function now() {\n    return new Date();\n  }\n\n  var force = true;\n\n  if (typeof root._bokeh_onload_callbacks === \"undefined\" || force === true) {\n    root._bokeh_onload_callbacks = [];\n    root._bokeh_is_loading = undefined;\n  }\n\n  \n\n  \n  if (typeof (root._bokeh_timeout) === \"undefined\" || force === true) {\n    root._bokeh_timeout = Date.now() + 5000;\n    root._bokeh_failed_load = false;\n  }\n\n  var NB_LOAD_WARNING = {'data': {'text/html':\n     \"<div style='background-color: #fdd'>\\n\"+\n     \"<p>\\n\"+\n     \"BokehJS does not appear to have successfully loaded. If loading BokehJS from CDN, this \\n\"+\n     \"may be due to a slow or bad network connection. Possible fixes:\\n\"+\n     \"</p>\\n\"+\n     \"<ul>\\n\"+\n     \"<li>re-rerun `output_notebook()` to attempt to load from CDN again, or</li>\\n\"+\n     \"<li>use INLINE resources instead, as so:</li>\\n\"+\n     \"</ul>\\n\"+\n     \"<code>\\n\"+\n     \"from bokeh.resources import INLINE\\n\"+\n     \"output_notebook(resources=INLINE)\\n\"+\n     \"</code>\\n\"+\n     \"</div>\"}};\n\n  function display_loaded() {\n    var el = document.getElementById(\"1001\");\n    if (el != null) {\n      el.textContent = \"BokehJS is loading...\";\n    }\n    if (root.Bokeh !== undefined) {\n      if (el != null) {\n        el.textContent = \"BokehJS \" + root.Bokeh.version + \" successfully loaded.\";\n      }\n    } else if (Date.now() < root._bokeh_timeout) {\n      setTimeout(display_loaded, 100)\n    }\n  }\n\n\n  function run_callbacks() {\n    try {\n      root._bokeh_onload_callbacks.forEach(function(callback) {\n        if (callback != null)\n          callback();\n      });\n    } finally {\n      delete root._bokeh_onload_callbacks\n    }\n    console.debug(\"Bokeh: all callbacks have finished\");\n  }\n\n  function load_libs(css_urls, js_urls, callback) {\n    if (css_urls == null) css_urls = [];\n    if (js_urls == null) js_urls = [];\n\n    root._bokeh_onload_callbacks.push(callback);\n    if (root._bokeh_is_loading > 0) {\n      console.debug(\"Bokeh: BokehJS is being loaded, scheduling callback at\", now());\n      return null;\n    }\n    if (js_urls == null || js_urls.length === 0) {\n      run_callbacks();\n      return null;\n    }\n    console.debug(\"Bokeh: BokehJS not loaded, scheduling load and callback at\", now());\n    root._bokeh_is_loading = css_urls.length + js_urls.length;\n\n    function on_load() {\n      root._bokeh_is_loading--;\n      if (root._bokeh_is_loading === 0) {\n        console.debug(\"Bokeh: all BokehJS libraries/stylesheets loaded\");\n        run_callbacks()\n      }\n    }\n\n    function on_error() {\n      console.error(\"failed to load \" + url);\n    }\n\n    for (var i = 0; i < css_urls.length; i++) {\n      var url = css_urls[i];\n      const element = document.createElement(\"link\");\n      element.onload = on_load;\n      element.onerror = on_error;\n      element.rel = \"stylesheet\";\n      element.type = \"text/css\";\n      element.href = url;\n      console.debug(\"Bokeh: injecting link tag for BokehJS stylesheet: \", url);\n      document.body.appendChild(element);\n    }\n\n    for (var i = 0; i < js_urls.length; i++) {\n      var url = js_urls[i];\n      var element = document.createElement('script');\n      element.onload = on_load;\n      element.onerror = on_error;\n      element.async = false;\n      element.src = url;\n      console.debug(\"Bokeh: injecting script tag for BokehJS library: \", url);\n      document.head.appendChild(element);\n    }\n  };var element = document.getElementById(\"1001\");\n  if (element == null) {\n    console.error(\"Bokeh: ERROR: autoload.js configured with elementid '1001' but no matching script tag was found. \")\n    return false;\n  }\n\n  function inject_raw_css(css) {\n    const element = document.createElement(\"style\");\n    element.appendChild(document.createTextNode(css));\n    document.body.appendChild(element);\n  }\n\n  var js_urls = [\"https://cdn.pydata.org/bokeh/release/bokeh-1.2.0.min.js\", \"https://cdn.pydata.org/bokeh/release/bokeh-widgets-1.2.0.min.js\", \"https://cdn.pydata.org/bokeh/release/bokeh-tables-1.2.0.min.js\", \"https://cdn.pydata.org/bokeh/release/bokeh-gl-1.2.0.min.js\"];\n  var css_urls = [\"https://cdn.pydata.org/bokeh/release/bokeh-1.2.0.min.css\", \"https://cdn.pydata.org/bokeh/release/bokeh-widgets-1.2.0.min.css\", \"https://cdn.pydata.org/bokeh/release/bokeh-tables-1.2.0.min.css\"];\n\n  var inline_js = [\n    function(Bokeh) {\n      Bokeh.set_log_level(\"info\");\n    },\n    \n    function(Bokeh) {\n      \n    },\n    function(Bokeh) {} // ensure no trailing comma for IE\n  ];\n\n  function run_inline_js() {\n    \n    if ((root.Bokeh !== undefined) || (force === true)) {\n      for (var i = 0; i < inline_js.length; i++) {\n        inline_js[i].call(root, root.Bokeh);\n      }if (force === true) {\n        display_loaded();\n      }} else if (Date.now() < root._bokeh_timeout) {\n      setTimeout(run_inline_js, 100);\n    } else if (!root._bokeh_failed_load) {\n      console.log(\"Bokeh: BokehJS failed to load within specified timeout.\");\n      root._bokeh_failed_load = true;\n    } else if (force !== true) {\n      var cell = $(document.getElementById(\"1001\")).parents('.cell').data().cell;\n      cell.output_area.append_execute_result(NB_LOAD_WARNING)\n    }\n\n  }\n\n  if (root._bokeh_is_loading === 0) {\n    console.debug(\"Bokeh: BokehJS loaded, going straight to plotting\");\n    run_inline_js();\n  } else {\n    load_libs(css_urls, js_urls, function() {\n      console.debug(\"Bokeh: BokehJS plotting callback run at\", now());\n      run_inline_js();\n    });\n  }\n}(window));"
     },
     "metadata": {},
     "output_type": "display_data"
    }
   ],
   "source": [
    "import numpy as np\n",
    "import pandas as pd\n",
    "import scipy.stats\n",
    "\n",
    "import bokeh_catplot\n",
    "\n",
    "import bokeh.io\n",
    "import bokeh.plotting\n",
    "\n",
    "bokeh.io.output_notebook()"
   ]
  },
  {
   "cell_type": "markdown",
   "metadata": {},
   "source": [
    "**Random number generation** (RNG), besides being a [song in the original off-Broadway run of *Hedwig and the Angry Inch*](https://www.youtube.com/watch?v=KzGHjsMGdy0), is the process by which a string of random numbers may be drawn. Of course, the numbers are not completely random for several reasons.\n",
    "\n",
    "1. They are drawn from a probability distribution. The most common one is the uniform distribution on the domain $0 \\le x < 1$, i.e., random numbers between zero and one. (\"Completely random\" does not make sense because of the infinite magnitude of numbers.) \n",
    "2. In most computer applications, including the ones we'll use in bootcamp, the random numbers are actually pseudorandom. They depend entirely on an input **seed** and are then generated by a deterministic algorithm from that seed.\n",
    "\n",
    "This is a bit academic. Let's jump right in generating random numbers. Much of the random number generation functionality you will need is in the `np.random` module. Let's start by generating random numbers from a Uniform distribution."
   ]
  },
  {
   "cell_type": "code",
   "execution_count": 2,
   "metadata": {},
   "outputs": [
    {
     "data": {
      "text/plain": [
       "array([0.11610617, 0.07650143, 0.5439809 , 0.59011134, 0.28927477,\n",
       "       0.47130377, 0.49952214, 0.23529663, 0.76105653, 0.99391534])"
      ]
     },
     "execution_count": 2,
     "metadata": {},
     "output_type": "execute_result"
    }
   ],
   "source": [
    "np.random.uniform(low=0, high=1, size=10)"
   ]
  },
  {
   "cell_type": "markdown",
   "metadata": {},
   "source": [
    "The function `uniform()` in the `np.random` module generates random numbers on the interval \\[`low`, `high`) from a Uniform distribution. The `size` kwarg is how many random numbers you wish to generate, and is a kwarg in all of Numpy's random number generators. The random numbers are returned as a NumPy array.\n",
    "\n",
    "We can check to make sure it is appropriately drawing random numbers out of the uniform distribution by plotting the cumulative distribution function, just like we did last time.  We'll generate 1,000 random numbers and plot them along with the CDF of a Uniform distribution."
   ]
  },
  {
   "cell_type": "code",
   "execution_count": 3,
   "metadata": {},
   "outputs": [
    {
     "data": {
      "text/html": [
       "\n",
       "\n",
       "\n",
       "\n",
       "\n",
       "\n",
       "  <div class=\"bk-root\" id=\"f6e7d024-9126-4c4d-a532-846991d96d7b\" data-root-id=\"1002\"></div>\n"
      ]
     },
     "metadata": {},
     "output_type": "display_data"
    },
    {
     "data": {
      "application/javascript": [
       "(function(root) {\n",
       "  function embed_document(root) {\n",
       "    \n",
       "  var docs_json = {\"97b6c384-04e2-4ba4-bda3-9a9849edee34\":{\"roots\":{\"references\":[{\"attributes\":{\"below\":[{\"id\":\"1011\",\"type\":\"LinearAxis\"}],\"center\":[{\"id\":\"1015\",\"type\":\"Grid\"},{\"id\":\"1020\",\"type\":\"Grid\"},{\"id\":\"1047\",\"type\":\"Legend\"}],\"left\":[{\"id\":\"1016\",\"type\":\"LinearAxis\"}],\"plot_height\":300,\"plot_width\":400,\"renderers\":[{\"id\":\"1038\",\"type\":\"GlyphRenderer\"},{\"id\":\"1052\",\"type\":\"GlyphRenderer\"}],\"title\":{\"id\":\"1040\",\"type\":\"Title\"},\"toolbar\":{\"id\":\"1027\",\"type\":\"Toolbar\"},\"x_range\":{\"id\":\"1003\",\"type\":\"DataRange1d\"},\"x_scale\":{\"id\":\"1007\",\"type\":\"LinearScale\"},\"y_range\":{\"id\":\"1005\",\"type\":\"DataRange1d\"},\"y_scale\":{\"id\":\"1009\",\"type\":\"LinearScale\"}},\"id\":\"1002\",\"subtype\":\"Figure\",\"type\":\"Plot\"},{\"attributes\":{},\"id\":\"1021\",\"type\":\"PanTool\"},{\"attributes\":{\"active_drag\":\"auto\",\"active_inspect\":\"auto\",\"active_multi\":null,\"active_scroll\":\"auto\",\"active_tap\":\"auto\",\"tools\":[{\"id\":\"1021\",\"type\":\"PanTool\"},{\"id\":\"1022\",\"type\":\"WheelZoomTool\"},{\"id\":\"1023\",\"type\":\"BoxZoomTool\"},{\"id\":\"1024\",\"type\":\"SaveTool\"},{\"id\":\"1025\",\"type\":\"ResetTool\"},{\"id\":\"1026\",\"type\":\"HelpTool\"}]},\"id\":\"1027\",\"type\":\"Toolbar\"},{\"attributes\":{},\"id\":\"1063\",\"type\":\"Selection\"},{\"attributes\":{},\"id\":\"1061\",\"type\":\"Selection\"},{\"attributes\":{\"data_source\":{\"id\":\"1049\",\"type\":\"ColumnDataSource\"},\"glyph\":{\"id\":\"1050\",\"type\":\"Line\"},\"hover_glyph\":null,\"muted_glyph\":null,\"nonselection_glyph\":{\"id\":\"1051\",\"type\":\"Line\"},\"selection_glyph\":null,\"view\":{\"id\":\"1053\",\"type\":\"CDSView\"}},\"id\":\"1052\",\"type\":\"GlyphRenderer\"},{\"attributes\":{},\"id\":\"1022\",\"type\":\"WheelZoomTool\"},{\"attributes\":{\"axis_label\":\"ECDF\",\"formatter\":{\"id\":\"1044\",\"type\":\"BasicTickFormatter\"},\"ticker\":{\"id\":\"1017\",\"type\":\"BasicTicker\"}},\"id\":\"1016\",\"type\":\"LinearAxis\"},{\"attributes\":{\"callback\":null,\"data\":{\"__ECDF\":{\"__ndarray__\":\"WmQ730+N1z/LoUW28/3kP0SLbOf7qek/mG4Sg8DK2T8X2c73U+PpPw4tsp3vp94/c2iR7Xw/4T9qvHSTGAS2P9v5fmq8dKM/ZmZmZmZmxj9t5/up8dLNP4/C9Shcj+I//Knx0k1i7D9Ei2zn+6nhP5ZDi2zn+8k/exSuR+F6tD9/arx0kxjEPzVeukkMAu8/8KfGSzeJ2T+oxks3iUHQP8HKoUW28+0/ukkMAiuH3j91kxgEVg7lPwRWDi2yndc/AiuHFtnO5z+DwMqhRbbbP/p+arx0k9A/ukkMAiuHpj9U46WbxCCwPyGwcmiR7dQ/FK5H4XoUzj8ZBFYOLbLlP4XrUbgeheM/z/dT46Wb1D8xCKwcWmTnP+kmMQisHOo/d76fGi/d1D/sUbgehevRP/p+arx0k5g/HVpkO99P4T+BlUOLbOfLP83MzMzMzNQ/5/up8dJN0j81XrpJDALbP9NNYhBYOcQ/mG4Sg8DK6T9zaJHtfD/dP4GVQ4ts5+c/AAAAAAAA4D9t5/up8dLhP0a28/3UeOU/CtejcD0Kxz/D9Shcj8K1Pxsv3SQGgeU/c2iR7Xw/7T8tsp3vp8bTP8UgsHJokd0/ZDvfT42X5j+e76fGSzfZPwwCK4cW2c4/KVyPwvUo7D+e76fGSzfRP/LSTWIQWOU/3SQGgZVD0z+28/3UeOnGPwRWDi2ynes/JQaBlUOL3D8GgZVDi2znP/yp8dJNYtA/EoPAyqFF1j/pJjEIrBzKP8HKoUW28+k/hetRuB6Fyz9vEoPAyqHhPz81XrpJDNI/w/UoXI/C6T/Xo3A9CtfTPyuHFtnO9+s/AAAAAAAA8D9GtvP91HjtP0jhehSuR+0/sHJoke18zz9KDAIrhxbtP3E9CtejcNU/XI/C9Shc4z9aZDvfT43HP9nO91Pjpes/VOOlm8Qg5D9eukkMAivrP/yp8dJNYrA/WDm0yHa+5z+e76fGSzfpPzMzMzMzM+s/Vg4tsp3v6z/NzMzMzMzcP6JFtvP91Lg/SgwCK4cWyT+TGARWDi3qP99PjZduEsM/L90kBoGV7z9Ei2zn+6nRP9v5fmq8dOs/Gy/dJAaB4T+gGi/dJAbBP2Q730+Nl+4/MzMzMzMz4z9mZmZmZmbWP3e+nxov3dw//tR46SYx4D+uR+F6FK7XP8UgsHJokek/K4cW2c73oz/pJjEIrBzSP6RwPQrXo9g/XrpJDAIr4z8j2/l+arzUP6RwPQrXo+A/UrgehetR0D/6fmq8dJOIPzvfT42Xbuo/aJHtfD813j/6fmq8dJN4P4cW2c73U8M/JQaBlUOL4D93vp8aL93kP9ejcD0K1+M/rkfhehSu5z+F61G4HoXrP0oMAiuHFuk/CtejcD0Kpz/8qfHSTWJwP6rx0k1iEMg/ObTIdr6fyj+Nl24Sg8DmP6RwPQrXo+g/c2iR7Xw/6T+TGARWDi3CP+XQItv5fuY/L90kBoGV0z9iEFg5tMjiPycxCKwcWtQ/XI/C9Shc3z+q8dJNYhCoPzEIrBxaZLs/x0s3iUFg3T9iEFg5tMjWP3sUrkfhesQ/N4lBYOXQ2j+0yHa+nxrvP3e+nxov3eA/GQRWDi2yvT/4U+Olm8ToPy/dJAaBleM/FK5H4XoU6j9eukkMAivXPyUGgZVDi+Q/TDeJQWDl6D9t5/up8dLlP1YOLbKd7+8/AAAAAAAA6D9/arx0kxjcP/T91HjpJsE/zczMzMzMzD/sUbgehevhP+F6FK5H4bo/4XoUrkfh5j/+1HjpJjHYP3npJjEIrJw/QmDl0CLb0T9aZDvfT42nP5zEILByaOE/O99PjZdu5j+YbhKDwMrhP/p+arx0k2g/vp8aL90kxj8hsHJoke3kP28Sg8DKoeU/EFg5tMh27j+DwMqhRbbTP1CNl24Sg8A/kxgEVg4tsj/ZzvdT46W7PzVeukkMAuM/2/l+arx00z85tMh2vp+qP42XbhKDwOo/CKwcWmQ73z8j2/l+arzgPxkEVg4tss0/hetRuB6F5z8MAiuHFtneP3npJjEIrLw/KVyPwvUo6D/RItv5fmrMP3Noke18P7U/hetRuB6F7z+iRbbz/dToP9Ei2/l+arw/nu+nxks3yT+4HoXrUbjiP1g5tMh2vs8/LbKd76fG6z9vEoPAyqHtP8UgsHJoke0/c2iR7Xw/1T+F61G4HoXTPwisHFpkO78/5/up8dJN4j/pJjEIrBzuP3WTGARWDuk/EFg5tMh25j89CtejcD3KP/yp8dJNYoA/sHJoke187z+WQ4ts5/vhP2iR7Xw/NeY/30+Nl24S2z/ufD81XrrtP9nO91Pjpcs/gZVDi2znuz+WQ4ts5/vZPyuHFtnO99s/arx0kxgE6j/TTWIQWDnoPwwCK4cW2eo/JzEIrBxa5D9I4XoUrkfBP6JFtvP91NA/Vg4tsp3v4z9MN4lBYOXkPwwCK4cW2eY/mpmZmZmZ5T/wp8ZLN4npP2iR7Xw/NdY/iUFg5dAiuz/0/dR46SbtP1yPwvUoXM8/8tJNYhBY2T++nxov3STeP/yp8dJNYuA/2/l+arx0sz9MN4lBYOXYP8dLN4lBYOU/eekmMQis4D+q8dJNYhDQP8/3U+Olm9w/KVyPwvUozD85tMh2vp+6P4lBYOXQIuc/UrgehetR5D+amZmZmZnJP7TIdr6fGus/GQRWDi2yrT/ByqFFtvPlP4XrUbgehds/VOOlm8Qg0D/VeOkmMQjcPw4tsp3vp8Y/kxgEVg4t5j+TGARWDi3iP3sUrkfheuQ/ZDvfT42Xzj/RItv5fmrsP0a28/3UeNE/vHSTGARW3j/y0k1iEFjhPwAAAAAAAOQ/RIts5/up2T/Jdr6fGi/hP2iR7Xw/Ne4/16NwPQrX2z8Sg8DKoUXeP99PjZduEuM/bxKDwMqh1T+28/3UeOneP+f7qfHSTeo/hxbZzvdT2z/sUbgeheuhP0a28/3UeNk/sp3vp8ZLxz89CtejcD3uP1g5tMh2vu8/MQisHFpkyz+amZmZmZm5P05iEFg5tMg/ObTIdr6fmj+HFtnO91PTP1pkO99Pjes/qvHSTWIQ7D/LoUW28/20P2ZmZmZmZuY/qMZLN4lBwD9QjZduEoPkP9V46SYxCNQ/QmDl0CLb7T8UrkfhehTuP4ts5/up8do/I9v5fmq8xD8EVg4tsp3vP3npJjEIrNQ/okW28/3U4D9aZDvfT43vPzvfT42Xbu4/arx0kxgE4j956SYxCKzMP8dLN4lBYOk/bef7qfHS6T9QjZduEoPgP8l2vp8aL+k/wcqhRbbz1T+iRbbz/dTkP7pJDAIrh9Y/L90kBoGV2z/6fmq8dJPoP0jhehSuR+E/DAIrhxbZ1j/D9Shcj8LVP1pkO99Pjbc/JQaBlUOL7D/Jdr6fGi/NP3npJjEIrHw/AiuHFtnOtz9iEFg5tMi2P9v5fmq8dJM/0SLb+X5q1D8IrBxaZDvrPwIrhxbZzuM/EoPAyqFFtj+8dJMYBFbuP6jGSzeJQeQ/VOOlm8QgwD9I4XoUrkfpP0a28/3UeOE/ukkMAiuHxj/4U+Olm8TkP6wcWmQ73+c/9ihcj8L17D8IrBxaZDuvP+xRuB6F6+U/LbKd76fG4z/8qfHSTWKgP4cW2c73U+s/iUFg5dAi0z9oke18PzWuP3npJjEIrIw/exSuR+F63D99PzVeukncP2iR7Xw/Neo/YhBYObTIxj+DwMqhRbbrPylcj8L1KLw/VOOlm8Qg4D/pJjEIrBziP/p+arx0k7g/5dAi2/l+2j/6fmq8dJPkP90kBoGVQ+c/ke18PzVe2j8fhetRuB7FP7x0kxgEVuY/vHSTGARW4j8K16NwPQrnPyPb+X5qvOg/Gy/dJAaB1T8CK4cW2c7vP42XbhKDwOI/kxgEVg4t0j+mm8QgsHLIP+58PzVeutk/lkOLbOf77T+R7Xw/NV7KP/LSTWIQWMk/Di2yne+n5j8730+Nl27CP0SLbOf7qe0/IbByaJHt7D8bL90kBoHdP0w3iUFg5ew/oBov3SQG5T+q8dJNYhDkP0oMAiuHFtk//tR46SYx6D/jpZvEILDiPzVeukkMAtM/K4cW2c730z91kxgEVg7dP39qvHSTGOg/QmDl0CLb6T9KDAIrhxapP4PAyqFFtsM/BoGVQ4ts4z9oke18PzXiP23n+6nx0u0/dZMYBFYO4T81XrpJDALnPzvfT42XbrI/vp8aL90k1j+sHFpkO9/fP30/NV66SeA/HVpkO99P3T8xCKwcWmTjP7bz/dR46eo/GQRWDi2y4T8K16NwPQrvP3E9CtejcOE/001iEFg57D+4HoXrUbjuP/T91HjpJtE/rBxaZDvf4z8rhxbZzvfDP+XQItv5ftI/rkfhehSu3z/RItv5fmroPwwCK4cW2e4/GQRWDi2y7T81XrpJDALLP28Sg8DKod0/46WbxCCw7j+PwvUoXI/SP76fGi/dJOY/y6FFtvP9xD/ufD81XrrhP2q8dJMYBO4/Di2yne+n1j+4HoXrUbjeP4ts5/up8dI/Gy/dJAaBxT8/NV66SQzmP2Q730+Nl+o/QmDl0CLb5T8ZBFYOLbLVP/YoXI/C9dA/+FPjpZvE0D+amZmZmZnhP6JFtvP91Ow/g8DKoUW24z9YObTIdr6fP4cW2c73U+8/arx0kxgE3j8EVg4tsp3fPxfZzvdT4+E/46WbxCCw5j9zaJHtfD/FP42XbhKDwMo/JzEIrBxa7D++nxov3STuP7bz/dR46eI/oBov3SQG6T9SuB6F61HgP1g5tMh2vt8/zczMzMzM4D/n+6nx0k3CP4PAyqFFtu8/PQrXo3A96j8GgZVDi2zXP7bz/dR46eY/yXa+nxov5T9KDAIrhxa5Px+F61G4HtU/PQrXo3A94j/Jdr6fGi+9PzvfT42XbuI/iUFg5dAi7z+yne+nxkvXP/yp8dJNYpA/qMZLN4lB4D/FILByaJHhP42XbhKDwNI/KVyPwvUo5D+WQ4ts5/vRP99PjZduEu8/EFg5tMh26j+PwvUoXI/uP2q8dJMYBOY/mpmZmZmZqT9kO99PjZfWP1YOLbKd7+c/EFg5tMh21j9U46WbxCDYP7ByaJHtfN8/+FPjpZvE7D/dJAaBlUPLP3npJjEIrOw/TmIQWDm06D8QWDm0yHbeP/yp8dJNYlA/BFYOLbKd5z+yne+nxkvnPyGwcmiR7eg/UrgehetRuD9aZDvfT43fPzMzMzMzM9M/N4lBYOXQ7j9g5dAi2/m+PxfZzvdT490/y6FFtvP93D9iEFg5tMjmP5zEILByaME/001iEFg54D8pXI/C9SjgPw4tsp3vp+o/FK5H4XoU3j9g5dAi2/nOP+xRuB6F68E/mG4Sg8DKwT/0/dR46SbZP05iEFg5tNA/XrpJDAIr3z/NzMzMzMzoP30/NV66Sew/EFg5tMh2vj+iRbbz/dTIP1g5tMh2vtc/2/l+arx04z+HFtnO91PjP0jhehSuR+U/WDm0yHa+vz8730+Nl27aPzm0yHa+n+I/7FG4HoXr7T956SYxCKzoP9ejcD0K1+c/ukkMAiuHtj/LoUW28/3gP2q8dJMYBMY/Di2yne+n4j+wcmiR7XzXP2iR7Xw/Nb4/NV66SQwC6z+0yHa+nxrXP3sUrkfheuw/CKwcWmQ75z/jpZvEILDaP4ts5/up8aI/PzVeukkM2j/ZzvdT46XnP42XbhKDwNo/VOOlm8Qg6D/Jdr6fGi/tP/T91HjpJuk/wcqhRbbzzT+4HoXrUbiuP8P1KFyPwt0/N4lBYOXQwj8Sg8DKoUXiPxsv3SQGgbU/16NwPQrXwz/ZzvdT46XbPzeJQWDl0OI/nMQgsHJo0T9eukkMAivHP3E9CtejcOk/j8L1KFyP2j8pXI/C9SjUP1TjpZvEIOw/AAAAAAAAwD8fhetRuB7pP05iEFg5tOQ/9P3UeOkm4T9vEoPAyqHpP4ts5/up8eI/2c73U+Ol7z/ByqFFtvPdP1YOLbKd79c/F9nO91Pj1T8hsHJoke3MP/7UeOkmMdA/2c73U+Olmz+kcD0K16PkPxkEVg4tst0/Vg4tsp3vxz+R7Xw/NV7uP9NNYhBYObQ/i2zn+6nxwj+YbhKDwMrlP3WTGARWDs0/CtejcD0Ktz956SYxCKysP3sUrkfhepQ/6SYxCKwc2j+mm8QgsHLsP/LSTWIQWO0/tMh2vp8a3z8lBoGVQ4vMPzm0yHa+n4o/cT0K16NwzT8EVg4tsp3jP6AaL90kBuE/ObTIdr6f7j9I4XoUrkfZP8P1KFyPwsU/UI2XbhKD0D+PwvUoXI/CP7bz/dR46e4/uB6F61G45j9oke18PzXOP0Jg5dAi28k/ppvEILBy2D8EVg4tsp3PP3sUrkfheug/CtejcD0K3z8X2c73U+PlP2IQWDm0yO4/sp3vp8ZL7z+cxCCwcmjZPx1aZDvfT+k/+n5qvHST7D+wcmiR7Xy/P2q8dJMYBNY/H4XrUbge3T+28/3UeOnWPwIrhxbZzt8/I9v5fmq85D/P91PjpZvoP/YoXI/C9cg/cT0K16Nw3T/dJAaBlUPbP8HKoUW28+E/46WbxCCwsj/l0CLb+X7KP0jhehSuR9E/uB6F61G4jj9SuB6F61HsP5qZmZmZmZk/eekmMQis3D8xCKwcWmTbP7x0kxgEVuo/I9v5fmq87D9QjZduEoPYP+xRuB6F69k/ZmZmZmZm3j85tMh2vp/aP57vp8ZLN+E/UrgehetR6D99PzVeuknMP6wcWmQ739c/uB6F61G4vj/VeOkmMQjoP7gehetRuM4/g8DKoUW25z+BlUOLbOfTP3e+nxov3ew/uB6F61G41j+Nl24Sg8DuP65H4XoUrus/xSCwcmiR1T+wcmiR7XzrP/YoXI/C9dg/iUFg5dAiyz+cxCCwcmjlP2Dl0CLb+dY/PzVeukkMwj/hehSuR+HuP4cW2c73U+c/9P3UeOkmsT8xCKwcWmTTP5zEILByaKE/2/l+arx02z+mm8QgsHLoP3E9CtejcOU/7nw/NV66yT/jpZvEILDSP5MYBFYOLdo/qvHSTWIQ2D+iRbbz/dTYPwrXo3A9Ctc/46WbxCCwwj9g5dAi2/nmP3Noke18P+U/2c73U+Ol4z+WQ4ts5/vlPyGwcmiR7dw/001iEFg55D/RItv5fmrgP9NNYhBYOdw/pHA9Ctej0D/sUbgehevpPylcj8L1KKw/yXa+nxov1T8GgZVDi2zfP4lBYOXQIuM/MQisHFpk6z+0yHa+nxrPP28Sg8DKocU/2/l+arx0wz+amZmZmZntP/Cnxks3ieE/LbKd76fG7z/8qfHSTWLAP5huEoPAytE/yXa+nxovrT/6fmq8dJPIP3sUrkfheoQ/vp8aL90k4j/NzMzMzMzkP65H4XoUrsc/ZDvfT42X3j+8dJMYBFbOPxSuR+F6FOY/pHA9CtejwD83iUFg5dDqP/LSTWIQWOk/0SLb+X5q5D8GgZVDi2zHPz81XrpJDO4/f2q8dJMY1D+gGi/dJAbRP0w3iUFg5dA/YOXQItv53j8730+Nl26SP1yPwvUoXOs/d76fGi/dxD8nMQisHFrEP7gehetRuOo/5dAi2/l+7j/+1HjpJjHkPzMzMzMzM+c/5/up8dJN5j/b+X5qvHTnPxkEVg4tsp0/HVpkO99P5T99PzVeuknkP2IQWDm0yOo/JQaBlUOL1D99PzVeuknUP+f7qfHSTe4/N4lBYOXQ5j9mZmZmZmbuP9V46SYxCOw/gZVDi2zn6z/fT42XbhLTP0a28/3UeMk/O99PjZdugj9CYOXQItvZP+F6FK5H4do/gZVDi2zn7z9cj8L1KFzXP4lBYOXQIts/tMh2vp8a4z+R7Xw/NV7qP0a28/3UeOk/CKwcWmQ71z8lBoGVQ4voPyPb+X5qvNw/eekmMQis5D97FK5H4XrgP7Kd76fGS+M/ZDvfT42X4j9KDAIrhxblP3sUrkfheqQ/+FPjpZvE2D8IrBxaZDvPPxKDwMqhReo/L90kBoGV5z/ufD81XrrpP7pJDAIrh4Y/pHA9Ctej7D/D9Shcj8LtP5zEILByaOk/WmQ730+Nlz+LbOf7qfGyP0SLbOf7qeU/3SQGgZVD6z8K16NwPQrjPzm0yHa+n+Y/JzEIrBxa3D/Xo3A9CtfvP1pkO99PjeM/i2zn+6nx5j/Jdr6fGi/dP2Dl0CLb+eI/6SYxCKwc5j/0/dR46SblP/YoXI/C9eQ/+FPjpZvEwD8nMQisHFrgP+xRuB6F67E/N4lBYOXQ0j8K16NwPQrrP6rx0k1iEOA/ppvEILBy4D8IrBxaZDvjP/LSTWIQWLk/EFg5tMh24j+6SQwCK4eWP8HKoUW2870/ObTIdr6f0j8730+Nl26iP7Kd76fGS98/LbKd76fGyz9/arx0kxjsP0w3iUFg5cA/WDm0yHa+4z/FILByaJHlPw4tsp3vp+4/BoGVQ4ts6z8AAAAAAADQP90kBoGVQ+8/sHJoke185z/LoUW28/3oP4lBYOXQIus/ukkMAiuH5j9/arx0kxjkP9ejcD0K1+s/w/UoXI/C5T8fhetRuB7lPzMzMzMzM7M/iUFg5dAiqz8CK4cW2c7XPwisHFpkO+8/4XoUrkfh4j9OYhBYObTsP9Ei2/l+atw/rBxaZDvf7z8nMQisHFroP7ByaJHtfOM/MzMzMzMzwz+R7Xw/NV66PxSuR+F6FNY/vHSTGARW1j+yne+nxkvrP4GVQ4ts5+M/H4XrUbge7T+amZmZmZnRP5zEILByaJE/4XoUrkfh0j8Sg8DKoUXGPz0K16NwPeY/2/l+arx07z9eukkMAivnP4ts5/up8eo/9ihcj8L16D+R7Xw/NV7mP3WTGARWDtU/dZMYBFYO7T/fT42XbhLnPxsv3SQGgek/nMQgsHJosT+sHFpkO9/PP/p+arx0k6g/46WbxCCw6j/wp8ZLN4nRP/yp8dJNYug/vp8aL90k6j9cj8L1KFznP0w3iUFg5aA/O99PjZdu0j/pJjEIrBy6P65H4XoUruM/Gy/dJAaBpT9mZmZmZmbiPxKDwMqhRe4/qMZLN4lB6D8rhxbZzvfnPz81XrpJDOI/bef7qfHS1T8Sg8DKoUXmP1CNl24Sg+g/UrgehetRyD8CK4cW2c7HPz0K16NwPdI/g8DKoUW2sz+q8dJNYhC4P/7UeOkmMcg/XI/C9Shc7z/LoUW28/2kP83MzMzMzOw/3SQGgZVD4z8CK4cW2c7rP/p+arx0k+A/TmIQWDm02D8hsHJoke3gP+XQItv5fuI/Vg4tsp3v3z/8qfHSTWJgP65H4XoUru8/8KfGSzeJ7T8zMzMzMzPbP4ts5/up8e4/SgwCK4cW4T/D9Shcj8LhP8dLN4lBYMU/z/dT46Wb5D8fhetRuB7hP166SQwCK+8/8KfGSzeJ5T8v3SQGgZXDP6jGSzeJQew/QmDl0CLbuT8UrkfhehTiP7pJDAIrh+4/z/dT46Wb4D/+1HjpJjHsP6jGSzeJQdg/HVpkO99P7T9xPQrXo3C9P05iEFg5tOA/RIts5/upwT/hehSuR+HKPwwCK4cW2eI/5dAi2/l+6j8/NV66SQzqP/YoXI/C9eA/RIts5/upsT/HSzeJQWDVP4GVQ4ts59s/uB6F61G4nj/LoUW28/3sP8dLN4lBYOE/z/dT46Wb7D/VeOkmMQjkP6wcWmQ73+s/LbKd76fG5z89CtejcD3aPzMzMzMzM+8/MQisHFpk7z+PwvUoXI/mPx1aZDvfT9U/UI2XbhKD7D+e76fGSzflPxsv3SQGge0/2c73U+Ol0z/4U+Olm8TgPxfZzvdT48U/ObTIdr6f6j+e76fGSzftP4/C9Shcj+o/arx0kxgEpj8bL90kBoGVP+58PzVeutE/K4cW2c737z+R7Xw/NV7iP1g5tMh2vus/mpmZmZmZ2T+yne+nxku3P99PjZduEus/YOXQItv56j+gGi/dJAbtPwAAAAAAANg/KVyPwvUo3D/LoUW28/3UP9NNYhBYOdQ/LbKd76fG2z8rhxbZzvezP0w3iUFg5eA/tMh2vp8a5z9SuB6F61HYPwAAAAAAAOw/F9nO91Pj7T+YbhKDwMrtP3E9CtejcO0/QmDl0CLb4T9mZmZmZmbqP+F6FK5H4eo/d76fGi/d6D9t5/up8dLdP1pkO99Pjec/8KfGSzeJwT+mm8QgsHLQP2IQWDm0yN4/SgwCK4cW0T8rhxbZzvfjPwaBlUOLbO8/exSuR+F61D9MN4lBYOWwP/yp8dJNYtg/qvHSTWIQ6D8ZBFYOLbLpP1g5tMh2vq8/x0s3iUFg7T+TGARWDi3uPx1aZDvfT80/pHA9CtejsD/8qfHSTWLkP7pJDAIrh+o/YOXQItv57j/n+6nx0k3aP39qvHSTGOA/6SYxCKwcqj+cxCCwcmjtP9V46SYxCMw/ukkMAiuH4j+amZmZmZnpP8UgsHJokc0/ke18PzVe0j+gGi/dJAbZP+58PzVeuuU/EFg5tMh2zj/P91PjpZvEPyGwcmiR7bw/+n5qvHST2D+mm8QgsHLkP5ZDi2zn++k/1XjpJjEI4D8j2/l+ary0P3sUrkfhenQ/8tJNYhBY0T99PzVeuknoPy/dJAaBles/2c73U+Olqz8=\",\"dtype\":\"float64\",\"shape\":[1000]},\"__dummy_cat\":[\" \",\" \",\" \",\" \",\" \",\" \",\" \",\" \",\" \",\" \",\" \",\" \",\" \",\" \",\" \",\" \",\" \",\" \",\" \",\" \",\" \",\" \",\" \",\" \",\" \",\" \",\" \",\" \",\" \",\" \",\" \",\" \",\" \",\" \",\" \",\" \",\" \",\" \",\" \",\" \",\" \",\" \",\" \",\" \",\" \",\" \",\" \",\" \",\" \",\" \",\" \",\" \",\" \",\" \",\" \",\" \",\" \",\" \",\" \",\" \",\" \",\" \",\" \",\" \",\" \",\" \",\" \",\" \",\" \",\" \",\" \",\" \",\" \",\" \",\" \",\" \",\" \",\" \",\" \",\" \",\" \",\" \",\" \",\" \",\" \",\" \",\" \",\" \",\" \",\" \",\" \",\" \",\" \",\" \",\" \",\" \",\" \",\" \",\" \",\" \",\" \",\" \",\" \",\" \",\" \",\" \",\" \",\" \",\" \",\" \",\" \",\" \",\" \",\" \",\" \",\" \",\" \",\" \",\" \",\" \",\" \",\" \",\" \",\" \",\" \",\" \",\" \",\" \",\" \",\" \",\" \",\" \",\" \",\" \",\" \",\" \",\" \",\" \",\" \",\" \",\" \",\" \",\" \",\" \",\" \",\" \",\" \",\" \",\" \",\" \",\" \",\" \",\" \",\" \",\" \",\" \",\" \",\" \",\" \",\" \",\" \",\" \",\" \",\" \",\" \",\" \",\" \",\" \",\" \",\" \",\" \",\" \",\" \",\" \",\" \",\" \",\" \",\" \",\" \",\" \",\" \",\" \",\" \",\" \",\" \",\" \",\" \",\" \",\" \",\" \",\" \",\" \",\" \",\" \",\" \",\" \",\" \",\" \",\" \",\" \",\" \",\" \",\" \",\" \",\" \",\" \",\" \",\" \",\" \",\" \",\" \",\" \",\" \",\" \",\" \",\" \",\" \",\" \",\" \",\" \",\" \",\" \",\" \",\" \",\" \",\" \",\" \",\" \",\" \",\" \",\" \",\" \",\" \",\" \",\" \",\" \",\" \",\" \",\" \",\" \",\" \",\" \",\" \",\" \",\" \",\" \",\" \",\" \",\" \",\" \",\" \",\" \",\" \",\" \",\" \",\" \",\" \",\" \",\" \",\" \",\" \",\" \",\" \",\" \",\" \",\" \",\" \",\" \",\" \",\" \",\" \",\" \",\" \",\" \",\" \",\" \",\" \",\" \",\" \",\" \",\" \",\" \",\" \",\" \",\" \",\" \",\" \",\" \",\" \",\" \",\" \",\" \",\" \",\" \",\" \",\" \",\" \",\" \",\" \",\" \",\" \",\" \",\" \",\" \",\" \",\" \",\" \",\" \",\" \",\" \",\" \",\" \",\" \",\" \",\" \",\" \",\" \",\" \",\" \",\" \",\" \",\" \",\" \",\" \",\" \",\" \",\" \",\" \",\" \",\" \",\" \",\" \",\" \",\" \",\" \",\" \",\" \",\" \",\" \",\" \",\" \",\" \",\" \",\" \",\" \",\" \",\" \",\" \",\" \",\" \",\" \",\" \",\" \",\" \",\" \",\" \",\" \",\" \",\" \",\" \",\" \",\" \",\" \",\" \",\" \",\" \",\" \",\" \",\" \",\" \",\" \",\" \",\" \",\" \",\" \",\" \",\" \",\" \",\" \",\" \",\" \",\" \",\" \",\" \",\" \",\" \",\" \",\" \",\" \",\" \",\" \",\" \",\" \",\" \",\" \",\" \",\" \",\" \",\" \",\" \",\" \",\" \",\" \",\" \",\" \",\" \",\" \",\" \",\" \",\" \",\" \",\" \",\" \",\" \",\" \",\" \",\" \",\" \",\" \",\" \",\" \",\" \",\" \",\" \",\" \",\" \",\" \",\" \",\" \",\" \",\" \",\" \",\" \",\" \",\" \",\" \",\" \",\" \",\" \",\" \",\" \",\" \",\" \",\" \",\" \",\" \",\" \",\" \",\" \",\" \",\" \",\" \",\" \",\" \",\" \",\" \",\" \",\" \",\" \",\" \",\" \",\" \",\" \",\" \",\" \",\" \",\" \",\" \",\" \",\" \",\" \",\" \",\" \",\" \",\" \",\" \",\" \",\" \",\" \",\" \",\" \",\" \",\" \",\" \",\" \",\" \",\" \",\" \",\" \",\" \",\" \",\" \",\" \",\" \",\" \",\" \",\" \",\" \",\" \",\" \",\" \",\" \",\" \",\" \",\" \",\" \",\" \",\" \",\" \",\" \",\" \",\" \",\" \",\" \",\" \",\" \",\" \",\" \",\" \",\" \",\" \",\" \",\" \",\" \",\" \",\" \",\" \",\" \",\" \",\" \",\" \",\" \",\" \",\" \",\" \",\" \",\" \",\" \",\" \",\" \",\" \",\" \",\" \",\" \",\" \",\" \",\" \",\" \",\" \",\" \",\" \",\" \",\" \",\" \",\" \",\" \",\" \",\" \",\" \",\" \",\" \",\" \",\" \",\" \",\" \",\" \",\" \",\" \",\" \",\" \",\" \",\" \",\" \",\" \",\" \",\" \",\" \",\" \",\" \",\" \",\" \",\" \",\" \",\" \",\" \",\" \",\" \",\" \",\" \",\" \",\" \",\" \",\" \",\" \",\" \",\" \",\" \",\" \",\" \",\" \",\" \",\" \",\" \",\" \",\" \",\" \",\" \",\" \",\" \",\" \",\" \",\" \",\" \",\" \",\" \",\" \",\" \",\" \",\" \",\" \",\" \",\" \",\" \",\" \",\" \",\" \",\" \",\" \",\" \",\" \",\" \",\" \",\" \",\" \",\" \",\" \",\" \",\" \",\" \",\" \",\" \",\" \",\" \",\" \",\" \",\" \",\" \",\" \",\" \",\" \",\" \",\" \",\" \",\" \",\" \",\" \",\" \",\" \",\" \",\" \",\" \",\" \",\" \",\" \",\" \",\" \",\" \",\" \",\" \",\" \",\" \",\" \",\" \",\" \",\" \",\" \",\" \",\" \",\" \",\" \",\" \",\" \",\" \",\" \",\" \",\" \",\" \",\" \",\" \",\" \",\" \",\" \",\" \",\" \",\" \",\" \",\" \",\" \",\" \",\" \",\" \",\" \",\" \",\" \",\" \",\" \",\" \",\" \",\" \",\" \",\" \",\" \",\" \",\" \",\" \",\" \",\" \",\" \",\" \",\" \",\" \",\" \",\" \",\" \",\" \",\" \",\" \",\" \",\" \",\" \",\" \",\" \",\" \",\" \",\" \",\" \",\" \",\" \",\" \",\" \",\" \",\" \",\" \",\" \",\" \",\" \",\" \",\" \",\" \",\" \",\" \",\" \",\" \",\" \",\" \",\" \",\" \",\" \",\" \",\" \",\" \",\" \",\" \",\" \",\" \",\" \",\" \",\" \",\" \",\" \",\" \",\" \",\" \",\" \",\" \",\" \",\" \",\" \",\" \",\" \",\" \",\" \",\" \",\" \",\" \",\" \",\" \",\" \",\" \",\" \",\" \",\" \",\" \",\" \",\" \",\" \",\" \",\" \",\" \",\" \",\" \",\" \",\" \",\" \",\" \",\" \",\" \",\" \",\" \",\" \",\" \",\" \",\" \",\" \",\" \",\" \",\" \",\" \",\" \",\" \",\" \",\" \",\" \",\" \",\" \",\" \",\" \",\" \",\" \",\" \",\" \",\" \",\" \",\" \",\" \",\" \",\" \",\" \",\" \",\" \",\" \",\" \",\" \",\" \",\" \",\" \",\" \",\" \",\" \",\" \",\" \",\" \",\" \",\" \",\" \",\" \",\" \",\" \",\" \",\" \",\" \",\" \",\" \",\" \",\" \",\" \",\" \",\" \",\" \",\" \",\" \",\" \",\" \",\" \",\" \",\" \",\" \",\" \",\" \",\" \",\" \",\" \",\" \",\" \",\" \",\" \",\" \",\" \",\" \",\" \",\" \",\" \",\" \",\" \",\" \",\" \",\" \",\" \",\" \",\" \",\" \",\" \",\" \",\" \",\" \",\" \",\" \",\" \",\" \",\" \",\" \",\" \",\" \",\" \",\" \",\" \",\" \",\" \",\" \",\" \",\" \",\" \",\" \",\" \",\" \",\" \",\" \",\" \",\" \",\" \",\" \",\" \",\" \",\" \",\" \",\" \",\" \",\" \",\" \",\" \",\" \",\" \",\" \",\" \",\" \",\" \",\" \",\" \",\" \",\" \",\" \",\" \",\" \",\" \",\" \",\" \",\" \",\" \",\" \",\" \",\" \",\" \",\" \",\" \",\" \",\" \",\" \",\" \",\" \",\" \",\" \",\" \",\" \",\" \",\" \",\" \",\" \",\" \",\" \",\" \",\" \",\" \",\" \",\" \",\" \",\" \",\" \",\" \",\" \",\" \",\" \",\" \",\" \",\" \",\" \",\" \",\" \",\" \",\" \",\" \"],\"__label\":[\" \",\" \",\" \",\" \",\" \",\" \",\" \",\" \",\" \",\" \",\" \",\" \",\" \",\" \",\" \",\" \",\" \",\" \",\" \",\" \",\" \",\" \",\" \",\" \",\" \",\" \",\" \",\" \",\" \",\" \",\" \",\" \",\" \",\" \",\" \",\" \",\" \",\" \",\" \",\" \",\" \",\" \",\" \",\" \",\" \",\" \",\" \",\" \",\" \",\" \",\" \",\" \",\" \",\" \",\" \",\" \",\" \",\" \",\" \",\" \",\" \",\" \",\" \",\" \",\" \",\" \",\" \",\" \",\" \",\" \",\" \",\" \",\" \",\" \",\" \",\" \",\" \",\" \",\" \",\" \",\" \",\" \",\" \",\" \",\" \",\" \",\" \",\" \",\" \",\" \",\" \",\" \",\" \",\" \",\" \",\" \",\" \",\" \",\" \",\" \",\" \",\" \",\" \",\" \",\" \",\" \",\" \",\" \",\" \",\" \",\" \",\" \",\" \",\" \",\" \",\" \",\" \",\" \",\" \",\" \",\" \",\" \",\" \",\" \",\" \",\" \",\" \",\" \",\" \",\" \",\" \",\" \",\" \",\" \",\" \",\" \",\" \",\" \",\" \",\" \",\" \",\" \",\" \",\" \",\" \",\" \",\" \",\" \",\" \",\" \",\" \",\" \",\" \",\" \",\" \",\" \",\" \",\" \",\" \",\" \",\" \",\" \",\" \",\" \",\" \",\" \",\" \",\" \",\" \",\" \",\" \",\" \",\" \",\" \",\" \",\" \",\" \",\" \",\" \",\" \",\" \",\" \",\" \",\" \",\" \",\" \",\" \",\" \",\" \",\" \",\" \",\" \",\" \",\" \",\" \",\" \",\" \",\" \",\" \",\" \",\" \",\" \",\" \",\" \",\" \",\" \",\" \",\" \",\" \",\" \",\" \",\" \",\" \",\" \",\" \",\" \",\" \",\" \",\" \",\" \",\" \",\" \",\" \",\" \",\" \",\" \",\" \",\" \",\" \",\" \",\" \",\" \",\" \",\" \",\" \",\" \",\" \",\" \",\" \",\" \",\" \",\" \",\" \",\" \",\" \",\" \",\" \",\" \",\" \",\" \",\" \",\" \",\" \",\" \",\" \",\" \",\" \",\" \",\" \",\" \",\" \",\" \",\" \",\" \",\" \",\" \",\" \",\" \",\" \",\" \",\" \",\" \",\" \",\" \",\" \",\" \",\" \",\" \",\" \",\" \",\" \",\" \",\" \",\" \",\" \",\" \",\" \",\" \",\" \",\" \",\" \",\" \",\" \",\" \",\" \",\" \",\" \",\" \",\" \",\" \",\" \",\" \",\" \",\" \",\" \",\" \",\" \",\" \",\" \",\" \",\" \",\" \",\" \",\" \",\" \",\" \",\" \",\" \",\" \",\" \",\" \",\" \",\" \",\" \",\" \",\" \",\" \",\" \",\" \",\" \",\" \",\" \",\" \",\" \",\" \",\" \",\" \",\" \",\" \",\" \",\" \",\" \",\" \",\" \",\" \",\" \",\" \",\" \",\" \",\" \",\" \",\" \",\" \",\" \",\" \",\" \",\" \",\" \",\" \",\" \",\" \",\" \",\" \",\" \",\" \",\" \",\" \",\" \",\" \",\" \",\" \",\" \",\" \",\" \",\" \",\" \",\" \",\" \",\" \",\" \",\" \",\" \",\" \",\" \",\" \",\" \",\" \",\" \",\" \",\" \",\" \",\" \",\" \",\" \",\" \",\" \",\" \",\" \",\" \",\" \",\" \",\" \",\" \",\" \",\" \",\" \",\" \",\" \",\" \",\" \",\" \",\" \",\" \",\" \",\" \",\" \",\" \",\" \",\" \",\" \",\" \",\" \",\" \",\" \",\" \",\" \",\" \",\" \",\" \",\" \",\" \",\" \",\" \",\" \",\" \",\" \",\" \",\" \",\" \",\" \",\" \",\" \",\" \",\" \",\" \",\" \",\" \",\" \",\" \",\" \",\" \",\" \",\" \",\" \",\" \",\" \",\" \",\" \",\" \",\" \",\" \",\" \",\" \",\" \",\" \",\" \",\" \",\" \",\" \",\" \",\" \",\" \",\" \",\" \",\" \",\" \",\" \",\" \",\" \",\" \",\" \",\" \",\" \",\" \",\" \",\" \",\" \",\" \",\" \",\" \",\" \",\" \",\" \",\" \",\" \",\" \",\" \",\" \",\" \",\" \",\" \",\" \",\" \",\" \",\" \",\" \",\" \",\" \",\" \",\" \",\" \",\" \",\" \",\" \",\" \",\" \",\" \",\" \",\" \",\" \",\" \",\" \",\" \",\" \",\" \",\" \",\" \",\" \",\" \",\" \",\" \",\" \",\" \",\" \",\" \",\" \",\" \",\" \",\" \",\" \",\" \",\" \",\" \",\" \",\" \",\" \",\" \",\" \",\" \",\" \",\" \",\" \",\" \",\" \",\" \",\" \",\" \",\" \",\" \",\" \",\" \",\" \",\" \",\" \",\" \",\" \",\" \",\" \",\" \",\" \",\" \",\" \",\" \",\" \",\" \",\" \",\" \",\" \",\" \",\" \",\" \",\" \",\" \",\" \",\" \",\" \",\" \",\" \",\" \",\" \",\" \",\" \",\" \",\" \",\" \",\" \",\" \",\" \",\" \",\" \",\" \",\" \",\" \",\" \",\" \",\" \",\" \",\" \",\" \",\" \",\" \",\" \",\" \",\" \",\" \",\" \",\" \",\" \",\" \",\" \",\" \",\" \",\" \",\" \",\" \",\" \",\" \",\" \",\" \",\" \",\" \",\" \",\" \",\" \",\" \",\" \",\" \",\" \",\" \",\" \",\" \",\" \",\" \",\" \",\" \",\" \",\" \",\" \",\" \",\" \",\" \",\" \",\" \",\" \",\" \",\" \",\" \",\" \",\" \",\" \",\" \",\" \",\" \",\" \",\" \",\" \",\" \",\" \",\" \",\" \",\" \",\" \",\" \",\" \",\" \",\" \",\" \",\" \",\" \",\" \",\" \",\" \",\" \",\" \",\" \",\" \",\" \",\" \",\" \",\" \",\" \",\" \",\" \",\" \",\" \",\" \",\" \",\" \",\" \",\" \",\" \",\" \",\" \",\" \",\" \",\" \",\" \",\" \",\" \",\" \",\" \",\" \",\" \",\" \",\" \",\" \",\" \",\" \",\" \",\" \",\" \",\" \",\" \",\" \",\" \",\" \",\" \",\" \",\" \",\" \",\" \",\" \",\" \",\" \",\" \",\" \",\" \",\" \",\" \",\" \",\" \",\" \",\" \",\" \",\" \",\" \",\" \",\" \",\" \",\" \",\" \",\" \",\" \",\" \",\" \",\" \",\" \",\" \",\" \",\" \",\" \",\" \",\" \",\" \",\" \",\" \",\" \",\" \",\" \",\" \",\" \",\" \",\" \",\" \",\" \",\" \",\" \",\" \",\" \",\" \",\" \",\" \",\" \",\" \",\" \",\" \",\" \",\" \",\" \",\" \",\" \",\" \",\" \",\" \",\" \",\" \",\" \",\" \",\" \",\" \",\" \",\" \",\" \",\" \",\" \",\" \",\" \",\" \",\" \",\" \",\" \",\" \",\" \",\" \",\" \",\" \",\" \",\" \",\" \",\" \",\" \",\" \",\" \",\" \",\" \",\" \",\" \",\" \",\" \",\" \",\" \",\" \",\" \",\" \",\" \",\" \",\" \",\" \",\" \",\" \",\" \",\" \",\" \",\" \",\" \",\" \",\" \",\" \",\" \",\" \",\" \",\" \",\" \",\" \",\" \",\" \",\" \",\" \",\" \",\" \",\" \",\" \",\" \",\" \",\" \",\" \",\" \",\" \",\" \",\" \",\" \",\" \",\" \",\" \",\" \",\" \",\" \",\" \",\" \",\" \",\" \",\" \",\" \",\" \",\" \",\" \",\" \",\" \",\" \",\" \",\" \",\" \",\" \",\" \",\" \",\" \",\" \",\" \",\" \",\" \",\" \",\" \",\" \",\" \",\" \",\" \",\" \",\" \",\" \",\" \",\" \",\" \",\" \",\" \",\" \",\" \",\" \",\" \",\" \",\" \",\" \",\" \",\" \",\" \",\" \",\" \",\" \",\" \",\" \",\" \",\" \",\" \",\" \",\" \",\" \",\" \",\" \",\" \",\" \",\" \",\" \",\" \",\" \",\" \",\" \",\" \",\" \",\" \",\" \",\" \",\" \",\" \",\" \",\" \",\" \",\" \",\" \",\" \",\" \",\" \",\" \",\" \",\" \",\" \",\" \",\" \",\" \",\" \",\" \",\" \",\" \",\" \",\" \",\" \",\" \",\" \",\" \",\" \",\" \",\" \",\" \",\" \",\" \",\" \",\" \",\" \",\" \",\" \",\" \",\" \",\" \",\" \",\" \",\" \",\" \",\" \",\" \",\" \",\" \",\" \"],\"index\":[0,1,2,3,4,5,6,7,8,9,10,11,12,13,14,15,16,17,18,19,20,21,22,23,24,25,26,27,28,29,30,31,32,33,34,35,36,37,38,39,40,41,42,43,44,45,46,47,48,49,50,51,52,53,54,55,56,57,58,59,60,61,62,63,64,65,66,67,68,69,70,71,72,73,74,75,76,77,78,79,80,81,82,83,84,85,86,87,88,89,90,91,92,93,94,95,96,97,98,99,100,101,102,103,104,105,106,107,108,109,110,111,112,113,114,115,116,117,118,119,120,121,122,123,124,125,126,127,128,129,130,131,132,133,134,135,136,137,138,139,140,141,142,143,144,145,146,147,148,149,150,151,152,153,154,155,156,157,158,159,160,161,162,163,164,165,166,167,168,169,170,171,172,173,174,175,176,177,178,179,180,181,182,183,184,185,186,187,188,189,190,191,192,193,194,195,196,197,198,199,200,201,202,203,204,205,206,207,208,209,210,211,212,213,214,215,216,217,218,219,220,221,222,223,224,225,226,227,228,229,230,231,232,233,234,235,236,237,238,239,240,241,242,243,244,245,246,247,248,249,250,251,252,253,254,255,256,257,258,259,260,261,262,263,264,265,266,267,268,269,270,271,272,273,274,275,276,277,278,279,280,281,282,283,284,285,286,287,288,289,290,291,292,293,294,295,296,297,298,299,300,301,302,303,304,305,306,307,308,309,310,311,312,313,314,315,316,317,318,319,320,321,322,323,324,325,326,327,328,329,330,331,332,333,334,335,336,337,338,339,340,341,342,343,344,345,346,347,348,349,350,351,352,353,354,355,356,357,358,359,360,361,362,363,364,365,366,367,368,369,370,371,372,373,374,375,376,377,378,379,380,381,382,383,384,385,386,387,388,389,390,391,392,393,394,395,396,397,398,399,400,401,402,403,404,405,406,407,408,409,410,411,412,413,414,415,416,417,418,419,420,421,422,423,424,425,426,427,428,429,430,431,432,433,434,435,436,437,438,439,440,441,442,443,444,445,446,447,448,449,450,451,452,453,454,455,456,457,458,459,460,461,462,463,464,465,466,467,468,469,470,471,472,473,474,475,476,477,478,479,480,481,482,483,484,485,486,487,488,489,490,491,492,493,494,495,496,497,498,499,500,501,502,503,504,505,506,507,508,509,510,511,512,513,514,515,516,517,518,519,520,521,522,523,524,525,526,527,528,529,530,531,532,533,534,535,536,537,538,539,540,541,542,543,544,545,546,547,548,549,550,551,552,553,554,555,556,557,558,559,560,561,562,563,564,565,566,567,568,569,570,571,572,573,574,575,576,577,578,579,580,581,582,583,584,585,586,587,588,589,590,591,592,593,594,595,596,597,598,599,600,601,602,603,604,605,606,607,608,609,610,611,612,613,614,615,616,617,618,619,620,621,622,623,624,625,626,627,628,629,630,631,632,633,634,635,636,637,638,639,640,641,642,643,644,645,646,647,648,649,650,651,652,653,654,655,656,657,658,659,660,661,662,663,664,665,666,667,668,669,670,671,672,673,674,675,676,677,678,679,680,681,682,683,684,685,686,687,688,689,690,691,692,693,694,695,696,697,698,699,700,701,702,703,704,705,706,707,708,709,710,711,712,713,714,715,716,717,718,719,720,721,722,723,724,725,726,727,728,729,730,731,732,733,734,735,736,737,738,739,740,741,742,743,744,745,746,747,748,749,750,751,752,753,754,755,756,757,758,759,760,761,762,763,764,765,766,767,768,769,770,771,772,773,774,775,776,777,778,779,780,781,782,783,784,785,786,787,788,789,790,791,792,793,794,795,796,797,798,799,800,801,802,803,804,805,806,807,808,809,810,811,812,813,814,815,816,817,818,819,820,821,822,823,824,825,826,827,828,829,830,831,832,833,834,835,836,837,838,839,840,841,842,843,844,845,846,847,848,849,850,851,852,853,854,855,856,857,858,859,860,861,862,863,864,865,866,867,868,869,870,871,872,873,874,875,876,877,878,879,880,881,882,883,884,885,886,887,888,889,890,891,892,893,894,895,896,897,898,899,900,901,902,903,904,905,906,907,908,909,910,911,912,913,914,915,916,917,918,919,920,921,922,923,924,925,926,927,928,929,930,931,932,933,934,935,936,937,938,939,940,941,942,943,944,945,946,947,948,949,950,951,952,953,954,955,956,957,958,959,960,961,962,963,964,965,966,967,968,969,970,971,972,973,974,975,976,977,978,979,980,981,982,983,984,985,986,987,988,989,990,991,992,993,994,995,996,997,998,999],\"x\":{\"__ndarray__\":\"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\",\"dtype\":\"float64\",\"shape\":[1000]}},\"selected\":{\"id\":\"1061\",\"type\":\"Selection\"},\"selection_policy\":{\"id\":\"1060\",\"type\":\"UnionRenderers\"}},\"id\":\"1034\",\"type\":\"ColumnDataSource\"},{\"attributes\":{},\"id\":\"1012\",\"type\":\"BasicTicker\"},{\"attributes\":{\"callback\":null},\"id\":\"1005\",\"type\":\"DataRange1d\"},{\"attributes\":{\"bottom_units\":\"screen\",\"fill_alpha\":{\"value\":0.5},\"fill_color\":{\"value\":\"lightgrey\"},\"left_units\":\"screen\",\"level\":\"overlay\",\"line_alpha\":{\"value\":1.0},\"line_color\":{\"value\":\"black\"},\"line_dash\":[4,4],\"line_width\":{\"value\":2},\"render_mode\":\"css\",\"right_units\":\"screen\",\"top_units\":\"screen\"},\"id\":\"1046\",\"type\":\"BoxAnnotation\"},{\"attributes\":{\"fill_color\":{\"value\":null},\"line_color\":{\"value\":\"#4e79a7\"},\"x\":{\"field\":\"x\"},\"y\":{\"field\":\"__ECDF\"}},\"id\":\"1036\",\"type\":\"Circle\"},{\"attributes\":{\"data_source\":{\"id\":\"1034\",\"type\":\"ColumnDataSource\"},\"glyph\":{\"id\":\"1036\",\"type\":\"Circle\"},\"hover_glyph\":null,\"muted_glyph\":null,\"nonselection_glyph\":{\"id\":\"1037\",\"type\":\"Circle\"},\"selection_glyph\":null,\"view\":{\"id\":\"1039\",\"type\":\"CDSView\"}},\"id\":\"1038\",\"type\":\"GlyphRenderer\"},{\"attributes\":{\"overlay\":{\"id\":\"1046\",\"type\":\"BoxAnnotation\"}},\"id\":\"1023\",\"type\":\"BoxZoomTool\"},{\"attributes\":{\"items\":[{\"id\":\"1048\",\"type\":\"LegendItem\"}],\"visible\":false},\"id\":\"1047\",\"type\":\"Legend\"},{\"attributes\":{\"fill_alpha\":{\"value\":0.1},\"fill_color\":{\"value\":\"#1f77b4\"},\"line_alpha\":{\"value\":0.1},\"line_color\":{\"value\":\"#1f77b4\"},\"x\":{\"field\":\"x\"},\"y\":{\"field\":\"__ECDF\"}},\"id\":\"1037\",\"type\":\"Circle\"},{\"attributes\":{},\"id\":\"1017\",\"type\":\"BasicTicker\"},{\"attributes\":{},\"id\":\"1007\",\"type\":\"LinearScale\"},{\"attributes\":{\"source\":{\"id\":\"1034\",\"type\":\"ColumnDataSource\"}},\"id\":\"1039\",\"type\":\"CDSView\"},{\"attributes\":{\"source\":{\"id\":\"1049\",\"type\":\"ColumnDataSource\"}},\"id\":\"1053\",\"type\":\"CDSView\"},{\"attributes\":{\"text\":\"\"},\"id\":\"1040\",\"type\":\"Title\"},{\"attributes\":{\"dimension\":1,\"ticker\":{\"id\":\"1017\",\"type\":\"BasicTicker\"}},\"id\":\"1020\",\"type\":\"Grid\"},{\"attributes\":{\"ticker\":{\"id\":\"1012\",\"type\":\"BasicTicker\"}},\"id\":\"1015\",\"type\":\"Grid\"},{\"attributes\":{},\"id\":\"1060\",\"type\":\"UnionRenderers\"},{\"attributes\":{},\"id\":\"1044\",\"type\":\"BasicTickFormatter\"},{\"attributes\":{\"line_color\":\"orange\",\"line_width\":2,\"x\":{\"field\":\"x\"},\"y\":{\"field\":\"y\"}},\"id\":\"1050\",\"type\":\"Line\"},{\"attributes\":{\"axis_label\":\"x\",\"formatter\":{\"id\":\"1042\",\"type\":\"BasicTickFormatter\"},\"ticker\":{\"id\":\"1012\",\"type\":\"BasicTicker\"}},\"id\":\"1011\",\"type\":\"LinearAxis\"},{\"attributes\":{\"label\":{\"value\":\" \"},\"renderers\":[{\"id\":\"1038\",\"type\":\"GlyphRenderer\"}]},\"id\":\"1048\",\"type\":\"LegendItem\"},{\"attributes\":{},\"id\":\"1024\",\"type\":\"SaveTool\"},{\"attributes\":{},\"id\":\"1062\",\"type\":\"UnionRenderers\"},{\"attributes\":{},\"id\":\"1025\",\"type\":\"ResetTool\"},{\"attributes\":{\"callback\":null},\"id\":\"1003\",\"type\":\"DataRange1d\"},{\"attributes\":{},\"id\":\"1042\",\"type\":\"BasicTickFormatter\"},{\"attributes\":{\"callback\":null,\"data\":{\"x\":[0,1],\"y\":[0,1]},\"selected\":{\"id\":\"1063\",\"type\":\"Selection\"},\"selection_policy\":{\"id\":\"1062\",\"type\":\"UnionRenderers\"}},\"id\":\"1049\",\"type\":\"ColumnDataSource\"},{\"attributes\":{},\"id\":\"1009\",\"type\":\"LinearScale\"},{\"attributes\":{},\"id\":\"1026\",\"type\":\"HelpTool\"},{\"attributes\":{\"line_alpha\":0.1,\"line_color\":\"#1f77b4\",\"line_width\":2,\"x\":{\"field\":\"x\"},\"y\":{\"field\":\"y\"}},\"id\":\"1051\",\"type\":\"Line\"}],\"root_ids\":[\"1002\"]},\"title\":\"Bokeh Application\",\"version\":\"1.2.0\"}};\n",
       "  var render_items = [{\"docid\":\"97b6c384-04e2-4ba4-bda3-9a9849edee34\",\"roots\":{\"1002\":\"f6e7d024-9126-4c4d-a532-846991d96d7b\"}}];\n",
       "  root.Bokeh.embed.embed_items_notebook(docs_json, render_items);\n",
       "\n",
       "  }\n",
       "  if (root.Bokeh !== undefined) {\n",
       "    embed_document(root);\n",
       "  } else {\n",
       "    var attempts = 0;\n",
       "    var timer = setInterval(function(root) {\n",
       "      if (root.Bokeh !== undefined) {\n",
       "        embed_document(root);\n",
       "        clearInterval(timer);\n",
       "      }\n",
       "      attempts++;\n",
       "      if (attempts > 100) {\n",
       "        console.log(\"Bokeh: ERROR: Unable to run BokehJS code because BokehJS library is missing\");\n",
       "        clearInterval(timer);\n",
       "      }\n",
       "    }, 10, root)\n",
       "  }\n",
       "})(window);"
      ],
      "application/vnd.bokehjs_exec.v0+json": ""
     },
     "metadata": {
      "application/vnd.bokehjs_exec.v0+json": {
       "id": "1002"
      }
     },
     "output_type": "display_data"
    }
   ],
   "source": [
    "# Generate random numbers\n",
    "x = np.random.uniform(low=0, high=1, size=1000)\n",
    "\n",
    "# Plot the ECDF of randomly generated numbers\n",
    "p = bokeh_catplot.ecdf(\n",
    "    data=pd.DataFrame({'x': x}),\n",
    "    cats=None,\n",
    "    val='x',\n",
    "    marker_kwargs={\"fill_color\": None},\n",
    ")\n",
    "\n",
    "p.line(\n",
    "    x=[0, 1],\n",
    "    y=[0, 1],\n",
    "    line_width=2,\n",
    "    line_color='orange',\n",
    ")\n",
    "\n",
    "bokeh.io.show(p)"
   ]
  },
  {
   "cell_type": "markdown",
   "metadata": {},
   "source": [
    "So, it looks like our random number generator is doing a good job.\n",
    "\n",
    "Generating random numbers on the uniform interval is one of the most commonly used RNG techniques. In fact, many of the other contexts of RNG are derived from draws from the uniform distribution. For example, you can simulate flipping a biased (unfair) coin."
   ]
  },
  {
   "cell_type": "code",
   "execution_count": 4,
   "metadata": {},
   "outputs": [
    {
     "name": "stdout",
     "output_type": "stream",
     "text": [
      "[ True  True  True  True False  True False  True  True  True  True  True\n",
      "  True  True False  True  True  True  True  True]\n",
      "\n",
      "There were 17  heads.\n"
     ]
    }
   ],
   "source": [
    "# Generate 20 random numbers on uniform interval\n",
    "x = np.random.uniform(low=0, high=1, size=20)\n",
    "\n",
    "# Make the coin flips (< 0.7 means we have a 70% chance of heads)\n",
    "heads = x < 0.7\n",
    "\n",
    "# Show which were heads, and count the number of heads\n",
    "print(heads)\n",
    "print('\\nThere were', np.sum(heads), ' heads.')"
   ]
  },
  {
   "cell_type": "markdown",
   "metadata": {},
   "source": [
    "## Seeding random number generators\n",
    "\n",
    "Now, just to demonstrate that random number generation is deterministic, we will explicitly **seed** the random number generator (which is usually seeded with a number representing the date/time to avoid repeats) to show that we get the same random numbers."
   ]
  },
  {
   "cell_type": "code",
   "execution_count": 5,
   "metadata": {},
   "outputs": [
    {
     "data": {
      "text/plain": [
       "array([0.37454012, 0.95071431, 0.73199394, 0.59865848, 0.15601864,\n",
       "       0.15599452, 0.05808361, 0.86617615, 0.60111501, 0.70807258])"
      ]
     },
     "execution_count": 5,
     "metadata": {},
     "output_type": "execute_result"
    }
   ],
   "source": [
    "# Seed the RNG\n",
    "np.random.seed(42)\n",
    "\n",
    "# Generate random numbers\n",
    "np.random.uniform(size=10)"
   ]
  },
  {
   "cell_type": "code",
   "execution_count": 6,
   "metadata": {},
   "outputs": [
    {
     "data": {
      "text/plain": [
       "array([0.37454012, 0.95071431, 0.73199394, 0.59865848, 0.15601864,\n",
       "       0.15599452, 0.05808361, 0.86617615, 0.60111501, 0.70807258])"
      ]
     },
     "execution_count": 6,
     "metadata": {},
     "output_type": "execute_result"
    }
   ],
   "source": [
    "# Re-seed the RNG\n",
    "np.random.seed(42)\n",
    "\n",
    "# Generate random numbers\n",
    "np.random.uniform(size=10)"
   ]
  },
  {
   "cell_type": "markdown",
   "metadata": {},
   "source": [
    "The random number sequence is exactly the same.  If we choose a different seed, we get totally different random numbers."
   ]
  },
  {
   "cell_type": "code",
   "execution_count": 7,
   "metadata": {},
   "outputs": [
    {
     "data": {
      "text/plain": [
       "array([0.11505457, 0.60906654, 0.13339096, 0.24058962, 0.32713906,\n",
       "       0.85913749, 0.66609021, 0.54116221, 0.02901382, 0.7337483 ])"
      ]
     },
     "execution_count": 7,
     "metadata": {},
     "output_type": "execute_result"
    }
   ],
   "source": [
    "# Seed with a number that is close to the answer to everything\n",
    "np.random.seed(43)\n",
    "np.random.uniform(size=10)"
   ]
  },
  {
   "cell_type": "markdown",
   "metadata": {},
   "source": [
    "If you are writing tests, it is often useful to seed the random number generator to get reproducible results."
   ]
  },
  {
   "cell_type": "markdown",
   "metadata": {},
   "source": [
    "## Drawing random numbers out of other distributions\n",
    "\n",
    "We can also draw random numbers from other probability distributions. For example, say we wanted to draw random samples from a Normal distribution with mean μ and standard deviation σ. (We already saw this example when we were looking at histograms, but we repeat it here.)"
   ]
  },
  {
   "cell_type": "code",
   "execution_count": 8,
   "metadata": {},
   "outputs": [
    {
     "data": {
      "text/html": [
       "\n",
       "\n",
       "\n",
       "\n",
       "\n",
       "\n",
       "  <div class=\"bk-root\" id=\"b4d06cbd-5d68-4052-a671-f6dceffdf0b3\" data-root-id=\"1132\"></div>\n"
      ]
     },
     "metadata": {},
     "output_type": "display_data"
    },
    {
     "data": {
      "application/javascript": [
       "(function(root) {\n",
       "  function embed_document(root) {\n",
       "    \n",
       "  var docs_json = {\"55693a43-e676-46ac-a52d-872bd4cadce9\":{\"roots\":{\"references\":[{\"attributes\":{\"below\":[{\"id\":\"1140\",\"type\":\"LinearAxis\"}],\"center\":[{\"id\":\"1144\",\"type\":\"Grid\"},{\"id\":\"1149\",\"type\":\"Grid\"},{\"id\":\"1175\",\"type\":\"Legend\"}],\"left\":[{\"id\":\"1145\",\"type\":\"LinearAxis\"}],\"plot_height\":300,\"plot_width\":400,\"renderers\":[{\"id\":\"1166\",\"type\":\"GlyphRenderer\"},{\"id\":\"1180\",\"type\":\"GlyphRenderer\"}],\"title\":{\"id\":\"1168\",\"type\":\"Title\"},\"toolbar\":{\"id\":\"1156\",\"type\":\"Toolbar\"},\"x_range\":{\"id\":\"1133\",\"type\":\"DataRange1d\"},\"x_scale\":{\"id\":\"1136\",\"type\":\"LinearScale\"},\"y_range\":{\"id\":\"1131\",\"type\":\"DataRange1d\"},\"y_scale\":{\"id\":\"1138\",\"type\":\"LinearScale\"}},\"id\":\"1132\",\"subtype\":\"Figure\",\"type\":\"Plot\"},{\"attributes\":{},\"id\":\"1151\",\"type\":\"WheelZoomTool\"},{\"attributes\":{},\"id\":\"1136\",\"type\":\"LinearScale\"},{\"attributes\":{\"text\":\"\"},\"id\":\"1168\",\"type\":\"Title\"},{\"attributes\":{},\"id\":\"1153\",\"type\":\"SaveTool\"},{\"attributes\":{},\"id\":\"1170\",\"type\":\"BasicTickFormatter\"},{\"attributes\":{},\"id\":\"1188\",\"type\":\"UnionRenderers\"},{\"attributes\":{},\"id\":\"1154\",\"type\":\"ResetTool\"},{\"attributes\":{},\"id\":\"1172\",\"type\":\"BasicTickFormatter\"},{\"attributes\":{\"active_drag\":\"auto\",\"active_inspect\":\"auto\",\"active_multi\":null,\"active_scroll\":\"auto\",\"active_tap\":\"auto\",\"tools\":[{\"id\":\"1150\",\"type\":\"PanTool\"},{\"id\":\"1151\",\"type\":\"WheelZoomTool\"},{\"id\":\"1152\",\"type\":\"BoxZoomTool\"},{\"id\":\"1153\",\"type\":\"SaveTool\"},{\"id\":\"1154\",\"type\":\"ResetTool\"},{\"id\":\"1155\",\"type\":\"HelpTool\"}]},\"id\":\"1156\",\"type\":\"Toolbar\"},{\"attributes\":{\"axis_label\":\"x\",\"formatter\":{\"id\":\"1170\",\"type\":\"BasicTickFormatter\"},\"ticker\":{\"id\":\"1141\",\"type\":\"BasicTicker\"}},\"id\":\"1140\",\"type\":\"LinearAxis\"},{\"attributes\":{\"bottom_units\":\"screen\",\"fill_alpha\":{\"value\":0.5},\"fill_color\":{\"value\":\"lightgrey\"},\"left_units\":\"screen\",\"level\":\"overlay\",\"line_alpha\":{\"value\":1.0},\"line_color\":{\"value\":\"black\"},\"line_dash\":[4,4],\"line_width\":{\"value\":2},\"render_mode\":\"css\",\"right_units\":\"screen\",\"top_units\":\"screen\"},\"id\":\"1174\",\"type\":\"BoxAnnotation\"},{\"attributes\":{\"callback\":null},\"id\":\"1133\",\"type\":\"DataRange1d\"},{\"attributes\":{},\"id\":\"1155\",\"type\":\"HelpTool\"},{\"attributes\":{\"items\":[{\"id\":\"1176\",\"type\":\"LegendItem\"}],\"visible\":false},\"id\":\"1175\",\"type\":\"Legend\"},{\"attributes\":{\"label\":{\"value\":\" \"},\"renderers\":[{\"id\":\"1166\",\"type\":\"GlyphRenderer\"},{\"id\":\"1180\",\"type\":\"GlyphRenderer\"}]},\"id\":\"1176\",\"type\":\"LegendItem\"},{\"attributes\":{\"callback\":null,\"data\":{\"x\":{\"__ndarray__\":\"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\",\"dtype\":\"float64\",\"shape\":[290]},\"y\":{\"__ndarray__\":\"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\",\"dtype\":\"float64\",\"shape\":[290]}},\"selected\":{\"id\":\"1211\",\"type\":\"Selection\"},\"selection_policy\":{\"id\":\"1210\",\"type\":\"UnionRenderers\"}},\"id\":\"1177\",\"type\":\"ColumnDataSource\"},{\"attributes\":{\"fill_alpha\":0.3,\"fill_color\":\"#4e79a7\",\"line_alpha\":0,\"line_color\":\"#4e79a7\",\"x\":{\"field\":\"x\"},\"y\":{\"field\":\"y\"}},\"id\":\"1178\",\"type\":\"Patch\"},{\"attributes\":{},\"id\":\"1211\",\"type\":\"Selection\"},{\"attributes\":{},\"id\":\"1138\",\"type\":\"LinearScale\"},{\"attributes\":{\"line_alpha\":0.1,\"line_color\":\"#1f77b4\",\"line_width\":2,\"x\":{\"field\":\"x\"},\"y\":{\"field\":\"y\"}},\"id\":\"1165\",\"type\":\"Line\"},{\"attributes\":{\"fill_alpha\":0.1,\"fill_color\":\"#1f77b4\",\"line_alpha\":0.1,\"line_color\":\"#1f77b4\",\"x\":{\"field\":\"x\"},\"y\":{\"field\":\"y\"}},\"id\":\"1179\",\"type\":\"Patch\"},{\"attributes\":{\"axis_label\":\"approximate PDF\",\"formatter\":{\"id\":\"1172\",\"type\":\"BasicTickFormatter\"},\"ticker\":{\"id\":\"1146\",\"type\":\"BasicTicker\"}},\"id\":\"1145\",\"type\":\"LinearAxis\"},{\"attributes\":{\"data_source\":{\"id\":\"1177\",\"type\":\"ColumnDataSource\"},\"glyph\":{\"id\":\"1178\",\"type\":\"Patch\"},\"hover_glyph\":null,\"muted_glyph\":null,\"nonselection_glyph\":{\"id\":\"1179\",\"type\":\"Patch\"},\"selection_glyph\":null,\"view\":{\"id\":\"1181\",\"type\":\"CDSView\"}},\"id\":\"1180\",\"type\":\"GlyphRenderer\"},{\"attributes\":{},\"id\":\"1141\",\"type\":\"BasicTicker\"},{\"attributes\":{\"source\":{\"id\":\"1177\",\"type\":\"ColumnDataSource\"}},\"id\":\"1181\",\"type\":\"CDSView\"},{\"attributes\":{\"ticker\":{\"id\":\"1141\",\"type\":\"BasicTicker\"}},\"id\":\"1144\",\"type\":\"Grid\"},{\"attributes\":{},\"id\":\"1189\",\"type\":\"Selection\"},{\"attributes\":{},\"id\":\"1146\",\"type\":\"BasicTicker\"},{\"attributes\":{},\"id\":\"1210\",\"type\":\"UnionRenderers\"},{\"attributes\":{\"dimension\":1,\"ticker\":{\"id\":\"1146\",\"type\":\"BasicTicker\"}},\"id\":\"1149\",\"type\":\"Grid\"},{\"attributes\":{\"data_source\":{\"id\":\"1163\",\"type\":\"ColumnDataSource\"},\"glyph\":{\"id\":\"1164\",\"type\":\"Line\"},\"hover_glyph\":null,\"muted_glyph\":null,\"nonselection_glyph\":{\"id\":\"1165\",\"type\":\"Line\"},\"selection_glyph\":null,\"view\":{\"id\":\"1167\",\"type\":\"CDSView\"}},\"id\":\"1166\",\"type\":\"GlyphRenderer\"},{\"attributes\":{\"line_color\":\"#4e79a7\",\"line_width\":2,\"x\":{\"field\":\"x\"},\"y\":{\"field\":\"y\"}},\"id\":\"1164\",\"type\":\"Line\"},{\"attributes\":{\"callback\":null,\"start\":0},\"id\":\"1131\",\"type\":\"DataRange1d\"},{\"attributes\":{\"overlay\":{\"id\":\"1174\",\"type\":\"BoxAnnotation\"}},\"id\":\"1152\",\"type\":\"BoxZoomTool\"},{\"attributes\":{\"source\":{\"id\":\"1163\",\"type\":\"ColumnDataSource\"}},\"id\":\"1167\",\"type\":\"CDSView\"},{\"attributes\":{},\"id\":\"1150\",\"type\":\"PanTool\"},{\"attributes\":{\"callback\":null,\"data\":{\"x\":{\"__ndarray__\":\"WozEVBhrF0BajMRUGGsXQCaozIbbphdAJqjMhtumF0Dyw9S4nuIXQPLD1Lie4hdAvt/c6mEeGEC+39zqYR4YQIr75BwlWhhAivvkHCVaGEBWF+1O6JUYQFYX7U7olRhAIjP1gKvRGEAiM/WAq9EYQO5O/bJuDRlA7k79sm4NGUC7agXlMUkZQLtqBeUxSRlAh4YNF/WEGUCHhg0X9YQZQFOiFUm4wBlAU6IVSbjAGUAfvh17e/wZQB++HXt7/BlA69klrT44GkDr2SWtPjgaQLf1Ld8BdBpAt/Ut3wF0GkCDETYRxa8aQIMRNhHFrxpATy0+Q4jrGkBPLT5DiOsaQBtJRnVLJxtAG0lGdUsnG0DnZE6nDmMbQOdkTqcOYxtAs4BW2dGeG0CzgFbZ0Z4bQH+cXguV2htAf5xeC5XaG0BMuGY9WBYcQEy4Zj1YFhxAGNRubxtSHEAY1G5vG1IcQOTvdqHejRxA5O92od6NHECwC3/TockcQLALf9OhyRxAfCeHBWUFHUB8J4cFZQUdQEhDjzcoQR1ASEOPNyhBHUAUX5dp63wdQBRfl2nrfB1A4Hqfm664HUDgep+brrgdQKyWp81x9B1ArJanzXH0HUB4sq//NDAeQHiyr/80MB5ARM63MfhrHkBEzrcx+GseQBDqv2O7px5AEOq/Y7unHkDcBciVfuMeQNwFyJV+4x5AqCHQx0EfH0CoIdDHQR8fQHQ92PkEWx9AdD3Y+QRbH0BAWeAryJYfQEBZ4CvIlh9ADHXoXYvSH0AMdehdi9IfQGxI+EcnByBAbEj4RycHIEBSVvzgCCUgQFJW/OAIJSBAOGQAeupCIEA4ZAB66kIgQB5yBBPMYCBAHnIEE8xgIEAEgAisrX4gQASACKytfiBA6o0MRY+cIEDqjQxFj5wgQNCbEN5wuiBA0JsQ3nC6IEC2qRR3UtggQLapFHdS2CBAnLcYEDT2IECctxgQNPYgQILFHKkVFCFAgsUcqRUUIUBp0yBC9zEhQGnTIEL3MSFAT+Ek29hPIUBP4STb2E8hQDXvKHS6bSFANe8odLptIUAb/SwNnIshQBv9LA2ciyFAAQsxpn2pIUABCzGmfakhQOcYNT9fxyFA5xg1P1/HIUDNJjnYQOUhQM0mOdhA5SFAszQ9cSIDIkCzND1xIgMiQJlCQQoEISJAmUJBCgQhIkB/UEWj5T4iQH9QRaPlPiJAZV5JPMdcIkBlXkk8x1wiQEtsTdWoeiJAS2xN1ah6IkAxelFuipgiQDF6UW6KmCJAF4hVB2y2IkAXiFUHbLYiQP2VWaBN1CJA/ZVZoE3UIkDjo105L/IiQOOjXTkv8iJAybFh0hAQI0DJsWHSEBAjQK+/ZWvyLSNAr79la/ItI0CVzWkE1EsjQJXNaQTUSyNAe9ttnbVpI0B7222dtWkjQGHpcTaXhyNAYelxNpeHI0BI93XPeKUjQEj3dc94pSNALgV6aFrDI0AuBXpoWsMjQBQTfgE84SNAFBN+ATzhI0D6IIKaHf8jQPoggpod/yNA4C6GM/8cJEDgLoYz/xwkQMY8iszgOiRAxjyKzOA6JECsSo5lwlgkQKxKjmXCWCRAkliS/qN2JECSWJL+o3YkQHhmlpeFlCRAeGaWl4WUJEBedJowZ7IkQF50mjBnsiRARIKeyUjQJEBEgp7JSNAkQCqQomIq7iRAKpCiYiruJEAQnqb7CwwlQBCepvsLDCVA9quqlO0pJUD2q6qU7SklQNy5ri3PRyVA3LmuLc9HJUDCx7LGsGUlQMLHssawZSVAqNW2X5KDJUCo1bZfkoMlQI7juvhzoSVAjuO6+HOhJUB08b6RVb8lQHTxvpFVvyVAWv/CKjfdJUBa/8IqN90lQEANx8MY+yVAQA3Hwxj7JUAmG8tc+hgmQCYby1z6GCZADCnP9ds2JkAMKc/12zYmQPI20469VCZA8jbTjr1UJkDYRNcnn3ImQNhE1yefciZAvlLbwICQJkC+UtvAgJAmQKRg31liriZApGDfWWKuJkCKbuPyQ8wmQIpu4/JDzCZAcHzniyXqJkBwfOeLJeomQFaK6yQHCCdAVorrJAcIJ0A8mO+96CUnQDyY773oJSdAIqbzVspDJ0AipvNWykMnQAi09++rYSdACLT376thJ0DuwfuIjX8nQO7B+4iNfydA1M//IW+dJ0DUz/8hb50nQLrdA7tQuydAut0Du1C7J0Cg6wdUMtknQKDrB1Qy2SdAhvkL7RP3J0CG+QvtE/cnQGwHEIb1FChAbAcQhvUUKEBTFRQf1zIoQFMVFB/XMihAOSMYuLhQKEA5Ixi4uFAoQB8xHFGabihAHzEcUZpuKEAFPyDqe4woQAU/IOp7jChA60wkg12qKEDrTCSDXaooQNFaKBw/yChA0VooHD/IKEC3aCy1IOYoQLdoLLUg5ihAnXYwTgIEKUCddjBOAgQpQIOENOfjISlAg4Q05+MhKUBpkjiAxT8pQGmSOIDFPylAT6A8GaddKUBPoDwZp10pQDWuQLKIeylANa5Asoh7KUAbvERLapkpQBu8REtqmSlAAcpI5Eu3KUABykjkS7cpQOjXTH0t1SlA6NdMfS3VKUDO5VAWD/MpQM7lUBYP8ylAtPNUr/AQKkC081Sv8BAqQJoBWUjSLipAmgFZSNIuKkCAD13hs0wqQIAPXeGzTCpAZh1hepVqKkBmHWF6lWoqQEwrZRN3iCpATCtlE3eIKkAyOWmsWKYqQDI5aaxYpipAGEdtRTrEKkAYR21FOsQqQP5Ucd4b4ipA/lRx3hviKkDkYnV3/f8qQORidXf9/ypAynB5EN8dK0DKcHkQ3x0rQLB+fanAOytAsH59qcA7K0CWjIFColkrQJaMgUKiWStAfJqF24N3K0B8moXbg3crQGKoiXRllStAYqiJdGWVK0BIto0NR7MrQEi2jQ1HsytALsSRpijRK0AuxJGmKNErQBTSlT8K7ytAFNKVPwrvK0D635nY6wwsQPrfmdjrDCxA4O2dcc0qLEDg7Z1xzSosQMb7oQqvSCxAxvuhCq9ILECsCaajkGYsQKwJpqOQZixA\",\"dtype\":\"float64\",\"shape\":[288]},\"y\":{\"__ndarray__\":\"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\",\"dtype\":\"float64\",\"shape\":[288]}},\"selected\":{\"id\":\"1189\",\"type\":\"Selection\"},\"selection_policy\":{\"id\":\"1188\",\"type\":\"UnionRenderers\"}},\"id\":\"1163\",\"type\":\"ColumnDataSource\"}],\"root_ids\":[\"1132\"]},\"title\":\"Bokeh Application\",\"version\":\"1.2.0\"}};\n",
       "  var render_items = [{\"docid\":\"55693a43-e676-46ac-a52d-872bd4cadce9\",\"roots\":{\"1132\":\"b4d06cbd-5d68-4052-a671-f6dceffdf0b3\"}}];\n",
       "  root.Bokeh.embed.embed_items_notebook(docs_json, render_items);\n",
       "\n",
       "  }\n",
       "  if (root.Bokeh !== undefined) {\n",
       "    embed_document(root);\n",
       "  } else {\n",
       "    var attempts = 0;\n",
       "    var timer = setInterval(function(root) {\n",
       "      if (root.Bokeh !== undefined) {\n",
       "        embed_document(root);\n",
       "        clearInterval(timer);\n",
       "      }\n",
       "      attempts++;\n",
       "      if (attempts > 100) {\n",
       "        console.log(\"Bokeh: ERROR: Unable to run BokehJS code because BokehJS library is missing\");\n",
       "        clearInterval(timer);\n",
       "      }\n",
       "    }, 10, root)\n",
       "  }\n",
       "})(window);"
      ],
      "application/vnd.bokehjs_exec.v0+json": ""
     },
     "metadata": {
      "application/vnd.bokehjs_exec.v0+json": {
       "id": "1132"
      }
     },
     "output_type": "display_data"
    }
   ],
   "source": [
    "# Set parameters\n",
    "mu = 10\n",
    "sigma = 1\n",
    "\n",
    "# Draw 100000 random samples\n",
    "x = np.random.normal(mu, sigma, size=100000)\n",
    "\n",
    "# Plot the histogram\n",
    "p = bokeh_catplot.histogram(\n",
    "    data=pd.DataFrame(data={'x': x}),\n",
    "    cats=None,\n",
    "    val='x',\n",
    "    density=True,\n",
    "    y_axis_label='approximate PDF',\n",
    ")\n",
    "\n",
    "bokeh.io.show(p)"
   ]
  },
  {
   "cell_type": "markdown",
   "metadata": {},
   "source": [
    "It looks Normal, but, again, comparing the resulting ECDF is a better way to look at this. We'll check out the ECDF with 1000 samples so as not to choke the browser."
   ]
  },
  {
   "cell_type": "code",
   "execution_count": 9,
   "metadata": {},
   "outputs": [
    {
     "data": {
      "text/html": [
       "\n",
       "\n",
       "\n",
       "\n",
       "\n",
       "\n",
       "  <div class=\"bk-root\" id=\"4335c2b2-c803-48ef-8fbf-12f8e34f9286\" data-root-id=\"1279\"></div>\n"
      ]
     },
     "metadata": {},
     "output_type": "display_data"
    },
    {
     "data": {
      "application/javascript": [
       "(function(root) {\n",
       "  function embed_document(root) {\n",
       "    \n",
       "  var docs_json = {\"5ae4be63-8155-4fd8-af1b-67bd12c9c77c\":{\"roots\":{\"references\":[{\"attributes\":{\"below\":[{\"id\":\"1288\",\"type\":\"LinearAxis\"}],\"center\":[{\"id\":\"1292\",\"type\":\"Grid\"},{\"id\":\"1297\",\"type\":\"Grid\"},{\"id\":\"1324\",\"type\":\"Legend\"}],\"left\":[{\"id\":\"1293\",\"type\":\"LinearAxis\"}],\"plot_height\":300,\"plot_width\":400,\"renderers\":[{\"id\":\"1315\",\"type\":\"GlyphRenderer\"},{\"id\":\"1329\",\"type\":\"GlyphRenderer\"}],\"title\":{\"id\":\"1317\",\"type\":\"Title\"},\"toolbar\":{\"id\":\"1304\",\"type\":\"Toolbar\"},\"x_range\":{\"id\":\"1280\",\"type\":\"DataRange1d\"},\"x_scale\":{\"id\":\"1284\",\"type\":\"LinearScale\"},\"y_range\":{\"id\":\"1282\",\"type\":\"DataRange1d\"},\"y_scale\":{\"id\":\"1286\",\"type\":\"LinearScale\"}},\"id\":\"1279\",\"subtype\":\"Figure\",\"type\":\"Plot\"},{\"attributes\":{\"callback\":null},\"id\":\"1282\",\"type\":\"DataRange1d\"},{\"attributes\":{},\"id\":\"1294\",\"type\":\"BasicTicker\"},{\"attributes\":{},\"id\":\"1359\",\"type\":\"UnionRenderers\"},{\"attributes\":{\"callback\":null,\"data\":{\"x\":{\"__ndarray__\":\"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\",\"dtype\":\"float64\",\"shape\":[400]},\"y\":{\"__ndarray__\":\"7/9KldeaAD+KNcL1zBECP8l9BMjnpwM/Vl8ZHZFfBT+2iVLSXTsHP9mB9lgRPgk/cz12pKBqCz/+6sRANcQNP+NVOEkYJxA/9fYQoReGET8RqpZqBgETP8DNdLrzmRQ/Qcw/8xFTFj+QFnfauC4YP2Jsf8dnLxo/1p107cdXHD+yNLLArqoeP+cJeTyQlSA/FYdvWCnuIT/U1/uR12AjPwxxzUVr7yQ/HloKztGbJj/RoT4RF2goP25IGyJnVio/ue1n8A9pLD9a7oYLg6IuP7a5c7urgjA/YR1eyCXKMT9yQqSFIykzP3NQh3wuoTQ/PHUS9uYzNj/vZHcUBeM3P/ifN/ZZsDk/qekw49CdOz+9m56DcK09P8VmHCFc4T8/esXYeOodQT/T1HK2nV9CP7z+bFUIt0M/AIKt5nslRT+6v2u5W6xGP9EJkZkdTUg/JF/tkkoJSj8VeCq5f+JLP84SY/Ru2k0/VsA/0t/yTz8Gybot2BZRPwr1vvZqRlI/kbEsDC+JUz84HRXAN+BUPzh3NmGlTFY/R+tHr6XPVz+BLtJQdGpZP90ab0pbHls/JTtHd7PsXD/+56AC5dZeP+maKPEzb2A/Gr3tKGKCYT+mVgSnyaViP84sXog/2mM/cZdkxqEgZT+o08F013lmP6G/5v7Q5mc/J4ooZYhoaT/zBVB5AQBrPyR7chpKrmw/Ivzpb3p0bj/huaCR2ilwP0htc8yTJnE/KB+6EwUxcj8nSK8m0ElzP7rCa3KccXQ/AhvXKhepdT9KT3xi8/B2P2ZVJyHqSXg/QAYvebq0eT/xa06bKTJ7P1bS7+gCw3w/627LBBhofj8hfN1wIBGAP6OL0ect+YA/DKEpw6bsgT8YIx6XAOyCP4zJbjO094M/95tkpT0QhT/OPI84HDaGP8Z6LXbSaYc/kTUxI+ariD/Lwc484PyJP5okiPNMXYs/ZLmkpLvNjD/EGwbSvk6OP4aISxjs4I8/XaWaEW7CkD90IB1QlZ2RP/cEoRc7gpI/lH67KLBwkz9h2hGrRmmUP+tSyCJSbJU/gYLrZCd6lj+Bhs+KHJOXP4hPYOSIt5g/FBVf6cTnmT9kZokpKiSbPzbdpjsTbZw/tAZ7q9vCnT9xtJnm3yWfP/9CDpQ+S6A/fJKcsYgKoT91L1yW/dChPxx9p9HMnqI/6PFsKyZ0oz/HCkCXOVGkP2ys3iY3NqU//e0s/E4jpj/Vrqk6sRinP6/EXviNFqg/Gv1PLhUdqT9vmGyodiyqP0dWB/XhRKs/9ZrZU4ZmrD+Wo5akkpGtP4UyFFU1xq4/k0WHJ04CsD/HAsdyeqawP7p4+uC1T7E/fHVeaBb+sT/MmPWWsbGyP+b9oYicarM/KJIi3esotD+Ie/its+y0PzwgOYQHtrU/hI9RTvqEtj8oOcBVnlm3P8QHyjQFNLg/cBwwzD8UuT8Qjus4Xvq5P7it9Mlv5ro/xHMb9oLYuz/o0fZRpdC8P8y98IXjzr0/SN90REnTvj8k2EdA4d2/PxCWhpFad8A/VusAwuYCwT8mz3jvmJHBP8SbtkV0I8I/hKEjWnu4wj+MFK8nsFDDP55k3AoU7MM/0O79vaeKxD9w755VayzFPwyMHz1e0cU/BLyFM395xj/IxIVIzCTHP37pxNlC08c/otVYkN+EyD+qMoZenjnJP+C5wH168ck/JPjubG6syj+g2PPuc2rLP3jnfwmEK8w/vhssBJfvzD/iz99npLbNP6Jog/6igM4/XAEB04hNzz/MI8qYpQ7QPx5CNVTvd9A/ndFJhJvi0D9ObKKzo07RP/yptg8BvNE/OaDOaawq0j9ojh84nprSPwyjEZfOC9M/WqyuSjV+0z9ObTnAyfHTP4I27Q+DZtQ/0Ebl/lfc1D9UXysBP1PVP5/b7Dsuy9U/fIXVhxtE1j9SQ49z/L3WP9ClZUbGONc/c0IMA2601z/9sIZq6DDYP0/pMP8prtg/g6rmBycs2T+wfUiT06rZPxXSHHsjKto/vZ3LZwqq2j972fLTeyrbP9ceEhBrq9s/Sp5LRsss3D+Akzh+j67cP1hRz6CqMN0/kfFYfA+z3T8rqXTIsDXeP365JiqBuN4/O+zwN3M73z/kgvJ9eb7fP46+BkHDIOA/4okHZEZi4D86o+xqv6PgP2urxZsn5eA/N4fTQXgm4T9OV5ivqmfhP0C240C4qOE/2zDaXJrp4T+U8PZ3SiriP0KTBhbCauI/GzEazPqq4j/1lnFC7uriPyjBWzaWKuM/uKoMfOxp4z9Yi2cA66jjP4GnvMqL5+M/xt55/sgl5D8YLc3cnGPkP1FeOMYBoeQ/Qj0VPPLd5D8wkgniaBrlP1BQan9gVuU/mFyNANSR5T+/ZAl4vszlP1lJ4x8bB+Y/06moWuVA5j90Lne0GHrmP8w48OOwsuY/5K8Yy6nq5j/8qiR4/yHnP9nJLiauWOc/MhfbPbKO5z/xXuVVCMTnPxrumjOt+Oc/pL8/y50s6D/YJV9A11/oPwgMCOZWkug/DPn0PhrE6D8iBqD9HvXoP9gJQwRjJek/90HEZORU6T+I0Y9goYPpP1FzXmiYsek/mMrpG8je6T+gxY5JLwvqP8qO3u3MNuo//5AeM6Bh6j/9HLhwqIvqPyREmCrltOo/TISAEFbd6j/V5kj9+gTrP906FPbTK+s/nxd3KeFR6z8LWZLuInfrPzbMIcSZm+s/KsV/T0a/6z98Wp5bKeLrP/wE99dDBOw/FGRx15Yl7D9G6EGPI0bsP8MlwVXrZew/hJE8oe+E7D9JasEGMqPsPz6O4ji0wOw/cvx5Bnjd7D8Iv2ZZf/nsP9j4RzXMFO0/EM41tmAv7T/423gPP0ntP4zwQIppYu0/u61bhOJ67T9DwOturJLtP+ZMIc3Jqe0/UDH0Mj3A7T/nsOBDCdbtP6cfp7Ew6+0/ThcPO7b/7T/WvK6qnBPuP8eVttXmJu4/UWbCmpc57j+ciq/gsUvuP3k2eZU4Xe4/LQAbrS5u7j+1E3ogl37uPxNlVex0ju4/HzE9EMud7j85FZKNnKzuP1T/i2bsuu4/4jBJnb3I7j8uiOUyE9buPwg9mibw4u4/2DbmdFfv7j/QG78WTPvuP1syywDRBu8/yiekIukR7z8WySJmlxzvP820s67eJu8/Vwe12MEw7z+D/dy4QzrvP8yDqRtnQ+8/7KPYxC5M7z9ovelunVTvPy1xp8q1XO8/CyS6fnpk7z/Y90In7mvvP/wWf1UTc+8/1Cpzj+x57z/e0Z5PfIDvP5HntwTFhu8/Gm1tEcmM7z9u3zHMipLvP/nEDH8MmO8/KjtzZ1Cd7z8VSie2WKLvPwzDHY8np+8/kG1qCb+r7z/aRDIvIbDvP3SHo/1PtO8/fFnzZE247z/RuWBIG7zvPw+KPH67v+8/Imn2zy/D7z9bIC76ecbvPyhjyaybye8/9KENi5bM7z9Vsb0rbM/vP2EHOxke0u8/ylGq0a3U7z97KBvHHNfvP3Chsl9s2e8/wYvY9Z3b7z8lGWfYst3vP4y+3Eqs3+8/BBaQhYvh7z+FjeW1UePvP/qvhv7/5O8/dtead5fm7z9AGQEvGejvPyw+iyiG6e8/aZs5Xt/q7z/ToXfAJezvP6n7WDZa7e8/QxLXnX3u7z9l1w7MkO/vP4yvfo2U8O8/YlxEponx7z9yyFrScPLvP+mW18VK8+8/ClwoLRj07z/EZE+t2fTvP3H1H+SP9e8/p+l5aDv27z+FoITK3PbvP5si6ZN09+8/EHALSAP47z8750JkifjvP2K1EWAH+e8/qERbrX357z++m5m47PnvPxClEelU+u8/oFQGobb67z/ApOo9EvvvP0tjkhho++8/z8lhhbj77z9z3HvUA/zvPy2M71FK/O8/45njRYz87z8MOcH0yfzvPxNxXZ8D/e8/sT0hgzn97z8WbzDaa/3vP3hLj9ua/e8/PPRGu8b97z+JkYiq7/3vP5FHz9cV/u8/gfkAbzn+7z9L3o2ZWv7vPxbsjn55/u8/Wh/jQpb+7z8po0sJsf7vP0PghvLJ/u8/CHlqHeH+7z9vOPym9v7vP276iaoK/+8/W5TAQR3/7z8FxMGELv/vP0csOYo+/+8/AmZwZ03/7z9aLGIwW//vP0urzPdn/+8/ePdCz3P/7z89tj3Hfv/vP+z8Ku+I/+8/J259VZL/7z8mnLoHm//vP7a2iBKj/+8/m4u7gar/7z/u32Bgsf/vP/cozLi3/+8/1KqhlL3/7z8=\",\"dtype\":\"float64\",\"shape\":[400]}},\"selected\":{\"id\":\"1362\",\"type\":\"Selection\"},\"selection_policy\":{\"id\":\"1361\",\"type\":\"UnionRenderers\"}},\"id\":\"1326\",\"type\":\"ColumnDataSource\"},{\"attributes\":{\"dimension\":1,\"ticker\":{\"id\":\"1294\",\"type\":\"BasicTicker\"}},\"id\":\"1297\",\"type\":\"Grid\"},{\"attributes\":{\"fill_alpha\":{\"value\":0.1},\"fill_color\":{\"value\":\"#1f77b4\"},\"line_alpha\":{\"value\":0.1},\"line_color\":{\"value\":\"#1f77b4\"},\"x\":{\"field\":\"x\"},\"y\":{\"field\":\"__ECDF\"}},\"id\":\"1314\",\"type\":\"Circle\"},{\"attributes\":{\"source\":{\"id\":\"1326\",\"type\":\"ColumnDataSource\"}},\"id\":\"1330\",\"type\":\"CDSView\"},{\"attributes\":{\"callback\":null},\"id\":\"1280\",\"type\":\"DataRange1d\"},{\"attributes\":{},\"id\":\"1361\",\"type\":\"UnionRenderers\"},{\"attributes\":{},\"id\":\"1298\",\"type\":\"PanTool\"},{\"attributes\":{},\"id\":\"1299\",\"type\":\"WheelZoomTool\"},{\"attributes\":{\"text\":\"\"},\"id\":\"1317\",\"type\":\"Title\"},{\"attributes\":{\"overlay\":{\"id\":\"1323\",\"type\":\"BoxAnnotation\"}},\"id\":\"1300\",\"type\":\"BoxZoomTool\"},{\"attributes\":{},\"id\":\"1301\",\"type\":\"SaveTool\"},{\"attributes\":{\"source\":{\"id\":\"1311\",\"type\":\"ColumnDataSource\"}},\"id\":\"1316\",\"type\":\"CDSView\"},{\"attributes\":{},\"id\":\"1302\",\"type\":\"ResetTool\"},{\"attributes\":{},\"id\":\"1321\",\"type\":\"BasicTickFormatter\"},{\"attributes\":{},\"id\":\"1303\",\"type\":\"HelpTool\"},{\"attributes\":{\"bottom_units\":\"screen\",\"fill_alpha\":{\"value\":0.5},\"fill_color\":{\"value\":\"lightgrey\"},\"left_units\":\"screen\",\"level\":\"overlay\",\"line_alpha\":{\"value\":1.0},\"line_color\":{\"value\":\"black\"},\"line_dash\":[4,4],\"line_width\":{\"value\":2},\"render_mode\":\"css\",\"right_units\":\"screen\",\"top_units\":\"screen\"},\"id\":\"1323\",\"type\":\"BoxAnnotation\"},{\"attributes\":{\"label\":{\"value\":\" \"},\"renderers\":[{\"id\":\"1315\",\"type\":\"GlyphRenderer\"}]},\"id\":\"1325\",\"type\":\"LegendItem\"},{\"attributes\":{\"data_source\":{\"id\":\"1326\",\"type\":\"ColumnDataSource\"},\"glyph\":{\"id\":\"1327\",\"type\":\"Line\"},\"hover_glyph\":null,\"muted_glyph\":null,\"nonselection_glyph\":{\"id\":\"1328\",\"type\":\"Line\"},\"selection_glyph\":null,\"view\":{\"id\":\"1330\",\"type\":\"CDSView\"}},\"id\":\"1329\",\"type\":\"GlyphRenderer\"},{\"attributes\":{\"active_drag\":\"auto\",\"active_inspect\":\"auto\",\"active_multi\":null,\"active_scroll\":\"auto\",\"active_tap\":\"auto\",\"tools\":[{\"id\":\"1298\",\"type\":\"PanTool\"},{\"id\":\"1299\",\"type\":\"WheelZoomTool\"},{\"id\":\"1300\",\"type\":\"BoxZoomTool\"},{\"id\":\"1301\",\"type\":\"SaveTool\"},{\"id\":\"1302\",\"type\":\"ResetTool\"},{\"id\":\"1303\",\"type\":\"HelpTool\"}]},\"id\":\"1304\",\"type\":\"Toolbar\"},{\"attributes\":{},\"id\":\"1360\",\"type\":\"Selection\"},{\"attributes\":{},\"id\":\"1284\",\"type\":\"LinearScale\"},{\"attributes\":{},\"id\":\"1362\",\"type\":\"Selection\"},{\"attributes\":{\"line_color\":\"orange\",\"line_width\":2,\"x\":{\"field\":\"x\"},\"y\":{\"field\":\"y\"}},\"id\":\"1327\",\"type\":\"Line\"},{\"attributes\":{\"axis_label\":\"x\",\"formatter\":{\"id\":\"1319\",\"type\":\"BasicTickFormatter\"},\"ticker\":{\"id\":\"1289\",\"type\":\"BasicTicker\"}},\"id\":\"1288\",\"type\":\"LinearAxis\"},{\"attributes\":{},\"id\":\"1319\",\"type\":\"BasicTickFormatter\"},{\"attributes\":{\"data_source\":{\"id\":\"1311\",\"type\":\"ColumnDataSource\"},\"glyph\":{\"id\":\"1313\",\"type\":\"Circle\"},\"hover_glyph\":null,\"muted_glyph\":null,\"nonselection_glyph\":{\"id\":\"1314\",\"type\":\"Circle\"},\"selection_glyph\":null,\"view\":{\"id\":\"1316\",\"type\":\"CDSView\"}},\"id\":\"1315\",\"type\":\"GlyphRenderer\"},{\"attributes\":{\"axis_label\":\"ECDF\",\"formatter\":{\"id\":\"1321\",\"type\":\"BasicTickFormatter\"},\"ticker\":{\"id\":\"1294\",\"type\":\"BasicTicker\"}},\"id\":\"1293\",\"type\":\"LinearAxis\"},{\"attributes\":{\"line_alpha\":0.1,\"line_color\":\"#1f77b4\",\"line_width\":2,\"x\":{\"field\":\"x\"},\"y\":{\"field\":\"y\"}},\"id\":\"1328\",\"type\":\"Line\"},{\"attributes\":{\"items\":[{\"id\":\"1325\",\"type\":\"LegendItem\"}],\"visible\":false},\"id\":\"1324\",\"type\":\"Legend\"},{\"attributes\":{\"callback\":null,\"data\":{\"__ECDF\":{\"__ndarray__\":\"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\",\"dtype\":\"float64\",\"shape\":[1000]},\"__dummy_cat\":[\" \",\" \",\" \",\" \",\" \",\" \",\" \",\" \",\" \",\" \",\" \",\" \",\" \",\" \",\" \",\" \",\" \",\" \",\" \",\" \",\" \",\" \",\" \",\" \",\" \",\" \",\" \",\" \",\" \",\" \",\" \",\" \",\" \",\" \",\" \",\" \",\" \",\" \",\" \",\" \",\" \",\" \",\" \",\" \",\" \",\" \",\" \",\" \",\" \",\" \",\" \",\" \",\" \",\" \",\" \",\" \",\" \",\" \",\" \",\" \",\" \",\" \",\" \",\" \",\" \",\" \",\" \",\" \",\" \",\" \",\" \",\" \",\" \",\" \",\" \",\" \",\" \",\" \",\" \",\" \",\" \",\" \",\" \",\" \",\" \",\" \",\" \",\" \",\" \",\" \",\" \",\" \",\" \",\" \",\" \",\" \",\" \",\" \",\" \",\" \",\" \",\" \",\" \",\" \",\" \",\" \",\" \",\" \",\" \",\" \",\" \",\" \",\" \",\" \",\" \",\" \",\" \",\" \",\" \",\" \",\" \",\" \",\" \",\" \",\" \",\" \",\" \",\" \",\" \",\" \",\" \",\" \",\" \",\" \",\" \",\" \",\" \",\" \",\" \",\" \",\" \",\" \",\" \",\" \",\" \",\" \",\" \",\" \",\" \",\" \",\" \",\" \",\" \",\" \",\" \",\" \",\" \",\" \",\" \",\" \",\" \",\" \",\" \",\" \",\" \",\" \",\" \",\" \",\" \",\" \",\" \",\" \",\" \",\" \",\" \",\" \",\" \",\" \",\" \",\" \",\" \",\" \",\" \",\" \",\" \",\" \",\" \",\" \",\" \",\" \",\" \",\" \",\" \",\" \",\" \",\" \",\" \",\" \",\" \",\" \",\" \",\" \",\" \",\" \",\" \",\" \",\" \",\" \",\" \",\" \",\" \",\" \",\" \",\" \",\" \",\" \",\" \",\" \",\" \",\" \",\" \",\" \",\" \",\" \",\" \",\" \",\" \",\" \",\" \",\" \",\" \",\" \",\" \",\" \",\" \",\" \",\" \",\" \",\" \",\" \",\" \",\" \",\" \",\" \",\" \",\" \",\" \",\" \",\" \",\" \",\" \",\" \",\" \",\" \",\" \",\" \",\" \",\" \",\" \",\" \",\" \",\" \",\" \",\" \",\" \",\" \",\" \",\" \",\" \",\" \",\" \",\" \",\" \",\" \",\" \",\" \",\" \",\" \",\" \",\" \",\" \",\" \",\" \",\" \",\" \",\" \",\" \",\" \",\" \",\" \",\" \",\" \",\" \",\" \",\" \",\" \",\" \",\" \",\" \",\" \",\" \",\" \",\" \",\" \",\" \",\" \",\" \",\" \",\" \",\" \",\" \",\" \",\" \",\" \",\" \",\" \",\" \",\" \",\" \",\" \",\" \",\" \",\" \",\" \",\" \",\" \",\" \",\" \",\" \",\" \",\" \",\" \",\" \",\" \",\" \",\" \",\" \",\" \",\" \",\" \",\" \",\" \",\" \",\" \",\" \",\" \",\" \",\" \",\" \",\" \",\" \",\" \",\" \",\" \",\" \",\" \",\" \",\" \",\" \",\" \",\" \",\" \",\" \",\" \",\" \",\" \",\" \",\" \",\" \",\" \",\" \",\" \",\" \",\" \",\" \",\" \",\" \",\" \",\" \",\" \",\" \",\" \",\" \",\" \",\" \",\" \",\" \",\" \",\" \",\" \",\" \",\" \",\" \",\" \",\" \",\" \",\" \",\" \",\" \",\" \",\" \",\" \",\" \",\" \",\" \",\" \",\" \",\" \",\" \",\" \",\" \",\" \",\" \",\" \",\" \",\" \",\" \",\" \",\" \",\" \",\" \",\" \",\" \",\" \",\" \",\" \",\" \",\" \",\" \",\" \",\" \",\" \",\" \",\" \",\" \",\" \",\" \",\" \",\" \",\" \",\" \",\" \",\" \",\" \",\" \",\" \",\" \",\" \",\" \",\" \",\" \",\" \",\" \",\" \",\" \",\" \",\" \",\" \",\" \",\" \",\" \",\" \",\" \",\" \",\" \",\" \",\" \",\" \",\" \",\" \",\" \",\" \",\" \",\" \",\" \",\" \",\" \",\" \",\" \",\" \",\" \",\" \",\" \",\" \",\" \",\" \",\" \",\" \",\" \",\" \",\" \",\" \",\" \",\" \",\" \",\" \",\" \",\" \",\" \",\" \",\" \",\" \",\" \",\" \",\" \",\" \",\" \",\" \",\" \",\" \",\" \",\" \",\" \",\" \",\" \",\" \",\" \",\" \",\" \",\" \",\" \",\" \",\" \",\" \",\" \",\" \",\" \",\" \",\" \",\" \",\" \",\" \",\" \",\" \",\" \",\" \",\" \",\" \",\" \",\" \",\" \",\" \",\" \",\" \",\" \",\" \",\" \",\" \",\" \",\" \",\" \",\" \",\" \",\" \",\" \",\" \",\" \",\" \",\" \",\" \",\" \",\" \",\" \",\" \",\" \",\" \",\" \",\" \",\" \",\" \",\" \",\" \",\" \",\" \",\" \",\" \",\" \",\" \",\" \",\" \",\" \",\" \",\" \",\" \",\" \",\" \",\" \",\" \",\" \",\" \",\" \",\" \",\" \",\" \",\" \",\" \",\" \",\" \",\" \",\" \",\" \",\" \",\" \",\" \",\" \",\" \",\" \",\" \",\" \",\" \",\" \",\" \",\" \",\" \",\" \",\" \",\" \",\" \",\" \",\" \",\" \",\" \",\" \",\" \",\" \",\" \",\" \",\" \",\" \",\" \",\" \",\" \",\" \",\" \",\" \",\" \",\" \",\" \",\" \",\" \",\" \",\" \",\" \",\" \",\" \",\" \",\" \",\" \",\" \",\" \",\" \",\" \",\" \",\" \",\" \",\" \",\" \",\" \",\" \",\" \",\" \",\" \",\" \",\" \",\" \",\" \",\" \",\" \",\" \",\" \",\" \",\" \",\" \",\" \",\" \",\" \",\" \",\" \",\" \",\" \",\" \",\" \",\" \",\" \",\" \",\" \",\" \",\" \",\" \",\" \",\" \",\" \",\" \",\" \",\" \",\" \",\" \",\" \",\" \",\" \",\" \",\" \",\" \",\" \",\" \",\" \",\" \",\" \",\" \",\" \",\" \",\" \",\" \",\" \",\" \",\" \",\" \",\" \",\" \",\" \",\" \",\" \",\" \",\" \",\" \",\" \",\" \",\" \",\" \",\" \",\" \",\" \",\" \",\" \",\" \",\" \",\" \",\" \",\" \",\" \",\" \",\" \",\" \",\" \",\" \",\" \",\" \",\" \",\" \",\" \",\" \",\" \",\" \",\" \",\" \",\" \",\" \",\" \",\" \",\" \",\" \",\" \",\" \",\" \",\" \",\" \",\" \",\" \",\" \",\" \",\" \",\" \",\" \",\" \",\" \",\" \",\" \",\" \",\" \",\" \",\" \",\" \",\" \",\" \",\" \",\" \",\" \",\" \",\" \",\" \",\" \",\" \",\" \",\" \",\" \",\" \",\" \",\" \",\" \",\" \",\" \",\" \",\" \",\" \",\" \",\" \",\" \",\" \",\" \",\" \",\" \",\" \",\" \",\" \",\" \",\" \",\" \",\" \",\" \",\" \",\" \",\" \",\" \",\" \",\" \",\" \",\" \",\" \",\" \",\" \",\" \",\" \",\" \",\" \",\" \",\" \",\" \",\" \",\" \",\" \",\" \",\" \",\" \",\" \",\" \",\" \",\" \",\" \",\" \",\" \",\" \",\" \",\" \",\" \",\" \",\" \",\" \",\" \",\" \",\" \",\" \",\" \",\" \",\" \",\" \",\" \",\" \",\" \",\" \",\" \",\" \",\" \",\" \",\" \",\" \",\" \",\" \",\" \",\" \",\" \",\" \",\" \",\" \",\" \",\" \",\" \",\" \",\" \",\" \",\" \",\" \",\" \",\" \",\" \",\" \",\" \",\" \",\" \",\" \",\" \",\" \",\" \",\" \",\" \",\" \",\" \",\" \",\" \",\" \",\" \",\" \",\" \",\" \",\" \",\" \",\" \",\" \",\" \",\" \",\" \",\" \",\" \",\" \",\" \",\" \",\" \",\" \",\" \",\" \",\" \",\" \",\" \",\" \",\" \",\" \",\" \",\" \",\" \",\" \",\" \",\" \",\" \",\" \",\" \",\" \",\" \",\" \",\" \",\" \",\" \",\" \",\" \",\" \",\" \",\" \",\" \",\" \",\" \",\" \",\" \",\" \",\" \",\" \",\" \",\" \",\" \",\" \",\" \",\" \",\" \",\" \",\" \",\" \",\" \",\" \",\" \",\" \",\" \",\" \",\" \",\" \",\" \",\" \",\" \",\" \",\" \",\" \",\" \",\" \",\" \",\" \",\" \",\" \",\" \",\" \",\" \",\" \",\" \",\" \",\" \"],\"__label\":[\" \",\" \",\" \",\" \",\" \",\" \",\" \",\" \",\" \",\" \",\" \",\" \",\" \",\" \",\" \",\" \",\" \",\" \",\" \",\" \",\" \",\" \",\" \",\" \",\" \",\" \",\" \",\" \",\" \",\" \",\" \",\" \",\" \",\" \",\" \",\" \",\" \",\" \",\" \",\" \",\" \",\" \",\" \",\" \",\" \",\" \",\" \",\" \",\" \",\" \",\" \",\" \",\" \",\" \",\" \",\" \",\" \",\" \",\" \",\" \",\" \",\" \",\" \",\" \",\" \",\" \",\" \",\" \",\" \",\" \",\" \",\" \",\" \",\" \",\" \",\" \",\" \",\" \",\" \",\" \",\" \",\" \",\" \",\" \",\" \",\" \",\" \",\" \",\" \",\" \",\" \",\" \",\" \",\" \",\" \",\" \",\" \",\" \",\" \",\" \",\" \",\" \",\" \",\" \",\" \",\" \",\" \",\" \",\" \",\" \",\" \",\" \",\" \",\" \",\" \",\" \",\" \",\" \",\" \",\" \",\" \",\" \",\" \",\" \",\" \",\" \",\" \",\" \",\" \",\" \",\" \",\" \",\" \",\" \",\" \",\" \",\" \",\" \",\" \",\" \",\" \",\" \",\" \",\" \",\" \",\" \",\" \",\" \",\" \",\" \",\" \",\" \",\" \",\" \",\" \",\" \",\" \",\" \",\" \",\" \",\" \",\" \",\" \",\" \",\" \",\" \",\" \",\" \",\" \",\" \",\" \",\" \",\" \",\" \",\" \",\" \",\" \",\" \",\" \",\" \",\" \",\" \",\" \",\" \",\" \",\" \",\" \",\" \",\" \",\" \",\" \",\" \",\" \",\" \",\" \",\" \",\" \",\" \",\" \",\" \",\" \",\" \",\" \",\" \",\" \",\" \",\" \",\" \",\" \",\" \",\" \",\" \",\" \",\" \",\" \",\" \",\" \",\" \",\" \",\" \",\" \",\" \",\" \",\" \",\" \",\" \",\" \",\" \",\" \",\" \",\" \",\" \",\" \",\" \",\" \",\" \",\" \",\" \",\" \",\" \",\" \",\" \",\" \",\" \",\" \",\" \",\" \",\" \",\" \",\" \",\" \",\" \",\" \",\" \",\" \",\" \",\" \",\" \",\" \",\" \",\" \",\" \",\" \",\" \",\" \",\" \",\" \",\" \",\" \",\" \",\" \",\" \",\" \",\" \",\" \",\" \",\" \",\" \",\" \",\" \",\" \",\" \",\" \",\" \",\" \",\" \",\" \",\" \",\" \",\" \",\" \",\" \",\" \",\" \",\" \",\" \",\" \",\" \",\" \",\" \",\" \",\" \",\" \",\" \",\" \",\" \",\" \",\" \",\" \",\" \",\" \",\" \",\" \",\" \",\" \",\" \",\" \",\" \",\" \",\" \",\" \",\" \",\" \",\" \",\" \",\" \",\" \",\" \",\" \",\" \",\" \",\" \",\" \",\" \",\" \",\" \",\" \",\" \",\" \",\" \",\" \",\" \",\" \",\" \",\" \",\" \",\" \",\" \",\" \",\" \",\" \",\" \",\" \",\" \",\" \",\" \",\" \",\" \",\" \",\" \",\" \",\" \",\" \",\" \",\" \",\" \",\" \",\" \",\" \",\" \",\" \",\" \",\" \",\" \",\" \",\" \",\" \",\" \",\" \",\" \",\" \",\" \",\" \",\" \",\" \",\" \",\" \",\" \",\" \",\" \",\" \",\" \",\" \",\" \",\" \",\" \",\" \",\" \",\" \",\" \",\" \",\" \",\" \",\" \",\" \",\" \",\" \",\" \",\" \",\" \",\" \",\" \",\" \",\" \",\" \",\" \",\" \",\" \",\" \",\" \",\" \",\" \",\" \",\" \",\" \",\" \",\" \",\" \",\" \",\" \",\" \",\" \",\" \",\" \",\" \",\" \",\" \",\" \",\" \",\" \",\" \",\" \",\" \",\" \",\" \",\" \",\" \",\" \",\" \",\" \",\" \",\" \",\" \",\" \",\" \",\" \",\" \",\" \",\" \",\" \",\" \",\" \",\" \",\" \",\" \",\" \",\" \",\" \",\" \",\" \",\" \",\" \",\" \",\" \",\" \",\" \",\" \",\" \",\" \",\" \",\" \",\" \",\" \",\" \",\" \",\" \",\" \",\" \",\" \",\" \",\" \",\" \",\" \",\" \",\" \",\" \",\" \",\" \",\" \",\" \",\" \",\" \",\" \",\" \",\" \",\" \",\" \",\" \",\" \",\" \",\" \",\" \",\" \",\" \",\" \",\" \",\" \",\" \",\" \",\" \",\" \",\" \",\" \",\" \",\" \",\" \",\" \",\" \",\" \",\" \",\" \",\" \",\" \",\" \",\" \",\" \",\" \",\" \",\" \",\" \",\" \",\" \",\" \",\" \",\" \",\" \",\" \",\" \",\" \",\" \",\" \",\" \",\" \",\" \",\" \",\" \",\" \",\" \",\" \",\" \",\" \",\" \",\" \",\" \",\" \",\" \",\" \",\" \",\" \",\" \",\" \",\" \",\" \",\" \",\" \",\" \",\" \",\" \",\" \",\" \",\" \",\" \",\" \",\" \",\" \",\" \",\" \",\" \",\" \",\" \",\" \",\" \",\" \",\" \",\" \",\" \",\" \",\" \",\" \",\" \",\" \",\" \",\" \",\" \",\" \",\" \",\" \",\" \",\" \",\" \",\" \",\" \",\" \",\" \",\" \",\" \",\" \",\" \",\" \",\" \",\" \",\" \",\" \",\" \",\" \",\" \",\" \",\" \",\" \",\" \",\" \",\" \",\" \",\" \",\" \",\" \",\" \",\" \",\" \",\" \",\" \",\" \",\" \",\" \",\" \",\" \",\" \",\" \",\" \",\" \",\" \",\" \",\" \",\" \",\" \",\" \",\" \",\" \",\" \",\" \",\" \",\" \",\" \",\" \",\" \",\" \",\" \",\" \",\" \",\" \",\" \",\" \",\" \",\" \",\" \",\" \",\" \",\" \",\" \",\" \",\" \",\" \",\" \",\" \",\" \",\" \",\" \",\" \",\" \",\" \",\" \",\" \",\" \",\" \",\" \",\" \",\" \",\" \",\" \",\" \",\" \",\" \",\" \",\" \",\" \",\" \",\" \",\" \",\" \",\" \",\" \",\" \",\" \",\" \",\" \",\" \",\" \",\" \",\" \",\" \",\" \",\" \",\" \",\" \",\" \",\" \",\" \",\" \",\" \",\" \",\" \",\" \",\" \",\" \",\" \",\" \",\" \",\" \",\" \",\" \",\" \",\" \",\" \",\" \",\" \",\" \",\" \",\" \",\" \",\" \",\" \",\" \",\" \",\" \",\" \",\" \",\" \",\" \",\" \",\" \",\" \",\" \",\" \",\" \",\" \",\" \",\" \",\" \",\" \",\" \",\" \",\" \",\" \",\" \",\" \",\" \",\" \",\" \",\" \",\" \",\" \",\" \",\" \",\" \",\" \",\" \",\" \",\" \",\" \",\" \",\" \",\" \",\" \",\" \",\" \",\" \",\" \",\" \",\" \",\" \",\" \",\" \",\" \",\" \",\" \",\" \",\" \",\" \",\" \",\" \",\" \",\" \",\" \",\" \",\" \",\" \",\" \",\" \",\" \",\" \",\" \",\" \",\" \",\" \",\" \",\" \",\" \",\" \",\" \",\" \",\" \",\" \",\" \",\" \",\" \",\" \",\" \",\" \",\" \",\" \",\" \",\" \",\" \",\" \",\" \",\" \",\" \",\" \",\" \",\" \",\" \",\" \",\" \",\" \",\" \",\" \",\" \",\" \",\" \",\" \",\" \",\" \",\" \",\" \",\" \",\" \",\" \",\" \",\" \",\" \",\" \",\" \",\" \",\" \",\" \",\" \",\" \",\" \",\" \",\" \",\" \",\" \",\" \",\" \",\" \",\" \",\" \",\" \",\" \",\" \",\" \",\" \",\" \",\" \",\" \",\" \",\" \",\" \",\" \",\" \",\" \",\" \",\" \",\" \",\" \",\" \",\" \",\" \",\" \",\" \",\" \",\" \",\" \",\" \",\" \",\" \",\" \",\" \",\" \",\" \",\" \",\" \",\" \",\" \",\" \",\" \",\" \",\" \",\" \",\" \",\" \",\" \",\" \",\" \",\" \",\" \",\" \",\" \",\" \",\" \",\" \",\" \",\" \",\" \",\" \",\" \",\" \",\" \",\" \",\" \",\" \",\" \",\" \",\" \",\" \",\" \",\" \",\" \",\" \",\" \",\" \",\" \",\" \",\" \",\" \",\" \",\" \",\" \",\" \",\" \",\" \",\" \",\" \",\" \",\" \",\" \",\" \",\" \",\" \",\" \",\" \",\" \",\" \",\" \",\" \",\" \",\" \",\" \",\" \",\" \",\" \",\" \",\" \",\" \",\" \",\" \",\" \",\" \",\" \",\" \"],\"index\":[0,1,2,3,4,5,6,7,8,9,10,11,12,13,14,15,16,17,18,19,20,21,22,23,24,25,26,27,28,29,30,31,32,33,34,35,36,37,38,39,40,41,42,43,44,45,46,47,48,49,50,51,52,53,54,55,56,57,58,59,60,61,62,63,64,65,66,67,68,69,70,71,72,73,74,75,76,77,78,79,80,81,82,83,84,85,86,87,88,89,90,91,92,93,94,95,96,97,98,99,100,101,102,103,104,105,106,107,108,109,110,111,112,113,114,115,116,117,118,119,120,121,122,123,124,125,126,127,128,129,130,131,132,133,134,135,136,137,138,139,140,141,142,143,144,145,146,147,148,149,150,151,152,153,154,155,156,157,158,159,160,161,162,163,164,165,166,167,168,169,170,171,172,173,174,175,176,177,178,179,180,181,182,183,184,185,186,187,188,189,190,191,192,193,194,195,196,197,198,199,200,201,202,203,204,205,206,207,208,209,210,211,212,213,214,215,216,217,218,219,220,221,222,223,224,225,226,227,228,229,230,231,232,233,234,235,236,237,238,239,240,241,242,243,244,245,246,247,248,249,250,251,252,253,254,255,256,257,258,259,260,261,262,263,264,265,266,267,268,269,270,271,272,273,274,275,276,277,278,279,280,281,282,283,284,285,286,287,288,289,290,291,292,293,294,295,296,297,298,299,300,301,302,303,304,305,306,307,308,309,310,311,312,313,314,315,316,317,318,319,320,321,322,323,324,325,326,327,328,329,330,331,332,333,334,335,336,337,338,339,340,341,342,343,344,345,346,347,348,349,350,351,352,353,354,355,356,357,358,359,360,361,362,363,364,365,366,367,368,369,370,371,372,373,374,375,376,377,378,379,380,381,382,383,384,385,386,387,388,389,390,391,392,393,394,395,396,397,398,399,400,401,402,403,404,405,406,407,408,409,410,411,412,413,414,415,416,417,418,419,420,421,422,423,424,425,426,427,428,429,430,431,432,433,434,435,436,437,438,439,440,441,442,443,444,445,446,447,448,449,450,451,452,453,454,455,456,457,458,459,460,461,462,463,464,465,466,467,468,469,470,471,472,473,474,475,476,477,478,479,480,481,482,483,484,485,486,487,488,489,490,491,492,493,494,495,496,497,498,499,500,501,502,503,504,505,506,507,508,509,510,511,512,513,514,515,516,517,518,519,520,521,522,523,524,525,526,527,528,529,530,531,532,533,534,535,536,537,538,539,540,541,542,543,544,545,546,547,548,549,550,551,552,553,554,555,556,557,558,559,560,561,562,563,564,565,566,567,568,569,570,571,572,573,574,575,576,577,578,579,580,581,582,583,584,585,586,587,588,589,590,591,592,593,594,595,596,597,598,599,600,601,602,603,604,605,606,607,608,609,610,611,612,613,614,615,616,617,618,619,620,621,622,623,624,625,626,627,628,629,630,631,632,633,634,635,636,637,638,639,640,641,642,643,644,645,646,647,648,649,650,651,652,653,654,655,656,657,658,659,660,661,662,663,664,665,666,667,668,669,670,671,672,673,674,675,676,677,678,679,680,681,682,683,684,685,686,687,688,689,690,691,692,693,694,695,696,697,698,699,700,701,702,703,704,705,706,707,708,709,710,711,712,713,714,715,716,717,718,719,720,721,722,723,724,725,726,727,728,729,730,731,732,733,734,735,736,737,738,739,740,741,742,743,744,745,746,747,748,749,750,751,752,753,754,755,756,757,758,759,760,761,762,763,764,765,766,767,768,769,770,771,772,773,774,775,776,777,778,779,780,781,782,783,784,785,786,787,788,789,790,791,792,793,794,795,796,797,798,799,800,801,802,803,804,805,806,807,808,809,810,811,812,813,814,815,816,817,818,819,820,821,822,823,824,825,826,827,828,829,830,831,832,833,834,835,836,837,838,839,840,841,842,843,844,845,846,847,848,849,850,851,852,853,854,855,856,857,858,859,860,861,862,863,864,865,866,867,868,869,870,871,872,873,874,875,876,877,878,879,880,881,882,883,884,885,886,887,888,889,890,891,892,893,894,895,896,897,898,899,900,901,902,903,904,905,906,907,908,909,910,911,912,913,914,915,916,917,918,919,920,921,922,923,924,925,926,927,928,929,930,931,932,933,934,935,936,937,938,939,940,941,942,943,944,945,946,947,948,949,950,951,952,953,954,955,956,957,958,959,960,961,962,963,964,965,966,967,968,969,970,971,972,973,974,975,976,977,978,979,980,981,982,983,984,985,986,987,988,989,990,991,992,993,994,995,996,997,998,999],\"x\":{\"__ndarray__\":\"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\",\"dtype\":\"float64\",\"shape\":[1000]}},\"selected\":{\"id\":\"1360\",\"type\":\"Selection\"},\"selection_policy\":{\"id\":\"1359\",\"type\":\"UnionRenderers\"}},\"id\":\"1311\",\"type\":\"ColumnDataSource\"},{\"attributes\":{},\"id\":\"1289\",\"type\":\"BasicTicker\"},{\"attributes\":{},\"id\":\"1286\",\"type\":\"LinearScale\"},{\"attributes\":{\"ticker\":{\"id\":\"1289\",\"type\":\"BasicTicker\"}},\"id\":\"1292\",\"type\":\"Grid\"},{\"attributes\":{\"fill_color\":{\"value\":null},\"line_color\":{\"value\":\"#4e79a7\"},\"x\":{\"field\":\"x\"},\"y\":{\"field\":\"__ECDF\"}},\"id\":\"1313\",\"type\":\"Circle\"}],\"root_ids\":[\"1279\"]},\"title\":\"Bokeh Application\",\"version\":\"1.2.0\"}};\n",
       "  var render_items = [{\"docid\":\"5ae4be63-8155-4fd8-af1b-67bd12c9c77c\",\"roots\":{\"1279\":\"4335c2b2-c803-48ef-8fbf-12f8e34f9286\"}}];\n",
       "  root.Bokeh.embed.embed_items_notebook(docs_json, render_items);\n",
       "\n",
       "  }\n",
       "  if (root.Bokeh !== undefined) {\n",
       "    embed_document(root);\n",
       "  } else {\n",
       "    var attempts = 0;\n",
       "    var timer = setInterval(function(root) {\n",
       "      if (root.Bokeh !== undefined) {\n",
       "        embed_document(root);\n",
       "        clearInterval(timer);\n",
       "      }\n",
       "      attempts++;\n",
       "      if (attempts > 100) {\n",
       "        console.log(\"Bokeh: ERROR: Unable to run BokehJS code because BokehJS library is missing\");\n",
       "        clearInterval(timer);\n",
       "      }\n",
       "    }, 10, root)\n",
       "  }\n",
       "})(window);"
      ],
      "application/vnd.bokehjs_exec.v0+json": ""
     },
     "metadata": {
      "application/vnd.bokehjs_exec.v0+json": {
       "id": "1279"
      }
     },
     "output_type": "display_data"
    }
   ],
   "source": [
    "# Compute theoretical CDF\n",
    "x_theor = np.linspace(6, 14, 400)\n",
    "y_theor = scipy.stats.norm.cdf(x_theor, mu, sigma)\n",
    "\n",
    "# Plot the ECDF of randomly generated numbers\n",
    "p = bokeh_catplot.ecdf(\n",
    "    data=pd.DataFrame({'x': x[:1000]}),\n",
    "    cats=None,\n",
    "    val='x',\n",
    "    marker_kwargs={\"fill_color\": None},\n",
    ")\n",
    "\n",
    "p.line(\n",
    "    x=x_theor,\n",
    "    y=y_theor,\n",
    "    line_width=2,\n",
    "    line_color='orange',\n",
    ")\n",
    "\n",
    "bokeh.io.show(p)"
   ]
  },
  {
   "cell_type": "markdown",
   "metadata": {},
   "source": [
    "Yup, right on!"
   ]
  },
  {
   "cell_type": "markdown",
   "metadata": {},
   "source": [
    "## Selections from discrete distributions\n",
    "\n",
    "The random numbers we have generated so far from from continuous probability distributions.  We can also draw random numbers from discrete distributions.  We already showed how we can do this for \"coin flips,\" but we can do it for other distributions as well. Say we wanted to draw from a Binomial distribution. We can use `np.random.binomial()`."
   ]
  },
  {
   "cell_type": "code",
   "execution_count": 10,
   "metadata": {},
   "outputs": [
    {
     "data": {
      "text/plain": [
       "7"
      ]
     },
     "execution_count": 10,
     "metadata": {},
     "output_type": "execute_result"
    }
   ],
   "source": [
    "# Draw how many coin flips land heads in 10 files\n",
    "np.random.binomial(10, 0.5)"
   ]
  },
  {
   "cell_type": "markdown",
   "metadata": {},
   "source": [
    "There are other discrete distributions we can draw from, such as Binomial, Geometric, Poisson, etc., and [the documentation](http://docs.scipy.org/doc/numpy/reference/routines.random.html) describes how to use them."
   ]
  },
  {
   "cell_type": "markdown",
   "metadata": {},
   "source": [
    "## Choosing elements from an array\n",
    "\n",
    "It is often useful to randomly choose elements from an existing array.  The `np.random.choice()` function does this.  You equivalently could do this using `np.random.randint()`, where the integers represent indices in the array, *except* `np.random.choice()` has a great keyword argument, `replace`, which allows random draws with or without replacement. For example, say you had 100 samples that you wanted to send to a facility for analysis, but you can only afford to send 20. If we used `np.random.randint()`, we might have a problem."
   ]
  },
  {
   "cell_type": "code",
   "execution_count": 11,
   "metadata": {},
   "outputs": [
    {
     "data": {
      "text/plain": [
       "array([38, 28, 14, 42,  7, 20, 38, 18, 22, 10, 10, 23, 35, 39, 23,  2, 21,\n",
       "        1, 23, 43])"
      ]
     },
     "execution_count": 11,
     "metadata": {},
     "output_type": "execute_result"
    }
   ],
   "source": [
    "np.random.seed(42)\n",
    "np.random.randint(0, 51, size=20)"
   ]
  },
  {
   "cell_type": "markdown",
   "metadata": {},
   "source": [
    "Sample 10 was selected twice and sample 23 was selected thrice!  We can use `np.random.choice()` instead."
   ]
  },
  {
   "cell_type": "code",
   "execution_count": 12,
   "metadata": {},
   "outputs": [
    {
     "data": {
      "text/plain": [
       "array([50, 22, 30, 16,  4, 10,  9, 41,  5, 12, 39, 18, 23, 31,  0, 28, 49,\n",
       "       44,  7, 45])"
      ]
     },
     "execution_count": 12,
     "metadata": {},
     "output_type": "execute_result"
    }
   ],
   "source": [
    "np.random.choice(np.arange(51), size=20, replace=False)"
   ]
  },
  {
   "cell_type": "markdown",
   "metadata": {},
   "source": [
    "Now, because we chose `replace=False`, we do not get any repeats."
   ]
  },
  {
   "cell_type": "markdown",
   "metadata": {},
   "source": [
    "### Generating random sequences\n",
    "\n",
    "Because it works with selecting characters as well as numbers, we can use the `np.random.choice()` function to generate random DNA sequences."
   ]
  },
  {
   "cell_type": "code",
   "execution_count": 13,
   "metadata": {},
   "outputs": [
    {
     "data": {
      "text/plain": [
       "'CTTTCTGCGCTGCATCACATGACTACCCAAAGAAAGACACCCGGGACGGAGATGTACGACCTACGGTCAG'"
      ]
     },
     "execution_count": 13,
     "metadata": {},
     "output_type": "execute_result"
    }
   ],
   "source": [
    "''.join(np.random.choice(list('ATGC'), replace=True, size=70))"
   ]
  },
  {
   "cell_type": "markdown",
   "metadata": {},
   "source": [
    "## Shuffling an array\n",
    "\n",
    "Similarly, the `np.random.permutation()` function is useful. It takes the entries in an array and shuffles them! Let's shuffle a deck of cards."
   ]
  },
  {
   "cell_type": "code",
   "execution_count": 14,
   "metadata": {},
   "outputs": [
    {
     "data": {
      "text/plain": [
       "array([28, 52,  7, 11, 50, 20, 42, 15, 17, 27,  5, 33, 45, 51, 31,  9,  1,\n",
       "       23, 24, 37, 10, 46, 32, 29, 22, 41,  3, 19, 16,  6, 30, 18, 12, 40,\n",
       "       35, 14,  8, 49, 38, 44, 25,  4, 47,  2, 13, 36, 48,  0, 34, 26, 21,\n",
       "       39, 43])"
      ]
     },
     "execution_count": 14,
     "metadata": {},
     "output_type": "execute_result"
    }
   ],
   "source": [
    "np.random.permutation(np.arange(53))"
   ]
  },
  {
   "cell_type": "markdown",
   "metadata": {},
   "source": [
    "## When do we need RNG?\n",
    "\n",
    "Answer: VERY OFTEN!  We will see many examples in the next lessons and in the exercises.  \n",
    "\n",
    "In many ways, probability is the language of biology. Molecular processes have energetics that are comparable to the thermal energy, which means they are always influenced by random thermal forces. The processes of the central dogma, including DNA replication, are no exceptions. This gives rise to random mutations, which are central to understanding how evolution works. If we want to understand them, it is often useful to use random number generators to model the processes.\n",
    "\n",
    "RNG also comes up A LOT in data analysis, which we will see in the [lesson on hacker stats](l30_hackerstats.html)."
   ]
  },
  {
   "cell_type": "markdown",
   "metadata": {},
   "source": [
    "## Computing environment"
   ]
  },
  {
   "cell_type": "code",
   "execution_count": 15,
   "metadata": {},
   "outputs": [
    {
     "name": "stdout",
     "output_type": "stream",
     "text": [
      "CPython 3.7.3\n",
      "IPython 7.1.1\n",
      "\n",
      "numpy 1.16.4\n",
      "scipy 1.2.1\n",
      "pandas 0.24.2\n",
      "bokeh 1.2.0\n",
      "bokeh_catplot 0.1.2\n",
      "jupyterlab 0.35.5\n"
     ]
    }
   ],
   "source": [
    "%load_ext watermark\n",
    "%watermark -v -p numpy,scipy,pandas,bokeh,bokeh_catplot,jupyterlab"
   ]
  }
 ],
 "metadata": {
  "anaconda-cloud": {},
  "kernelspec": {
   "display_name": "Python 3",
   "language": "python",
   "name": "python3"
  },
  "language_info": {
   "codemirror_mode": {
    "name": "ipython",
    "version": 3
   },
   "file_extension": ".py",
   "mimetype": "text/x-python",
   "name": "python",
   "nbconvert_exporter": "python",
   "pygments_lexer": "ipython3",
   "version": "3.7.3"
  }
 },
 "nbformat": 4,
 "nbformat_minor": 2
}
