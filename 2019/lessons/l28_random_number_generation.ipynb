{
 "cells": [
  {
   "cell_type": "markdown",
   "metadata": {},
   "source": [
    "# Lesson 28: Random number generation\n",
    "\n",
    "(c) 2019 Justin Bois. With the exception of pasted graphics, where the source is noted, this work is licensed under a [Creative Commons Attribution License CC-BY 4.0](https://creativecommons.org/licenses/by/4.0/). All code contained herein is licensed under an [MIT license](https://opensource.org/licenses/MIT).\n",
    "\n",
    "This document was prepared at [Caltech](http://www.caltech.edu) with financial support from the [Donna and Benjamin M. Rosen Bioengineering Center](http://rosen.caltech.edu).\n",
    "\n",
    "<img src=\"caltech_rosen.png\">\n",
    "\n",
    "*This tutorial was generated from a Jupyter notebook.  You can download the notebook [here](l28_random_number_generation.ipynb).*\n",
    "\n",
    "<hr />"
   ]
  },
  {
   "cell_type": "code",
   "execution_count": 1,
   "metadata": {
    "collapsed": true
   },
   "outputs": [
    {
     "data": {
      "text/html": [
       "\n",
       "    <div class=\"bk-root\">\n",
       "        <a href=\"https://bokeh.pydata.org\" target=\"_blank\" class=\"bk-logo bk-logo-small bk-logo-notebook\"></a>\n",
       "        <span id=\"1001\">Loading BokehJS ...</span>\n",
       "    </div>"
      ]
     },
     "metadata": {},
     "output_type": "display_data"
    },
    {
     "data": {
      "application/javascript": [
       "\n",
       "(function(root) {\n",
       "  function now() {\n",
       "    return new Date();\n",
       "  }\n",
       "\n",
       "  var force = true;\n",
       "\n",
       "  if (typeof root._bokeh_onload_callbacks === \"undefined\" || force === true) {\n",
       "    root._bokeh_onload_callbacks = [];\n",
       "    root._bokeh_is_loading = undefined;\n",
       "  }\n",
       "\n",
       "  var JS_MIME_TYPE = 'application/javascript';\n",
       "  var HTML_MIME_TYPE = 'text/html';\n",
       "  var EXEC_MIME_TYPE = 'application/vnd.bokehjs_exec.v0+json';\n",
       "  var CLASS_NAME = 'output_bokeh rendered_html';\n",
       "\n",
       "  /**\n",
       "   * Render data to the DOM node\n",
       "   */\n",
       "  function render(props, node) {\n",
       "    var script = document.createElement(\"script\");\n",
       "    node.appendChild(script);\n",
       "  }\n",
       "\n",
       "  /**\n",
       "   * Handle when an output is cleared or removed\n",
       "   */\n",
       "  function handleClearOutput(event, handle) {\n",
       "    var cell = handle.cell;\n",
       "\n",
       "    var id = cell.output_area._bokeh_element_id;\n",
       "    var server_id = cell.output_area._bokeh_server_id;\n",
       "    // Clean up Bokeh references\n",
       "    if (id != null && id in Bokeh.index) {\n",
       "      Bokeh.index[id].model.document.clear();\n",
       "      delete Bokeh.index[id];\n",
       "    }\n",
       "\n",
       "    if (server_id !== undefined) {\n",
       "      // Clean up Bokeh references\n",
       "      var cmd = \"from bokeh.io.state import curstate; print(curstate().uuid_to_server['\" + server_id + \"'].get_sessions()[0].document.roots[0]._id)\";\n",
       "      cell.notebook.kernel.execute(cmd, {\n",
       "        iopub: {\n",
       "          output: function(msg) {\n",
       "            var id = msg.content.text.trim();\n",
       "            if (id in Bokeh.index) {\n",
       "              Bokeh.index[id].model.document.clear();\n",
       "              delete Bokeh.index[id];\n",
       "            }\n",
       "          }\n",
       "        }\n",
       "      });\n",
       "      // Destroy server and session\n",
       "      var cmd = \"import bokeh.io.notebook as ion; ion.destroy_server('\" + server_id + \"')\";\n",
       "      cell.notebook.kernel.execute(cmd);\n",
       "    }\n",
       "  }\n",
       "\n",
       "  /**\n",
       "   * Handle when a new output is added\n",
       "   */\n",
       "  function handleAddOutput(event, handle) {\n",
       "    var output_area = handle.output_area;\n",
       "    var output = handle.output;\n",
       "\n",
       "    // limit handleAddOutput to display_data with EXEC_MIME_TYPE content only\n",
       "    if ((output.output_type != \"display_data\") || (!output.data.hasOwnProperty(EXEC_MIME_TYPE))) {\n",
       "      return\n",
       "    }\n",
       "\n",
       "    var toinsert = output_area.element.find(\".\" + CLASS_NAME.split(' ')[0]);\n",
       "\n",
       "    if (output.metadata[EXEC_MIME_TYPE][\"id\"] !== undefined) {\n",
       "      toinsert[toinsert.length - 1].firstChild.textContent = output.data[JS_MIME_TYPE];\n",
       "      // store reference to embed id on output_area\n",
       "      output_area._bokeh_element_id = output.metadata[EXEC_MIME_TYPE][\"id\"];\n",
       "    }\n",
       "    if (output.metadata[EXEC_MIME_TYPE][\"server_id\"] !== undefined) {\n",
       "      var bk_div = document.createElement(\"div\");\n",
       "      bk_div.innerHTML = output.data[HTML_MIME_TYPE];\n",
       "      var script_attrs = bk_div.children[0].attributes;\n",
       "      for (var i = 0; i < script_attrs.length; i++) {\n",
       "        toinsert[toinsert.length - 1].firstChild.setAttribute(script_attrs[i].name, script_attrs[i].value);\n",
       "      }\n",
       "      // store reference to server id on output_area\n",
       "      output_area._bokeh_server_id = output.metadata[EXEC_MIME_TYPE][\"server_id\"];\n",
       "    }\n",
       "  }\n",
       "\n",
       "  function register_renderer(events, OutputArea) {\n",
       "\n",
       "    function append_mime(data, metadata, element) {\n",
       "      // create a DOM node to render to\n",
       "      var toinsert = this.create_output_subarea(\n",
       "        metadata,\n",
       "        CLASS_NAME,\n",
       "        EXEC_MIME_TYPE\n",
       "      );\n",
       "      this.keyboard_manager.register_events(toinsert);\n",
       "      // Render to node\n",
       "      var props = {data: data, metadata: metadata[EXEC_MIME_TYPE]};\n",
       "      render(props, toinsert[toinsert.length - 1]);\n",
       "      element.append(toinsert);\n",
       "      return toinsert\n",
       "    }\n",
       "\n",
       "    /* Handle when an output is cleared or removed */\n",
       "    events.on('clear_output.CodeCell', handleClearOutput);\n",
       "    events.on('delete.Cell', handleClearOutput);\n",
       "\n",
       "    /* Handle when a new output is added */\n",
       "    events.on('output_added.OutputArea', handleAddOutput);\n",
       "\n",
       "    /**\n",
       "     * Register the mime type and append_mime function with output_area\n",
       "     */\n",
       "    OutputArea.prototype.register_mime_type(EXEC_MIME_TYPE, append_mime, {\n",
       "      /* Is output safe? */\n",
       "      safe: true,\n",
       "      /* Index of renderer in `output_area.display_order` */\n",
       "      index: 0\n",
       "    });\n",
       "  }\n",
       "\n",
       "  // register the mime type if in Jupyter Notebook environment and previously unregistered\n",
       "  if (root.Jupyter !== undefined) {\n",
       "    var events = require('base/js/events');\n",
       "    var OutputArea = require('notebook/js/outputarea').OutputArea;\n",
       "\n",
       "    if (OutputArea.prototype.mime_types().indexOf(EXEC_MIME_TYPE) == -1) {\n",
       "      register_renderer(events, OutputArea);\n",
       "    }\n",
       "  }\n",
       "\n",
       "  \n",
       "  if (typeof (root._bokeh_timeout) === \"undefined\" || force === true) {\n",
       "    root._bokeh_timeout = Date.now() + 5000;\n",
       "    root._bokeh_failed_load = false;\n",
       "  }\n",
       "\n",
       "  var NB_LOAD_WARNING = {'data': {'text/html':\n",
       "     \"<div style='background-color: #fdd'>\\n\"+\n",
       "     \"<p>\\n\"+\n",
       "     \"BokehJS does not appear to have successfully loaded. If loading BokehJS from CDN, this \\n\"+\n",
       "     \"may be due to a slow or bad network connection. Possible fixes:\\n\"+\n",
       "     \"</p>\\n\"+\n",
       "     \"<ul>\\n\"+\n",
       "     \"<li>re-rerun `output_notebook()` to attempt to load from CDN again, or</li>\\n\"+\n",
       "     \"<li>use INLINE resources instead, as so:</li>\\n\"+\n",
       "     \"</ul>\\n\"+\n",
       "     \"<code>\\n\"+\n",
       "     \"from bokeh.resources import INLINE\\n\"+\n",
       "     \"output_notebook(resources=INLINE)\\n\"+\n",
       "     \"</code>\\n\"+\n",
       "     \"</div>\"}};\n",
       "\n",
       "  function display_loaded() {\n",
       "    var el = document.getElementById(\"1001\");\n",
       "    if (el != null) {\n",
       "      el.textContent = \"BokehJS is loading...\";\n",
       "    }\n",
       "    if (root.Bokeh !== undefined) {\n",
       "      if (el != null) {\n",
       "        el.textContent = \"BokehJS \" + root.Bokeh.version + \" successfully loaded.\";\n",
       "      }\n",
       "    } else if (Date.now() < root._bokeh_timeout) {\n",
       "      setTimeout(display_loaded, 100)\n",
       "    }\n",
       "  }\n",
       "\n",
       "\n",
       "  function run_callbacks() {\n",
       "    try {\n",
       "      root._bokeh_onload_callbacks.forEach(function(callback) {\n",
       "        if (callback != null)\n",
       "          callback();\n",
       "      });\n",
       "    } finally {\n",
       "      delete root._bokeh_onload_callbacks\n",
       "    }\n",
       "    console.debug(\"Bokeh: all callbacks have finished\");\n",
       "  }\n",
       "\n",
       "  function load_libs(css_urls, js_urls, callback) {\n",
       "    if (css_urls == null) css_urls = [];\n",
       "    if (js_urls == null) js_urls = [];\n",
       "\n",
       "    root._bokeh_onload_callbacks.push(callback);\n",
       "    if (root._bokeh_is_loading > 0) {\n",
       "      console.debug(\"Bokeh: BokehJS is being loaded, scheduling callback at\", now());\n",
       "      return null;\n",
       "    }\n",
       "    if (js_urls == null || js_urls.length === 0) {\n",
       "      run_callbacks();\n",
       "      return null;\n",
       "    }\n",
       "    console.debug(\"Bokeh: BokehJS not loaded, scheduling load and callback at\", now());\n",
       "    root._bokeh_is_loading = css_urls.length + js_urls.length;\n",
       "\n",
       "    function on_load() {\n",
       "      root._bokeh_is_loading--;\n",
       "      if (root._bokeh_is_loading === 0) {\n",
       "        console.debug(\"Bokeh: all BokehJS libraries/stylesheets loaded\");\n",
       "        run_callbacks()\n",
       "      }\n",
       "    }\n",
       "\n",
       "    function on_error() {\n",
       "      console.error(\"failed to load \" + url);\n",
       "    }\n",
       "\n",
       "    for (var i = 0; i < css_urls.length; i++) {\n",
       "      var url = css_urls[i];\n",
       "      const element = document.createElement(\"link\");\n",
       "      element.onload = on_load;\n",
       "      element.onerror = on_error;\n",
       "      element.rel = \"stylesheet\";\n",
       "      element.type = \"text/css\";\n",
       "      element.href = url;\n",
       "      console.debug(\"Bokeh: injecting link tag for BokehJS stylesheet: \", url);\n",
       "      document.body.appendChild(element);\n",
       "    }\n",
       "\n",
       "    for (var i = 0; i < js_urls.length; i++) {\n",
       "      var url = js_urls[i];\n",
       "      var element = document.createElement('script');\n",
       "      element.onload = on_load;\n",
       "      element.onerror = on_error;\n",
       "      element.async = false;\n",
       "      element.src = url;\n",
       "      console.debug(\"Bokeh: injecting script tag for BokehJS library: \", url);\n",
       "      document.head.appendChild(element);\n",
       "    }\n",
       "  };var element = document.getElementById(\"1001\");\n",
       "  if (element == null) {\n",
       "    console.error(\"Bokeh: ERROR: autoload.js configured with elementid '1001' but no matching script tag was found. \")\n",
       "    return false;\n",
       "  }\n",
       "\n",
       "  function inject_raw_css(css) {\n",
       "    const element = document.createElement(\"style\");\n",
       "    element.appendChild(document.createTextNode(css));\n",
       "    document.body.appendChild(element);\n",
       "  }\n",
       "\n",
       "  var js_urls = [\"https://cdn.pydata.org/bokeh/release/bokeh-1.2.0.min.js\", \"https://cdn.pydata.org/bokeh/release/bokeh-widgets-1.2.0.min.js\", \"https://cdn.pydata.org/bokeh/release/bokeh-tables-1.2.0.min.js\", \"https://cdn.pydata.org/bokeh/release/bokeh-gl-1.2.0.min.js\"];\n",
       "  var css_urls = [\"https://cdn.pydata.org/bokeh/release/bokeh-1.2.0.min.css\", \"https://cdn.pydata.org/bokeh/release/bokeh-widgets-1.2.0.min.css\", \"https://cdn.pydata.org/bokeh/release/bokeh-tables-1.2.0.min.css\"];\n",
       "\n",
       "  var inline_js = [\n",
       "    function(Bokeh) {\n",
       "      Bokeh.set_log_level(\"info\");\n",
       "    },\n",
       "    \n",
       "    function(Bokeh) {\n",
       "      \n",
       "    },\n",
       "    function(Bokeh) {} // ensure no trailing comma for IE\n",
       "  ];\n",
       "\n",
       "  function run_inline_js() {\n",
       "    \n",
       "    if ((root.Bokeh !== undefined) || (force === true)) {\n",
       "      for (var i = 0; i < inline_js.length; i++) {\n",
       "        inline_js[i].call(root, root.Bokeh);\n",
       "      }if (force === true) {\n",
       "        display_loaded();\n",
       "      }} else if (Date.now() < root._bokeh_timeout) {\n",
       "      setTimeout(run_inline_js, 100);\n",
       "    } else if (!root._bokeh_failed_load) {\n",
       "      console.log(\"Bokeh: BokehJS failed to load within specified timeout.\");\n",
       "      root._bokeh_failed_load = true;\n",
       "    } else if (force !== true) {\n",
       "      var cell = $(document.getElementById(\"1001\")).parents('.cell').data().cell;\n",
       "      cell.output_area.append_execute_result(NB_LOAD_WARNING)\n",
       "    }\n",
       "\n",
       "  }\n",
       "\n",
       "  if (root._bokeh_is_loading === 0) {\n",
       "    console.debug(\"Bokeh: BokehJS loaded, going straight to plotting\");\n",
       "    run_inline_js();\n",
       "  } else {\n",
       "    load_libs(css_urls, js_urls, function() {\n",
       "      console.debug(\"Bokeh: BokehJS plotting callback run at\", now());\n",
       "      run_inline_js();\n",
       "    });\n",
       "  }\n",
       "}(window));"
      ],
      "application/vnd.bokehjs_load.v0+json": "\n(function(root) {\n  function now() {\n    return new Date();\n  }\n\n  var force = true;\n\n  if (typeof root._bokeh_onload_callbacks === \"undefined\" || force === true) {\n    root._bokeh_onload_callbacks = [];\n    root._bokeh_is_loading = undefined;\n  }\n\n  \n\n  \n  if (typeof (root._bokeh_timeout) === \"undefined\" || force === true) {\n    root._bokeh_timeout = Date.now() + 5000;\n    root._bokeh_failed_load = false;\n  }\n\n  var NB_LOAD_WARNING = {'data': {'text/html':\n     \"<div style='background-color: #fdd'>\\n\"+\n     \"<p>\\n\"+\n     \"BokehJS does not appear to have successfully loaded. If loading BokehJS from CDN, this \\n\"+\n     \"may be due to a slow or bad network connection. Possible fixes:\\n\"+\n     \"</p>\\n\"+\n     \"<ul>\\n\"+\n     \"<li>re-rerun `output_notebook()` to attempt to load from CDN again, or</li>\\n\"+\n     \"<li>use INLINE resources instead, as so:</li>\\n\"+\n     \"</ul>\\n\"+\n     \"<code>\\n\"+\n     \"from bokeh.resources import INLINE\\n\"+\n     \"output_notebook(resources=INLINE)\\n\"+\n     \"</code>\\n\"+\n     \"</div>\"}};\n\n  function display_loaded() {\n    var el = document.getElementById(\"1001\");\n    if (el != null) {\n      el.textContent = \"BokehJS is loading...\";\n    }\n    if (root.Bokeh !== undefined) {\n      if (el != null) {\n        el.textContent = \"BokehJS \" + root.Bokeh.version + \" successfully loaded.\";\n      }\n    } else if (Date.now() < root._bokeh_timeout) {\n      setTimeout(display_loaded, 100)\n    }\n  }\n\n\n  function run_callbacks() {\n    try {\n      root._bokeh_onload_callbacks.forEach(function(callback) {\n        if (callback != null)\n          callback();\n      });\n    } finally {\n      delete root._bokeh_onload_callbacks\n    }\n    console.debug(\"Bokeh: all callbacks have finished\");\n  }\n\n  function load_libs(css_urls, js_urls, callback) {\n    if (css_urls == null) css_urls = [];\n    if (js_urls == null) js_urls = [];\n\n    root._bokeh_onload_callbacks.push(callback);\n    if (root._bokeh_is_loading > 0) {\n      console.debug(\"Bokeh: BokehJS is being loaded, scheduling callback at\", now());\n      return null;\n    }\n    if (js_urls == null || js_urls.length === 0) {\n      run_callbacks();\n      return null;\n    }\n    console.debug(\"Bokeh: BokehJS not loaded, scheduling load and callback at\", now());\n    root._bokeh_is_loading = css_urls.length + js_urls.length;\n\n    function on_load() {\n      root._bokeh_is_loading--;\n      if (root._bokeh_is_loading === 0) {\n        console.debug(\"Bokeh: all BokehJS libraries/stylesheets loaded\");\n        run_callbacks()\n      }\n    }\n\n    function on_error() {\n      console.error(\"failed to load \" + url);\n    }\n\n    for (var i = 0; i < css_urls.length; i++) {\n      var url = css_urls[i];\n      const element = document.createElement(\"link\");\n      element.onload = on_load;\n      element.onerror = on_error;\n      element.rel = \"stylesheet\";\n      element.type = \"text/css\";\n      element.href = url;\n      console.debug(\"Bokeh: injecting link tag for BokehJS stylesheet: \", url);\n      document.body.appendChild(element);\n    }\n\n    for (var i = 0; i < js_urls.length; i++) {\n      var url = js_urls[i];\n      var element = document.createElement('script');\n      element.onload = on_load;\n      element.onerror = on_error;\n      element.async = false;\n      element.src = url;\n      console.debug(\"Bokeh: injecting script tag for BokehJS library: \", url);\n      document.head.appendChild(element);\n    }\n  };var element = document.getElementById(\"1001\");\n  if (element == null) {\n    console.error(\"Bokeh: ERROR: autoload.js configured with elementid '1001' but no matching script tag was found. \")\n    return false;\n  }\n\n  function inject_raw_css(css) {\n    const element = document.createElement(\"style\");\n    element.appendChild(document.createTextNode(css));\n    document.body.appendChild(element);\n  }\n\n  var js_urls = [\"https://cdn.pydata.org/bokeh/release/bokeh-1.2.0.min.js\", \"https://cdn.pydata.org/bokeh/release/bokeh-widgets-1.2.0.min.js\", \"https://cdn.pydata.org/bokeh/release/bokeh-tables-1.2.0.min.js\", \"https://cdn.pydata.org/bokeh/release/bokeh-gl-1.2.0.min.js\"];\n  var css_urls = [\"https://cdn.pydata.org/bokeh/release/bokeh-1.2.0.min.css\", \"https://cdn.pydata.org/bokeh/release/bokeh-widgets-1.2.0.min.css\", \"https://cdn.pydata.org/bokeh/release/bokeh-tables-1.2.0.min.css\"];\n\n  var inline_js = [\n    function(Bokeh) {\n      Bokeh.set_log_level(\"info\");\n    },\n    \n    function(Bokeh) {\n      \n    },\n    function(Bokeh) {} // ensure no trailing comma for IE\n  ];\n\n  function run_inline_js() {\n    \n    if ((root.Bokeh !== undefined) || (force === true)) {\n      for (var i = 0; i < inline_js.length; i++) {\n        inline_js[i].call(root, root.Bokeh);\n      }if (force === true) {\n        display_loaded();\n      }} else if (Date.now() < root._bokeh_timeout) {\n      setTimeout(run_inline_js, 100);\n    } else if (!root._bokeh_failed_load) {\n      console.log(\"Bokeh: BokehJS failed to load within specified timeout.\");\n      root._bokeh_failed_load = true;\n    } else if (force !== true) {\n      var cell = $(document.getElementById(\"1001\")).parents('.cell').data().cell;\n      cell.output_area.append_execute_result(NB_LOAD_WARNING)\n    }\n\n  }\n\n  if (root._bokeh_is_loading === 0) {\n    console.debug(\"Bokeh: BokehJS loaded, going straight to plotting\");\n    run_inline_js();\n  } else {\n    load_libs(css_urls, js_urls, function() {\n      console.debug(\"Bokeh: BokehJS plotting callback run at\", now());\n      run_inline_js();\n    });\n  }\n}(window));"
     },
     "metadata": {},
     "output_type": "display_data"
    }
   ],
   "source": [
    "import numpy as np\n",
    "import pandas as pd\n",
    "import scipy.stats\n",
    "\n",
    "import bokeh_catplot\n",
    "\n",
    "import bokeh.io\n",
    "import bokeh.plotting\n",
    "\n",
    "bokeh.io.output_notebook()"
   ]
  },
  {
   "cell_type": "markdown",
   "metadata": {},
   "source": [
    "**Random number generation** (RNG), besides being a [song in the original off-Broadway run of *Hedwig and the Angry Inch*](https://www.youtube.com/watch?v=KzGHjsMGdy0), is the process by which a string of random numbers may be drawn. Of course, the numbers are not completely random for several reasons.\n",
    "\n",
    "1. They are drawn from a probability distribution. The most common one is the uniform distribution on the domain $0 \\le x < 1$, i.e., random numbers between zero and one. (\"Completely random\" does not make sense because of the infinite magnitude of numbers.) \n",
    "2. In most computer applications, including the ones we'll use in bootcamp, the random numbers are actually pseudorandom. They depend entirely on an input **seed** and are then generated by a deterministic algorithm from that seed.\n",
    "\n",
    "This is a bit academic. Let's jump right in generating random numbers. Much of the random number generation functionality you will need is in the `np.random` module. Let's start by generating random numbers from a Uniform distribution."
   ]
  },
  {
   "cell_type": "code",
   "execution_count": 2,
   "metadata": {},
   "outputs": [
    {
     "data": {
      "text/plain": [
       "array([0.82846543, 0.20106904, 0.67366747, 0.14218861, 0.19845647,\n",
       "       0.88812867, 0.24544757, 0.05880058, 0.16491845, 0.00405048])"
      ]
     },
     "execution_count": 2,
     "metadata": {},
     "output_type": "execute_result"
    }
   ],
   "source": [
    "np.random.uniform(low=0, high=1, size=10)"
   ]
  },
  {
   "cell_type": "markdown",
   "metadata": {},
   "source": [
    "The function `uniform()` in the `np.random` module generates random numbers on the interval \\[`low`, `high`) from a Uniform distribution. The `size` kwarg is how many random numbers you wish to generate, and is a kwarg in all of Numpy's random number generators. The random numbers are returned as a NumPy array.\n",
    "\n",
    "We can check to make sure it is appropriately drawing random numbers out of the uniform distribution by plotting the cumulative distribution function, just like we did last time.  We'll generate 1,000 random numbers and plot them along with the CDF of a Uniform distribution."
   ]
  },
  {
   "cell_type": "code",
   "execution_count": 3,
   "metadata": {},
   "outputs": [
    {
     "data": {
      "text/html": [
       "\n",
       "\n",
       "\n",
       "\n",
       "\n",
       "\n",
       "  <div class=\"bk-root\" id=\"554b7f24-6762-4b23-b38f-56529285ff86\" data-root-id=\"1002\"></div>\n"
      ]
     },
     "metadata": {},
     "output_type": "display_data"
    },
    {
     "data": {
      "application/javascript": [
       "(function(root) {\n",
       "  function embed_document(root) {\n",
       "    \n",
       "  var docs_json = {\"67c61313-a9e7-4ef6-9b15-0d750c1185c4\":{\"roots\":{\"references\":[{\"attributes\":{\"below\":[{\"id\":\"1011\",\"type\":\"LinearAxis\"}],\"center\":[{\"id\":\"1015\",\"type\":\"Grid\"},{\"id\":\"1020\",\"type\":\"Grid\"},{\"id\":\"1047\",\"type\":\"Legend\"}],\"left\":[{\"id\":\"1016\",\"type\":\"LinearAxis\"}],\"plot_height\":300,\"plot_width\":400,\"renderers\":[{\"id\":\"1038\",\"type\":\"GlyphRenderer\"},{\"id\":\"1052\",\"type\":\"GlyphRenderer\"}],\"title\":{\"id\":\"1041\",\"type\":\"Title\"},\"toolbar\":{\"id\":\"1027\",\"type\":\"Toolbar\"},\"x_range\":{\"id\":\"1003\",\"type\":\"DataRange1d\"},\"x_scale\":{\"id\":\"1007\",\"type\":\"LinearScale\"},\"y_range\":{\"id\":\"1005\",\"type\":\"DataRange1d\"},\"y_scale\":{\"id\":\"1009\",\"type\":\"LinearScale\"}},\"id\":\"1002\",\"subtype\":\"Figure\",\"type\":\"Plot\"},{\"attributes\":{\"bottom_units\":\"screen\",\"fill_alpha\":{\"value\":0.5},\"fill_color\":{\"value\":\"lightgrey\"},\"left_units\":\"screen\",\"level\":\"overlay\",\"line_alpha\":{\"value\":1.0},\"line_color\":{\"value\":\"black\"},\"line_dash\":[4,4],\"line_width\":{\"value\":2},\"render_mode\":\"css\",\"right_units\":\"screen\",\"top_units\":\"screen\"},\"id\":\"1046\",\"type\":\"BoxAnnotation\"},{\"attributes\":{\"fill_alpha\":{\"value\":0.1},\"fill_color\":{\"value\":\"#1f77b4\"},\"line_alpha\":{\"value\":0.1},\"line_color\":{\"value\":\"#1f77b4\"},\"x\":{\"field\":\"x\"},\"y\":{\"field\":\"__ECDF\"}},\"id\":\"1037\",\"type\":\"Circle\"},{\"attributes\":{},\"id\":\"1017\",\"type\":\"BasicTicker\"},{\"attributes\":{\"source\":{\"id\":\"1034\",\"type\":\"ColumnDataSource\"}},\"id\":\"1039\",\"type\":\"CDSView\"},{\"attributes\":{},\"id\":\"1012\",\"type\":\"BasicTicker\"},{\"attributes\":{\"text\":\"\"},\"id\":\"1041\",\"type\":\"Title\"},{\"attributes\":{\"ticker\":{\"id\":\"1012\",\"type\":\"BasicTicker\"}},\"id\":\"1015\",\"type\":\"Grid\"},{\"attributes\":{\"overlay\":{\"id\":\"1046\",\"type\":\"BoxAnnotation\"}},\"id\":\"1023\",\"type\":\"BoxZoomTool\"},{\"attributes\":{},\"id\":\"1043\",\"type\":\"BasicTickFormatter\"},{\"attributes\":{\"axis_label\":\"x\",\"formatter\":{\"id\":\"1043\",\"type\":\"BasicTickFormatter\"},\"ticker\":{\"id\":\"1012\",\"type\":\"BasicTicker\"}},\"id\":\"1011\",\"type\":\"LinearAxis\"},{\"attributes\":{\"label\":{\"value\":\" \"},\"renderers\":[{\"id\":\"1038\",\"type\":\"GlyphRenderer\"}]},\"id\":\"1048\",\"type\":\"LegendItem\"},{\"attributes\":{},\"id\":\"1024\",\"type\":\"SaveTool\"},{\"attributes\":{},\"id\":\"1025\",\"type\":\"ResetTool\"},{\"attributes\":{\"items\":[{\"id\":\"1048\",\"type\":\"LegendItem\"}],\"visible\":false},\"id\":\"1047\",\"type\":\"Legend\"},{\"attributes\":{},\"id\":\"1026\",\"type\":\"HelpTool\"},{\"attributes\":{\"data_source\":{\"id\":\"1049\",\"type\":\"ColumnDataSource\"},\"glyph\":{\"id\":\"1050\",\"type\":\"Line\"},\"hover_glyph\":null,\"muted_glyph\":null,\"nonselection_glyph\":{\"id\":\"1051\",\"type\":\"Line\"},\"selection_glyph\":null,\"view\":{\"id\":\"1053\",\"type\":\"CDSView\"}},\"id\":\"1052\",\"type\":\"GlyphRenderer\"},{\"attributes\":{\"callback\":null,\"data\":{\"x\":[0,1],\"y\":[0,1]},\"selected\":{\"id\":\"1062\",\"type\":\"Selection\"},\"selection_policy\":{\"id\":\"1063\",\"type\":\"UnionRenderers\"}},\"id\":\"1049\",\"type\":\"ColumnDataSource\"},{\"attributes\":{\"active_drag\":\"auto\",\"active_inspect\":\"auto\",\"active_multi\":null,\"active_scroll\":\"auto\",\"active_tap\":\"auto\",\"tools\":[{\"id\":\"1021\",\"type\":\"PanTool\"},{\"id\":\"1022\",\"type\":\"WheelZoomTool\"},{\"id\":\"1023\",\"type\":\"BoxZoomTool\"},{\"id\":\"1024\",\"type\":\"SaveTool\"},{\"id\":\"1025\",\"type\":\"ResetTool\"},{\"id\":\"1026\",\"type\":\"HelpTool\"}]},\"id\":\"1027\",\"type\":\"Toolbar\"},{\"attributes\":{},\"id\":\"1009\",\"type\":\"LinearScale\"},{\"attributes\":{\"dimension\":1,\"ticker\":{\"id\":\"1017\",\"type\":\"BasicTicker\"}},\"id\":\"1020\",\"type\":\"Grid\"},{\"attributes\":{},\"id\":\"1007\",\"type\":\"LinearScale\"},{\"attributes\":{\"line_color\":\"orange\",\"line_width\":2,\"x\":{\"field\":\"x\"},\"y\":{\"field\":\"y\"}},\"id\":\"1050\",\"type\":\"Line\"},{\"attributes\":{},\"id\":\"1062\",\"type\":\"Selection\"},{\"attributes\":{},\"id\":\"1063\",\"type\":\"UnionRenderers\"},{\"attributes\":{\"source\":{\"id\":\"1049\",\"type\":\"ColumnDataSource\"}},\"id\":\"1053\",\"type\":\"CDSView\"},{\"attributes\":{},\"id\":\"1060\",\"type\":\"Selection\"},{\"attributes\":{},\"id\":\"1021\",\"type\":\"PanTool\"},{\"attributes\":{\"line_alpha\":0.1,\"line_color\":\"#1f77b4\",\"line_width\":2,\"x\":{\"field\":\"x\"},\"y\":{\"field\":\"y\"}},\"id\":\"1051\",\"type\":\"Line\"},{\"attributes\":{},\"id\":\"1061\",\"type\":\"UnionRenderers\"},{\"attributes\":{\"callback\":null},\"id\":\"1005\",\"type\":\"DataRange1d\"},{\"attributes\":{\"callback\":null,\"data\":{\"__ECDF\":{\"__ndarray__\":\"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\",\"dtype\":\"float64\",\"shape\":[1000]},\"__dummy_cat\":[\" \",\" \",\" \",\" \",\" \",\" \",\" \",\" \",\" \",\" \",\" \",\" \",\" \",\" \",\" \",\" \",\" \",\" \",\" \",\" \",\" \",\" \",\" \",\" \",\" \",\" \",\" \",\" \",\" \",\" \",\" \",\" \",\" \",\" \",\" \",\" \",\" \",\" \",\" \",\" \",\" \",\" \",\" \",\" \",\" \",\" \",\" \",\" \",\" \",\" \",\" \",\" \",\" \",\" \",\" \",\" \",\" \",\" \",\" \",\" \",\" \",\" \",\" \",\" \",\" \",\" \",\" \",\" \",\" \",\" \",\" \",\" \",\" \",\" \",\" \",\" \",\" \",\" \",\" \",\" \",\" \",\" \",\" \",\" \",\" \",\" \",\" \",\" \",\" \",\" \",\" \",\" \",\" \",\" \",\" \",\" \",\" \",\" \",\" \",\" \",\" \",\" \",\" \",\" \",\" \",\" \",\" \",\" \",\" \",\" \",\" \",\" \",\" \",\" \",\" \",\" \",\" \",\" \",\" \",\" \",\" \",\" \",\" \",\" \",\" \",\" \",\" \",\" \",\" \",\" \",\" \",\" \",\" \",\" \",\" \",\" \",\" \",\" \",\" \",\" \",\" \",\" \",\" \",\" \",\" \",\" \",\" \",\" \",\" \",\" \",\" \",\" \",\" \",\" \",\" \",\" \",\" \",\" \",\" \",\" \",\" \",\" \",\" \",\" \",\" \",\" \",\" \",\" \",\" \",\" \",\" \",\" \",\" \",\" \",\" \",\" \",\" \",\" \",\" \",\" \",\" \",\" \",\" \",\" \",\" \",\" \",\" \",\" \",\" \",\" \",\" \",\" \",\" \",\" \",\" \",\" \",\" \",\" \",\" \",\" \",\" \",\" \",\" \",\" \",\" \",\" \",\" \",\" \",\" \",\" \",\" \",\" \",\" \",\" \",\" \",\" \",\" \",\" \",\" \",\" \",\" \",\" \",\" \",\" \",\" \",\" \",\" \",\" \",\" \",\" \",\" \",\" \",\" \",\" \",\" \",\" \",\" \",\" \",\" \",\" \",\" \",\" \",\" \",\" \",\" \",\" \",\" \",\" \",\" \",\" \",\" \",\" \",\" \",\" \",\" \",\" \",\" \",\" \",\" \",\" \",\" \",\" \",\" \",\" \",\" \",\" \",\" \",\" \",\" \",\" \",\" \",\" \",\" \",\" \",\" \",\" \",\" \",\" \",\" \",\" \",\" \",\" \",\" \",\" \",\" \",\" \",\" \",\" \",\" \",\" \",\" \",\" \",\" \",\" \",\" \",\" \",\" \",\" \",\" \",\" \",\" \",\" \",\" \",\" \",\" \",\" \",\" \",\" \",\" \",\" \",\" \",\" \",\" \",\" \",\" \",\" \",\" \",\" \",\" \",\" \",\" \",\" \",\" \",\" \",\" \",\" \",\" \",\" \",\" \",\" \",\" \",\" \",\" \",\" \",\" \",\" \",\" \",\" \",\" \",\" \",\" \",\" \",\" \",\" \",\" \",\" \",\" \",\" \",\" \",\" \",\" \",\" \",\" \",\" \",\" \",\" \",\" \",\" \",\" \",\" \",\" \",\" \",\" \",\" \",\" \",\" \",\" \",\" \",\" \",\" \",\" \",\" \",\" \",\" \",\" \",\" \",\" \",\" \",\" \",\" \",\" \",\" \",\" \",\" \",\" \",\" \",\" \",\" \",\" \",\" \",\" \",\" \",\" \",\" \",\" \",\" \",\" \",\" \",\" \",\" \",\" \",\" \",\" \",\" \",\" \",\" \",\" \",\" \",\" \",\" \",\" \",\" \",\" \",\" \",\" \",\" \",\" \",\" \",\" \",\" \",\" \",\" \",\" \",\" \",\" \",\" \",\" \",\" \",\" \",\" \",\" \",\" \",\" \",\" \",\" \",\" \",\" \",\" \",\" \",\" \",\" \",\" \",\" \",\" \",\" \",\" \",\" \",\" \",\" \",\" \",\" \",\" \",\" \",\" \",\" \",\" \",\" \",\" \",\" \",\" \",\" \",\" \",\" \",\" \",\" \",\" \",\" \",\" \",\" \",\" \",\" \",\" \",\" \",\" \",\" \",\" \",\" \",\" \",\" \",\" \",\" \",\" \",\" \",\" \",\" \",\" \",\" \",\" \",\" \",\" \",\" \",\" \",\" \",\" \",\" \",\" \",\" \",\" \",\" \",\" \",\" \",\" \",\" \",\" \",\" \",\" \",\" \",\" \",\" \",\" \",\" \",\" \",\" \",\" \",\" \",\" \",\" \",\" \",\" \",\" \",\" \",\" \",\" \",\" \",\" \",\" \",\" \",\" \",\" \",\" \",\" \",\" \",\" \",\" \",\" \",\" \",\" \",\" \",\" \",\" \",\" \",\" \",\" \",\" \",\" \",\" \",\" \",\" \",\" \",\" \",\" \",\" \",\" \",\" \",\" \",\" \",\" \",\" \",\" \",\" \",\" \",\" \",\" \",\" \",\" \",\" \",\" \",\" \",\" \",\" \",\" \",\" \",\" \",\" \",\" \",\" \",\" \",\" \",\" \",\" \",\" \",\" \",\" \",\" \",\" \",\" \",\" \",\" \",\" \",\" \",\" \",\" \",\" \",\" \",\" \",\" \",\" \",\" \",\" \",\" \",\" \",\" \",\" \",\" \",\" \",\" \",\" \",\" \",\" \",\" \",\" \",\" \",\" \",\" \",\" \",\" \",\" \",\" \",\" \",\" \",\" \",\" \",\" \",\" \",\" \",\" \",\" \",\" \",\" \",\" \",\" \",\" \",\" \",\" \",\" \",\" \",\" \",\" \",\" \",\" \",\" \",\" \",\" \",\" \",\" \",\" \",\" \",\" \",\" \",\" \",\" \",\" \",\" \",\" \",\" \",\" \",\" \",\" \",\" \",\" \",\" \",\" \",\" \",\" \",\" \",\" \",\" \",\" \",\" \",\" \",\" \",\" \",\" \",\" \",\" \",\" \",\" \",\" \",\" \",\" \",\" \",\" \",\" \",\" \",\" \",\" \",\" \",\" \",\" \",\" \",\" \",\" \",\" \",\" \",\" \",\" \",\" \",\" \",\" \",\" \",\" \",\" \",\" \",\" \",\" \",\" \",\" \",\" \",\" \",\" \",\" \",\" \",\" \",\" \",\" \",\" \",\" \",\" \",\" \",\" \",\" \",\" \",\" \",\" \",\" \",\" \",\" \",\" \",\" \",\" \",\" \",\" \",\" \",\" \",\" \",\" \",\" \",\" \",\" \",\" \",\" \",\" \",\" \",\" \",\" \",\" \",\" \",\" \",\" \",\" \",\" \",\" \",\" \",\" \",\" \",\" \",\" \",\" \",\" \",\" \",\" \",\" \",\" \",\" \",\" \",\" \",\" \",\" \",\" \",\" \",\" \",\" \",\" \",\" \",\" \",\" \",\" \",\" \",\" \",\" \",\" \",\" \",\" \",\" \",\" \",\" \",\" \",\" \",\" \",\" \",\" \",\" \",\" \",\" \",\" \",\" \",\" \",\" \",\" \",\" \",\" \",\" \",\" \",\" \",\" \",\" \",\" \",\" \",\" \",\" \",\" \",\" \",\" \",\" \",\" \",\" \",\" \",\" \",\" \",\" \",\" \",\" \",\" \",\" \",\" \",\" \",\" \",\" \",\" \",\" \",\" \",\" \",\" \",\" \",\" \",\" \",\" \",\" \",\" \",\" \",\" \",\" \",\" \",\" \",\" \",\" \",\" \",\" \",\" \",\" \",\" \",\" \",\" \",\" \",\" \",\" \",\" \",\" \",\" \",\" \",\" \",\" \",\" \",\" \",\" \",\" \",\" \",\" \",\" \",\" \",\" \",\" \",\" \",\" \",\" \",\" \",\" \",\" \",\" \",\" \",\" \",\" \",\" \",\" \",\" \",\" \",\" \",\" \",\" \",\" \",\" \",\" \",\" \",\" \",\" \",\" \",\" \",\" \",\" \",\" \",\" \",\" \",\" \",\" \",\" \",\" \",\" \",\" \",\" \",\" \",\" \",\" \",\" \",\" \",\" \",\" \",\" \",\" \",\" \",\" \",\" \",\" \",\" \",\" \",\" \",\" \",\" \",\" \",\" \",\" \",\" \",\" \",\" \",\" \",\" \",\" \",\" \",\" \",\" \",\" \",\" \",\" \",\" \",\" \",\" \",\" \",\" \",\" \",\" \",\" \",\" \",\" \",\" \",\" \",\" \",\" \",\" \",\" \",\" \",\" \",\" \",\" \",\" \",\" \",\" \",\" \",\" \",\" \",\" \",\" \",\" \",\" \",\" \",\" \",\" \",\" \",\" \",\" \",\" \",\" \",\" \",\" \",\" \",\" \",\" \",\" \",\" \",\" \",\" \",\" \",\" \",\" \",\" \",\" \",\" \",\" \",\" \",\" \",\" \",\" \"],\"__label\":[\" \",\" \",\" \",\" \",\" \",\" \",\" \",\" \",\" \",\" \",\" \",\" \",\" \",\" \",\" \",\" \",\" \",\" \",\" \",\" \",\" \",\" \",\" \",\" \",\" \",\" \",\" \",\" \",\" \",\" \",\" \",\" \",\" \",\" \",\" \",\" \",\" \",\" \",\" \",\" \",\" \",\" \",\" \",\" \",\" \",\" \",\" \",\" \",\" \",\" \",\" \",\" \",\" \",\" \",\" \",\" \",\" \",\" \",\" \",\" \",\" \",\" \",\" \",\" \",\" \",\" \",\" \",\" \",\" \",\" \",\" \",\" \",\" \",\" \",\" \",\" \",\" \",\" \",\" \",\" \",\" \",\" \",\" \",\" \",\" \",\" \",\" \",\" \",\" \",\" \",\" \",\" \",\" \",\" \",\" \",\" \",\" \",\" \",\" \",\" \",\" \",\" \",\" \",\" \",\" \",\" \",\" \",\" \",\" \",\" \",\" \",\" \",\" \",\" \",\" \",\" \",\" \",\" \",\" \",\" \",\" \",\" \",\" \",\" \",\" \",\" \",\" \",\" \",\" \",\" \",\" \",\" \",\" \",\" \",\" \",\" \",\" \",\" \",\" \",\" \",\" \",\" \",\" \",\" \",\" \",\" \",\" \",\" \",\" \",\" \",\" \",\" \",\" \",\" \",\" \",\" \",\" \",\" \",\" \",\" \",\" \",\" \",\" \",\" \",\" \",\" \",\" \",\" \",\" \",\" \",\" \",\" \",\" \",\" \",\" \",\" \",\" \",\" \",\" \",\" \",\" \",\" \",\" \",\" \",\" \",\" \",\" \",\" \",\" \",\" \",\" \",\" \",\" \",\" \",\" \",\" \",\" \",\" \",\" \",\" \",\" \",\" \",\" \",\" \",\" \",\" \",\" \",\" \",\" \",\" \",\" \",\" \",\" \",\" \",\" \",\" \",\" \",\" \",\" \",\" \",\" \",\" \",\" \",\" \",\" \",\" \",\" \",\" \",\" \",\" \",\" \",\" \",\" \",\" \",\" \",\" \",\" \",\" \",\" \",\" \",\" \",\" \",\" \",\" \",\" \",\" \",\" \",\" \",\" \",\" \",\" \",\" \",\" \",\" \",\" \",\" \",\" \",\" \",\" \",\" \",\" \",\" \",\" \",\" \",\" \",\" \",\" \",\" \",\" \",\" \",\" \",\" \",\" \",\" \",\" \",\" \",\" \",\" \",\" \",\" \",\" \",\" \",\" \",\" \",\" \",\" \",\" \",\" \",\" \",\" \",\" \",\" \",\" \",\" \",\" \",\" \",\" \",\" \",\" \",\" \",\" \",\" \",\" \",\" \",\" \",\" \",\" \",\" \",\" \",\" \",\" \",\" \",\" \",\" \",\" \",\" \",\" \",\" \",\" \",\" \",\" \",\" \",\" \",\" \",\" \",\" \",\" \",\" \",\" \",\" \",\" \",\" \",\" \",\" \",\" \",\" \",\" \",\" \",\" \",\" \",\" \",\" \",\" \",\" \",\" \",\" \",\" \",\" \",\" \",\" \",\" \",\" \",\" \",\" \",\" \",\" \",\" \",\" \",\" \",\" \",\" \",\" \",\" \",\" \",\" \",\" \",\" \",\" \",\" \",\" \",\" \",\" \",\" \",\" \",\" \",\" \",\" \",\" \",\" \",\" \",\" \",\" \",\" \",\" \",\" \",\" \",\" \",\" \",\" \",\" \",\" \",\" \",\" \",\" \",\" \",\" \",\" \",\" \",\" \",\" \",\" \",\" \",\" \",\" \",\" \",\" \",\" \",\" \",\" \",\" \",\" \",\" \",\" \",\" \",\" \",\" \",\" \",\" \",\" \",\" \",\" \",\" \",\" \",\" \",\" \",\" \",\" \",\" \",\" \",\" \",\" \",\" \",\" \",\" \",\" \",\" \",\" \",\" \",\" \",\" \",\" \",\" \",\" \",\" \",\" \",\" \",\" \",\" \",\" \",\" \",\" \",\" \",\" \",\" \",\" \",\" \",\" \",\" \",\" \",\" \",\" \",\" \",\" \",\" \",\" \",\" \",\" \",\" \",\" \",\" \",\" \",\" \",\" \",\" \",\" \",\" \",\" \",\" \",\" \",\" \",\" \",\" \",\" \",\" \",\" \",\" \",\" \",\" \",\" \",\" \",\" \",\" \",\" \",\" \",\" \",\" \",\" \",\" \",\" \",\" \",\" \",\" \",\" \",\" \",\" \",\" \",\" \",\" \",\" \",\" \",\" \",\" \",\" \",\" \",\" \",\" \",\" \",\" \",\" \",\" \",\" \",\" \",\" \",\" \",\" \",\" \",\" \",\" \",\" \",\" \",\" \",\" \",\" \",\" \",\" \",\" \",\" \",\" \",\" \",\" \",\" \",\" \",\" \",\" \",\" \",\" \",\" \",\" \",\" \",\" \",\" \",\" \",\" \",\" \",\" \",\" \",\" \",\" \",\" \",\" \",\" \",\" \",\" \",\" \",\" \",\" \",\" \",\" \",\" \",\" \",\" \",\" \",\" \",\" \",\" \",\" \",\" \",\" \",\" \",\" \",\" \",\" \",\" \",\" \",\" \",\" \",\" \",\" \",\" \",\" \",\" \",\" \",\" \",\" \",\" \",\" \",\" \",\" \",\" \",\" \",\" \",\" \",\" \",\" \",\" \",\" \",\" \",\" \",\" \",\" \",\" \",\" \",\" \",\" \",\" \",\" \",\" \",\" \",\" \",\" \",\" \",\" \",\" \",\" \",\" \",\" \",\" \",\" \",\" \",\" \",\" \",\" \",\" \",\" \",\" \",\" \",\" \",\" \",\" \",\" \",\" \",\" \",\" \",\" \",\" \",\" \",\" \",\" \",\" \",\" \",\" \",\" \",\" \",\" \",\" \",\" \",\" \",\" \",\" \",\" \",\" \",\" \",\" \",\" \",\" \",\" \",\" \",\" \",\" \",\" \",\" \",\" \",\" \",\" \",\" \",\" \",\" \",\" \",\" \",\" \",\" \",\" \",\" \",\" \",\" \",\" \",\" \",\" \",\" \",\" \",\" \",\" \",\" \",\" \",\" \",\" \",\" \",\" \",\" \",\" \",\" \",\" \",\" \",\" \",\" \",\" \",\" \",\" \",\" \",\" \",\" \",\" \",\" \",\" \",\" \",\" \",\" \",\" \",\" \",\" \",\" \",\" \",\" \",\" \",\" \",\" \",\" \",\" \",\" \",\" \",\" \",\" \",\" \",\" \",\" \",\" \",\" \",\" \",\" \",\" \",\" \",\" \",\" \",\" \",\" \",\" \",\" \",\" \",\" \",\" \",\" \",\" \",\" \",\" \",\" \",\" \",\" \",\" \",\" \",\" \",\" \",\" \",\" \",\" \",\" \",\" \",\" \",\" \",\" \",\" \",\" \",\" \",\" \",\" \",\" \",\" \",\" \",\" \",\" \",\" \",\" \",\" \",\" \",\" \",\" \",\" \",\" \",\" \",\" \",\" \",\" \",\" \",\" \",\" \",\" \",\" \",\" \",\" \",\" \",\" \",\" \",\" \",\" \",\" \",\" \",\" \",\" \",\" \",\" \",\" \",\" \",\" \",\" \",\" \",\" \",\" \",\" \",\" \",\" \",\" \",\" \",\" \",\" \",\" \",\" \",\" \",\" \",\" \",\" \",\" \",\" \",\" \",\" \",\" \",\" \",\" \",\" \",\" \",\" \",\" \",\" \",\" \",\" \",\" \",\" \",\" \",\" \",\" \",\" \",\" \",\" \",\" \",\" \",\" \",\" \",\" \",\" \",\" \",\" \",\" \",\" \",\" \",\" \",\" \",\" \",\" \",\" \",\" \",\" \",\" \",\" \",\" \",\" \",\" \",\" \",\" \",\" \",\" \",\" \",\" \",\" \",\" \",\" \",\" \",\" \",\" \",\" \",\" \",\" \",\" \",\" \",\" \",\" \",\" \",\" \",\" \",\" \",\" \",\" \",\" \",\" \",\" \",\" \",\" \",\" \",\" \",\" \",\" \",\" \",\" \",\" \",\" \",\" \",\" \",\" \",\" \",\" \",\" \",\" \",\" \",\" \",\" \",\" \",\" \",\" \",\" \",\" \",\" \",\" \",\" \",\" \",\" \",\" \",\" \",\" \",\" \",\" \",\" \",\" \",\" \",\" \",\" \",\" \",\" \",\" \",\" \",\" \",\" \",\" \",\" \",\" \",\" \",\" \",\" \",\" \",\" \",\" \",\" \",\" \",\" \",\" \",\" \",\" \",\" \",\" \",\" \",\" \",\" \",\" \",\" \",\" \",\" \",\" \",\" \",\" \",\" \",\" \",\" \",\" \",\" \",\" \",\" \",\" \",\" \",\" \",\" \",\" \",\" \",\" \",\" \",\" \",\" \",\" \",\" \",\" \",\" \",\" \",\" \",\" \",\" \"],\"index\":[0,1,2,3,4,5,6,7,8,9,10,11,12,13,14,15,16,17,18,19,20,21,22,23,24,25,26,27,28,29,30,31,32,33,34,35,36,37,38,39,40,41,42,43,44,45,46,47,48,49,50,51,52,53,54,55,56,57,58,59,60,61,62,63,64,65,66,67,68,69,70,71,72,73,74,75,76,77,78,79,80,81,82,83,84,85,86,87,88,89,90,91,92,93,94,95,96,97,98,99,100,101,102,103,104,105,106,107,108,109,110,111,112,113,114,115,116,117,118,119,120,121,122,123,124,125,126,127,128,129,130,131,132,133,134,135,136,137,138,139,140,141,142,143,144,145,146,147,148,149,150,151,152,153,154,155,156,157,158,159,160,161,162,163,164,165,166,167,168,169,170,171,172,173,174,175,176,177,178,179,180,181,182,183,184,185,186,187,188,189,190,191,192,193,194,195,196,197,198,199,200,201,202,203,204,205,206,207,208,209,210,211,212,213,214,215,216,217,218,219,220,221,222,223,224,225,226,227,228,229,230,231,232,233,234,235,236,237,238,239,240,241,242,243,244,245,246,247,248,249,250,251,252,253,254,255,256,257,258,259,260,261,262,263,264,265,266,267,268,269,270,271,272,273,274,275,276,277,278,279,280,281,282,283,284,285,286,287,288,289,290,291,292,293,294,295,296,297,298,299,300,301,302,303,304,305,306,307,308,309,310,311,312,313,314,315,316,317,318,319,320,321,322,323,324,325,326,327,328,329,330,331,332,333,334,335,336,337,338,339,340,341,342,343,344,345,346,347,348,349,350,351,352,353,354,355,356,357,358,359,360,361,362,363,364,365,366,367,368,369,370,371,372,373,374,375,376,377,378,379,380,381,382,383,384,385,386,387,388,389,390,391,392,393,394,395,396,397,398,399,400,401,402,403,404,405,406,407,408,409,410,411,412,413,414,415,416,417,418,419,420,421,422,423,424,425,426,427,428,429,430,431,432,433,434,435,436,437,438,439,440,441,442,443,444,445,446,447,448,449,450,451,452,453,454,455,456,457,458,459,460,461,462,463,464,465,466,467,468,469,470,471,472,473,474,475,476,477,478,479,480,481,482,483,484,485,486,487,488,489,490,491,492,493,494,495,496,497,498,499,500,501,502,503,504,505,506,507,508,509,510,511,512,513,514,515,516,517,518,519,520,521,522,523,524,525,526,527,528,529,530,531,532,533,534,535,536,537,538,539,540,541,542,543,544,545,546,547,548,549,550,551,552,553,554,555,556,557,558,559,560,561,562,563,564,565,566,567,568,569,570,571,572,573,574,575,576,577,578,579,580,581,582,583,584,585,586,587,588,589,590,591,592,593,594,595,596,597,598,599,600,601,602,603,604,605,606,607,608,609,610,611,612,613,614,615,616,617,618,619,620,621,622,623,624,625,626,627,628,629,630,631,632,633,634,635,636,637,638,639,640,641,642,643,644,645,646,647,648,649,650,651,652,653,654,655,656,657,658,659,660,661,662,663,664,665,666,667,668,669,670,671,672,673,674,675,676,677,678,679,680,681,682,683,684,685,686,687,688,689,690,691,692,693,694,695,696,697,698,699,700,701,702,703,704,705,706,707,708,709,710,711,712,713,714,715,716,717,718,719,720,721,722,723,724,725,726,727,728,729,730,731,732,733,734,735,736,737,738,739,740,741,742,743,744,745,746,747,748,749,750,751,752,753,754,755,756,757,758,759,760,761,762,763,764,765,766,767,768,769,770,771,772,773,774,775,776,777,778,779,780,781,782,783,784,785,786,787,788,789,790,791,792,793,794,795,796,797,798,799,800,801,802,803,804,805,806,807,808,809,810,811,812,813,814,815,816,817,818,819,820,821,822,823,824,825,826,827,828,829,830,831,832,833,834,835,836,837,838,839,840,841,842,843,844,845,846,847,848,849,850,851,852,853,854,855,856,857,858,859,860,861,862,863,864,865,866,867,868,869,870,871,872,873,874,875,876,877,878,879,880,881,882,883,884,885,886,887,888,889,890,891,892,893,894,895,896,897,898,899,900,901,902,903,904,905,906,907,908,909,910,911,912,913,914,915,916,917,918,919,920,921,922,923,924,925,926,927,928,929,930,931,932,933,934,935,936,937,938,939,940,941,942,943,944,945,946,947,948,949,950,951,952,953,954,955,956,957,958,959,960,961,962,963,964,965,966,967,968,969,970,971,972,973,974,975,976,977,978,979,980,981,982,983,984,985,986,987,988,989,990,991,992,993,994,995,996,997,998,999],\"x\":{\"__ndarray__\":\"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\",\"dtype\":\"float64\",\"shape\":[1000]}},\"selected\":{\"id\":\"1060\",\"type\":\"Selection\"},\"selection_policy\":{\"id\":\"1061\",\"type\":\"UnionRenderers\"}},\"id\":\"1034\",\"type\":\"ColumnDataSource\"},{\"attributes\":{},\"id\":\"1045\",\"type\":\"BasicTickFormatter\"},{\"attributes\":{\"axis_label\":\"ECDF\",\"formatter\":{\"id\":\"1045\",\"type\":\"BasicTickFormatter\"},\"ticker\":{\"id\":\"1017\",\"type\":\"BasicTicker\"}},\"id\":\"1016\",\"type\":\"LinearAxis\"},{\"attributes\":{\"fill_color\":{\"value\":null},\"line_color\":{\"value\":\"#4e79a7\"},\"x\":{\"field\":\"x\"},\"y\":{\"field\":\"__ECDF\"}},\"id\":\"1036\",\"type\":\"Circle\"},{\"attributes\":{\"data_source\":{\"id\":\"1034\",\"type\":\"ColumnDataSource\"},\"glyph\":{\"id\":\"1036\",\"type\":\"Circle\"},\"hover_glyph\":null,\"muted_glyph\":null,\"nonselection_glyph\":{\"id\":\"1037\",\"type\":\"Circle\"},\"selection_glyph\":null,\"view\":{\"id\":\"1039\",\"type\":\"CDSView\"}},\"id\":\"1038\",\"type\":\"GlyphRenderer\"},{\"attributes\":{},\"id\":\"1022\",\"type\":\"WheelZoomTool\"},{\"attributes\":{\"callback\":null},\"id\":\"1003\",\"type\":\"DataRange1d\"}],\"root_ids\":[\"1002\"]},\"title\":\"Bokeh Application\",\"version\":\"1.2.0\"}};\n",
       "  var render_items = [{\"docid\":\"67c61313-a9e7-4ef6-9b15-0d750c1185c4\",\"roots\":{\"1002\":\"554b7f24-6762-4b23-b38f-56529285ff86\"}}];\n",
       "  root.Bokeh.embed.embed_items_notebook(docs_json, render_items);\n",
       "\n",
       "  }\n",
       "  if (root.Bokeh !== undefined) {\n",
       "    embed_document(root);\n",
       "  } else {\n",
       "    var attempts = 0;\n",
       "    var timer = setInterval(function(root) {\n",
       "      if (root.Bokeh !== undefined) {\n",
       "        embed_document(root);\n",
       "        clearInterval(timer);\n",
       "      }\n",
       "      attempts++;\n",
       "      if (attempts > 100) {\n",
       "        console.log(\"Bokeh: ERROR: Unable to run BokehJS code because BokehJS library is missing\");\n",
       "        clearInterval(timer);\n",
       "      }\n",
       "    }, 10, root)\n",
       "  }\n",
       "})(window);"
      ],
      "application/vnd.bokehjs_exec.v0+json": ""
     },
     "metadata": {
      "application/vnd.bokehjs_exec.v0+json": {
       "id": "1002"
      }
     },
     "output_type": "display_data"
    }
   ],
   "source": [
    "# Generate random numbers\n",
    "x = np.random.uniform(low=0, high=1, size=1000)\n",
    "\n",
    "# Plot the ECDF of randomly generated numbers\n",
    "p = bokeh_catplot.ecdf(\n",
    "    data=pd.DataFrame({'x': x}),\n",
    "    cats=None,\n",
    "    val='x',\n",
    "    marker_kwargs=dict(fill_color=None),\n",
    ")\n",
    "\n",
    "p.line(\n",
    "    x=[0, 1],\n",
    "    y=[0, 1],\n",
    "    line_width=2,\n",
    "    line_color='orange',\n",
    ")\n",
    "\n",
    "bokeh.io.show(p)"
   ]
  },
  {
   "cell_type": "markdown",
   "metadata": {},
   "source": [
    "So, it looks like our random number generator is doing a good job.\n",
    "\n",
    "Generating random numbers on the uniform interval is one of the most commonly used RNG techniques. In fact, many of the other contexts of RNG are derived from draws from the uniform distribution. For example, you can do \"coin flips,\" that is random draws that are either zero or one, like this:"
   ]
  },
  {
   "cell_type": "code",
   "execution_count": 4,
   "metadata": {},
   "outputs": [
    {
     "name": "stdout",
     "output_type": "stream",
     "text": [
      "[False False  True  True  True False False False False  True False  True\n",
      " False False False  True False False  True False]\n",
      "\n",
      "There were 7  heads.\n"
     ]
    }
   ],
   "source": [
    "# Generate 20 random numbers on uniform interval\n",
    "x = np.random.uniform(low=0, high=1, size=20)\n",
    "\n",
    "# Make the coin flips\n",
    "heads = x > 0.5\n",
    "\n",
    "# Show which were heads, and count the number of heads\n",
    "print(heads)\n",
    "print('\\nThere were', np.sum(heads), ' heads.')"
   ]
  },
  {
   "cell_type": "markdown",
   "metadata": {},
   "source": [
    "## Seeding random number generators\n",
    "\n",
    "Now, just to demonstrate that random number generation is deterministic, we will explicitly **seed** the random number generator (which is usually seeded with a number representing the date/time to avoid repeats) to show that we get the same random numbers."
   ]
  },
  {
   "cell_type": "code",
   "execution_count": 5,
   "metadata": {},
   "outputs": [
    {
     "data": {
      "text/plain": [
       "array([0.37454012, 0.95071431, 0.73199394, 0.59865848, 0.15601864,\n",
       "       0.15599452, 0.05808361, 0.86617615, 0.60111501, 0.70807258])"
      ]
     },
     "execution_count": 5,
     "metadata": {},
     "output_type": "execute_result"
    }
   ],
   "source": [
    "# Seed the RNG\n",
    "np.random.seed(42)\n",
    "\n",
    "# Generate random numbers\n",
    "np.random.random(size=10)"
   ]
  },
  {
   "cell_type": "code",
   "execution_count": 6,
   "metadata": {},
   "outputs": [
    {
     "data": {
      "text/plain": [
       "array([0.37454012, 0.95071431, 0.73199394, 0.59865848, 0.15601864,\n",
       "       0.15599452, 0.05808361, 0.86617615, 0.60111501, 0.70807258])"
      ]
     },
     "execution_count": 6,
     "metadata": {},
     "output_type": "execute_result"
    }
   ],
   "source": [
    "# Re-seed the RNG\n",
    "np.random.seed(42)\n",
    "\n",
    "# Generate random numbers\n",
    "np.random.random(size=10)"
   ]
  },
  {
   "cell_type": "markdown",
   "metadata": {},
   "source": [
    "The random number sequence is exactly the same.  If we choose a different seed, we get totally different random numbers."
   ]
  },
  {
   "cell_type": "code",
   "execution_count": 7,
   "metadata": {},
   "outputs": [
    {
     "data": {
      "text/plain": [
       "array([0.11505457, 0.60906654, 0.13339096, 0.24058962, 0.32713906,\n",
       "       0.85913749, 0.66609021, 0.54116221, 0.02901382, 0.7337483 ])"
      ]
     },
     "execution_count": 7,
     "metadata": {},
     "output_type": "execute_result"
    }
   ],
   "source": [
    "# Seed with a number that is close to the answer to everything\n",
    "np.random.seed(43)\n",
    "np.random.random(size=10)"
   ]
  },
  {
   "cell_type": "markdown",
   "metadata": {},
   "source": [
    "If you are writing tests, it is often useful to seed the random number generator to get reproducible results."
   ]
  },
  {
   "cell_type": "markdown",
   "metadata": {},
   "source": [
    "## Drawing random numbers out of other distributions\n",
    "\n",
    "We can also draw random numbers from other probability distributions. For example, say we wanted to draw random samples from a Normal distribution with mean μ and standard deviation σ. (We already saw this example when we were looking at histograms, but we repeat it here.)"
   ]
  },
  {
   "cell_type": "code",
   "execution_count": 8,
   "metadata": {},
   "outputs": [
    {
     "data": {
      "text/html": [
       "\n",
       "\n",
       "\n",
       "\n",
       "\n",
       "\n",
       "  <div class=\"bk-root\" id=\"de72b8b8-0b83-4325-8a2c-ff1f1d74eaf6\" data-root-id=\"1132\"></div>\n"
      ]
     },
     "metadata": {},
     "output_type": "display_data"
    },
    {
     "data": {
      "application/javascript": [
       "(function(root) {\n",
       "  function embed_document(root) {\n",
       "    \n",
       "  var docs_json = {\"f8e2613d-49e8-4cfd-a417-2a522397536f\":{\"roots\":{\"references\":[{\"attributes\":{\"below\":[{\"id\":\"1140\",\"type\":\"LinearAxis\"}],\"center\":[{\"id\":\"1144\",\"type\":\"Grid\"},{\"id\":\"1149\",\"type\":\"Grid\"},{\"id\":\"1175\",\"type\":\"Legend\"}],\"left\":[{\"id\":\"1145\",\"type\":\"LinearAxis\"}],\"plot_height\":300,\"plot_width\":400,\"renderers\":[{\"id\":\"1166\",\"type\":\"GlyphRenderer\"},{\"id\":\"1180\",\"type\":\"GlyphRenderer\"}],\"title\":{\"id\":\"1169\",\"type\":\"Title\"},\"toolbar\":{\"id\":\"1156\",\"type\":\"Toolbar\"},\"x_range\":{\"id\":\"1133\",\"type\":\"DataRange1d\"},\"x_scale\":{\"id\":\"1136\",\"type\":\"LinearScale\"},\"y_range\":{\"id\":\"1131\",\"type\":\"DataRange1d\"},\"y_scale\":{\"id\":\"1138\",\"type\":\"LinearScale\"}},\"id\":\"1132\",\"subtype\":\"Figure\",\"type\":\"Plot\"},{\"attributes\":{\"fill_alpha\":0.1,\"fill_color\":\"#1f77b4\",\"line_alpha\":0.1,\"line_color\":\"#1f77b4\",\"x\":{\"field\":\"x\"},\"y\":{\"field\":\"y\"}},\"id\":\"1179\",\"type\":\"Patch\"},{\"attributes\":{},\"id\":\"1211\",\"type\":\"UnionRenderers\"},{\"attributes\":{\"data_source\":{\"id\":\"1177\",\"type\":\"ColumnDataSource\"},\"glyph\":{\"id\":\"1178\",\"type\":\"Patch\"},\"hover_glyph\":null,\"muted_glyph\":null,\"nonselection_glyph\":{\"id\":\"1179\",\"type\":\"Patch\"},\"selection_glyph\":null,\"view\":{\"id\":\"1181\",\"type\":\"CDSView\"}},\"id\":\"1180\",\"type\":\"GlyphRenderer\"},{\"attributes\":{\"source\":{\"id\":\"1177\",\"type\":\"ColumnDataSource\"}},\"id\":\"1181\",\"type\":\"CDSView\"},{\"attributes\":{},\"id\":\"1136\",\"type\":\"LinearScale\"},{\"attributes\":{},\"id\":\"1189\",\"type\":\"UnionRenderers\"},{\"attributes\":{\"active_drag\":\"auto\",\"active_inspect\":\"auto\",\"active_multi\":null,\"active_scroll\":\"auto\",\"active_tap\":\"auto\",\"tools\":[{\"id\":\"1150\",\"type\":\"PanTool\"},{\"id\":\"1151\",\"type\":\"WheelZoomTool\"},{\"id\":\"1152\",\"type\":\"BoxZoomTool\"},{\"id\":\"1153\",\"type\":\"SaveTool\"},{\"id\":\"1154\",\"type\":\"ResetTool\"},{\"id\":\"1155\",\"type\":\"HelpTool\"}]},\"id\":\"1156\",\"type\":\"Toolbar\"},{\"attributes\":{},\"id\":\"1138\",\"type\":\"LinearScale\"},{\"attributes\":{\"axis_label\":\"x\",\"formatter\":{\"id\":\"1171\",\"type\":\"BasicTickFormatter\"},\"ticker\":{\"id\":\"1141\",\"type\":\"BasicTicker\"}},\"id\":\"1140\",\"type\":\"LinearAxis\"},{\"attributes\":{\"callback\":null,\"data\":{\"x\":{\"__ndarray__\":\"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\",\"dtype\":\"float64\",\"shape\":[288]},\"y\":{\"__ndarray__\":\"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\",\"dtype\":\"float64\",\"shape\":[288]}},\"selected\":{\"id\":\"1188\",\"type\":\"Selection\"},\"selection_policy\":{\"id\":\"1189\",\"type\":\"UnionRenderers\"}},\"id\":\"1163\",\"type\":\"ColumnDataSource\"},{\"attributes\":{},\"id\":\"1210\",\"type\":\"Selection\"},{\"attributes\":{},\"id\":\"1141\",\"type\":\"BasicTicker\"},{\"attributes\":{\"line_color\":\"#4e79a7\",\"line_width\":2,\"x\":{\"field\":\"x\"},\"y\":{\"field\":\"y\"}},\"id\":\"1164\",\"type\":\"Line\"},{\"attributes\":{},\"id\":\"1188\",\"type\":\"Selection\"},{\"attributes\":{\"ticker\":{\"id\":\"1141\",\"type\":\"BasicTicker\"}},\"id\":\"1144\",\"type\":\"Grid\"},{\"attributes\":{\"line_alpha\":0.1,\"line_color\":\"#1f77b4\",\"line_width\":2,\"x\":{\"field\":\"x\"},\"y\":{\"field\":\"y\"}},\"id\":\"1165\",\"type\":\"Line\"},{\"attributes\":{\"axis_label\":\"approximate PDF\",\"formatter\":{\"id\":\"1173\",\"type\":\"BasicTickFormatter\"},\"ticker\":{\"id\":\"1146\",\"type\":\"BasicTicker\"}},\"id\":\"1145\",\"type\":\"LinearAxis\"},{\"attributes\":{\"data_source\":{\"id\":\"1163\",\"type\":\"ColumnDataSource\"},\"glyph\":{\"id\":\"1164\",\"type\":\"Line\"},\"hover_glyph\":null,\"muted_glyph\":null,\"nonselection_glyph\":{\"id\":\"1165\",\"type\":\"Line\"},\"selection_glyph\":null,\"view\":{\"id\":\"1167\",\"type\":\"CDSView\"}},\"id\":\"1166\",\"type\":\"GlyphRenderer\"},{\"attributes\":{},\"id\":\"1146\",\"type\":\"BasicTicker\"},{\"attributes\":{\"source\":{\"id\":\"1163\",\"type\":\"ColumnDataSource\"}},\"id\":\"1167\",\"type\":\"CDSView\"},{\"attributes\":{},\"id\":\"1155\",\"type\":\"HelpTool\"},{\"attributes\":{\"callback\":null,\"start\":0},\"id\":\"1131\",\"type\":\"DataRange1d\"},{\"attributes\":{\"text\":\"\"},\"id\":\"1169\",\"type\":\"Title\"},{\"attributes\":{},\"id\":\"1171\",\"type\":\"BasicTickFormatter\"},{\"attributes\":{},\"id\":\"1173\",\"type\":\"BasicTickFormatter\"},{\"attributes\":{\"overlay\":{\"id\":\"1174\",\"type\":\"BoxAnnotation\"}},\"id\":\"1152\",\"type\":\"BoxZoomTool\"},{\"attributes\":{\"bottom_units\":\"screen\",\"fill_alpha\":{\"value\":0.5},\"fill_color\":{\"value\":\"lightgrey\"},\"left_units\":\"screen\",\"level\":\"overlay\",\"line_alpha\":{\"value\":1.0},\"line_color\":{\"value\":\"black\"},\"line_dash\":[4,4],\"line_width\":{\"value\":2},\"render_mode\":\"css\",\"right_units\":\"screen\",\"top_units\":\"screen\"},\"id\":\"1174\",\"type\":\"BoxAnnotation\"},{\"attributes\":{},\"id\":\"1150\",\"type\":\"PanTool\"},{\"attributes\":{\"items\":[{\"id\":\"1176\",\"type\":\"LegendItem\"}],\"visible\":false},\"id\":\"1175\",\"type\":\"Legend\"},{\"attributes\":{},\"id\":\"1151\",\"type\":\"WheelZoomTool\"},{\"attributes\":{\"label\":{\"value\":\" \"},\"renderers\":[{\"id\":\"1166\",\"type\":\"GlyphRenderer\"},{\"id\":\"1180\",\"type\":\"GlyphRenderer\"}]},\"id\":\"1176\",\"type\":\"LegendItem\"},{\"attributes\":{},\"id\":\"1154\",\"type\":\"ResetTool\"},{\"attributes\":{\"callback\":null,\"data\":{\"x\":{\"__ndarray__\":\"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\",\"dtype\":\"float64\",\"shape\":[290]},\"y\":{\"__ndarray__\":\"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\",\"dtype\":\"float64\",\"shape\":[290]}},\"selected\":{\"id\":\"1210\",\"type\":\"Selection\"},\"selection_policy\":{\"id\":\"1211\",\"type\":\"UnionRenderers\"}},\"id\":\"1177\",\"type\":\"ColumnDataSource\"},{\"attributes\":{},\"id\":\"1153\",\"type\":\"SaveTool\"},{\"attributes\":{\"callback\":null},\"id\":\"1133\",\"type\":\"DataRange1d\"},{\"attributes\":{\"fill_alpha\":0.3,\"fill_color\":\"#4e79a7\",\"line_alpha\":0,\"line_color\":\"#4e79a7\",\"x\":{\"field\":\"x\"},\"y\":{\"field\":\"y\"}},\"id\":\"1178\",\"type\":\"Patch\"},{\"attributes\":{\"dimension\":1,\"ticker\":{\"id\":\"1146\",\"type\":\"BasicTicker\"}},\"id\":\"1149\",\"type\":\"Grid\"}],\"root_ids\":[\"1132\"]},\"title\":\"Bokeh Application\",\"version\":\"1.2.0\"}};\n",
       "  var render_items = [{\"docid\":\"f8e2613d-49e8-4cfd-a417-2a522397536f\",\"roots\":{\"1132\":\"de72b8b8-0b83-4325-8a2c-ff1f1d74eaf6\"}}];\n",
       "  root.Bokeh.embed.embed_items_notebook(docs_json, render_items);\n",
       "\n",
       "  }\n",
       "  if (root.Bokeh !== undefined) {\n",
       "    embed_document(root);\n",
       "  } else {\n",
       "    var attempts = 0;\n",
       "    var timer = setInterval(function(root) {\n",
       "      if (root.Bokeh !== undefined) {\n",
       "        embed_document(root);\n",
       "        clearInterval(timer);\n",
       "      }\n",
       "      attempts++;\n",
       "      if (attempts > 100) {\n",
       "        console.log(\"Bokeh: ERROR: Unable to run BokehJS code because BokehJS library is missing\");\n",
       "        clearInterval(timer);\n",
       "      }\n",
       "    }, 10, root)\n",
       "  }\n",
       "})(window);"
      ],
      "application/vnd.bokehjs_exec.v0+json": ""
     },
     "metadata": {
      "application/vnd.bokehjs_exec.v0+json": {
       "id": "1132"
      }
     },
     "output_type": "display_data"
    }
   ],
   "source": [
    "# Set parameters\n",
    "mu = 10\n",
    "sigma = 1\n",
    "\n",
    "# Draw 100000 random samples\n",
    "x = np.random.normal(mu, sigma, size=100000)\n",
    "\n",
    "# Plot the histogram\n",
    "p = bokeh_catplot.histogram(\n",
    "    data=pd.DataFrame(data={'x': x}),\n",
    "    cats=None,\n",
    "    val='x',\n",
    "    density=True,\n",
    "    y_axis_label='approximate PDF',\n",
    ")\n",
    "\n",
    "bokeh.io.show(p)"
   ]
  },
  {
   "cell_type": "markdown",
   "metadata": {},
   "source": [
    "It looks Normal, but, again, comparing the resulting ECDF is a better way to look at this. We'll check out the ECDF with 1000 samples so as not to choke the browser."
   ]
  },
  {
   "cell_type": "code",
   "execution_count": 9,
   "metadata": {},
   "outputs": [
    {
     "data": {
      "text/html": [
       "\n",
       "\n",
       "\n",
       "\n",
       "\n",
       "\n",
       "  <div class=\"bk-root\" id=\"3392418c-e726-40b2-9ef2-35fc80c51764\" data-root-id=\"1279\"></div>\n"
      ]
     },
     "metadata": {},
     "output_type": "display_data"
    },
    {
     "data": {
      "application/javascript": [
       "(function(root) {\n",
       "  function embed_document(root) {\n",
       "    \n",
       "  var docs_json = {\"9c1edc47-b9b6-445c-a635-a269a9981b54\":{\"roots\":{\"references\":[{\"attributes\":{\"below\":[{\"id\":\"1288\",\"type\":\"LinearAxis\"}],\"center\":[{\"id\":\"1292\",\"type\":\"Grid\"},{\"id\":\"1297\",\"type\":\"Grid\"},{\"id\":\"1324\",\"type\":\"Legend\"}],\"left\":[{\"id\":\"1293\",\"type\":\"LinearAxis\"}],\"plot_height\":300,\"plot_width\":400,\"renderers\":[{\"id\":\"1315\",\"type\":\"GlyphRenderer\"},{\"id\":\"1329\",\"type\":\"GlyphRenderer\"}],\"title\":{\"id\":\"1318\",\"type\":\"Title\"},\"toolbar\":{\"id\":\"1304\",\"type\":\"Toolbar\"},\"x_range\":{\"id\":\"1280\",\"type\":\"DataRange1d\"},\"x_scale\":{\"id\":\"1284\",\"type\":\"LinearScale\"},\"y_range\":{\"id\":\"1282\",\"type\":\"DataRange1d\"},\"y_scale\":{\"id\":\"1286\",\"type\":\"LinearScale\"}},\"id\":\"1279\",\"subtype\":\"Figure\",\"type\":\"Plot\"},{\"attributes\":{},\"id\":\"1361\",\"type\":\"Selection\"},{\"attributes\":{},\"id\":\"1301\",\"type\":\"SaveTool\"},{\"attributes\":{\"callback\":null},\"id\":\"1282\",\"type\":\"DataRange1d\"},{\"attributes\":{},\"id\":\"1302\",\"type\":\"ResetTool\"},{\"attributes\":{\"callback\":null,\"data\":{\"x\":{\"__ndarray__\":\"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\",\"dtype\":\"float64\",\"shape\":[400]},\"y\":{\"__ndarray__\":\"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\",\"dtype\":\"float64\",\"shape\":[400]}},\"selected\":{\"id\":\"1361\",\"type\":\"Selection\"},\"selection_policy\":{\"id\":\"1362\",\"type\":\"UnionRenderers\"}},\"id\":\"1326\",\"type\":\"ColumnDataSource\"},{\"attributes\":{\"axis_label\":\"x\",\"formatter\":{\"id\":\"1320\",\"type\":\"BasicTickFormatter\"},\"ticker\":{\"id\":\"1289\",\"type\":\"BasicTicker\"}},\"id\":\"1288\",\"type\":\"LinearAxis\"},{\"attributes\":{\"active_drag\":\"auto\",\"active_inspect\":\"auto\",\"active_multi\":null,\"active_scroll\":\"auto\",\"active_tap\":\"auto\",\"tools\":[{\"id\":\"1298\",\"type\":\"PanTool\"},{\"id\":\"1299\",\"type\":\"WheelZoomTool\"},{\"id\":\"1300\",\"type\":\"BoxZoomTool\"},{\"id\":\"1301\",\"type\":\"SaveTool\"},{\"id\":\"1302\",\"type\":\"ResetTool\"},{\"id\":\"1303\",\"type\":\"HelpTool\"}]},\"id\":\"1304\",\"type\":\"Toolbar\"},{\"attributes\":{\"source\":{\"id\":\"1326\",\"type\":\"ColumnDataSource\"}},\"id\":\"1330\",\"type\":\"CDSView\"},{\"attributes\":{},\"id\":\"1360\",\"type\":\"UnionRenderers\"},{\"attributes\":{},\"id\":\"1359\",\"type\":\"Selection\"},{\"attributes\":{\"bottom_units\":\"screen\",\"fill_alpha\":{\"value\":0.5},\"fill_color\":{\"value\":\"lightgrey\"},\"left_units\":\"screen\",\"level\":\"overlay\",\"line_alpha\":{\"value\":1.0},\"line_color\":{\"value\":\"black\"},\"line_dash\":[4,4],\"line_width\":{\"value\":2},\"render_mode\":\"css\",\"right_units\":\"screen\",\"top_units\":\"screen\"},\"id\":\"1323\",\"type\":\"BoxAnnotation\"},{\"attributes\":{},\"id\":\"1303\",\"type\":\"HelpTool\"},{\"attributes\":{},\"id\":\"1289\",\"type\":\"BasicTicker\"},{\"attributes\":{\"line_alpha\":0.1,\"line_color\":\"#1f77b4\",\"line_width\":2,\"x\":{\"field\":\"x\"},\"y\":{\"field\":\"y\"}},\"id\":\"1328\",\"type\":\"Line\"},{\"attributes\":{},\"id\":\"1286\",\"type\":\"LinearScale\"},{\"attributes\":{\"data_source\":{\"id\":\"1326\",\"type\":\"ColumnDataSource\"},\"glyph\":{\"id\":\"1327\",\"type\":\"Line\"},\"hover_glyph\":null,\"muted_glyph\":null,\"nonselection_glyph\":{\"id\":\"1328\",\"type\":\"Line\"},\"selection_glyph\":null,\"view\":{\"id\":\"1330\",\"type\":\"CDSView\"}},\"id\":\"1329\",\"type\":\"GlyphRenderer\"},{\"attributes\":{\"callback\":null,\"data\":{\"__ECDF\":{\"__ndarray__\":\"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\",\"dtype\":\"float64\",\"shape\":[1000]},\"__dummy_cat\":[\" \",\" \",\" \",\" \",\" \",\" \",\" \",\" \",\" \",\" \",\" \",\" \",\" \",\" \",\" \",\" \",\" \",\" \",\" \",\" \",\" \",\" \",\" \",\" \",\" \",\" \",\" \",\" \",\" \",\" \",\" \",\" \",\" \",\" \",\" \",\" \",\" \",\" \",\" \",\" \",\" \",\" \",\" \",\" \",\" \",\" \",\" \",\" \",\" \",\" \",\" \",\" \",\" \",\" \",\" \",\" \",\" \",\" \",\" \",\" \",\" \",\" \",\" \",\" \",\" \",\" \",\" \",\" \",\" \",\" \",\" \",\" \",\" \",\" \",\" \",\" \",\" \",\" \",\" \",\" \",\" \",\" \",\" \",\" \",\" \",\" \",\" \",\" \",\" \",\" \",\" \",\" \",\" \",\" \",\" \",\" \",\" \",\" \",\" \",\" \",\" \",\" \",\" \",\" \",\" \",\" \",\" \",\" \",\" \",\" \",\" \",\" \",\" \",\" \",\" \",\" \",\" \",\" \",\" \",\" \",\" \",\" \",\" \",\" \",\" \",\" \",\" \",\" \",\" \",\" \",\" \",\" \",\" \",\" \",\" \",\" \",\" \",\" \",\" \",\" \",\" \",\" \",\" \",\" \",\" \",\" \",\" \",\" \",\" \",\" \",\" \",\" \",\" \",\" \",\" \",\" \",\" \",\" \",\" \",\" \",\" \",\" \",\" \",\" \",\" \",\" \",\" \",\" \",\" \",\" \",\" \",\" \",\" \",\" \",\" \",\" \",\" \",\" \",\" \",\" \",\" \",\" \",\" \",\" \",\" \",\" \",\" \",\" \",\" \",\" \",\" \",\" \",\" \",\" \",\" \",\" \",\" \",\" \",\" \",\" \",\" \",\" \",\" \",\" \",\" \",\" \",\" \",\" \",\" \",\" \",\" \",\" \",\" \",\" \",\" \",\" \",\" \",\" \",\" \",\" \",\" \",\" \",\" \",\" \",\" \",\" \",\" \",\" \",\" \",\" \",\" \",\" \",\" \",\" \",\" \",\" \",\" \",\" \",\" \",\" \",\" \",\" \",\" \",\" \",\" \",\" \",\" \",\" \",\" \",\" \",\" \",\" \",\" \",\" \",\" \",\" \",\" \",\" \",\" \",\" \",\" \",\" \",\" \",\" \",\" \",\" \",\" \",\" \",\" \",\" \",\" \",\" \",\" \",\" \",\" \",\" \",\" \",\" \",\" \",\" \",\" \",\" \",\" \",\" \",\" \",\" \",\" \",\" \",\" \",\" \",\" \",\" \",\" \",\" \",\" \",\" \",\" \",\" \",\" \",\" \",\" \",\" \",\" \",\" \",\" \",\" \",\" \",\" \",\" \",\" \",\" \",\" \",\" \",\" \",\" \",\" \",\" \",\" \",\" \",\" \",\" \",\" \",\" \",\" \",\" \",\" \",\" \",\" \",\" \",\" \",\" \",\" \",\" \",\" \",\" \",\" \",\" \",\" \",\" \",\" \",\" \",\" \",\" \",\" \",\" \",\" \",\" \",\" \",\" \",\" \",\" \",\" \",\" \",\" \",\" \",\" \",\" \",\" \",\" \",\" \",\" \",\" \",\" \",\" \",\" \",\" \",\" \",\" \",\" \",\" \",\" \",\" \",\" \",\" \",\" \",\" \",\" \",\" \",\" \",\" \",\" \",\" \",\" \",\" \",\" \",\" \",\" \",\" \",\" \",\" \",\" \",\" \",\" \",\" \",\" \",\" \",\" \",\" \",\" \",\" \",\" \",\" \",\" \",\" \",\" \",\" \",\" \",\" \",\" \",\" \",\" \",\" \",\" \",\" \",\" \",\" \",\" \",\" \",\" \",\" \",\" \",\" \",\" \",\" \",\" \",\" \",\" \",\" \",\" \",\" \",\" \",\" \",\" \",\" \",\" \",\" \",\" \",\" \",\" \",\" \",\" \",\" \",\" \",\" \",\" \",\" \",\" \",\" \",\" \",\" \",\" \",\" \",\" \",\" \",\" \",\" \",\" \",\" \",\" \",\" \",\" \",\" \",\" \",\" \",\" \",\" \",\" \",\" \",\" \",\" \",\" \",\" \",\" \",\" \",\" \",\" \",\" \",\" \",\" \",\" \",\" \",\" \",\" \",\" \",\" \",\" \",\" \",\" \",\" \",\" \",\" \",\" \",\" \",\" \",\" \",\" \",\" \",\" \",\" \",\" \",\" \",\" \",\" \",\" \",\" \",\" \",\" \",\" \",\" \",\" \",\" \",\" \",\" \",\" \",\" \",\" \",\" \",\" \",\" \",\" \",\" \",\" \",\" \",\" \",\" \",\" \",\" \",\" \",\" \",\" \",\" \",\" \",\" \",\" \",\" \",\" \",\" \",\" \",\" \",\" \",\" \",\" \",\" \",\" \",\" \",\" \",\" \",\" \",\" \",\" \",\" \",\" \",\" \",\" \",\" \",\" \",\" \",\" \",\" \",\" \",\" \",\" \",\" \",\" \",\" \",\" \",\" \",\" \",\" \",\" \",\" \",\" \",\" \",\" \",\" \",\" \",\" \",\" \",\" \",\" \",\" \",\" \",\" \",\" \",\" \",\" \",\" \",\" \",\" \",\" \",\" \",\" \",\" \",\" \",\" \",\" \",\" \",\" \",\" \",\" \",\" \",\" \",\" \",\" \",\" \",\" \",\" \",\" \",\" \",\" \",\" \",\" \",\" \",\" \",\" \",\" \",\" \",\" \",\" \",\" \",\" \",\" \",\" \",\" \",\" \",\" \",\" \",\" \",\" \",\" \",\" \",\" \",\" \",\" \",\" \",\" \",\" \",\" \",\" \",\" \",\" \",\" \",\" \",\" \",\" \",\" \",\" \",\" \",\" \",\" \",\" \",\" \",\" \",\" \",\" \",\" \",\" \",\" \",\" \",\" \",\" \",\" \",\" \",\" \",\" \",\" \",\" \",\" \",\" \",\" \",\" \",\" \",\" \",\" \",\" \",\" \",\" \",\" \",\" \",\" \",\" \",\" \",\" \",\" \",\" \",\" \",\" \",\" \",\" \",\" \",\" \",\" \",\" \",\" \",\" \",\" \",\" \",\" \",\" \",\" \",\" \",\" \",\" \",\" \",\" \",\" \",\" \",\" \",\" \",\" \",\" \",\" \",\" \",\" \",\" \",\" \",\" \",\" \",\" \",\" \",\" \",\" \",\" \",\" \",\" \",\" \",\" \",\" \",\" \",\" \",\" \",\" \",\" \",\" \",\" \",\" \",\" \",\" \",\" \",\" \",\" \",\" \",\" \",\" \",\" \",\" \",\" \",\" \",\" \",\" \",\" \",\" \",\" \",\" \",\" \",\" \",\" \",\" \",\" \",\" \",\" \",\" \",\" \",\" \",\" \",\" \",\" \",\" \",\" \",\" \",\" \",\" \",\" \",\" \",\" \",\" \",\" \",\" \",\" \",\" \",\" \",\" \",\" \",\" \",\" \",\" \",\" \",\" \",\" \",\" \",\" \",\" \",\" \",\" \",\" \",\" \",\" \",\" \",\" \",\" \",\" \",\" \",\" \",\" \",\" \",\" \",\" \",\" \",\" \",\" \",\" \",\" \",\" \",\" \",\" \",\" \",\" \",\" \",\" \",\" \",\" \",\" \",\" \",\" \",\" \",\" \",\" \",\" \",\" \",\" \",\" \",\" \",\" \",\" \",\" \",\" \",\" \",\" \",\" \",\" \",\" \",\" \",\" \",\" \",\" \",\" \",\" \",\" \",\" \",\" \",\" \",\" \",\" \",\" \",\" \",\" \",\" \",\" \",\" \",\" \",\" \",\" \",\" \",\" \",\" \",\" \",\" \",\" \",\" \",\" \",\" \",\" \",\" \",\" \",\" \",\" \",\" \",\" \",\" \",\" \",\" \",\" \",\" \",\" \",\" \",\" \",\" \",\" \",\" \",\" \",\" \",\" \",\" \",\" \",\" \",\" \",\" \",\" \",\" \",\" \",\" \",\" \",\" \",\" \",\" \",\" \",\" \",\" \",\" \",\" \",\" \",\" \",\" \",\" \",\" \",\" \",\" \",\" \",\" \",\" \",\" \",\" \",\" \",\" \",\" \",\" \",\" \",\" \",\" \",\" \",\" \",\" \",\" \",\" \",\" \",\" \",\" \",\" \",\" \",\" \",\" \",\" \",\" \",\" \",\" \",\" \",\" \",\" \",\" \",\" \",\" \",\" \",\" \",\" \",\" \",\" \",\" \",\" \",\" \",\" \",\" \",\" \",\" \",\" \",\" \",\" \",\" \",\" \",\" \",\" \",\" \",\" \",\" \",\" \",\" \",\" \",\" \",\" \",\" \",\" \",\" \",\" \",\" \",\" \",\" \",\" \",\" \",\" \",\" \",\" \",\" \",\" \",\" \",\" \",\" \",\" \",\" \",\" \",\" \",\" \"],\"__label\":[\" \",\" \",\" \",\" \",\" \",\" \",\" \",\" \",\" \",\" \",\" \",\" \",\" \",\" \",\" \",\" \",\" \",\" \",\" \",\" \",\" \",\" \",\" \",\" \",\" \",\" \",\" \",\" \",\" \",\" \",\" \",\" \",\" \",\" \",\" \",\" \",\" \",\" \",\" \",\" \",\" \",\" \",\" \",\" \",\" \",\" \",\" \",\" \",\" \",\" \",\" \",\" \",\" \",\" \",\" \",\" \",\" \",\" \",\" \",\" \",\" \",\" \",\" \",\" \",\" \",\" \",\" \",\" \",\" \",\" \",\" \",\" \",\" \",\" \",\" \",\" \",\" \",\" \",\" \",\" \",\" \",\" \",\" \",\" \",\" \",\" \",\" \",\" \",\" \",\" \",\" \",\" \",\" \",\" \",\" \",\" \",\" \",\" \",\" \",\" \",\" \",\" \",\" \",\" \",\" \",\" \",\" \",\" \",\" \",\" \",\" \",\" \",\" \",\" \",\" \",\" \",\" \",\" \",\" \",\" \",\" \",\" \",\" \",\" \",\" \",\" \",\" \",\" \",\" \",\" \",\" \",\" \",\" \",\" \",\" \",\" \",\" \",\" \",\" \",\" \",\" \",\" \",\" \",\" \",\" \",\" \",\" \",\" \",\" \",\" \",\" \",\" \",\" \",\" \",\" \",\" \",\" \",\" \",\" \",\" \",\" \",\" \",\" \",\" \",\" \",\" \",\" \",\" \",\" \",\" \",\" \",\" \",\" \",\" \",\" \",\" \",\" \",\" \",\" \",\" \",\" \",\" \",\" \",\" \",\" \",\" \",\" \",\" \",\" \",\" \",\" \",\" \",\" \",\" \",\" \",\" \",\" \",\" \",\" \",\" \",\" \",\" \",\" \",\" \",\" \",\" \",\" \",\" \",\" \",\" \",\" \",\" \",\" \",\" \",\" \",\" \",\" \",\" \",\" \",\" \",\" \",\" \",\" \",\" \",\" \",\" \",\" \",\" \",\" \",\" \",\" \",\" \",\" \",\" \",\" \",\" \",\" \",\" \",\" \",\" \",\" \",\" \",\" \",\" \",\" \",\" \",\" \",\" \",\" \",\" \",\" \",\" \",\" \",\" \",\" \",\" \",\" \",\" \",\" \",\" \",\" \",\" \",\" \",\" \",\" \",\" \",\" \",\" \",\" \",\" \",\" \",\" \",\" \",\" \",\" \",\" \",\" \",\" \",\" \",\" \",\" \",\" \",\" \",\" \",\" \",\" \",\" \",\" \",\" \",\" \",\" \",\" \",\" \",\" \",\" \",\" \",\" \",\" \",\" \",\" \",\" \",\" \",\" \",\" \",\" \",\" \",\" \",\" \",\" \",\" \",\" \",\" \",\" \",\" \",\" \",\" \",\" \",\" \",\" \",\" \",\" \",\" \",\" \",\" \",\" \",\" \",\" \",\" \",\" \",\" \",\" \",\" \",\" \",\" \",\" \",\" \",\" \",\" \",\" \",\" \",\" \",\" \",\" \",\" \",\" \",\" \",\" \",\" \",\" \",\" \",\" \",\" \",\" \",\" \",\" \",\" \",\" \",\" \",\" \",\" \",\" \",\" \",\" \",\" \",\" \",\" \",\" \",\" \",\" \",\" \",\" \",\" \",\" \",\" \",\" \",\" \",\" \",\" \",\" \",\" \",\" \",\" \",\" \",\" \",\" \",\" \",\" \",\" \",\" \",\" \",\" \",\" \",\" \",\" \",\" \",\" \",\" \",\" \",\" \",\" \",\" \",\" \",\" \",\" \",\" \",\" \",\" \",\" \",\" \",\" \",\" \",\" \",\" \",\" \",\" \",\" \",\" \",\" \",\" \",\" \",\" \",\" \",\" \",\" \",\" \",\" \",\" \",\" \",\" \",\" \",\" \",\" \",\" \",\" \",\" \",\" \",\" \",\" \",\" \",\" \",\" \",\" \",\" \",\" \",\" \",\" \",\" \",\" \",\" \",\" \",\" \",\" \",\" \",\" \",\" \",\" \",\" \",\" \",\" \",\" \",\" \",\" \",\" \",\" \",\" \",\" \",\" \",\" \",\" \",\" \",\" \",\" \",\" \",\" \",\" \",\" \",\" \",\" \",\" \",\" \",\" \",\" \",\" \",\" \",\" \",\" \",\" \",\" \",\" \",\" \",\" \",\" \",\" \",\" \",\" \",\" \",\" \",\" \",\" \",\" \",\" \",\" \",\" \",\" \",\" \",\" \",\" \",\" \",\" \",\" \",\" \",\" \",\" \",\" \",\" \",\" \",\" \",\" \",\" \",\" \",\" \",\" \",\" \",\" \",\" \",\" \",\" \",\" \",\" \",\" \",\" \",\" \",\" \",\" \",\" \",\" \",\" \",\" \",\" \",\" \",\" \",\" \",\" \",\" \",\" \",\" \",\" \",\" \",\" \",\" \",\" \",\" \",\" \",\" \",\" \",\" \",\" \",\" \",\" \",\" \",\" \",\" \",\" \",\" \",\" \",\" \",\" \",\" \",\" \",\" \",\" \",\" \",\" \",\" \",\" \",\" \",\" \",\" \",\" \",\" \",\" \",\" \",\" \",\" \",\" \",\" \",\" \",\" \",\" \",\" \",\" \",\" \",\" \",\" \",\" \",\" \",\" \",\" \",\" \",\" \",\" \",\" \",\" \",\" \",\" \",\" \",\" \",\" \",\" \",\" \",\" \",\" \",\" \",\" \",\" \",\" \",\" \",\" \",\" \",\" \",\" \",\" \",\" \",\" \",\" \",\" \",\" \",\" \",\" \",\" \",\" \",\" \",\" \",\" \",\" \",\" \",\" \",\" \",\" \",\" \",\" \",\" \",\" \",\" \",\" \",\" \",\" \",\" \",\" \",\" \",\" \",\" \",\" \",\" \",\" \",\" \",\" \",\" \",\" \",\" \",\" \",\" \",\" \",\" \",\" \",\" \",\" \",\" \",\" \",\" \",\" \",\" \",\" \",\" \",\" \",\" \",\" \",\" \",\" \",\" \",\" \",\" \",\" \",\" \",\" \",\" \",\" \",\" \",\" \",\" \",\" \",\" \",\" \",\" \",\" \",\" \",\" \",\" \",\" \",\" \",\" \",\" \",\" \",\" \",\" \",\" \",\" \",\" \",\" \",\" \",\" \",\" \",\" \",\" \",\" \",\" \",\" \",\" \",\" \",\" \",\" \",\" \",\" \",\" \",\" \",\" \",\" \",\" \",\" \",\" \",\" \",\" \",\" \",\" \",\" \",\" \",\" \",\" \",\" \",\" \",\" \",\" \",\" \",\" \",\" \",\" \",\" \",\" \",\" \",\" \",\" \",\" \",\" \",\" \",\" \",\" \",\" \",\" \",\" \",\" \",\" \",\" \",\" \",\" \",\" \",\" \",\" \",\" \",\" \",\" \",\" \",\" \",\" \",\" \",\" \",\" \",\" \",\" \",\" \",\" \",\" \",\" \",\" \",\" \",\" \",\" \",\" \",\" \",\" \",\" \",\" \",\" \",\" \",\" \",\" \",\" \",\" \",\" \",\" \",\" \",\" \",\" \",\" \",\" \",\" \",\" \",\" \",\" \",\" \",\" \",\" \",\" \",\" \",\" \",\" \",\" \",\" \",\" \",\" \",\" \",\" \",\" \",\" \",\" \",\" \",\" \",\" \",\" \",\" \",\" \",\" \",\" \",\" \",\" \",\" \",\" \",\" \",\" \",\" \",\" \",\" \",\" \",\" \",\" \",\" \",\" \",\" \",\" \",\" \",\" \",\" \",\" \",\" \",\" \",\" \",\" \",\" \",\" \",\" \",\" \",\" \",\" \",\" \",\" \",\" \",\" \",\" \",\" \",\" \",\" \",\" \",\" \",\" \",\" \",\" \",\" \",\" \",\" \",\" \",\" \",\" \",\" \",\" \",\" \",\" \",\" \",\" \",\" \",\" \",\" \",\" \",\" \",\" \",\" \",\" \",\" \",\" \",\" \",\" \",\" \",\" \",\" \",\" \",\" \",\" \",\" \",\" \",\" \",\" \",\" \",\" \",\" \",\" \",\" \",\" \",\" \",\" \",\" \",\" \",\" \",\" \",\" \",\" \",\" \",\" \",\" \",\" \",\" \",\" \",\" \",\" \",\" \",\" \",\" \",\" \",\" \",\" \",\" \",\" \",\" \",\" \",\" \",\" \",\" \",\" \",\" \",\" \",\" \",\" \",\" \",\" \",\" \",\" \",\" \",\" \",\" \",\" \",\" \",\" \",\" \",\" \",\" \",\" \",\" \",\" \",\" \",\" \",\" \",\" \",\" \",\" \",\" \",\" \",\" \",\" \",\" \",\" \",\" \",\" \",\" \",\" \",\" \",\" \",\" \",\" \",\" \",\" \",\" \",\" \",\" \",\" \",\" \",\" \",\" \",\" \",\" \",\" \",\" \",\" \",\" \"],\"index\":[0,1,2,3,4,5,6,7,8,9,10,11,12,13,14,15,16,17,18,19,20,21,22,23,24,25,26,27,28,29,30,31,32,33,34,35,36,37,38,39,40,41,42,43,44,45,46,47,48,49,50,51,52,53,54,55,56,57,58,59,60,61,62,63,64,65,66,67,68,69,70,71,72,73,74,75,76,77,78,79,80,81,82,83,84,85,86,87,88,89,90,91,92,93,94,95,96,97,98,99,100,101,102,103,104,105,106,107,108,109,110,111,112,113,114,115,116,117,118,119,120,121,122,123,124,125,126,127,128,129,130,131,132,133,134,135,136,137,138,139,140,141,142,143,144,145,146,147,148,149,150,151,152,153,154,155,156,157,158,159,160,161,162,163,164,165,166,167,168,169,170,171,172,173,174,175,176,177,178,179,180,181,182,183,184,185,186,187,188,189,190,191,192,193,194,195,196,197,198,199,200,201,202,203,204,205,206,207,208,209,210,211,212,213,214,215,216,217,218,219,220,221,222,223,224,225,226,227,228,229,230,231,232,233,234,235,236,237,238,239,240,241,242,243,244,245,246,247,248,249,250,251,252,253,254,255,256,257,258,259,260,261,262,263,264,265,266,267,268,269,270,271,272,273,274,275,276,277,278,279,280,281,282,283,284,285,286,287,288,289,290,291,292,293,294,295,296,297,298,299,300,301,302,303,304,305,306,307,308,309,310,311,312,313,314,315,316,317,318,319,320,321,322,323,324,325,326,327,328,329,330,331,332,333,334,335,336,337,338,339,340,341,342,343,344,345,346,347,348,349,350,351,352,353,354,355,356,357,358,359,360,361,362,363,364,365,366,367,368,369,370,371,372,373,374,375,376,377,378,379,380,381,382,383,384,385,386,387,388,389,390,391,392,393,394,395,396,397,398,399,400,401,402,403,404,405,406,407,408,409,410,411,412,413,414,415,416,417,418,419,420,421,422,423,424,425,426,427,428,429,430,431,432,433,434,435,436,437,438,439,440,441,442,443,444,445,446,447,448,449,450,451,452,453,454,455,456,457,458,459,460,461,462,463,464,465,466,467,468,469,470,471,472,473,474,475,476,477,478,479,480,481,482,483,484,485,486,487,488,489,490,491,492,493,494,495,496,497,498,499,500,501,502,503,504,505,506,507,508,509,510,511,512,513,514,515,516,517,518,519,520,521,522,523,524,525,526,527,528,529,530,531,532,533,534,535,536,537,538,539,540,541,542,543,544,545,546,547,548,549,550,551,552,553,554,555,556,557,558,559,560,561,562,563,564,565,566,567,568,569,570,571,572,573,574,575,576,577,578,579,580,581,582,583,584,585,586,587,588,589,590,591,592,593,594,595,596,597,598,599,600,601,602,603,604,605,606,607,608,609,610,611,612,613,614,615,616,617,618,619,620,621,622,623,624,625,626,627,628,629,630,631,632,633,634,635,636,637,638,639,640,641,642,643,644,645,646,647,648,649,650,651,652,653,654,655,656,657,658,659,660,661,662,663,664,665,666,667,668,669,670,671,672,673,674,675,676,677,678,679,680,681,682,683,684,685,686,687,688,689,690,691,692,693,694,695,696,697,698,699,700,701,702,703,704,705,706,707,708,709,710,711,712,713,714,715,716,717,718,719,720,721,722,723,724,725,726,727,728,729,730,731,732,733,734,735,736,737,738,739,740,741,742,743,744,745,746,747,748,749,750,751,752,753,754,755,756,757,758,759,760,761,762,763,764,765,766,767,768,769,770,771,772,773,774,775,776,777,778,779,780,781,782,783,784,785,786,787,788,789,790,791,792,793,794,795,796,797,798,799,800,801,802,803,804,805,806,807,808,809,810,811,812,813,814,815,816,817,818,819,820,821,822,823,824,825,826,827,828,829,830,831,832,833,834,835,836,837,838,839,840,841,842,843,844,845,846,847,848,849,850,851,852,853,854,855,856,857,858,859,860,861,862,863,864,865,866,867,868,869,870,871,872,873,874,875,876,877,878,879,880,881,882,883,884,885,886,887,888,889,890,891,892,893,894,895,896,897,898,899,900,901,902,903,904,905,906,907,908,909,910,911,912,913,914,915,916,917,918,919,920,921,922,923,924,925,926,927,928,929,930,931,932,933,934,935,936,937,938,939,940,941,942,943,944,945,946,947,948,949,950,951,952,953,954,955,956,957,958,959,960,961,962,963,964,965,966,967,968,969,970,971,972,973,974,975,976,977,978,979,980,981,982,983,984,985,986,987,988,989,990,991,992,993,994,995,996,997,998,999],\"x\":{\"__ndarray__\":\"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\",\"dtype\":\"float64\",\"shape\":[1000]}},\"selected\":{\"id\":\"1359\",\"type\":\"Selection\"},\"selection_policy\":{\"id\":\"1360\",\"type\":\"UnionRenderers\"}},\"id\":\"1311\",\"type\":\"ColumnDataSource\"},{\"attributes\":{},\"id\":\"1320\",\"type\":\"BasicTickFormatter\"},{\"attributes\":{},\"id\":\"1284\",\"type\":\"LinearScale\"},{\"attributes\":{\"callback\":null},\"id\":\"1280\",\"type\":\"DataRange1d\"},{\"attributes\":{\"ticker\":{\"id\":\"1289\",\"type\":\"BasicTicker\"}},\"id\":\"1292\",\"type\":\"Grid\"},{\"attributes\":{\"axis_label\":\"ECDF\",\"formatter\":{\"id\":\"1322\",\"type\":\"BasicTickFormatter\"},\"ticker\":{\"id\":\"1294\",\"type\":\"BasicTicker\"}},\"id\":\"1293\",\"type\":\"LinearAxis\"},{\"attributes\":{},\"id\":\"1294\",\"type\":\"BasicTicker\"},{\"attributes\":{},\"id\":\"1322\",\"type\":\"BasicTickFormatter\"},{\"attributes\":{\"source\":{\"id\":\"1311\",\"type\":\"ColumnDataSource\"}},\"id\":\"1316\",\"type\":\"CDSView\"},{\"attributes\":{\"line_color\":\"orange\",\"line_width\":2,\"x\":{\"field\":\"x\"},\"y\":{\"field\":\"y\"}},\"id\":\"1327\",\"type\":\"Line\"},{\"attributes\":{\"dimension\":1,\"ticker\":{\"id\":\"1294\",\"type\":\"BasicTicker\"}},\"id\":\"1297\",\"type\":\"Grid\"},{\"attributes\":{\"fill_color\":{\"value\":null},\"line_color\":{\"value\":\"#4e79a7\"},\"x\":{\"field\":\"x\"},\"y\":{\"field\":\"__ECDF\"}},\"id\":\"1313\",\"type\":\"Circle\"},{\"attributes\":{\"label\":{\"value\":\" \"},\"renderers\":[{\"id\":\"1315\",\"type\":\"GlyphRenderer\"}]},\"id\":\"1325\",\"type\":\"LegendItem\"},{\"attributes\":{\"items\":[{\"id\":\"1325\",\"type\":\"LegendItem\"}],\"visible\":false},\"id\":\"1324\",\"type\":\"Legend\"},{\"attributes\":{},\"id\":\"1362\",\"type\":\"UnionRenderers\"},{\"attributes\":{\"text\":\"\"},\"id\":\"1318\",\"type\":\"Title\"},{\"attributes\":{\"fill_alpha\":{\"value\":0.1},\"fill_color\":{\"value\":\"#1f77b4\"},\"line_alpha\":{\"value\":0.1},\"line_color\":{\"value\":\"#1f77b4\"},\"x\":{\"field\":\"x\"},\"y\":{\"field\":\"__ECDF\"}},\"id\":\"1314\",\"type\":\"Circle\"},{\"attributes\":{},\"id\":\"1298\",\"type\":\"PanTool\"},{\"attributes\":{},\"id\":\"1299\",\"type\":\"WheelZoomTool\"},{\"attributes\":{\"data_source\":{\"id\":\"1311\",\"type\":\"ColumnDataSource\"},\"glyph\":{\"id\":\"1313\",\"type\":\"Circle\"},\"hover_glyph\":null,\"muted_glyph\":null,\"nonselection_glyph\":{\"id\":\"1314\",\"type\":\"Circle\"},\"selection_glyph\":null,\"view\":{\"id\":\"1316\",\"type\":\"CDSView\"}},\"id\":\"1315\",\"type\":\"GlyphRenderer\"},{\"attributes\":{\"overlay\":{\"id\":\"1323\",\"type\":\"BoxAnnotation\"}},\"id\":\"1300\",\"type\":\"BoxZoomTool\"}],\"root_ids\":[\"1279\"]},\"title\":\"Bokeh Application\",\"version\":\"1.2.0\"}};\n",
       "  var render_items = [{\"docid\":\"9c1edc47-b9b6-445c-a635-a269a9981b54\",\"roots\":{\"1279\":\"3392418c-e726-40b2-9ef2-35fc80c51764\"}}];\n",
       "  root.Bokeh.embed.embed_items_notebook(docs_json, render_items);\n",
       "\n",
       "  }\n",
       "  if (root.Bokeh !== undefined) {\n",
       "    embed_document(root);\n",
       "  } else {\n",
       "    var attempts = 0;\n",
       "    var timer = setInterval(function(root) {\n",
       "      if (root.Bokeh !== undefined) {\n",
       "        embed_document(root);\n",
       "        clearInterval(timer);\n",
       "      }\n",
       "      attempts++;\n",
       "      if (attempts > 100) {\n",
       "        console.log(\"Bokeh: ERROR: Unable to run BokehJS code because BokehJS library is missing\");\n",
       "        clearInterval(timer);\n",
       "      }\n",
       "    }, 10, root)\n",
       "  }\n",
       "})(window);"
      ],
      "application/vnd.bokehjs_exec.v0+json": ""
     },
     "metadata": {
      "application/vnd.bokehjs_exec.v0+json": {
       "id": "1279"
      }
     },
     "output_type": "display_data"
    }
   ],
   "source": [
    "# Compute theoretical CDF\n",
    "x_theor = np.linspace(6, 14, 400)\n",
    "y_theor = scipy.stats.norm.cdf(x_theor, mu, sigma)\n",
    "\n",
    "# Plot the ECDF of randomly generated numbers\n",
    "p = bokeh_catplot.ecdf(\n",
    "    data=pd.DataFrame({'x': x[:1000]}),\n",
    "    cats=None,\n",
    "    val='x',\n",
    "    marker_kwargs=dict(fill_color=None),\n",
    ")\n",
    "\n",
    "p.line(\n",
    "    x=x_theor,\n",
    "    y=y_theor,\n",
    "    line_width=2,\n",
    "    line_color='orange',\n",
    ")\n",
    "\n",
    "bokeh.io.show(p)"
   ]
  },
  {
   "cell_type": "markdown",
   "metadata": {},
   "source": [
    "Yup, right on!"
   ]
  },
  {
   "cell_type": "markdown",
   "metadata": {},
   "source": [
    "## Selections from discrete distributions\n",
    "\n",
    "The random numbers we have generated so far from from continuous probability distributions.  We can also draw random numbers from discrete distributions.  We already showed how we can do this for \"coin flips,\" but we can do it for other distributions as well. Saw we wanted to draw from a Binomial distribution. We can use `np.random.binomial()`."
   ]
  },
  {
   "cell_type": "code",
   "execution_count": 10,
   "metadata": {},
   "outputs": [
    {
     "data": {
      "text/plain": [
       "7"
      ]
     },
     "execution_count": 10,
     "metadata": {},
     "output_type": "execute_result"
    }
   ],
   "source": [
    "# Draw how many coin flips land heads in 10 files\n",
    "np.random.binomial(10, 0.5)"
   ]
  },
  {
   "cell_type": "markdown",
   "metadata": {},
   "source": [
    "There are other discrete distributions we can draw from, such as Binomial, Geometric, Poisson, etc., and [the documentation](http://docs.scipy.org/doc/numpy/reference/routines.random.html) describes how to use them."
   ]
  },
  {
   "cell_type": "markdown",
   "metadata": {},
   "source": [
    "## Choosing elements from an array\n",
    "\n",
    "It is often useful to randomly choose elements from an existing array.  The `np.random.choice()` function does this.  You equivalently could do this using `np.random.randint()`, where the integers represent indices in the array, *except* `np.random.choice()` has a great keyword argument, `replace`, which allows random draws with or without replacement. For example, say you had 100 samples that you wanted to send to a facility for analysis, but you can only afford to send 20. If we used `np.random.randint()`, we might have a problem."
   ]
  },
  {
   "cell_type": "code",
   "execution_count": 11,
   "metadata": {},
   "outputs": [
    {
     "data": {
      "text/plain": [
       "array([38, 28, 14, 42,  7, 20, 38, 18, 22, 10, 10, 23, 35, 39, 23,  2, 21,\n",
       "        1, 23, 43])"
      ]
     },
     "execution_count": 11,
     "metadata": {},
     "output_type": "execute_result"
    }
   ],
   "source": [
    "np.random.seed(42)\n",
    "np.random.randint(0, 51, size=20)"
   ]
  },
  {
   "cell_type": "markdown",
   "metadata": {},
   "source": [
    "Sample 10 was selected twice and sample 23 was selected thrice!  We can use `np.random.choice()` instead."
   ]
  },
  {
   "cell_type": "code",
   "execution_count": 12,
   "metadata": {},
   "outputs": [
    {
     "data": {
      "text/plain": [
       "array([50, 22, 30, 16,  4, 10,  9, 41,  5, 12, 39, 18, 23, 31,  0, 28, 49,\n",
       "       44,  7, 45])"
      ]
     },
     "execution_count": 12,
     "metadata": {},
     "output_type": "execute_result"
    }
   ],
   "source": [
    "np.random.choice(np.arange(51), size=20, replace=False)"
   ]
  },
  {
   "cell_type": "markdown",
   "metadata": {},
   "source": [
    "Now, because we chose `replace=False`, we do not get any repeats."
   ]
  },
  {
   "cell_type": "markdown",
   "metadata": {},
   "source": [
    "### Generating random sequences\n",
    "\n",
    "Because it works with selecting characters as well as numbers, we can use the `np.random.choice()` function to generate random DNA sequences."
   ]
  },
  {
   "cell_type": "code",
   "execution_count": 13,
   "metadata": {},
   "outputs": [
    {
     "data": {
      "text/plain": [
       "'CTTTCTGCGCTGCATCACATGACTACCCAAAGAAAGACACCCGGGACGGAGATGTACGACCTACGGTCAG'"
      ]
     },
     "execution_count": 13,
     "metadata": {},
     "output_type": "execute_result"
    }
   ],
   "source": [
    "''.join(np.random.choice(list('ATGC'), replace=True, size=70))"
   ]
  },
  {
   "cell_type": "markdown",
   "metadata": {},
   "source": [
    "## Shuffling an array\n",
    "\n",
    "Similarly, the `np.random.permutation()` function is useful. It takes the entries in an array and shuffles them! Let's shuffle a deck of cards."
   ]
  },
  {
   "cell_type": "code",
   "execution_count": 14,
   "metadata": {},
   "outputs": [
    {
     "data": {
      "text/plain": [
       "array([28, 52,  7, 11, 50, 20, 42, 15, 17, 27,  5, 33, 45, 51, 31,  9,  1,\n",
       "       23, 24, 37, 10, 46, 32, 29, 22, 41,  3, 19, 16,  6, 30, 18, 12, 40,\n",
       "       35, 14,  8, 49, 38, 44, 25,  4, 47,  2, 13, 36, 48,  0, 34, 26, 21,\n",
       "       39, 43])"
      ]
     },
     "execution_count": 14,
     "metadata": {},
     "output_type": "execute_result"
    }
   ],
   "source": [
    "np.random.permutation(np.arange(53))"
   ]
  },
  {
   "cell_type": "markdown",
   "metadata": {},
   "source": [
    "## When do we need RNG?\n",
    "\n",
    "Answer: VERY OFTEN!  We will see many examples in the next lessons and in the exercises.  \n",
    "\n",
    "In many ways, probability is the language of biology. = Molecular processes have energetics that are comparable to the thermal energy, which means they are always influenced by random thermal forces. The processes of the central dogma, including DNA replication, are no exceptions. This gives rise to random mutations, which are central to understanding how evolution works. If we want to understand them, it is often useful to use random number generators to model the processes.\n",
    "\n",
    "RNG also comes up A LOT in data analysis, which we will see in the [lesson on hacker stats](l30_hackerstats.html)."
   ]
  },
  {
   "cell_type": "markdown",
   "metadata": {},
   "source": [
    "## Computing environment"
   ]
  },
  {
   "cell_type": "code",
   "execution_count": 15,
   "metadata": {},
   "outputs": [
    {
     "name": "stdout",
     "output_type": "stream",
     "text": [
      "CPython 3.7.3\n",
      "IPython 7.1.1\n",
      "\n",
      "numpy 1.16.4\n",
      "scipy 1.2.1\n",
      "pandas 0.24.2\n",
      "bokeh 1.2.0\n",
      "bokeh_catplot 0.1.2\n",
      "jupyterlab 0.35.5\n"
     ]
    }
   ],
   "source": [
    "%load_ext watermark\n",
    "%watermark -v -p numpy,scipy,pandas,bokeh,bokeh_catplot,jupyterlab"
   ]
  }
 ],
 "metadata": {
  "anaconda-cloud": {},
  "kernelspec": {
   "display_name": "Python 3",
   "language": "python",
   "name": "python3"
  },
  "language_info": {
   "codemirror_mode": {
    "name": "ipython",
    "version": 3
   },
   "file_extension": ".py",
   "mimetype": "text/x-python",
   "name": "python",
   "nbconvert_exporter": "python",
   "pygments_lexer": "ipython3",
   "version": "3.7.3"
  }
 },
 "nbformat": 4,
 "nbformat_minor": 2
}
