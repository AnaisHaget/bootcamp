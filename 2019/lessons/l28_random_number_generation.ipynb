{
 "cells": [
  {
   "cell_type": "markdown",
   "metadata": {},
   "source": [
    "# Lesson 28: Random number generation\n",
    "\n",
    "(c) 2019 Justin Bois. With the exception of pasted graphics, where the source is noted, this work is licensed under a [Creative Commons Attribution License CC-BY 4.0](https://creativecommons.org/licenses/by/4.0/). All code contained herein is licensed under an [MIT license](https://opensource.org/licenses/MIT).\n",
    "\n",
    "This document was prepared at [Caltech](http://www.caltech.edu) with financial support from the [Donna and Benjamin M. Rosen Bioengineering Center](http://rosen.caltech.edu).\n",
    "\n",
    "<img src=\"caltech_rosen.png\">\n",
    "\n",
    "*This tutorial was generated from a Jupyter notebook.  You can download the notebook [here](l28_random_number_generation.ipynb).*\n",
    "\n",
    "<hr />"
   ]
  },
  {
   "cell_type": "code",
   "execution_count": 1,
   "metadata": {
    "collapsed": true
   },
   "outputs": [
    {
     "data": {
      "text/html": [
       "\n",
       "    <div class=\"bk-root\">\n",
       "        <a href=\"https://bokeh.pydata.org\" target=\"_blank\" class=\"bk-logo bk-logo-small bk-logo-notebook\"></a>\n",
       "        <span id=\"1001\">Loading BokehJS ...</span>\n",
       "    </div>"
      ]
     },
     "metadata": {},
     "output_type": "display_data"
    },
    {
     "data": {
      "application/javascript": [
       "\n",
       "(function(root) {\n",
       "  function now() {\n",
       "    return new Date();\n",
       "  }\n",
       "\n",
       "  var force = true;\n",
       "\n",
       "  if (typeof root._bokeh_onload_callbacks === \"undefined\" || force === true) {\n",
       "    root._bokeh_onload_callbacks = [];\n",
       "    root._bokeh_is_loading = undefined;\n",
       "  }\n",
       "\n",
       "  var JS_MIME_TYPE = 'application/javascript';\n",
       "  var HTML_MIME_TYPE = 'text/html';\n",
       "  var EXEC_MIME_TYPE = 'application/vnd.bokehjs_exec.v0+json';\n",
       "  var CLASS_NAME = 'output_bokeh rendered_html';\n",
       "\n",
       "  /**\n",
       "   * Render data to the DOM node\n",
       "   */\n",
       "  function render(props, node) {\n",
       "    var script = document.createElement(\"script\");\n",
       "    node.appendChild(script);\n",
       "  }\n",
       "\n",
       "  /**\n",
       "   * Handle when an output is cleared or removed\n",
       "   */\n",
       "  function handleClearOutput(event, handle) {\n",
       "    var cell = handle.cell;\n",
       "\n",
       "    var id = cell.output_area._bokeh_element_id;\n",
       "    var server_id = cell.output_area._bokeh_server_id;\n",
       "    // Clean up Bokeh references\n",
       "    if (id != null && id in Bokeh.index) {\n",
       "      Bokeh.index[id].model.document.clear();\n",
       "      delete Bokeh.index[id];\n",
       "    }\n",
       "\n",
       "    if (server_id !== undefined) {\n",
       "      // Clean up Bokeh references\n",
       "      var cmd = \"from bokeh.io.state import curstate; print(curstate().uuid_to_server['\" + server_id + \"'].get_sessions()[0].document.roots[0]._id)\";\n",
       "      cell.notebook.kernel.execute(cmd, {\n",
       "        iopub: {\n",
       "          output: function(msg) {\n",
       "            var id = msg.content.text.trim();\n",
       "            if (id in Bokeh.index) {\n",
       "              Bokeh.index[id].model.document.clear();\n",
       "              delete Bokeh.index[id];\n",
       "            }\n",
       "          }\n",
       "        }\n",
       "      });\n",
       "      // Destroy server and session\n",
       "      var cmd = \"import bokeh.io.notebook as ion; ion.destroy_server('\" + server_id + \"')\";\n",
       "      cell.notebook.kernel.execute(cmd);\n",
       "    }\n",
       "  }\n",
       "\n",
       "  /**\n",
       "   * Handle when a new output is added\n",
       "   */\n",
       "  function handleAddOutput(event, handle) {\n",
       "    var output_area = handle.output_area;\n",
       "    var output = handle.output;\n",
       "\n",
       "    // limit handleAddOutput to display_data with EXEC_MIME_TYPE content only\n",
       "    if ((output.output_type != \"display_data\") || (!output.data.hasOwnProperty(EXEC_MIME_TYPE))) {\n",
       "      return\n",
       "    }\n",
       "\n",
       "    var toinsert = output_area.element.find(\".\" + CLASS_NAME.split(' ')[0]);\n",
       "\n",
       "    if (output.metadata[EXEC_MIME_TYPE][\"id\"] !== undefined) {\n",
       "      toinsert[toinsert.length - 1].firstChild.textContent = output.data[JS_MIME_TYPE];\n",
       "      // store reference to embed id on output_area\n",
       "      output_area._bokeh_element_id = output.metadata[EXEC_MIME_TYPE][\"id\"];\n",
       "    }\n",
       "    if (output.metadata[EXEC_MIME_TYPE][\"server_id\"] !== undefined) {\n",
       "      var bk_div = document.createElement(\"div\");\n",
       "      bk_div.innerHTML = output.data[HTML_MIME_TYPE];\n",
       "      var script_attrs = bk_div.children[0].attributes;\n",
       "      for (var i = 0; i < script_attrs.length; i++) {\n",
       "        toinsert[toinsert.length - 1].firstChild.setAttribute(script_attrs[i].name, script_attrs[i].value);\n",
       "      }\n",
       "      // store reference to server id on output_area\n",
       "      output_area._bokeh_server_id = output.metadata[EXEC_MIME_TYPE][\"server_id\"];\n",
       "    }\n",
       "  }\n",
       "\n",
       "  function register_renderer(events, OutputArea) {\n",
       "\n",
       "    function append_mime(data, metadata, element) {\n",
       "      // create a DOM node to render to\n",
       "      var toinsert = this.create_output_subarea(\n",
       "        metadata,\n",
       "        CLASS_NAME,\n",
       "        EXEC_MIME_TYPE\n",
       "      );\n",
       "      this.keyboard_manager.register_events(toinsert);\n",
       "      // Render to node\n",
       "      var props = {data: data, metadata: metadata[EXEC_MIME_TYPE]};\n",
       "      render(props, toinsert[toinsert.length - 1]);\n",
       "      element.append(toinsert);\n",
       "      return toinsert\n",
       "    }\n",
       "\n",
       "    /* Handle when an output is cleared or removed */\n",
       "    events.on('clear_output.CodeCell', handleClearOutput);\n",
       "    events.on('delete.Cell', handleClearOutput);\n",
       "\n",
       "    /* Handle when a new output is added */\n",
       "    events.on('output_added.OutputArea', handleAddOutput);\n",
       "\n",
       "    /**\n",
       "     * Register the mime type and append_mime function with output_area\n",
       "     */\n",
       "    OutputArea.prototype.register_mime_type(EXEC_MIME_TYPE, append_mime, {\n",
       "      /* Is output safe? */\n",
       "      safe: true,\n",
       "      /* Index of renderer in `output_area.display_order` */\n",
       "      index: 0\n",
       "    });\n",
       "  }\n",
       "\n",
       "  // register the mime type if in Jupyter Notebook environment and previously unregistered\n",
       "  if (root.Jupyter !== undefined) {\n",
       "    var events = require('base/js/events');\n",
       "    var OutputArea = require('notebook/js/outputarea').OutputArea;\n",
       "\n",
       "    if (OutputArea.prototype.mime_types().indexOf(EXEC_MIME_TYPE) == -1) {\n",
       "      register_renderer(events, OutputArea);\n",
       "    }\n",
       "  }\n",
       "\n",
       "  \n",
       "  if (typeof (root._bokeh_timeout) === \"undefined\" || force === true) {\n",
       "    root._bokeh_timeout = Date.now() + 5000;\n",
       "    root._bokeh_failed_load = false;\n",
       "  }\n",
       "\n",
       "  var NB_LOAD_WARNING = {'data': {'text/html':\n",
       "     \"<div style='background-color: #fdd'>\\n\"+\n",
       "     \"<p>\\n\"+\n",
       "     \"BokehJS does not appear to have successfully loaded. If loading BokehJS from CDN, this \\n\"+\n",
       "     \"may be due to a slow or bad network connection. Possible fixes:\\n\"+\n",
       "     \"</p>\\n\"+\n",
       "     \"<ul>\\n\"+\n",
       "     \"<li>re-rerun `output_notebook()` to attempt to load from CDN again, or</li>\\n\"+\n",
       "     \"<li>use INLINE resources instead, as so:</li>\\n\"+\n",
       "     \"</ul>\\n\"+\n",
       "     \"<code>\\n\"+\n",
       "     \"from bokeh.resources import INLINE\\n\"+\n",
       "     \"output_notebook(resources=INLINE)\\n\"+\n",
       "     \"</code>\\n\"+\n",
       "     \"</div>\"}};\n",
       "\n",
       "  function display_loaded() {\n",
       "    var el = document.getElementById(\"1001\");\n",
       "    if (el != null) {\n",
       "      el.textContent = \"BokehJS is loading...\";\n",
       "    }\n",
       "    if (root.Bokeh !== undefined) {\n",
       "      if (el != null) {\n",
       "        el.textContent = \"BokehJS \" + root.Bokeh.version + \" successfully loaded.\";\n",
       "      }\n",
       "    } else if (Date.now() < root._bokeh_timeout) {\n",
       "      setTimeout(display_loaded, 100)\n",
       "    }\n",
       "  }\n",
       "\n",
       "\n",
       "  function run_callbacks() {\n",
       "    try {\n",
       "      root._bokeh_onload_callbacks.forEach(function(callback) {\n",
       "        if (callback != null)\n",
       "          callback();\n",
       "      });\n",
       "    } finally {\n",
       "      delete root._bokeh_onload_callbacks\n",
       "    }\n",
       "    console.debug(\"Bokeh: all callbacks have finished\");\n",
       "  }\n",
       "\n",
       "  function load_libs(css_urls, js_urls, callback) {\n",
       "    if (css_urls == null) css_urls = [];\n",
       "    if (js_urls == null) js_urls = [];\n",
       "\n",
       "    root._bokeh_onload_callbacks.push(callback);\n",
       "    if (root._bokeh_is_loading > 0) {\n",
       "      console.debug(\"Bokeh: BokehJS is being loaded, scheduling callback at\", now());\n",
       "      return null;\n",
       "    }\n",
       "    if (js_urls == null || js_urls.length === 0) {\n",
       "      run_callbacks();\n",
       "      return null;\n",
       "    }\n",
       "    console.debug(\"Bokeh: BokehJS not loaded, scheduling load and callback at\", now());\n",
       "    root._bokeh_is_loading = css_urls.length + js_urls.length;\n",
       "\n",
       "    function on_load() {\n",
       "      root._bokeh_is_loading--;\n",
       "      if (root._bokeh_is_loading === 0) {\n",
       "        console.debug(\"Bokeh: all BokehJS libraries/stylesheets loaded\");\n",
       "        run_callbacks()\n",
       "      }\n",
       "    }\n",
       "\n",
       "    function on_error() {\n",
       "      console.error(\"failed to load \" + url);\n",
       "    }\n",
       "\n",
       "    for (var i = 0; i < css_urls.length; i++) {\n",
       "      var url = css_urls[i];\n",
       "      const element = document.createElement(\"link\");\n",
       "      element.onload = on_load;\n",
       "      element.onerror = on_error;\n",
       "      element.rel = \"stylesheet\";\n",
       "      element.type = \"text/css\";\n",
       "      element.href = url;\n",
       "      console.debug(\"Bokeh: injecting link tag for BokehJS stylesheet: \", url);\n",
       "      document.body.appendChild(element);\n",
       "    }\n",
       "\n",
       "    for (var i = 0; i < js_urls.length; i++) {\n",
       "      var url = js_urls[i];\n",
       "      var element = document.createElement('script');\n",
       "      element.onload = on_load;\n",
       "      element.onerror = on_error;\n",
       "      element.async = false;\n",
       "      element.src = url;\n",
       "      console.debug(\"Bokeh: injecting script tag for BokehJS library: \", url);\n",
       "      document.head.appendChild(element);\n",
       "    }\n",
       "  };var element = document.getElementById(\"1001\");\n",
       "  if (element == null) {\n",
       "    console.error(\"Bokeh: ERROR: autoload.js configured with elementid '1001' but no matching script tag was found. \")\n",
       "    return false;\n",
       "  }\n",
       "\n",
       "  function inject_raw_css(css) {\n",
       "    const element = document.createElement(\"style\");\n",
       "    element.appendChild(document.createTextNode(css));\n",
       "    document.body.appendChild(element);\n",
       "  }\n",
       "\n",
       "  var js_urls = [\"https://cdn.pydata.org/bokeh/release/bokeh-1.2.0.min.js\", \"https://cdn.pydata.org/bokeh/release/bokeh-widgets-1.2.0.min.js\", \"https://cdn.pydata.org/bokeh/release/bokeh-tables-1.2.0.min.js\", \"https://cdn.pydata.org/bokeh/release/bokeh-gl-1.2.0.min.js\"];\n",
       "  var css_urls = [\"https://cdn.pydata.org/bokeh/release/bokeh-1.2.0.min.css\", \"https://cdn.pydata.org/bokeh/release/bokeh-widgets-1.2.0.min.css\", \"https://cdn.pydata.org/bokeh/release/bokeh-tables-1.2.0.min.css\"];\n",
       "\n",
       "  var inline_js = [\n",
       "    function(Bokeh) {\n",
       "      Bokeh.set_log_level(\"info\");\n",
       "    },\n",
       "    \n",
       "    function(Bokeh) {\n",
       "      \n",
       "    },\n",
       "    function(Bokeh) {} // ensure no trailing comma for IE\n",
       "  ];\n",
       "\n",
       "  function run_inline_js() {\n",
       "    \n",
       "    if ((root.Bokeh !== undefined) || (force === true)) {\n",
       "      for (var i = 0; i < inline_js.length; i++) {\n",
       "        inline_js[i].call(root, root.Bokeh);\n",
       "      }if (force === true) {\n",
       "        display_loaded();\n",
       "      }} else if (Date.now() < root._bokeh_timeout) {\n",
       "      setTimeout(run_inline_js, 100);\n",
       "    } else if (!root._bokeh_failed_load) {\n",
       "      console.log(\"Bokeh: BokehJS failed to load within specified timeout.\");\n",
       "      root._bokeh_failed_load = true;\n",
       "    } else if (force !== true) {\n",
       "      var cell = $(document.getElementById(\"1001\")).parents('.cell').data().cell;\n",
       "      cell.output_area.append_execute_result(NB_LOAD_WARNING)\n",
       "    }\n",
       "\n",
       "  }\n",
       "\n",
       "  if (root._bokeh_is_loading === 0) {\n",
       "    console.debug(\"Bokeh: BokehJS loaded, going straight to plotting\");\n",
       "    run_inline_js();\n",
       "  } else {\n",
       "    load_libs(css_urls, js_urls, function() {\n",
       "      console.debug(\"Bokeh: BokehJS plotting callback run at\", now());\n",
       "      run_inline_js();\n",
       "    });\n",
       "  }\n",
       "}(window));"
      ],
      "application/vnd.bokehjs_load.v0+json": "\n(function(root) {\n  function now() {\n    return new Date();\n  }\n\n  var force = true;\n\n  if (typeof root._bokeh_onload_callbacks === \"undefined\" || force === true) {\n    root._bokeh_onload_callbacks = [];\n    root._bokeh_is_loading = undefined;\n  }\n\n  \n\n  \n  if (typeof (root._bokeh_timeout) === \"undefined\" || force === true) {\n    root._bokeh_timeout = Date.now() + 5000;\n    root._bokeh_failed_load = false;\n  }\n\n  var NB_LOAD_WARNING = {'data': {'text/html':\n     \"<div style='background-color: #fdd'>\\n\"+\n     \"<p>\\n\"+\n     \"BokehJS does not appear to have successfully loaded. If loading BokehJS from CDN, this \\n\"+\n     \"may be due to a slow or bad network connection. Possible fixes:\\n\"+\n     \"</p>\\n\"+\n     \"<ul>\\n\"+\n     \"<li>re-rerun `output_notebook()` to attempt to load from CDN again, or</li>\\n\"+\n     \"<li>use INLINE resources instead, as so:</li>\\n\"+\n     \"</ul>\\n\"+\n     \"<code>\\n\"+\n     \"from bokeh.resources import INLINE\\n\"+\n     \"output_notebook(resources=INLINE)\\n\"+\n     \"</code>\\n\"+\n     \"</div>\"}};\n\n  function display_loaded() {\n    var el = document.getElementById(\"1001\");\n    if (el != null) {\n      el.textContent = \"BokehJS is loading...\";\n    }\n    if (root.Bokeh !== undefined) {\n      if (el != null) {\n        el.textContent = \"BokehJS \" + root.Bokeh.version + \" successfully loaded.\";\n      }\n    } else if (Date.now() < root._bokeh_timeout) {\n      setTimeout(display_loaded, 100)\n    }\n  }\n\n\n  function run_callbacks() {\n    try {\n      root._bokeh_onload_callbacks.forEach(function(callback) {\n        if (callback != null)\n          callback();\n      });\n    } finally {\n      delete root._bokeh_onload_callbacks\n    }\n    console.debug(\"Bokeh: all callbacks have finished\");\n  }\n\n  function load_libs(css_urls, js_urls, callback) {\n    if (css_urls == null) css_urls = [];\n    if (js_urls == null) js_urls = [];\n\n    root._bokeh_onload_callbacks.push(callback);\n    if (root._bokeh_is_loading > 0) {\n      console.debug(\"Bokeh: BokehJS is being loaded, scheduling callback at\", now());\n      return null;\n    }\n    if (js_urls == null || js_urls.length === 0) {\n      run_callbacks();\n      return null;\n    }\n    console.debug(\"Bokeh: BokehJS not loaded, scheduling load and callback at\", now());\n    root._bokeh_is_loading = css_urls.length + js_urls.length;\n\n    function on_load() {\n      root._bokeh_is_loading--;\n      if (root._bokeh_is_loading === 0) {\n        console.debug(\"Bokeh: all BokehJS libraries/stylesheets loaded\");\n        run_callbacks()\n      }\n    }\n\n    function on_error() {\n      console.error(\"failed to load \" + url);\n    }\n\n    for (var i = 0; i < css_urls.length; i++) {\n      var url = css_urls[i];\n      const element = document.createElement(\"link\");\n      element.onload = on_load;\n      element.onerror = on_error;\n      element.rel = \"stylesheet\";\n      element.type = \"text/css\";\n      element.href = url;\n      console.debug(\"Bokeh: injecting link tag for BokehJS stylesheet: \", url);\n      document.body.appendChild(element);\n    }\n\n    for (var i = 0; i < js_urls.length; i++) {\n      var url = js_urls[i];\n      var element = document.createElement('script');\n      element.onload = on_load;\n      element.onerror = on_error;\n      element.async = false;\n      element.src = url;\n      console.debug(\"Bokeh: injecting script tag for BokehJS library: \", url);\n      document.head.appendChild(element);\n    }\n  };var element = document.getElementById(\"1001\");\n  if (element == null) {\n    console.error(\"Bokeh: ERROR: autoload.js configured with elementid '1001' but no matching script tag was found. \")\n    return false;\n  }\n\n  function inject_raw_css(css) {\n    const element = document.createElement(\"style\");\n    element.appendChild(document.createTextNode(css));\n    document.body.appendChild(element);\n  }\n\n  var js_urls = [\"https://cdn.pydata.org/bokeh/release/bokeh-1.2.0.min.js\", \"https://cdn.pydata.org/bokeh/release/bokeh-widgets-1.2.0.min.js\", \"https://cdn.pydata.org/bokeh/release/bokeh-tables-1.2.0.min.js\", \"https://cdn.pydata.org/bokeh/release/bokeh-gl-1.2.0.min.js\"];\n  var css_urls = [\"https://cdn.pydata.org/bokeh/release/bokeh-1.2.0.min.css\", \"https://cdn.pydata.org/bokeh/release/bokeh-widgets-1.2.0.min.css\", \"https://cdn.pydata.org/bokeh/release/bokeh-tables-1.2.0.min.css\"];\n\n  var inline_js = [\n    function(Bokeh) {\n      Bokeh.set_log_level(\"info\");\n    },\n    \n    function(Bokeh) {\n      \n    },\n    function(Bokeh) {} // ensure no trailing comma for IE\n  ];\n\n  function run_inline_js() {\n    \n    if ((root.Bokeh !== undefined) || (force === true)) {\n      for (var i = 0; i < inline_js.length; i++) {\n        inline_js[i].call(root, root.Bokeh);\n      }if (force === true) {\n        display_loaded();\n      }} else if (Date.now() < root._bokeh_timeout) {\n      setTimeout(run_inline_js, 100);\n    } else if (!root._bokeh_failed_load) {\n      console.log(\"Bokeh: BokehJS failed to load within specified timeout.\");\n      root._bokeh_failed_load = true;\n    } else if (force !== true) {\n      var cell = $(document.getElementById(\"1001\")).parents('.cell').data().cell;\n      cell.output_area.append_execute_result(NB_LOAD_WARNING)\n    }\n\n  }\n\n  if (root._bokeh_is_loading === 0) {\n    console.debug(\"Bokeh: BokehJS loaded, going straight to plotting\");\n    run_inline_js();\n  } else {\n    load_libs(css_urls, js_urls, function() {\n      console.debug(\"Bokeh: BokehJS plotting callback run at\", now());\n      run_inline_js();\n    });\n  }\n}(window));"
     },
     "metadata": {},
     "output_type": "display_data"
    }
   ],
   "source": [
    "import numpy as np\n",
    "import pandas as pd\n",
    "import scipy.stats\n",
    "\n",
    "import bokeh_catplot\n",
    "\n",
    "import bokeh.io\n",
    "import bokeh.plotting\n",
    "\n",
    "bokeh.io.output_notebook()"
   ]
  },
  {
   "cell_type": "markdown",
   "metadata": {},
   "source": [
    "**Random number generation** (RNG), besides being a [song in the original off-Broadway run of *Hedwig and the Angry Inch*](https://www.youtube.com/watch?v=KzGHjsMGdy0), is the process by which a string of random numbers may be drawn. Of course, the numbers are not completely random for several reasons.\n",
    "\n",
    "1. They are drawn from a probability distribution. The most common one is the uniform distribution on the domain $0 \\le x < 1$, i.e., random numbers between zero and one. (\"Completely random\" does not make sense because of the infinite magnitude of numbers.) \n",
    "2. In most computer applications, including the ones we'll use in bootcamp, the random numbers are actually pseudorandom. They depend entirely on an input **seed** and are then generated by a deterministic algorithm from that seed.\n",
    "\n",
    "This is a bit academic. Let's jump right in generating random numbers. Much of the random number generation functionality you will need is in the `np.random` module. Let's start by generating random numbers from a Uniform distribution."
   ]
  },
  {
   "cell_type": "code",
   "execution_count": 2,
   "metadata": {},
   "outputs": [
    {
     "data": {
      "text/plain": [
       "array([0.53980444, 0.20916518, 0.90890671, 0.74669388, 0.02760657,\n",
       "       0.03592103, 0.72556935, 0.15044692, 0.83100516, 0.96735476])"
      ]
     },
     "execution_count": 2,
     "metadata": {},
     "output_type": "execute_result"
    }
   ],
   "source": [
    "np.random.uniform(low=0, high=1, size=10)"
   ]
  },
  {
   "cell_type": "markdown",
   "metadata": {},
   "source": [
    "The function `uniform()` in the `np.random` module generates random numbers on the interval \\[`low`, `high`) from a Uniform distribution. The `size` kwarg is how many random numbers you wish to generate, and is a kwarg in all of Numpy's random number generators. The random numbers are returned as a NumPy array.\n",
    "\n",
    "We can check to make sure it is appropriately drawing random numbers out of the uniform distribution by plotting the cumulative distribution function, just like we did last time.  We'll generate 1,000 random numbers and plot them along with the CDF of a Uniform distribution."
   ]
  },
  {
   "cell_type": "code",
   "execution_count": 3,
   "metadata": {},
   "outputs": [
    {
     "data": {
      "text/html": [
       "\n",
       "\n",
       "\n",
       "\n",
       "\n",
       "\n",
       "  <div class=\"bk-root\" id=\"aca85035-2674-4cfc-be18-7a02df13008c\" data-root-id=\"1002\"></div>\n"
      ]
     },
     "metadata": {},
     "output_type": "display_data"
    },
    {
     "data": {
      "application/javascript": [
       "(function(root) {\n",
       "  function embed_document(root) {\n",
       "    \n",
       "  var docs_json = {\"7b9cdca9-2513-4c36-959a-86f6306d8d58\":{\"roots\":{\"references\":[{\"attributes\":{\"below\":[{\"id\":\"1011\",\"type\":\"LinearAxis\"}],\"center\":[{\"id\":\"1015\",\"type\":\"Grid\"},{\"id\":\"1020\",\"type\":\"Grid\"},{\"id\":\"1047\",\"type\":\"Legend\"}],\"left\":[{\"id\":\"1016\",\"type\":\"LinearAxis\"}],\"plot_height\":300,\"plot_width\":400,\"renderers\":[{\"id\":\"1038\",\"type\":\"GlyphRenderer\"},{\"id\":\"1052\",\"type\":\"GlyphRenderer\"}],\"title\":{\"id\":\"1040\",\"type\":\"Title\"},\"toolbar\":{\"id\":\"1027\",\"type\":\"Toolbar\"},\"x_range\":{\"id\":\"1003\",\"type\":\"DataRange1d\"},\"x_scale\":{\"id\":\"1007\",\"type\":\"LinearScale\"},\"y_range\":{\"id\":\"1005\",\"type\":\"DataRange1d\"},\"y_scale\":{\"id\":\"1009\",\"type\":\"LinearScale\"}},\"id\":\"1002\",\"subtype\":\"Figure\",\"type\":\"Plot\"},{\"attributes\":{\"callback\":null},\"id\":\"1005\",\"type\":\"DataRange1d\"},{\"attributes\":{},\"id\":\"1017\",\"type\":\"BasicTicker\"},{\"attributes\":{\"data_source\":{\"id\":\"1034\",\"type\":\"ColumnDataSource\"},\"glyph\":{\"id\":\"1036\",\"type\":\"Circle\"},\"hover_glyph\":null,\"muted_glyph\":null,\"nonselection_glyph\":{\"id\":\"1037\",\"type\":\"Circle\"},\"selection_glyph\":null,\"view\":{\"id\":\"1039\",\"type\":\"CDSView\"}},\"id\":\"1038\",\"type\":\"GlyphRenderer\"},{\"attributes\":{\"items\":[{\"id\":\"1048\",\"type\":\"LegendItem\"}],\"visible\":false},\"id\":\"1047\",\"type\":\"Legend\"},{\"attributes\":{},\"id\":\"1012\",\"type\":\"BasicTicker\"},{\"attributes\":{\"source\":{\"id\":\"1034\",\"type\":\"ColumnDataSource\"}},\"id\":\"1039\",\"type\":\"CDSView\"},{\"attributes\":{},\"id\":\"1009\",\"type\":\"LinearScale\"},{\"attributes\":{\"text\":\"\"},\"id\":\"1040\",\"type\":\"Title\"},{\"attributes\":{},\"id\":\"1024\",\"type\":\"SaveTool\"},{\"attributes\":{\"ticker\":{\"id\":\"1012\",\"type\":\"BasicTicker\"}},\"id\":\"1015\",\"type\":\"Grid\"},{\"attributes\":{\"bottom_units\":\"screen\",\"fill_alpha\":{\"value\":0.5},\"fill_color\":{\"value\":\"lightgrey\"},\"left_units\":\"screen\",\"level\":\"overlay\",\"line_alpha\":{\"value\":1.0},\"line_color\":{\"value\":\"black\"},\"line_dash\":[4,4],\"line_width\":{\"value\":2},\"render_mode\":\"css\",\"right_units\":\"screen\",\"top_units\":\"screen\"},\"id\":\"1046\",\"type\":\"BoxAnnotation\"},{\"attributes\":{\"label\":{\"value\":\" \"},\"renderers\":[{\"id\":\"1038\",\"type\":\"GlyphRenderer\"}]},\"id\":\"1048\",\"type\":\"LegendItem\"},{\"attributes\":{\"source\":{\"id\":\"1049\",\"type\":\"ColumnDataSource\"}},\"id\":\"1053\",\"type\":\"CDSView\"},{\"attributes\":{},\"id\":\"1007\",\"type\":\"LinearScale\"},{\"attributes\":{\"fill_alpha\":{\"value\":0.1},\"fill_color\":{\"value\":\"#1f77b4\"},\"line_alpha\":{\"value\":0.1},\"line_color\":{\"value\":\"#1f77b4\"},\"x\":{\"field\":\"x\"},\"y\":{\"field\":\"__ECDF\"}},\"id\":\"1037\",\"type\":\"Circle\"},{\"attributes\":{\"dimension\":1,\"ticker\":{\"id\":\"1017\",\"type\":\"BasicTicker\"}},\"id\":\"1020\",\"type\":\"Grid\"},{\"attributes\":{\"data_source\":{\"id\":\"1049\",\"type\":\"ColumnDataSource\"},\"glyph\":{\"id\":\"1050\",\"type\":\"Line\"},\"hover_glyph\":null,\"muted_glyph\":null,\"nonselection_glyph\":{\"id\":\"1051\",\"type\":\"Line\"},\"selection_glyph\":null,\"view\":{\"id\":\"1053\",\"type\":\"CDSView\"}},\"id\":\"1052\",\"type\":\"GlyphRenderer\"},{\"attributes\":{},\"id\":\"1026\",\"type\":\"HelpTool\"},{\"attributes\":{\"callback\":null,\"data\":{\"x\":[0,1],\"y\":[0,1]},\"selected\":{\"id\":\"1062\",\"type\":\"Selection\"},\"selection_policy\":{\"id\":\"1063\",\"type\":\"UnionRenderers\"}},\"id\":\"1049\",\"type\":\"ColumnDataSource\"},{\"attributes\":{\"active_drag\":\"auto\",\"active_inspect\":\"auto\",\"active_multi\":null,\"active_scroll\":\"auto\",\"active_tap\":\"auto\",\"tools\":[{\"id\":\"1021\",\"type\":\"PanTool\"},{\"id\":\"1022\",\"type\":\"WheelZoomTool\"},{\"id\":\"1023\",\"type\":\"BoxZoomTool\"},{\"id\":\"1024\",\"type\":\"SaveTool\"},{\"id\":\"1025\",\"type\":\"ResetTool\"},{\"id\":\"1026\",\"type\":\"HelpTool\"}]},\"id\":\"1027\",\"type\":\"Toolbar\"},{\"attributes\":{},\"id\":\"1021\",\"type\":\"PanTool\"},{\"attributes\":{\"axis_label\":\"ECDF\",\"formatter\":{\"id\":\"1042\",\"type\":\"BasicTickFormatter\"},\"ticker\":{\"id\":\"1017\",\"type\":\"BasicTicker\"}},\"id\":\"1016\",\"type\":\"LinearAxis\"},{\"attributes\":{},\"id\":\"1063\",\"type\":\"UnionRenderers\"},{\"attributes\":{\"line_color\":\"orange\",\"line_width\":2,\"x\":{\"field\":\"x\"},\"y\":{\"field\":\"y\"}},\"id\":\"1050\",\"type\":\"Line\"},{\"attributes\":{},\"id\":\"1061\",\"type\":\"UnionRenderers\"},{\"attributes\":{\"callback\":null},\"id\":\"1003\",\"type\":\"DataRange1d\"},{\"attributes\":{},\"id\":\"1022\",\"type\":\"WheelZoomTool\"},{\"attributes\":{},\"id\":\"1062\",\"type\":\"Selection\"},{\"attributes\":{\"line_alpha\":0.1,\"line_color\":\"#1f77b4\",\"line_width\":2,\"x\":{\"field\":\"x\"},\"y\":{\"field\":\"y\"}},\"id\":\"1051\",\"type\":\"Line\"},{\"attributes\":{\"callback\":null,\"data\":{\"__ECDF\":{\"__ndarray__\":\"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\",\"dtype\":\"float64\",\"shape\":[1000]},\"__dummy_cat\":[\" \",\" \",\" \",\" \",\" \",\" \",\" \",\" \",\" \",\" \",\" \",\" \",\" \",\" \",\" \",\" \",\" \",\" \",\" \",\" \",\" \",\" \",\" \",\" \",\" \",\" \",\" \",\" \",\" \",\" \",\" \",\" \",\" \",\" \",\" \",\" \",\" \",\" \",\" \",\" \",\" \",\" \",\" \",\" \",\" \",\" \",\" \",\" \",\" \",\" \",\" \",\" \",\" \",\" \",\" \",\" \",\" \",\" \",\" \",\" \",\" \",\" \",\" \",\" \",\" \",\" \",\" \",\" \",\" \",\" \",\" \",\" \",\" \",\" \",\" \",\" \",\" \",\" \",\" \",\" \",\" \",\" \",\" \",\" \",\" \",\" \",\" \",\" \",\" \",\" \",\" \",\" \",\" \",\" \",\" \",\" \",\" \",\" \",\" \",\" \",\" \",\" \",\" \",\" \",\" \",\" \",\" \",\" \",\" \",\" \",\" \",\" \",\" \",\" \",\" \",\" \",\" \",\" \",\" \",\" \",\" \",\" \",\" \",\" \",\" \",\" \",\" \",\" \",\" \",\" \",\" \",\" \",\" \",\" \",\" \",\" \",\" \",\" \",\" \",\" \",\" \",\" \",\" \",\" \",\" \",\" \",\" \",\" \",\" \",\" \",\" \",\" \",\" \",\" \",\" \",\" \",\" \",\" \",\" \",\" \",\" \",\" \",\" \",\" \",\" \",\" \",\" \",\" \",\" \",\" \",\" \",\" \",\" \",\" \",\" \",\" \",\" \",\" \",\" \",\" \",\" \",\" \",\" \",\" \",\" \",\" \",\" \",\" \",\" \",\" \",\" \",\" \",\" \",\" \",\" \",\" \",\" \",\" \",\" \",\" \",\" \",\" \",\" \",\" \",\" \",\" \",\" \",\" \",\" \",\" \",\" \",\" \",\" \",\" \",\" \",\" \",\" \",\" \",\" \",\" \",\" \",\" \",\" \",\" \",\" \",\" \",\" \",\" \",\" \",\" \",\" \",\" \",\" \",\" \",\" \",\" \",\" \",\" \",\" \",\" \",\" \",\" \",\" \",\" \",\" \",\" \",\" \",\" \",\" \",\" \",\" \",\" \",\" \",\" \",\" \",\" \",\" \",\" \",\" \",\" \",\" \",\" \",\" \",\" \",\" \",\" \",\" \",\" \",\" \",\" \",\" \",\" \",\" \",\" \",\" \",\" \",\" \",\" \",\" \",\" \",\" \",\" \",\" \",\" \",\" \",\" \",\" \",\" \",\" \",\" \",\" \",\" \",\" \",\" \",\" \",\" \",\" \",\" \",\" \",\" \",\" \",\" \",\" \",\" \",\" \",\" \",\" \",\" \",\" \",\" \",\" \",\" \",\" \",\" \",\" \",\" \",\" \",\" \",\" \",\" \",\" \",\" \",\" \",\" \",\" \",\" \",\" \",\" \",\" \",\" \",\" \",\" \",\" \",\" \",\" \",\" \",\" \",\" \",\" \",\" \",\" \",\" \",\" \",\" \",\" \",\" \",\" \",\" \",\" \",\" \",\" \",\" \",\" \",\" \",\" \",\" \",\" \",\" \",\" \",\" \",\" \",\" \",\" \",\" \",\" \",\" \",\" \",\" \",\" \",\" \",\" \",\" \",\" \",\" \",\" \",\" \",\" \",\" \",\" \",\" \",\" \",\" \",\" \",\" \",\" \",\" \",\" \",\" \",\" \",\" \",\" \",\" \",\" \",\" \",\" \",\" \",\" \",\" \",\" \",\" \",\" \",\" \",\" \",\" \",\" \",\" \",\" \",\" \",\" \",\" \",\" \",\" \",\" \",\" \",\" \",\" \",\" \",\" \",\" \",\" \",\" \",\" \",\" \",\" \",\" \",\" \",\" \",\" \",\" \",\" \",\" \",\" \",\" \",\" \",\" \",\" \",\" \",\" \",\" \",\" \",\" \",\" \",\" \",\" \",\" \",\" \",\" \",\" \",\" \",\" \",\" \",\" \",\" \",\" \",\" \",\" \",\" \",\" \",\" \",\" \",\" \",\" \",\" \",\" \",\" \",\" \",\" \",\" \",\" \",\" \",\" \",\" \",\" \",\" \",\" \",\" \",\" \",\" \",\" \",\" \",\" \",\" \",\" \",\" \",\" \",\" \",\" \",\" \",\" \",\" \",\" \",\" \",\" \",\" \",\" \",\" \",\" \",\" \",\" \",\" \",\" \",\" \",\" \",\" \",\" \",\" \",\" \",\" \",\" \",\" \",\" \",\" \",\" \",\" \",\" \",\" \",\" \",\" \",\" \",\" \",\" \",\" \",\" \",\" \",\" \",\" \",\" \",\" \",\" \",\" \",\" \",\" \",\" \",\" \",\" \",\" \",\" \",\" \",\" \",\" \",\" \",\" \",\" \",\" \",\" \",\" \",\" \",\" \",\" \",\" \",\" \",\" \",\" \",\" \",\" \",\" \",\" \",\" \",\" \",\" \",\" \",\" \",\" \",\" \",\" \",\" \",\" \",\" \",\" \",\" \",\" \",\" \",\" \",\" \",\" \",\" \",\" \",\" \",\" \",\" \",\" \",\" \",\" \",\" \",\" \",\" \",\" \",\" \",\" \",\" \",\" \",\" \",\" \",\" \",\" \",\" \",\" \",\" \",\" \",\" \",\" \",\" \",\" \",\" \",\" \",\" \",\" \",\" \",\" \",\" \",\" \",\" \",\" \",\" \",\" \",\" \",\" \",\" \",\" \",\" \",\" \",\" \",\" \",\" \",\" \",\" \",\" \",\" \",\" \",\" \",\" \",\" \",\" \",\" \",\" \",\" \",\" \",\" \",\" \",\" \",\" \",\" \",\" \",\" \",\" \",\" \",\" \",\" \",\" \",\" \",\" \",\" \",\" \",\" \",\" \",\" \",\" \",\" \",\" \",\" \",\" \",\" \",\" \",\" \",\" \",\" \",\" \",\" \",\" \",\" \",\" \",\" \",\" \",\" \",\" \",\" \",\" \",\" \",\" \",\" \",\" \",\" \",\" \",\" \",\" \",\" \",\" \",\" \",\" \",\" \",\" \",\" \",\" \",\" \",\" \",\" \",\" \",\" \",\" \",\" \",\" \",\" \",\" \",\" \",\" \",\" \",\" \",\" \",\" \",\" \",\" \",\" \",\" \",\" \",\" \",\" \",\" \",\" \",\" \",\" \",\" \",\" \",\" \",\" \",\" \",\" \",\" \",\" \",\" \",\" \",\" \",\" \",\" \",\" \",\" \",\" \",\" \",\" \",\" \",\" \",\" \",\" \",\" \",\" \",\" \",\" \",\" \",\" \",\" \",\" \",\" \",\" \",\" \",\" \",\" \",\" \",\" \",\" \",\" \",\" \",\" \",\" \",\" \",\" \",\" \",\" \",\" \",\" \",\" \",\" \",\" \",\" \",\" \",\" \",\" \",\" \",\" \",\" \",\" \",\" \",\" \",\" \",\" \",\" \",\" \",\" \",\" \",\" \",\" \",\" \",\" \",\" \",\" \",\" \",\" \",\" \",\" \",\" \",\" \",\" \",\" \",\" \",\" \",\" \",\" \",\" \",\" \",\" \",\" \",\" \",\" \",\" \",\" \",\" \",\" \",\" \",\" \",\" \",\" \",\" \",\" \",\" \",\" \",\" \",\" \",\" \",\" \",\" \",\" \",\" \",\" \",\" \",\" \",\" \",\" \",\" \",\" \",\" \",\" \",\" \",\" \",\" \",\" \",\" \",\" \",\" \",\" \",\" \",\" \",\" \",\" \",\" \",\" \",\" \",\" \",\" \",\" \",\" \",\" \",\" \",\" \",\" \",\" \",\" \",\" \",\" \",\" \",\" \",\" \",\" \",\" \",\" \",\" \",\" \",\" \",\" \",\" \",\" \",\" \",\" \",\" \",\" \",\" \",\" \",\" \",\" \",\" \",\" \",\" \",\" \",\" \",\" \",\" \",\" \",\" \",\" \",\" \",\" \",\" \",\" \",\" \",\" \",\" \",\" \",\" \",\" \",\" \",\" \",\" \",\" \",\" \",\" \",\" \",\" \",\" \",\" \",\" \",\" \",\" \",\" \",\" \",\" \",\" \",\" \",\" \",\" \",\" \",\" \",\" \",\" \",\" \",\" \",\" \",\" \",\" \",\" \",\" \",\" \",\" \",\" \",\" \",\" \",\" \",\" \",\" \",\" \",\" \",\" \",\" \",\" \",\" \",\" \",\" \",\" \",\" \",\" \",\" \",\" \",\" \",\" \",\" \",\" \",\" \",\" \",\" \",\" \",\" \",\" \",\" \",\" \",\" \",\" \",\" \",\" \",\" \",\" \",\" \",\" \",\" \",\" \",\" \",\" \",\" \",\" \",\" \",\" \",\" \",\" \",\" \",\" \",\" \",\" \",\" \",\" \",\" \",\" \",\" \",\" \",\" \",\" \"],\"__label\":[\" \",\" \",\" \",\" \",\" \",\" \",\" \",\" \",\" \",\" \",\" \",\" \",\" \",\" \",\" \",\" \",\" \",\" \",\" \",\" \",\" \",\" \",\" \",\" \",\" \",\" \",\" \",\" \",\" \",\" \",\" \",\" \",\" \",\" \",\" \",\" \",\" \",\" \",\" \",\" \",\" \",\" \",\" \",\" \",\" \",\" \",\" \",\" \",\" \",\" \",\" \",\" \",\" \",\" \",\" \",\" \",\" \",\" \",\" \",\" \",\" \",\" \",\" \",\" \",\" \",\" \",\" \",\" \",\" \",\" \",\" \",\" \",\" \",\" \",\" \",\" \",\" \",\" \",\" \",\" \",\" \",\" \",\" \",\" \",\" \",\" \",\" \",\" \",\" \",\" \",\" \",\" \",\" \",\" \",\" \",\" \",\" \",\" \",\" \",\" \",\" \",\" \",\" \",\" \",\" \",\" \",\" \",\" \",\" \",\" \",\" \",\" \",\" \",\" \",\" \",\" \",\" \",\" \",\" \",\" \",\" \",\" \",\" \",\" \",\" \",\" \",\" \",\" \",\" \",\" \",\" \",\" \",\" \",\" \",\" \",\" \",\" \",\" \",\" \",\" \",\" \",\" \",\" \",\" \",\" \",\" \",\" \",\" \",\" \",\" \",\" \",\" \",\" \",\" \",\" \",\" \",\" \",\" \",\" \",\" \",\" \",\" \",\" \",\" \",\" \",\" \",\" \",\" \",\" \",\" \",\" \",\" \",\" \",\" \",\" \",\" \",\" \",\" \",\" \",\" \",\" \",\" \",\" \",\" \",\" \",\" \",\" \",\" \",\" \",\" \",\" \",\" \",\" \",\" \",\" \",\" \",\" \",\" \",\" \",\" \",\" \",\" \",\" \",\" \",\" \",\" \",\" \",\" \",\" \",\" \",\" \",\" \",\" \",\" \",\" \",\" \",\" \",\" \",\" \",\" \",\" \",\" \",\" \",\" \",\" \",\" \",\" \",\" \",\" \",\" \",\" \",\" \",\" \",\" \",\" \",\" \",\" \",\" \",\" \",\" \",\" \",\" \",\" \",\" \",\" \",\" \",\" \",\" \",\" \",\" \",\" \",\" \",\" \",\" \",\" \",\" \",\" \",\" \",\" \",\" \",\" \",\" \",\" \",\" \",\" \",\" \",\" \",\" \",\" \",\" \",\" \",\" \",\" \",\" \",\" \",\" \",\" \",\" \",\" \",\" \",\" \",\" \",\" \",\" \",\" \",\" \",\" \",\" \",\" \",\" \",\" \",\" \",\" \",\" \",\" \",\" \",\" \",\" \",\" \",\" \",\" \",\" \",\" \",\" \",\" \",\" \",\" \",\" \",\" \",\" \",\" \",\" \",\" \",\" \",\" \",\" \",\" \",\" \",\" \",\" \",\" \",\" \",\" \",\" \",\" \",\" \",\" \",\" \",\" \",\" \",\" \",\" \",\" \",\" \",\" \",\" \",\" \",\" \",\" \",\" \",\" \",\" \",\" \",\" \",\" \",\" \",\" \",\" \",\" \",\" \",\" \",\" \",\" \",\" \",\" \",\" \",\" \",\" \",\" \",\" \",\" \",\" \",\" \",\" \",\" \",\" \",\" \",\" \",\" \",\" \",\" \",\" \",\" \",\" \",\" \",\" \",\" \",\" \",\" \",\" \",\" \",\" \",\" \",\" \",\" \",\" \",\" \",\" \",\" \",\" \",\" \",\" \",\" \",\" \",\" \",\" \",\" \",\" \",\" \",\" \",\" \",\" \",\" \",\" \",\" \",\" \",\" \",\" \",\" \",\" \",\" \",\" \",\" \",\" \",\" \",\" \",\" \",\" \",\" \",\" \",\" \",\" \",\" \",\" \",\" \",\" \",\" \",\" \",\" \",\" \",\" \",\" \",\" \",\" \",\" \",\" \",\" \",\" \",\" \",\" \",\" \",\" \",\" \",\" \",\" \",\" \",\" \",\" \",\" \",\" \",\" \",\" \",\" \",\" \",\" \",\" \",\" \",\" \",\" \",\" \",\" \",\" \",\" \",\" \",\" \",\" \",\" \",\" \",\" \",\" \",\" \",\" \",\" \",\" \",\" \",\" \",\" \",\" \",\" \",\" \",\" \",\" \",\" \",\" \",\" \",\" \",\" \",\" \",\" \",\" \",\" \",\" \",\" \",\" \",\" \",\" \",\" \",\" \",\" \",\" \",\" \",\" \",\" \",\" \",\" \",\" \",\" \",\" \",\" \",\" \",\" \",\" \",\" \",\" \",\" \",\" \",\" \",\" \",\" \",\" \",\" \",\" \",\" \",\" \",\" \",\" \",\" \",\" \",\" \",\" \",\" \",\" \",\" \",\" \",\" \",\" \",\" \",\" \",\" \",\" \",\" \",\" \",\" \",\" \",\" \",\" \",\" \",\" \",\" \",\" \",\" \",\" \",\" \",\" \",\" \",\" \",\" \",\" \",\" \",\" \",\" \",\" \",\" \",\" \",\" \",\" \",\" \",\" \",\" \",\" \",\" \",\" \",\" \",\" \",\" \",\" \",\" \",\" \",\" \",\" \",\" \",\" \",\" \",\" \",\" \",\" \",\" \",\" \",\" \",\" \",\" \",\" \",\" \",\" \",\" \",\" \",\" \",\" \",\" \",\" \",\" \",\" \",\" \",\" \",\" \",\" \",\" \",\" \",\" \",\" \",\" \",\" \",\" \",\" \",\" \",\" \",\" \",\" \",\" \",\" \",\" \",\" \",\" \",\" \",\" \",\" \",\" \",\" \",\" \",\" \",\" \",\" \",\" \",\" \",\" \",\" \",\" \",\" \",\" \",\" \",\" \",\" \",\" \",\" \",\" \",\" \",\" \",\" \",\" \",\" \",\" \",\" \",\" \",\" \",\" \",\" \",\" \",\" \",\" \",\" \",\" \",\" \",\" \",\" \",\" \",\" \",\" \",\" \",\" \",\" \",\" \",\" \",\" \",\" \",\" \",\" \",\" \",\" \",\" \",\" \",\" \",\" \",\" \",\" \",\" \",\" \",\" \",\" \",\" \",\" \",\" \",\" \",\" \",\" \",\" \",\" \",\" \",\" \",\" \",\" \",\" \",\" \",\" \",\" \",\" \",\" \",\" \",\" \",\" \",\" \",\" \",\" \",\" \",\" \",\" \",\" \",\" \",\" \",\" \",\" \",\" \",\" \",\" \",\" \",\" \",\" \",\" \",\" \",\" \",\" \",\" \",\" \",\" \",\" \",\" \",\" \",\" \",\" \",\" \",\" \",\" \",\" \",\" \",\" \",\" \",\" \",\" \",\" \",\" \",\" \",\" \",\" \",\" \",\" \",\" \",\" \",\" \",\" \",\" \",\" \",\" \",\" \",\" \",\" \",\" \",\" \",\" \",\" \",\" \",\" \",\" \",\" \",\" \",\" \",\" \",\" \",\" \",\" \",\" \",\" \",\" \",\" \",\" \",\" \",\" \",\" \",\" \",\" \",\" \",\" \",\" \",\" \",\" \",\" \",\" \",\" \",\" \",\" \",\" \",\" \",\" \",\" \",\" \",\" \",\" \",\" \",\" \",\" \",\" \",\" \",\" \",\" \",\" \",\" \",\" \",\" \",\" \",\" \",\" \",\" \",\" \",\" \",\" \",\" \",\" \",\" \",\" \",\" \",\" \",\" \",\" \",\" \",\" \",\" \",\" \",\" \",\" \",\" \",\" \",\" \",\" \",\" \",\" \",\" \",\" \",\" \",\" \",\" \",\" \",\" \",\" \",\" \",\" \",\" \",\" \",\" \",\" \",\" \",\" \",\" \",\" \",\" \",\" \",\" \",\" \",\" \",\" \",\" \",\" \",\" \",\" \",\" \",\" \",\" \",\" \",\" \",\" \",\" \",\" \",\" \",\" \",\" \",\" \",\" \",\" \",\" \",\" \",\" \",\" \",\" \",\" \",\" \",\" \",\" \",\" \",\" \",\" \",\" \",\" \",\" \",\" \",\" \",\" \",\" \",\" \",\" \",\" \",\" \",\" \",\" \",\" \",\" \",\" \",\" \",\" \",\" \",\" \",\" \",\" \",\" \",\" \",\" \",\" \",\" \",\" \",\" \",\" \",\" \",\" \",\" \",\" \",\" \",\" \",\" \",\" \",\" \",\" \",\" \",\" \",\" \",\" \",\" \",\" \",\" \",\" \",\" \",\" \",\" \",\" \",\" \",\" \",\" \",\" \",\" \",\" \",\" \",\" \",\" \",\" \",\" \",\" \",\" \",\" \",\" \",\" \",\" \",\" \",\" \",\" \",\" \",\" \",\" \",\" \",\" \",\" \",\" \",\" \",\" \",\" \",\" \",\" \",\" \",\" \",\" \",\" \",\" \",\" \",\" \",\" \",\" \",\" \",\" \",\" \",\" \",\" \",\" \",\" \",\" \",\" \",\" \"],\"index\":[0,1,2,3,4,5,6,7,8,9,10,11,12,13,14,15,16,17,18,19,20,21,22,23,24,25,26,27,28,29,30,31,32,33,34,35,36,37,38,39,40,41,42,43,44,45,46,47,48,49,50,51,52,53,54,55,56,57,58,59,60,61,62,63,64,65,66,67,68,69,70,71,72,73,74,75,76,77,78,79,80,81,82,83,84,85,86,87,88,89,90,91,92,93,94,95,96,97,98,99,100,101,102,103,104,105,106,107,108,109,110,111,112,113,114,115,116,117,118,119,120,121,122,123,124,125,126,127,128,129,130,131,132,133,134,135,136,137,138,139,140,141,142,143,144,145,146,147,148,149,150,151,152,153,154,155,156,157,158,159,160,161,162,163,164,165,166,167,168,169,170,171,172,173,174,175,176,177,178,179,180,181,182,183,184,185,186,187,188,189,190,191,192,193,194,195,196,197,198,199,200,201,202,203,204,205,206,207,208,209,210,211,212,213,214,215,216,217,218,219,220,221,222,223,224,225,226,227,228,229,230,231,232,233,234,235,236,237,238,239,240,241,242,243,244,245,246,247,248,249,250,251,252,253,254,255,256,257,258,259,260,261,262,263,264,265,266,267,268,269,270,271,272,273,274,275,276,277,278,279,280,281,282,283,284,285,286,287,288,289,290,291,292,293,294,295,296,297,298,299,300,301,302,303,304,305,306,307,308,309,310,311,312,313,314,315,316,317,318,319,320,321,322,323,324,325,326,327,328,329,330,331,332,333,334,335,336,337,338,339,340,341,342,343,344,345,346,347,348,349,350,351,352,353,354,355,356,357,358,359,360,361,362,363,364,365,366,367,368,369,370,371,372,373,374,375,376,377,378,379,380,381,382,383,384,385,386,387,388,389,390,391,392,393,394,395,396,397,398,399,400,401,402,403,404,405,406,407,408,409,410,411,412,413,414,415,416,417,418,419,420,421,422,423,424,425,426,427,428,429,430,431,432,433,434,435,436,437,438,439,440,441,442,443,444,445,446,447,448,449,450,451,452,453,454,455,456,457,458,459,460,461,462,463,464,465,466,467,468,469,470,471,472,473,474,475,476,477,478,479,480,481,482,483,484,485,486,487,488,489,490,491,492,493,494,495,496,497,498,499,500,501,502,503,504,505,506,507,508,509,510,511,512,513,514,515,516,517,518,519,520,521,522,523,524,525,526,527,528,529,530,531,532,533,534,535,536,537,538,539,540,541,542,543,544,545,546,547,548,549,550,551,552,553,554,555,556,557,558,559,560,561,562,563,564,565,566,567,568,569,570,571,572,573,574,575,576,577,578,579,580,581,582,583,584,585,586,587,588,589,590,591,592,593,594,595,596,597,598,599,600,601,602,603,604,605,606,607,608,609,610,611,612,613,614,615,616,617,618,619,620,621,622,623,624,625,626,627,628,629,630,631,632,633,634,635,636,637,638,639,640,641,642,643,644,645,646,647,648,649,650,651,652,653,654,655,656,657,658,659,660,661,662,663,664,665,666,667,668,669,670,671,672,673,674,675,676,677,678,679,680,681,682,683,684,685,686,687,688,689,690,691,692,693,694,695,696,697,698,699,700,701,702,703,704,705,706,707,708,709,710,711,712,713,714,715,716,717,718,719,720,721,722,723,724,725,726,727,728,729,730,731,732,733,734,735,736,737,738,739,740,741,742,743,744,745,746,747,748,749,750,751,752,753,754,755,756,757,758,759,760,761,762,763,764,765,766,767,768,769,770,771,772,773,774,775,776,777,778,779,780,781,782,783,784,785,786,787,788,789,790,791,792,793,794,795,796,797,798,799,800,801,802,803,804,805,806,807,808,809,810,811,812,813,814,815,816,817,818,819,820,821,822,823,824,825,826,827,828,829,830,831,832,833,834,835,836,837,838,839,840,841,842,843,844,845,846,847,848,849,850,851,852,853,854,855,856,857,858,859,860,861,862,863,864,865,866,867,868,869,870,871,872,873,874,875,876,877,878,879,880,881,882,883,884,885,886,887,888,889,890,891,892,893,894,895,896,897,898,899,900,901,902,903,904,905,906,907,908,909,910,911,912,913,914,915,916,917,918,919,920,921,922,923,924,925,926,927,928,929,930,931,932,933,934,935,936,937,938,939,940,941,942,943,944,945,946,947,948,949,950,951,952,953,954,955,956,957,958,959,960,961,962,963,964,965,966,967,968,969,970,971,972,973,974,975,976,977,978,979,980,981,982,983,984,985,986,987,988,989,990,991,992,993,994,995,996,997,998,999],\"x\":{\"__ndarray__\":\"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\",\"dtype\":\"float64\",\"shape\":[1000]}},\"selected\":{\"id\":\"1060\",\"type\":\"Selection\"},\"selection_policy\":{\"id\":\"1061\",\"type\":\"UnionRenderers\"}},\"id\":\"1034\",\"type\":\"ColumnDataSource\"},{\"attributes\":{\"axis_label\":\"x\",\"formatter\":{\"id\":\"1044\",\"type\":\"BasicTickFormatter\"},\"ticker\":{\"id\":\"1012\",\"type\":\"BasicTicker\"}},\"id\":\"1011\",\"type\":\"LinearAxis\"},{\"attributes\":{},\"id\":\"1060\",\"type\":\"Selection\"},{\"attributes\":{},\"id\":\"1025\",\"type\":\"ResetTool\"},{\"attributes\":{},\"id\":\"1042\",\"type\":\"BasicTickFormatter\"},{\"attributes\":{\"fill_color\":{\"value\":null},\"line_color\":{\"value\":\"#4e79a7\"},\"x\":{\"field\":\"x\"},\"y\":{\"field\":\"__ECDF\"}},\"id\":\"1036\",\"type\":\"Circle\"},{\"attributes\":{\"overlay\":{\"id\":\"1046\",\"type\":\"BoxAnnotation\"}},\"id\":\"1023\",\"type\":\"BoxZoomTool\"},{\"attributes\":{},\"id\":\"1044\",\"type\":\"BasicTickFormatter\"}],\"root_ids\":[\"1002\"]},\"title\":\"Bokeh Application\",\"version\":\"1.2.0\"}};\n",
       "  var render_items = [{\"docid\":\"7b9cdca9-2513-4c36-959a-86f6306d8d58\",\"roots\":{\"1002\":\"aca85035-2674-4cfc-be18-7a02df13008c\"}}];\n",
       "  root.Bokeh.embed.embed_items_notebook(docs_json, render_items);\n",
       "\n",
       "  }\n",
       "  if (root.Bokeh !== undefined) {\n",
       "    embed_document(root);\n",
       "  } else {\n",
       "    var attempts = 0;\n",
       "    var timer = setInterval(function(root) {\n",
       "      if (root.Bokeh !== undefined) {\n",
       "        embed_document(root);\n",
       "        clearInterval(timer);\n",
       "      }\n",
       "      attempts++;\n",
       "      if (attempts > 100) {\n",
       "        console.log(\"Bokeh: ERROR: Unable to run BokehJS code because BokehJS library is missing\");\n",
       "        clearInterval(timer);\n",
       "      }\n",
       "    }, 10, root)\n",
       "  }\n",
       "})(window);"
      ],
      "application/vnd.bokehjs_exec.v0+json": ""
     },
     "metadata": {
      "application/vnd.bokehjs_exec.v0+json": {
       "id": "1002"
      }
     },
     "output_type": "display_data"
    }
   ],
   "source": [
    "# Generate random numbers\n",
    "x = np.random.uniform(low=0, high=1, size=1000)\n",
    "\n",
    "# Plot the ECDF of randomly generated numbers\n",
    "p = bokeh_catplot.ecdf(\n",
    "    data=pd.DataFrame({'x': x}),\n",
    "    cats=None,\n",
    "    val='x',\n",
    "    marker_kwargs=dict(fill_color=None),\n",
    ")\n",
    "\n",
    "p.line(\n",
    "    x=[0, 1],\n",
    "    y=[0, 1],\n",
    "    line_width=2,\n",
    "    line_color='orange',\n",
    ")\n",
    "\n",
    "bokeh.io.show(p)"
   ]
  },
  {
   "cell_type": "markdown",
   "metadata": {},
   "source": [
    "So, it looks like our random number generator is doing a good job.\n",
    "\n",
    "Generating random numbers on the uniform interval is one of the most commonly used RNG techniques. In fact, many of the other contexts of RNG are derived from draws from the uniform distribution. For example, you can do \"coin flips,\" that is random draws that are either zero or one, like this:"
   ]
  },
  {
   "cell_type": "code",
   "execution_count": 4,
   "metadata": {},
   "outputs": [
    {
     "name": "stdout",
     "output_type": "stream",
     "text": [
      "[False False False False False  True  True False False False False  True\n",
      " False False  True  True False False  True False]\n",
      "\n",
      "There were 6  heads.\n"
     ]
    }
   ],
   "source": [
    "# Generate 20 random numbers on uniform interval\n",
    "x = np.random.uniform(low=0, high=1, size=20)\n",
    "\n",
    "# Make the coin flips\n",
    "heads = x > 0.5\n",
    "\n",
    "# Show which were heads, and count the number of heads\n",
    "print(heads)\n",
    "print('\\nThere were', np.sum(heads), ' heads.')"
   ]
  },
  {
   "cell_type": "markdown",
   "metadata": {},
   "source": [
    "## Seeding random number generators\n",
    "\n",
    "Now, just to demonstrate that random number generation is deterministic, we will explicitly **seed** the random number generator (which is usually seeded with a number representing the date/time to avoid repeats) to show that we get the same random numbers."
   ]
  },
  {
   "cell_type": "code",
   "execution_count": 5,
   "metadata": {},
   "outputs": [
    {
     "data": {
      "text/plain": [
       "array([0.37454012, 0.95071431, 0.73199394, 0.59865848, 0.15601864,\n",
       "       0.15599452, 0.05808361, 0.86617615, 0.60111501, 0.70807258])"
      ]
     },
     "execution_count": 5,
     "metadata": {},
     "output_type": "execute_result"
    }
   ],
   "source": [
    "# Seed the RNG\n",
    "np.random.seed(42)\n",
    "\n",
    "# Generate random numbers\n",
    "np.random.uniform(size=10)"
   ]
  },
  {
   "cell_type": "code",
   "execution_count": 6,
   "metadata": {},
   "outputs": [
    {
     "data": {
      "text/plain": [
       "array([0.37454012, 0.95071431, 0.73199394, 0.59865848, 0.15601864,\n",
       "       0.15599452, 0.05808361, 0.86617615, 0.60111501, 0.70807258])"
      ]
     },
     "execution_count": 6,
     "metadata": {},
     "output_type": "execute_result"
    }
   ],
   "source": [
    "# Re-seed the RNG\n",
    "np.random.seed(42)\n",
    "\n",
    "# Generate random numbers\n",
    "np.random.uniform(size=10)"
   ]
  },
  {
   "cell_type": "markdown",
   "metadata": {},
   "source": [
    "The random number sequence is exactly the same.  If we choose a different seed, we get totally different random numbers."
   ]
  },
  {
   "cell_type": "code",
   "execution_count": 7,
   "metadata": {},
   "outputs": [
    {
     "data": {
      "text/plain": [
       "array([0.11505457, 0.60906654, 0.13339096, 0.24058962, 0.32713906,\n",
       "       0.85913749, 0.66609021, 0.54116221, 0.02901382, 0.7337483 ])"
      ]
     },
     "execution_count": 7,
     "metadata": {},
     "output_type": "execute_result"
    }
   ],
   "source": [
    "# Seed with a number that is close to the answer to everything\n",
    "np.random.seed(43)\n",
    "np.random.uniform(size=10)"
   ]
  },
  {
   "cell_type": "markdown",
   "metadata": {},
   "source": [
    "If you are writing tests, it is often useful to seed the random number generator to get reproducible results."
   ]
  },
  {
   "cell_type": "markdown",
   "metadata": {},
   "source": [
    "## Drawing random numbers out of other distributions\n",
    "\n",
    "We can also draw random numbers from other probability distributions. For example, say we wanted to draw random samples from a Normal distribution with mean μ and standard deviation σ. (We already saw this example when we were looking at histograms, but we repeat it here.)"
   ]
  },
  {
   "cell_type": "code",
   "execution_count": 8,
   "metadata": {},
   "outputs": [
    {
     "data": {
      "text/html": [
       "\n",
       "\n",
       "\n",
       "\n",
       "\n",
       "\n",
       "  <div class=\"bk-root\" id=\"edced2d0-5052-469c-bb23-680cc860eb5e\" data-root-id=\"1132\"></div>\n"
      ]
     },
     "metadata": {},
     "output_type": "display_data"
    },
    {
     "data": {
      "application/javascript": [
       "(function(root) {\n",
       "  function embed_document(root) {\n",
       "    \n",
       "  var docs_json = {\"facfdbd4-c7e0-4fce-b331-a9955f61dbbf\":{\"roots\":{\"references\":[{\"attributes\":{\"below\":[{\"id\":\"1140\",\"type\":\"LinearAxis\"}],\"center\":[{\"id\":\"1144\",\"type\":\"Grid\"},{\"id\":\"1149\",\"type\":\"Grid\"},{\"id\":\"1175\",\"type\":\"Legend\"}],\"left\":[{\"id\":\"1145\",\"type\":\"LinearAxis\"}],\"plot_height\":300,\"plot_width\":400,\"renderers\":[{\"id\":\"1166\",\"type\":\"GlyphRenderer\"},{\"id\":\"1180\",\"type\":\"GlyphRenderer\"}],\"title\":{\"id\":\"1168\",\"type\":\"Title\"},\"toolbar\":{\"id\":\"1156\",\"type\":\"Toolbar\"},\"x_range\":{\"id\":\"1133\",\"type\":\"DataRange1d\"},\"x_scale\":{\"id\":\"1136\",\"type\":\"LinearScale\"},\"y_range\":{\"id\":\"1131\",\"type\":\"DataRange1d\"},\"y_scale\":{\"id\":\"1138\",\"type\":\"LinearScale\"}},\"id\":\"1132\",\"subtype\":\"Figure\",\"type\":\"Plot\"},{\"attributes\":{\"items\":[{\"id\":\"1176\",\"type\":\"LegendItem\"}],\"visible\":false},\"id\":\"1175\",\"type\":\"Legend\"},{\"attributes\":{\"callback\":null},\"id\":\"1133\",\"type\":\"DataRange1d\"},{\"attributes\":{},\"id\":\"1170\",\"type\":\"BasicTickFormatter\"},{\"attributes\":{},\"id\":\"1136\",\"type\":\"LinearScale\"},{\"attributes\":{\"label\":{\"value\":\" \"},\"renderers\":[{\"id\":\"1166\",\"type\":\"GlyphRenderer\"},{\"id\":\"1180\",\"type\":\"GlyphRenderer\"}]},\"id\":\"1176\",\"type\":\"LegendItem\"},{\"attributes\":{\"axis_label\":\"x\",\"formatter\":{\"id\":\"1172\",\"type\":\"BasicTickFormatter\"},\"ticker\":{\"id\":\"1141\",\"type\":\"BasicTicker\"}},\"id\":\"1140\",\"type\":\"LinearAxis\"},{\"attributes\":{\"callback\":null,\"data\":{\"x\":{\"__ndarray__\":\"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\",\"dtype\":\"float64\",\"shape\":[290]},\"y\":{\"__ndarray__\":\"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\",\"dtype\":\"float64\",\"shape\":[290]}},\"selected\":{\"id\":\"1210\",\"type\":\"Selection\"},\"selection_policy\":{\"id\":\"1211\",\"type\":\"UnionRenderers\"}},\"id\":\"1177\",\"type\":\"ColumnDataSource\"},{\"attributes\":{},\"id\":\"1172\",\"type\":\"BasicTickFormatter\"},{\"attributes\":{},\"id\":\"1154\",\"type\":\"ResetTool\"},{\"attributes\":{},\"id\":\"1138\",\"type\":\"LinearScale\"},{\"attributes\":{\"fill_alpha\":0.3,\"fill_color\":\"#4e79a7\",\"line_alpha\":0,\"line_color\":\"#4e79a7\",\"x\":{\"field\":\"x\"},\"y\":{\"field\":\"y\"}},\"id\":\"1178\",\"type\":\"Patch\"},{\"attributes\":{\"dimension\":1,\"ticker\":{\"id\":\"1146\",\"type\":\"BasicTicker\"}},\"id\":\"1149\",\"type\":\"Grid\"},{\"attributes\":{\"axis_label\":\"approximate PDF\",\"formatter\":{\"id\":\"1170\",\"type\":\"BasicTickFormatter\"},\"ticker\":{\"id\":\"1146\",\"type\":\"BasicTicker\"}},\"id\":\"1145\",\"type\":\"LinearAxis\"},{\"attributes\":{\"fill_alpha\":0.1,\"fill_color\":\"#1f77b4\",\"line_alpha\":0.1,\"line_color\":\"#1f77b4\",\"x\":{\"field\":\"x\"},\"y\":{\"field\":\"y\"}},\"id\":\"1179\",\"type\":\"Patch\"},{\"attributes\":{\"ticker\":{\"id\":\"1141\",\"type\":\"BasicTicker\"}},\"id\":\"1144\",\"type\":\"Grid\"},{\"attributes\":{\"data_source\":{\"id\":\"1177\",\"type\":\"ColumnDataSource\"},\"glyph\":{\"id\":\"1178\",\"type\":\"Patch\"},\"hover_glyph\":null,\"muted_glyph\":null,\"nonselection_glyph\":{\"id\":\"1179\",\"type\":\"Patch\"},\"selection_glyph\":null,\"view\":{\"id\":\"1181\",\"type\":\"CDSView\"}},\"id\":\"1180\",\"type\":\"GlyphRenderer\"},{\"attributes\":{},\"id\":\"1146\",\"type\":\"BasicTicker\"},{\"attributes\":{\"source\":{\"id\":\"1177\",\"type\":\"ColumnDataSource\"}},\"id\":\"1181\",\"type\":\"CDSView\"},{\"attributes\":{\"callback\":null,\"start\":0},\"id\":\"1131\",\"type\":\"DataRange1d\"},{\"attributes\":{},\"id\":\"1189\",\"type\":\"UnionRenderers\"},{\"attributes\":{},\"id\":\"1141\",\"type\":\"BasicTicker\"},{\"attributes\":{},\"id\":\"1155\",\"type\":\"HelpTool\"},{\"attributes\":{\"active_drag\":\"auto\",\"active_inspect\":\"auto\",\"active_multi\":null,\"active_scroll\":\"auto\",\"active_tap\":\"auto\",\"tools\":[{\"id\":\"1150\",\"type\":\"PanTool\"},{\"id\":\"1151\",\"type\":\"WheelZoomTool\"},{\"id\":\"1152\",\"type\":\"BoxZoomTool\"},{\"id\":\"1153\",\"type\":\"SaveTool\"},{\"id\":\"1154\",\"type\":\"ResetTool\"},{\"id\":\"1155\",\"type\":\"HelpTool\"}]},\"id\":\"1156\",\"type\":\"Toolbar\"},{\"attributes\":{\"callback\":null,\"data\":{\"x\":{\"__ndarray__\":\"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\",\"dtype\":\"float64\",\"shape\":[288]},\"y\":{\"__ndarray__\":\"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\",\"dtype\":\"float64\",\"shape\":[288]}},\"selected\":{\"id\":\"1188\",\"type\":\"Selection\"},\"selection_policy\":{\"id\":\"1189\",\"type\":\"UnionRenderers\"}},\"id\":\"1163\",\"type\":\"ColumnDataSource\"},{\"attributes\":{},\"id\":\"1210\",\"type\":\"Selection\"},{\"attributes\":{},\"id\":\"1151\",\"type\":\"WheelZoomTool\"},{\"attributes\":{\"line_color\":\"#4e79a7\",\"line_width\":2,\"x\":{\"field\":\"x\"},\"y\":{\"field\":\"y\"}},\"id\":\"1164\",\"type\":\"Line\"},{\"attributes\":{},\"id\":\"1150\",\"type\":\"PanTool\"},{\"attributes\":{\"text\":\"\"},\"id\":\"1168\",\"type\":\"Title\"},{\"attributes\":{},\"id\":\"1153\",\"type\":\"SaveTool\"},{\"attributes\":{\"line_alpha\":0.1,\"line_color\":\"#1f77b4\",\"line_width\":2,\"x\":{\"field\":\"x\"},\"y\":{\"field\":\"y\"}},\"id\":\"1165\",\"type\":\"Line\"},{\"attributes\":{},\"id\":\"1211\",\"type\":\"UnionRenderers\"},{\"attributes\":{\"overlay\":{\"id\":\"1174\",\"type\":\"BoxAnnotation\"}},\"id\":\"1152\",\"type\":\"BoxZoomTool\"},{\"attributes\":{\"data_source\":{\"id\":\"1163\",\"type\":\"ColumnDataSource\"},\"glyph\":{\"id\":\"1164\",\"type\":\"Line\"},\"hover_glyph\":null,\"muted_glyph\":null,\"nonselection_glyph\":{\"id\":\"1165\",\"type\":\"Line\"},\"selection_glyph\":null,\"view\":{\"id\":\"1167\",\"type\":\"CDSView\"}},\"id\":\"1166\",\"type\":\"GlyphRenderer\"},{\"attributes\":{\"source\":{\"id\":\"1163\",\"type\":\"ColumnDataSource\"}},\"id\":\"1167\",\"type\":\"CDSView\"},{\"attributes\":{},\"id\":\"1188\",\"type\":\"Selection\"},{\"attributes\":{\"bottom_units\":\"screen\",\"fill_alpha\":{\"value\":0.5},\"fill_color\":{\"value\":\"lightgrey\"},\"left_units\":\"screen\",\"level\":\"overlay\",\"line_alpha\":{\"value\":1.0},\"line_color\":{\"value\":\"black\"},\"line_dash\":[4,4],\"line_width\":{\"value\":2},\"render_mode\":\"css\",\"right_units\":\"screen\",\"top_units\":\"screen\"},\"id\":\"1174\",\"type\":\"BoxAnnotation\"}],\"root_ids\":[\"1132\"]},\"title\":\"Bokeh Application\",\"version\":\"1.2.0\"}};\n",
       "  var render_items = [{\"docid\":\"facfdbd4-c7e0-4fce-b331-a9955f61dbbf\",\"roots\":{\"1132\":\"edced2d0-5052-469c-bb23-680cc860eb5e\"}}];\n",
       "  root.Bokeh.embed.embed_items_notebook(docs_json, render_items);\n",
       "\n",
       "  }\n",
       "  if (root.Bokeh !== undefined) {\n",
       "    embed_document(root);\n",
       "  } else {\n",
       "    var attempts = 0;\n",
       "    var timer = setInterval(function(root) {\n",
       "      if (root.Bokeh !== undefined) {\n",
       "        embed_document(root);\n",
       "        clearInterval(timer);\n",
       "      }\n",
       "      attempts++;\n",
       "      if (attempts > 100) {\n",
       "        console.log(\"Bokeh: ERROR: Unable to run BokehJS code because BokehJS library is missing\");\n",
       "        clearInterval(timer);\n",
       "      }\n",
       "    }, 10, root)\n",
       "  }\n",
       "})(window);"
      ],
      "application/vnd.bokehjs_exec.v0+json": ""
     },
     "metadata": {
      "application/vnd.bokehjs_exec.v0+json": {
       "id": "1132"
      }
     },
     "output_type": "display_data"
    }
   ],
   "source": [
    "# Set parameters\n",
    "mu = 10\n",
    "sigma = 1\n",
    "\n",
    "# Draw 100000 random samples\n",
    "x = np.random.normal(mu, sigma, size=100000)\n",
    "\n",
    "# Plot the histogram\n",
    "p = bokeh_catplot.histogram(\n",
    "    data=pd.DataFrame(data={'x': x}),\n",
    "    cats=None,\n",
    "    val='x',\n",
    "    density=True,\n",
    "    y_axis_label='approximate PDF',\n",
    ")\n",
    "\n",
    "bokeh.io.show(p)"
   ]
  },
  {
   "cell_type": "markdown",
   "metadata": {},
   "source": [
    "It looks Normal, but, again, comparing the resulting ECDF is a better way to look at this. We'll check out the ECDF with 1000 samples so as not to choke the browser."
   ]
  },
  {
   "cell_type": "code",
   "execution_count": 9,
   "metadata": {},
   "outputs": [
    {
     "data": {
      "text/html": [
       "\n",
       "\n",
       "\n",
       "\n",
       "\n",
       "\n",
       "  <div class=\"bk-root\" id=\"195aa366-ae75-4bb8-8f27-553732e6cb0d\" data-root-id=\"1279\"></div>\n"
      ]
     },
     "metadata": {},
     "output_type": "display_data"
    },
    {
     "data": {
      "application/javascript": [
       "(function(root) {\n",
       "  function embed_document(root) {\n",
       "    \n",
       "  var docs_json = {\"a147af2e-3e3e-490a-ae5b-694cd28a14a0\":{\"roots\":{\"references\":[{\"attributes\":{\"below\":[{\"id\":\"1288\",\"type\":\"LinearAxis\"}],\"center\":[{\"id\":\"1292\",\"type\":\"Grid\"},{\"id\":\"1297\",\"type\":\"Grid\"},{\"id\":\"1324\",\"type\":\"Legend\"}],\"left\":[{\"id\":\"1293\",\"type\":\"LinearAxis\"}],\"plot_height\":300,\"plot_width\":400,\"renderers\":[{\"id\":\"1315\",\"type\":\"GlyphRenderer\"},{\"id\":\"1329\",\"type\":\"GlyphRenderer\"}],\"title\":{\"id\":\"1317\",\"type\":\"Title\"},\"toolbar\":{\"id\":\"1304\",\"type\":\"Toolbar\"},\"x_range\":{\"id\":\"1280\",\"type\":\"DataRange1d\"},\"x_scale\":{\"id\":\"1284\",\"type\":\"LinearScale\"},\"y_range\":{\"id\":\"1282\",\"type\":\"DataRange1d\"},\"y_scale\":{\"id\":\"1286\",\"type\":\"LinearScale\"}},\"id\":\"1279\",\"subtype\":\"Figure\",\"type\":\"Plot\"},{\"attributes\":{\"callback\":null},\"id\":\"1280\",\"type\":\"DataRange1d\"},{\"attributes\":{},\"id\":\"1303\",\"type\":\"HelpTool\"},{\"attributes\":{\"active_drag\":\"auto\",\"active_inspect\":\"auto\",\"active_multi\":null,\"active_scroll\":\"auto\",\"active_tap\":\"auto\",\"tools\":[{\"id\":\"1298\",\"type\":\"PanTool\"},{\"id\":\"1299\",\"type\":\"WheelZoomTool\"},{\"id\":\"1300\",\"type\":\"BoxZoomTool\"},{\"id\":\"1301\",\"type\":\"SaveTool\"},{\"id\":\"1302\",\"type\":\"ResetTool\"},{\"id\":\"1303\",\"type\":\"HelpTool\"}]},\"id\":\"1304\",\"type\":\"Toolbar\"},{\"attributes\":{},\"id\":\"1361\",\"type\":\"Selection\"},{\"attributes\":{\"callback\":null,\"data\":{\"x\":{\"__ndarray__\":\"AAAAAAAAGEBIASIFiBQYQJECRAoQKRhA2gNmD5g9GEAiBYgUIFIYQGoGqhmoZhhAswfMHjB7GED8CO4juI8YQEQKEClApBhAjAsyLsi4GEDVDFQzUM0YQB4OdjjY4RhAZg+YPWD2GECuELpC6AoZQPcR3EdwHxlAQBP+TPgzGUCIFCBSgEgZQNAVQlcIXRlAGRdkXJBxGUBiGIZhGIYZQKoZqGagmhlA8hrKayivGUA7HOxwsMMZQIQdDnY42BlAzB4we8DsGUAUIFKASAEaQF0hdIXQFRpApiKWilgqGkDuI7iP4D4aQDYl2pRoUxpAfyb8mfBnGkDIJx6feHwaQBApQKQAkRpAWCpiqYilGkChK4SuELoaQOosprOYzhpAMi7IuCDjGkB6L+q9qPcaQMMwDMMwDBtADDIuyLggG0BUM1DNQDUbQJw0ctLISRtA5TWU11BeG0AuN7bc2HIbQHY42OFghxtAvjn65uibG0AHOxzscLAbQFA8PvH4xBtAmD1g9oDZG0DgPoL7CO4bQClApACRAhxAckHGBRkXHEC6QugKoSscQAJEChApQBxAS0UsFbFUHECURk4aOWkcQNxHcB/BfRxAJEmSJEmSHEBtSrQp0aYcQLZL1i5ZuxxA/kz4M+HPHEBGTho5aeQcQI9PPD7x+BxA2FBeQ3kNHUAgUoBIASIdQGhTok2JNh1AsVTEUhFLHUD6VeZXmV8dQEJXCF0hdB1AilgqYqmIHUDTWUxnMZ0dQBxbbmy5sR1AZFyQcUHGHUCsXbJ2ydodQPVe1HtR7x1APmD2gNkDHkCGYRiGYRgeQM5iOovpLB5AF2RckHFBHkBgZX6V+VUeQKhmoJqBah5A8GfCnwl/HkA5aeSkkZMeQIJqBqoZqB5Aymsor6G8HkASbUq0KdEeQFtubLmx5R5ApG+Ovjn6HkDscLDDwQ4fQDRy0shJIx9AfXP0zdE3H0DGdBbTWUwfQA52ONjhYB9AVnda3Wl1H0CfeHzi8YkfQOh5nud5nh9AMHvA7AGzH0B4fOLxiccfQMF9BPcR3B9ACn8m/JnwH0ApQKQAkQIgQM1ANQPVDCBAckHGBRkXIEAWQlcIXSEgQLpC6AqhKyBAXkN5DeU1IEACRAoQKUAgQKdEmxJtSiBAS0UsFbFUIEDvRb0X9V4gQJRGTho5aSBAOEffHH1zIEDcR3AfwX0gQIBIASIFiCBAJEmSJEmSIEDJSSMnjZwgQG1KtCnRpiBAEUtFLBWxIEC2S9YuWbsgQFpMZzGdxSBA/kz4M+HPIECiTYk2JdogQEZOGjlp5CBA606rO63uIECPTzw+8fggQDNQzUA1AyFA2FBeQ3kNIUB8Ue9FvRchQCBSgEgBIiFAxFIRS0UsIUBoU6JNiTYhQA1UM1DNQCFAsVTEUhFLIUBVVVVVVVUhQPpV5leZXyFAnlZ3Wt1pIUBCVwhdIXQhQOZXmV9lfiFAilgqYqmIIUAvWbtk7ZIhQNNZTGcxnSFAd1rdaXWnIUAcW25subEhQMBb/279uyFAZFyQcUHGIUAIXSF0hdAhQKxdsnbJ2iFAUV5DeQ3lIUD1XtR7Ue8hQJlfZX6V+SFAPmD2gNkDIkDiYIeDHQ4iQIZhGIZhGCJAKmKpiKUiIkDOYjqL6SwiQHNjy40tNyJAF2RckHFBIkC7ZO2StUsiQGBlfpX5VSJABGYPmD1gIkCoZqCagWoiQExnMZ3FdCJA8GfCnwl/IkCVaFOiTYkiQDlp5KSRkyJA3Wl1p9WdIkCCagaqGagiQCZrl6xdsiJAymsor6G8IkBubLmx5cYiQBJtSrQp0SJAt23btm3bIkBbbmy5seUiQP9u/bv17yJApG+Ovjn6IkBIcB/BfQQjQOxwsMPBDiNAkHFBxgUZI0A0ctLISSMjQNlyY8uNLSNAfXP0zdE3I0AhdIXQFUIjQMZ0FtNZTCNAanWn1Z1WI0AOdjjY4WAjQLJ2ydolayNAVnda3Wl1I0D7d+vfrX8jQJ94fOLxiSNAQ3kN5TWUI0DoeZ7neZ4jQIx6L+q9qCNAMHvA7AGzI0DUe1HvRb0jQHh84vGJxyNAHX1z9M3RI0DBfQT3EdwjQGV+lflV5iNACn8m/JnwI0Cuf7f+3fojQFKASAEiBSRA9oDZA2YPJECagWoGqhkkQD+C+wjuIyRA44KMCzIuJECHgx0OdjgkQCyErhC6QiRA0IQ/E/5MJEB0hdAVQlckQBiGYRiGYSRAvIbyGsprJEBhh4MdDnYkQAWIFCBSgCRAqYilIpaKJEBOiTYl2pQkQPKJxycenyRAlopYKmKpJEA6i+ksprMkQN6Lei/qvSRAg4wLMi7IJEAnjZw0ctIkQMuNLTe23CRAcI6+OfrmJEAUj088PvEkQLiP4D6C+yRAXJBxQcYFJUAAkQJEChAlQKWRk0ZOGiVASZIkSZIkJUDtkrVL1i4lQJKTRk4aOSVANpTXUF5DJUDalGhTok0lQH6V+VXmVyVAIpaKWCpiJUDHlhtbbmwlQGuXrF2ydiVAD5g9YPaAJUC0mM5iOoslQFiZX2V+lSVA/JnwZ8KfJUCgmoFqBqolQESbEm1KtCVA6Zujb46+JUCNnDRy0sglQDGdxXQW0yVA1p1Wd1rdJUB6nud5nuclQB6feHzi8SVAwp8Jfyb8JUBmoJqBagYmQAuhK4SuECZAr6G8hvIaJkBTok2JNiUmQPii3ot6LyZAnKNvjr45JkBApACRAkQmQOSkkZNGTiZAiKUilopYJkAtprOYzmImQNGmRJsSbSZAdafVnVZ3JkAaqGagmoEmQL6o96LeiyZAYqmIpSKWJkAGqhmoZqAmQKqqqqqqqiZAT6s7re60JkDzq8yvMr8mQJesXbJ2ySZAPK3utLrTJkDgrX+3/t0mQISuELpC6CZAKK+hvIbyJkDMrzK/yvwmQHGww8EOBydAFbFUxFIRJ0C5seXGlhsnQF6ydsnaJSdAArMHzB4wJ0Cms5jOYjonQEq0KdGmRCdA7rS60+pOJ0CTtUvWLlknQDe23NhyYydA27Zt27ZtJ0CAt/7d+ncnQCS4j+A+gidAyLgg44KMJ0BsubHlxpYnQBC6QugKoSdAtbrT6k6rJ0BZu2TtkrUnQP279e/WvydAoryG8hrKJ0BGvRf1XtQnQOq9qPei3idAjr45+uboJ0Ayv8r8KvMnQNe/W/9u/SdAe8DsAbMHKEAfwX0E9xEoQMTBDgc7HChAaMKfCX8mKEAMwzAMwzAoQLDDwQ4HOyhAVMRSEUtFKED5xOMTj08oQJ3FdBbTWShAQcYFGRdkKEDmxpYbW24oQIrHJx6feChALsi4IOOCKEDSyEkjJ40oQHbJ2iVrlyhAG8prKK+hKEC/yvwq86soQGPLjS03tihACMweMHvAKECszK8yv8ooQFDNQDUD1ShA9M3RN0ffKECYzmI6i+koQD3P8zzP8yhA4c+EPxP+KECF0BVCVwgpQCrRpkSbEilAztE3R98cKUBy0shJIycpQBbTWUxnMSlAutPqTqs7KUBf1HtR70UpQAPVDFQzUClAp9WdVndaKUBM1i5Zu2QpQPDWv1v/bilAlNdQXkN5KUA42OFgh4MpQNzYcmPLjSlAgdkDZg+YKUAl2pRoU6IpQMnaJWuXrClAbtu2bdu2KUAS3EdwH8EpQLbc2HJjyylAWt1pdafVKUD+3fp3698pQKPei3ov6ilAR98cfXP0KUDr361/t/4pQJDgPoL7CCpANOHPhD8TKkDY4WCHgx0qQHzi8YnHJypAIOOCjAsyKkDF4xOPTzwqQGnkpJGTRipADeU1lNdQKkCy5caWG1sqQFbmV5lfZSpA+ubom6NvKkCe53me53kqQELoCqErhCpA5+ibo2+OKkCL6Syms5gqQC/qvaj3oipA1OpOqzutKkB469+tf7cqQBzscLDDwSpAwOwBswfMKkBk7ZK1S9YqQAnuI7iP4CpAre60utPqKkBR70W9F/UqQPbv1r9b/ypAmvBnwp8JK0A+8fjE4xMrQOLxiccnHitAhvIaymsoK0Ar86vMrzIrQM/zPM/zPCtAc/TN0TdHK0AY9V7Ue1ErQLz179a/WytAYPaA2QNmK0AE9xHcR3ArQKj3ot6LeitATfgz4c+EK0Dx+MTjE48rQJX5VeZXmStAOvrm6JujK0De+nfr360rQIL7CO4juCtAJvyZ8GfCK0DK/Crzq8wrQG/9u/Xv1itAE/5M+DPhK0C3/t36d+srQFz/bv279StAAAAAAAAALEA=\",\"dtype\":\"float64\",\"shape\":[400]},\"y\":{\"__ndarray__\":\"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\",\"dtype\":\"float64\",\"shape\":[400]}},\"selected\":{\"id\":\"1361\",\"type\":\"Selection\"},\"selection_policy\":{\"id\":\"1362\",\"type\":\"UnionRenderers\"}},\"id\":\"1326\",\"type\":\"ColumnDataSource\"},{\"attributes\":{},\"id\":\"1362\",\"type\":\"UnionRenderers\"},{\"attributes\":{\"data_source\":{\"id\":\"1311\",\"type\":\"ColumnDataSource\"},\"glyph\":{\"id\":\"1313\",\"type\":\"Circle\"},\"hover_glyph\":null,\"muted_glyph\":null,\"nonselection_glyph\":{\"id\":\"1314\",\"type\":\"Circle\"},\"selection_glyph\":null,\"view\":{\"id\":\"1316\",\"type\":\"CDSView\"}},\"id\":\"1315\",\"type\":\"GlyphRenderer\"},{\"attributes\":{},\"id\":\"1360\",\"type\":\"UnionRenderers\"},{\"attributes\":{\"callback\":null,\"data\":{\"__ECDF\":{\"__ndarray__\":\"okW28/3U7D956SYxCKzUPxBYObTIdtY/HVpkO99P5T+amZmZmZmpP0a28/3UeMk/7FG4HoXr5T8pXI/C9SjcP166SQwCK+8/ppvEILBy0D+DwMqhRbbDP6abxCCwcsg/1XjpJjEI4D/fT42XbhLbP9nO91Pjpe8/bxKDwMqh1T+kcD0K16PgP+xRuB6F6+k/eekmMQis3D83iUFg5dDmP83MzMzMzOQ/GQRWDi2y6T8rhxbZzvezP5zEILByaOk/LbKd76fG2z9mZmZmZmbiPxkEVg4tstU/ke18PzVe7j/b+X5qvHSTPx1aZDvfT+0/DAIrhxbZzj+WQ4ts5/vtP6abxCCwcuw/tMh2vp8a6z/FILByaJHpP65H4XoUru8/oBov3SQG0T+e76fGSzfRPwRWDi2ync8/EoPAyqFF6j/6fmq8dJO4PwrXo3A9Cus/BoGVQ4ts1z83iUFg5dDCP4/C9Shcj8I/0SLb+X5qzD+TGARWDi2yP2iR7Xw/NeY/7nw/NV666T+PwvUoXI/qP/yp8dJNYtA/rkfhehSu4z9WDi2yne/fP1K4HoXrUeg/nu+nxks35T+e76fGSzfhP5zEILByaKE/jZduEoPA2j8bL90kBoHhP7x0kxgEVs4/qvHSTWIQ2D9SuB6F61G4P7TIdr6fGtc/FK5H4XoU5j+F61G4HoXvPx+F61G4HsU/CtejcD0K3z8K16NwPQrHPx+F61G4Ht0/9P3UeOkm2T9Ei2zn+6npPzm0yHa+n+o/wcqhRbbz4T8lBoGVQ4vcP1K4HoXrUew/EoPAyqFF4j/sUbgehevtP9nO91Pjpas/uB6F61G47j9QjZduEoPQPz81XrpJDMI/ukkMAiuH3j9oke18PzW+P2Dl0CLb+eY/gZVDi2zn0z8xCKwcWmTjPxKDwMqhRcY/SOF6FK5H2T9I4XoUrkfhPz81XrpJDNo/FK5H4XoU7j8zMzMzMzPnPzm0yHa+n+I/7FG4HoXroT8lBoGVQ4vkP8/3U+Olm+w/EFg5tMh2zj+amZmZmZnZP/yp8dJNYlA/ke18PzVeuj/8qfHSTWKQPx1aZDvfT+E/3SQGgZVD2z/NzMzMzMzcPyPb+X5qvNQ/iUFg5dAi6z/hehSuR+G6P8UgsHJokd0/sp3vp8ZL5z8730+Nl27aP8l2vp8aL90/3SQGgZVDyz+4HoXrUbjWPyUGgZVDi+g/WmQ730+Nlz+JQWDl0CLbP/T91HjpJtE/bxKDwMqh3T85tMh2vp/uP9Ei2/l+atQ/7nw/NV667T9WDi2yne/rP6jGSzeJQeA/SgwCK4cW4T/n+6nx0k3iP4lBYOXQIss/BFYOLbKd5z/6fmq8dJPQP30/NV66SeA/exSuR+F6hD/y0k1iEFjJPzvfT42XbuY//Knx0k1iwD/VeOkmMQjkPzMzMzMzM9M/DAIrhxbZ6j8j2/l+arzsP5MYBFYOLeI/sp3vp8ZL3z/RItv5fmrgP166SQwCK98/JzEIrBxa7D+sHFpkO9/vP7pJDAIrh7Y/exSuR+F6xD/Jdr6fGi/tP7gehetRuL4/y6FFtvP9tD8v3SQGgZXvP6wcWmQ739c/pHA9Ctej2D/fT42XbhLTP7TIdr6fGuc/sHJoke18vz/jpZvEILDuP83MzMzMzOg/FK5H4XoU3j9CYOXQItvRP8dLN4lBYOE/sp3vp8ZL6z+BlUOLbOfvP0Jg5dAi2+0/30+Nl24S6z9QjZduEoPgPyUGgZVDi+w/ukkMAiuH1j8rhxbZzvfjP6jGSzeJQew/XI/C9Shc5z9cj8L1KFzPP1TjpZvEILA/PzVeukkM5j9vEoPAyqHhP7x0kxgEVuo/+FPjpZvE4D9t5/up8dLVP9v5fmq8dOs/tvP91Hjp6j85tMh2vp+KP/yp8dJNYrA/mpmZmZmZ4T/D9Shcj8LdP+kmMQisHNo/8KfGSzeJ6T8xCKwcWmTvP39qvHSTGMQ/GQRWDi2y3T9g5dAi2/nePw4tsp3vp+I/gZVDi2znuz9vEoPAyqHlP1K4HoXrUeA/BoGVQ4ts7z956SYxCKzkP2iR7Xw/Nc4/RIts5/upsT91kxgEVg7dPx1aZDvfT80/d76fGi/d1D/+1HjpJjHkP4ts5/up8eI/ukkMAiuH4j9I4XoUrkftP8uhRbbz/eQ/Vg4tsp3v7z/sUbgehevhP8dLN4lBYNU/7FG4HoXrsT9aZDvfT423P5MYBFYOLeo/gZVDi2zn5z9zaJHtfD/dP0oMAiuHFtk/+n5qvHSTyD83iUFg5dDaP/Cnxks3ieE/+n5qvHSTmD/P91PjpZvoPxsv3SQGgZU/VOOlm8Qg5D9kO99PjZfeP4XrUbgeheM/AAAAAAAA0D8730+Nl27uP1CNl24Sg+g/g8DKoUW25z/l0CLb+X7aPxsv3SQGgd0/wcqhRbbz6T8hsHJoke3sP/LSTWIQWO0/vHSTGARW3j8j2/l+arzgP1YOLbKd7+M//Knx0k1i2D/ByqFFtvPNP2q8dJMYBOI/GQRWDi2y5T+R7Xw/NV7mP3E9CtejcN0/sHJoke18zz9qvHSTGATmPyGwcmiR7eQ/WmQ730+Nxz8QWDm0yHbqP0w3iUFg5eg/Di2yne+n3j9CYOXQItu5P9Ei2/l+arw/yXa+nxov5T85tMh2vp/SP1YOLbKd79c/AAAAAAAAwD9GtvP91HjpP1g5tMh2vp8/EoPAyqFF3j9SuB6F61HkP9v5fmq8dOc/QmDl0CLb5T8pXI/C9Si8P8l2vp8aL9U/cT0K16NwzT/ByqFFtvO9PyuHFtnO96M/mG4Sg8DK5T99PzVeuknsP5zEILByaNE/y6FFtvP96D8QWDm0yHbmP1YOLbKd78c/z/dT46Wb3D+mm8QgsHLgPyPb+X5qvOg/cT0K16Nw4T9qvHSTGASmP4ts5/up8e4/TmIQWDm05D8X2c73U+PFP1g5tMh2vq8/SgwCK4cWyT9mZmZmZmbWP2Q730+Nl84/2/l+arx00z/LoUW28/3EP2IQWDm0yOY/hxbZzvdTwz/l0CLb+X7mP/7UeOkmMeg/TDeJQWDlsD+F61G4HoXTP2iR7Xw/Neo/mG4Sg8DK4T9CYOXQItvpP1g5tMh2vus/VOOlm8QgwD/NzMzMzMzUPwaBlUOLbOM/BFYOLbKd1z+BlUOLbOfjP0SLbOf7qe0/Rrbz/dR42T9iEFg5tMjiP4GVQ4ts59s/nMQgsHJokT/pJjEIrBzKP57vp8ZLN9k/g8DKoUW20z9KDAIrhxbpPwRWDi2ynes/FK5H4XoUzj+wcmiR7XzrP+f7qfHSTdI/2/l+arx04z8dWmQ730/VP2q8dJMYBLY/JQaBlUOLzD/pJjEIrByqP57vp8ZLN+k/9P3UeOkm7T/pJjEIrBzqP166SQwCK9c/JzEIrBxa6D85tMh2vp+aP90kBoGVQ+s/YOXQItv57j+q8dJNYhDoP+F6FK5H4dI/bxKDwMqh6T956SYxCKzgPyuHFtnO98M/w/UoXI/CtT/2KFyPwvXYP1TjpZvEIOA//Knx0k1icD8AAAAAAADwP3sUrkfhetQ/TDeJQWDl7D/+1HjpJjHgP3e+nxov3ew/BFYOLbKd7z/sUbgehevRP2Q730+Nl9Y/CKwcWmQ75z+Nl24Sg8DqPzeJQWDl0OI/4XoUrkfh2j/TTWIQWDm0P/T91HjpJuE/001iEFg5xD+sHFpkO9/fP9Ei2/l+auw/z/dT46Wb5D+oxks3iUHkP7gehetRuK4/bef7qfHS5T+R7Xw/NV7SP9nO91PjpZs/oBov3SQG7T+mm8QgsHLYP/yp8dJNYuA/RIts5/up5T/4U+Olm8TsP8l2vp8aL80/bxKDwMqh7T8QWDm0yHbeP9V46SYxCMw/nMQgsHJo4T/+1HjpJjHQPyGwcmiR7dw/bef7qfHS7T/8qfHSTWKgP83MzMzMzOA/CKwcWmQ73z8IrBxaZDvXPy2yne+nxtM/001iEFg56D/4U+Olm8TQP/p+arx0k2g/pHA9CtejsD+yne+nxkvXP76fGi/dJOo/jZduEoPA5j+6SQwCK4eGP7gehetRuOY/8tJNYhBY4T/l0CLb+X7SP4ts5/up8dI/XrpJDAIr5z+wcmiR7XzjP3Noke18P8U/mG4Sg8DKwT9GtvP91HjhPzVeukkMAu8/XI/C9Shc6z/dJAaBlUPnP4ts5/up8cI/LbKd76fGyz/VeOkmMQjoP0jhehSuR+k/gZVDi2znyz85tMh2vp/aPz0K16NwPco/SOF6FK5H0T9g5dAi2/nqP65H4XoUrtc/sp3vp8ZLxz8730+Nl26yP4XrUbgehds/XI/C9Shc1z/FILByaJHtP0Jg5dAi28k/XrpJDAIrxz9aZDvfT43nP+F6FK5H4eI/XI/C9Shc3z8X2c73U+PhPyuHFtnO99M/IbByaJHt4D/2KFyPwvXoP6RwPQrXo8A/lkOLbOf76T8v3SQGgZXrP42XbhKDwNI/K4cW2c737z+0yHa+nxrvP1pkO99Pjac/XrpJDAIr6z/4U+Olm8ToPzvfT42XbsI/PQrXo3A95j/ZzvdT46XTPz81XrpJDOo/ukkMAiuHxj9qvHSTGATGP4lBYOXQIu8/JzEIrBxa4D91kxgEVg7pP2IQWDm0yOo/K4cW2c732z91kxgEVg7VP5MYBFYOLeY/YhBYObTI7j9t5/up8dLhPx+F61G4HuU/ke18PzVe2j/TTWIQWDnkP90kBoGVQ9M/UI2XbhKD5D/hehSuR+HqP/Cnxks3ie0/O99PjZdu6j+amZmZmZnlP4cW2c73U+8/arx0kxgE3j+PwvUoXI/aP4ts5/up8aI/AAAAAAAA5D+oxks3iUHoP6rx0k1iEOw/y6FFtvP93D8tsp3vp8bvP2q8dJMYBOo/30+Nl24Swz/2KFyPwvXkP7ByaJHtfN8/H4XrUbge7T9OYhBYObTgPzEIrBxaZMs/16NwPQrX4z8730+Nl27SP8uhRbbz/aQ/5dAi2/l+yj9CYOXQItvhPz0K16NwPdI/y6FFtvP97D+yne+nxku3PyGwcmiR7cw/w/UoXI/CxT/pJjEIrBziP3Noke18P+0/KVyPwvUo4D+YbhKDwMrZP05iEFg5tOw/g8DKoUW27z9MN4lBYOXkPxkEVg4tsp0/6SYxCKwcuj/jpZvEILDmP/p+arx0k+Q/+n5qvHSTiD/n+6nx0k3mP9ejcD0K1+c/EoPAyqFFtj89CtejcD3uP2iR7Xw/NeI/tvP91Hjp5j/pJjEIrBzSP+XQItv5fu4/16NwPQrX7z9kO99PjZfiP2q8dJMYBO4/nMQgsHJowT/2KFyPwvXgPwIrhxbZzsc/2/l+arx02z9SuB6F61HIPwAAAAAAANg/fT81XrpJ6D956SYxCKysPzEIrBxaZLs/w/UoXI/C1T9YObTIdr7nPw4tsp3vp+4/vHSTGARW1j9iEFg5tMjePycxCKwcWtQ/SgwCK4cW0T/D9Shcj8LhP9V46SYxCNQ/8tJNYhBY6T/sUbgehevZP4XrUbgehec/16NwPQrX6z93vp8aL93oPxkEVg4tss0/x0s3iUFg5T/6fmq8dJPoP+f7qfHSTdo/mG4Sg8DK7T/Xo3A9CtfbPzVeukkMAtM/pHA9Ctej0D9aZDvfT43jP05iEFg5tOg/lkOLbOf72T8GgZVDi2zrP90kBoGVQ+8/fT81XrpJzD/RItv5fmroP0a28/3UeO0/kxgEVg4t0j/ZzvdT46W7PzEIrBxaZOc/SgwCK4cW5T+sHFpkO9/PP4/C9Shcj+Y/0SLb+X5q5D+HFtnO91PbP4cW2c73U+c//tR46SYx2D/fT42XbhLnP3sUrkfhenQ/JQaBlUOL1D9MN4lBYOXgPwisHFpkO78/+FPjpZvE2D+iRbbz/dTQPyUGgZVDi+A/okW28/3UuD8CK4cW2c63P/hT46WbxMA/Gy/dJAaBxT9g5dAi2/m+Px1aZDvfT90/30+Nl24S7z/D9Shcj8LpPxkEVg4tsq0/zczMzMzM7D9/arx0kxjoP3sUrkfhetw/TDeJQWDlwD++nxov3STuPw4tsp3vp8Y/YhBYObTI1j9mZmZmZmbuPy2yne+nxuM/pHA9Ctej6D8CK4cW2c7fPzMzMzMzM9s/xSCwcmiR4T9KDAIrhxbtP3sUrkfheuA/KVyPwvUo6D+amZmZmZm5P2ZmZmZmZuY/ppvEILBy5D9Ei2zn+6nhP/yp8dJNYuw/F9nO91Pj7T9aZDvfT43rPxSuR+F6FOI/30+Nl24S4z8K16NwPQrjP+XQItv5fuo/vp8aL90kxj/Jdr6fGi+tP1TjpZvEIOw/nMQgsHJosT8730+Nl26SP8P1KFyPwu0/TDeJQWDl0D+q8dJNYhCoP6wcWmQ73+s/bef7qfHS3T8K16NwPQrXP0SLbOf7qdk/tvP91Hjp3j99PzVeuknkP+58PzVeutE/uB6F61G44j8GgZVDi2zfP/p+arx0k3g/2/l+arx0sz/P91PjpZvEP6AaL90kBtk/oBov3SQG5T/hehSuR+HuPzm0yHa+n7o/XrpJDAIr4z+8dJMYBFbmPzVeukkMAus/8tJNYhBY2T9YObTIdr7jP2Dl0CLb+eI/2c73U+Ol5z/hehSuR+HmP/yp8dJNYmA/WDm0yHa+1z8IrBxaZDvjP4lBYOXQIqs/mpmZmZmZ7T/FILByaJHVPyuHFtnO9+s/8KfGSzeJwT8nMQisHFrcP/p+arx0k+A/j8L1KFyP0j+F61G4HoXLP3Noke18P+U/tMh2vp8a4z9g5dAi2/nWP4cW2c73U+s/xSCwcmiR5T8UrkfhehTWP+Olm8QgsLI/N4lBYOXQ6j93vp8aL93gP/7UeOkmMcg/CtejcD0Kpz/pJjEIrBzuPz0K16NwPeI/2c73U+Olyz9SuB6F61HYP7gehetRuJ4/uB6F61G46j+R7Xw/NV7iP5qZmZmZmek/Gy/dJAaBpT+sHFpkO9/jPxfZzvdT49U/ukkMAiuH5j91kxgEVg7hP7bz/dR46dY/7nw/NV66yT+JQWDl0CLTPxsv3SQGgbU/46WbxCCw2j8IrBxaZDvvPxfZzvdT4+k/ukkMAiuH6j+q8dJNYhDkP6wcWmQ73+c/ZmZmZmZm3j93vp8aL93EP05iEFg5tMg/LbKd76fG6z9OYhBYObTQP76fGi/dJN4/Gy/dJAaB6T9zaJHtfD/VP5zEILByaOU/MzMzMzMzwz8OLbKd76fWP5huEoPAytE/AiuHFtnO5z85tMh2vp/mP+kmMQisHOY/F9nO91Pj3T/ByqFFtvPlP6rx0k1iENA/IbByaJHt1D/8qfHSTWLoP9Ei2/l+atw/lkOLbOf7yT9aZDvfT43fP8dLN4lBYO0/UI2XbhKD2D+q8dJNYhDgPyGwcmiR7eg/f2q8dJMY7D8j2/l+arzkP2iR7Xw/NdY/bef7qfHS6T9U46WbxCDQP1pkO99Pje8/zczMzMzMzD/HSzeJQWDpP6JFtvP91Mg/9ihcj8L17D956SYxCKx8P8UgsHJokc0/2/l+arx0oz9YObTIdr6/P+58PzVeuuU/ZDvfT42X7j8pXI/C9SjMP1TjpZvEINg/1XjpJjEI7D+oxks3iUHYP+58PzVeuuE/ukkMAiuHlj8OLbKd76fmP8l2vp8aL70/PQrXo3A92j+4HoXrUbjePyGwcmiR7bw/Di2yne+n6j+kcD0K16PkP+XQItv5fuI//Knx0k1i5D+28/3UeOnGP3sUrkfheqQ/nMQgsHJo7T8AAAAAAADoP9v5fmq8dO8/i2zn+6nx2j+Nl24Sg8DKP9ejcD0K19M/Rrbz/dR40T8j2/l+arzcPwrXo3A9Crc/MzMzMzMzsz81XrpJDALbP3e+nxov3eQ/AiuHFtnO1z+DwMqhRbbrP6JFtvP91OA/f2q8dJMY1D+Nl24Sg8DiP1yPwvUoXOM/5/up8dJN7j9zaJHtfD+1Px1aZDvfT+k/ObTIdr6fqj8730+Nl26CPylcj8L1KKw/8KfGSzeJ5T+JQWDl0CLnP65H4XoUrus/TDeJQWDloD8GgZVDi2zHP+f7qfHSTcI/bxKDwMqhxT91kxgEVg7NP5qZmZmZmck/VOOlm8Qg6D9aZDvfT43XPwwCK4cW2dY/cT0K16Nw1T/y0k1iEFjlPxKDwMqhReY/ZDvfT42X6j9/arx0kxjkPxSuR+F6FOo/tvP91Hjp7j/Jdr6fGi/hP8dLN4lBYMU/CKwcWmQ7rz8j2/l+arzEP8/3U+Olm+A/jZduEoPA7j/TTWIQWDnUPwrXo3A9Cu8/oBov3SQG4T9I4XoUrkfBPzVeukkMAss/EoPAyqFF1j/TTWIQWDngP76fGi/dJNY/AAAAAAAA4D8/NV66SQzuPwIrhxbZzus/MQisHFpk2z97FK5H4XqUPzMzMzMzM+M/NV66SQwC4z/jpZvEILDqP1g5tMh2vt8/qvHSTWIQuD/HSzeJQWDdP7Kd76fGS+M/8tJNYhBYuT/y0k1iEFjRP1CNl24Sg8A/DAIrhxbZ7j/Xo3A9CtfDP/YoXI/C9dA/46WbxCCw4j8xCKwcWmTTPx+F61G4HuE/TmIQWDm02D+WQ4ts5/vhP3E9CtejcOk/KVyPwvUo5D/0/dR46SbpPwwCK4cW2d4/f2q8dJMY4D+amZmZmZnRPz81XrpJDNI/CKwcWmQ7zz++nxov3STmP2ZmZmZmZuo/BoGVQ4ts5z956SYxCKzoP3Noke18P+E/N4lBYOXQ0j956SYxCKzsP7x0kxgEVuI/uB6F61G4jj+TGARWDi3aPylcj8L1KNQ/f2q8dJMY3D/6fmq8dJOoP6JFtvP91OQ/hxbZzvdT0z9QjZduEoPsPzvfT42XbqI/001iEFg57D9qvHSTGATWP0a28/3UeOU/9ihcj8L1yD/4U+Olm8TkP2IQWDm0yLY/F9nO91Pj5T85tMh2vp/KP2iR7Xw/Na4/g8DKoUW24z8MAiuHFtnmP0w3iUFg5dg/exSuR+F66D+TGARWDi3uPzEIrBxaZOs/kxgEVg4twj956SYxCKyMP6jGSzeJQdA/eekmMQisvD/+1HjpJjHsPy/dJAaBldM/7FG4HoXrwT+F61G4HoXrPy/dJAaBleM/fT81XrpJ1D9cj8L1KFzvP3WTGARWDuU/I9v5fmq8tD/0/dR46SaxP5HtfD81Xso/2c73U+Ol6z+8dJMYBFbuP8HKoUW2890/8KfGSzeJ0T+mm8QgsHLoP57vp8ZLN+0/SgwCK4cWqT/ByqFFtvPVP1YOLbKd7+c/ke18PzVe6j/LoUW28/3UP3sUrkfheuQ/Gy/dJAaB7T/8qfHSTWKAPyuHFtnO9+c/wcqhRbbz7T9YObTIdr7PP23n+6nx0s0/9P3UeOkmwT9oke18PzXeP7ByaJHtfOc/rkfhehSuxz+uR+F6FK7nP3E9CtejcO0/pHA9Ctej7D+wcmiR7XzvP3E9CtejcOU/O99PjZdu4j8AAAAAAADsP6AaL90kBsE/46WbxCCwwj9Ei2zn+6nRPxkEVg4tsr0/oBov3SQG6T++nxov3STiP+Olm8QgsNI/mpmZmZmZmT8nMQisHFrEPxkEVg4tsu0/sp3vp8ZL7z+PwvUoXI/uP4lBYOXQIuM/cT0K16NwvT9g5dAi2/nOP6JFtvP91Og/WDm0yHa+7z/Jdr6fGi/pPwRWDi2ynd8/GQRWDi2y4T+JQWDl0CK7P4PAyqFFtrM/uB6F61G4zj/VeOkmMQjcPy/dJAaBlcM/EFg5tMh27j/hehSuR+HKP5zEILByaNk/nu+nxks3yT8QWDm0yHa+P3npJjEIrMw/EoPAyqFF7j8K16NwPQrnP65H4XoUrt8/okW28/3U2D97FK5H4XrsP4cW2c73U+M/sHJoke181z/0/dR46SblP2IQWDm0yMY/H4XrUbge1T91kxgEVg7tPzMzMzMzM+8/2/l+arx0wz9CYOXQItvZP4/C9Shcj+I/2c73U+Ol2z8zMzMzMzPrP0SLbOf7qcE/JzEIrBxa5D+YbhKDwMrpPzeJQWDl0O4/SgwCK4cWuT99PzVeukncP9nO91PjpeM/8KfGSzeJ2T9mZmZmZmbGP3sUrkfherQ/5/up8dJN6j81XrpJDALnP/p+arx0k+w/qvHSTWIQyD+WQ4ts5/vRP7pJDAIrh+4/PQrXo3A96j8fhetRuB7pPy/dJAaBlec/eekmMQisnD8pXI/C9SjsP7pJDAIrh6Y/tMh2vp8azz8CK4cW2c7jPxBYObTIduI/z/dT46Wb1D+0yHa+nxrfP3e+nxov3dw/ZDvfT42X5j/D9Shcj8LlPz81XrpJDOI/Gy/dJAaB5T/dJAaBlUPjPwRWDi2yneM/SOF6FK5H5T+DwMqhRbbbP9NNYhBYOdw/CKwcWmQ76z9SuB6F61HQP6jGSzeJQcA/i2zn+6nx5j+WQ4ts5/vlP4GVQ4ts5+s/y6FFtvP94D+28/3UeOniP/p+arx0k9g/i2zn+6nxsj/ufD81XrrZP3Noke18P+k/DAIrhxbZ4j+LbOf7qfHqPy2yne+nxuc/L90kBoGV2z8CK4cW2c7vP2iR7Xw/Ne4/Gy/dJAaB1T8=\",\"dtype\":\"float64\",\"shape\":[1000]},\"__dummy_cat\":[\" \",\" \",\" \",\" \",\" \",\" \",\" \",\" \",\" \",\" \",\" \",\" \",\" \",\" \",\" \",\" \",\" \",\" \",\" \",\" \",\" \",\" \",\" \",\" \",\" \",\" \",\" \",\" \",\" \",\" \",\" \",\" \",\" \",\" \",\" \",\" \",\" \",\" \",\" \",\" \",\" \",\" \",\" \",\" \",\" \",\" \",\" \",\" \",\" \",\" \",\" \",\" \",\" \",\" \",\" \",\" \",\" \",\" \",\" \",\" \",\" \",\" \",\" \",\" \",\" \",\" \",\" \",\" \",\" \",\" \",\" \",\" \",\" \",\" \",\" \",\" \",\" \",\" \",\" \",\" \",\" \",\" \",\" \",\" \",\" \",\" \",\" \",\" \",\" \",\" \",\" \",\" \",\" \",\" \",\" \",\" \",\" \",\" \",\" \",\" \",\" \",\" \",\" \",\" \",\" \",\" \",\" \",\" \",\" \",\" \",\" \",\" \",\" \",\" \",\" \",\" \",\" \",\" \",\" \",\" \",\" \",\" \",\" \",\" \",\" \",\" \",\" \",\" \",\" \",\" \",\" \",\" \",\" \",\" \",\" \",\" \",\" \",\" \",\" \",\" \",\" \",\" \",\" \",\" \",\" \",\" \",\" \",\" \",\" \",\" \",\" \",\" \",\" \",\" \",\" \",\" \",\" \",\" \",\" \",\" \",\" \",\" \",\" \",\" \",\" \",\" \",\" \",\" \",\" \",\" \",\" \",\" \",\" \",\" \",\" \",\" \",\" \",\" \",\" \",\" \",\" \",\" \",\" \",\" \",\" \",\" \",\" \",\" \",\" \",\" \",\" \",\" \",\" \",\" \",\" \",\" \",\" \",\" \",\" \",\" \",\" \",\" \",\" \",\" \",\" \",\" \",\" \",\" \",\" \",\" \",\" \",\" \",\" \",\" \",\" \",\" \",\" \",\" \",\" \",\" \",\" \",\" \",\" \",\" \",\" \",\" \",\" \",\" \",\" \",\" \",\" \",\" \",\" \",\" \",\" \",\" \",\" \",\" \",\" \",\" \",\" \",\" \",\" \",\" \",\" \",\" \",\" \",\" \",\" \",\" \",\" \",\" \",\" \",\" \",\" \",\" \",\" \",\" \",\" \",\" \",\" \",\" \",\" \",\" \",\" \",\" \",\" \",\" \",\" \",\" \",\" \",\" \",\" \",\" \",\" \",\" \",\" \",\" \",\" \",\" \",\" \",\" \",\" \",\" \",\" \",\" \",\" \",\" \",\" \",\" \",\" \",\" \",\" \",\" \",\" \",\" \",\" \",\" \",\" \",\" \",\" \",\" \",\" \",\" \",\" \",\" \",\" \",\" \",\" \",\" \",\" \",\" \",\" \",\" \",\" \",\" \",\" \",\" \",\" \",\" \",\" \",\" \",\" \",\" \",\" \",\" \",\" \",\" \",\" \",\" \",\" \",\" \",\" \",\" \",\" \",\" \",\" \",\" \",\" \",\" \",\" \",\" \",\" \",\" \",\" \",\" \",\" \",\" \",\" \",\" \",\" \",\" \",\" \",\" \",\" \",\" \",\" \",\" \",\" \",\" \",\" \",\" \",\" \",\" \",\" \",\" \",\" \",\" \",\" \",\" \",\" \",\" \",\" \",\" \",\" \",\" \",\" \",\" \",\" \",\" \",\" \",\" \",\" \",\" \",\" \",\" \",\" \",\" \",\" \",\" \",\" \",\" \",\" \",\" \",\" \",\" \",\" \",\" \",\" \",\" \",\" \",\" \",\" \",\" \",\" \",\" \",\" \",\" \",\" \",\" \",\" \",\" \",\" \",\" \",\" \",\" \",\" \",\" \",\" \",\" \",\" \",\" \",\" \",\" \",\" \",\" \",\" \",\" \",\" \",\" \",\" \",\" \",\" \",\" \",\" \",\" \",\" \",\" \",\" \",\" \",\" \",\" \",\" \",\" \",\" \",\" \",\" \",\" \",\" \",\" \",\" \",\" \",\" \",\" \",\" \",\" \",\" \",\" \",\" \",\" \",\" \",\" \",\" \",\" \",\" \",\" \",\" \",\" \",\" \",\" \",\" \",\" \",\" \",\" \",\" \",\" \",\" \",\" \",\" \",\" \",\" \",\" \",\" \",\" \",\" \",\" \",\" \",\" \",\" \",\" \",\" \",\" \",\" \",\" \",\" \",\" \",\" \",\" \",\" \",\" \",\" \",\" \",\" \",\" \",\" \",\" \",\" \",\" \",\" \",\" \",\" \",\" \",\" \",\" \",\" \",\" \",\" \",\" \",\" \",\" \",\" \",\" \",\" \",\" \",\" \",\" \",\" \",\" \",\" \",\" \",\" \",\" \",\" \",\" \",\" \",\" \",\" \",\" \",\" \",\" \",\" \",\" \",\" \",\" \",\" \",\" \",\" \",\" \",\" \",\" \",\" \",\" \",\" \",\" \",\" \",\" \",\" \",\" \",\" \",\" \",\" \",\" \",\" \",\" \",\" \",\" \",\" \",\" \",\" \",\" \",\" \",\" \",\" \",\" \",\" \",\" \",\" \",\" \",\" \",\" \",\" \",\" \",\" \",\" \",\" \",\" \",\" \",\" \",\" \",\" \",\" \",\" \",\" \",\" \",\" \",\" \",\" \",\" \",\" \",\" \",\" \",\" \",\" \",\" \",\" \",\" \",\" \",\" \",\" \",\" \",\" \",\" \",\" \",\" \",\" \",\" \",\" \",\" \",\" \",\" \",\" \",\" \",\" \",\" \",\" \",\" \",\" \",\" \",\" \",\" \",\" \",\" \",\" \",\" \",\" \",\" \",\" \",\" \",\" \",\" \",\" \",\" \",\" \",\" \",\" \",\" \",\" \",\" \",\" \",\" \",\" \",\" \",\" \",\" \",\" \",\" \",\" \",\" \",\" \",\" \",\" \",\" \",\" \",\" \",\" \",\" \",\" \",\" \",\" \",\" \",\" \",\" \",\" \",\" \",\" \",\" \",\" \",\" \",\" \",\" \",\" \",\" \",\" \",\" \",\" \",\" \",\" \",\" \",\" \",\" \",\" \",\" \",\" \",\" \",\" \",\" \",\" \",\" \",\" \",\" \",\" \",\" \",\" \",\" \",\" \",\" \",\" \",\" \",\" \",\" \",\" \",\" \",\" \",\" \",\" \",\" \",\" \",\" \",\" \",\" \",\" \",\" \",\" \",\" \",\" \",\" \",\" \",\" \",\" \",\" \",\" \",\" \",\" \",\" \",\" \",\" \",\" \",\" \",\" \",\" \",\" \",\" \",\" \",\" \",\" \",\" \",\" \",\" \",\" \",\" \",\" \",\" \",\" \",\" \",\" \",\" \",\" \",\" \",\" \",\" \",\" \",\" \",\" \",\" \",\" \",\" \",\" \",\" \",\" \",\" \",\" \",\" \",\" \",\" \",\" \",\" \",\" \",\" \",\" \",\" \",\" \",\" \",\" \",\" \",\" \",\" \",\" \",\" \",\" \",\" \",\" \",\" \",\" \",\" \",\" \",\" \",\" \",\" \",\" \",\" \",\" \",\" \",\" \",\" \",\" \",\" \",\" \",\" \",\" \",\" \",\" \",\" \",\" \",\" \",\" \",\" \",\" \",\" \",\" \",\" \",\" \",\" \",\" \",\" \",\" \",\" \",\" \",\" \",\" \",\" \",\" \",\" \",\" \",\" \",\" \",\" \",\" \",\" \",\" \",\" \",\" \",\" \",\" \",\" \",\" \",\" \",\" \",\" \",\" \",\" \",\" \",\" \",\" \",\" \",\" \",\" \",\" \",\" \",\" \",\" \",\" \",\" \",\" \",\" \",\" \",\" \",\" \",\" \",\" \",\" \",\" \",\" \",\" \",\" \",\" \",\" \",\" \",\" \",\" \",\" \",\" \",\" \",\" \",\" \",\" \",\" \",\" \",\" \",\" \",\" \",\" \",\" \",\" \",\" \",\" \",\" \",\" \",\" \",\" \",\" \",\" \",\" \",\" \",\" \",\" \",\" \",\" \",\" \",\" \",\" \",\" \",\" \",\" \",\" \",\" \",\" \",\" \",\" \",\" \",\" \",\" \",\" \",\" \",\" \",\" \",\" \",\" \",\" \",\" \",\" \",\" \",\" \",\" \",\" \",\" \",\" \",\" \",\" \",\" \",\" \",\" \",\" \",\" \",\" \",\" \",\" \",\" \",\" \",\" \",\" \",\" \",\" \",\" \",\" \",\" \",\" \",\" \",\" \",\" \",\" \",\" \",\" \",\" \",\" \",\" \",\" \",\" \",\" \",\" \",\" \",\" \",\" \",\" \",\" \",\" \",\" \",\" \",\" \",\" \",\" \",\" \",\" \",\" \",\" \",\" \",\" \",\" \",\" \",\" \",\" \",\" \",\" \",\" \",\" \",\" \",\" \",\" \",\" \",\" \",\" \"],\"__label\":[\" \",\" \",\" \",\" \",\" \",\" \",\" \",\" \",\" \",\" \",\" \",\" \",\" \",\" \",\" \",\" \",\" \",\" \",\" \",\" \",\" \",\" \",\" \",\" \",\" \",\" \",\" \",\" \",\" \",\" \",\" \",\" \",\" \",\" \",\" \",\" \",\" \",\" \",\" \",\" \",\" \",\" \",\" \",\" \",\" \",\" \",\" \",\" \",\" \",\" \",\" \",\" \",\" \",\" \",\" \",\" \",\" \",\" \",\" \",\" \",\" \",\" \",\" \",\" \",\" \",\" \",\" \",\" \",\" \",\" \",\" \",\" \",\" \",\" \",\" \",\" \",\" \",\" \",\" \",\" \",\" \",\" \",\" \",\" \",\" \",\" \",\" \",\" \",\" \",\" \",\" \",\" \",\" \",\" \",\" \",\" \",\" \",\" \",\" \",\" \",\" \",\" \",\" \",\" \",\" \",\" \",\" \",\" \",\" \",\" \",\" \",\" \",\" \",\" \",\" \",\" \",\" \",\" \",\" \",\" \",\" \",\" \",\" \",\" \",\" \",\" \",\" \",\" \",\" \",\" \",\" \",\" \",\" \",\" \",\" \",\" \",\" \",\" \",\" \",\" \",\" \",\" \",\" \",\" \",\" \",\" \",\" \",\" \",\" \",\" \",\" \",\" \",\" \",\" \",\" \",\" \",\" \",\" \",\" \",\" \",\" \",\" \",\" \",\" \",\" \",\" \",\" \",\" \",\" \",\" \",\" \",\" \",\" \",\" \",\" \",\" \",\" \",\" \",\" \",\" \",\" \",\" \",\" \",\" \",\" \",\" \",\" \",\" \",\" \",\" \",\" \",\" \",\" \",\" \",\" \",\" \",\" \",\" \",\" \",\" \",\" \",\" \",\" \",\" \",\" \",\" \",\" \",\" \",\" \",\" \",\" \",\" \",\" \",\" \",\" \",\" \",\" \",\" \",\" \",\" \",\" \",\" \",\" \",\" \",\" \",\" \",\" \",\" \",\" \",\" \",\" \",\" \",\" \",\" \",\" \",\" \",\" \",\" \",\" \",\" \",\" \",\" \",\" \",\" \",\" \",\" \",\" \",\" \",\" \",\" \",\" \",\" \",\" \",\" \",\" \",\" \",\" \",\" \",\" \",\" \",\" \",\" \",\" \",\" \",\" \",\" \",\" \",\" \",\" \",\" \",\" \",\" \",\" \",\" \",\" \",\" \",\" \",\" \",\" \",\" \",\" \",\" \",\" \",\" \",\" \",\" \",\" \",\" \",\" \",\" \",\" \",\" \",\" \",\" \",\" \",\" \",\" \",\" \",\" \",\" \",\" \",\" \",\" \",\" \",\" \",\" \",\" \",\" \",\" \",\" \",\" \",\" \",\" \",\" \",\" \",\" \",\" \",\" \",\" \",\" \",\" \",\" \",\" \",\" \",\" \",\" \",\" \",\" \",\" \",\" \",\" \",\" \",\" \",\" \",\" \",\" \",\" \",\" \",\" \",\" \",\" \",\" \",\" \",\" \",\" \",\" \",\" \",\" \",\" \",\" \",\" \",\" \",\" \",\" \",\" \",\" \",\" \",\" \",\" \",\" \",\" \",\" \",\" \",\" \",\" \",\" \",\" \",\" \",\" \",\" \",\" \",\" \",\" \",\" \",\" \",\" \",\" \",\" \",\" \",\" \",\" \",\" \",\" \",\" \",\" \",\" \",\" \",\" \",\" \",\" \",\" \",\" \",\" \",\" \",\" \",\" \",\" \",\" \",\" \",\" \",\" \",\" \",\" \",\" \",\" \",\" \",\" \",\" \",\" \",\" \",\" \",\" \",\" \",\" \",\" \",\" \",\" \",\" \",\" \",\" \",\" \",\" \",\" \",\" \",\" \",\" \",\" \",\" \",\" \",\" \",\" \",\" \",\" \",\" \",\" \",\" \",\" \",\" \",\" \",\" \",\" \",\" \",\" \",\" \",\" \",\" \",\" \",\" \",\" \",\" \",\" \",\" \",\" \",\" \",\" \",\" \",\" \",\" \",\" \",\" \",\" \",\" \",\" \",\" \",\" \",\" \",\" \",\" \",\" \",\" \",\" \",\" \",\" \",\" \",\" \",\" \",\" \",\" \",\" \",\" \",\" \",\" \",\" \",\" \",\" \",\" \",\" \",\" \",\" \",\" \",\" \",\" \",\" \",\" \",\" \",\" \",\" \",\" \",\" \",\" \",\" \",\" \",\" \",\" \",\" \",\" \",\" \",\" \",\" \",\" \",\" \",\" \",\" \",\" \",\" \",\" \",\" \",\" \",\" \",\" \",\" \",\" \",\" \",\" \",\" \",\" \",\" \",\" \",\" \",\" \",\" \",\" \",\" \",\" \",\" \",\" \",\" \",\" \",\" \",\" \",\" \",\" \",\" \",\" \",\" \",\" \",\" \",\" \",\" \",\" \",\" \",\" \",\" \",\" \",\" \",\" \",\" \",\" \",\" \",\" \",\" \",\" \",\" \",\" \",\" \",\" \",\" \",\" \",\" \",\" \",\" \",\" \",\" \",\" \",\" \",\" \",\" \",\" \",\" \",\" \",\" \",\" \",\" \",\" \",\" \",\" \",\" \",\" \",\" \",\" \",\" \",\" \",\" \",\" \",\" \",\" \",\" \",\" \",\" \",\" \",\" \",\" \",\" \",\" \",\" \",\" \",\" \",\" \",\" \",\" \",\" \",\" \",\" \",\" \",\" \",\" \",\" \",\" \",\" \",\" \",\" \",\" \",\" \",\" \",\" \",\" \",\" \",\" \",\" \",\" \",\" \",\" \",\" \",\" \",\" \",\" \",\" \",\" \",\" \",\" \",\" \",\" \",\" \",\" \",\" \",\" \",\" \",\" \",\" \",\" \",\" \",\" \",\" \",\" \",\" \",\" \",\" \",\" \",\" \",\" \",\" \",\" \",\" \",\" \",\" \",\" \",\" \",\" \",\" \",\" \",\" \",\" \",\" \",\" \",\" \",\" \",\" \",\" \",\" \",\" \",\" \",\" \",\" \",\" \",\" \",\" \",\" \",\" \",\" \",\" \",\" \",\" \",\" \",\" \",\" \",\" \",\" \",\" \",\" \",\" \",\" \",\" \",\" \",\" \",\" \",\" \",\" \",\" \",\" \",\" \",\" \",\" \",\" \",\" \",\" \",\" \",\" \",\" \",\" \",\" \",\" \",\" \",\" \",\" \",\" \",\" \",\" \",\" \",\" \",\" \",\" \",\" \",\" \",\" \",\" \",\" \",\" \",\" \",\" \",\" \",\" \",\" \",\" \",\" \",\" \",\" \",\" \",\" \",\" \",\" \",\" \",\" \",\" \",\" \",\" \",\" \",\" \",\" \",\" \",\" \",\" \",\" \",\" \",\" \",\" \",\" \",\" \",\" \",\" \",\" \",\" \",\" \",\" \",\" \",\" \",\" \",\" \",\" \",\" \",\" \",\" \",\" \",\" \",\" \",\" \",\" \",\" \",\" \",\" \",\" \",\" \",\" \",\" \",\" \",\" \",\" \",\" \",\" \",\" \",\" \",\" \",\" \",\" \",\" \",\" \",\" \",\" \",\" \",\" \",\" \",\" \",\" \",\" \",\" \",\" \",\" \",\" \",\" \",\" \",\" \",\" \",\" \",\" \",\" \",\" \",\" \",\" \",\" \",\" \",\" \",\" \",\" \",\" \",\" \",\" \",\" \",\" \",\" \",\" \",\" \",\" \",\" \",\" \",\" \",\" \",\" \",\" \",\" \",\" \",\" \",\" \",\" \",\" \",\" \",\" \",\" \",\" \",\" \",\" \",\" \",\" \",\" \",\" \",\" \",\" \",\" \",\" \",\" \",\" \",\" \",\" \",\" \",\" \",\" \",\" \",\" \",\" \",\" \",\" \",\" \",\" \",\" \",\" \",\" \",\" \",\" \",\" \",\" \",\" \",\" \",\" \",\" \",\" \",\" \",\" \",\" \",\" \",\" \",\" \",\" \",\" \",\" \",\" \",\" \",\" \",\" \",\" \",\" \",\" \",\" \",\" \",\" \",\" \",\" \",\" \",\" \",\" \",\" \",\" \",\" \",\" \",\" \",\" \",\" \",\" \",\" \",\" \",\" \",\" \",\" \",\" \",\" \",\" \",\" \",\" \",\" \",\" \",\" \",\" \",\" \",\" \",\" \",\" \",\" \",\" \",\" \",\" \",\" \",\" \",\" \",\" \",\" \",\" \",\" \",\" \",\" \",\" \",\" \",\" \",\" \",\" \",\" \",\" \",\" \",\" \",\" \",\" \",\" \",\" \",\" \",\" \",\" \",\" \",\" \",\" \",\" \",\" \",\" \",\" \",\" \",\" \",\" \",\" \",\" \",\" \",\" \",\" \",\" \",\" \",\" \",\" \",\" \",\" \",\" \",\" \",\" \",\" \",\" \",\" \",\" \"],\"index\":[0,1,2,3,4,5,6,7,8,9,10,11,12,13,14,15,16,17,18,19,20,21,22,23,24,25,26,27,28,29,30,31,32,33,34,35,36,37,38,39,40,41,42,43,44,45,46,47,48,49,50,51,52,53,54,55,56,57,58,59,60,61,62,63,64,65,66,67,68,69,70,71,72,73,74,75,76,77,78,79,80,81,82,83,84,85,86,87,88,89,90,91,92,93,94,95,96,97,98,99,100,101,102,103,104,105,106,107,108,109,110,111,112,113,114,115,116,117,118,119,120,121,122,123,124,125,126,127,128,129,130,131,132,133,134,135,136,137,138,139,140,141,142,143,144,145,146,147,148,149,150,151,152,153,154,155,156,157,158,159,160,161,162,163,164,165,166,167,168,169,170,171,172,173,174,175,176,177,178,179,180,181,182,183,184,185,186,187,188,189,190,191,192,193,194,195,196,197,198,199,200,201,202,203,204,205,206,207,208,209,210,211,212,213,214,215,216,217,218,219,220,221,222,223,224,225,226,227,228,229,230,231,232,233,234,235,236,237,238,239,240,241,242,243,244,245,246,247,248,249,250,251,252,253,254,255,256,257,258,259,260,261,262,263,264,265,266,267,268,269,270,271,272,273,274,275,276,277,278,279,280,281,282,283,284,285,286,287,288,289,290,291,292,293,294,295,296,297,298,299,300,301,302,303,304,305,306,307,308,309,310,311,312,313,314,315,316,317,318,319,320,321,322,323,324,325,326,327,328,329,330,331,332,333,334,335,336,337,338,339,340,341,342,343,344,345,346,347,348,349,350,351,352,353,354,355,356,357,358,359,360,361,362,363,364,365,366,367,368,369,370,371,372,373,374,375,376,377,378,379,380,381,382,383,384,385,386,387,388,389,390,391,392,393,394,395,396,397,398,399,400,401,402,403,404,405,406,407,408,409,410,411,412,413,414,415,416,417,418,419,420,421,422,423,424,425,426,427,428,429,430,431,432,433,434,435,436,437,438,439,440,441,442,443,444,445,446,447,448,449,450,451,452,453,454,455,456,457,458,459,460,461,462,463,464,465,466,467,468,469,470,471,472,473,474,475,476,477,478,479,480,481,482,483,484,485,486,487,488,489,490,491,492,493,494,495,496,497,498,499,500,501,502,503,504,505,506,507,508,509,510,511,512,513,514,515,516,517,518,519,520,521,522,523,524,525,526,527,528,529,530,531,532,533,534,535,536,537,538,539,540,541,542,543,544,545,546,547,548,549,550,551,552,553,554,555,556,557,558,559,560,561,562,563,564,565,566,567,568,569,570,571,572,573,574,575,576,577,578,579,580,581,582,583,584,585,586,587,588,589,590,591,592,593,594,595,596,597,598,599,600,601,602,603,604,605,606,607,608,609,610,611,612,613,614,615,616,617,618,619,620,621,622,623,624,625,626,627,628,629,630,631,632,633,634,635,636,637,638,639,640,641,642,643,644,645,646,647,648,649,650,651,652,653,654,655,656,657,658,659,660,661,662,663,664,665,666,667,668,669,670,671,672,673,674,675,676,677,678,679,680,681,682,683,684,685,686,687,688,689,690,691,692,693,694,695,696,697,698,699,700,701,702,703,704,705,706,707,708,709,710,711,712,713,714,715,716,717,718,719,720,721,722,723,724,725,726,727,728,729,730,731,732,733,734,735,736,737,738,739,740,741,742,743,744,745,746,747,748,749,750,751,752,753,754,755,756,757,758,759,760,761,762,763,764,765,766,767,768,769,770,771,772,773,774,775,776,777,778,779,780,781,782,783,784,785,786,787,788,789,790,791,792,793,794,795,796,797,798,799,800,801,802,803,804,805,806,807,808,809,810,811,812,813,814,815,816,817,818,819,820,821,822,823,824,825,826,827,828,829,830,831,832,833,834,835,836,837,838,839,840,841,842,843,844,845,846,847,848,849,850,851,852,853,854,855,856,857,858,859,860,861,862,863,864,865,866,867,868,869,870,871,872,873,874,875,876,877,878,879,880,881,882,883,884,885,886,887,888,889,890,891,892,893,894,895,896,897,898,899,900,901,902,903,904,905,906,907,908,909,910,911,912,913,914,915,916,917,918,919,920,921,922,923,924,925,926,927,928,929,930,931,932,933,934,935,936,937,938,939,940,941,942,943,944,945,946,947,948,949,950,951,952,953,954,955,956,957,958,959,960,961,962,963,964,965,966,967,968,969,970,971,972,973,974,975,976,977,978,979,980,981,982,983,984,985,986,987,988,989,990,991,992,993,994,995,996,997,998,999],\"x\":{\"__ndarray__\":\"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\",\"dtype\":\"float64\",\"shape\":[1000]}},\"selected\":{\"id\":\"1359\",\"type\":\"Selection\"},\"selection_policy\":{\"id\":\"1360\",\"type\":\"UnionRenderers\"}},\"id\":\"1311\",\"type\":\"ColumnDataSource\"},{\"attributes\":{\"items\":[{\"id\":\"1325\",\"type\":\"LegendItem\"}],\"visible\":false},\"id\":\"1324\",\"type\":\"Legend\"},{\"attributes\":{\"label\":{\"value\":\" \"},\"renderers\":[{\"id\":\"1315\",\"type\":\"GlyphRenderer\"}]},\"id\":\"1325\",\"type\":\"LegendItem\"},{\"attributes\":{\"axis_label\":\"ECDF\",\"formatter\":{\"id\":\"1319\",\"type\":\"BasicTickFormatter\"},\"ticker\":{\"id\":\"1294\",\"type\":\"BasicTicker\"}},\"id\":\"1293\",\"type\":\"LinearAxis\"},{\"attributes\":{\"ticker\":{\"id\":\"1289\",\"type\":\"BasicTicker\"}},\"id\":\"1292\",\"type\":\"Grid\"},{\"attributes\":{\"fill_color\":{\"value\":null},\"line_color\":{\"value\":\"#4e79a7\"},\"x\":{\"field\":\"x\"},\"y\":{\"field\":\"__ECDF\"}},\"id\":\"1313\",\"type\":\"Circle\"},{\"attributes\":{},\"id\":\"1294\",\"type\":\"BasicTicker\"},{\"attributes\":{},\"id\":\"1289\",\"type\":\"BasicTicker\"},{\"attributes\":{\"line_color\":\"orange\",\"line_width\":2,\"x\":{\"field\":\"x\"},\"y\":{\"field\":\"y\"}},\"id\":\"1327\",\"type\":\"Line\"},{\"attributes\":{},\"id\":\"1286\",\"type\":\"LinearScale\"},{\"attributes\":{\"fill_alpha\":{\"value\":0.1},\"fill_color\":{\"value\":\"#1f77b4\"},\"line_alpha\":{\"value\":0.1},\"line_color\":{\"value\":\"#1f77b4\"},\"x\":{\"field\":\"x\"},\"y\":{\"field\":\"__ECDF\"}},\"id\":\"1314\",\"type\":\"Circle\"},{\"attributes\":{},\"id\":\"1302\",\"type\":\"ResetTool\"},{\"attributes\":{\"axis_label\":\"x\",\"formatter\":{\"id\":\"1321\",\"type\":\"BasicTickFormatter\"},\"ticker\":{\"id\":\"1289\",\"type\":\"BasicTicker\"}},\"id\":\"1288\",\"type\":\"LinearAxis\"},{\"attributes\":{\"dimension\":1,\"ticker\":{\"id\":\"1294\",\"type\":\"BasicTicker\"}},\"id\":\"1297\",\"type\":\"Grid\"},{\"attributes\":{},\"id\":\"1321\",\"type\":\"BasicTickFormatter\"},{\"attributes\":{\"text\":\"\"},\"id\":\"1317\",\"type\":\"Title\"},{\"attributes\":{},\"id\":\"1284\",\"type\":\"LinearScale\"},{\"attributes\":{},\"id\":\"1319\",\"type\":\"BasicTickFormatter\"},{\"attributes\":{\"overlay\":{\"id\":\"1323\",\"type\":\"BoxAnnotation\"}},\"id\":\"1300\",\"type\":\"BoxZoomTool\"},{\"attributes\":{\"line_alpha\":0.1,\"line_color\":\"#1f77b4\",\"line_width\":2,\"x\":{\"field\":\"x\"},\"y\":{\"field\":\"y\"}},\"id\":\"1328\",\"type\":\"Line\"},{\"attributes\":{},\"id\":\"1298\",\"type\":\"PanTool\"},{\"attributes\":{\"bottom_units\":\"screen\",\"fill_alpha\":{\"value\":0.5},\"fill_color\":{\"value\":\"lightgrey\"},\"left_units\":\"screen\",\"level\":\"overlay\",\"line_alpha\":{\"value\":1.0},\"line_color\":{\"value\":\"black\"},\"line_dash\":[4,4],\"line_width\":{\"value\":2},\"render_mode\":\"css\",\"right_units\":\"screen\",\"top_units\":\"screen\"},\"id\":\"1323\",\"type\":\"BoxAnnotation\"},{\"attributes\":{\"source\":{\"id\":\"1311\",\"type\":\"ColumnDataSource\"}},\"id\":\"1316\",\"type\":\"CDSView\"},{\"attributes\":{\"source\":{\"id\":\"1326\",\"type\":\"ColumnDataSource\"}},\"id\":\"1330\",\"type\":\"CDSView\"},{\"attributes\":{\"data_source\":{\"id\":\"1326\",\"type\":\"ColumnDataSource\"},\"glyph\":{\"id\":\"1327\",\"type\":\"Line\"},\"hover_glyph\":null,\"muted_glyph\":null,\"nonselection_glyph\":{\"id\":\"1328\",\"type\":\"Line\"},\"selection_glyph\":null,\"view\":{\"id\":\"1330\",\"type\":\"CDSView\"}},\"id\":\"1329\",\"type\":\"GlyphRenderer\"},{\"attributes\":{},\"id\":\"1359\",\"type\":\"Selection\"},{\"attributes\":{\"callback\":null},\"id\":\"1282\",\"type\":\"DataRange1d\"},{\"attributes\":{},\"id\":\"1301\",\"type\":\"SaveTool\"},{\"attributes\":{},\"id\":\"1299\",\"type\":\"WheelZoomTool\"}],\"root_ids\":[\"1279\"]},\"title\":\"Bokeh Application\",\"version\":\"1.2.0\"}};\n",
       "  var render_items = [{\"docid\":\"a147af2e-3e3e-490a-ae5b-694cd28a14a0\",\"roots\":{\"1279\":\"195aa366-ae75-4bb8-8f27-553732e6cb0d\"}}];\n",
       "  root.Bokeh.embed.embed_items_notebook(docs_json, render_items);\n",
       "\n",
       "  }\n",
       "  if (root.Bokeh !== undefined) {\n",
       "    embed_document(root);\n",
       "  } else {\n",
       "    var attempts = 0;\n",
       "    var timer = setInterval(function(root) {\n",
       "      if (root.Bokeh !== undefined) {\n",
       "        embed_document(root);\n",
       "        clearInterval(timer);\n",
       "      }\n",
       "      attempts++;\n",
       "      if (attempts > 100) {\n",
       "        console.log(\"Bokeh: ERROR: Unable to run BokehJS code because BokehJS library is missing\");\n",
       "        clearInterval(timer);\n",
       "      }\n",
       "    }, 10, root)\n",
       "  }\n",
       "})(window);"
      ],
      "application/vnd.bokehjs_exec.v0+json": ""
     },
     "metadata": {
      "application/vnd.bokehjs_exec.v0+json": {
       "id": "1279"
      }
     },
     "output_type": "display_data"
    }
   ],
   "source": [
    "# Compute theoretical CDF\n",
    "x_theor = np.linspace(6, 14, 400)\n",
    "y_theor = scipy.stats.norm.cdf(x_theor, mu, sigma)\n",
    "\n",
    "# Plot the ECDF of randomly generated numbers\n",
    "p = bokeh_catplot.ecdf(\n",
    "    data=pd.DataFrame({'x': x[:1000]}),\n",
    "    cats=None,\n",
    "    val='x',\n",
    "    marker_kwargs=dict(fill_color=None),\n",
    ")\n",
    "\n",
    "p.line(\n",
    "    x=x_theor,\n",
    "    y=y_theor,\n",
    "    line_width=2,\n",
    "    line_color='orange',\n",
    ")\n",
    "\n",
    "bokeh.io.show(p)"
   ]
  },
  {
   "cell_type": "markdown",
   "metadata": {},
   "source": [
    "Yup, right on!"
   ]
  },
  {
   "cell_type": "markdown",
   "metadata": {},
   "source": [
    "## Selections from discrete distributions\n",
    "\n",
    "The random numbers we have generated so far from from continuous probability distributions.  We can also draw random numbers from discrete distributions.  We already showed how we can do this for \"coin flips,\" but we can do it for other distributions as well. Say we wanted to draw from a Binomial distribution. We can use `np.random.binomial()`."
   ]
  },
  {
   "cell_type": "code",
   "execution_count": 10,
   "metadata": {},
   "outputs": [
    {
     "data": {
      "text/plain": [
       "7"
      ]
     },
     "execution_count": 10,
     "metadata": {},
     "output_type": "execute_result"
    }
   ],
   "source": [
    "# Draw how many coin flips land heads in 10 files\n",
    "np.random.binomial(10, 0.5)"
   ]
  },
  {
   "cell_type": "markdown",
   "metadata": {},
   "source": [
    "There are other discrete distributions we can draw from, such as Binomial, Geometric, Poisson, etc., and [the documentation](http://docs.scipy.org/doc/numpy/reference/routines.random.html) describes how to use them."
   ]
  },
  {
   "cell_type": "markdown",
   "metadata": {},
   "source": [
    "## Choosing elements from an array\n",
    "\n",
    "It is often useful to randomly choose elements from an existing array.  The `np.random.choice()` function does this.  You equivalently could do this using `np.random.randint()`, where the integers represent indices in the array, *except* `np.random.choice()` has a great keyword argument, `replace`, which allows random draws with or without replacement. For example, say you had 100 samples that you wanted to send to a facility for analysis, but you can only afford to send 20. If we used `np.random.randint()`, we might have a problem."
   ]
  },
  {
   "cell_type": "code",
   "execution_count": 11,
   "metadata": {},
   "outputs": [
    {
     "data": {
      "text/plain": [
       "array([38, 28, 14, 42,  7, 20, 38, 18, 22, 10, 10, 23, 35, 39, 23,  2, 21,\n",
       "        1, 23, 43])"
      ]
     },
     "execution_count": 11,
     "metadata": {},
     "output_type": "execute_result"
    }
   ],
   "source": [
    "np.random.seed(42)\n",
    "np.random.randint(0, 51, size=20)"
   ]
  },
  {
   "cell_type": "markdown",
   "metadata": {},
   "source": [
    "Sample 10 was selected twice and sample 23 was selected thrice!  We can use `np.random.choice()` instead."
   ]
  },
  {
   "cell_type": "code",
   "execution_count": 12,
   "metadata": {},
   "outputs": [
    {
     "data": {
      "text/plain": [
       "array([50, 22, 30, 16,  4, 10,  9, 41,  5, 12, 39, 18, 23, 31,  0, 28, 49,\n",
       "       44,  7, 45])"
      ]
     },
     "execution_count": 12,
     "metadata": {},
     "output_type": "execute_result"
    }
   ],
   "source": [
    "np.random.choice(np.arange(51), size=20, replace=False)"
   ]
  },
  {
   "cell_type": "markdown",
   "metadata": {},
   "source": [
    "Now, because we chose `replace=False`, we do not get any repeats."
   ]
  },
  {
   "cell_type": "markdown",
   "metadata": {},
   "source": [
    "### Generating random sequences\n",
    "\n",
    "Because it works with selecting characters as well as numbers, we can use the `np.random.choice()` function to generate random DNA sequences."
   ]
  },
  {
   "cell_type": "code",
   "execution_count": 13,
   "metadata": {},
   "outputs": [
    {
     "data": {
      "text/plain": [
       "'CTTTCTGCGCTGCATCACATGACTACCCAAAGAAAGACACCCGGGACGGAGATGTACGACCTACGGTCAG'"
      ]
     },
     "execution_count": 13,
     "metadata": {},
     "output_type": "execute_result"
    }
   ],
   "source": [
    "''.join(np.random.choice(list('ATGC'), replace=True, size=70))"
   ]
  },
  {
   "cell_type": "markdown",
   "metadata": {},
   "source": [
    "## Shuffling an array\n",
    "\n",
    "Similarly, the `np.random.permutation()` function is useful. It takes the entries in an array and shuffles them! Let's shuffle a deck of cards."
   ]
  },
  {
   "cell_type": "code",
   "execution_count": 14,
   "metadata": {},
   "outputs": [
    {
     "data": {
      "text/plain": [
       "array([28, 52,  7, 11, 50, 20, 42, 15, 17, 27,  5, 33, 45, 51, 31,  9,  1,\n",
       "       23, 24, 37, 10, 46, 32, 29, 22, 41,  3, 19, 16,  6, 30, 18, 12, 40,\n",
       "       35, 14,  8, 49, 38, 44, 25,  4, 47,  2, 13, 36, 48,  0, 34, 26, 21,\n",
       "       39, 43])"
      ]
     },
     "execution_count": 14,
     "metadata": {},
     "output_type": "execute_result"
    }
   ],
   "source": [
    "np.random.permutation(np.arange(53))"
   ]
  },
  {
   "cell_type": "markdown",
   "metadata": {},
   "source": [
    "## When do we need RNG?\n",
    "\n",
    "Answer: VERY OFTEN!  We will see many examples in the next lessons and in the exercises.  \n",
    "\n",
    "In many ways, probability is the language of biology. = Molecular processes have energetics that are comparable to the thermal energy, which means they are always influenced by random thermal forces. The processes of the central dogma, including DNA replication, are no exceptions. This gives rise to random mutations, which are central to understanding how evolution works. If we want to understand them, it is often useful to use random number generators to model the processes.\n",
    "\n",
    "RNG also comes up A LOT in data analysis, which we will see in the [lesson on hacker stats](l30_hackerstats.html)."
   ]
  },
  {
   "cell_type": "markdown",
   "metadata": {},
   "source": [
    "## Computing environment"
   ]
  },
  {
   "cell_type": "code",
   "execution_count": 15,
   "metadata": {},
   "outputs": [
    {
     "name": "stdout",
     "output_type": "stream",
     "text": [
      "CPython 3.7.3\n",
      "IPython 7.1.1\n",
      "\n",
      "numpy 1.16.4\n",
      "scipy 1.2.1\n",
      "pandas 0.24.2\n",
      "bokeh 1.2.0\n",
      "bokeh_catplot 0.1.1\n",
      "jupyterlab 0.35.5\n"
     ]
    }
   ],
   "source": [
    "%load_ext watermark\n",
    "%watermark -v -p numpy,scipy,pandas,bokeh,bokeh_catplot,jupyterlab"
   ]
  }
 ],
 "metadata": {
  "anaconda-cloud": {},
  "kernelspec": {
   "display_name": "Python 3",
   "language": "python",
   "name": "python3"
  },
  "language_info": {
   "codemirror_mode": {
    "name": "ipython",
    "version": 3
   },
   "file_extension": ".py",
   "mimetype": "text/x-python",
   "name": "python",
   "nbconvert_exporter": "python",
   "pygments_lexer": "ipython3",
   "version": "3.7.3"
  }
 },
 "nbformat": 4,
 "nbformat_minor": 2
}
