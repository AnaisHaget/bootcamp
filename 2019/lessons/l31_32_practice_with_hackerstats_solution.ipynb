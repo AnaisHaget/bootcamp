{
 "cells": [
  {
   "cell_type": "markdown",
   "metadata": {},
   "source": [
    "# Lessons 31 and 32: Practice with hacker stats *solution*\n",
    "\n",
    "(c) 2019 Justin Bois. With the exception of pasted graphics, where the source is noted, this work is licensed under a [Creative Commons Attribution License CC-BY 4.0](https://creativecommons.org/licenses/by/4.0/). All code contained herein is licensed under an [MIT license](https://opensource.org/licenses/MIT).\n",
    "\n",
    "This document was prepared at [Caltech](http://www.caltech.edu) with financial support from the [Donna and Benjamin M. Rosen Bioengineering Center](http://rosen.caltech.edu).\n",
    "\n",
    "<img src=\"caltech_rosen.png\">\n",
    "\n",
    "*This tutorial was generated from a Jupyter notebook.  You can download the notebook [here](l31_32_practice_with_hackerstats_solution.ipynb).*\n",
    "\n",
    "<hr />"
   ]
  },
  {
   "cell_type": "code",
   "execution_count": 1,
   "metadata": {
    "collapsed": true
   },
   "outputs": [
    {
     "data": {
      "text/html": [
       "\n",
       "    <div class=\"bk-root\">\n",
       "        <a href=\"https://bokeh.pydata.org\" target=\"_blank\" class=\"bk-logo bk-logo-small bk-logo-notebook\"></a>\n",
       "        <span id=\"1001\">Loading BokehJS ...</span>\n",
       "    </div>"
      ]
     },
     "metadata": {},
     "output_type": "display_data"
    },
    {
     "data": {
      "application/javascript": [
       "\n",
       "(function(root) {\n",
       "  function now() {\n",
       "    return new Date();\n",
       "  }\n",
       "\n",
       "  var force = true;\n",
       "\n",
       "  if (typeof root._bokeh_onload_callbacks === \"undefined\" || force === true) {\n",
       "    root._bokeh_onload_callbacks = [];\n",
       "    root._bokeh_is_loading = undefined;\n",
       "  }\n",
       "\n",
       "  var JS_MIME_TYPE = 'application/javascript';\n",
       "  var HTML_MIME_TYPE = 'text/html';\n",
       "  var EXEC_MIME_TYPE = 'application/vnd.bokehjs_exec.v0+json';\n",
       "  var CLASS_NAME = 'output_bokeh rendered_html';\n",
       "\n",
       "  /**\n",
       "   * Render data to the DOM node\n",
       "   */\n",
       "  function render(props, node) {\n",
       "    var script = document.createElement(\"script\");\n",
       "    node.appendChild(script);\n",
       "  }\n",
       "\n",
       "  /**\n",
       "   * Handle when an output is cleared or removed\n",
       "   */\n",
       "  function handleClearOutput(event, handle) {\n",
       "    var cell = handle.cell;\n",
       "\n",
       "    var id = cell.output_area._bokeh_element_id;\n",
       "    var server_id = cell.output_area._bokeh_server_id;\n",
       "    // Clean up Bokeh references\n",
       "    if (id != null && id in Bokeh.index) {\n",
       "      Bokeh.index[id].model.document.clear();\n",
       "      delete Bokeh.index[id];\n",
       "    }\n",
       "\n",
       "    if (server_id !== undefined) {\n",
       "      // Clean up Bokeh references\n",
       "      var cmd = \"from bokeh.io.state import curstate; print(curstate().uuid_to_server['\" + server_id + \"'].get_sessions()[0].document.roots[0]._id)\";\n",
       "      cell.notebook.kernel.execute(cmd, {\n",
       "        iopub: {\n",
       "          output: function(msg) {\n",
       "            var id = msg.content.text.trim();\n",
       "            if (id in Bokeh.index) {\n",
       "              Bokeh.index[id].model.document.clear();\n",
       "              delete Bokeh.index[id];\n",
       "            }\n",
       "          }\n",
       "        }\n",
       "      });\n",
       "      // Destroy server and session\n",
       "      var cmd = \"import bokeh.io.notebook as ion; ion.destroy_server('\" + server_id + \"')\";\n",
       "      cell.notebook.kernel.execute(cmd);\n",
       "    }\n",
       "  }\n",
       "\n",
       "  /**\n",
       "   * Handle when a new output is added\n",
       "   */\n",
       "  function handleAddOutput(event, handle) {\n",
       "    var output_area = handle.output_area;\n",
       "    var output = handle.output;\n",
       "\n",
       "    // limit handleAddOutput to display_data with EXEC_MIME_TYPE content only\n",
       "    if ((output.output_type != \"display_data\") || (!output.data.hasOwnProperty(EXEC_MIME_TYPE))) {\n",
       "      return\n",
       "    }\n",
       "\n",
       "    var toinsert = output_area.element.find(\".\" + CLASS_NAME.split(' ')[0]);\n",
       "\n",
       "    if (output.metadata[EXEC_MIME_TYPE][\"id\"] !== undefined) {\n",
       "      toinsert[toinsert.length - 1].firstChild.textContent = output.data[JS_MIME_TYPE];\n",
       "      // store reference to embed id on output_area\n",
       "      output_area._bokeh_element_id = output.metadata[EXEC_MIME_TYPE][\"id\"];\n",
       "    }\n",
       "    if (output.metadata[EXEC_MIME_TYPE][\"server_id\"] !== undefined) {\n",
       "      var bk_div = document.createElement(\"div\");\n",
       "      bk_div.innerHTML = output.data[HTML_MIME_TYPE];\n",
       "      var script_attrs = bk_div.children[0].attributes;\n",
       "      for (var i = 0; i < script_attrs.length; i++) {\n",
       "        toinsert[toinsert.length - 1].firstChild.setAttribute(script_attrs[i].name, script_attrs[i].value);\n",
       "      }\n",
       "      // store reference to server id on output_area\n",
       "      output_area._bokeh_server_id = output.metadata[EXEC_MIME_TYPE][\"server_id\"];\n",
       "    }\n",
       "  }\n",
       "\n",
       "  function register_renderer(events, OutputArea) {\n",
       "\n",
       "    function append_mime(data, metadata, element) {\n",
       "      // create a DOM node to render to\n",
       "      var toinsert = this.create_output_subarea(\n",
       "        metadata,\n",
       "        CLASS_NAME,\n",
       "        EXEC_MIME_TYPE\n",
       "      );\n",
       "      this.keyboard_manager.register_events(toinsert);\n",
       "      // Render to node\n",
       "      var props = {data: data, metadata: metadata[EXEC_MIME_TYPE]};\n",
       "      render(props, toinsert[toinsert.length - 1]);\n",
       "      element.append(toinsert);\n",
       "      return toinsert\n",
       "    }\n",
       "\n",
       "    /* Handle when an output is cleared or removed */\n",
       "    events.on('clear_output.CodeCell', handleClearOutput);\n",
       "    events.on('delete.Cell', handleClearOutput);\n",
       "\n",
       "    /* Handle when a new output is added */\n",
       "    events.on('output_added.OutputArea', handleAddOutput);\n",
       "\n",
       "    /**\n",
       "     * Register the mime type and append_mime function with output_area\n",
       "     */\n",
       "    OutputArea.prototype.register_mime_type(EXEC_MIME_TYPE, append_mime, {\n",
       "      /* Is output safe? */\n",
       "      safe: true,\n",
       "      /* Index of renderer in `output_area.display_order` */\n",
       "      index: 0\n",
       "    });\n",
       "  }\n",
       "\n",
       "  // register the mime type if in Jupyter Notebook environment and previously unregistered\n",
       "  if (root.Jupyter !== undefined) {\n",
       "    var events = require('base/js/events');\n",
       "    var OutputArea = require('notebook/js/outputarea').OutputArea;\n",
       "\n",
       "    if (OutputArea.prototype.mime_types().indexOf(EXEC_MIME_TYPE) == -1) {\n",
       "      register_renderer(events, OutputArea);\n",
       "    }\n",
       "  }\n",
       "\n",
       "  \n",
       "  if (typeof (root._bokeh_timeout) === \"undefined\" || force === true) {\n",
       "    root._bokeh_timeout = Date.now() + 5000;\n",
       "    root._bokeh_failed_load = false;\n",
       "  }\n",
       "\n",
       "  var NB_LOAD_WARNING = {'data': {'text/html':\n",
       "     \"<div style='background-color: #fdd'>\\n\"+\n",
       "     \"<p>\\n\"+\n",
       "     \"BokehJS does not appear to have successfully loaded. If loading BokehJS from CDN, this \\n\"+\n",
       "     \"may be due to a slow or bad network connection. Possible fixes:\\n\"+\n",
       "     \"</p>\\n\"+\n",
       "     \"<ul>\\n\"+\n",
       "     \"<li>re-rerun `output_notebook()` to attempt to load from CDN again, or</li>\\n\"+\n",
       "     \"<li>use INLINE resources instead, as so:</li>\\n\"+\n",
       "     \"</ul>\\n\"+\n",
       "     \"<code>\\n\"+\n",
       "     \"from bokeh.resources import INLINE\\n\"+\n",
       "     \"output_notebook(resources=INLINE)\\n\"+\n",
       "     \"</code>\\n\"+\n",
       "     \"</div>\"}};\n",
       "\n",
       "  function display_loaded() {\n",
       "    var el = document.getElementById(\"1001\");\n",
       "    if (el != null) {\n",
       "      el.textContent = \"BokehJS is loading...\";\n",
       "    }\n",
       "    if (root.Bokeh !== undefined) {\n",
       "      if (el != null) {\n",
       "        el.textContent = \"BokehJS \" + root.Bokeh.version + \" successfully loaded.\";\n",
       "      }\n",
       "    } else if (Date.now() < root._bokeh_timeout) {\n",
       "      setTimeout(display_loaded, 100)\n",
       "    }\n",
       "  }\n",
       "\n",
       "\n",
       "  function run_callbacks() {\n",
       "    try {\n",
       "      root._bokeh_onload_callbacks.forEach(function(callback) {\n",
       "        if (callback != null)\n",
       "          callback();\n",
       "      });\n",
       "    } finally {\n",
       "      delete root._bokeh_onload_callbacks\n",
       "    }\n",
       "    console.debug(\"Bokeh: all callbacks have finished\");\n",
       "  }\n",
       "\n",
       "  function load_libs(css_urls, js_urls, callback) {\n",
       "    if (css_urls == null) css_urls = [];\n",
       "    if (js_urls == null) js_urls = [];\n",
       "\n",
       "    root._bokeh_onload_callbacks.push(callback);\n",
       "    if (root._bokeh_is_loading > 0) {\n",
       "      console.debug(\"Bokeh: BokehJS is being loaded, scheduling callback at\", now());\n",
       "      return null;\n",
       "    }\n",
       "    if (js_urls == null || js_urls.length === 0) {\n",
       "      run_callbacks();\n",
       "      return null;\n",
       "    }\n",
       "    console.debug(\"Bokeh: BokehJS not loaded, scheduling load and callback at\", now());\n",
       "    root._bokeh_is_loading = css_urls.length + js_urls.length;\n",
       "\n",
       "    function on_load() {\n",
       "      root._bokeh_is_loading--;\n",
       "      if (root._bokeh_is_loading === 0) {\n",
       "        console.debug(\"Bokeh: all BokehJS libraries/stylesheets loaded\");\n",
       "        run_callbacks()\n",
       "      }\n",
       "    }\n",
       "\n",
       "    function on_error() {\n",
       "      console.error(\"failed to load \" + url);\n",
       "    }\n",
       "\n",
       "    for (var i = 0; i < css_urls.length; i++) {\n",
       "      var url = css_urls[i];\n",
       "      const element = document.createElement(\"link\");\n",
       "      element.onload = on_load;\n",
       "      element.onerror = on_error;\n",
       "      element.rel = \"stylesheet\";\n",
       "      element.type = \"text/css\";\n",
       "      element.href = url;\n",
       "      console.debug(\"Bokeh: injecting link tag for BokehJS stylesheet: \", url);\n",
       "      document.body.appendChild(element);\n",
       "    }\n",
       "\n",
       "    for (var i = 0; i < js_urls.length; i++) {\n",
       "      var url = js_urls[i];\n",
       "      var element = document.createElement('script');\n",
       "      element.onload = on_load;\n",
       "      element.onerror = on_error;\n",
       "      element.async = false;\n",
       "      element.src = url;\n",
       "      console.debug(\"Bokeh: injecting script tag for BokehJS library: \", url);\n",
       "      document.head.appendChild(element);\n",
       "    }\n",
       "  };var element = document.getElementById(\"1001\");\n",
       "  if (element == null) {\n",
       "    console.error(\"Bokeh: ERROR: autoload.js configured with elementid '1001' but no matching script tag was found. \")\n",
       "    return false;\n",
       "  }\n",
       "\n",
       "  function inject_raw_css(css) {\n",
       "    const element = document.createElement(\"style\");\n",
       "    element.appendChild(document.createTextNode(css));\n",
       "    document.body.appendChild(element);\n",
       "  }\n",
       "\n",
       "  var js_urls = [\"https://cdn.pydata.org/bokeh/release/bokeh-1.2.0.min.js\", \"https://cdn.pydata.org/bokeh/release/bokeh-widgets-1.2.0.min.js\", \"https://cdn.pydata.org/bokeh/release/bokeh-tables-1.2.0.min.js\", \"https://cdn.pydata.org/bokeh/release/bokeh-gl-1.2.0.min.js\"];\n",
       "  var css_urls = [\"https://cdn.pydata.org/bokeh/release/bokeh-1.2.0.min.css\", \"https://cdn.pydata.org/bokeh/release/bokeh-widgets-1.2.0.min.css\", \"https://cdn.pydata.org/bokeh/release/bokeh-tables-1.2.0.min.css\"];\n",
       "\n",
       "  var inline_js = [\n",
       "    function(Bokeh) {\n",
       "      Bokeh.set_log_level(\"info\");\n",
       "    },\n",
       "    \n",
       "    function(Bokeh) {\n",
       "      \n",
       "    },\n",
       "    function(Bokeh) {} // ensure no trailing comma for IE\n",
       "  ];\n",
       "\n",
       "  function run_inline_js() {\n",
       "    \n",
       "    if ((root.Bokeh !== undefined) || (force === true)) {\n",
       "      for (var i = 0; i < inline_js.length; i++) {\n",
       "        inline_js[i].call(root, root.Bokeh);\n",
       "      }if (force === true) {\n",
       "        display_loaded();\n",
       "      }} else if (Date.now() < root._bokeh_timeout) {\n",
       "      setTimeout(run_inline_js, 100);\n",
       "    } else if (!root._bokeh_failed_load) {\n",
       "      console.log(\"Bokeh: BokehJS failed to load within specified timeout.\");\n",
       "      root._bokeh_failed_load = true;\n",
       "    } else if (force !== true) {\n",
       "      var cell = $(document.getElementById(\"1001\")).parents('.cell').data().cell;\n",
       "      cell.output_area.append_execute_result(NB_LOAD_WARNING)\n",
       "    }\n",
       "\n",
       "  }\n",
       "\n",
       "  if (root._bokeh_is_loading === 0) {\n",
       "    console.debug(\"Bokeh: BokehJS loaded, going straight to plotting\");\n",
       "    run_inline_js();\n",
       "  } else {\n",
       "    load_libs(css_urls, js_urls, function() {\n",
       "      console.debug(\"Bokeh: BokehJS plotting callback run at\", now());\n",
       "      run_inline_js();\n",
       "    });\n",
       "  }\n",
       "}(window));"
      ],
      "application/vnd.bokehjs_load.v0+json": "\n(function(root) {\n  function now() {\n    return new Date();\n  }\n\n  var force = true;\n\n  if (typeof root._bokeh_onload_callbacks === \"undefined\" || force === true) {\n    root._bokeh_onload_callbacks = [];\n    root._bokeh_is_loading = undefined;\n  }\n\n  \n\n  \n  if (typeof (root._bokeh_timeout) === \"undefined\" || force === true) {\n    root._bokeh_timeout = Date.now() + 5000;\n    root._bokeh_failed_load = false;\n  }\n\n  var NB_LOAD_WARNING = {'data': {'text/html':\n     \"<div style='background-color: #fdd'>\\n\"+\n     \"<p>\\n\"+\n     \"BokehJS does not appear to have successfully loaded. If loading BokehJS from CDN, this \\n\"+\n     \"may be due to a slow or bad network connection. Possible fixes:\\n\"+\n     \"</p>\\n\"+\n     \"<ul>\\n\"+\n     \"<li>re-rerun `output_notebook()` to attempt to load from CDN again, or</li>\\n\"+\n     \"<li>use INLINE resources instead, as so:</li>\\n\"+\n     \"</ul>\\n\"+\n     \"<code>\\n\"+\n     \"from bokeh.resources import INLINE\\n\"+\n     \"output_notebook(resources=INLINE)\\n\"+\n     \"</code>\\n\"+\n     \"</div>\"}};\n\n  function display_loaded() {\n    var el = document.getElementById(\"1001\");\n    if (el != null) {\n      el.textContent = \"BokehJS is loading...\";\n    }\n    if (root.Bokeh !== undefined) {\n      if (el != null) {\n        el.textContent = \"BokehJS \" + root.Bokeh.version + \" successfully loaded.\";\n      }\n    } else if (Date.now() < root._bokeh_timeout) {\n      setTimeout(display_loaded, 100)\n    }\n  }\n\n\n  function run_callbacks() {\n    try {\n      root._bokeh_onload_callbacks.forEach(function(callback) {\n        if (callback != null)\n          callback();\n      });\n    } finally {\n      delete root._bokeh_onload_callbacks\n    }\n    console.debug(\"Bokeh: all callbacks have finished\");\n  }\n\n  function load_libs(css_urls, js_urls, callback) {\n    if (css_urls == null) css_urls = [];\n    if (js_urls == null) js_urls = [];\n\n    root._bokeh_onload_callbacks.push(callback);\n    if (root._bokeh_is_loading > 0) {\n      console.debug(\"Bokeh: BokehJS is being loaded, scheduling callback at\", now());\n      return null;\n    }\n    if (js_urls == null || js_urls.length === 0) {\n      run_callbacks();\n      return null;\n    }\n    console.debug(\"Bokeh: BokehJS not loaded, scheduling load and callback at\", now());\n    root._bokeh_is_loading = css_urls.length + js_urls.length;\n\n    function on_load() {\n      root._bokeh_is_loading--;\n      if (root._bokeh_is_loading === 0) {\n        console.debug(\"Bokeh: all BokehJS libraries/stylesheets loaded\");\n        run_callbacks()\n      }\n    }\n\n    function on_error() {\n      console.error(\"failed to load \" + url);\n    }\n\n    for (var i = 0; i < css_urls.length; i++) {\n      var url = css_urls[i];\n      const element = document.createElement(\"link\");\n      element.onload = on_load;\n      element.onerror = on_error;\n      element.rel = \"stylesheet\";\n      element.type = \"text/css\";\n      element.href = url;\n      console.debug(\"Bokeh: injecting link tag for BokehJS stylesheet: \", url);\n      document.body.appendChild(element);\n    }\n\n    for (var i = 0; i < js_urls.length; i++) {\n      var url = js_urls[i];\n      var element = document.createElement('script');\n      element.onload = on_load;\n      element.onerror = on_error;\n      element.async = false;\n      element.src = url;\n      console.debug(\"Bokeh: injecting script tag for BokehJS library: \", url);\n      document.head.appendChild(element);\n    }\n  };var element = document.getElementById(\"1001\");\n  if (element == null) {\n    console.error(\"Bokeh: ERROR: autoload.js configured with elementid '1001' but no matching script tag was found. \")\n    return false;\n  }\n\n  function inject_raw_css(css) {\n    const element = document.createElement(\"style\");\n    element.appendChild(document.createTextNode(css));\n    document.body.appendChild(element);\n  }\n\n  var js_urls = [\"https://cdn.pydata.org/bokeh/release/bokeh-1.2.0.min.js\", \"https://cdn.pydata.org/bokeh/release/bokeh-widgets-1.2.0.min.js\", \"https://cdn.pydata.org/bokeh/release/bokeh-tables-1.2.0.min.js\", \"https://cdn.pydata.org/bokeh/release/bokeh-gl-1.2.0.min.js\"];\n  var css_urls = [\"https://cdn.pydata.org/bokeh/release/bokeh-1.2.0.min.css\", \"https://cdn.pydata.org/bokeh/release/bokeh-widgets-1.2.0.min.css\", \"https://cdn.pydata.org/bokeh/release/bokeh-tables-1.2.0.min.css\"];\n\n  var inline_js = [\n    function(Bokeh) {\n      Bokeh.set_log_level(\"info\");\n    },\n    \n    function(Bokeh) {\n      \n    },\n    function(Bokeh) {} // ensure no trailing comma for IE\n  ];\n\n  function run_inline_js() {\n    \n    if ((root.Bokeh !== undefined) || (force === true)) {\n      for (var i = 0; i < inline_js.length; i++) {\n        inline_js[i].call(root, root.Bokeh);\n      }if (force === true) {\n        display_loaded();\n      }} else if (Date.now() < root._bokeh_timeout) {\n      setTimeout(run_inline_js, 100);\n    } else if (!root._bokeh_failed_load) {\n      console.log(\"Bokeh: BokehJS failed to load within specified timeout.\");\n      root._bokeh_failed_load = true;\n    } else if (force !== true) {\n      var cell = $(document.getElementById(\"1001\")).parents('.cell').data().cell;\n      cell.output_area.append_execute_result(NB_LOAD_WARNING)\n    }\n\n  }\n\n  if (root._bokeh_is_loading === 0) {\n    console.debug(\"Bokeh: BokehJS loaded, going straight to plotting\");\n    run_inline_js();\n  } else {\n    load_libs(css_urls, js_urls, function() {\n      console.debug(\"Bokeh: BokehJS plotting callback run at\", now());\n      run_inline_js();\n    });\n  }\n}(window));"
     },
     "metadata": {},
     "output_type": "display_data"
    }
   ],
   "source": [
    "import numpy as np\n",
    "import pandas as pd\n",
    "\n",
    "import bokeh_catplot\n",
    "\n",
    "import bokeh.io\n",
    "import bokeh.plotting\n",
    "\n",
    "bokeh.io.output_notebook()"
   ]
  },
  {
   "cell_type": "markdown",
   "metadata": {},
   "source": [
    "<hr/>\n",
    "\n",
    "## Practice 1: Writing a function to draw bootstrap replicates\n",
    "\n",
    "As you can imagine, it is quite useful to be able to generate, or \"draw,\" bootstrap replicates. Now, you will write a function, `draw_bs_reps()` to do this automatically. You will want to include this in a module so you can use it over and over again. (I will not be providing it in the `bootcamp_utils` module; I want you to write this yourself.)\n",
    "\n",
    ">1. Define a function with call signature `draw_bs_reps(data, func=np.mean, size=1)`, where `func` is a function that takes in an array and returns a statistic. Examples that could be passed in as `func` are `np.mean`, `np.std`, `np.median`, or a user-defined function. `size` is the number of replicates to generate.\n",
    "2. Write a good doc string.\n",
    "3. Define `n` to be the length of the input `data` array.\n",
    "4. Use a list comprehension to compute a list of bootstrap replicates.\n",
    "5. Return the replicates as a Numpy array.\n",
    "\n",
    "Now that you have the function, feel free to play around with it and compute bootstrap replicates with the finch beak or other data you want to play with. This is a function you may use over and over again in your research, so you might want to keep it in a module you will use going forward. *Or, you can install the [`dc_stat_think` module](https://github.com/justinbois/dc_stat_think) that I wrote using `pip`, which has this and many other useful functions for bootstrapping.*"
   ]
  },
  {
   "cell_type": "markdown",
   "metadata": {},
   "source": [
    "### Solution 1\n",
    "\n",
    "I show the function below."
   ]
  },
  {
   "cell_type": "code",
   "execution_count": 2,
   "metadata": {
    "collapsed": true
   },
   "outputs": [],
   "source": [
    "def draw_bs_reps(data, func=np.mean, size=1):\n",
    "    \"\"\"Draw bootstrap replicates from a data set.\"\"\"\n",
    "    return np.array([func(np.random.choice(data, replace=True, size=len(data))) \n",
    "                         for _ in range(size)])"
   ]
  },
  {
   "cell_type": "markdown",
   "metadata": {},
   "source": [
    "Let's try this function out on the beak depth data from 1975 to get bootstrap replicates of the mean."
   ]
  },
  {
   "cell_type": "code",
   "execution_count": 3,
   "metadata": {},
   "outputs": [
    {
     "name": "stdout",
     "output_type": "stream",
     "text": [
      "[9.05735794 9.19528784]\n"
     ]
    }
   ],
   "source": [
    "df = pd.read_csv('data/grant_1975.csv', comment='#')\n",
    "bd_1975 = df['Beak depth, mm'].values\n",
    "\n",
    "# Compute replicates\n",
    "bs_reps = draw_bs_reps(bd_1975, np.mean, size=2000)\n",
    "\n",
    "# 95% confidence interval\n",
    "print(np.percentile(bs_reps, [2.5, 97.5]))"
   ]
  },
  {
   "cell_type": "markdown",
   "metadata": {},
   "source": [
    "Nice!"
   ]
  },
  {
   "cell_type": "markdown",
   "metadata": {},
   "source": [
    "<br />"
   ]
  },
  {
   "cell_type": "markdown",
   "metadata": {},
   "source": [
    "## Practice 2: Estimating the difference between two means\n",
    "\n",
    "We have used bootstrapping to get estimates of summary statistics about a single set of repeated measurements. But we are often in interested in the *difference* between two data sets. As an example, in [our lesson on hacker stats](l30_hacker_stats.html), we computed the confidence interval for the mean beak depth of *G. scandens* in 1975 and in 2012. We can easily compute the difference in means between these two years."
   ]
  },
  {
   "cell_type": "code",
   "execution_count": 4,
   "metadata": {},
   "outputs": [
    {
     "name": "stdout",
     "output_type": "stream",
     "text": [
      "Difference of means (2012 - 1975):  0.2284920634920642 mm\n"
     ]
    }
   ],
   "source": [
    "# Load data set\n",
    "df = pd.read_csv(\"data/grant_complete.csv\", comment=\"#\")\n",
    "\n",
    "# Pull out records of interest\n",
    "df = df.loc[\n",
    "    (df[\"species\"] == \"scandens\") & (df[\"year\"].isin([1975, 2012])),\n",
    "    [\"year\", \"beak depth (mm)\"],\n",
    "]\n",
    "\n",
    "# Convert to NumPy arrays\n",
    "bd_1975 = df.loc[df['year']==1975, 'beak depth (mm)'].values\n",
    "bd_2012 = df.loc[df['year']==2012, 'beak depth (mm)'].values\n",
    "\n",
    "# Compute difference of means\n",
    "print(\"Difference of means (2012 - 1975): \", \n",
    "      np.mean(bd_2012) - np.mean(bd_1975),\n",
    "      \"mm\")"
   ]
  },
  {
   "cell_type": "markdown",
   "metadata": {},
   "source": [
    "We might like a confidence interval on this value. This can also be achieved by bootstrapping! Remember, the ideas is to sample out of the actual measured data set, with replacement, and then compute the summary statistic. For this calculation, it would go as follows.\n",
    "\n",
    "1. Draw `B` bootstrap replicates of the mean out of `bd_1975`.\n",
    "2. Draw `B` bootstrap replicates of the mean out of `bd_2012`.\n",
    "3. Subtract the replicates from 1975 from those from 2012, and, voilà!, you have bootstrap replicates for the difference in means.\n",
    "\n",
    "Be sure you understand why technique is following the general bootstrap prescription. Code this up, and give a confidence interval for the difference in mean beak depth between 2012 and 1975."
   ]
  },
  {
   "cell_type": "markdown",
   "metadata": {},
   "source": [
    "### Practice 2 solution\n",
    "\n",
    "We can write a function to compute bootstrap replicates for the difference of arbitrary summary statistics and use that."
   ]
  },
  {
   "cell_type": "code",
   "execution_count": 5,
   "metadata": {},
   "outputs": [
    {
     "data": {
      "text/plain": [
       "array([0.06217221, 0.39921627])"
      ]
     },
     "execution_count": 5,
     "metadata": {},
     "output_type": "execute_result"
    }
   ],
   "source": [
    "def draw_bs_reps_diff(data_1, data_2, func=np.mean, size=1):\n",
    "    \"\"\"Draw bootstrap replicates for the difference in summary \n",
    "    statistic given by `func`. E.g., func(data_1) - func(data_2).\"\"\"\n",
    "    return draw_bs_reps(data_1, func, size) - draw_bs_reps(data_2, func, size)\n",
    "\n",
    "# Draw the replicates\n",
    "bs_reps = draw_bs_reps_diff(bd_2012, bd_1975, size=2000)\n",
    "\n",
    "# Compute confidence interval\n",
    "np.percentile(bs_reps, [2.5, 97.5])"
   ]
  },
  {
   "cell_type": "markdown",
   "metadata": {},
   "source": [
    "The 95% confidence interval does not cross zero, suggesting that there is a real difference in mean deak depth; that is it not just to to random noise and small sample size."
   ]
  },
  {
   "cell_type": "markdown",
   "metadata": {},
   "source": [
    "<br />"
   ]
  },
  {
   "cell_type": "markdown",
   "metadata": {},
   "source": [
    "## Practice 3: Visualizing ECDF confidence intervals\n",
    "\n",
    "In the previous exercise, we showed that we can compute confidence intervals for the difference of means. We can compute confidence intervals for anything directly computed from the data. This includes the value of the ECDF for an arbitrary `x`. Here is how we can compute the confidence interval for the ECDF.\n",
    "\n",
    "1. Generate a bootstrap sample of the data.\n",
    "2. For each value `x` of your data set, evaluate the value of the ECDF at that point and record it. This is a bootstrap replicate of the ECDF at `x`.\n",
    "3. Do steps 1 and 2 over and over until you get your desired number of bootstrap replicates.\n",
    "4. For each value of `x` in your data set, compute the appropriate percentiles of your ECDF replicates. This gives you the ECDF confidence interval at `x`.\n",
    "\n",
    "Step 2 is kind of tricky, since not all of your measured data points are present in each bootstrap sample and you have to use the formal definition of the ECDF to get a replicate of the ECDF. Fortunately, this is done for you in the `bokeh_catplot.ecdf()` function. Use the `conf_int` kwarg in the `bokeh_catplot.ecdf()` function to plot an ECDFs of the *G. scandens* beak depth for 1975 and 2012 with confidence intervals."
   ]
  },
  {
   "cell_type": "markdown",
   "metadata": {},
   "source": [
    "### Practice 3 solution"
   ]
  },
  {
   "cell_type": "code",
   "execution_count": 6,
   "metadata": {},
   "outputs": [
    {
     "data": {
      "text/html": [
       "\n",
       "\n",
       "\n",
       "\n",
       "\n",
       "\n",
       "  <div class=\"bk-root\" id=\"82461a90-82d9-49e2-a4d4-80f367b3d31a\" data-root-id=\"1002\"></div>\n"
      ]
     },
     "metadata": {},
     "output_type": "display_data"
    },
    {
     "data": {
      "application/javascript": [
       "(function(root) {\n",
       "  function embed_document(root) {\n",
       "    \n",
       "  var docs_json = {\"88770883-ca65-4cb1-ab7c-4de7232a41fe\":{\"roots\":{\"references\":[{\"attributes\":{\"below\":[{\"id\":\"1011\",\"type\":\"LinearAxis\"}],\"center\":[{\"id\":\"1015\",\"type\":\"Grid\"},{\"id\":\"1020\",\"type\":\"Grid\"},{\"id\":\"1046\",\"type\":\"Legend\"}],\"left\":[{\"id\":\"1016\",\"type\":\"LinearAxis\"}],\"plot_height\":300,\"plot_width\":400,\"renderers\":[{\"id\":\"1037\",\"type\":\"GlyphRenderer\"},{\"id\":\"1051\",\"type\":\"GlyphRenderer\"},{\"id\":\"1065\",\"type\":\"GlyphRenderer\"},{\"id\":\"1081\",\"type\":\"GlyphRenderer\"},{\"id\":\"1099\",\"type\":\"GlyphRenderer\"},{\"id\":\"1120\",\"type\":\"GlyphRenderer\"},{\"id\":\"1142\",\"type\":\"GlyphRenderer\"},{\"id\":\"1166\",\"type\":\"GlyphRenderer\"}],\"title\":{\"id\":\"1039\",\"type\":\"Title\"},\"toolbar\":{\"id\":\"1027\",\"type\":\"Toolbar\"},\"x_range\":{\"id\":\"1003\",\"type\":\"DataRange1d\"},\"x_scale\":{\"id\":\"1007\",\"type\":\"LinearScale\"},\"y_range\":{\"id\":\"1005\",\"type\":\"DataRange1d\"},\"y_scale\":{\"id\":\"1009\",\"type\":\"LinearScale\"}},\"id\":\"1002\",\"subtype\":\"Figure\",\"type\":\"Plot\"},{\"attributes\":{},\"id\":\"1187\",\"type\":\"UnionRenderers\"},{\"attributes\":{\"callback\":null,\"data\":{\"x\":{\"__ndarray__\":\"mpmZmZmZH0CamZmZmZkfQAAAAAAAACBAAAAAAAAAIEAzMzMzMzMgQDMzMzMzMyBAZmZmZmZmIEBmZmZmZmYgQJqZmZmZmSBAmpmZmZmZIEAzMzMzM7MgQDMzMzMzsyBAzczMzMzMIEDNzMzMzMwgQAAAAAAAACFAAAAAAAAAIUAzMzMzMzMhQDMzMzMzMyFAzczMzMxMIUDNzMzMzEwhQGZmZmZmZiFAZmZmZmZmIUAAAAAAAIAhQAAAAAAAgCFAmpmZmZmZIUCamZmZmZkhQM3MzMzMzCFAzczMzMzMIUAAAAAAAAAiQAAAAAAAACJAFK5H4XoUIkAUrkfhehQiQJqZmZmZGSJAmpmZmZkZIkAzMzMzMzMiQDMzMzMzMyJAZmZmZmZmIkBmZmZmZmYiQJqZmZmZmSJAmpmZmZmZIkDhehSuR+EiQOF6FK5H4SJAZmZmZmbmIkBmZmZmZuYiQDMzMzMzMyNAMzMzMzMzI0DNzMzMzEwjQM3MzMzMTCNAZmZmZmZmI0BmZmZmZmYjQHsUrkfheiNAexSuR+F6I0CamZmZmZkjQJqZmZmZmSNAzczMzMzMI0DNzMzMzMwjQDMzMzMzMyRAMzMzMzMzJEBmZmZmZmYkQGZmZmZmZiRAzczMzMzMJEDNzMzMzMwkQM3MzMzMzCRAzczMzMzMJEBmZmZmZmYkQGZmZmZmZiRAMzMzMzMzJEAzMzMzMzMkQM3MzMzMzCNAzczMzMzMI0CamZmZmZkjQJqZmZmZmSNAexSuR+F6I0B7FK5H4XojQGZmZmZmZiNAZmZmZmZmI0DNzMzMzEwjQM3MzMzMTCNAMzMzMzMzI0AzMzMzMzMjQGZmZmZm5iJAZmZmZmbmIkDhehSuR+EiQOF6FK5H4SJAmpmZmZmZIkCamZmZmZkiQGZmZmZmZiJAZmZmZmZmIkAzMzMzMzMiQDMzMzMzMyJAmpmZmZkZIkCamZmZmRkiQBSuR+F6FCJAFK5H4XoUIkAAAAAAAAAiQAAAAAAAACJAzczMzMzMIUDNzMzMzMwhQJqZmZmZmSFAmpmZmZmZIUAAAAAAAIAhQAAAAAAAgCFAZmZmZmZmIUBmZmZmZmYhQM3MzMzMTCFAzczMzMxMIUAzMzMzMzMhQDMzMzMzMyFAAAAAAAAAIUAAAAAAAAAhQM3MzMzMzCBAzczMzMzMIEAzMzMzM7MgQDMzMzMzsyBAmpmZmZmZIECamZmZmZkgQGZmZmZmZiBAZmZmZmZmIEAzMzMzMzMgQDMzMzMzMyBAAAAAAAAAIEAAAAAAAAAgQJqZmZmZmR9AmpmZmZmZH0A=\",\"dtype\":\"float64\",\"shape\":[124]},\"y\":{\"__ndarray__\":\"AAAAAAAAAAAAAAAAAAAAAAAAAAAAAAAAyKR4gUyKhz/IpHiBTIqHP8ikeIFMioc/yKR4gUyKhz+WexphuaehP5Z7GmG5p6E/lnsaYbmnsT+WexphuaexPy+QSfECmbQ/L5BJ8QKZtD/6zdah32y9P/rN1qHfbL0/L5BJ8QKZxD8vkEnxApnEP/rN1qHfbM0/+s3Wod9szT9HWO5phOXOP0dY7mmE5c4/lnsaYbmn0T+WexphuafRP5Z7GmG5p9E/lnsaYbmn0T9VVVVVVVXVP1VVVVVVVdU/7mmE5Z5G2D/uaYTlnkbYP/rN1qHfbN0/+s3Wod9s3T8gk+IFMinePyCT4gUyKd4/bR36zdah3z9tHfrN1qHfP+MFMileIOM/4wUyKV4g4z/Cck8jLPfkP8JyTyMs9+Q/D/1m69Bv5j8P/Wbr0G/mP6LfbB36zeY/ot9sHfrN5j/uaYTlnkboP+5phOWeRug/FS+QSfEC6T8VL5BJ8QLpPzv0m61Dv+k/O/SbrUO/6T/0m61Dv9nqP/SbrUO/2eo/h36zdeg36z+HfrN16DfrP65Dv9k69Os/rkO/2Tr06z/UCMs9jbDsP9QIyz2NsOw/+s3Wod9s7T/6zdah32ztPyCT4gUyKe4/IJPiBTIp7j8AAAAAAADwPwAAAAAAAPA/AAAAAAAA8D8AAAAAAADwPwAAAAAAAPA/AAAAAAAA8D9tHfrN1qHvP20d+s3Woe8/2jr0m61D7z/aOvSbrUPvP0dY7mmE5e4/R1juaYTl7j+zdeg3W4fuP7N16Ddbh+4/IJPiBTIp7j8gk+IFMinuP42w3NMIy+0/jbDc0wjL7T8PERERERHtPw8REREREe0/rkO/2Tr06z+uQ7/ZOvTrPxphuacRlus/GmG5pxGW6z9huacRlnvqP2G5pxGWe+o/qBGWexph6T+oEZZ7GmHpPw/9ZuvQb+Y/D/1m69Bv5j9VVVVVVVXlP1VVVVVVVeU/apiPxIb55D9qmI/EhvnkP+MFMileIOM/4wUyKV4g4z8DmRQvkEnhPwOZFC+QSeE/R1juaYTl3j9HWO5phOXePyCT4gUyKd4/IJPiBTIp3j+HfrN16DfbP4d+s3XoN9s/YbmnEZZ72j9huacRlnvaP3waYbmnEdY/fBphuacR1j+WexphuafRP5Z7GmG5p9E/+s3Wod9szT/6zdah32zNP2G5pxGWe8o/YbmnEZZ7yj8vkEnxApnEPy+QSfECmcQ/n+aoG2uOuj+f5qgba466P8ikeIFMirc/yKR4gUyKtz/IpHiBTIqnP8ikeIFMiqc/AAAAAAAAAAA=\",\"dtype\":\"float64\",\"shape\":[124]}},\"selected\":{\"id\":\"1059\",\"type\":\"Selection\"},\"selection_policy\":{\"id\":\"1060\",\"type\":\"UnionRenderers\"}},\"id\":\"1034\",\"type\":\"ColumnDataSource\"},{\"attributes\":{\"fill_alpha\":0.5,\"fill_color\":\"#4e79a7\",\"line_alpha\":0,\"line_color\":\"#1f77b4\",\"x\":{\"field\":\"x\"},\"y\":{\"field\":\"y\"}},\"id\":\"1035\",\"type\":\"Patch\"},{\"attributes\":{\"source\":{\"id\":\"1034\",\"type\":\"ColumnDataSource\"}},\"id\":\"1038\",\"type\":\"CDSView\"},{\"attributes\":{\"text\":\"\"},\"id\":\"1039\",\"type\":\"Title\"},{\"attributes\":{\"label\":{\"value\":\"1975\"},\"renderers\":[{\"id\":\"1037\",\"type\":\"GlyphRenderer\"},{\"id\":\"1051\",\"type\":\"GlyphRenderer\"},{\"id\":\"1065\",\"type\":\"GlyphRenderer\"},{\"id\":\"1081\",\"type\":\"GlyphRenderer\"}]},\"id\":\"1047\",\"type\":\"LegendItem\"},{\"attributes\":{\"click_policy\":\"hide\",\"items\":[{\"id\":\"1047\",\"type\":\"LegendItem\"},{\"id\":\"1116\",\"type\":\"LegendItem\"}],\"location\":\"bottom_right\"},\"id\":\"1046\",\"type\":\"Legend\"},{\"attributes\":{\"callback\":null,\"data\":{\"x\":{\"__ndarray__\":\"mpmZmZmZH0CamZmZmZkfQAAAAAAAACBAAAAAAAAAIEAAAAAAAAAgQAAAAAAAACBAAAAAAAAAIEAAAAAAAAAgQDMzMzMzMyBAMzMzMzMzIEBmZmZmZmYgQGZmZmZmZiBAZmZmZmZmIEBmZmZmZmYgQGZmZmZmZiBAZmZmZmZmIECamZmZmZkgQJqZmZmZmSBAmpmZmZmZIECamZmZmZkgQJqZmZmZmSBAmpmZmZmZIECamZmZmZkgQJqZmZmZmSBAMzMzMzOzIEAzMzMzM7MgQM3MzMzMzCBAzczMzMzMIEDNzMzMzMwgQM3MzMzMzCBAzczMzMzMIEDNzMzMzMwgQM3MzMzMzCBAzczMzMzMIEAAAAAAAAAhQAAAAAAAACFAAAAAAAAAIUAAAAAAAAAhQAAAAAAAACFAAAAAAAAAIUAAAAAAAAAhQAAAAAAAACFAAAAAAAAAIUAAAAAAAAAhQDMzMzMzMyFAMzMzMzMzIUAzMzMzMzMhQDMzMzMzMyFAMzMzMzMzIUAzMzMzMzMhQDMzMzMzMyFAMzMzMzMzIUAzMzMzMzMhQDMzMzMzMyFAMzMzMzMzIUAzMzMzMzMhQM3MzMzMTCFAzczMzMxMIUBmZmZmZmYhQGZmZmZmZiFAZmZmZmZmIUBmZmZmZmYhQGZmZmZmZiFAZmZmZmZmIUAAAAAAAIAhQAAAAAAAgCFAmpmZmZmZIUCamZmZmZkhQJqZmZmZmSFAmpmZmZmZIUCamZmZmZkhQJqZmZmZmSFAmpmZmZmZIUCamZmZmZkhQJqZmZmZmSFAmpmZmZmZIUDNzMzMzMwhQM3MzMzMzCFAzczMzMzMIUDNzMzMzMwhQM3MzMzMzCFAzczMzMzMIUDNzMzMzMwhQM3MzMzMzCFAzczMzMzMIUDNzMzMzMwhQAAAAAAAACJAAAAAAAAAIkAAAAAAAAAiQAAAAAAAACJAAAAAAAAAIkAAAAAAAAAiQAAAAAAAACJAAAAAAAAAIkAAAAAAAAAiQAAAAAAAACJAAAAAAAAAIkAAAAAAAAAiQBSuR+F6FCJAFK5H4XoUIkCamZmZmRkiQJqZmZmZGSJAmpmZmZkZIkCamZmZmRkiQDMzMzMzMyJAMzMzMzMzIkAzMzMzMzMiQDMzMzMzMyJAMzMzMzMzIkAzMzMzMzMiQDMzMzMzMyJAMzMzMzMzIkAzMzMzMzMiQDMzMzMzMyJAMzMzMzMzIkAzMzMzMzMiQDMzMzMzMyJAMzMzMzMzIkAzMzMzMzMiQDMzMzMzMyJAMzMzMzMzIkAzMzMzMzMiQGZmZmZmZiJAZmZmZmZmIkBmZmZmZmYiQGZmZmZmZiJAZmZmZmZmIkBmZmZmZmYiQGZmZmZmZiJAZmZmZmZmIkCamZmZmZkiQJqZmZmZmSJAmpmZmZmZIkCamZmZmZkiQJqZmZmZmSJAmpmZmZmZIkDhehSuR+EiQOF6FK5H4SJAZmZmZmbmIkBmZmZmZuYiQGZmZmZm5iJAZmZmZmbmIkBmZmZmZuYiQGZmZmZm5iJAZmZmZmbmIkBmZmZmZuYiQDMzMzMzMyNAMzMzMzMzI0AzMzMzMzMjQDMzMzMzMyNAzczMzMxMI0DNzMzMzEwjQGZmZmZmZiNAZmZmZmZmI0BmZmZmZmYjQGZmZmZmZiNAexSuR+F6I0B7FK5H4XojQJqZmZmZmSNAmpmZmZmZI0CamZmZmZkjQJqZmZmZmSNAzczMzMzMI0DNzMzMzMwjQDMzMzMzMyRAMzMzMzMzJEAzMzMzMzMkQDMzMzMzMyRAZmZmZmZmJEBmZmZmZmYkQM3MzMzMzCRAzczMzMzMJEDNzMzMzMwkQM3MzMzMzCRA\",\"dtype\":\"float64\",\"shape\":[174]},\"y\":{\"__ndarray__\":\"AAAAAAAAAADIpHiBTIqHP8ikeIFMioc/yKR4gUyKlz/IpHiBTIqXP5Z7GmG5p6E/lnsaYbmnoT/IpHiBTIqnP8ikeIFMiqc/+s3Wod9srT/6zdah32ytP5Z7GmG5p7E/lnsaYbmnsT8vkEnxApm0Py+QSfECmbQ/yKR4gUyKtz/IpHiBTIq3P2G5pxGWe7o/YbmnEZZ7uj/6zdah32y9P/rN1qHfbL0/SvECmRQvwD9K8QKZFC/AP5Z7GmG5p8E/lnsaYbmnwT/jBTIpXiDDP+MFMileIMM/L5BJ8QKZxD8vkEnxApnEP3waYbmnEcY/fBphuacRxj/IpHiBTIrHP8ikeIFMisc/FS+QSfECyT8VL5BJ8QLJP2G5pxGWe8o/YbmnEZZ7yj+uQ7/ZOvTLP65Dv9k69Ms/+s3Wod9szT/6zdah32zNP0dY7mmE5c4/R1juaYTlzj9K8QKZFC/QP0rxApkUL9A/cLYO/Wbr0D9wtg79ZuvQP5Z7GmG5p9E/lnsaYbmn0T+8QCbFC2TSP7xAJsULZNI/4wUyKV4g0z/jBTIpXiDTPwnLPY2w3NM/Ccs9jbDc0z8vkEnxApnUPy+QSfECmdQ/VVVVVVVV1T9VVVVVVVXVP3waYbmnEdY/fBphuacR1j+i32wd+s3WP6LfbB36zdY/yKR4gUyK1z/IpHiBTIrXP+5phOWeRtg/7mmE5Z5G2D8VL5BJ8QLZPxUvkEnxAtk/O/SbrUO/2T879JutQ7/ZP2G5pxGWe9o/YbmnEZZ72j+HfrN16DfbP4d+s3XoN9s/rkO/2Tr02z+uQ7/ZOvTbP9QIyz2NsNw/1AjLPY2w3D/6zdah32zdP/rN1qHfbN0/IJPiBTIp3j8gk+IFMineP0dY7mmE5d4/R1juaYTl3j9tHfrN1qHfP20d+s3Wod8/SvECmRQv4D9K8QKZFC/gP93TCMs9jeA/3dMIyz2N4D9wtg79ZuvgP3C2Dv1m6+A/A5kUL5BJ4T8DmRQvkEnhP5Z7GmG5p+E/lnsaYbmn4T8pXiCT4gXiPyleIJPiBeI/vEAmxQtk4j+8QCbFC2TiP08jLPc0wuI/TyMs9zTC4j/jBTIpXiDjP+MFMileIOM/dug3W4d+4z926Ddbh37jPwnLPY2w3OM/Ccs9jbDc4z+crUO/2TrkP5ytQ7/ZOuQ/L5BJ8QKZ5D8vkEnxApnkP8JyTyMs9+Q/wnJPIyz35D9VVVVVVVXlP1VVVVVVVeU/6Ddbh36z5T/oN1uHfrPlP3waYbmnEeY/fBphuacR5j8P/Wbr0G/mPw/9ZuvQb+Y/ot9sHfrN5j+i32wd+s3mPzXCck8jLOc/NcJyTyMs5z/IpHiBTIrnP8ikeIFMiuc/W4d+s3Xo5z9bh36zdejnP+5phOWeRug/7mmE5Z5G6D+BTIoXyKToP4FMihfIpOg/FS+QSfEC6T8VL5BJ8QLpP6gRlnsaYek/qBGWexph6T879JutQ7/pPzv0m61Dv+k/ztah32wd6j/O1qHfbB3qP2G5pxGWe+o/YbmnEZZ76j/0m61Dv9nqP/SbrUO/2eo/h36zdeg36z+HfrN16DfrPxphuacRlus/GmG5pxGW6z+uQ7/ZOvTrP65Dv9k69Os/QSbFC2RS7D9BJsULZFLsP9QIyz2NsOw/1AjLPY2w7D9n69Bvtg7tP2fr0G+2Du0/+s3Wod9s7T/6zdah32ztP42w3NMIy+0/jbDc0wjL7T8gk+IFMinuPyCT4gUyKe4/s3XoN1uH7j+zdeg3W4fuP0dY7mmE5e4/R1juaYTl7j/aOvSbrUPvP9o69JutQ+8/bR36zdah7z9tHfrN1qHvPwAAAAAAAPA/\",\"dtype\":\"float64\",\"shape\":[174]}},\"selected\":{\"id\":\"1075\",\"type\":\"Selection\"},\"selection_policy\":{\"id\":\"1076\",\"type\":\"UnionRenderers\"}},\"id\":\"1048\",\"type\":\"ColumnDataSource\"},{\"attributes\":{\"line_color\":\"#4e79a7\",\"line_width\":2,\"x\":{\"field\":\"x\"},\"y\":{\"field\":\"y\"}},\"id\":\"1049\",\"type\":\"Line\"},{\"attributes\":{\"line_alpha\":0.1,\"line_color\":\"#1f77b4\",\"line_width\":2,\"x\":{\"field\":\"x\"},\"y\":{\"field\":\"y\"}},\"id\":\"1050\",\"type\":\"Line\"},{\"attributes\":{\"data_source\":{\"id\":\"1048\",\"type\":\"ColumnDataSource\"},\"glyph\":{\"id\":\"1049\",\"type\":\"Line\"},\"hover_glyph\":null,\"muted_glyph\":null,\"nonselection_glyph\":{\"id\":\"1050\",\"type\":\"Line\"},\"selection_glyph\":null,\"view\":{\"id\":\"1052\",\"type\":\"CDSView\"}},\"id\":\"1051\",\"type\":\"GlyphRenderer\"},{\"attributes\":{\"fill_alpha\":0.1,\"fill_color\":\"#1f77b4\",\"line_alpha\":0.1,\"line_color\":\"#1f77b4\",\"x\":{\"field\":\"x\"},\"y\":{\"field\":\"y\"}},\"id\":\"1098\",\"type\":\"Patch\"},{\"attributes\":{},\"id\":\"1059\",\"type\":\"Selection\"},{\"attributes\":{\"source\":{\"id\":\"1048\",\"type\":\"ColumnDataSource\"}},\"id\":\"1052\",\"type\":\"CDSView\"},{\"attributes\":{},\"id\":\"1060\",\"type\":\"UnionRenderers\"},{\"attributes\":{\"callback\":null,\"data\":{},\"selected\":{\"id\":\"1093\",\"type\":\"Selection\"},\"selection_policy\":{\"id\":\"1094\",\"type\":\"UnionRenderers\"}},\"id\":\"1062\",\"type\":\"ColumnDataSource\"},{\"attributes\":{\"data_source\":{\"id\":\"1034\",\"type\":\"ColumnDataSource\"},\"glyph\":{\"id\":\"1035\",\"type\":\"Patch\"},\"hover_glyph\":null,\"muted_glyph\":null,\"nonselection_glyph\":{\"id\":\"1036\",\"type\":\"Patch\"},\"selection_glyph\":null,\"view\":{\"id\":\"1038\",\"type\":\"CDSView\"}},\"id\":\"1037\",\"type\":\"GlyphRenderer\"},{\"attributes\":{\"angle\":{\"units\":\"rad\",\"value\":3.141592653589793},\"line_color\":{\"value\":\"#4e79a7\"},\"line_width\":{\"value\":2},\"x\":{\"value\":7.9},\"y\":{\"value\":0}},\"id\":\"1063\",\"type\":\"Ray\"},{\"attributes\":{\"angle\":{\"units\":\"rad\",\"value\":3.141592653589793},\"line_alpha\":{\"value\":0.1},\"line_color\":{\"value\":\"#1f77b4\"},\"line_width\":{\"value\":2},\"x\":{\"value\":7.9},\"y\":{\"value\":0}},\"id\":\"1064\",\"type\":\"Ray\"},{\"attributes\":{\"data_source\":{\"id\":\"1062\",\"type\":\"ColumnDataSource\"},\"glyph\":{\"id\":\"1063\",\"type\":\"Ray\"},\"hover_glyph\":null,\"muted_glyph\":null,\"nonselection_glyph\":{\"id\":\"1064\",\"type\":\"Ray\"},\"selection_glyph\":null,\"view\":{\"id\":\"1066\",\"type\":\"CDSView\"}},\"id\":\"1065\",\"type\":\"GlyphRenderer\"},{\"attributes\":{\"source\":{\"id\":\"1062\",\"type\":\"ColumnDataSource\"}},\"id\":\"1066\",\"type\":\"CDSView\"},{\"attributes\":{},\"id\":\"1042\",\"type\":\"BasicTickFormatter\"},{\"attributes\":{},\"id\":\"1075\",\"type\":\"Selection\"},{\"attributes\":{},\"id\":\"1076\",\"type\":\"UnionRenderers\"},{\"attributes\":{\"callback\":null,\"data\":{},\"selected\":{\"id\":\"1113\",\"type\":\"Selection\"},\"selection_policy\":{\"id\":\"1114\",\"type\":\"UnionRenderers\"}},\"id\":\"1078\",\"type\":\"ColumnDataSource\"},{\"attributes\":{},\"id\":\"1044\",\"type\":\"BasicTickFormatter\"},{\"attributes\":{\"angle\":{\"units\":\"rad\",\"value\":0},\"line_color\":{\"value\":\"#4e79a7\"},\"line_width\":{\"value\":2},\"x\":{\"value\":10.4},\"y\":{\"value\":1}},\"id\":\"1079\",\"type\":\"Ray\"},{\"attributes\":{\"callback\":null},\"id\":\"1003\",\"type\":\"DataRange1d\"},{\"attributes\":{\"angle\":{\"units\":\"rad\",\"value\":0},\"line_alpha\":{\"value\":0.1},\"line_color\":{\"value\":\"#1f77b4\"},\"line_width\":{\"value\":2},\"x\":{\"value\":10.4},\"y\":{\"value\":1}},\"id\":\"1080\",\"type\":\"Ray\"},{\"attributes\":{\"callback\":null},\"id\":\"1005\",\"type\":\"DataRange1d\"},{\"attributes\":{\"data_source\":{\"id\":\"1078\",\"type\":\"ColumnDataSource\"},\"glyph\":{\"id\":\"1079\",\"type\":\"Ray\"},\"hover_glyph\":null,\"muted_glyph\":null,\"nonselection_glyph\":{\"id\":\"1080\",\"type\":\"Ray\"},\"selection_glyph\":null,\"view\":{\"id\":\"1082\",\"type\":\"CDSView\"}},\"id\":\"1081\",\"type\":\"GlyphRenderer\"},{\"attributes\":{},\"id\":\"1007\",\"type\":\"LinearScale\"},{\"attributes\":{\"source\":{\"id\":\"1078\",\"type\":\"ColumnDataSource\"}},\"id\":\"1082\",\"type\":\"CDSView\"},{\"attributes\":{\"bottom_units\":\"screen\",\"fill_alpha\":{\"value\":0.5},\"fill_color\":{\"value\":\"lightgrey\"},\"left_units\":\"screen\",\"level\":\"overlay\",\"line_alpha\":{\"value\":1.0},\"line_color\":{\"value\":\"black\"},\"line_dash\":[4,4],\"line_width\":{\"value\":2},\"render_mode\":\"css\",\"right_units\":\"screen\",\"top_units\":\"screen\"},\"id\":\"1045\",\"type\":\"BoxAnnotation\"},{\"attributes\":{},\"id\":\"1009\",\"type\":\"LinearScale\"},{\"attributes\":{},\"id\":\"1093\",\"type\":\"Selection\"},{\"attributes\":{\"axis_label\":\"beak depth (mm)\",\"formatter\":{\"id\":\"1044\",\"type\":\"BasicTickFormatter\"},\"ticker\":{\"id\":\"1012\",\"type\":\"BasicTicker\"}},\"id\":\"1011\",\"type\":\"LinearAxis\"},{\"attributes\":{},\"id\":\"1094\",\"type\":\"UnionRenderers\"},{\"attributes\":{},\"id\":\"1012\",\"type\":\"BasicTicker\"},{\"attributes\":{\"ticker\":{\"id\":\"1012\",\"type\":\"BasicTicker\"}},\"id\":\"1015\",\"type\":\"Grid\"},{\"attributes\":{\"axis_label\":\"ECDF\",\"formatter\":{\"id\":\"1042\",\"type\":\"BasicTickFormatter\"},\"ticker\":{\"id\":\"1017\",\"type\":\"BasicTicker\"}},\"id\":\"1016\",\"type\":\"LinearAxis\"},{\"attributes\":{\"fill_alpha\":0.5,\"fill_color\":\"#f28e2b\",\"line_alpha\":0,\"line_color\":\"#1f77b4\",\"x\":{\"field\":\"x\"},\"y\":{\"field\":\"y\"}},\"id\":\"1097\",\"type\":\"Patch\"},{\"attributes\":{\"data_source\":{\"id\":\"1096\",\"type\":\"ColumnDataSource\"},\"glyph\":{\"id\":\"1097\",\"type\":\"Patch\"},\"hover_glyph\":null,\"muted_glyph\":null,\"nonselection_glyph\":{\"id\":\"1098\",\"type\":\"Patch\"},\"selection_glyph\":null,\"view\":{\"id\":\"1100\",\"type\":\"CDSView\"}},\"id\":\"1099\",\"type\":\"GlyphRenderer\"},{\"attributes\":{},\"id\":\"1017\",\"type\":\"BasicTicker\"},{\"attributes\":{\"dimension\":1,\"ticker\":{\"id\":\"1017\",\"type\":\"BasicTicker\"}},\"id\":\"1020\",\"type\":\"Grid\"},{\"attributes\":{\"source\":{\"id\":\"1096\",\"type\":\"ColumnDataSource\"}},\"id\":\"1100\",\"type\":\"CDSView\"},{\"attributes\":{},\"id\":\"1113\",\"type\":\"Selection\"},{\"attributes\":{},\"id\":\"1114\",\"type\":\"UnionRenderers\"},{\"attributes\":{\"label\":{\"value\":\"2012\"},\"renderers\":[{\"id\":\"1099\",\"type\":\"GlyphRenderer\"},{\"id\":\"1120\",\"type\":\"GlyphRenderer\"},{\"id\":\"1142\",\"type\":\"GlyphRenderer\"},{\"id\":\"1166\",\"type\":\"GlyphRenderer\"}]},\"id\":\"1116\",\"type\":\"LegendItem\"},{\"attributes\":{},\"id\":\"1021\",\"type\":\"PanTool\"},{\"attributes\":{},\"id\":\"1022\",\"type\":\"WheelZoomTool\"},{\"attributes\":{\"callback\":null,\"data\":{\"x\":{\"__ndarray__\":\"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\",\"dtype\":\"float64\",\"shape\":[252]},\"y\":{\"__ndarray__\":\"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\",\"dtype\":\"float64\",\"shape\":[252]}},\"selected\":{\"id\":\"1160\",\"type\":\"Selection\"},\"selection_policy\":{\"id\":\"1161\",\"type\":\"UnionRenderers\"}},\"id\":\"1117\",\"type\":\"ColumnDataSource\"},{\"attributes\":{\"overlay\":{\"id\":\"1045\",\"type\":\"BoxAnnotation\"}},\"id\":\"1023\",\"type\":\"BoxZoomTool\"},{\"attributes\":{\"line_color\":\"#f28e2b\",\"line_width\":2,\"x\":{\"field\":\"x\"},\"y\":{\"field\":\"y\"}},\"id\":\"1118\",\"type\":\"Line\"},{\"attributes\":{\"line_alpha\":0.1,\"line_color\":\"#1f77b4\",\"line_width\":2,\"x\":{\"field\":\"x\"},\"y\":{\"field\":\"y\"}},\"id\":\"1119\",\"type\":\"Line\"},{\"attributes\":{},\"id\":\"1024\",\"type\":\"SaveTool\"},{\"attributes\":{\"data_source\":{\"id\":\"1117\",\"type\":\"ColumnDataSource\"},\"glyph\":{\"id\":\"1118\",\"type\":\"Line\"},\"hover_glyph\":null,\"muted_glyph\":null,\"nonselection_glyph\":{\"id\":\"1119\",\"type\":\"Line\"},\"selection_glyph\":null,\"view\":{\"id\":\"1121\",\"type\":\"CDSView\"}},\"id\":\"1120\",\"type\":\"GlyphRenderer\"},{\"attributes\":{},\"id\":\"1025\",\"type\":\"ResetTool\"},{\"attributes\":{\"source\":{\"id\":\"1117\",\"type\":\"ColumnDataSource\"}},\"id\":\"1121\",\"type\":\"CDSView\"},{\"attributes\":{},\"id\":\"1026\",\"type\":\"HelpTool\"},{\"attributes\":{\"callback\":null,\"data\":{\"x\":{\"__ndarray__\":\"zczMzMzMHkDNzMzMzMweQDMzMzMzMx9AMzMzMzMzH0CamZmZmZkfQJqZmZmZmR9AAAAAAAAAIEAAAAAAAAAgQDMzMzMzMyBAMzMzMzMzIEBmZmZmZmYgQGZmZmZmZiBAmpmZmZmZIECamZmZmZkgQM3MzMzMzCBAzczMzMzMIEAAAAAAAAAhQAAAAAAAACFAMzMzMzMzIUAzMzMzMzMhQGZmZmZmZiFAZmZmZmZmIUCamZmZmZkhQJqZmZmZmSFAMzMzMzOzIUAzMzMzM7MhQM3MzMzMzCFAzczMzMzMIUBmZmZmZuYhQGZmZmZm5iFAAAAAAAAAIkAAAAAAAAAiQDMzMzMzMyJAMzMzMzMzIkDNzMzMzEwiQM3MzMzMTCJAZmZmZmZmIkBmZmZmZmYiQJqZmZmZmSJAmpmZmZmZIkDNzMzMzMwiQM3MzMzMzCJAAAAAAAAAI0AAAAAAAAAjQDMzMzMzMyNAMzMzMzMzI0BmZmZmZmYjQGZmZmZmZiNAmpmZmZmZI0CamZmZmZkjQM3MzMzMzCNAzczMzMzMI0AAAAAAAAAkQAAAAAAAACRAZmZmZmZmJEBmZmZmZmYkQAAAAAAAACVAAAAAAAAAJUAzMzMzMzMlQDMzMzMzMyVAmpmZmZmZJUCamZmZmZklQAAAAAAAACZAAAAAAAAAJkAAAAAAAAAmQAAAAAAAACZAmpmZmZmZJUCamZmZmZklQDMzMzMzMyVAMzMzMzMzJUAAAAAAAAAlQAAAAAAAACVAZmZmZmZmJEBmZmZmZmYkQAAAAAAAACRAAAAAAAAAJEDNzMzMzMwjQM3MzMzMzCNAmpmZmZmZI0CamZmZmZkjQGZmZmZmZiNAZmZmZmZmI0AzMzMzMzMjQDMzMzMzMyNAAAAAAAAAI0AAAAAAAAAjQM3MzMzMzCJAzczMzMzMIkCamZmZmZkiQJqZmZmZmSJAZmZmZmZmIkBmZmZmZmYiQM3MzMzMTCJAzczMzMxMIkAzMzMzMzMiQDMzMzMzMyJAAAAAAAAAIkAAAAAAAAAiQGZmZmZm5iFAZmZmZmbmIUDNzMzMzMwhQM3MzMzMzCFAMzMzMzOzIUAzMzMzM7MhQJqZmZmZmSFAmpmZmZmZIUBmZmZmZmYhQGZmZmZmZiFAMzMzMzMzIUAzMzMzMzMhQAAAAAAAACFAAAAAAAAAIUDNzMzMzMwgQM3MzMzMzCBAmpmZmZmZIECamZmZmZkgQGZmZmZmZiBAZmZmZmZmIEAzMzMzMzMgQDMzMzMzMyBAAAAAAAAAIEAAAAAAAAAgQJqZmZmZmR9AmpmZmZmZH0AzMzMzMzMfQDMzMzMzMx9AzczMzMzMHkDNzMzMzMweQA==\",\"dtype\":\"float64\",\"shape\":[128]},\"y\":{\"__ndarray__\":\"AAAAAAAAAAAAAAAAAAAAAAAAAAAAAAAAAAAAAAAAAAAAAAAAAAAAACz7sR/7sX8/LPuxH/uxfz8YhmEYhmGYPxiGYRiGYZg/EARBEARBoD8QBEEQBEGgPxRFURRFUaQ/FEVRFEVRpD8cx3Ecx3GsPxzHcRzHcaw/GIZhGIZhuD8YhmEYhmG4P57neZ7neb4/nud5nud5vj9RFEVRFEXBP1EURVEURcE/VVVVVVVVxT9VVVVVVVXFP1mWZVmWZck/WZZlWZZlyT+apmmapmnKP5qmaZqmaco/kiRJkiRJ0j+SJEmSJEnSP7Msy7Isy9I/syzLsizL0j+WZVmWZVnWP5ZlWZZlWdY/WZZlWZZl2T9ZlmVZlmXZP3qe53me59k/ep7neZ7n2T/8vu/7vu/bP/y+7/u+79s/9mM/9mM/4D/2Yz/2Yz/gP5IkSZIkSeI/kiRJkiRJ4j9VVVVVVVXlP1VVVVVVVeU/p2mapmma5j+naZqmaZrmP8dxHMdxHOc/x3Ecx3Ec5z9ZlmVZlmXpP1mWZVmWZek/cAIncAIn6j9wAidwAifqP+y6ruu6rus/7Lqu67qu6z9N0zRN0zTtP03TNE3TNO0/ft/3fd/37T9+3/d93/ftP6/ruq7ruu4/r+u6ruu67j+1Uzu1UzvvP7VTO7VTO+8/AAAAAAAA8D8AAAAAAADwPwAAAAAAAPA/AAAAAAAA8D8AAAAAAADwPwAAAAAAAPA/CJzACZzA7z8InMAJnMDvP9/3fd/3fe8/3/d93/d97z+v67qu67ruP6/ruq7ruu4/btu2bdu27T9u27Zt27btP03TNE3TNO0/TdM0TdM07T/suq7ruq7rP+y6ruu6rus/y7Isy7Is6z/LsizLsizrP3qe53me5+k/ep7neZ7n6T/XdV3XdV3nP9d1Xdd1Xec/ZlmWZVmW5T9mWZZlWZblP9M0TdM0TeM/0zRN0zRN4z+SJEmSJEniP5IkSZIkSeI/irzIi7zI4T+KvMiLvMjhPyEIgiAIguA/IQiCIAiC4D9+3/d93/fdP37f933f990/Pc/zPM/z3D89z/M8z/PcP/h93/d939c/+H3f933f1z+3bdu2bdvWP7dt27Zt29Y/9DzP8zzP0z/0PM/zPM/TP1EURVEURdE/URRFURRF0T8QBEEQBEHQPxAEQRAEQdA/HMdxHMdxzD8cx3Ecx3HMPxRFURRFUcQ/FEVRFEVRxD+SJEmSJEnCP5IkSZIkScI/nud5nud5vj+e53me53m+PxiGYRiGYbg/GIZhGIZhuD8QBEEQBEGwPxAEQRAEQbA/HMdxHMdxrD8cx3Ecx3GsPxRFURRFUaQ/FEVRFEVRpD8AAAAAAAAAAA==\",\"dtype\":\"float64\",\"shape\":[128]}},\"selected\":{\"id\":\"1136\",\"type\":\"Selection\"},\"selection_policy\":{\"id\":\"1137\",\"type\":\"UnionRenderers\"}},\"id\":\"1096\",\"type\":\"ColumnDataSource\"},{\"attributes\":{},\"id\":\"1136\",\"type\":\"Selection\"},{\"attributes\":{},\"id\":\"1137\",\"type\":\"UnionRenderers\"},{\"attributes\":{\"fill_alpha\":0.1,\"fill_color\":\"#1f77b4\",\"line_alpha\":0.1,\"line_color\":\"#1f77b4\",\"x\":{\"field\":\"x\"},\"y\":{\"field\":\"y\"}},\"id\":\"1036\",\"type\":\"Patch\"},{\"attributes\":{\"callback\":null,\"data\":{},\"selected\":{\"id\":\"1186\",\"type\":\"Selection\"},\"selection_policy\":{\"id\":\"1187\",\"type\":\"UnionRenderers\"}},\"id\":\"1139\",\"type\":\"ColumnDataSource\"},{\"attributes\":{\"angle\":{\"units\":\"rad\",\"value\":3.141592653589793},\"line_color\":{\"value\":\"#f28e2b\"},\"line_width\":{\"value\":2},\"x\":{\"value\":7.7},\"y\":{\"value\":0}},\"id\":\"1140\",\"type\":\"Ray\"},{\"attributes\":{\"angle\":{\"units\":\"rad\",\"value\":3.141592653589793},\"line_alpha\":{\"value\":0.1},\"line_color\":{\"value\":\"#1f77b4\"},\"line_width\":{\"value\":2},\"x\":{\"value\":7.7},\"y\":{\"value\":0}},\"id\":\"1141\",\"type\":\"Ray\"},{\"attributes\":{\"data_source\":{\"id\":\"1139\",\"type\":\"ColumnDataSource\"},\"glyph\":{\"id\":\"1140\",\"type\":\"Ray\"},\"hover_glyph\":null,\"muted_glyph\":null,\"nonselection_glyph\":{\"id\":\"1141\",\"type\":\"Ray\"},\"selection_glyph\":null,\"view\":{\"id\":\"1143\",\"type\":\"CDSView\"}},\"id\":\"1142\",\"type\":\"GlyphRenderer\"},{\"attributes\":{\"source\":{\"id\":\"1139\",\"type\":\"ColumnDataSource\"}},\"id\":\"1143\",\"type\":\"CDSView\"},{\"attributes\":{},\"id\":\"1160\",\"type\":\"Selection\"},{\"attributes\":{},\"id\":\"1161\",\"type\":\"UnionRenderers\"},{\"attributes\":{\"callback\":null,\"data\":{},\"selected\":{\"id\":\"1209\",\"type\":\"Selection\"},\"selection_policy\":{\"id\":\"1210\",\"type\":\"UnionRenderers\"}},\"id\":\"1163\",\"type\":\"ColumnDataSource\"},{\"attributes\":{\"angle\":{\"units\":\"rad\",\"value\":0},\"line_color\":{\"value\":\"#f28e2b\"},\"line_width\":{\"value\":2},\"x\":{\"value\":11.0},\"y\":{\"value\":1}},\"id\":\"1164\",\"type\":\"Ray\"},{\"attributes\":{\"angle\":{\"units\":\"rad\",\"value\":0},\"line_alpha\":{\"value\":0.1},\"line_color\":{\"value\":\"#1f77b4\"},\"line_width\":{\"value\":2},\"x\":{\"value\":11.0},\"y\":{\"value\":1}},\"id\":\"1165\",\"type\":\"Ray\"},{\"attributes\":{\"data_source\":{\"id\":\"1163\",\"type\":\"ColumnDataSource\"},\"glyph\":{\"id\":\"1164\",\"type\":\"Ray\"},\"hover_glyph\":null,\"muted_glyph\":null,\"nonselection_glyph\":{\"id\":\"1165\",\"type\":\"Ray\"},\"selection_glyph\":null,\"view\":{\"id\":\"1167\",\"type\":\"CDSView\"}},\"id\":\"1166\",\"type\":\"GlyphRenderer\"},{\"attributes\":{},\"id\":\"1210\",\"type\":\"UnionRenderers\"},{\"attributes\":{\"active_drag\":\"auto\",\"active_inspect\":\"auto\",\"active_multi\":null,\"active_scroll\":\"auto\",\"active_tap\":\"auto\",\"tools\":[{\"id\":\"1021\",\"type\":\"PanTool\"},{\"id\":\"1022\",\"type\":\"WheelZoomTool\"},{\"id\":\"1023\",\"type\":\"BoxZoomTool\"},{\"id\":\"1024\",\"type\":\"SaveTool\"},{\"id\":\"1025\",\"type\":\"ResetTool\"},{\"id\":\"1026\",\"type\":\"HelpTool\"}]},\"id\":\"1027\",\"type\":\"Toolbar\"},{\"attributes\":{\"source\":{\"id\":\"1163\",\"type\":\"ColumnDataSource\"}},\"id\":\"1167\",\"type\":\"CDSView\"},{\"attributes\":{},\"id\":\"1209\",\"type\":\"Selection\"},{\"attributes\":{},\"id\":\"1186\",\"type\":\"Selection\"}],\"root_ids\":[\"1002\"]},\"title\":\"Bokeh Application\",\"version\":\"1.2.0\"}};\n",
       "  var render_items = [{\"docid\":\"88770883-ca65-4cb1-ab7c-4de7232a41fe\",\"roots\":{\"1002\":\"82461a90-82d9-49e2-a4d4-80f367b3d31a\"}}];\n",
       "  root.Bokeh.embed.embed_items_notebook(docs_json, render_items);\n",
       "\n",
       "  }\n",
       "  if (root.Bokeh !== undefined) {\n",
       "    embed_document(root);\n",
       "  } else {\n",
       "    var attempts = 0;\n",
       "    var timer = setInterval(function(root) {\n",
       "      if (root.Bokeh !== undefined) {\n",
       "        embed_document(root);\n",
       "        clearInterval(timer);\n",
       "      }\n",
       "      attempts++;\n",
       "      if (attempts > 100) {\n",
       "        console.log(\"Bokeh: ERROR: Unable to run BokehJS code because BokehJS library is missing\");\n",
       "        clearInterval(timer);\n",
       "      }\n",
       "    }, 10, root)\n",
       "  }\n",
       "})(window);"
      ],
      "application/vnd.bokehjs_exec.v0+json": ""
     },
     "metadata": {
      "application/vnd.bokehjs_exec.v0+json": {
       "id": "1002"
      }
     },
     "output_type": "display_data"
    }
   ],
   "source": [
    "p = bokeh_catplot.ecdf(\n",
    "    data=df,\n",
    "    cats='year',\n",
    "    val='beak depth (mm)',\n",
    "    formal=True,\n",
    "    conf_int=True\n",
    ")\n",
    "\n",
    "bokeh.io.show(p)"
   ]
  },
  {
   "cell_type": "markdown",
   "metadata": {},
   "source": [
    "There is some overlap in the confidence intervals, especially at the tails, probably because birds with extreme beak depths are rate, but the middle range of the ECDFs have less overlap."
   ]
  },
  {
   "cell_type": "markdown",
   "metadata": {},
   "source": [
    "<br />"
   ]
  },
  {
   "cell_type": "markdown",
   "metadata": {},
   "source": [
    "## Practice 4: Bootstrapping \"theory\" with hacker stats\n",
    "\n",
    "Say we have a data set with $n$ unique measurements. It can be shown that on average a fraction of $(1-1/n)^n$ of the measurements do not appear in a bootstrap sample. Note that for large samples, this is approximately $1/e \\approx 1/2.7$, since\n",
    "\n",
    "\\begin{align}\n",
    "\\lim_{n\\to\\infty} (1-1/n)^n = 1/e.\n",
    "\\end{align}\n",
    "\n",
    "Use hacker stats to show that this is, indeed true. *Hint*: Think about a convenient \"data set\" to use for drawing samples.\n",
    "\n",
    "This is kind of fun; you're investigating some theory behind hacker stats *with hacker stats*!"
   ]
  },
  {
   "cell_type": "markdown",
   "metadata": {},
   "source": [
    "### Solution 4\n",
    "\n",
    "We will generate a data set that is just $n$ consecutive integers. Our statistic from our bootstrap sample is then\n",
    "\n",
    "\\begin{align}\n",
    "\\text{fraction omitted} = 1 - \\frac{\\text{number of unique entries in the bootstrap sample}}{n}.\n",
    "\\end{align}"
   ]
  },
  {
   "cell_type": "code",
   "execution_count": 7,
   "metadata": {},
   "outputs": [],
   "source": [
    "def frac_omitted(data):\n",
    "    return 1 - len(np.unique(data)) / len(data)"
   ]
  },
  {
   "cell_type": "markdown",
   "metadata": {},
   "source": [
    "We will draw a few thousand bootstrap replicates of this for several values of $n$ and make a plot of the mean."
   ]
  },
  {
   "cell_type": "code",
   "execution_count": 8,
   "metadata": {},
   "outputs": [],
   "source": [
    "def mean_frac_omitted(n, n_bs_reps=10000):\n",
    "    data = np.arange(n)\n",
    "    bs_reps = draw_bs_reps(data, func=frac_omitted, size=n_bs_reps)\n",
    "\n",
    "    return np.mean(bs_reps)\n",
    "\n",
    "n = np.unique(np.logspace(0, 3).astype(int))\n",
    "mean_f = np.array([mean_frac_omitted(n_val) for n_val in n])"
   ]
  },
  {
   "cell_type": "markdown",
   "metadata": {},
   "source": [
    "Now that we have the mean fraction omitted for each value of $n$, we can plot it, together with the theoretical curve."
   ]
  },
  {
   "cell_type": "code",
   "execution_count": 9,
   "metadata": {},
   "outputs": [
    {
     "data": {
      "text/html": [
       "\n",
       "\n",
       "\n",
       "\n",
       "\n",
       "\n",
       "  <div class=\"bk-root\" id=\"0cd2584f-3c6d-4d57-b178-ce8b90159e6c\" data-root-id=\"1350\"></div>\n"
      ]
     },
     "metadata": {},
     "output_type": "display_data"
    },
    {
     "data": {
      "application/javascript": [
       "(function(root) {\n",
       "  function embed_document(root) {\n",
       "    \n",
       "  var docs_json = {\"2985b03a-b7c4-4e75-9921-583aee31fe65\":{\"roots\":{\"references\":[{\"attributes\":{\"below\":[{\"id\":\"1359\",\"type\":\"LogAxis\"}],\"center\":[{\"id\":\"1363\",\"type\":\"Grid\"},{\"id\":\"1368\",\"type\":\"Grid\"}],\"left\":[{\"id\":\"1364\",\"type\":\"LinearAxis\"}],\"plot_height\":300,\"plot_width\":400,\"renderers\":[{\"id\":\"1385\",\"type\":\"GlyphRenderer\"},{\"id\":\"1390\",\"type\":\"GlyphRenderer\"},{\"id\":\"1395\",\"type\":\"GlyphRenderer\"}],\"title\":{\"id\":\"1420\",\"type\":\"Title\"},\"toolbar\":{\"id\":\"1375\",\"type\":\"Toolbar\"},\"x_range\":{\"id\":\"1351\",\"type\":\"Range1d\"},\"x_scale\":{\"id\":\"1355\",\"type\":\"LogScale\"},\"y_range\":{\"id\":\"1353\",\"type\":\"DataRange1d\"},\"y_scale\":{\"id\":\"1357\",\"type\":\"LinearScale\"}},\"id\":\"1350\",\"subtype\":\"Figure\",\"type\":\"Plot\"},{\"attributes\":{\"axis_label\":\"n\",\"formatter\":{\"id\":\"1425\",\"type\":\"LogTickFormatter\"},\"ticker\":{\"id\":\"1360\",\"type\":\"LogTicker\"}},\"id\":\"1359\",\"type\":\"LogAxis\"},{\"attributes\":{},\"id\":\"1426\",\"type\":\"Selection\"},{\"attributes\":{},\"id\":\"1427\",\"type\":\"UnionRenderers\"},{\"attributes\":{\"axis_label\":\"mean fraction omitted\",\"formatter\":{\"id\":\"1423\",\"type\":\"BasicTickFormatter\"},\"ticker\":{\"id\":\"1365\",\"type\":\"BasicTicker\"}},\"id\":\"1364\",\"type\":\"LinearAxis\"},{\"attributes\":{\"data_source\":{\"id\":\"1382\",\"type\":\"ColumnDataSource\"},\"glyph\":{\"id\":\"1383\",\"type\":\"Line\"},\"hover_glyph\":null,\"muted_glyph\":null,\"nonselection_glyph\":{\"id\":\"1384\",\"type\":\"Line\"},\"selection_glyph\":null,\"view\":{\"id\":\"1386\",\"type\":\"CDSView\"}},\"id\":\"1385\",\"type\":\"GlyphRenderer\"},{\"attributes\":{\"callback\":null,\"data\":{\"x\":[0.9,1100],\"y\":[0.36787944117144233,0.36787944117144233]},\"selected\":{\"id\":\"1428\",\"type\":\"Selection\"},\"selection_policy\":{\"id\":\"1429\",\"type\":\"UnionRenderers\"}},\"id\":\"1387\",\"type\":\"ColumnDataSource\"},{\"attributes\":{\"callback\":null,\"data\":{\"x\":[1,2,3,4,5,6,7,8,9,10,12,14,16,19,22,25,29,33,39,44,51,59,68,79,91,104,120,138,159,184,212,244,281,323,372,429,494,568,655,754,868,1000],\"y\":{\"__ndarray__\":\"AAAAAAAAAACBlUOLbOfPPwG2qad89dI/QBNhw9Mr1D9UjPM3oRDVP6gQoo8MTNU/bWHZi+bE1T8/NV66SQzWP2PrLI1yQ9Y/a5+OxwxU1j82zTtO0ZHWP5+V9R0AstY/z/dT46Xb1j9hKEUovPjWP/YoXI/C9dY/gnNGlPYG1z+Y4qkUbSnXP82TvLfdKdc/7GYIIJo71z+QfbzO8EfXP7wNxuRpVdc/i7xbZjhM1z9cEgYE2VHXP1s41STAY9c/cC4WQCZq1z9kCY40LGnXP8VafAqAcdc/KasDfkR21z+y2cmjnHXXP1d1hbaxc9c/6J4WvWl21z8dpha/bn/XPy0qHNaxftc/jZhSAX991z8mo0GtLoLXP/n9sFVygtc/DgvaDtyF1z8YFKOMqoPXPwHyLOHzidc/MFhwzWCG1z859OasN4jXP2ElMOdjiNc/\",\"dtype\":\"float64\",\"shape\":[42]}},\"selected\":{\"id\":\"1430\",\"type\":\"Selection\"},\"selection_policy\":{\"id\":\"1431\",\"type\":\"UnionRenderers\"}},\"id\":\"1392\",\"type\":\"ColumnDataSource\"},{\"attributes\":{\"line_color\":\"#1f77b4\",\"line_width\":2,\"x\":{\"field\":\"x\"},\"y\":{\"field\":\"y\"}},\"id\":\"1383\",\"type\":\"Line\"},{\"attributes\":{\"data_source\":{\"id\":\"1392\",\"type\":\"ColumnDataSource\"},\"glyph\":{\"id\":\"1393\",\"type\":\"Circle\"},\"hover_glyph\":null,\"muted_glyph\":null,\"nonselection_glyph\":{\"id\":\"1394\",\"type\":\"Circle\"},\"selection_glyph\":null,\"view\":{\"id\":\"1396\",\"type\":\"CDSView\"}},\"id\":\"1395\",\"type\":\"GlyphRenderer\"},{\"attributes\":{},\"id\":\"1370\",\"type\":\"WheelZoomTool\"},{\"attributes\":{\"line_alpha\":0.1,\"line_color\":\"#1f77b4\",\"line_dash\":[6],\"x\":{\"field\":\"x\"},\"y\":{\"field\":\"y\"}},\"id\":\"1389\",\"type\":\"Line\"},{\"attributes\":{\"dimension\":1,\"ticker\":{\"id\":\"1365\",\"type\":\"BasicTicker\"}},\"id\":\"1368\",\"type\":\"Grid\"},{\"attributes\":{\"fill_color\":{\"value\":\"orange\"},\"line_color\":{\"value\":\"orange\"},\"x\":{\"field\":\"x\"},\"y\":{\"field\":\"y\"}},\"id\":\"1393\",\"type\":\"Circle\"},{\"attributes\":{\"text\":\"\"},\"id\":\"1420\",\"type\":\"Title\"},{\"attributes\":{},\"id\":\"1369\",\"type\":\"PanTool\"},{\"attributes\":{\"line_color\":\"gray\",\"line_dash\":[6],\"x\":{\"field\":\"x\"},\"y\":{\"field\":\"y\"}},\"id\":\"1388\",\"type\":\"Line\"},{\"attributes\":{},\"id\":\"1431\",\"type\":\"UnionRenderers\"},{\"attributes\":{},\"id\":\"1373\",\"type\":\"ResetTool\"},{\"attributes\":{\"data_source\":{\"id\":\"1387\",\"type\":\"ColumnDataSource\"},\"glyph\":{\"id\":\"1388\",\"type\":\"Line\"},\"hover_glyph\":null,\"muted_glyph\":null,\"nonselection_glyph\":{\"id\":\"1389\",\"type\":\"Line\"},\"selection_glyph\":null,\"view\":{\"id\":\"1391\",\"type\":\"CDSView\"}},\"id\":\"1390\",\"type\":\"GlyphRenderer\"},{\"attributes\":{\"overlay\":{\"id\":\"1432\",\"type\":\"BoxAnnotation\"}},\"id\":\"1371\",\"type\":\"BoxZoomTool\"},{\"attributes\":{},\"id\":\"1423\",\"type\":\"BasicTickFormatter\"},{\"attributes\":{\"bottom_units\":\"screen\",\"fill_alpha\":{\"value\":0.5},\"fill_color\":{\"value\":\"lightgrey\"},\"left_units\":\"screen\",\"level\":\"overlay\",\"line_alpha\":{\"value\":1.0},\"line_color\":{\"value\":\"black\"},\"line_dash\":[4,4],\"line_width\":{\"value\":2},\"render_mode\":\"css\",\"right_units\":\"screen\",\"top_units\":\"screen\"},\"id\":\"1432\",\"type\":\"BoxAnnotation\"},{\"attributes\":{\"source\":{\"id\":\"1387\",\"type\":\"ColumnDataSource\"}},\"id\":\"1391\",\"type\":\"CDSView\"},{\"attributes\":{},\"id\":\"1429\",\"type\":\"UnionRenderers\"},{\"attributes\":{},\"id\":\"1372\",\"type\":\"SaveTool\"},{\"attributes\":{},\"id\":\"1430\",\"type\":\"Selection\"},{\"attributes\":{},\"id\":\"1357\",\"type\":\"LinearScale\"},{\"attributes\":{\"fill_alpha\":{\"value\":0.1},\"fill_color\":{\"value\":\"#1f77b4\"},\"line_alpha\":{\"value\":0.1},\"line_color\":{\"value\":\"#1f77b4\"},\"x\":{\"field\":\"x\"},\"y\":{\"field\":\"y\"}},\"id\":\"1394\",\"type\":\"Circle\"},{\"attributes\":{\"active_drag\":\"auto\",\"active_inspect\":\"auto\",\"active_multi\":null,\"active_scroll\":\"auto\",\"active_tap\":\"auto\",\"tools\":[{\"id\":\"1369\",\"type\":\"PanTool\"},{\"id\":\"1370\",\"type\":\"WheelZoomTool\"},{\"id\":\"1371\",\"type\":\"BoxZoomTool\"},{\"id\":\"1372\",\"type\":\"SaveTool\"},{\"id\":\"1373\",\"type\":\"ResetTool\"},{\"id\":\"1374\",\"type\":\"HelpTool\"}]},\"id\":\"1375\",\"type\":\"Toolbar\"},{\"attributes\":{},\"id\":\"1355\",\"type\":\"LogScale\"},{\"attributes\":{\"source\":{\"id\":\"1392\",\"type\":\"ColumnDataSource\"}},\"id\":\"1396\",\"type\":\"CDSView\"},{\"attributes\":{\"callback\":null,\"end\":1100,\"start\":0.9},\"id\":\"1351\",\"type\":\"Range1d\"},{\"attributes\":{},\"id\":\"1374\",\"type\":\"HelpTool\"},{\"attributes\":{\"callback\":null,\"data\":{\"x\":{\"__ndarray__\":\"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\",\"dtype\":\"float64\",\"shape\":[400]},\"y\":{\"__ndarray__\":\"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\",\"dtype\":\"float64\",\"shape\":[400]}},\"selected\":{\"id\":\"1426\",\"type\":\"Selection\"},\"selection_policy\":{\"id\":\"1427\",\"type\":\"UnionRenderers\"}},\"id\":\"1382\",\"type\":\"ColumnDataSource\"},{\"attributes\":{\"line_alpha\":0.1,\"line_color\":\"#1f77b4\",\"line_width\":2,\"x\":{\"field\":\"x\"},\"y\":{\"field\":\"y\"}},\"id\":\"1384\",\"type\":\"Line\"},{\"attributes\":{\"ticker\":null},\"id\":\"1425\",\"type\":\"LogTickFormatter\"},{\"attributes\":{\"num_minor_ticks\":10},\"id\":\"1360\",\"type\":\"LogTicker\"},{\"attributes\":{\"ticker\":{\"id\":\"1360\",\"type\":\"LogTicker\"}},\"id\":\"1363\",\"type\":\"Grid\"},{\"attributes\":{\"source\":{\"id\":\"1382\",\"type\":\"ColumnDataSource\"}},\"id\":\"1386\",\"type\":\"CDSView\"},{\"attributes\":{},\"id\":\"1428\",\"type\":\"Selection\"},{\"attributes\":{},\"id\":\"1365\",\"type\":\"BasicTicker\"},{\"attributes\":{\"callback\":null},\"id\":\"1353\",\"type\":\"DataRange1d\"}],\"root_ids\":[\"1350\"]},\"title\":\"Bokeh Application\",\"version\":\"1.2.0\"}};\n",
       "  var render_items = [{\"docid\":\"2985b03a-b7c4-4e75-9921-583aee31fe65\",\"roots\":{\"1350\":\"0cd2584f-3c6d-4d57-b178-ce8b90159e6c\"}}];\n",
       "  root.Bokeh.embed.embed_items_notebook(docs_json, render_items);\n",
       "\n",
       "  }\n",
       "  if (root.Bokeh !== undefined) {\n",
       "    embed_document(root);\n",
       "  } else {\n",
       "    var attempts = 0;\n",
       "    var timer = setInterval(function(root) {\n",
       "      if (root.Bokeh !== undefined) {\n",
       "        embed_document(root);\n",
       "        clearInterval(timer);\n",
       "      }\n",
       "      attempts++;\n",
       "      if (attempts > 100) {\n",
       "        console.log(\"Bokeh: ERROR: Unable to run BokehJS code because BokehJS library is missing\");\n",
       "        clearInterval(timer);\n",
       "      }\n",
       "    }, 10, root)\n",
       "  }\n",
       "})(window);"
      ],
      "application/vnd.bokehjs_exec.v0+json": ""
     },
     "metadata": {
      "application/vnd.bokehjs_exec.v0+json": {
       "id": "1350"
      }
     },
     "output_type": "display_data"
    }
   ],
   "source": [
    "# Compute theoretical curve\n",
    "n_theor = np.logspace(0, 3, 400)\n",
    "mean_f_theor = (1 - 1/n_theor)**n_theor\n",
    "\n",
    "# Set up figure\n",
    "p = bokeh.plotting.figure(\n",
    "    height=300,\n",
    "    width=400,\n",
    "    x_axis_label='n',\n",
    "    y_axis_label='mean fraction omitted',\n",
    "    x_axis_type='log',\n",
    "    x_range=[0.9, 1100],\n",
    ")\n",
    "\n",
    "# Theoretical curve\n",
    "p.line(\n",
    "    x=n_theor,\n",
    "    y=mean_f_theor,\n",
    "    line_width=2\n",
    ")\n",
    "\n",
    "# Asymptotic result\n",
    "p.line(\n",
    "    x=[0.9, 1100],\n",
    "    y=[1/np.exp(1)]*2,\n",
    "    line_dash='dashed',\n",
    "    line_color='gray',\n",
    ")\n",
    "\n",
    "# Result from hacker stats\n",
    "p.circle(\n",
    "    x=n,\n",
    "    y=mean_f,\n",
    "    color='orange'\n",
    ")\n",
    "\n",
    "bokeh.io.show(p)"
   ]
  },
  {
   "cell_type": "markdown",
   "metadata": {},
   "source": [
    "The result close matches theory!"
   ]
  },
  {
   "cell_type": "markdown",
   "metadata": {},
   "source": [
    "## Computing environment"
   ]
  },
  {
   "cell_type": "code",
   "execution_count": 10,
   "metadata": {},
   "outputs": [
    {
     "name": "stdout",
     "output_type": "stream",
     "text": [
      "CPython 3.7.3\n",
      "IPython 7.1.1\n",
      "\n",
      "numpy 1.16.4\n",
      "pandas 0.24.2\n",
      "bokeh 1.2.0\n",
      "bokeh_catplot 0.1.2\n",
      "jupyterlab 0.35.5\n"
     ]
    }
   ],
   "source": [
    "%load_ext watermark\n",
    "%watermark -v -p numpy,pandas,bokeh,bokeh_catplot,jupyterlab"
   ]
  }
 ],
 "metadata": {
  "anaconda-cloud": {},
  "kernelspec": {
   "display_name": "Python 3",
   "language": "python",
   "name": "python3"
  },
  "language_info": {
   "codemirror_mode": {
    "name": "ipython",
    "version": 3
   },
   "file_extension": ".py",
   "mimetype": "text/x-python",
   "name": "python",
   "nbconvert_exporter": "python",
   "pygments_lexer": "ipython3",
   "version": "3.7.3"
  }
 },
 "nbformat": 4,
 "nbformat_minor": 2
}
