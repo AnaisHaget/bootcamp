{
 "cells": [
  {
   "cell_type": "markdown",
   "metadata": {},
   "source": [
    "# Exercise 8.1: GitHub exercises\n",
    "\n",
    "<hr>"
   ]
  },
  {
   "cell_type": "markdown",
   "metadata": {},
   "source": [
    "GitHub repositories are great for organizing and sharing projects. In this exercise, you will play around with GitHub to see how you might do this for your research or classwork."
   ]
  },
  {
   "cell_type": "markdown",
   "metadata": {},
   "source": [
    "**a) Using a template for your repository:**  One way to create a new repository is using someone else's as a template. [Griffin Chure](https://gchure.github.io/), a former Caltech graduate student, put together a skeleton repository called `reproducible_research` that can be used to organize scientific research projects. \n",
    "* Navigate to Griffin's template on your browser with [this link](https://github.com/gchure/reproducible_research). Click **\"Use this template\"** to create your new repository, give it a useful name (e.g. `2021_fsri_project`), and then clone it to your local machine.\n",
    "* Read the documentation or `ls` around to explore the organization of this repository. Consider how you might use it to organize your FSRI project.\n",
    "* Practice adding some analysis scripts. Copy `experiment_A_processing.py` (or create your own `.py` or `.ipynb` file!) into the `~/code` directory. Add and commit your changes.\n",
    "* While you probably want data on your local machine, you do not want to version control these files over git. Create and update a `.gitignore` file to either ignore everything in `~/data` or file extensions that are specific to your data files (e.g. `*.csv`). Be sure to also commit your changes to the `.gitignore` file!"
   ]
  },
  {
   "cell_type": "markdown",
   "metadata": {},
   "source": [
    "**b) Creating your own repository:** Many students use GitHub repositories to organize and share their work for a course.\n",
    "* Explore various public repositories made by Caltech students ([example](https://github.com/zhiyanfoo/caltech-machine-learning), [example](https://github.com/cgoecknerwald/CS156a), [example](https://github.com/santiaago/caltech.ml), [example](https://github.com/roessland/learning-from-data)). These are not selected for any particular reason, except that they are early hits on Google. Explore what information they include and how it is organized (e.g. file structure, information on landing page, what kinds of files). What might you imitate or change?\n",
    "* Create a repository to organize your work for the bootcamp, as if it were a course. Clone a version locally. You can edit the landing page, create a file strcture, and add some files. Commit any changes you make.\n",
    "* Ask someone else in the bootcamp to clone your repository. (You can make your repo available to them by making it public or adding them as a collaborator.) Have them add and commit some changes. Use `git pull` to then pull those changes."
   ]
  },
  {
   "cell_type": "markdown",
   "metadata": {},
   "source": [
    "**c) Making git easier to use in command line:** Using your command line skills, set up aliases for any commonly used Git commands. (For example, in my `~/.zshrc` file, I have aliased `git push origin main` as `gpom`. I also use `gtgit` to `cd` to the directory with all my GitHub repositories.)"
   ]
  },
  {
   "cell_type": "markdown",
   "metadata": {},
   "source": [
    "<br />"
   ]
  }
 ],
 "metadata": {
  "anaconda-cloud": {},
  "kernelspec": {
   "display_name": "Python 3",
   "language": "python",
   "name": "python3"
  },
  "language_info": {
   "codemirror_mode": {
    "name": "ipython",
    "version": 3
   },
   "file_extension": ".py",
   "mimetype": "text/x-python",
   "name": "python",
   "nbconvert_exporter": "python",
   "pygments_lexer": "ipython3",
   "version": "3.8.10"
  }
 },
 "nbformat": 4,
 "nbformat_minor": 4
}
