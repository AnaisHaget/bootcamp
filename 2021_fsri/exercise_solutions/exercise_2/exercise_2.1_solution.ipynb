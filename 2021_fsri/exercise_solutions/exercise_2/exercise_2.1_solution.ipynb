{
 "cells": [
  {
   "cell_type": "markdown",
   "metadata": {},
   "source": [
    "# Exercise 2.1: The Twelve Days of Christmas\n",
    "\n",
    "<hr>\n",
    "\n",
    "[The Twelve Days of Christmas](https://en.wikipedia.org/wiki/The_Twelve_Days_of_Christmas_(song)) is an 18th century English song traditionally sung during the Christmas holiday. In the song, the singer's true love gives gifts each day. Here are the gifts on the first three days:\n",
    "\n",
    "- Day 1: A partridge in a pear tree.\n",
    "- Day 2: Two turtle doves and a partridge in a pear tree.\n",
    "- Day 3: Three French hens, two turtle doves, and a partridge in a pear tree.\n",
    "\n",
    "The first day features one gift, the second three, and the third six. The fourth has ten, and so on. This extravagant giving continues for twelve days.\n",
    "\n",
    "**a)** Write code to compute the total number of gifts given in the `n` days of Christmas. Do this using two `for` loops. Give your result for `n = 12` and for `n = 365`.\n",
    "\n",
    "**b)** It can be shown that \n",
    "\n",
    "\\begin{align}\n",
    "\\sum_{i = 1}^m i = \\frac{m(m+1)}{2}.\n",
    "\\end{align}\n",
    "\n",
    "Use this fact to do the calculation with a single `for` loop. If you feel like it, prove the above relation (not a coding but fun).\n",
    "\n",
    "**c)** While we're having non-coding fun, derive an expression for the total number of gifts given in `n` days of Christmas. (This is substantially harder than part (b) and you are not expected to do this; it's just a fun challenge. As a hint, you may find it useful to consider the expansion of $(m - 1)^3$.)"
   ]
  },
  {
   "cell_type": "markdown",
   "metadata": {},
   "source": [
    "<br />"
   ]
  },
  {
   "cell_type": "markdown",
   "metadata": {},
   "source": [
    "## Solution\n",
    "\n",
    "<hr>\n",
    "\n",
    "**a)**"
   ]
  },
  {
   "cell_type": "code",
   "execution_count": 1,
   "metadata": {},
   "outputs": [
    {
     "name": "stdout",
     "output_type": "stream",
     "text": [
      "364\n"
     ]
    }
   ],
   "source": [
    "n = 12\n",
    "\n",
    "total_gifts = 0\n",
    "for day in range(1, n+1):\n",
    "    for n_gifts in range(1, day+1):\n",
    "        total_gifts += n_gifts\n",
    "\n",
    "print(total_gifts)"
   ]
  },
  {
   "cell_type": "markdown",
   "metadata": {},
   "source": [
    "When we switch `n` to 365, we get 8,171,255 total gifts. Whew!"
   ]
  },
  {
   "cell_type": "markdown",
   "metadata": {},
   "source": [
    "**b)** Day $m$ features $\\sum_{i=1}^m i$ gifts. That is, day $m$ features the sum of the first $m$ integers gifts. This sum can be evaluated to be\n",
    "\n",
    "\\begin{align}\n",
    "\\sum_{i = 1}^m i = \\frac{m(m+1)}{2}.\n",
    "\\end{align}\n",
    "\n",
    "You can prove this by induction. The above relation is true for $m = 1$. Assume it is true for $m$. Let $p = m + 1$. Then,\n",
    "\n",
    "\\begin{align}\n",
    "\\sum_{i = 1}^p i = \\sum_{i = 1}^{m+1} i = m+1 + \\sum_{i = 1}^m i = m + 1+ \\frac{m(m+1)}{2} = \\frac{m^2 + 3m +2}{2} = \\frac{(m+1)(m+2)}{2} = \\frac{p(p+1)}{2}.\n",
    "\\end{align}\n",
    "\n",
    "It is thus proven.\n",
    "\n",
    "We can use this result in our code.\n"
   ]
  },
  {
   "cell_type": "code",
   "execution_count": 2,
   "metadata": {},
   "outputs": [
    {
     "name": "stdout",
     "output_type": "stream",
     "text": [
      "Total number of gifts: 364\n"
     ]
    }
   ],
   "source": [
    "n = 12\n",
    "\n",
    "total_gifts = 0\n",
    "for day in range(1, n+1):\n",
    "    total_gifts += day * (day + 1) // 2\n",
    "\n",
    "print(\"Total number of gifts:\", total_gifts)"
   ]
  },
  {
   "cell_type": "markdown",
   "metadata": {},
   "source": [
    "Yep, same result!"
   ]
  },
  {
   "cell_type": "markdown",
   "metadata": {},
   "source": [
    "**c)** We already established that day $m$ features $m(m+1)/2$ gifts. Then, the total number of gifts is\n",
    "\n",
    "\\begin{align}\n",
    "\\sum_{m = 1}^n \\frac{m(m+1)}{2} = \\frac{1}{2}\\left(\\sum_{m = 1}^n m^2 + \\sum_{m=1}^n m\\right).\n",
    "\\end{align}\n",
    "\n",
    "We have already evaluated the second sum to be $n(n+1)/2$. So, we are left to evaluate\n",
    "\n",
    "\\begin{align}\n",
    "\\sum_{m = 1}^n m^2.\n",
    "\\end{align}\n",
    "\n",
    "A clever way of approaching this problem is to consider the expansion of $(m-1)^3$.\n",
    "\n",
    "\\begin{align}\n",
    "(m - 1)^3 = m^3 - 3m^2 + 3m - 1.\n",
    "\\end{align}\n",
    "\n",
    "We can rearrange this to get\n",
    "\n",
    "\\begin{align}\n",
    "m^3 - (m-1)^3 = 3m^2 - 3m + 1.\n",
    "\\end{align}\n",
    "\n",
    "Now, we will sum both sides to $n$.\n",
    "\n",
    "\\begin{align}\n",
    "\\sum_{m=1}^n \\left(m^3 - (m-1)^3\\right) &= \\sum_{m=1}^n \\left(3m^2 - 3m + 1\\right) \\\\[1em]\n",
    "&= 3\\sum_{m=1}^n m^2 - 3\\sum_{m=1}^n m + n \\\\[1em]\n",
    "&= 3\\sum_{m=1}^n m^2 - \\frac{3n(n+1)}{2} + n \\\\[1em]\n",
    "&= 3\\sum_{m=1}^n m^2 - \\frac{3n^2 + n}{2}.\n",
    "\\end{align}\n",
    "\n",
    "We have again used our result that the sum of the first $n$ integers is $n(n+1)/2$. Now, consider the expression on the far left hand side. As that sum is evaluated, each term that is added cancels the term before it. This can be seen by writing it out.\n",
    "\n",
    "\\begin{align}\n",
    "\\sum_{m=1}^n \\left(m^3 - (m-1)^3\\right) = (1 - 0) + (8 - 1) + (27 - 8) + (81 - 27) + \\ldots.\n",
    "\\end{align}\n",
    "\n",
    "In the end, we are left the $n^3$. So, we have\n",
    "\n",
    "\\begin{align}\n",
    "n^3 = 3\\sum_{m=1}^n m^2 - \\frac{3n^2 + n}{2}.\n",
    "\\end{align}\n",
    "\n",
    "Thus,\n",
    "\n",
    "\\begin{align}\n",
    "\\sum_{m=1}^n m^2 = \\frac{n^3}{3} + \\frac{n^2}{2} + \\frac{n}{6} = \\frac{n(n+1)(2n+1)}{6}.\n",
    "\\end{align}\n",
    "\n",
    "So, the total number of gifts is\n",
    "\n",
    "\\begin{align}\n",
    "\\sum_{m = 1}^n \\frac{m(m+1)}{2} = \\frac{1}{2}\\left(\\sum_{m = 1}^n m^2 + \\sum_{m=1}^n m\\right)= \\frac{1}{2}\\left(\\frac{n(n+1)(2n+1)}{6} + \\frac{n(n+1)}{2}\\right) = \\frac{n(n+1)(n+2)}{6}.\n",
    "\\end{align}"
   ]
  },
  {
   "cell_type": "markdown",
   "metadata": {},
   "source": [
    "## Computing environment"
   ]
  },
  {
   "cell_type": "code",
   "execution_count": 3,
   "metadata": {},
   "outputs": [
    {
     "name": "stdout",
     "output_type": "stream",
     "text": [
      "CPython 3.7.7\n",
      "IPython 7.16.1\n",
      "\n",
      "jupyterlab 2.1.5\n"
     ]
    }
   ],
   "source": [
    "%load_ext watermark\n",
    "%watermark -v -p jupyterlab"
   ]
  }
 ],
 "metadata": {
  "kernelspec": {
   "display_name": "Python 3",
   "language": "python",
   "name": "python3"
  },
  "language_info": {
   "codemirror_mode": {
    "name": "ipython",
    "version": 3
   },
   "file_extension": ".py",
   "mimetype": "text/x-python",
   "name": "python",
   "nbconvert_exporter": "python",
   "pygments_lexer": "ipython3",
   "version": "3.7.7"
  }
 },
 "nbformat": 4,
 "nbformat_minor": 4
}
