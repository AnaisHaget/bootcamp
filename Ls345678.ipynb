{
 "cells": [
  {
   "cell_type": "markdown",
   "id": "c42dac66-f15c-4942-bd1c-25ba2909e352",
   "metadata": {},
   "source": [
    "# Variables and types"
   ]
  },
  {
   "cell_type": "code",
   "execution_count": null,
   "id": "5b772ff5-edc9-47b2-a777-94d09a037471",
   "metadata": {},
   "outputs": [],
   "source": [
    "type(2)"
   ]
  },
  {
   "cell_type": "code",
   "execution_count": 2,
   "id": "c4db86ad-2444-485b-9f96-ec19eb9e63a3",
   "metadata": {},
   "outputs": [
    {
     "data": {
      "text/plain": [
       "float"
      ]
     },
     "execution_count": 2,
     "metadata": {},
     "output_type": "execute_result"
    }
   ],
   "source": [
    "type(2.3)"
   ]
  },
  {
   "cell_type": "code",
   "execution_count": 3,
   "id": "9a56f079-8663-49a6-a242-0258ef0a9a01",
   "metadata": {},
   "outputs": [
    {
     "data": {
      "text/plain": [
       "str"
      ]
     },
     "execution_count": 3,
     "metadata": {},
     "output_type": "execute_result"
    }
   ],
   "source": [
    "type('Hello, world.')"
   ]
  },
  {
   "cell_type": "code",
   "execution_count": 4,
   "id": "bf97ee59-c273-4d05-b6f9-19878de46de1",
   "metadata": {},
   "outputs": [
    {
     "data": {
      "text/plain": [
       "float"
      ]
     },
     "execution_count": 4,
     "metadata": {},
     "output_type": "execute_result"
    }
   ],
   "source": [
    "type(4.5e-7)"
   ]
  },
  {
   "cell_type": "code",
   "execution_count": 5,
   "id": "c06a3096-fb95-4c50-af6a-c27a6d0d896e",
   "metadata": {},
   "outputs": [
    {
     "data": {
      "text/plain": [
       "10000000"
      ]
     },
     "execution_count": 5,
     "metadata": {},
     "output_type": "execute_result"
    }
   ],
   "source": [
    "1000000000"
   ]
  },
  {
   "cell_type": "code",
   "execution_count": 8,
   "id": "c13c8516-6b05-4fef-86a3-a20ddef366fe",
   "metadata": {},
   "outputs": [
    {
     "data": {
      "text/plain": [
       "1000000000"
      ]
     },
     "execution_count": 8,
     "metadata": {},
     "output_type": "execute_result"
    }
   ],
   "source": [
    "1_000_000_000 # Easier way to read for the human eye"
   ]
  },
  {
   "cell_type": "code",
   "execution_count": 7,
   "id": "38a66850-b7c8-4e74-b6b8-0fc1a67c4fc6",
   "metadata": {},
   "outputs": [
    {
     "data": {
      "text/plain": [
       "int"
      ]
     },
     "execution_count": 7,
     "metadata": {},
     "output_type": "execute_result"
    }
   ],
   "source": [
    "type(1_000_000_000)"
   ]
  },
  {
   "cell_type": "code",
   "execution_count": 9,
   "id": "0d99e640-99cd-47bf-96bf-b89dea0897f2",
   "metadata": {},
   "outputs": [
    {
     "data": {
      "text/plain": [
       "'Hello'"
      ]
     },
     "execution_count": 9,
     "metadata": {},
     "output_type": "execute_result"
    }
   ],
   "source": [
    "'Hello'"
   ]
  },
  {
   "cell_type": "code",
   "execution_count": 10,
   "id": "27d30d15-acf5-44b3-b8ea-9593d39ef464",
   "metadata": {},
   "outputs": [
    {
     "data": {
      "text/plain": [
       "'Hello'"
      ]
     },
     "execution_count": 10,
     "metadata": {},
     "output_type": "execute_result"
    }
   ],
   "source": [
    "\"Hello\""
   ]
  },
  {
   "cell_type": "code",
   "execution_count": 11,
   "id": "abd96b91-04a4-49d3-a4e8-f83df1e3eb29",
   "metadata": {},
   "outputs": [
    {
     "data": {
      "text/plain": [
       "'Hello'"
      ]
     },
     "execution_count": 11,
     "metadata": {},
     "output_type": "execute_result"
    }
   ],
   "source": [
    "'''Hello'''"
   ]
  },
  {
   "cell_type": "code",
   "execution_count": 15,
   "id": "5042b543-4924-420d-bf04-577b72d5278b",
   "metadata": {},
   "outputs": [
    {
     "data": {
      "text/plain": [
       "\"with the lights out, \\nit's less dangerous.\""
      ]
     },
     "execution_count": 15,
     "metadata": {},
     "output_type": "execute_result"
    }
   ],
   "source": [
    "\"\"\"with the lights out, \n",
    "it's less dangerous.\"\"\" # Cf. nice to have all these different methods for example to take into account appostrophy."
   ]
  },
  {
   "cell_type": "code",
   "execution_count": 16,
   "id": "86549e13-9cac-4d3c-9195-93dbe4e97263",
   "metadata": {},
   "outputs": [
    {
     "name": "stdout",
     "output_type": "stream",
     "text": [
      "with the lights out, \n",
      "it's less dangerous.\n"
     ]
    }
   ],
   "source": [
    "# \\n means newline\n",
    "print(\"\"\"with the lights out, \n",
    "it's less dangerous.\"\"\" )"
   ]
  },
  {
   "cell_type": "code",
   "execution_count": 17,
   "id": "90902e08-460c-4306-bc8c-b1961124abf5",
   "metadata": {},
   "outputs": [
    {
     "ename": "SyntaxError",
     "evalue": "EOL while scanning string literal (1107562495.py, line 1)",
     "output_type": "error",
     "traceback": [
      "\u001b[0;36m  Input \u001b[0;32mIn [17]\u001b[0;36m\u001b[0m\n\u001b[0;31m    print(\"with the lights out,\u001b[0m\n\u001b[0m                                ^\u001b[0m\n\u001b[0;31mSyntaxError\u001b[0m\u001b[0;31m:\u001b[0m EOL while scanning string literal\n"
     ]
    }
   ],
   "source": [
    "print(\"with the lights out, \n",
    "it's less dangerous.\" )"
   ]
  },
  {
   "cell_type": "markdown",
   "id": "78964f88-87a2-4e08-b008-5e876ca572c2",
   "metadata": {},
   "source": [
    "Move to operator"
   ]
  },
  {
   "cell_type": "code",
   "execution_count": 19,
   "id": "08ba5143-973b-4465-aa6c-9cb039809dc8",
   "metadata": {},
   "outputs": [
    {
     "data": {
      "text/plain": [
       "5"
      ]
     },
     "execution_count": 19,
     "metadata": {},
     "output_type": "execute_result"
    }
   ],
   "source": [
    "2 + 3"
   ]
  },
  {
   "cell_type": "code",
   "execution_count": 20,
   "id": "0d1f1fde-e85a-4b35-bc63-9d63ca09b6cb",
   "metadata": {},
   "outputs": [
    {
     "data": {
      "text/plain": [
       "-1"
      ]
     },
     "execution_count": 20,
     "metadata": {},
     "output_type": "execute_result"
    }
   ],
   "source": [
    "2 - 3"
   ]
  },
  {
   "cell_type": "code",
   "execution_count": 21,
   "id": "b4cd88ca-2b40-4bfd-822d-d07b53a587e7",
   "metadata": {},
   "outputs": [
    {
     "data": {
      "text/plain": [
       "6"
      ]
     },
     "execution_count": 21,
     "metadata": {},
     "output_type": "execute_result"
    }
   ],
   "source": [
    "2 * 3"
   ]
  },
  {
   "cell_type": "code",
   "execution_count": 22,
   "id": "7a18da58-ca11-4a60-813c-db469224220c",
   "metadata": {},
   "outputs": [
    {
     "data": {
      "text/plain": [
       "0.6666666666666666"
      ]
     },
     "execution_count": 22,
     "metadata": {},
     "output_type": "execute_result"
    }
   ],
   "source": [
    "2/3"
   ]
  },
  {
   "cell_type": "code",
   "execution_count": 23,
   "id": "d558ddf8-f80e-4194-8416-75d1f546287c",
   "metadata": {},
   "outputs": [
    {
     "data": {
      "text/plain": [
       "int"
      ]
     },
     "execution_count": 23,
     "metadata": {},
     "output_type": "execute_result"
    }
   ],
   "source": [
    "type(2*3)"
   ]
  },
  {
   "cell_type": "code",
   "execution_count": 25,
   "id": "5fa41914-f044-4f6a-8479-1355122c67fe",
   "metadata": {},
   "outputs": [
    {
     "data": {
      "text/plain": [
       "float"
      ]
     },
     "execution_count": 25,
     "metadata": {},
     "output_type": "execute_result"
    }
   ],
   "source": [
    "type(2/3) # Gives back type that makes sense."
   ]
  },
  {
   "cell_type": "code",
   "execution_count": 27,
   "id": "b45a5e65-2a94-49c7-a3ec-0024c9dcf6d8",
   "metadata": {},
   "outputs": [
    {
     "data": {
      "text/plain": [
       "194"
      ]
     },
     "execution_count": 27,
     "metadata": {},
     "output_type": "execute_result"
    }
   ],
   "source": [
    "10^200 # cf. XOR operator, do not raise to power"
   ]
  },
  {
   "cell_type": "code",
   "execution_count": 28,
   "id": "b7cf2d42-19a7-4a49-8245-5f0410990f83",
   "metadata": {},
   "outputs": [
    {
     "data": {
      "text/plain": [
       "8"
      ]
     },
     "execution_count": 28,
     "metadata": {},
     "output_type": "execute_result"
    }
   ],
   "source": [
    "2 ** 3"
   ]
  },
  {
   "cell_type": "code",
   "execution_count": 29,
   "id": "12331d55-2287-40be-976a-3e9b2abd993a",
   "metadata": {},
   "outputs": [
    {
     "data": {
      "text/plain": [
       "0"
      ]
     },
     "execution_count": 29,
     "metadata": {},
     "output_type": "execute_result"
    }
   ],
   "source": [
    "2 // 3"
   ]
  },
  {
   "cell_type": "code",
   "execution_count": 38,
   "id": "a675b74b-0588-495f-ad03-28c8e3c3cce8",
   "metadata": {},
   "outputs": [
    {
     "data": {
      "text/plain": [
       "2"
      ]
     },
     "execution_count": 38,
     "metadata": {},
     "output_type": "execute_result"
    }
   ],
   "source": [
    "2 % 3 # modulo"
   ]
  },
  {
   "cell_type": "code",
   "execution_count": 34,
   "id": "1a5d1129-eadc-48bd-ab3b-1abfd84bafba",
   "metadata": {},
   "outputs": [
    {
     "data": {
      "text/plain": [
       "5.300000000000001"
      ]
     },
     "execution_count": 34,
     "metadata": {},
     "output_type": "execute_result"
    }
   ],
   "source": [
    "2.1 + 3.2 # Floating point errors ! Cannot store float to exact values. Final precision."
   ]
  },
  {
   "cell_type": "code",
   "execution_count": 35,
   "id": "280f7012-5686-4746-8ece-d9536f193d82",
   "metadata": {},
   "outputs": [
    {
     "data": {
      "text/plain": [
       "-8.881784197001252e-16"
      ]
     },
     "execution_count": 35,
     "metadata": {},
     "output_type": "execute_result"
    }
   ],
   "source": [
    "5.3 - (2.1 + 3.2)"
   ]
  },
  {
   "cell_type": "code",
   "execution_count": 36,
   "id": "75eee4a2-aeab-4557-8d4e-678734412f1d",
   "metadata": {},
   "outputs": [
    {
     "data": {
      "text/plain": [
       "5.2"
      ]
     },
     "execution_count": 36,
     "metadata": {},
     "output_type": "execute_result"
    }
   ],
   "source": [
    "2.1 + 3.1"
   ]
  },
  {
   "cell_type": "code",
   "execution_count": 39,
   "id": "58709b69-29dc-4bb7-bcc4-98b67163ab59",
   "metadata": {},
   "outputs": [
    {
     "data": {
      "text/plain": [
       "2.1"
      ]
     },
     "execution_count": 39,
     "metadata": {},
     "output_type": "execute_result"
    }
   ],
   "source": [
    "2.1 % 3"
   ]
  },
  {
   "cell_type": "code",
   "execution_count": 40,
   "id": "993aa015-c478-4d65-a4ae-95c01fdf8a22",
   "metadata": {},
   "outputs": [
    {
     "data": {
      "text/plain": [
       "9.261000000000001"
      ]
     },
     "execution_count": 40,
     "metadata": {},
     "output_type": "execute_result"
    }
   ],
   "source": [
    "2.1 ** 3"
   ]
  },
  {
   "cell_type": "code",
   "execution_count": 41,
   "id": "8c30411f-6bd5-4893-9d58-f0a892f4a476",
   "metadata": {},
   "outputs": [
    {
     "data": {
      "text/plain": [
       "'Hello, world'"
      ]
     },
     "execution_count": 41,
     "metadata": {},
     "output_type": "execute_result"
    }
   ],
   "source": [
    "'Hello, ' + 'world' # Concatenation"
   ]
  },
  {
   "cell_type": "code",
   "execution_count": 42,
   "id": "cc70a6e3-2e7c-499e-958e-7257a310e9fc",
   "metadata": {},
   "outputs": [
    {
     "ename": "TypeError",
     "evalue": "unsupported operand type(s) for -: 'str' and 'str'",
     "output_type": "error",
     "traceback": [
      "\u001b[0;31m---------------------------------------------------------------------------\u001b[0m",
      "\u001b[0;31mTypeError\u001b[0m                                 Traceback (most recent call last)",
      "Input \u001b[0;32mIn [42]\u001b[0m, in \u001b[0;36m<cell line: 1>\u001b[0;34m()\u001b[0m\n\u001b[0;32m----> 1\u001b[0m \u001b[38;5;124;43m'\u001b[39;49m\u001b[38;5;124;43mHello, \u001b[39;49m\u001b[38;5;124;43m'\u001b[39;49m\u001b[43m \u001b[49m\u001b[38;5;241;43m-\u001b[39;49m\u001b[43m \u001b[49m\u001b[38;5;124;43m'\u001b[39;49m\u001b[38;5;124;43mworld\u001b[39;49m\u001b[38;5;124;43m'\u001b[39;49m\n",
      "\u001b[0;31mTypeError\u001b[0m: unsupported operand type(s) for -: 'str' and 'str'"
     ]
    }
   ],
   "source": [
    "'Hello, ' - 'world' # Does not make sense"
   ]
  },
  {
   "cell_type": "code",
   "execution_count": 43,
   "id": "2c983c64-ebad-4ad5-900b-e5014c64a70d",
   "metadata": {},
   "outputs": [
    {
     "data": {
      "text/plain": [
       "'Hello, worldHello, worldHello, world'"
      ]
     },
     "execution_count": 43,
     "metadata": {},
     "output_type": "execute_result"
    }
   ],
   "source": [
    "'Hello, world' * 3"
   ]
  },
  {
   "cell_type": "code",
   "execution_count": 44,
   "id": "507c737b-12c9-41d4-a62b-f0447ea42ea0",
   "metadata": {},
   "outputs": [
    {
     "data": {
      "text/plain": [
       "'42'"
      ]
     },
     "execution_count": 44,
     "metadata": {},
     "output_type": "execute_result"
    }
   ],
   "source": [
    "'4' + '2' # Types matter"
   ]
  },
  {
   "cell_type": "code",
   "execution_count": 45,
   "id": "5730c4a2-6fe9-41a2-a067-9c3e350094c6",
   "metadata": {},
   "outputs": [
    {
     "data": {
      "text/plain": [
       "6"
      ]
     },
     "execution_count": 45,
     "metadata": {},
     "output_type": "execute_result"
    }
   ],
   "source": [
    "4+2"
   ]
  },
  {
   "cell_type": "code",
   "execution_count": null,
   "id": "c49100f7-0d05-486f-8ae8-7bc702cdda14",
   "metadata": {},
   "outputs": [],
   "source": [
    "# Precedents, order similar as maths"
   ]
  },
  {
   "cell_type": "code",
   "execution_count": 49,
   "id": "3a932397-d244-4e3a-94b2-a9de1dc986b9",
   "metadata": {},
   "outputs": [
    {
     "data": {
      "text/plain": [
       "17"
      ]
     },
     "execution_count": 49,
     "metadata": {},
     "output_type": "execute_result"
    }
   ],
   "source": [
    "1 + 4**2"
   ]
  },
  {
   "cell_type": "code",
   "execution_count": 50,
   "id": "482146dd-33e1-4be4-ac6c-dd106ccbce50",
   "metadata": {},
   "outputs": [
    {
     "data": {
      "text/plain": [
       "100"
      ]
     },
     "execution_count": 50,
     "metadata": {},
     "output_type": "execute_result"
    }
   ],
   "source": [
    "1**3 + 2**3 + 3**3 + 4**3 # can chain operators"
   ]
  },
  {
   "cell_type": "code",
   "execution_count": 52,
   "id": "fbf4e7e0-5fe0-4132-880a-5f7a9ff1c734",
   "metadata": {},
   "outputs": [
    {
     "data": {
      "text/plain": [
       "100"
      ]
     },
     "execution_count": 52,
     "metadata": {},
     "output_type": "execute_result"
    }
   ],
   "source": [
    "(1 + 2 + 3 + 4)**2"
   ]
  },
  {
   "cell_type": "code",
   "execution_count": 53,
   "id": "d1c6dd37-f78e-4f0d-a884-3e4509a75abf",
   "metadata": {},
   "outputs": [
    {
     "data": {
      "text/plain": [
       "225"
      ]
     },
     "execution_count": 53,
     "metadata": {},
     "output_type": "execute_result"
    }
   ],
   "source": [
    "1**3 + 2**3 + 3**3 + 4**3 + 5**3"
   ]
  },
  {
   "cell_type": "code",
   "execution_count": 54,
   "id": "9d47ed71-8914-458e-97a1-d62ad82122d2",
   "metadata": {},
   "outputs": [
    {
     "data": {
      "text/plain": [
       "225"
      ]
     },
     "execution_count": 54,
     "metadata": {},
     "output_type": "execute_result"
    }
   ],
   "source": [
    "(1 + 2 + 3 + 4 + 5)**2"
   ]
  },
  {
   "cell_type": "markdown",
   "id": "44b2863b-eee9-4ed8-a009-90f962beaacb",
   "metadata": {},
   "source": [
    "Assigned operator"
   ]
  },
  {
   "cell_type": "code",
   "execution_count": 84,
   "id": "16e28708-d684-4b1a-bacf-c4f7c9f4485c",
   "metadata": {},
   "outputs": [],
   "source": [
    "a = 2 \n",
    "b = 3"
   ]
  },
  {
   "cell_type": "code",
   "execution_count": 85,
   "id": "0130f9f6-37c0-477c-9354-7d6e1566a27f",
   "metadata": {},
   "outputs": [
    {
     "data": {
      "text/plain": [
       "5"
      ]
     },
     "execution_count": 85,
     "metadata": {},
     "output_type": "execute_result"
    }
   ],
   "source": [
    "a + b"
   ]
  },
  {
   "cell_type": "code",
   "execution_count": 86,
   "id": "5366d458-f148-4326-97ce-5bcff191c585",
   "metadata": {},
   "outputs": [
    {
     "data": {
      "text/plain": [
       "2"
      ]
     },
     "execution_count": 86,
     "metadata": {},
     "output_type": "execute_result"
    }
   ],
   "source": [
    "a"
   ]
  },
  {
   "cell_type": "code",
   "execution_count": 87,
   "id": "6490ba27-0c8f-40c2-b657-f9b8cc4c7795",
   "metadata": {},
   "outputs": [
    {
     "data": {
      "text/plain": [
       "int"
      ]
     },
     "execution_count": 87,
     "metadata": {},
     "output_type": "execute_result"
    }
   ],
   "source": [
    "type(a)"
   ]
  },
  {
   "cell_type": "code",
   "execution_count": 88,
   "id": "af754f7f-0c55-43f4-8a71-7a484f5b6a4c",
   "metadata": {},
   "outputs": [],
   "source": [
    "a = a + 4.1 # Fist the computer does the maths, then does the assignment. (change the type of a as well)"
   ]
  },
  {
   "cell_type": "code",
   "execution_count": 89,
   "id": "77cb57b7-f685-47c8-83b9-e76ca5f36da6",
   "metadata": {},
   "outputs": [
    {
     "data": {
      "text/plain": [
       "float"
      ]
     },
     "execution_count": 89,
     "metadata": {},
     "output_type": "execute_result"
    }
   ],
   "source": [
    "type(a)"
   ]
  },
  {
   "cell_type": "code",
   "execution_count": 90,
   "id": "7a7bcfe1-2523-4e97-bc10-6956e5002cf2",
   "metadata": {},
   "outputs": [
    {
     "data": {
      "text/plain": [
       "6.1"
      ]
     },
     "execution_count": 90,
     "metadata": {},
     "output_type": "execute_result"
    }
   ],
   "source": [
    "a"
   ]
  },
  {
   "cell_type": "code",
   "execution_count": 91,
   "id": "94354642-83d9-408e-86eb-a6f7ffbc806c",
   "metadata": {},
   "outputs": [],
   "source": [
    "a = 2"
   ]
  },
  {
   "cell_type": "code",
   "execution_count": 93,
   "id": "e2e01701-b405-46a1-ba6f-8f0711f1cdac",
   "metadata": {},
   "outputs": [],
   "source": [
    "a += 4.1 # Increment operator does same thing as before, update by adding. Can do it for all maths operator."
   ]
  },
  {
   "cell_type": "code",
   "execution_count": 94,
   "id": "063f6056-0c5d-4c26-ba8b-fb3e7d761250",
   "metadata": {},
   "outputs": [
    {
     "data": {
      "text/plain": [
       "120"
      ]
     },
     "execution_count": 94,
     "metadata": {},
     "output_type": "execute_result"
    }
   ],
   "source": [
    "# Can also convert to other types\n",
    "int('42') + int('78')"
   ]
  },
  {
   "cell_type": "code",
   "execution_count": 95,
   "id": "da1ec5b2-8d99-4d05-a87e-1079cd903ace",
   "metadata": {},
   "outputs": [
    {
     "data": {
      "text/plain": [
       "42.0"
      ]
     },
     "execution_count": 95,
     "metadata": {},
     "output_type": "execute_result"
    }
   ],
   "source": [
    "float(42)"
   ]
  },
  {
   "cell_type": "markdown",
   "id": "cf4804d1-bf78-476d-9e20-9af8dd6ced68",
   "metadata": {},
   "source": [
    "# More operators\n",
    "Relational operators"
   ]
  },
  {
   "cell_type": "code",
   "execution_count": 96,
   "id": "69611b54-c194-442a-8dac-edb611149347",
   "metadata": {},
   "outputs": [
    {
     "data": {
      "text/plain": [
       "True"
      ]
     },
     "execution_count": 96,
     "metadata": {},
     "output_type": "execute_result"
    }
   ],
   "source": [
    "5 == 5"
   ]
  },
  {
   "cell_type": "code",
   "execution_count": 97,
   "id": "87041754-235f-4681-afd1-07d92a3bbee1",
   "metadata": {},
   "outputs": [
    {
     "data": {
      "text/plain": [
       "False"
      ]
     },
     "execution_count": 97,
     "metadata": {},
     "output_type": "execute_result"
    }
   ],
   "source": [
    "5 == 4"
   ]
  },
  {
   "cell_type": "code",
   "execution_count": 98,
   "id": "4a940fcb-d225-4fa6-abf5-660d01debcde",
   "metadata": {},
   "outputs": [
    {
     "data": {
      "text/plain": [
       "False"
      ]
     },
     "execution_count": 98,
     "metadata": {},
     "output_type": "execute_result"
    }
   ],
   "source": [
    "5 == '5'"
   ]
  },
  {
   "cell_type": "code",
   "execution_count": 99,
   "id": "f8517cda-939b-4e5e-bd6f-daf85c258c16",
   "metadata": {},
   "outputs": [
    {
     "data": {
      "text/plain": [
       "False"
      ]
     },
     "execution_count": 99,
     "metadata": {},
     "output_type": "execute_result"
    }
   ],
   "source": [
    "'0' == 48"
   ]
  },
  {
   "cell_type": "code",
   "execution_count": 100,
   "id": "c516a638-9a79-4f21-9077-020ee3ca555b",
   "metadata": {},
   "outputs": [
    {
     "data": {
      "text/plain": [
       "True"
      ]
     },
     "execution_count": 100,
     "metadata": {},
     "output_type": "execute_result"
    }
   ],
   "source": [
    "5.3 == 5.3"
   ]
  },
  {
   "cell_type": "code",
   "execution_count": 101,
   "id": "5eb5ebb5-7bdf-4614-b37a-34fcd49c2ebf",
   "metadata": {},
   "outputs": [
    {
     "data": {
      "text/plain": [
       "False"
      ]
     },
     "execution_count": 101,
     "metadata": {},
     "output_type": "execute_result"
    }
   ],
   "source": [
    "5.3 == 2.1 + 3.2 # Mathematical operators has precedence over relational"
   ]
  },
  {
   "cell_type": "code",
   "execution_count": 103,
   "id": "37e3d246-8a3b-4d59-9bf9-bb207ec49751",
   "metadata": {},
   "outputs": [
    {
     "data": {
      "text/plain": [
       "True"
      ]
     },
     "execution_count": 103,
     "metadata": {},
     "output_type": "execute_result"
    }
   ],
   "source": [
    "5.3 != 5.6 # \"Bang\" in computational term. different"
   ]
  },
  {
   "cell_type": "code",
   "execution_count": 105,
   "id": "f86c143a-00d9-409f-8cf5-f16266a7f67c",
   "metadata": {},
   "outputs": [
    {
     "data": {
      "text/plain": [
       "bool"
      ]
     },
     "execution_count": 105,
     "metadata": {},
     "output_type": "execute_result"
    }
   ],
   "source": [
    "type(True) # different types: str, float, int, bool..."
   ]
  },
  {
   "cell_type": "code",
   "execution_count": 106,
   "id": "d350242a-0624-423c-8f9a-b6b6614327e0",
   "metadata": {},
   "outputs": [
    {
     "data": {
      "text/plain": [
       "True"
      ]
     },
     "execution_count": 106,
     "metadata": {},
     "output_type": "execute_result"
    }
   ],
   "source": [
    "'michael jordan' > 'lebron james'"
   ]
  },
  {
   "cell_type": "markdown",
   "id": "c274bb1e-5e48-4c4f-ad92-f903c883cbb5",
   "metadata": {},
   "source": [
    "Cf. Python characters encoded in unicode, with numbers."
   ]
  },
  {
   "cell_type": "code",
   "execution_count": 107,
   "id": "e19d847d-155e-4871-a778-4011cb3d9299",
   "metadata": {},
   "outputs": [
    {
     "data": {
      "text/plain": [
       "48"
      ]
     },
     "execution_count": 107,
     "metadata": {},
     "output_type": "execute_result"
    }
   ],
   "source": [
    "ord('0')"
   ]
  },
  {
   "cell_type": "code",
   "execution_count": 108,
   "id": "7a7b15cc-b3fb-4153-a601-326e19d8a5fc",
   "metadata": {},
   "outputs": [
    {
     "data": {
      "text/plain": [
       "97"
      ]
     },
     "execution_count": 108,
     "metadata": {},
     "output_type": "execute_result"
    }
   ],
   "source": [
    "ord('a')"
   ]
  },
  {
   "cell_type": "code",
   "execution_count": 109,
   "id": "1c07609b-d24d-4670-b879-f72d2c371cfd",
   "metadata": {},
   "outputs": [
    {
     "data": {
      "text/plain": [
       "65"
      ]
     },
     "execution_count": 109,
     "metadata": {},
     "output_type": "execute_result"
    }
   ],
   "source": [
    "ord('A')"
   ]
  },
  {
   "cell_type": "code",
   "execution_count": 110,
   "id": "a2479efe-a757-4767-9c80-a0076ec303ae",
   "metadata": {},
   "outputs": [
    {
     "data": {
      "text/plain": [
       "955"
      ]
     },
     "execution_count": 110,
     "metadata": {},
     "output_type": "execute_result"
    }
   ],
   "source": [
    "ord('λ')"
   ]
  },
  {
   "cell_type": "code",
   "execution_count": 111,
   "id": "c49100b5-e5a3-4892-b5b5-42ea9e9cfc7d",
   "metadata": {},
   "outputs": [
    {
     "data": {
      "text/plain": [
       "109"
      ]
     },
     "execution_count": 111,
     "metadata": {},
     "output_type": "execute_result"
    }
   ],
   "source": [
    "ord('m')"
   ]
  },
  {
   "cell_type": "code",
   "execution_count": 112,
   "id": "7f17f8a7-b418-4c40-9f99-0cdf7b45b4e6",
   "metadata": {},
   "outputs": [
    {
     "data": {
      "text/plain": [
       "108"
      ]
     },
     "execution_count": 112,
     "metadata": {},
     "output_type": "execute_result"
    }
   ],
   "source": [
    "ord('l')"
   ]
  },
  {
   "cell_type": "code",
   "execution_count": 113,
   "id": "bf51fc85-64d4-406b-8fd6-341d4a00e2ed",
   "metadata": {},
   "outputs": [
    {
     "data": {
      "text/plain": [
       "True"
      ]
     },
     "execution_count": 113,
     "metadata": {},
     "output_type": "execute_result"
    }
   ],
   "source": [
    "'lebron' == 'lebron'"
   ]
  },
  {
   "cell_type": "code",
   "execution_count": 114,
   "id": "255812c5-e36f-4ee4-b457-24babc56bc5a",
   "metadata": {},
   "outputs": [
    {
     "data": {
      "text/plain": [
       "False"
      ]
     },
     "execution_count": 114,
     "metadata": {},
     "output_type": "execute_result"
    }
   ],
   "source": [
    "'lebron' == 'lebron '"
   ]
  },
  {
   "cell_type": "code",
   "execution_count": 115,
   "id": "6da6d082-d628-44ef-9ac6-766d5be323aa",
   "metadata": {},
   "outputs": [
    {
     "data": {
      "text/plain": [
       "False"
      ]
     },
     "execution_count": 115,
     "metadata": {},
     "output_type": "execute_result"
    }
   ],
   "source": [
    "'lebron' == 'lebron james'"
   ]
  },
  {
   "cell_type": "code",
   "execution_count": 116,
   "id": "793c2d7d-1349-4d85-824e-743e34276295",
   "metadata": {},
   "outputs": [
    {
     "data": {
      "text/plain": [
       "False"
      ]
     },
     "execution_count": 116,
     "metadata": {},
     "output_type": "execute_result"
    }
   ],
   "source": [
    "'lebron' == 'LeBron'"
   ]
  },
  {
   "cell_type": "markdown",
   "id": "c41043b9-e982-4e0b-9047-75664eb4b991",
   "metadata": {},
   "source": [
    "Identity operator"
   ]
  },
  {
   "cell_type": "code",
   "execution_count": 119,
   "id": "6bb6944e-eada-4160-91a0-124b38c2469a",
   "metadata": {},
   "outputs": [
    {
     "data": {
      "text/plain": [
       "True"
      ]
     },
     "execution_count": 119,
     "metadata": {},
     "output_type": "execute_result"
    }
   ],
   "source": [
    "a = 5.6\n",
    "b = 5.6\n",
    "\n",
    "a == b # same value"
   ]
  },
  {
   "cell_type": "code",
   "execution_count": 122,
   "id": "980400ca-7313-4d9d-9dec-4742e72d49d8",
   "metadata": {},
   "outputs": [
    {
     "data": {
      "text/plain": [
       "False"
      ]
     },
     "execution_count": 122,
     "metadata": {},
     "output_type": "execute_result"
    }
   ],
   "source": [
    "a is b # cf. same value but stored in different place in memory, not exact same place"
   ]
  },
  {
   "cell_type": "code",
   "execution_count": 131,
   "id": "0e2771af-fc3a-45a8-88d3-7ac96a24bb3e",
   "metadata": {},
   "outputs": [
    {
     "data": {
      "text/plain": [
       "True"
      ]
     },
     "execution_count": 131,
     "metadata": {},
     "output_type": "execute_result"
    }
   ],
   "source": [
    "a = 5\n",
    "b = 5\n",
    "a is b"
   ]
  },
  {
   "cell_type": "code",
   "execution_count": 124,
   "id": "56060f5b-fa0f-4168-9173-17c062b8ed93",
   "metadata": {},
   "outputs": [
    {
     "data": {
      "text/plain": [
       "False"
      ]
     },
     "execution_count": 124,
     "metadata": {},
     "output_type": "execute_result"
    }
   ],
   "source": [
    "a = 350\n",
    "b = 350\n",
    "a is b"
   ]
  },
  {
   "cell_type": "markdown",
   "id": "018beeaa-8843-450d-8e57-b65b66eb4f15",
   "metadata": {},
   "source": [
    "cf. Python for efficiency save integers between - 5 and 256 into the same space in memory (integer caching)"
   ]
  },
  {
   "cell_type": "code",
   "execution_count": 132,
   "id": "d1e159bb-d2a4-411e-9308-f640705b5e6d",
   "metadata": {},
   "outputs": [
    {
     "data": {
      "text/plain": [
       "False"
      ]
     },
     "execution_count": 132,
     "metadata": {},
     "output_type": "execute_result"
    }
   ],
   "source": [
    "a = \"Hello, world.\"\n",
    "b = \"Hello, world.\"\n",
    "\n",
    "a is b"
   ]
  },
  {
   "cell_type": "code",
   "execution_count": 133,
   "id": "718c8d49-37a6-4d5e-8f34-62c499a5fb91",
   "metadata": {},
   "outputs": [
    {
     "data": {
      "text/plain": [
       "True"
      ]
     },
     "execution_count": 133,
     "metadata": {},
     "output_type": "execute_result"
    }
   ],
   "source": [
    "a = \"Hello, world.\"\n",
    "b = a \n",
    "\n",
    "a is b"
   ]
  },
  {
   "cell_type": "code",
   "execution_count": 134,
   "id": "432c6338-5573-48d4-9d1e-59d14990542f",
   "metadata": {},
   "outputs": [
    {
     "data": {
      "text/plain": [
       "True"
      ]
     },
     "execution_count": 134,
     "metadata": {},
     "output_type": "execute_result"
    }
   ],
   "source": [
    "a = \"python\"\n",
    "b = \"python\"\n",
    "\n",
    "a is b"
   ]
  },
  {
   "cell_type": "markdown",
   "id": "1d189d44-a605-4152-a963-c30ece9ebc84",
   "metadata": {},
   "source": [
    "Logical operators"
   ]
  },
  {
   "cell_type": "code",
   "execution_count": 135,
   "id": "c73ad78f-69eb-4205-882f-0ab0412547b7",
   "metadata": {},
   "outputs": [
    {
     "data": {
      "text/plain": [
       "True"
      ]
     },
     "execution_count": 135,
     "metadata": {},
     "output_type": "execute_result"
    }
   ],
   "source": [
    "True and True"
   ]
  },
  {
   "cell_type": "code",
   "execution_count": 139,
   "id": "dd0e245b-7cf2-4d9f-8ab6-540c3b6b13e7",
   "metadata": {},
   "outputs": [
    {
     "data": {
      "text/plain": [
       "False"
      ]
     },
     "execution_count": 139,
     "metadata": {},
     "output_type": "execute_result"
    }
   ],
   "source": [
    "True and False"
   ]
  },
  {
   "cell_type": "code",
   "execution_count": 140,
   "id": "d17a307a-a9e1-47a9-96b8-badd18d9523a",
   "metadata": {},
   "outputs": [
    {
     "data": {
      "text/plain": [
       "True"
      ]
     },
     "execution_count": 140,
     "metadata": {},
     "output_type": "execute_result"
    }
   ],
   "source": [
    "True or False"
   ]
  },
  {
   "cell_type": "code",
   "execution_count": 138,
   "id": "c18fa02f-f460-4b0a-bfc2-2b532cb76a38",
   "metadata": {},
   "outputs": [
    {
     "data": {
      "text/plain": [
       "False"
      ]
     },
     "execution_count": 138,
     "metadata": {},
     "output_type": "execute_result"
    }
   ],
   "source": [
    "not True "
   ]
  },
  {
   "cell_type": "code",
   "execution_count": 141,
   "id": "6d0a97fd-2339-4dfe-a725-668a54d82c8e",
   "metadata": {},
   "outputs": [
    {
     "data": {
      "text/plain": [
       "True"
      ]
     },
     "execution_count": 141,
     "metadata": {},
     "output_type": "execute_result"
    }
   ],
   "source": [
    "not(False and True)"
   ]
  },
  {
   "cell_type": "code",
   "execution_count": 142,
   "id": "be804575-71e5-4288-8ad3-908a64280481",
   "metadata": {},
   "outputs": [
    {
     "data": {
      "text/plain": [
       "True"
      ]
     },
     "execution_count": 142,
     "metadata": {},
     "output_type": "execute_result"
    }
   ],
   "source": [
    "not False and True"
   ]
  },
  {
   "cell_type": "markdown",
   "id": "405e67d3-dc3e-4ed8-b3d7-f1d7bbe9d783",
   "metadata": {},
   "source": [
    "Cf. Table de vérité"
   ]
  },
  {
   "cell_type": "code",
   "execution_count": 143,
   "id": "e8023b03-1698-42f2-b9d6-db529830cf06",
   "metadata": {},
   "outputs": [
    {
     "data": {
      "text/plain": [
       "True"
      ]
     },
     "execution_count": 143,
     "metadata": {},
     "output_type": "execute_result"
    }
   ],
   "source": [
    "True == 1 # True and False have numerical value"
   ]
  },
  {
   "cell_type": "code",
   "execution_count": 144,
   "id": "b20db751-1119-468f-b690-bfbed586f093",
   "metadata": {},
   "outputs": [
    {
     "data": {
      "text/plain": [
       "True"
      ]
     },
     "execution_count": 144,
     "metadata": {},
     "output_type": "execute_result"
    }
   ],
   "source": [
    "False == 0"
   ]
  },
  {
   "cell_type": "code",
   "execution_count": 145,
   "id": "a8024923-2309-44d3-9f3e-e9b039cc4d39",
   "metadata": {},
   "outputs": [
    {
     "data": {
      "text/plain": [
       "1"
      ]
     },
     "execution_count": 145,
     "metadata": {},
     "output_type": "execute_result"
    }
   ],
   "source": [
    "True + False"
   ]
  },
  {
   "cell_type": "markdown",
   "id": "bafda7e2-a315-44a4-9dd2-d3013d680b9f",
   "metadata": {},
   "source": [
    "Useful for example we have a codon:"
   ]
  },
  {
   "cell_type": "code",
   "execution_count": 151,
   "id": "fc02eb12-f0a0-4e03-8e0d-518d843a18de",
   "metadata": {},
   "outputs": [
    {
     "name": "stdout",
     "output_type": "stream",
     "text": [
      "it is not the start codon.\n"
     ]
    }
   ],
   "source": [
    "codon = 'AUA'\n",
    "\n",
    "if codon == 'AUG':\n",
    "    print('it is the start codon.')\n",
    "else:\n",
    "    print('it is not the start codon.') "
   ]
  },
  {
   "cell_type": "code",
   "execution_count": 152,
   "id": "b97e53c1-09f7-4482-a576-250240beb313",
   "metadata": {},
   "outputs": [
    {
     "name": "stdout",
     "output_type": "stream",
     "text": [
      "it is the start codon.\n",
      "same level of indentation, so this is printed.\n"
     ]
    }
   ],
   "source": [
    "codon = 'AUG'\n",
    "\n",
    "if codon == 'AUG':\n",
    "    print('it is the start codon.')\n",
    "    print('same level of indentation, so this is printed.')\n",
    "else:\n",
    "    print('it is not the start codon.') \n",
    "\n",
    "# Indentation matters"
   ]
  },
  {
   "cell_type": "code",
   "execution_count": 154,
   "id": "0a70a42a-fd62-41c7-9922-8e82e4e77e48",
   "metadata": {},
   "outputs": [
    {
     "name": "stdout",
     "output_type": "stream",
     "text": [
      "it is neither the start codon nor a stop codon.\n"
     ]
    }
   ],
   "source": [
    "codon = 'UUU'\n",
    "\n",
    "if codon == 'AUG':\n",
    "    print('it is the start codon.')\n",
    "    print('same level of indentation, so this is printed.')\n",
    "else:\n",
    "    if codon == 'UAA' or codon == 'UAG' or codon == 'UGA':\n",
    "        print('it is a stop codon')\n",
    "    else:\n",
    "        print('it is neither the start codon nor a stop codon.') "
   ]
  },
  {
   "cell_type": "markdown",
   "id": "8dae1a94-2b38-4957-abd7-d2a2403c0bea",
   "metadata": {},
   "source": [
    "Not convenient better use:"
   ]
  },
  {
   "cell_type": "code",
   "execution_count": 157,
   "id": "2ef6a4b1-e982-40d6-811f-210dadea7021",
   "metadata": {},
   "outputs": [
    {
     "name": "stdout",
     "output_type": "stream",
     "text": [
      "it is a stop codon\n"
     ]
    }
   ],
   "source": [
    "codon = 'UGA'\n",
    "\n",
    "if codon == 'AUG':\n",
    "    print('it is the start codon.')\n",
    "    print('same level of indentation, so this is printed.')\n",
    "elif codon == 'UAA' or codon == 'UAG' or codon == 'UGA': # Does that after checking first not true\n",
    "    print('it is a stop codon')\n",
    "elif codon == 'AAG':\n",
    "    print('This codes for K.')\n",
    "else:\n",
    "    print(\"I give up.\")"
   ]
  },
  {
   "cell_type": "code",
   "execution_count": 158,
   "id": "78b05353-2cce-4180-99fe-a0fc6584bb0a",
   "metadata": {},
   "outputs": [
    {
     "name": "stdout",
     "output_type": "stream",
     "text": [
      "it is a stop codon\n"
     ]
    }
   ],
   "source": [
    "codon = 'UGA'\n",
    "\n",
    "if codon == 'AUG':\n",
    "    print('it is the start codon.')\n",
    "    print('same level of indentation, so this is printed.')\n",
    "\n",
    "if codon == 'UAA' or codon == 'UAG' or codon == 'UGA': # New block can do it no matter first if evaluation\n",
    "    print('it is a stop codon')\n",
    "elif codon == 'AAG':\n",
    "    print('This codes for K.')\n",
    "else:\n",
    "    print(\"I give up.\")"
   ]
  },
  {
   "cell_type": "markdown",
   "id": "3cb26735-b305-404a-9227-2047a81b2099",
   "metadata": {},
   "source": [
    "# Lists"
   ]
  },
  {
   "cell_type": "code",
   "execution_count": 159,
   "id": "774022dd-1761-46a8-8a3e-74bc56d391e7",
   "metadata": {},
   "outputs": [],
   "source": [
    "my_list_1 = [1, 2, 3, 4]"
   ]
  },
  {
   "cell_type": "code",
   "execution_count": 160,
   "id": "e7aee39c-e8c7-4650-bfa1-ee07195eabfd",
   "metadata": {},
   "outputs": [
    {
     "data": {
      "text/plain": [
       "list"
      ]
     },
     "execution_count": 160,
     "metadata": {},
     "output_type": "execute_result"
    }
   ],
   "source": [
    "type(my_list_1)"
   ]
  },
  {
   "cell_type": "code",
   "execution_count": 161,
   "id": "f4a77084-1587-496d-9df6-30245e790023",
   "metadata": {},
   "outputs": [],
   "source": [
    "my_list_2 = [1, 2.4, 'a strin', ['a string in another list', 5], True]"
   ]
  },
  {
   "cell_type": "code",
   "execution_count": 162,
   "id": "ffe50485-7f39-46cc-b448-f868553f04c4",
   "metadata": {},
   "outputs": [
    {
     "data": {
      "text/plain": [
       "[5, 15, 16]"
      ]
     },
     "execution_count": 162,
     "metadata": {},
     "output_type": "execute_result"
    }
   ],
   "source": [
    "[2 + 3, 5 * 3, 4**2]"
   ]
  },
  {
   "cell_type": "code",
   "execution_count": 163,
   "id": "f85fee39-4888-4573-9037-5505150d37e2",
   "metadata": {},
   "outputs": [
    {
     "data": {
      "text/plain": [
       "['a', ' ', 's', 't', 'r', 'i', 'n', 'g']"
      ]
     },
     "execution_count": 163,
     "metadata": {},
     "output_type": "execute_result"
    }
   ],
   "source": [
    "list('a string')"
   ]
  },
  {
   "cell_type": "code",
   "execution_count": 164,
   "id": "fdc14ff3-8983-4c51-839e-fe7392842c0c",
   "metadata": {},
   "outputs": [
    {
     "data": {
      "text/plain": [
       "[1, 2, 3, 4, 5, 6]"
      ]
     },
     "execution_count": 164,
     "metadata": {},
     "output_type": "execute_result"
    }
   ],
   "source": [
    "[1, 2, 3] + [4, 5, 6]"
   ]
  },
  {
   "cell_type": "code",
   "execution_count": 165,
   "id": "ab45c517-b8a2-4f57-8d70-e806e4e7eb88",
   "metadata": {},
   "outputs": [
    {
     "data": {
      "text/plain": [
       "[1, 2, 3, 1, 2, 3, 1, 2, 3, 1, 2, 3]"
      ]
     },
     "execution_count": 165,
     "metadata": {},
     "output_type": "execute_result"
    }
   ],
   "source": [
    "[1, 2, 3] * 4"
   ]
  },
  {
   "cell_type": "code",
   "execution_count": 166,
   "id": "855d1c01-537a-40d6-b93c-b2b7ab698d63",
   "metadata": {},
   "outputs": [
    {
     "data": {
      "text/plain": [
       "True"
      ]
     },
     "execution_count": 166,
     "metadata": {},
     "output_type": "execute_result"
    }
   ],
   "source": [
    "1 in my_list_2"
   ]
  },
  {
   "cell_type": "code",
   "execution_count": 171,
   "id": "cd82300d-0993-4998-9312-0542c54eba9f",
   "metadata": {},
   "outputs": [
    {
     "data": {
      "text/plain": [
       "True"
      ]
     },
     "execution_count": 171,
     "metadata": {},
     "output_type": "execute_result"
    }
   ],
   "source": [
    "'ello' in 'Hello, world'"
   ]
  },
  {
   "cell_type": "code",
   "execution_count": 169,
   "id": "b11a28eb-2316-48d0-9050-aa28bfc2e2f9",
   "metadata": {},
   "outputs": [
    {
     "data": {
      "text/plain": [
       "False"
      ]
     },
     "execution_count": 169,
     "metadata": {},
     "output_type": "execute_result"
    }
   ],
   "source": [
    "5 in my_list_2 # cf. 5 not element of the list, element of a list element of the list"
   ]
  },
  {
   "cell_type": "code",
   "execution_count": 170,
   "id": "11350dc3-4514-4c5c-9847-0bca4f9bda58",
   "metadata": {},
   "outputs": [
    {
     "data": {
      "text/plain": [
       "True"
      ]
     },
     "execution_count": 170,
     "metadata": {},
     "output_type": "execute_result"
    }
   ],
   "source": [
    "'elo' not in 'Hello, world'"
   ]
  },
  {
   "cell_type": "code",
   "execution_count": 172,
   "id": "9ca97dfb-78ab-4527-82a3-92ca4b6650a3",
   "metadata": {},
   "outputs": [
    {
     "name": "stdout",
     "output_type": "stream",
     "text": [
      "it is a stop codon\n"
     ]
    }
   ],
   "source": [
    "# So now more efficient:\n",
    "codon = 'UGA'\n",
    "stop_codons = ['UAA', 'UAG', 'UGA']\n",
    "\n",
    "if codon == 'AUG':\n",
    "    print('it is the start codon.')\n",
    "elif codon in stop_codons:\n",
    "    print('it is a stop codon')\n",
    "elif codon == 'AAG':\n",
    "    print('This codes for K.')\n",
    "else:\n",
    "    print(\"I give up.\")"
   ]
  },
  {
   "cell_type": "markdown",
   "id": "ac1b877c-7755-4f46-863d-79a00788ae7d",
   "metadata": {},
   "source": [
    "## List indexing"
   ]
  },
  {
   "cell_type": "code",
   "execution_count": 173,
   "id": "b704c04d-ff64-4a4f-ace9-2eb809384992",
   "metadata": {},
   "outputs": [],
   "source": [
    "my_list = [1, 2.4, 'a strin', ['a string in another list', 5], True]"
   ]
  },
  {
   "cell_type": "code",
   "execution_count": 175,
   "id": "6805dcd5-32c1-4c7e-91bd-9e4aad29094b",
   "metadata": {},
   "outputs": [
    {
     "data": {
      "text/plain": [
       "2.4"
      ]
     },
     "execution_count": 175,
     "metadata": {},
     "output_type": "execute_result"
    }
   ],
   "source": [
    "my_list[1] # in python indexing starts at 0. Good paper about why on overleaf notes."
   ]
  },
  {
   "cell_type": "code",
   "execution_count": 176,
   "id": "2c20fa13-b9dd-4b72-bfae-7b9732751d28",
   "metadata": {},
   "outputs": [
    {
     "data": {
      "text/plain": [
       "1"
      ]
     },
     "execution_count": 176,
     "metadata": {},
     "output_type": "execute_result"
    }
   ],
   "source": [
    "my_list[0] "
   ]
  },
  {
   "cell_type": "code",
   "execution_count": 177,
   "id": "03a12b86-af4a-4c84-a8ba-b9840956f5b1",
   "metadata": {},
   "outputs": [
    {
     "data": {
      "text/plain": [
       "5"
      ]
     },
     "execution_count": 177,
     "metadata": {},
     "output_type": "execute_result"
    }
   ],
   "source": [
    "my_list[3][1]"
   ]
  },
  {
   "cell_type": "code",
   "execution_count": 178,
   "id": "239760ff-cabb-4567-ba3e-f7b984adf8bc",
   "metadata": {},
   "outputs": [],
   "source": [
    "my_list = [0, 1, 2, 3, 4, 5, 6, 7, 8, 9, 10]"
   ]
  },
  {
   "cell_type": "code",
   "execution_count": 179,
   "id": "8308fa9c-8d65-4b8f-b927-703b6c5a0521",
   "metadata": {},
   "outputs": [
    {
     "data": {
      "text/plain": [
       "4"
      ]
     },
     "execution_count": 179,
     "metadata": {},
     "output_type": "execute_result"
    }
   ],
   "source": [
    "my_list[4]"
   ]
  },
  {
   "cell_type": "code",
   "execution_count": 180,
   "id": "2e87551e-ccfa-48b2-b77a-750f62f6f255",
   "metadata": {},
   "outputs": [
    {
     "data": {
      "text/plain": [
       "10"
      ]
     },
     "execution_count": 180,
     "metadata": {},
     "output_type": "execute_result"
    }
   ],
   "source": [
    "my_list[-1] # Negative indexing, start from the end"
   ]
  },
  {
   "cell_type": "code",
   "execution_count": 181,
   "id": "147d1f30-553f-41fb-a9ad-8bf83975b20e",
   "metadata": {},
   "outputs": [
    {
     "data": {
      "text/plain": [
       "8"
      ]
     },
     "execution_count": 181,
     "metadata": {},
     "output_type": "execute_result"
    }
   ],
   "source": [
    "my_list[-3]"
   ]
  },
  {
   "cell_type": "code",
   "execution_count": 183,
   "id": "7b4c072b-2899-44dd-ac9f-7e7bc70a8ca9",
   "metadata": {},
   "outputs": [
    {
     "data": {
      "text/plain": [
       "[0, 1, 2, 3, 4]"
      ]
     },
     "execution_count": 183,
     "metadata": {},
     "output_type": "execute_result"
    }
   ],
   "source": [
    "my_list[0:5] # Indexing inclusive of the first index, exclusive of the last [first : last["
   ]
  },
  {
   "cell_type": "code",
   "execution_count": 184,
   "id": "25deea52-bb08-4920-98d0-d4fd9b65aa5a",
   "metadata": {},
   "outputs": [
    {
     "data": {
      "text/plain": [
       "[3, 4, 5, 6, 7, 8, 9, 10]"
      ]
     },
     "execution_count": 184,
     "metadata": {},
     "output_type": "execute_result"
    }
   ],
   "source": [
    "my_list[3:10000] # Python does what it can"
   ]
  },
  {
   "cell_type": "code",
   "execution_count": 185,
   "id": "30356828-173d-4a19-835f-b1276b2c8b4f",
   "metadata": {},
   "outputs": [
    {
     "data": {
      "text/plain": [
       "[0, 1, 2, 3, 4, 5, 6, 7]"
      ]
     },
     "execution_count": 185,
     "metadata": {},
     "output_type": "execute_result"
    }
   ],
   "source": [
    "my_list[0:-3]"
   ]
  },
  {
   "cell_type": "code",
   "execution_count": 186,
   "id": "8935898b-9a7e-4474-911c-b6c265fb288b",
   "metadata": {},
   "outputs": [],
   "source": [
    "# my_list[start:end:stride]"
   ]
  },
  {
   "cell_type": "code",
   "execution_count": 188,
   "id": "21925ba1-a49b-4c81-90e5-108e972eb779",
   "metadata": {},
   "outputs": [
    {
     "data": {
      "text/plain": [
       "[4]"
      ]
     },
     "execution_count": 188,
     "metadata": {},
     "output_type": "execute_result"
    }
   ],
   "source": [
    "my_list[4:5] # returns a list, cf. :"
   ]
  },
  {
   "cell_type": "code",
   "execution_count": 190,
   "id": "174e0805-9352-4d88-9361-000ba911f2f3",
   "metadata": {},
   "outputs": [
    {
     "data": {
      "text/plain": [
       "4"
      ]
     },
     "execution_count": 190,
     "metadata": {},
     "output_type": "execute_result"
    }
   ],
   "source": [
    "my_list[4] # returns a number"
   ]
  },
  {
   "cell_type": "code",
   "execution_count": 193,
   "id": "ad18e2f5-b298-4c88-a496-3daaaeea8537",
   "metadata": {},
   "outputs": [
    {
     "data": {
      "text/plain": [
       "[4, 5, 6, 7, 8, 9, 10]"
      ]
     },
     "execution_count": 193,
     "metadata": {},
     "output_type": "execute_result"
    }
   ],
   "source": [
    "my_list[4:] # end and stride not specified, stride is assumed to be one, end assumed to be the end of the list"
   ]
  },
  {
   "cell_type": "code",
   "execution_count": 194,
   "id": "05e9f42e-0e60-4db6-9445-cde3177d81a8",
   "metadata": {},
   "outputs": [
    {
     "data": {
      "text/plain": [
       "[4, 5, 6, 7, 8, 9, 10]"
      ]
     },
     "execution_count": 194,
     "metadata": {},
     "output_type": "execute_result"
    }
   ],
   "source": [
    "my_list[4::]"
   ]
  },
  {
   "cell_type": "code",
   "execution_count": 197,
   "id": "aea92aa0-bd6f-44e6-bdf2-a8b57cad7d7b",
   "metadata": {},
   "outputs": [
    {
     "data": {
      "text/plain": [
       "[0, 1, 2, 3, 4, 5, 6, 7, 8, 9, 10]"
      ]
     },
     "execution_count": 197,
     "metadata": {},
     "output_type": "execute_result"
    }
   ],
   "source": [
    "my_list[::] # the whole thing"
   ]
  },
  {
   "cell_type": "code",
   "execution_count": 198,
   "id": "92bc10ba-e61a-4d48-88c0-d7ff08c1c3a5",
   "metadata": {},
   "outputs": [
    {
     "data": {
      "text/plain": [
       "[0, 1, 2, 3, 4, 5, 6, 7, 8, 9, 10]"
      ]
     },
     "execution_count": 198,
     "metadata": {},
     "output_type": "execute_result"
    }
   ],
   "source": [
    "my_list[:]"
   ]
  },
  {
   "cell_type": "code",
   "execution_count": 199,
   "id": "2c1e8049-5579-4c6c-9558-6b87e4639461",
   "metadata": {},
   "outputs": [
    {
     "data": {
      "text/plain": [
       "[0, 2, 4, 6, 8, 10]"
      ]
     },
     "execution_count": 199,
     "metadata": {},
     "output_type": "execute_result"
    }
   ],
   "source": [
    "my_list[::2]"
   ]
  },
  {
   "cell_type": "code",
   "execution_count": 201,
   "id": "da3de9eb-797a-4853-bf0b-3362a07df644",
   "metadata": {},
   "outputs": [
    {
     "data": {
      "text/plain": [
       "[10, 9, 8, 7, 6, 5, 4, 3, 2, 1, 0]"
      ]
     },
     "execution_count": 201,
     "metadata": {},
     "output_type": "execute_result"
    }
   ],
   "source": [
    "my_list[::-1] # reverse the list"
   ]
  },
  {
   "cell_type": "code",
   "execution_count": 202,
   "id": "655c7983-88ff-4a9f-8fb8-6e8cac8a4e54",
   "metadata": {},
   "outputs": [
    {
     "data": {
      "text/plain": [
       "[10, 9, 8, 7, 6, 5, 4, 3, 2, 1, 0]"
      ]
     },
     "execution_count": 202,
     "metadata": {},
     "output_type": "execute_result"
    }
   ],
   "source": [
    "my_list[-1::-1]"
   ]
  },
  {
   "cell_type": "code",
   "execution_count": 203,
   "id": "e6e83265-bbd3-4ec5-b406-3f31ec5bdcca",
   "metadata": {},
   "outputs": [
    {
     "data": {
      "text/plain": [
       "[0, 1, 2, 3, 4, 5, 6, 7, 8, 9, 10]"
      ]
     },
     "execution_count": 203,
     "metadata": {},
     "output_type": "execute_result"
    }
   ],
   "source": [
    "my_list"
   ]
  },
  {
   "cell_type": "code",
   "execution_count": 204,
   "id": "e0666d2f-a73a-4810-9ad1-ccf69c021a12",
   "metadata": {},
   "outputs": [],
   "source": [
    "my_list[4] = 'four'"
   ]
  },
  {
   "cell_type": "code",
   "execution_count": 206,
   "id": "a91db0ae-d981-4cea-bece-1eb865c221e9",
   "metadata": {},
   "outputs": [
    {
     "data": {
      "text/plain": [
       "[0, 1, 2, 3, 'four', 5, 6, 7, 8, 9, 10]"
      ]
     },
     "execution_count": 206,
     "metadata": {},
     "output_type": "execute_result"
    }
   ],
   "source": [
    "my_list # cf. mutable"
   ]
  },
  {
   "cell_type": "code",
   "execution_count": 209,
   "id": "b169fb28-a4c4-419c-9b27-aa5a1adc2adc",
   "metadata": {},
   "outputs": [
    {
     "name": "stdout",
     "output_type": "stream",
     "text": [
      "140521410672848\n",
      "140521410673296\n"
     ]
    }
   ],
   "source": [
    "a = 689\n",
    "print(id(a))\n",
    "\n",
    "a = 690\n",
    "print(id(a)) # garbage collection method, python clear the first place and create a new one."
   ]
  },
  {
   "cell_type": "code",
   "execution_count": 210,
   "id": "f2be4bf2-8c4e-4198-a018-45ad186efe2e",
   "metadata": {},
   "outputs": [
    {
     "data": {
      "text/plain": [
       "140521404804608"
      ]
     },
     "execution_count": 210,
     "metadata": {},
     "output_type": "execute_result"
    }
   ],
   "source": [
    "id(my_list)"
   ]
  },
  {
   "cell_type": "code",
   "execution_count": 211,
   "id": "cb08c6cc-ecaa-4c53-a956-d36b22da47d5",
   "metadata": {},
   "outputs": [],
   "source": [
    "my_list[0] = 'zero'"
   ]
  },
  {
   "cell_type": "code",
   "execution_count": 212,
   "id": "37a33abf-d930-4465-b894-37c28751ed74",
   "metadata": {},
   "outputs": [
    {
     "data": {
      "text/plain": [
       "['zero', 1, 2, 3, 'four', 5, 6, 7, 8, 9, 10]"
      ]
     },
     "execution_count": 212,
     "metadata": {},
     "output_type": "execute_result"
    }
   ],
   "source": [
    "my_list"
   ]
  },
  {
   "cell_type": "code",
   "execution_count": 213,
   "id": "b6cd21ec-fa30-45de-b709-c92d05903b83",
   "metadata": {},
   "outputs": [
    {
     "data": {
      "text/plain": [
       "140521404804608"
      ]
     },
     "execution_count": 213,
     "metadata": {},
     "output_type": "execute_result"
    }
   ],
   "source": [
    "id(my_list)"
   ]
  },
  {
   "cell_type": "code",
   "execution_count": 216,
   "id": "5bdc59fb-88f9-422e-9b08-e1fb338971fb",
   "metadata": {},
   "outputs": [
    {
     "data": {
      "text/plain": [
       "['a', 1, 2, 3, 4, 5, 6, 7, 8, 9, 10]"
      ]
     },
     "execution_count": 216,
     "metadata": {},
     "output_type": "execute_result"
    }
   ],
   "source": [
    "my_list = [0, 1, 2, 3, 4, 5, 6, 7, 8, 9, 10]\n",
    "my_list_2 = my_list\n",
    "\n",
    "my_list_2[0] = 'a'\n",
    "\n",
    "my_list_2"
   ]
  },
  {
   "cell_type": "code",
   "execution_count": 217,
   "id": "3ca34e4c-d65f-4234-b8d9-4225b8917c1e",
   "metadata": {},
   "outputs": [
    {
     "data": {
      "text/plain": [
       "['a', 1, 2, 3, 4, 5, 6, 7, 8, 9, 10]"
      ]
     },
     "execution_count": 217,
     "metadata": {},
     "output_type": "execute_result"
    }
   ],
   "source": [
    "my_list "
   ]
  },
  {
   "cell_type": "markdown",
   "id": "0f09407a-29e0-49e1-85e9-80305945399d",
   "metadata": {},
   "source": [
    "The problem is called aliasing, because they are at the same place in the memory = \"different labels on the same container\". <br> \n",
    "Analog issue with numpy."
   ]
  },
  {
   "cell_type": "code",
   "execution_count": 218,
   "id": "a2fe5328-4592-4693-b13e-deed7872f019",
   "metadata": {},
   "outputs": [
    {
     "data": {
      "text/plain": [
       "True"
      ]
     },
     "execution_count": 218,
     "metadata": {},
     "output_type": "execute_result"
    }
   ],
   "source": [
    "my_list is my_list_2"
   ]
  },
  {
   "cell_type": "code",
   "execution_count": 219,
   "id": "270e88b5-eda5-4d37-912d-3cff78190226",
   "metadata": {},
   "outputs": [],
   "source": [
    "my_list_2 = my_list[:] # cf. slicing creates a new array"
   ]
  },
  {
   "cell_type": "code",
   "execution_count": 220,
   "id": "ec6163f8-5095-4ec2-9820-c7487a718a1d",
   "metadata": {},
   "outputs": [
    {
     "data": {
      "text/plain": [
       "False"
      ]
     },
     "execution_count": 220,
     "metadata": {},
     "output_type": "execute_result"
    }
   ],
   "source": [
    "my_list is my_list_2"
   ]
  },
  {
   "cell_type": "markdown",
   "id": "efe07f30-0f7e-4a79-ba34-f21e97af7613",
   "metadata": {},
   "source": [
    "## Tuples\n",
    "\n",
    "Tuples are not immutable list but we can think of them like that."
   ]
  },
  {
   "cell_type": "code",
   "execution_count": 222,
   "id": "650c7c9c-6fc1-4dc3-89c1-6329a1afe97a",
   "metadata": {},
   "outputs": [],
   "source": [
    "my_short_tuple = (4,) # alway needs a coma even if only one element."
   ]
  },
  {
   "cell_type": "code",
   "execution_count": 223,
   "id": "9a734ab6-a495-425e-89d8-614e8c25021a",
   "metadata": {},
   "outputs": [
    {
     "data": {
      "text/plain": [
       "(4,)"
      ]
     },
     "execution_count": 223,
     "metadata": {},
     "output_type": "execute_result"
    }
   ],
   "source": [
    "my_short_tuple"
   ]
  },
  {
   "cell_type": "code",
   "execution_count": 224,
   "id": "d7605c84-2383-4e40-b078-392909a2ec96",
   "metadata": {},
   "outputs": [],
   "source": [
    "my_tuple = (1, 2, 3, 4)"
   ]
  },
  {
   "cell_type": "code",
   "execution_count": 227,
   "id": "f0485186-f7dc-4fbb-a019-701ee78df9fe",
   "metadata": {},
   "outputs": [
    {
     "ename": "TypeError",
     "evalue": "'tuple' object does not support item assignment",
     "output_type": "error",
     "traceback": [
      "\u001b[0;31m---------------------------------------------------------------------------\u001b[0m",
      "\u001b[0;31mTypeError\u001b[0m                                 Traceback (most recent call last)",
      "Input \u001b[0;32mIn [227]\u001b[0m, in \u001b[0;36m<cell line: 1>\u001b[0;34m()\u001b[0m\n\u001b[0;32m----> 1\u001b[0m my_tuple[\u001b[38;5;241m0\u001b[39m] \u001b[38;5;241m=\u001b[39m \u001b[38;5;124m'\u001b[39m\u001b[38;5;124mone\u001b[39m\u001b[38;5;124m'\u001b[39m\n",
      "\u001b[0;31mTypeError\u001b[0m: 'tuple' object does not support item assignment"
     ]
    }
   ],
   "source": [
    "my_tuple[0] = 'one' #not possible cf. immutable. Advantages not just for trouble shooting."
   ]
  },
  {
   "cell_type": "code",
   "execution_count": 228,
   "id": "70c4e073-c3f7-4f20-8c1e-e42d8dfbc6d6",
   "metadata": {},
   "outputs": [],
   "source": [
    "my_tuple = (1, 2, 3)"
   ]
  },
  {
   "cell_type": "code",
   "execution_count": 229,
   "id": "ab39a38e-0a12-4f0c-8ad0-b17bbb381fac",
   "metadata": {},
   "outputs": [
    {
     "name": "stdout",
     "output_type": "stream",
     "text": [
      "1\n",
      "2\n",
      "3\n"
     ]
    },
    {
     "data": {
      "text/plain": [
       "(None, None, None)"
      ]
     },
     "execution_count": 229,
     "metadata": {},
     "output_type": "execute_result"
    }
   ],
   "source": [
    "a, b, c = my_tuple\n",
    "print(a), print(b), print(c)"
   ]
  },
  {
   "cell_type": "code",
   "execution_count": 234,
   "id": "5ab87d7b-f474-488c-ad07-222c46c9a62e",
   "metadata": {},
   "outputs": [],
   "source": [
    "# cool for permutations:\n",
    "# a, b, c = (1, 2, 3)\n",
    "# x, y = y, x\n",
    "# instead of:\n",
    "# x_temp = x\n",
    "# x = y\n",
    "# y = x_temp\n",
    "# Often we do not need the mutability\n",
    "\n",
    "# stop condons are not going to change in the scope of our project --> it is better to use tuple"
   ]
  },
  {
   "cell_type": "code",
   "execution_count": 235,
   "id": "0fff99b1-6e8d-4561-8077-69091affb090",
   "metadata": {},
   "outputs": [
    {
     "name": "stdout",
     "output_type": "stream",
     "text": [
      "it is a stop codon\n"
     ]
    }
   ],
   "source": [
    "# So now more efficient:\n",
    "codon = 'UGA'\n",
    "stop_codons = ('UAA', 'UAG', 'UGA')\n",
    "\n",
    "if codon == 'AUG':\n",
    "    print('it is the start codon.')\n",
    "elif codon in stop_codons:\n",
    "    print('it is a stop codon')\n",
    "elif codon == 'AAG':\n",
    "    print('This codes for K.')\n",
    "else:\n",
    "    print(\"I give up.\")"
   ]
  },
  {
   "cell_type": "markdown",
   "id": "97a64735-e38e-4e72-b8cd-e75123b55ffe",
   "metadata": {},
   "source": [
    "# Iteration"
   ]
  },
  {
   "cell_type": "code",
   "execution_count": 238,
   "id": "b5b55c5d-26ef-4069-afba-82a4288e6eda",
   "metadata": {},
   "outputs": [
    {
     "data": {
      "text/plain": [
       "0.6888888888888889"
      ]
     },
     "execution_count": 238,
     "metadata": {},
     "output_type": "execute_result"
    }
   ],
   "source": [
    "seq = 'AGCGAGCGAGCGAGCGGCATCTAGCGACGATCGAGCTAGCGCGGC'\n",
    "\n",
    "n_gc = 0\n",
    "\n",
    "len_seq = 0\n",
    "\n",
    "for base in seq:\n",
    "    len_seq += 1\n",
    "    if base in 'GCgc':\n",
    "        n_gc += 1\n",
    "\n",
    "# Divide to get GC content\n",
    "n_gc / len_seq"
   ]
  },
  {
   "cell_type": "code",
   "execution_count": 239,
   "id": "3984b325-7f0c-4888-9e10-65ae029b35af",
   "metadata": {},
   "outputs": [
    {
     "data": {
      "text/plain": [
       "[2, 4, 6, 8, 10]"
      ]
     },
     "execution_count": 239,
     "metadata": {},
     "output_type": "execute_result"
    }
   ],
   "source": [
    "my_integers = [1, 2, 3, 4, 5]\n",
    "\n",
    "for i in range(len(my_integers)):\n",
    "    my_integers[i] *=2\n",
    "    \n",
    "my_integers"
   ]
  },
  {
   "cell_type": "code",
   "execution_count": 240,
   "id": "46c5ccbb-66e9-4827-97b2-da69a5f944d8",
   "metadata": {},
   "outputs": [
    {
     "data": {
      "text/plain": [
       "[0, 1, 2, 3, 4, 5, 6, 7, 8, 9]"
      ]
     },
     "execution_count": 240,
     "metadata": {},
     "output_type": "execute_result"
    }
   ],
   "source": [
    "list(range(10))"
   ]
  },
  {
   "cell_type": "code",
   "execution_count": 242,
   "id": "ed8c8de6-95ae-457d-b5d4-c997c3d0853a",
   "metadata": {},
   "outputs": [
    {
     "data": {
      "text/plain": [
       "[0, 2, 4, 6, 8]"
      ]
     },
     "execution_count": 242,
     "metadata": {},
     "output_type": "execute_result"
    }
   ],
   "source": [
    "list(range(0, 10, 2))"
   ]
  },
  {
   "cell_type": "markdown",
   "id": "2f500f7a-694c-46bb-92b3-69ddebf64504",
   "metadata": {},
   "source": [
    "Not the best way to iterate over indexes, we will discuss it more tomorrow about style and pythonic ways.\n",
    "Better to do:"
   ]
  },
  {
   "cell_type": "code",
   "execution_count": 245,
   "id": "aab188b6-1674-471e-971f-3d15dc6a4992",
   "metadata": {},
   "outputs": [
    {
     "data": {
      "text/plain": [
       "[2, 4, 6, 8, 10]"
      ]
     },
     "execution_count": 245,
     "metadata": {},
     "output_type": "execute_result"
    }
   ],
   "source": [
    "my_integers = [1, 2, 3, 4, 5]\n",
    "\n",
    "for i,n in enumerate(my_integers):\n",
    "    my_integers[i] *=2\n",
    "    \n",
    "my_integers"
   ]
  },
  {
   "cell_type": "code",
   "execution_count": 247,
   "id": "c66be909-63aa-40c8-8dda-c5af613b63a5",
   "metadata": {},
   "outputs": [
    {
     "name": "stdout",
     "output_type": "stream",
     "text": [
      "19 Dunn D\n",
      "8 Ertz MF\n",
      "16 Lavelle MF\n",
      "15 Rapinoe F\n"
     ]
    }
   ],
   "source": [
    "names = ('Dunn', 'Ertz', 'Lavelle', 'Rapinoe')\n",
    "positions = ('D', 'MF', 'MF', 'F')\n",
    "numbers = (19, 8, 16, 15)\n",
    "\n",
    "for num, pos, name in zip(numbers, positions, names): \n",
    "    # zip to iterate over several iterables at once\n",
    "    print(num, name, pos)"
   ]
  },
  {
   "cell_type": "code",
   "execution_count": 248,
   "id": "d58741a9-8b25-45bf-b3d5-98bb386afa8f",
   "metadata": {},
   "outputs": [
    {
     "name": "stdout",
     "output_type": "stream",
     "text": [
      "10\n",
      "9\n",
      "8\n",
      "7\n",
      "6\n",
      "5\n",
      "4\n",
      "3\n",
      "2\n",
      "1\n",
      "Ignition\n"
     ]
    }
   ],
   "source": [
    "count_up = ('Ignition', 1, 2, 3, 4, 5, 6, 7, 8, 9, 10)\n",
    "for count in reversed(count_up):\n",
    "    print(count)"
   ]
  },
  {
   "cell_type": "code",
   "execution_count": 250,
   "id": "77cf6668-f7ad-4e42-a273-7406751d25e5",
   "metadata": {},
   "outputs": [
    {
     "name": "stdout",
     "output_type": "stream",
     "text": [
      "That start codon starts at index 16\n"
     ]
    }
   ],
   "source": [
    "start_codon = 'AUG'\n",
    "seq = 'AGCAGCAGAGGAACAAAUGAAGAUCAUAGGAGAUGA'\n",
    "\n",
    "i = 0\n",
    "\n",
    "while seq[i : i + 3] != start_codon: \n",
    "    # If not start codon, continue add one until reach one.\n",
    "    i += 1\n",
    "\n",
    "print('That start codon starts at index', i)\n",
    "# Be careful not to be stuck in an infinite loop"
   ]
  },
  {
   "cell_type": "code",
   "execution_count": 251,
   "id": "08d90138-00be-4c31-976e-4a3997c8a2c7",
   "metadata": {},
   "outputs": [
    {
     "name": "stdout",
     "output_type": "stream",
     "text": [
      "That start codon starts at index 16\n"
     ]
    }
   ],
   "source": [
    "start_codon = 'AUG'\n",
    "seq = 'AGCAGCAGAGGAACAAAUGAAGAUCAUAGGAGAUGA'\n",
    "\n",
    "i = 0\n",
    "\n",
    "while seq[i : i + 3] != start_codon and i < len(seq): \n",
    "    i += 1\n",
    "\n",
    "print('That start codon starts at index', i)"
   ]
  },
  {
   "cell_type": "markdown",
   "id": "db94e514-1132-4e1d-b96d-ce54120482e7",
   "metadata": {},
   "source": [
    "# Functions"
   ]
  },
  {
   "cell_type": "markdown",
   "id": "bb70fba7-e39e-4948-ab32-e9ff59a4fa52",
   "metadata": {},
   "source": []
  },
  {
   "cell_type": "code",
   "execution_count": 253,
   "id": "39ec1bdb-fe73-4464-8551-6504662160d4",
   "metadata": {},
   "outputs": [],
   "source": [
    "def ratio(x, y):\n",
    "    \"\"\"The ratio of `x` to `y`.\"\"\"\n",
    "    return x / y"
   ]
  },
  {
   "cell_type": "code",
   "execution_count": 254,
   "id": "ced2a237-f94a-4663-8a08-74d47148dfb5",
   "metadata": {},
   "outputs": [
    {
     "data": {
      "text/plain": [
       "1.6666666666666667"
      ]
     },
     "execution_count": 254,
     "metadata": {},
     "output_type": "execute_result"
    }
   ],
   "source": [
    "ratio(5, 3)"
   ]
  },
  {
   "cell_type": "code",
   "execution_count": 255,
   "id": "c7594073-786d-465a-a4c4-532dc8d9b6ea",
   "metadata": {},
   "outputs": [
    {
     "name": "stdout",
     "output_type": "stream",
     "text": [
      "Help on function ratio in module __main__:\n",
      "\n",
      "ratio(x, y)\n",
      "    The ratio of `x` to `y`.\n",
      "\n"
     ]
    }
   ],
   "source": [
    "help(ratio)"
   ]
  },
  {
   "cell_type": "code",
   "execution_count": 256,
   "id": "89df2e04-1de8-44f6-8456-c9bfb08a804a",
   "metadata": {},
   "outputs": [
    {
     "data": {
      "text/plain": [
       "0.25"
      ]
     },
     "execution_count": 256,
     "metadata": {},
     "output_type": "execute_result"
    }
   ],
   "source": [
    "ratio(1, 4)"
   ]
  },
  {
   "cell_type": "code",
   "execution_count": 257,
   "id": "2338e65b-091a-49a5-9081-094027558d7e",
   "metadata": {},
   "outputs": [],
   "source": [
    "# Can have function without arguments\n",
    "def answer_to_the_ultimate_question_of_like_the_universe_and_everything():\n",
    "    \"\"\"Simpler program than Deep Thought's, I bet.\"\"\"\n",
    "    return 42"
   ]
  },
  {
   "cell_type": "code",
   "execution_count": 258,
   "id": "a2619016-cbf6-4ee5-9c8f-f9d4ab079296",
   "metadata": {},
   "outputs": [
    {
     "data": {
      "text/plain": [
       "42"
      ]
     },
     "execution_count": 258,
     "metadata": {},
     "output_type": "execute_result"
    }
   ],
   "source": [
    "answer_to_the_ultimate_question_of_like_the_universe_and_everything()"
   ]
  },
  {
   "cell_type": "code",
   "execution_count": 263,
   "id": "87ccbdf8-dfff-4a35-9254-65a2888bb55d",
   "metadata": {},
   "outputs": [],
   "source": [
    "#no input, no output\n",
    "def think_too_much():\n",
    "    \"\"\"Express Caesar's skepticism about Cassius.\"\"\"\n",
    "    print(\"\"\"Young Cassius has a lean and hungry look,\n",
    "He thinks too much;  such men are dangerous.\"\"\")"
   ]
  },
  {
   "cell_type": "code",
   "execution_count": 261,
   "id": "c3f72321-b361-4eec-a396-e97f4df88b0b",
   "metadata": {},
   "outputs": [
    {
     "name": "stdout",
     "output_type": "stream",
     "text": [
      "Young Cassius has a lean and hungry look,\n",
      "    He thinks too much;  such men are dangerous.\n"
     ]
    }
   ],
   "source": [
    "think_too_much()"
   ]
  },
  {
   "cell_type": "code",
   "execution_count": 264,
   "id": "724e765f-1190-48c8-9170-140bc3a3cab6",
   "metadata": {},
   "outputs": [],
   "source": [
    "def complement_base(base):\n",
    "    \"\"\"Return the Watson-Crick complement of a base.\"\"\"\n",
    "    if base in 'Aa':\n",
    "        return 'T'\n",
    "    elif base in 'Tt':\n",
    "        return 'A'\n",
    "    elif base in 'Gg':\n",
    "        return 'C'\n",
    "    else:\n",
    "        return 'G'\n",
    "\n",
    "def reverse_complement(seq):\n",
    "    \"\"\"Compute the reverse complement of a sequence.\"\"\"\n",
    "    rev_seq = ''\n",
    "    \n",
    "    for base in reversed(seq):\n",
    "        rev_seq += complement_base(base)\n",
    "    \n",
    "    return rev_seq"
   ]
  },
  {
   "cell_type": "code",
   "execution_count": 265,
   "id": "5f1bead6-9664-4bb2-abfe-a80d9f1040cc",
   "metadata": {},
   "outputs": [
    {
     "data": {
      "text/plain": [
       "'GTCGCTAGCCGCTAGTCCT'"
      ]
     },
     "execution_count": 265,
     "metadata": {},
     "output_type": "execute_result"
    }
   ],
   "source": [
    "reverse_complement('AGGACTAGCGGCTAGCGAC')"
   ]
  },
  {
   "cell_type": "code",
   "execution_count": 266,
   "id": "3b699dab-7781-45d8-a3b6-b737ad4367dc",
   "metadata": {},
   "outputs": [],
   "source": [
    "def complement_base(base, material):\n",
    "    \"\"\"Return the Watson-Crick complement of a base.\"\"\"\n",
    "    if base in 'Aa':\n",
    "        if material == 'DNA':\n",
    "            return 'T'\n",
    "        elif material == 'RNA':\n",
    "            return 'U'\n",
    "    elif base in 'TtUu':\n",
    "        return 'A'\n",
    "    elif base in 'Gg':\n",
    "        return 'C'\n",
    "    else:\n",
    "        return 'G'\n",
    "\n",
    "def reverse_complement(seq, material='DNA'):\n",
    "    \"\"\"Compute the reverse complement of a sequence.\"\"\"\n",
    "    rev_seq = ''\n",
    "    \n",
    "    for base in reversed(seq):\n",
    "        rev_seq += complement_base(base, material=material)\n",
    "    \n",
    "    return rev_seq"
   ]
  },
  {
   "cell_type": "code",
   "execution_count": 267,
   "id": "25e0192b-9c92-42a0-9566-29688a0d1aac",
   "metadata": {},
   "outputs": [
    {
     "data": {
      "text/plain": [
       "'GTCGCTAGCCGCTAGTCCT'"
      ]
     },
     "execution_count": 267,
     "metadata": {},
     "output_type": "execute_result"
    }
   ],
   "source": [
    "reverse_complement('AGGACTAGCGGCTAGCGAC')"
   ]
  },
  {
   "cell_type": "code",
   "execution_count": 268,
   "id": "eeeca421-7940-40ae-955f-37960bf23498",
   "metadata": {},
   "outputs": [],
   "source": [
    "def sum_three_things(a, b, c):\n",
    "    return a + b + c"
   ]
  },
  {
   "cell_type": "code",
   "execution_count": 269,
   "id": "a1352011-02bd-484a-bf6c-6e926515521e",
   "metadata": {},
   "outputs": [],
   "source": [
    "my_tuple = (3, 4, 5)"
   ]
  },
  {
   "cell_type": "code",
   "execution_count": 270,
   "id": "9647fd3b-509f-4928-afe2-900a856e81d2",
   "metadata": {},
   "outputs": [
    {
     "data": {
      "text/plain": [
       "12"
      ]
     },
     "execution_count": 270,
     "metadata": {},
     "output_type": "execute_result"
    }
   ],
   "source": [
    "sum_three_things(3, 4, 5)"
   ]
  },
  {
   "cell_type": "code",
   "execution_count": 271,
   "id": "5a371e57-5a50-4aa1-8f3b-144ab808555b",
   "metadata": {},
   "outputs": [
    {
     "data": {
      "text/plain": [
       "12"
      ]
     },
     "execution_count": 271,
     "metadata": {},
     "output_type": "execute_result"
    }
   ],
   "source": [
    "sum_three_things(*my_tuple)"
   ]
  },
  {
   "cell_type": "markdown",
   "id": "c0b91842-493f-40b7-8aa9-4c1e2251402a",
   "metadata": {},
   "source": [
    "We can pass these all in separately by splitting the tuple but putting a * in front of it. A * before a tuple used in this way is referred an unpacking operator, and is referred to by some programmers as a “splat.”"
   ]
  },
  {
   "cell_type": "markdown",
   "id": "c7b7848e-b99e-42d6-b05f-6905a49c8b65",
   "metadata": {},
   "source": [
    "# Methods\n",
    "\n",
    "Methods are special kind of functions applied to a variable of a specific type. *variable.method* (Many methods suggested by tapping tab after the point)."
   ]
  },
  {
   "cell_type": "code",
   "execution_count": 274,
   "id": "f1a420db-dcb2-43cd-8155-9853ecf494db",
   "metadata": {},
   "outputs": [
    {
     "data": {
      "text/plain": [
       "18"
      ]
     },
     "execution_count": 274,
     "metadata": {},
     "output_type": "execute_result"
    }
   ],
   "source": [
    "seq = 'AGCAGCTAGCGTAGCGGAGCTAGCGGAGCGATCGAGCTAGCTAGCGAC'\n",
    "seq.count('G')"
   ]
  },
  {
   "cell_type": "code",
   "execution_count": 278,
   "id": "72aa5d0d-8a53-41eb-9a4c-f2370947e26b",
   "metadata": {},
   "outputs": [
    {
     "data": {
      "text/plain": [
       "18"
      ]
     },
     "execution_count": 278,
     "metadata": {},
     "output_type": "execute_result"
    }
   ],
   "source": [
    "str.count(seq, 'G')"
   ]
  },
  {
   "cell_type": "code",
   "execution_count": 279,
   "id": "7298219b-71e9-4d07-bd4a-c46ede1fa1b9",
   "metadata": {},
   "outputs": [
    {
     "data": {
      "text/plain": [
       "0.625"
      ]
     },
     "execution_count": 279,
     "metadata": {},
     "output_type": "execute_result"
    }
   ],
   "source": [
    "(seq.count('G') + seq.count('C')) / len(seq)"
   ]
  },
  {
   "cell_type": "code",
   "execution_count": 280,
   "id": "668b8dce-846e-428c-8596-86f4e1f55c89",
   "metadata": {},
   "outputs": [],
   "source": [
    "a = 7"
   ]
  },
  {
   "cell_type": "code",
   "execution_count": 281,
   "id": "b0fb9e76-066c-4239-97e6-a33269a78dd7",
   "metadata": {},
   "outputs": [
    {
     "data": {
      "text/plain": [
       "-1"
      ]
     },
     "execution_count": 281,
     "metadata": {},
     "output_type": "execute_result"
    }
   ],
   "source": [
    "seq.find('ATG')"
   ]
  },
  {
   "cell_type": "code",
   "execution_count": 282,
   "id": "360c8e84-df94-44e4-a79a-b6672592bf6d",
   "metadata": {},
   "outputs": [
    {
     "data": {
      "text/plain": [
       "-1"
      ]
     },
     "execution_count": 282,
     "metadata": {},
     "output_type": "execute_result"
    }
   ],
   "source": [
    "seq.rfind('ATG') # search starting from the right"
   ]
  },
  {
   "cell_type": "code",
   "execution_count": 283,
   "id": "448b0c2f-24c5-4451-be7b-7ba6e725fe04",
   "metadata": {},
   "outputs": [
    {
     "data": {
      "text/plain": [
       "'AGCAGCUAGCGUAGCGGAGCUAGCGGAGCGAUCGAGCUAGCUAGCGAC'"
      ]
     },
     "execution_count": 283,
     "metadata": {},
     "output_type": "execute_result"
    }
   ],
   "source": [
    "seq.replace('T', 'U')"
   ]
  },
  {
   "cell_type": "code",
   "execution_count": 284,
   "id": "2b578918-cea2-459c-ae49-a34b8cae7c5e",
   "metadata": {},
   "outputs": [
    {
     "data": {
      "text/plain": [
       "'agcagctagcgtagcggagctagcggagcgatcgagctagctagcgac'"
      ]
     },
     "execution_count": 284,
     "metadata": {},
     "output_type": "execute_result"
    }
   ],
   "source": [
    "seq.lower()"
   ]
  },
  {
   "cell_type": "code",
   "execution_count": 285,
   "id": "a4cd55cb-0f73-46cb-94d5-30d98e198348",
   "metadata": {},
   "outputs": [
    {
     "data": {
      "text/plain": [
       "'The*Dude*abides'"
      ]
     },
     "execution_count": 285,
     "metadata": {},
     "output_type": "execute_result"
    }
   ],
   "source": [
    "world_tuple = ('The', \"Dude\", 'abides')\n",
    "\n",
    "'*'.join(world_tuple)"
   ]
  },
  {
   "cell_type": "code",
   "execution_count": 287,
   "id": "42664db3-5721-4d3c-8223-d3c76754301f",
   "metadata": {},
   "outputs": [
    {
     "data": {
      "text/plain": [
       "'The Dude abides'"
      ]
     },
     "execution_count": 287,
     "metadata": {},
     "output_type": "execute_result"
    }
   ],
   "source": [
    "' '.join(world_tuple)"
   ]
  },
  {
   "cell_type": "markdown",
   "id": "31b5721e-6f35-46de-9f6f-f809816af382",
   "metadata": {},
   "source": [
    "## Mad Lib"
   ]
  },
  {
   "cell_type": "code",
   "execution_count": 291,
   "id": "e3b11a41-ed4d-4c44-b44f-27cd64ada82e",
   "metadata": {},
   "outputs": [
    {
     "name": "stdout",
     "output_type": "stream",
     "text": [
      "\n",
      "Let's do a Mad Lib!\n",
      "During the bootcamp, I feel preposterous.\n",
      "The instructors give us groundhogs.\n",
      "\n"
     ]
    }
   ],
   "source": [
    "adj = 'preposterous'\n",
    "pl_noun = 'groundhogs'\n",
    "\n",
    "my_str = \"\"\"\n",
    "Let's do a Mad Lib!\n",
    "During the bootcamp, I feel {adjective}.\n",
    "The instructors give us {plural_noun}.\n",
    "\"\"\".format(adjective=adj, plural_noun=pl_noun)\n",
    "\n",
    "print(my_str)"
   ]
  },
  {
   "cell_type": "markdown",
   "id": "2eca1387-bbec-402c-91f5-65ae0bc2004e",
   "metadata": {},
   "source": [
    "Can impose format"
   ]
  },
  {
   "cell_type": "code",
   "execution_count": 292,
   "id": "0cbf9970-e78b-4070-baf0-ea200a08ffc8",
   "metadata": {},
   "outputs": [
    {
     "data": {
      "text/plain": [
       "'There are 50 states in the US.'"
      ]
     },
     "execution_count": 292,
     "metadata": {},
     "output_type": "execute_result"
    }
   ],
   "source": [
    "'There are {n:d} states in the US.'.format(n=50)"
   ]
  },
  {
   "cell_type": "code",
   "execution_count": 293,
   "id": "bda087a1-0fd5-4999-9c9f-cff5a2376a25",
   "metadata": {},
   "outputs": [
    {
     "data": {
      "text/plain": [
       "'n is approximately 3.14000000000000012434.'"
      ]
     },
     "execution_count": 293,
     "metadata": {},
     "output_type": "execute_result"
    }
   ],
   "source": [
    "'n is approximately {pi:.20f}.'.format(pi=3.14)"
   ]
  },
  {
   "cell_type": "code",
   "execution_count": 294,
   "id": "a17c92d6-5b2e-4aaf-81ed-21cccd6b3b91",
   "metadata": {},
   "outputs": [
    {
     "data": {
      "text/plain": [
       "'ε0 is approximately 8.8539999999999992e-12 F/m.'"
      ]
     },
     "execution_count": 294,
     "metadata": {},
     "output_type": "execute_result"
    }
   ],
   "source": [
    "'ε0 is approximately {eps_0:.16e} F/m.'.format(eps_0=8.854e-12)"
   ]
  },
  {
   "cell_type": "code",
   "execution_count": 295,
   "id": "b828f55d-8072-4bdd-ba9f-ddec750aa5ad",
   "metadata": {},
   "outputs": [
    {
     "data": {
      "text/plain": [
       "'There are 50 states in the US.'"
      ]
     },
     "execution_count": 295,
     "metadata": {},
     "output_type": "execute_result"
    }
   ],
   "source": [
    "n = 50\n",
    "f'There are {n:d} states in the US.'"
   ]
  },
  {
   "cell_type": "code",
   "execution_count": 297,
   "id": "e66ce872-b09e-43f6-b5cc-523561940cc4",
   "metadata": {},
   "outputs": [
    {
     "data": {
      "text/plain": [
       "'n is approximately 3.14590000000000014069.'"
      ]
     },
     "execution_count": 297,
     "metadata": {},
     "output_type": "execute_result"
    }
   ],
   "source": [
    "pi=3.1459\n",
    "f'n is approximately {pi:.20f}.'"
   ]
  },
  {
   "cell_type": "code",
   "execution_count": 298,
   "id": "3ee3620c-2854-45a9-9e77-f0f0cd3b65ed",
   "metadata": {},
   "outputs": [
    {
     "data": {
      "text/plain": [
       "'ε0 is approximately 8.8539999999999992e-12 F/m.'"
      ]
     },
     "execution_count": 298,
     "metadata": {},
     "output_type": "execute_result"
    }
   ],
   "source": [
    "eps_0=8.854e-12\n",
    "f'ε0 is approximately {eps_0:.16e} F/m.'"
   ]
  },
  {
   "cell_type": "code",
   "execution_count": null,
   "id": "43d17a40-70c7-47b7-809e-a71eec98d773",
   "metadata": {},
   "outputs": [],
   "source": []
  }
 ],
 "metadata": {
  "kernelspec": {
   "display_name": "Python 3 (ipykernel)",
   "language": "python",
   "name": "python3"
  },
  "language_info": {
   "codemirror_mode": {
    "name": "ipython",
    "version": 3
   },
   "file_extension": ".py",
   "mimetype": "text/x-python",
   "name": "python",
   "nbconvert_exporter": "python",
   "pygments_lexer": "ipython3",
   "version": "3.9.12"
  }
 },
 "nbformat": 4,
 "nbformat_minor": 5
}
