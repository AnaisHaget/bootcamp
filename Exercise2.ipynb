{
 "cells": [
  {
   "cell_type": "markdown",
   "id": "a05f8aec-6bdc-4d72-9498-5e5acf3352ca",
   "metadata": {},
   "source": [
    "# Exercise 2\n",
    "\n",
    "## Exercise 2.1: Parsing a FASTA file\n",
    "\n",
    "a) Use command line tools to investigate the FASTA file located at ~git/bootcamp/data/salmonella_spi1_region.fna. This file contains a portion of the Salmonella genome (described in Exercise 4.1)."
   ]
  },
  {
   "cell_type": "markdown",
   "id": "bd1f60b8-db88-4b7a-a018-14aefa5f82d9",
   "metadata": {},
   "source": [
    "**In the terminal ran:**<br>\n",
    "less  data/salmonella_spi1_region.fna<br>\n",
    "head  data/salmonella_spi1_region.fna<br>\n",
    "grep -c \">\" data/salmonella_spi1_region.fna  \n",
    "\n",
    "It is a FASTA file with a header. The sequence starts with \">\". Use of grep to counts number of time \">\" appears, i.e. the number of sequences."
   ]
  },
  {
   "cell_type": "code",
   "execution_count": 23,
   "id": "de272475-4c80-4d6e-8bde-343ff915125a",
   "metadata": {},
   "outputs": [
    {
     "name": "stdout",
     "output_type": "stream",
     "text": [
      ">gi|821161554|gb|CP011428.1| Salmonella enterica subsp. enterica strain YU39, complete genome, subsequence 3000000 to 3200000\n",
      "AAAACCTTAGTAACTGGACTGCTGGGATTTTTCAGCCTGGATACGCTGGTAGATCTCTTC\n",
      "ACGATGGACAGAAACTTCTTTCGGGGCGTTCACGCCAATACGCACCTGGTTGCCCTTCAC\n",
      "CCCTAAAACTGTCACGGTGACCTCATCGCCAATCATGAGGGTCTCACCAACTCGACGAGT\n",
      "CAGAATCAGCATTCTTTGCTCCTTGAAAGATTAAAAGAGTCGGGTCTCTCTGTATCCCGG\n",
      "CATTATCCATCATATAACGCCAAAAAGTAAGCGATGACAAACACCTTAGGTGTAAGCAGT\n",
      "CATGGCATTACATTCTGTTAAACCTAAGTTTAGCCGATATACAAAACTTCAACCTGACTT\n",
      "TATCGTTGTCGATAGCGTTGACGTAAACGCCGCAGCACGGGCTGCGGCGCCAACGAACGC\n",
      "TTATAATTATTGCAATTTTGCGCTGACCCAGCCTTGTACACTGGCTAACGCTGCAGGCAG\n",
      "AGCTGCCGCATCCGTACCACCGGCTTGCGCCATGTCCGGACGACCGCCACCCTTACCGCC\n",
      "CACCTGCTGAGCGACCATCCCAATCAATTCCCCTGCTTTAACCCGGTCGGTCACATCCTT\n",
      "CGACACGCCCGCAATCAGAGAAACCTTACCTTCAACAACCGTTGCCAGTACGATAACGGT\n",
      "AGACCCCAGTTGATTTTTCAGATCATCAACCATGGTTCGCAGCATTTTCGGCTCAATACC\n",
      "AGCAAGCTCGCTAACCAGGAGCTTCACGCCGTTGAGATCGACCGCTTTACTGGAAAGATT\n",
      "TGCACTCTCCTGCGCTGCGGCCTGGTCCTTCAACTGCTGCAACTCTTTTTCCAGCTGACG\n",
      "TGTACGTTCCAGCACGGCACGCACTTTGTCGCCCAGATTCTGGCTGTCGCCCTTCAGCAG\n",
      "ATGCGCAATATCGTTTAAGCGATCGCTTTGCGCATGAACGGTGGCCATAGCGCCTTCACC\n",
      "GGTTACCGCCTCAATACGACGAATGCCCGCTGCGGTGCCGGACTCAGAGATAATACGGAA\n",
      "TAGACCGATATCACCGGTACGACTGGCGTGAGTACCGCCGCACAGTTCAGTAGAGAAATC\n",
      "GCCCATGCTCAGAACGCGTACACGTTCGTCATATTTCTCGCCAAACAGCGCCATGGCCCC\n",
      "TTTCGCCTTCGCCGCGTCGAGATCCATGATGTTCGTTTCAATCGGCAGGTTGCGGCGAAT\n",
      "TTGCGCATTCACCAAATCTTCAACCTCACGAATCTCCGACGGCTTCATCGCTTCATTGTG\n",
      "\u001b[KCGAGAAGTCGAAGCGCAGCACTTTATCGCTAACCAGCGAACCTTTCTGCGCAACGTGTGT\n",
      ":\u001b[K"
     ]
    }
   ],
   "source": [
    "!less  data/salmonella_spi1_region.fna"
   ]
  },
  {
   "cell_type": "markdown",
   "id": "02fde769-a731-41a9-8add-79cbc7373922",
   "metadata": {},
   "source": [
    "b) The format of the Salmonella SPI1 region FASTA file is a common format for such files (though oftentimes FASTA files contain multiple sequences). Use the file I/O skills you have learned to write a function to read in a sequence from a FASTA file containing a single sequence (but possibly having the first line in the file beginning with >). Your function should take as input the name of the FASTA file and return two strings. First, it should return the descriptor string (which starts with >). Second, it should return a string with no gaps containing the sequence."
   ]
  },
  {
   "cell_type": "code",
   "execution_count": 33,
   "id": "6f6fb988-a6ba-4bb3-9e7b-4a743d58cf3b",
   "metadata": {},
   "outputs": [
    {
     "name": "stdout",
     "output_type": "stream",
     "text": [
      ">gi|821161554|gb|CP011428.1| Salmonella enterica subsp. enterica strain YU39, complete genome, subsequence 3000000 to 3200000\n",
      "\n",
      "AAAACCTTAGTAACTGGACTGCTGGGATTTTTCAGCCTGGATACGCTGGTAGATCTCTTCACGATGGACAGAAACTTCTTTCGGGGCGTTCACGCCAATA\n",
      "CGTTGCGCAGCGTTAGTGGTGCACGCCAAAATGATTCCGGATGCGGACCTGGCCTCATTAATGAAGCAAATCCCCGGCATGGTGCTGATTAACCGCATTT\n",
      "False\n"
     ]
    }
   ],
   "source": [
    "def Extract_Descriptor_Sequence(Filename):\n",
    "    with open(Filename, 'r') as f:\n",
    "        descriptor = f.readline()\n",
    "        \n",
    "        sequence = ''\n",
    "        temp_line = f.readline().rstrip()\n",
    "        while temp_line != '':\n",
    "            sequence += temp_line\n",
    "            temp_line = f.readline().rstrip()      \n",
    "    \n",
    "    return descriptor, sequence, \n",
    "\n",
    "Filename = 'data/salmonella_spi1_region.fna'\n",
    "descriptor, sequence = Extract_Descriptor_Sequence(Filename)\n",
    "\n",
    "print(descriptor, sequence[:100], sequence[-100:], sep='\\n')\n",
    "print(sequence.isspace())"
   ]
  },
  {
   "cell_type": "markdown",
   "id": "94a001da-b74f-4c71-b475-34a42d189ddf",
   "metadata": {},
   "source": [
    "## Exercise 2.2: Restriction enzyme cut sites\n",
    "\n",
    "a) New England Biosystems sells purified DNA of the genome of λ-phage, a bacteriophage that infect E. coli. You can download the FASTA file containing the sequence here. Use the function you wrote in Exercise 2.1 to extract the sequence.\n",
    "\n",
    "*Remark: the sequences are palyndromes*"
   ]
  },
  {
   "cell_type": "code",
   "execution_count": 35,
   "id": "3e848541-f749-4422-b88a-1fca2aae988e",
   "metadata": {},
   "outputs": [
    {
     "name": "stdout",
     "output_type": "stream",
     "text": [
      ">Lambda_NEB\n",
      "\n",
      "GGGCGGCGACCTCGCGGGTTTTCGCTATTTATGAAAATTTTCCGGTTTAAGGCGTTTCCGTTCTTCTTCGTCATAACTTAATGTTTTTATTTAAAATACC\n",
      "GATTATTTGACGTGGTTTGATGGCCTCCACGCACGTTGTGATATGTAGATGATAATCATTATCACTTTACGGGTCCTTTCCGGTGATCCGACAGGTTACG\n",
      "False\n"
     ]
    }
   ],
   "source": [
    "filename = 'data/lambdafsa.txt'\n",
    "descriptor, sequence = Extract_Descriptor_Sequence(filename)\n",
    "\n",
    "print(descriptor, sequence[:100], sequence[-100:], sep='\\n')\n",
    "print(sequence.isspace())"
   ]
  },
  {
   "cell_type": "markdown",
   "id": "a32a1d36-8e9f-4a8c-a246-e2eccae91eef",
   "metadata": {},
   "source": [
    "b) Write a function with call signature\n",
    "\n",
    "*restriction_sites(seq, recoq_seq)*\n",
    "\n",
    "that takes as arguments a sequence and the recognition sequence of a restriction enzyme sites and returns the indices of the first base or each of the restriction sites in the sequence. Use this function to find the indices of the restriction sites of λ-DNA for HindIII, EcoRI, and KpnI. Compare your results with those given here, which contain a comprehensive list of locations of restriction sites for a variety of enzymes."
   ]
  },
  {
   "cell_type": "code",
   "execution_count": 36,
   "id": "42277e26-74c9-4475-bda2-f33eb7fa49b6",
   "metadata": {},
   "outputs": [],
   "source": [
    "import re\n",
    "#[m.start() for m in re.finditer('test', 'test test test test')]\n",
    "#[0, 5, 10, 15]\n",
    "\n",
    "def restriction_sites(seq, recoq_seq):\n",
    "    for i in re.\n",
    "    \n",
    "    \n",
    "    return sites_list"
   ]
  },
  {
   "cell_type": "markdown",
   "id": "cb9f3650-b433-4d3d-85c3-453efbb5f3e7",
   "metadata": {},
   "source": [
    "## Exercise 2.3: Pathogenicity islands\n",
    "\n",
    "a) Write a function that divides a sequence into blocks and computes the GC content for each block, returning a tuple. The function signature should look like\n",
    "\n",
    "*gc_blocks(seq, block_size)*\n",
    "\n",
    "To be clear, if *seq = 'ATGACTACGT'* and *block_size = 4*, the blocks to be considered are\n",
    "\n",
    "*ATGA\n",
    "CTAC*\n",
    "\n",
    "and the function should return (0.25, 0.5). Note that the blocks are non-overlapping and that we don’t bother with the fact that end of the sequence that does not fit completely in a block."
   ]
  },
  {
   "cell_type": "code",
   "execution_count": 43,
   "id": "13d74609-9a98-4194-9688-5341e2fe749b",
   "metadata": {},
   "outputs": [
    {
     "data": {
      "text/plain": [
       "2"
      ]
     },
     "execution_count": 43,
     "metadata": {},
     "output_type": "execute_result"
    }
   ],
   "source": [
    "A = '0123456234789'\n",
    "B = '234'\n",
    "\n",
    "A.index(B)\n"
   ]
  },
  {
   "cell_type": "markdown",
   "id": "5040d24f-c8e4-4fe9-8387-9a605b8ab18c",
   "metadata": {},
   "source": [
    "b) Write a function that takes as input a sequence, block size, and a threshold GC content, and returns the original sequence where every base in a block with GC content above threshold is capitalized and every base below the threshold is lowercase. You would call the function like this:\n",
    "\n",
    "*mapped_seq = gc_map(seq, block_size, gc_thresh)*"
   ]
  },
  {
   "cell_type": "code",
   "execution_count": null,
   "id": "80ce6c09-4817-45f7-b416-3fddb7798b8b",
   "metadata": {},
   "outputs": [],
   "source": []
  },
  {
   "cell_type": "markdown",
   "id": "e59063aa-6088-45b1-a7a5-4e3dfbc07654",
   "metadata": {},
   "source": [
    "c) Use the gc_map() function to generate a GC content map for the Salmonella sequence with block_size = 1000 and gc_thresh = 0.45. Where do you think the pathogenicity island is?"
   ]
  },
  {
   "cell_type": "code",
   "execution_count": null,
   "id": "e535c691-dd3b-49c8-b96d-5b4869b719b8",
   "metadata": {},
   "outputs": [],
   "source": []
  },
  {
   "cell_type": "markdown",
   "id": "f12596bb-5c22-460f-be91-c357de7e0aaf",
   "metadata": {},
   "source": [
    "d) Write the GC-mapped sequence (with upper and lower characters) to a new FASTA file. Use the same description line (which began with a > in the original FASTA file), and have line breaks every 60 characters in the sequence."
   ]
  },
  {
   "cell_type": "code",
   "execution_count": null,
   "id": "a7cc8e6e-716f-46ff-b53c-cea64eb761c9",
   "metadata": {},
   "outputs": [],
   "source": []
  },
  {
   "cell_type": "markdown",
   "id": "789067b7-1d39-4daf-815b-a7314c00234a",
   "metadata": {},
   "source": [
    "## Exercise 2.4: ORF detection\n",
    "a) Write a function, longest_orf(), that takes a DNA sequence as input and finds the longest open reading frame (ORF) in the sequence (we will not consider reverse complements). A sequence fragment constitutes an ORF if the following are all true.\n",
    "\n",
    "It begins with ATG.\n",
    "It ends with any of TGA, TAG, or TAA.\n",
    "The total number of bases is a multiple of 3."
   ]
  },
  {
   "cell_type": "code",
   "execution_count": null,
   "id": "4adc100a-4ed3-4460-a123-a4d0b40d49ad",
   "metadata": {},
   "outputs": [],
   "source": []
  },
  {
   "cell_type": "markdown",
   "id": "25b201e4-7ec6-42e5-bb21-80d683cb0321",
   "metadata": {},
   "source": [
    "b) Use your function to find the longest ORF from the section of the Salmonella genome we are investigating."
   ]
  },
  {
   "cell_type": "code",
   "execution_count": null,
   "id": "fa812d60-9f16-4cc5-9b36-ff07c5e9266a",
   "metadata": {},
   "outputs": [],
   "source": []
  },
  {
   "cell_type": "markdown",
   "id": "7d48fd63-3d60-43c7-8a00-67d3293358a5",
   "metadata": {},
   "source": [
    "c) Write a function that converts a DNA sequence into a protein sequence. You can of course use the bootcamp_utils module."
   ]
  },
  {
   "cell_type": "code",
   "execution_count": null,
   "id": "52b43fc3-60a4-4307-98f4-34dcfc944580",
   "metadata": {},
   "outputs": [],
   "source": []
  },
  {
   "cell_type": "markdown",
   "id": "088b4261-3a90-4ab9-b64e-f1bd509a1e59",
   "metadata": {},
   "source": [
    "d) Translate the longest ORF you generated in part (b) into a protein sequence and perform a BLAST search. Search for the protein sequence (a blastp query). What gene is it?"
   ]
  },
  {
   "cell_type": "code",
   "execution_count": null,
   "id": "e60f40ff-f8d6-4a61-883a-1dceb084e082",
   "metadata": {},
   "outputs": [],
   "source": []
  },
  {
   "cell_type": "markdown",
   "id": "daa84f8b-4305-4c70-9363-051b88a1191b",
   "metadata": {},
   "source": [
    "e) [Bonus challenge] Modify your function to return the n longest ORFs. Compute the five longest ORFs for the Salmonella genome section we are working with. Perform BLAST searches on them. What are they?"
   ]
  },
  {
   "cell_type": "code",
   "execution_count": null,
   "id": "c5b9d99d-019a-4136-b760-c95fa5a030a7",
   "metadata": {},
   "outputs": [],
   "source": []
  }
 ],
 "metadata": {
  "kernelspec": {
   "display_name": "Python 3 (ipykernel)",
   "language": "python",
   "name": "python3"
  },
  "language_info": {
   "codemirror_mode": {
    "name": "ipython",
    "version": 3
   },
   "file_extension": ".py",
   "mimetype": "text/x-python",
   "name": "python",
   "nbconvert_exporter": "python",
   "pygments_lexer": "ipython3",
   "version": "3.9.12"
  }
 },
 "nbformat": 4,
 "nbformat_minor": 5
}
