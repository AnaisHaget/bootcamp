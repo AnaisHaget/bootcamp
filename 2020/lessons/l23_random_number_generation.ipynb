{
 "cells": [
  {
   "cell_type": "markdown",
   "metadata": {},
   "source": [
    "# Lesson 23: Random number generation\n",
    "\n",
    "<hr>"
   ]
  },
  {
   "cell_type": "code",
   "execution_count": 1,
   "metadata": {},
   "outputs": [
    {
     "data": {
      "text/html": [
       "\n",
       "    <div class=\"bk-root\">\n",
       "        <a href=\"https://bokeh.org\" target=\"_blank\" class=\"bk-logo bk-logo-small bk-logo-notebook\"></a>\n",
       "        <span id=\"1001\">Loading BokehJS ...</span>\n",
       "    </div>"
      ]
     },
     "metadata": {},
     "output_type": "display_data"
    },
    {
     "data": {
      "application/javascript": [
       "\n",
       "(function(root) {\n",
       "  function now() {\n",
       "    return new Date();\n",
       "  }\n",
       "\n",
       "  var force = true;\n",
       "\n",
       "  if (typeof root._bokeh_onload_callbacks === \"undefined\" || force === true) {\n",
       "    root._bokeh_onload_callbacks = [];\n",
       "    root._bokeh_is_loading = undefined;\n",
       "  }\n",
       "\n",
       "  var JS_MIME_TYPE = 'application/javascript';\n",
       "  var HTML_MIME_TYPE = 'text/html';\n",
       "  var EXEC_MIME_TYPE = 'application/vnd.bokehjs_exec.v0+json';\n",
       "  var CLASS_NAME = 'output_bokeh rendered_html';\n",
       "\n",
       "  /**\n",
       "   * Render data to the DOM node\n",
       "   */\n",
       "  function render(props, node) {\n",
       "    var script = document.createElement(\"script\");\n",
       "    node.appendChild(script);\n",
       "  }\n",
       "\n",
       "  /**\n",
       "   * Handle when an output is cleared or removed\n",
       "   */\n",
       "  function handleClearOutput(event, handle) {\n",
       "    var cell = handle.cell;\n",
       "\n",
       "    var id = cell.output_area._bokeh_element_id;\n",
       "    var server_id = cell.output_area._bokeh_server_id;\n",
       "    // Clean up Bokeh references\n",
       "    if (id != null && id in Bokeh.index) {\n",
       "      Bokeh.index[id].model.document.clear();\n",
       "      delete Bokeh.index[id];\n",
       "    }\n",
       "\n",
       "    if (server_id !== undefined) {\n",
       "      // Clean up Bokeh references\n",
       "      var cmd = \"from bokeh.io.state import curstate; print(curstate().uuid_to_server['\" + server_id + \"'].get_sessions()[0].document.roots[0]._id)\";\n",
       "      cell.notebook.kernel.execute(cmd, {\n",
       "        iopub: {\n",
       "          output: function(msg) {\n",
       "            var id = msg.content.text.trim();\n",
       "            if (id in Bokeh.index) {\n",
       "              Bokeh.index[id].model.document.clear();\n",
       "              delete Bokeh.index[id];\n",
       "            }\n",
       "          }\n",
       "        }\n",
       "      });\n",
       "      // Destroy server and session\n",
       "      var cmd = \"import bokeh.io.notebook as ion; ion.destroy_server('\" + server_id + \"')\";\n",
       "      cell.notebook.kernel.execute(cmd);\n",
       "    }\n",
       "  }\n",
       "\n",
       "  /**\n",
       "   * Handle when a new output is added\n",
       "   */\n",
       "  function handleAddOutput(event, handle) {\n",
       "    var output_area = handle.output_area;\n",
       "    var output = handle.output;\n",
       "\n",
       "    // limit handleAddOutput to display_data with EXEC_MIME_TYPE content only\n",
       "    if ((output.output_type != \"display_data\") || (!output.data.hasOwnProperty(EXEC_MIME_TYPE))) {\n",
       "      return\n",
       "    }\n",
       "\n",
       "    var toinsert = output_area.element.find(\".\" + CLASS_NAME.split(' ')[0]);\n",
       "\n",
       "    if (output.metadata[EXEC_MIME_TYPE][\"id\"] !== undefined) {\n",
       "      toinsert[toinsert.length - 1].firstChild.textContent = output.data[JS_MIME_TYPE];\n",
       "      // store reference to embed id on output_area\n",
       "      output_area._bokeh_element_id = output.metadata[EXEC_MIME_TYPE][\"id\"];\n",
       "    }\n",
       "    if (output.metadata[EXEC_MIME_TYPE][\"server_id\"] !== undefined) {\n",
       "      var bk_div = document.createElement(\"div\");\n",
       "      bk_div.innerHTML = output.data[HTML_MIME_TYPE];\n",
       "      var script_attrs = bk_div.children[0].attributes;\n",
       "      for (var i = 0; i < script_attrs.length; i++) {\n",
       "        toinsert[toinsert.length - 1].firstChild.setAttribute(script_attrs[i].name, script_attrs[i].value);\n",
       "        toinsert[toinsert.length - 1].firstChild.textContent = bk_div.children[0].textContent\n",
       "      }\n",
       "      // store reference to server id on output_area\n",
       "      output_area._bokeh_server_id = output.metadata[EXEC_MIME_TYPE][\"server_id\"];\n",
       "    }\n",
       "  }\n",
       "\n",
       "  function register_renderer(events, OutputArea) {\n",
       "\n",
       "    function append_mime(data, metadata, element) {\n",
       "      // create a DOM node to render to\n",
       "      var toinsert = this.create_output_subarea(\n",
       "        metadata,\n",
       "        CLASS_NAME,\n",
       "        EXEC_MIME_TYPE\n",
       "      );\n",
       "      this.keyboard_manager.register_events(toinsert);\n",
       "      // Render to node\n",
       "      var props = {data: data, metadata: metadata[EXEC_MIME_TYPE]};\n",
       "      render(props, toinsert[toinsert.length - 1]);\n",
       "      element.append(toinsert);\n",
       "      return toinsert\n",
       "    }\n",
       "\n",
       "    /* Handle when an output is cleared or removed */\n",
       "    events.on('clear_output.CodeCell', handleClearOutput);\n",
       "    events.on('delete.Cell', handleClearOutput);\n",
       "\n",
       "    /* Handle when a new output is added */\n",
       "    events.on('output_added.OutputArea', handleAddOutput);\n",
       "\n",
       "    /**\n",
       "     * Register the mime type and append_mime function with output_area\n",
       "     */\n",
       "    OutputArea.prototype.register_mime_type(EXEC_MIME_TYPE, append_mime, {\n",
       "      /* Is output safe? */\n",
       "      safe: true,\n",
       "      /* Index of renderer in `output_area.display_order` */\n",
       "      index: 0\n",
       "    });\n",
       "  }\n",
       "\n",
       "  // register the mime type if in Jupyter Notebook environment and previously unregistered\n",
       "  if (root.Jupyter !== undefined) {\n",
       "    var events = require('base/js/events');\n",
       "    var OutputArea = require('notebook/js/outputarea').OutputArea;\n",
       "\n",
       "    if (OutputArea.prototype.mime_types().indexOf(EXEC_MIME_TYPE) == -1) {\n",
       "      register_renderer(events, OutputArea);\n",
       "    }\n",
       "  }\n",
       "\n",
       "  \n",
       "  if (typeof (root._bokeh_timeout) === \"undefined\" || force === true) {\n",
       "    root._bokeh_timeout = Date.now() + 5000;\n",
       "    root._bokeh_failed_load = false;\n",
       "  }\n",
       "\n",
       "  var NB_LOAD_WARNING = {'data': {'text/html':\n",
       "     \"<div style='background-color: #fdd'>\\n\"+\n",
       "     \"<p>\\n\"+\n",
       "     \"BokehJS does not appear to have successfully loaded. If loading BokehJS from CDN, this \\n\"+\n",
       "     \"may be due to a slow or bad network connection. Possible fixes:\\n\"+\n",
       "     \"</p>\\n\"+\n",
       "     \"<ul>\\n\"+\n",
       "     \"<li>re-rerun `output_notebook()` to attempt to load from CDN again, or</li>\\n\"+\n",
       "     \"<li>use INLINE resources instead, as so:</li>\\n\"+\n",
       "     \"</ul>\\n\"+\n",
       "     \"<code>\\n\"+\n",
       "     \"from bokeh.resources import INLINE\\n\"+\n",
       "     \"output_notebook(resources=INLINE)\\n\"+\n",
       "     \"</code>\\n\"+\n",
       "     \"</div>\"}};\n",
       "\n",
       "  function display_loaded() {\n",
       "    var el = document.getElementById(\"1001\");\n",
       "    if (el != null) {\n",
       "      el.textContent = \"BokehJS is loading...\";\n",
       "    }\n",
       "    if (root.Bokeh !== undefined) {\n",
       "      if (el != null) {\n",
       "        el.textContent = \"BokehJS \" + root.Bokeh.version + \" successfully loaded.\";\n",
       "      }\n",
       "    } else if (Date.now() < root._bokeh_timeout) {\n",
       "      setTimeout(display_loaded, 100)\n",
       "    }\n",
       "  }\n",
       "\n",
       "\n",
       "  function run_callbacks() {\n",
       "    try {\n",
       "      root._bokeh_onload_callbacks.forEach(function(callback) {\n",
       "        if (callback != null)\n",
       "          callback();\n",
       "      });\n",
       "    } finally {\n",
       "      delete root._bokeh_onload_callbacks\n",
       "    }\n",
       "    console.debug(\"Bokeh: all callbacks have finished\");\n",
       "  }\n",
       "\n",
       "  function load_libs(css_urls, js_urls, callback) {\n",
       "    if (css_urls == null) css_urls = [];\n",
       "    if (js_urls == null) js_urls = [];\n",
       "\n",
       "    root._bokeh_onload_callbacks.push(callback);\n",
       "    if (root._bokeh_is_loading > 0) {\n",
       "      console.debug(\"Bokeh: BokehJS is being loaded, scheduling callback at\", now());\n",
       "      return null;\n",
       "    }\n",
       "    if (js_urls == null || js_urls.length === 0) {\n",
       "      run_callbacks();\n",
       "      return null;\n",
       "    }\n",
       "    console.debug(\"Bokeh: BokehJS not loaded, scheduling load and callback at\", now());\n",
       "    root._bokeh_is_loading = css_urls.length + js_urls.length;\n",
       "\n",
       "    function on_load() {\n",
       "      root._bokeh_is_loading--;\n",
       "      if (root._bokeh_is_loading === 0) {\n",
       "        console.debug(\"Bokeh: all BokehJS libraries/stylesheets loaded\");\n",
       "        run_callbacks()\n",
       "      }\n",
       "    }\n",
       "\n",
       "    function on_error() {\n",
       "      console.error(\"failed to load \" + url);\n",
       "    }\n",
       "\n",
       "    for (var i = 0; i < css_urls.length; i++) {\n",
       "      var url = css_urls[i];\n",
       "      const element = document.createElement(\"link\");\n",
       "      element.onload = on_load;\n",
       "      element.onerror = on_error;\n",
       "      element.rel = \"stylesheet\";\n",
       "      element.type = \"text/css\";\n",
       "      element.href = url;\n",
       "      console.debug(\"Bokeh: injecting link tag for BokehJS stylesheet: \", url);\n",
       "      document.body.appendChild(element);\n",
       "    }\n",
       "\n",
       "    const hashes = {\"https://cdn.bokeh.org/bokeh/release/bokeh-2.0.2.min.js\": \"ufR9RFnRs6lniiaFvtJziE0YeidtAgBRH6ux2oUItHw5WTvE1zuk9uzhUU/FJXDp\", \"https://cdn.bokeh.org/bokeh/release/bokeh-widgets-2.0.2.min.js\": \"8QM/PGWBT+IssZuRcDcjzwIh1mkOmJSoNMmyYDZbCfXJg3Ap1lEvdVgFuSAwhb/J\", \"https://cdn.bokeh.org/bokeh/release/bokeh-tables-2.0.2.min.js\": \"Jm8cH3Rg0P6UeZhVY5cLy1WzKajUT9KImCY+76hEqrcJt59/d8GPvFHjCkYgnSIn\", \"https://cdn.bokeh.org/bokeh/release/bokeh-gl-2.0.2.min.js\": \"Ozhzj+SI7ywm74aOI/UajcWz+C0NjsPunEVyVIrxzYkB+jA+2tUw8x5xJCbVtK5I\"};\n",
       "\n",
       "    for (var i = 0; i < js_urls.length; i++) {\n",
       "      var url = js_urls[i];\n",
       "      var element = document.createElement('script');\n",
       "      element.onload = on_load;\n",
       "      element.onerror = on_error;\n",
       "      element.async = false;\n",
       "      element.src = url;\n",
       "      if (url in hashes) {\n",
       "        element.crossOrigin = \"anonymous\";\n",
       "        element.integrity = \"sha384-\" + hashes[url];\n",
       "      }\n",
       "      console.debug(\"Bokeh: injecting script tag for BokehJS library: \", url);\n",
       "      document.head.appendChild(element);\n",
       "    }\n",
       "  };\n",
       "\n",
       "  function inject_raw_css(css) {\n",
       "    const element = document.createElement(\"style\");\n",
       "    element.appendChild(document.createTextNode(css));\n",
       "    document.body.appendChild(element);\n",
       "  }\n",
       "\n",
       "  \n",
       "  var js_urls = [\"https://cdn.bokeh.org/bokeh/release/bokeh-2.0.2.min.js\", \"https://cdn.bokeh.org/bokeh/release/bokeh-widgets-2.0.2.min.js\", \"https://cdn.bokeh.org/bokeh/release/bokeh-tables-2.0.2.min.js\", \"https://cdn.bokeh.org/bokeh/release/bokeh-gl-2.0.2.min.js\"];\n",
       "  var css_urls = [];\n",
       "  \n",
       "\n",
       "  var inline_js = [\n",
       "    function(Bokeh) {\n",
       "      Bokeh.set_log_level(\"info\");\n",
       "    },\n",
       "    function(Bokeh) {\n",
       "    \n",
       "    \n",
       "    }\n",
       "  ];\n",
       "\n",
       "  function run_inline_js() {\n",
       "    \n",
       "    if (root.Bokeh !== undefined || force === true) {\n",
       "      \n",
       "    for (var i = 0; i < inline_js.length; i++) {\n",
       "      inline_js[i].call(root, root.Bokeh);\n",
       "    }\n",
       "    if (force === true) {\n",
       "        display_loaded();\n",
       "      }} else if (Date.now() < root._bokeh_timeout) {\n",
       "      setTimeout(run_inline_js, 100);\n",
       "    } else if (!root._bokeh_failed_load) {\n",
       "      console.log(\"Bokeh: BokehJS failed to load within specified timeout.\");\n",
       "      root._bokeh_failed_load = true;\n",
       "    } else if (force !== true) {\n",
       "      var cell = $(document.getElementById(\"1001\")).parents('.cell').data().cell;\n",
       "      cell.output_area.append_execute_result(NB_LOAD_WARNING)\n",
       "    }\n",
       "\n",
       "  }\n",
       "\n",
       "  if (root._bokeh_is_loading === 0) {\n",
       "    console.debug(\"Bokeh: BokehJS loaded, going straight to plotting\");\n",
       "    run_inline_js();\n",
       "  } else {\n",
       "    load_libs(css_urls, js_urls, function() {\n",
       "      console.debug(\"Bokeh: BokehJS plotting callback run at\", now());\n",
       "      run_inline_js();\n",
       "    });\n",
       "  }\n",
       "}(window));"
      ],
      "application/vnd.bokehjs_load.v0+json": "\n(function(root) {\n  function now() {\n    return new Date();\n  }\n\n  var force = true;\n\n  if (typeof root._bokeh_onload_callbacks === \"undefined\" || force === true) {\n    root._bokeh_onload_callbacks = [];\n    root._bokeh_is_loading = undefined;\n  }\n\n  \n\n  \n  if (typeof (root._bokeh_timeout) === \"undefined\" || force === true) {\n    root._bokeh_timeout = Date.now() + 5000;\n    root._bokeh_failed_load = false;\n  }\n\n  var NB_LOAD_WARNING = {'data': {'text/html':\n     \"<div style='background-color: #fdd'>\\n\"+\n     \"<p>\\n\"+\n     \"BokehJS does not appear to have successfully loaded. If loading BokehJS from CDN, this \\n\"+\n     \"may be due to a slow or bad network connection. Possible fixes:\\n\"+\n     \"</p>\\n\"+\n     \"<ul>\\n\"+\n     \"<li>re-rerun `output_notebook()` to attempt to load from CDN again, or</li>\\n\"+\n     \"<li>use INLINE resources instead, as so:</li>\\n\"+\n     \"</ul>\\n\"+\n     \"<code>\\n\"+\n     \"from bokeh.resources import INLINE\\n\"+\n     \"output_notebook(resources=INLINE)\\n\"+\n     \"</code>\\n\"+\n     \"</div>\"}};\n\n  function display_loaded() {\n    var el = document.getElementById(\"1001\");\n    if (el != null) {\n      el.textContent = \"BokehJS is loading...\";\n    }\n    if (root.Bokeh !== undefined) {\n      if (el != null) {\n        el.textContent = \"BokehJS \" + root.Bokeh.version + \" successfully loaded.\";\n      }\n    } else if (Date.now() < root._bokeh_timeout) {\n      setTimeout(display_loaded, 100)\n    }\n  }\n\n\n  function run_callbacks() {\n    try {\n      root._bokeh_onload_callbacks.forEach(function(callback) {\n        if (callback != null)\n          callback();\n      });\n    } finally {\n      delete root._bokeh_onload_callbacks\n    }\n    console.debug(\"Bokeh: all callbacks have finished\");\n  }\n\n  function load_libs(css_urls, js_urls, callback) {\n    if (css_urls == null) css_urls = [];\n    if (js_urls == null) js_urls = [];\n\n    root._bokeh_onload_callbacks.push(callback);\n    if (root._bokeh_is_loading > 0) {\n      console.debug(\"Bokeh: BokehJS is being loaded, scheduling callback at\", now());\n      return null;\n    }\n    if (js_urls == null || js_urls.length === 0) {\n      run_callbacks();\n      return null;\n    }\n    console.debug(\"Bokeh: BokehJS not loaded, scheduling load and callback at\", now());\n    root._bokeh_is_loading = css_urls.length + js_urls.length;\n\n    function on_load() {\n      root._bokeh_is_loading--;\n      if (root._bokeh_is_loading === 0) {\n        console.debug(\"Bokeh: all BokehJS libraries/stylesheets loaded\");\n        run_callbacks()\n      }\n    }\n\n    function on_error() {\n      console.error(\"failed to load \" + url);\n    }\n\n    for (var i = 0; i < css_urls.length; i++) {\n      var url = css_urls[i];\n      const element = document.createElement(\"link\");\n      element.onload = on_load;\n      element.onerror = on_error;\n      element.rel = \"stylesheet\";\n      element.type = \"text/css\";\n      element.href = url;\n      console.debug(\"Bokeh: injecting link tag for BokehJS stylesheet: \", url);\n      document.body.appendChild(element);\n    }\n\n    const hashes = {\"https://cdn.bokeh.org/bokeh/release/bokeh-2.0.2.min.js\": \"ufR9RFnRs6lniiaFvtJziE0YeidtAgBRH6ux2oUItHw5WTvE1zuk9uzhUU/FJXDp\", \"https://cdn.bokeh.org/bokeh/release/bokeh-widgets-2.0.2.min.js\": \"8QM/PGWBT+IssZuRcDcjzwIh1mkOmJSoNMmyYDZbCfXJg3Ap1lEvdVgFuSAwhb/J\", \"https://cdn.bokeh.org/bokeh/release/bokeh-tables-2.0.2.min.js\": \"Jm8cH3Rg0P6UeZhVY5cLy1WzKajUT9KImCY+76hEqrcJt59/d8GPvFHjCkYgnSIn\", \"https://cdn.bokeh.org/bokeh/release/bokeh-gl-2.0.2.min.js\": \"Ozhzj+SI7ywm74aOI/UajcWz+C0NjsPunEVyVIrxzYkB+jA+2tUw8x5xJCbVtK5I\"};\n\n    for (var i = 0; i < js_urls.length; i++) {\n      var url = js_urls[i];\n      var element = document.createElement('script');\n      element.onload = on_load;\n      element.onerror = on_error;\n      element.async = false;\n      element.src = url;\n      if (url in hashes) {\n        element.crossOrigin = \"anonymous\";\n        element.integrity = \"sha384-\" + hashes[url];\n      }\n      console.debug(\"Bokeh: injecting script tag for BokehJS library: \", url);\n      document.head.appendChild(element);\n    }\n  };\n\n  function inject_raw_css(css) {\n    const element = document.createElement(\"style\");\n    element.appendChild(document.createTextNode(css));\n    document.body.appendChild(element);\n  }\n\n  \n  var js_urls = [\"https://cdn.bokeh.org/bokeh/release/bokeh-2.0.2.min.js\", \"https://cdn.bokeh.org/bokeh/release/bokeh-widgets-2.0.2.min.js\", \"https://cdn.bokeh.org/bokeh/release/bokeh-tables-2.0.2.min.js\", \"https://cdn.bokeh.org/bokeh/release/bokeh-gl-2.0.2.min.js\"];\n  var css_urls = [];\n  \n\n  var inline_js = [\n    function(Bokeh) {\n      Bokeh.set_log_level(\"info\");\n    },\n    function(Bokeh) {\n    \n    \n    }\n  ];\n\n  function run_inline_js() {\n    \n    if (root.Bokeh !== undefined || force === true) {\n      \n    for (var i = 0; i < inline_js.length; i++) {\n      inline_js[i].call(root, root.Bokeh);\n    }\n    if (force === true) {\n        display_loaded();\n      }} else if (Date.now() < root._bokeh_timeout) {\n      setTimeout(run_inline_js, 100);\n    } else if (!root._bokeh_failed_load) {\n      console.log(\"Bokeh: BokehJS failed to load within specified timeout.\");\n      root._bokeh_failed_load = true;\n    } else if (force !== true) {\n      var cell = $(document.getElementById(\"1001\")).parents('.cell').data().cell;\n      cell.output_area.append_execute_result(NB_LOAD_WARNING)\n    }\n\n  }\n\n  if (root._bokeh_is_loading === 0) {\n    console.debug(\"Bokeh: BokehJS loaded, going straight to plotting\");\n    run_inline_js();\n  } else {\n    load_libs(css_urls, js_urls, function() {\n      console.debug(\"Bokeh: BokehJS plotting callback run at\", now());\n      run_inline_js();\n    });\n  }\n}(window));"
     },
     "metadata": {},
     "output_type": "display_data"
    }
   ],
   "source": [
    "import numpy as np\n",
    "import pandas as pd\n",
    "import scipy.stats\n",
    "\n",
    "import bokeh_catplot\n",
    "\n",
    "import bokeh.io\n",
    "import bokeh.plotting\n",
    "\n",
    "bokeh.io.output_notebook()"
   ]
  },
  {
   "cell_type": "markdown",
   "metadata": {},
   "source": [
    "<hr>\n",
    "\n",
    "**Random number generation** (RNG), besides being a [song in the original off-Broadway run of *Hedwig and the Angry Inch*](https://www.youtube.com/watch?v=KzGHjsMGdy0), is the process by which a string of random numbers may be drawn. Of course, the numbers are not completely random for several reasons.\n",
    "\n",
    "1. They are drawn from a probability distribution. The most common one is the uniform distribution on the domain $0 \\le x < 1$, i.e., random numbers between zero and one. (\"Completely random\" does not make sense because of the infinite magnitude of numbers.) \n",
    "2. In most computer applications, including the ones we'll use in bootcamp, the random numbers are actually pseudorandom. They depend entirely on an input **seed** and are then generated by a deterministic algorithm from that seed.\n",
    "\n",
    "This is a bit academic. Let's jump right in generating random numbers. Much of the random number generation functionality you will need is in the `np.random` module. Let's start by generating random numbers from a Uniform distribution."
   ]
  },
  {
   "cell_type": "code",
   "execution_count": 2,
   "metadata": {},
   "outputs": [
    {
     "data": {
      "text/plain": [
       "array([0.42816061, 0.46028402, 0.12273942, 0.10050953, 0.97443706,\n",
       "       0.27413244, 0.92991827, 0.10625903, 0.26182781, 0.23487994])"
      ]
     },
     "execution_count": 2,
     "metadata": {},
     "output_type": "execute_result"
    }
   ],
   "source": [
    "np.random.uniform(low=0, high=1, size=10)"
   ]
  },
  {
   "cell_type": "markdown",
   "metadata": {},
   "source": [
    "The function `uniform()` in the `np.random` module generates random numbers on the interval \\[`low`, `high`) from a Uniform distribution. The `size` kwarg is how many random numbers you wish to generate, and is a kwarg in all of Numpy's random number generators. The random numbers are returned as a NumPy array.\n",
    "\n",
    "We can check to make sure it is appropriately drawing random numbers out of the uniform distribution by plotting the cumulative distribution function, just like we did last time.  We'll generate 1,000 random numbers and plot them along with the CDF of a Uniform distribution."
   ]
  },
  {
   "cell_type": "code",
   "execution_count": 3,
   "metadata": {},
   "outputs": [
    {
     "data": {
      "text/html": [
       "\n",
       "\n",
       "\n",
       "\n",
       "\n",
       "\n",
       "  <div class=\"bk-root\" id=\"0f4ddb77-0c74-4006-a90c-ccf75f7273da\" data-root-id=\"1002\"></div>\n"
      ]
     },
     "metadata": {},
     "output_type": "display_data"
    },
    {
     "data": {
      "application/javascript": [
       "(function(root) {\n",
       "  function embed_document(root) {\n",
       "    \n",
       "  var docs_json = {\"1458c7c6-9c81-4667-9920-9356cb9ee7c7\":{\"roots\":{\"references\":[{\"attributes\":{\"below\":[{\"id\":\"1011\"}],\"center\":[{\"id\":\"1014\"},{\"id\":\"1018\"},{\"id\":\"1046\"}],\"left\":[{\"id\":\"1015\"}],\"plot_height\":300,\"plot_width\":400,\"renderers\":[{\"id\":\"1037\"},{\"id\":\"1051\"}],\"title\":{\"id\":\"1040\"},\"toolbar\":{\"id\":\"1026\"},\"x_range\":{\"id\":\"1003\"},\"x_scale\":{\"id\":\"1007\"},\"y_range\":{\"id\":\"1005\"},\"y_scale\":{\"id\":\"1009\"}},\"id\":\"1002\",\"subtype\":\"Figure\",\"type\":\"Plot\"},{\"attributes\":{},\"id\":\"1009\",\"type\":\"LinearScale\"},{\"attributes\":{\"overlay\":{\"id\":\"1025\"}},\"id\":\"1021\",\"type\":\"BoxZoomTool\"},{\"attributes\":{\"fill_color\":{\"value\":\"#1f77b3\"},\"line_color\":{\"value\":\"#1f77b3\"},\"x\":{\"field\":\"x\"},\"y\":{\"field\":\"__ECDF\"}},\"id\":\"1035\",\"type\":\"Circle\"},{\"attributes\":{\"bottom_units\":\"screen\",\"fill_alpha\":0.5,\"fill_color\":\"lightgrey\",\"left_units\":\"screen\",\"level\":\"overlay\",\"line_alpha\":1.0,\"line_color\":\"black\",\"line_dash\":[4,4],\"line_width\":2,\"render_mode\":\"css\",\"right_units\":\"screen\",\"top_units\":\"screen\"},\"id\":\"1025\",\"type\":\"BoxAnnotation\"},{\"attributes\":{},\"id\":\"1005\",\"type\":\"DataRange1d\"},{\"attributes\":{\"items\":[{\"id\":\"1047\"}],\"visible\":false},\"id\":\"1046\",\"type\":\"Legend\"},{\"attributes\":{\"fill_alpha\":{\"value\":0.1},\"fill_color\":{\"value\":\"#1f77b3\"},\"line_alpha\":{\"value\":0.1},\"line_color\":{\"value\":\"#1f77b3\"},\"x\":{\"field\":\"x\"},\"y\":{\"field\":\"__ECDF\"}},\"id\":\"1036\",\"type\":\"Circle\"},{\"attributes\":{},\"id\":\"1020\",\"type\":\"WheelZoomTool\"},{\"attributes\":{\"line_color\":\"orange\",\"line_width\":2,\"x\":{\"field\":\"x\"},\"y\":{\"field\":\"y\"}},\"id\":\"1049\",\"type\":\"Line\"},{\"attributes\":{\"axis_label\":\"ECDF\",\"formatter\":{\"id\":\"1041\"},\"ticker\":{\"id\":\"1016\"}},\"id\":\"1015\",\"type\":\"LinearAxis\"},{\"attributes\":{},\"id\":\"1003\",\"type\":\"DataRange1d\"},{\"attributes\":{},\"id\":\"1043\",\"type\":\"BasicTickFormatter\"},{\"attributes\":{\"axis_label\":\"x\",\"formatter\":{\"id\":\"1043\"},\"ticker\":{\"id\":\"1012\"}},\"id\":\"1011\",\"type\":\"LinearAxis\"},{\"attributes\":{\"axis\":{\"id\":\"1015\"},\"dimension\":1,\"ticker\":null},\"id\":\"1018\",\"type\":\"Grid\"},{\"attributes\":{\"data_source\":{\"id\":\"1033\"},\"glyph\":{\"id\":\"1035\"},\"hover_glyph\":null,\"muted_glyph\":null,\"nonselection_glyph\":{\"id\":\"1036\"},\"selection_glyph\":null,\"view\":{\"id\":\"1038\"}},\"id\":\"1037\",\"type\":\"GlyphRenderer\"},{\"attributes\":{},\"id\":\"1007\",\"type\":\"LinearScale\"},{\"attributes\":{\"axis\":{\"id\":\"1011\"},\"ticker\":null},\"id\":\"1014\",\"type\":\"Grid\"},{\"attributes\":{\"text\":\"\"},\"id\":\"1040\",\"type\":\"Title\"},{\"attributes\":{},\"id\":\"1019\",\"type\":\"PanTool\"},{\"attributes\":{},\"id\":\"1041\",\"type\":\"BasicTickFormatter\"},{\"attributes\":{},\"id\":\"1023\",\"type\":\"ResetTool\"},{\"attributes\":{\"active_drag\":\"auto\",\"active_inspect\":\"auto\",\"active_multi\":null,\"active_scroll\":\"auto\",\"active_tap\":\"auto\",\"tools\":[{\"id\":\"1019\"},{\"id\":\"1020\"},{\"id\":\"1021\"},{\"id\":\"1022\"},{\"id\":\"1023\"},{\"id\":\"1024\"}]},\"id\":\"1026\",\"type\":\"Toolbar\"},{\"attributes\":{},\"id\":\"1022\",\"type\":\"SaveTool\"},{\"attributes\":{},\"id\":\"1012\",\"type\":\"BasicTicker\"},{\"attributes\":{\"data\":{\"__ECDF\":{\"__ndarray__\":\"qMZLN4lB2D/+1HjpJjHoP3e+nxov3cQ/jZduEoPA6j9I4XoUrkfBP1TjpZvEINA/nMQgsHJosT9CYOXQItu5P39qvHSTGOA/QmDl0CLb7T8ZBFYOLbLtP1CNl24Sg+Q/H4XrUbge6T+F61G4HoXTP/T91HjpJu0/F9nO91Pj7T/n+6nx0k3mPycxCKwcWug/hetRuB6F4z956SYxCKzgP3e+nxov3eA/0SLb+X5q4D9zaJHtfD/FP1YOLbKd78c/1XjpJjEI3D8X2c73U+PFP0oMAiuHFuk/fT81XrpJ4D+DwMqhRbbvP23n+6nx0s0/j8L1KFyP5j/b+X5qvHTDP/p+arx0k7g/2/l+arx00z8xCKwcWmTnP/T91HjpJsE/Vg4tsp3v7z+PwvUoXI/iP0a28/3UeNE/ZDvfT42X4j/6fmq8dJN4P8uhRbbz/eA/kxgEVg4t4j/sUbgeheuhPwaBlUOLbO8/H4XrUbge7T91kxgEVg7hP5qZmZmZmeE/Vg4tsp3v5z+BlUOLbOfLPxsv3SQGgZU/L90kBoGV0z/P91PjpZvcP+kmMQisHMo/sHJoke186z956SYxCKy8P5qZmZmZmck/4XoUrkfh5j/RItv5fmrcP0a28/3UeNk/AAAAAAAA0D/D9Shcj8LdPwRWDi2ynd8/exSuR+F6tD/D9Shcj8LtP6rx0k1iEOQ/nMQgsHJo6T/RItv5fmq8P4PAyqFFtuM/sp3vp8ZL4z9YObTIdr6vPwIrhxbZzu8/WDm0yHa+zz/+1HjpJjHQP/hT46WbxMA/exSuR+F6dD+PwvUoXI/SP9NNYhBYOdQ/exSuR+F6pD89CtejcD3aPzMzMzMzM9s/uB6F61G4vj+JQWDl0CK7Pw4tsp3vp+4/UrgehetR5D9g5dAi2/nmPz81XrpJDOI/AAAAAAAA6D8MAiuHFtnqP5zEILByaME/sp3vp8ZL5z9mZmZmZmbeP/YoXI/C9eg/WmQ730+N1z8fhetRuB7hPyuHFtnO99M/30+Nl24Swz8UrkfhehTOP/Cnxks3iek/bxKDwMqh3T8fhetRuB7FP1K4HoXrUeA/XI/C9Shc5z/hehSuR+G6PyPb+X5qvNQ/PzVeukkM7j9CYOXQItvpP9Ei2/l+auw/L90kBoGVwz+LbOf7qfGiP39qvHSTGMQ/BFYOLbKdzz/sUbgehevtP0jhehSuR+0/8KfGSzeJ2T+HFtnO91PDP+Olm8QgsLI/SgwCK4cW5T9Ei2zn+6nhP30/NV66Seg/CtejcD0K7z956SYxCKzsP2q8dJMYBNY/1XjpJjEIzD8tsp3vp8bjP6AaL90kBuE/+FPjpZvE0D/jpZvEILDiP8uhRbbz/eg/fT81XrpJ1D8730+Nl27CP1TjpZvEIMA/tMh2vp8a7z+YbhKDwMrBP1g5tMh2vr8/rkfhehSu5z+oxks3iUHgP5zEILByaJE/MQisHFpk6z8bL90kBoHVP30/NV66Scw/PQrXo3A90j+8dJMYBFbOP76fGi/dJOo/6SYxCKwc4j/0/dR46SblP/YoXI/C9eA/JQaBlUOL4D97FK5H4XroP166SQwCK9c/EFg5tMh26j8hsHJoke3kP+58PzVeutk/PQrXo3A9yj9/arx0kxjoP/p+arx0k5g/2c73U+Ol6z/LoUW28/20P8/3U+Olm+Q/mG4Sg8DK5T+Nl24Sg8DiP+XQItv5fuY/wcqhRbbz5T8MAiuHFtneP4GVQ4ts5+8/ukkMAiuHhj+8dJMYBFbiP+F6FK5H4e4/2c73U+Oluz9Ei2zn+6nRP9NNYhBYOcQ/c2iR7Xw/4T8X2c73U+PdP5MYBFYOLe4/x0s3iUFg7T9vEoPAyqHtP2Q730+Nl9Y/tvP91Hjp6j/VeOkmMQjsP2IQWDm0yOY/uB6F61G4jj9OYhBYObTkP1yPwvUoXO8/tvP91Hjpxj8zMzMzMzPrP0Jg5dAi2+U/fT81XrpJ5D8xCKwcWmTjP0SLbOf7qcE/+n5qvHSTyD8tsp3vp8bvPxKDwMqhRcY/Di2yne+n5j9eukkMAivnPyuHFtnO99s/30+Nl24S7z+mm8QgsHLkP3WTGARWDtU/Rrbz/dR47T8UrkfhehTuP42XbhKDwO4/eekmMQisrD9U46WbxCCwPzVeukkMAu8/4XoUrkfhyj/wp8ZLN4nhP5ZDi2zn++k/GQRWDi2ynT9iEFg5tMjGPzm0yHa+n+I/WmQ730+Ntz8v3SQGgZXvP0Jg5dAi29E/XrpJDAIr4z+Nl24Sg8DaP/T91HjpJuk/aJHtfD815j++nxov3STeP42XbhKDwMo/pHA9Ctej2D8K16NwPQrjPz0K16NwPeI/TmIQWDm0yD8dWmQ730/tP4PAyqFFtsM//Knx0k1i5D9oke18PzXWP/LSTWIQWOk/N4lBYOXQwj8CK4cW2c7jP5MYBFYOLcI/ke18PzVe7j9kO99PjZfuPzm0yHa+n9I/d76fGi/d5D/jpZvEILDCP7pJDAIrh+Y/30+Nl24S0z+oxks3iUHoPz81XrpJDNo/2/l+arx02z+6SQwCK4fqP/p+arx0k+A/AAAAAAAA8D/Jdr6fGi+tPyUGgZVDi8w/2c73U+Ol2z8GgZVDi2zrP0oMAiuHFqk/exSuR+F6xD8730+Nl27qP65H4XoUrt8/aJHtfD81vj+uR+F6FK7jPzm0yHa+n5o/6SYxCKwc7j9WDi2yne/fPzMzMzMzM+8/16NwPQrX4z8K16NwPQrnP7gehetRuJ4/PzVeukkMwj+F61G4HoXrP2Dl0CLb+b4//Knx0k1iwD83iUFg5dDSP8l2vp8aL9U/MQisHFpkyz9vEoPAyqHpP0oMAiuHFtE/RIts5/upsT8lBoGVQ4vsP166SQwCK8c/yXa+nxov4T8QWDm0yHa+P5huEoPAyu0/j8L1KFyPwj9vEoPAyqHlP4lBYOXQIts/BoGVQ4ts5z/D9Shcj8LpP3e+nxov3ew//Knx0k1iYD8ZBFYOLbLVP6JFtvP91Og/XI/C9Shc1z/fT42XbhLnP9v5fmq8dKM/WDm0yHa+7z/b+X5qvHTrP/p+arx0k6g/ObTIdr6fij9QjZduEoPYPyPb+X5qvOA/oBov3SQG7T+WQ4ts5/vhPwAAAAAAAOw/YhBYObTI3j9WDi2yne/jPz81XrpJDOY/oBov3SQG0T/dJAaBlUPnP/LSTWIQWLk/exSuR+F6hD8rhxbZzvfnP/T91HjpJtk/6SYxCKwcqj9mZmZmZmbuP1g5tMh2vuM/sHJoke187z9mZmZmZmbqPy2yne+nxus/zczMzMzM3D+q8dJNYhC4Px+F61G4HtU/HVpkO99P3T8rhxbZzvfDPwrXo3A9Cus//Knx0k1ioD8rhxbZzvfvP+58PzVeuuE/i2zn+6nx0j9qvHSTGATGPy2yne+nxtM/ZDvfT42Xzj+HFtnO91PnP3npJjEIrJw/NV66SQwC2z/D9Shcj8K1P6abxCCwctA/8KfGSzeJ5T8OLbKd76fqP8UgsHJokeU/BFYOLbKd4z9QjZduEoPAP99PjZduEuM/tMh2vp8a1z8CK4cW2c7fP4GVQ4ts59M/46WbxCCw7j97FK5H4XrkP/yp8dJNYtg/ke18PzVeuj956SYxCKyMP+58PzVeuuk/AiuHFtnOtz8lBoGVQ4voP4ts5/up8eY/NV66SQwC0z85tMh2vp/mP/yp8dJNYrA/qMZLN4lBwD9xPQrXo3DhPwisHFpkO9c/UrgehetR6D/ZzvdT46WbP/yp8dJNYoA/9P3UeOkmsT/4U+Olm8TkP6wcWmQ73+8/6SYxCKwc2j9xPQrXo3DlP1pkO99PjZc/3SQGgZVD2z+WQ4ts5/vtP4ts5/up8eo/WDm0yHa+1z9I4XoUrkflP8UgsHJokeE/bef7qfHS7T+8dJMYBFbmP2q8dJMYBOI/DAIrhxbZ1j9oke18PzXOP6wcWmQ739c/SOF6FK5H6T+amZmZmZmpP5HtfD81Xto/tvP91Hjp7j9eukkMAivrP4lBYOXQIss/YhBYObTI6j8K16NwPQrfP6abxCCwcsg/lkOLbOf72T9OYhBYObTgP8HKoUW2870/VOOlm8Qg6D/b+X5qvHTvP4XrUbgehcs//Knx0k1i7D9CYOXQItvhPxkEVg4tsuU/oBov3SQGwT/P91PjpZvEP9Ei2/l+aug/KVyPwvUo3D+R7Xw/NV7qPwwCK4cW2e4/CKwcWmQ7zz8fhetRuB7dP/7UeOkmMeA/ukkMAiuH3j+HFtnO91PvP1K4HoXrUbg/30+Nl24S6z/l0CLb+X7KPxsv3SQGgeE/UI2XbhKD0D/hehSuR+HSP2Dl0CLb+e4/okW28/3U4D9mZmZmZmbiP/p+arx0k+Q/x0s3iUFgxT+HFtnO91PrP5zEILByaO0/ZmZmZmZm1j8v3SQGgZXjPwAAAAAAAOA/LbKd76fGyz+4HoXrUbiuP23n+6nx0uU/y6FFtvP91D9SuB6F61HsPzm0yHa+n+o/eekmMQis1D9Ei2zn+6nlP7pJDAIrh8Y/KVyPwvUo1D/sUbgehevhP8dLN4lBYOk//tR46SYx5D/D9Shcj8LhP3npJjEIrNw/3SQGgZVD6z+sHFpkO9/rP28Sg8DKodU/fT81XrpJ7D/l0CLb+X7uP+F6FK5H4do/wcqhRbbz4T+PwvUoXI/aP76fGi/dJNY/hetRuB6F5z9xPQrXo3DNP76fGi/dJOI/KVyPwvUorD/HSzeJQWDdP7x0kxgEVu4/Rrbz/dR44T/FILByaJHtP9ejcD0K18M/AiuHFtnO1z+cxCCwcmihP+xRuB6F67E/ppvEILBy7D8hsHJoke3cP4GVQ4ts5+s/3SQGgZVDyz+JQWDl0CLrP1g5tMh2vt8/BoGVQ4ts4z+YbhKDwMrpP5HtfD81XuI/c2iR7Xw/3T+Nl24Sg8DSP6jGSzeJQew/F9nO91Pj1T+DwMqhRbbTP+Olm8QgsNo/6SYxCKwc5j/LoUW28/2kP65H4XoUru8/sHJoke184z/VeOkmMQjkPxsv3SQGgaU/yXa+nxovzT/ByqFFtvPdP6wcWmQ7388/O99PjZdugj9aZDvfT42nP5zEILByaOE/HVpkO99P4T+F61G4HoXvP1g5tMh2vus/JzEIrBxa7D83iUFg5dDqP6JFtvP91Ow/KVyPwvUo6D/8qfHSTWLoP9Ei2/l+auQ/WmQ730+N6z8pXI/C9Si8P1g5tMh2vp8/kxgEVg4t0j8xCKwcWmS7PxSuR+F6FN4/xSCwcmiRzT9zaJHtfD/VP0a28/3UeMk/CtejcD0Ktz/n+6nx0k3qP3npJjEIrHw/exSuR+F63D/y0k1iEFjhP7x0kxgEVtY/9ihcj8L10D+kcD0K16PQP8l2vp8aL+k/tMh2vp8a5z/NzMzMzMzsP0w3iUFg5cA/bxKDwMqhxT+WQ4ts5/vlP4/C9Shcj+4/dZMYBFYO5T8lBoGVQ4vUP9V46SYxCOA/ukkMAiuHlj8dWmQ730/NP9nO91Pjpcs/CKwcWmQ73z9Ei2zn+6npPyuHFtnO9+s/AiuHFtnOxz+q8dJNYhDYP3E9CtejcNU/AAAAAAAAwD8QWDm0yHbuP/YoXI/C9cg/Gy/dJAaB5T9QjZduEoPgP3WTGARWDt0/uB6F61G47j/Jdr6fGi+9P6rx0k1iEOA/YhBYObTItj/Xo3A9CtfTP0jhehSuR9k/z/dT46Wb7D8ZBFYOLbLdP+XQItv5fto/TDeJQWDl2D+amZmZmZnZP0a28/3UeOk/+n5qvHST0D/sUbgehevRP7TIdr6fGs8/001iEFg5tD+TGARWDi2yPyuHFtnO9+M/WmQ730+N4z8X2c73U+PhPzVeukkMAuc/d76fGi/d1D9vEoPAyqHhP7TIdr6fGuM/arx0kxgE5j8xCKwcWmTTP/Cnxks3ie0/ke18PzVe5j+BlUOLbOfnP+kmMQisHLo/2c73U+Ol7z9MN4lBYOWwP1pkO99Pjec/cT0K16Nw6T/jpZvEILDSPwwCK4cW2eI/f2q8dJMY7D/ZzvdT46XnP23n+6nx0uk/7FG4HoXrwT+TGARWDi3aP3WTGARWDu0/GQRWDi2yrT/ZzvdT46XTPzm0yHa+n9o/EFg5tMh24j+WQ4ts5/vRPyGwcmiR7cw/7FG4HoXr2T/b+X5qvHSTP1K4HoXrUdA/O99PjZduoj+e76fGSzflP1TjpZvEIOQ/CKwcWmQ7rz9g5dAi2/nePxKDwMqhReY/iUFg5dAi7z93vp8aL93cPyUGgZVDi+Q/pHA9CtejsD8OLbKd76feP+f7qfHSTe4/GQRWDi2y6T+28/3UeOneP9V46SYxCOg/+n5qvHSTiD/Jdr6fGi/lP6JFtvP91OQ/ZmZmZmZm5j/D9Shcj8LVPxBYObTIds4/MQisHFpk2z9OYhBYObTQPwaBlUOLbMc/GQRWDi2y4T9xPQrXo3C9P+XQItv5fuo/PzVeukkM0j/2KFyPwvXYPzm0yHa+n8o/zczMzMzMzD8730+Nl27mP83MzMzMzOA/I9v5fmq87D8dWmQ730/VPz0K16NwPe4/mG4Sg8DK0T8j2/l+arzEP3sUrkfheuw/qMZLN4lB0D+iRbbz/dTYP2Dl0CLb+c4/WmQ730+N7z8dWmQ730/pP7pJDAIrh+I/BFYOLbKd5z/ufD81XrrRP7ByaJHtfM8/K4cW2c73sz+TGARWDi3mP7Kd76fGS+8/5dAi2/l+0j8730+Nl27SPzvfT42Xbto/rkfhehSu6z/LoUW28/3EP8uhRbbz/eQ/8tJNYhBY0T/dJAaBlUPvPxSuR+F6FOI/+FPjpZvE4D+JQWDl0CKrPzMzMzMzM7M/1XjpJjEI1D9qvHSTGATqP3npJjEIrOg/EoPAyqFF7j+6SQwCK4emP8uhRbbz/ew/Rrbz/dR45T+LbOf7qfGyP+f7qfHSTcI/TmIQWDm02D9U46WbxCDgP7gehetRuOI/sHJoke185z9mZmZmZmbGP1YOLbKd79c/ppvEILBy4D8hsHJoke28PycxCKwcWsQ/0SLb+X5qzD91kxgEVg7pP6abxCCwcug/RIts5/up7T+gGi/dJAbpP/Cnxks3icE/ZDvfT42X6j+DwMqhRbazP4ts5/up8e4/XI/C9Shc6z/Xo3A9CtfvP4ts5/up8eI/qvHSTWIQqD+e76fGSzfZP0oMAiuHFu0/wcqhRbbz6T89CtejcD3qPz0K16NwPeY/xSCwcmiR3T9eukkMAivvP/YoXI/C9ew/sp3vp8ZLxz+HFtnO91PjP99PjZduEts/nu+nxks36T8Sg8DKoUXiPx+F61G4HuU/sHJoke18vz/0/dR46SbhP6JFtvP91Mg/8tJNYhBYyT8OLbKd76fGP9v5fmq8dOc/16NwPQrX6z/ufD81XrrtPxBYObTIduY//Knx0k1i4D/+1HjpJjHIP2q8dJMYBLY/CtejcD0K1z+yne+nxkvXPx1aZDvfT+U/ppvEILBy2D8hsHJoke3sP2iR7Xw/Ne4//tR46SYx7D8hsHJoke3UPwisHFpkO78/aJHtfD813j8lBoGVQ4vcP3Noke18P+k/ukkMAiuH7j/Jdr6fGi/dP7bz/dR46eI/O99PjZdu4j8ZBFYOLbLNP7TIdr6fGt8/TmIQWDm06D8zMzMzMzPDP9NNYhBYOdw/eekmMQiszD/b+X5qvHTjPxfZzvdT4+k/BoGVQ4ts3z9qvHSTGATuP57vp8ZLN+0/CKwcWmQ76z9aZDvfT43HP7gehetRuNY/nu+nxks3yT+DwMqhRbbrP1K4HoXrUcg/8tJNYhBY7T/ufD81XrrJP/LSTWIQWNk/bef7qfHS3T8730+Nl27uP0oMAiuHFrk/001iEFg54D9oke18PzXqP/hT46WbxOw/EoPAyqFF6j9YObTIdr7nP39qvHSTGNw/tvP91Hjp5j+q8dJNYhDIPwisHFpkO+c/EoPAyqFFtj9CYOXQItvJP8dLN4lBYNU/sp3vp8ZLtz/LoUW28/3cP6RwPQrXo+A/ObTIdr6fqj/8qfHSTWJwP8/3U+Olm+A/sp3vp8ZL6z+YbhKDwMrhP2q8dJMYBN4/7nw/NV665T/jpZvEILDqP1TjpZvEINg/Di2yne+n1j/NzMzMzMzUP/7UeOkmMdg/mpmZmZmZ7T+sHFpkO9/jP2Dl0CLb+eI/ukkMAiuHtj/hehSuR+HiP5qZmZmZmdE/Vg4tsp3v6z+sHFpkO9/nP5HtfD81XtI/EFg5tMh23j+e76fGSzfhPwisHFpkO+8/xSCwcmiR1T8OLbKd76fiPy/dJAaBles/I9v5fmq8tD/8qfHSTWKQP/p+arx0k2g/LbKd76fG2z+gGi/dJAbZP0w3iUFg5aA/YhBYObTI4j/NzMzMzMzoPxSuR+F6FOo/BoGVQ4ts1z9kO99PjZfePwAAAAAAAOQ/+n5qvHST7D97FK5H4XrUP3Noke18P+0/vp8aL90k7j+TGARWDi3qPycxCKwcWuA/mG4Sg8DK2T+DwMqhRbbbP8dLN4lBYOE/nMQgsHJo0T/RItv5fmrUPyPb+X5qvNw/rkfhehSuxz/FILByaJHpP/Cnxks3idE/mpmZmZmZuT/jpZvEILDmP05iEFg5tOw/aJHtfD814j9I4XoUrkfhP3E9CtejcN0/pHA9Ctej5D8nMQisHFrUP6RwPQrXo8A/iUFg5dAi5z/8qfHSTWLQP7TIdr6fGus/ObTIdr6fuj9xPQrXo3DtPylcj8L1KOA/Gy/dJAaBxT/HSzeJQWDlP2Dl0CLb+eo/3SQGgZVD0z97FK5H4XrgP3e+nxov3eg/vp8aL90kxj9KDAIrhxbZP/p+arx0k9g/mpmZmZmZ6T+wcmiR7XzXPzeJQWDl0OY/5/up8dJN2j9t5/up8dLVP2IQWDm0yNY/z/dT46Wb6D8MAiuHFtnOP1pkO99Pjd8/gZVDi2zn4z+kcD0K16PsP/hT46WbxNg/4XoUrkfh6j+yne+nxkvfPzeJQWDl0OI/qvHSTWIQ7D8/NV66SQzqP42XbhKDwOY/tvP91Hjp1j/ZzvdT46XjPwRWDi2yndc/XrpJDAIr3z9/arx0kxjkP9NNYhBYOeQ/9P3UeOkm0T/l0CLb+X7iP4PAyqFFtuc/XI/C9Shc4z9kO99PjZfmP4XrUbgehds/JzEIrBxa3D/NzMzMzMzkP5HtfD81Xso/6SYxCKwc0j8UrkfhehTmP6rx0k1iEOg/aJHtfD81rj8j2/l+arzkPwRWDi2ynes/CtejcD0Kxz9KDAIrhxbJP/yp8dJNYlA/uB6F61G43j+sHFpkO9/fP7pJDAIrh9Y/AAAAAAAA2D/TTWIQWDnoP8P1KFyPwsU/YhBYObTI7j9SuB6F61HYP39qvHSTGNQ/IbByaJHt6D/pJjEIrBzqP5ZDi2zn+8k/DAIrhxbZ5j8j2/l+arzoPylcj8L1KOw/exSuR+F6lD+JQWDl0CLjP4cW2c73U9s/Gy/dJAaBtT8X2c73U+PlPzm0yHa+n+4/MzMzMzMz0z++nxov3STmPwIrhxbZzuc/O99PjZdukj/ZzvdT46WrP+f7qfHSTeI/SOF6FK5H0T8UrkfhehTWP1CNl24Sg+w/KVyPwvUo5D9QjZduEoPoP0w3iUFg5eA/oBov3SQG5T9zaJHtfD+1Pxsv3SQGgek/EoPAyqFF1j8QWDm0yHbWPzeJQWDl0O4/nMQgsHJo2T9cj8L1KFzfP57vp8ZLN9E/L90kBoGV2z+JQWDl0CLTP23n+6nx0uE/CtejcD0Kpz8hsHJoke3gP7x0kxgEVuo/gZVDi2zn2z+4HoXrUbjmP3npJjEIrOQ/3SQGgZVD4z/Xo3A9CtfnP/hT46WbxOg/TDeJQWDl0D9MN4lBYOXsPycxCKwcWuQ/KVyPwvUozD+4HoXrUbjqPxsv3SQGge0/QmDl0CLb2T+HFtnO91PTP65H4XoUrtc/z/dT46Wb1D+iRbbz/dTQP30/NV66Sdw/2/l+arx0sz8730+Nl26yP/LSTWIQWOU/Gy/dJAaB3T8zMzMzMzPnP2q8dJMYBKY/001iEFg57D/ByqFFtvPtP6JFtvP91Lg/SgwCK4cW4T+LbOf7qfHCP0SLbOf7qdk/+n5qvHST6D81XrpJDALLPyuHFtnO96M/mpmZmZmZ5T/ByqFFtvPNPy/dJAaBlec/w/UoXI/C5T/sUbgehevpP8l2vp8aL+0/XI/C9Shczz+cxCCwcmjlP6RwPQrXo+g/5/up8dJN0j+wcmiR7XzfP7x0kxgEVt4/GQRWDi2yvT+q8dJNYhDQPzVeukkMAuM/mpmZmZmZmT9MN4lBYOXoPy2yne+nxuc/N4lBYOXQ2j/ByqFFtvPVPwIrhxbZzus/uB6F61G4zj8EVg4tsp3vPzEIrBxaZO8/VOOlm8Qg7D91kxgEVg7NP6jGSzeJQeQ/TDeJQWDl5D/Xo3A9CtfbPzMzMzMzM+M/YOXQItv51j/sUbgehevlPxKDwMqhRd4/i2zn+6nx2j81XrpJDALrP3Noke18P+U/j8L1KFyP6j/2KFyPwvXkP4GVQ4ts57s/CKwcWmQ74z8=\",\"dtype\":\"float64\",\"shape\":[1000]},\"__dummy_cat\":[\" \",\" \",\" \",\" \",\" \",\" \",\" \",\" \",\" \",\" \",\" \",\" \",\" \",\" \",\" \",\" \",\" \",\" \",\" \",\" \",\" \",\" \",\" \",\" \",\" \",\" \",\" \",\" \",\" \",\" \",\" \",\" \",\" \",\" \",\" \",\" \",\" \",\" \",\" \",\" \",\" \",\" \",\" \",\" \",\" \",\" \",\" \",\" \",\" \",\" \",\" \",\" \",\" \",\" \",\" \",\" \",\" \",\" \",\" \",\" \",\" \",\" \",\" \",\" \",\" \",\" \",\" \",\" \",\" \",\" \",\" \",\" \",\" \",\" \",\" \",\" \",\" \",\" \",\" \",\" \",\" \",\" \",\" \",\" \",\" \",\" \",\" \",\" \",\" \",\" \",\" \",\" \",\" \",\" \",\" \",\" \",\" \",\" \",\" \",\" \",\" \",\" \",\" \",\" \",\" \",\" \",\" \",\" \",\" \",\" \",\" \",\" \",\" \",\" \",\" \",\" \",\" \",\" \",\" \",\" \",\" \",\" \",\" \",\" \",\" \",\" \",\" \",\" \",\" \",\" \",\" \",\" \",\" \",\" \",\" \",\" \",\" \",\" \",\" \",\" \",\" \",\" \",\" \",\" \",\" \",\" \",\" \",\" \",\" \",\" \",\" \",\" \",\" \",\" \",\" \",\" \",\" \",\" \",\" \",\" \",\" \",\" \",\" \",\" \",\" \",\" \",\" \",\" \",\" \",\" \",\" \",\" \",\" \",\" \",\" \",\" \",\" \",\" \",\" \",\" \",\" \",\" \",\" \",\" \",\" \",\" \",\" \",\" \",\" \",\" \",\" \",\" \",\" \",\" \",\" \",\" \",\" \",\" \",\" \",\" \",\" \",\" \",\" \",\" \",\" \",\" \",\" \",\" \",\" \",\" \",\" \",\" \",\" \",\" \",\" \",\" \",\" \",\" \",\" \",\" \",\" \",\" \",\" \",\" \",\" \",\" \",\" \",\" \",\" \",\" \",\" \",\" \",\" \",\" \",\" \",\" \",\" \",\" \",\" \",\" \",\" \",\" \",\" \",\" \",\" \",\" \",\" \",\" \",\" \",\" \",\" \",\" \",\" \",\" \",\" \",\" \",\" \",\" \",\" \",\" \",\" \",\" \",\" \",\" \",\" \",\" \",\" \",\" \",\" \",\" \",\" \",\" \",\" \",\" \",\" \",\" \",\" \",\" \",\" \",\" \",\" \",\" \",\" \",\" \",\" \",\" \",\" \",\" \",\" \",\" \",\" \",\" \",\" \",\" \",\" \",\" \",\" \",\" \",\" \",\" \",\" \",\" \",\" \",\" \",\" \",\" \",\" \",\" \",\" \",\" \",\" \",\" \",\" \",\" \",\" \",\" \",\" \",\" \",\" \",\" \",\" \",\" \",\" \",\" \",\" \",\" \",\" \",\" \",\" \",\" \",\" \",\" \",\" \",\" \",\" \",\" \",\" \",\" \",\" \",\" \",\" \",\" \",\" \",\" \",\" \",\" \",\" \",\" \",\" \",\" \",\" \",\" \",\" \",\" \",\" \",\" \",\" \",\" \",\" \",\" \",\" \",\" \",\" \",\" \",\" \",\" \",\" \",\" \",\" \",\" \",\" \",\" \",\" \",\" \",\" \",\" \",\" \",\" \",\" \",\" \",\" \",\" \",\" \",\" \",\" \",\" \",\" \",\" \",\" \",\" \",\" \",\" \",\" \",\" \",\" \",\" \",\" \",\" \",\" \",\" \",\" \",\" \",\" \",\" \",\" \",\" \",\" \",\" \",\" \",\" \",\" \",\" \",\" \",\" \",\" \",\" \",\" \",\" \",\" \",\" \",\" \",\" \",\" \",\" \",\" \",\" \",\" \",\" \",\" \",\" \",\" \",\" \",\" \",\" \",\" \",\" \",\" \",\" \",\" \",\" \",\" \",\" \",\" \",\" \",\" \",\" \",\" \",\" \",\" \",\" \",\" \",\" \",\" \",\" \",\" \",\" \",\" \",\" \",\" \",\" \",\" \",\" \",\" \",\" \",\" \",\" \",\" \",\" \",\" \",\" \",\" \",\" \",\" \",\" \",\" \",\" \",\" \",\" \",\" \",\" \",\" \",\" \",\" \",\" \",\" \",\" \",\" \",\" \",\" \",\" \",\" \",\" \",\" \",\" \",\" \",\" \",\" \",\" \",\" \",\" \",\" \",\" \",\" \",\" \",\" \",\" \",\" \",\" \",\" \",\" \",\" \",\" \",\" \",\" \",\" \",\" \",\" \",\" \",\" \",\" \",\" \",\" \",\" \",\" \",\" \",\" \",\" \",\" \",\" \",\" \",\" \",\" \",\" \",\" \",\" \",\" \",\" \",\" \",\" \",\" \",\" \",\" \",\" \",\" \",\" \",\" \",\" \",\" \",\" \",\" \",\" \",\" \",\" \",\" \",\" \",\" \",\" \",\" \",\" \",\" \",\" \",\" \",\" \",\" \",\" \",\" \",\" \",\" \",\" \",\" \",\" \",\" \",\" \",\" \",\" \",\" \",\" \",\" \",\" \",\" \",\" \",\" \",\" \",\" \",\" \",\" \",\" \",\" \",\" \",\" \",\" \",\" \",\" \",\" \",\" \",\" \",\" \",\" \",\" \",\" \",\" \",\" \",\" \",\" \",\" \",\" \",\" \",\" \",\" \",\" \",\" \",\" \",\" \",\" \",\" \",\" \",\" \",\" \",\" \",\" \",\" \",\" \",\" \",\" \",\" \",\" \",\" \",\" \",\" \",\" \",\" \",\" \",\" \",\" \",\" \",\" \",\" \",\" \",\" \",\" \",\" \",\" \",\" \",\" \",\" \",\" \",\" \",\" \",\" \",\" \",\" \",\" \",\" \",\" \",\" \",\" \",\" \",\" \",\" \",\" \",\" \",\" \",\" \",\" \",\" \",\" \",\" \",\" \",\" \",\" \",\" \",\" \",\" \",\" \",\" \",\" \",\" \",\" \",\" \",\" \",\" \",\" \",\" \",\" \",\" \",\" \",\" \",\" \",\" \",\" \",\" \",\" \",\" \",\" \",\" \",\" \",\" \",\" \",\" \",\" \",\" \",\" \",\" \",\" \",\" \",\" \",\" \",\" \",\" \",\" \",\" \",\" \",\" \",\" \",\" \",\" \",\" \",\" \",\" \",\" \",\" \",\" \",\" \",\" \",\" \",\" \",\" \",\" \",\" \",\" \",\" \",\" \",\" \",\" \",\" \",\" \",\" \",\" \",\" \",\" \",\" \",\" \",\" \",\" \",\" \",\" \",\" \",\" \",\" \",\" \",\" \",\" \",\" \",\" \",\" \",\" \",\" \",\" \",\" \",\" \",\" \",\" \",\" \",\" \",\" \",\" \",\" \",\" \",\" \",\" \",\" \",\" \",\" \",\" \",\" \",\" \",\" \",\" \",\" \",\" \",\" \",\" \",\" \",\" \",\" \",\" \",\" \",\" \",\" \",\" \",\" \",\" \",\" \",\" \",\" \",\" \",\" \",\" \",\" \",\" \",\" \",\" \",\" \",\" \",\" \",\" \",\" \",\" \",\" \",\" \",\" \",\" \",\" \",\" \",\" \",\" \",\" \",\" \",\" \",\" \",\" \",\" \",\" \",\" \",\" \",\" \",\" \",\" \",\" \",\" \",\" \",\" \",\" \",\" \",\" \",\" \",\" \",\" \",\" \",\" \",\" \",\" \",\" \",\" \",\" \",\" \",\" \",\" \",\" \",\" \",\" \",\" \",\" \",\" \",\" \",\" \",\" \",\" \",\" \",\" \",\" \",\" \",\" \",\" \",\" \",\" \",\" \",\" \",\" \",\" \",\" \",\" \",\" \",\" \",\" \",\" \",\" \",\" \",\" \",\" \",\" \",\" \",\" \",\" \",\" \",\" \",\" \",\" \",\" \",\" \",\" \",\" \",\" \",\" \",\" \",\" \",\" \",\" \",\" \",\" \",\" \",\" \",\" \",\" \",\" \",\" \",\" \",\" \",\" \",\" \",\" \",\" \",\" \",\" \",\" \",\" \",\" \",\" \",\" \",\" \",\" \",\" \",\" \",\" \",\" \",\" \",\" \",\" \",\" \",\" \",\" \",\" \",\" \",\" \",\" \",\" \",\" \",\" \",\" \",\" \",\" \",\" \",\" \",\" \",\" \",\" \",\" \",\" \",\" \",\" \",\" \",\" \",\" \",\" \",\" \",\" \",\" \",\" \",\" \",\" \",\" \",\" \",\" \",\" \",\" \",\" \",\" \",\" \",\" \",\" \",\" \",\" \",\" \",\" \",\" \",\" \",\" \",\" \",\" \",\" \",\" \",\" \",\" \",\" \",\" \",\" \",\" \",\" \",\" \",\" \",\" \",\" \",\" \",\" \",\" \",\" \",\" \",\" \",\" \",\" \"],\"__label\":[\" \",\" \",\" \",\" \",\" \",\" \",\" \",\" \",\" \",\" \",\" \",\" \",\" \",\" \",\" \",\" \",\" \",\" \",\" \",\" \",\" \",\" \",\" \",\" \",\" \",\" \",\" \",\" \",\" \",\" \",\" \",\" \",\" \",\" \",\" \",\" \",\" \",\" \",\" \",\" \",\" \",\" \",\" \",\" \",\" \",\" \",\" \",\" \",\" \",\" \",\" \",\" \",\" \",\" \",\" \",\" \",\" \",\" \",\" \",\" \",\" \",\" \",\" \",\" \",\" \",\" \",\" \",\" \",\" \",\" \",\" \",\" \",\" \",\" \",\" \",\" \",\" \",\" \",\" \",\" \",\" \",\" \",\" \",\" \",\" \",\" \",\" \",\" \",\" \",\" \",\" \",\" \",\" \",\" \",\" \",\" \",\" \",\" \",\" \",\" \",\" \",\" \",\" \",\" \",\" \",\" \",\" \",\" \",\" \",\" \",\" \",\" \",\" \",\" \",\" \",\" \",\" \",\" \",\" \",\" \",\" \",\" \",\" \",\" \",\" \",\" \",\" \",\" \",\" \",\" \",\" \",\" \",\" \",\" \",\" \",\" \",\" \",\" \",\" \",\" \",\" \",\" \",\" \",\" \",\" \",\" \",\" \",\" \",\" \",\" \",\" \",\" \",\" \",\" \",\" \",\" \",\" \",\" \",\" \",\" \",\" \",\" \",\" \",\" \",\" \",\" \",\" \",\" \",\" \",\" \",\" \",\" \",\" \",\" \",\" \",\" \",\" \",\" \",\" \",\" \",\" \",\" \",\" \",\" \",\" \",\" \",\" \",\" \",\" \",\" \",\" \",\" \",\" \",\" \",\" \",\" \",\" \",\" \",\" \",\" \",\" \",\" \",\" \",\" \",\" \",\" \",\" \",\" \",\" \",\" \",\" \",\" \",\" \",\" \",\" \",\" \",\" \",\" \",\" \",\" \",\" \",\" \",\" \",\" \",\" \",\" \",\" \",\" \",\" \",\" \",\" \",\" \",\" \",\" \",\" \",\" \",\" \",\" \",\" \",\" \",\" \",\" \",\" \",\" \",\" \",\" \",\" \",\" \",\" \",\" \",\" \",\" \",\" \",\" \",\" \",\" \",\" \",\" \",\" \",\" \",\" \",\" \",\" \",\" \",\" \",\" \",\" \",\" \",\" \",\" \",\" \",\" \",\" \",\" \",\" \",\" \",\" \",\" \",\" \",\" \",\" \",\" \",\" \",\" \",\" \",\" \",\" \",\" \",\" \",\" \",\" \",\" \",\" \",\" \",\" \",\" \",\" \",\" \",\" \",\" \",\" \",\" \",\" \",\" \",\" \",\" \",\" \",\" \",\" \",\" \",\" \",\" \",\" \",\" \",\" \",\" \",\" \",\" \",\" \",\" \",\" \",\" \",\" \",\" \",\" \",\" \",\" \",\" \",\" \",\" \",\" \",\" \",\" \",\" \",\" \",\" \",\" \",\" \",\" \",\" \",\" \",\" \",\" \",\" \",\" \",\" \",\" \",\" \",\" \",\" \",\" \",\" \",\" \",\" \",\" \",\" \",\" \",\" \",\" \",\" \",\" \",\" \",\" \",\" \",\" \",\" \",\" \",\" \",\" \",\" \",\" \",\" \",\" \",\" \",\" \",\" \",\" \",\" \",\" \",\" \",\" \",\" \",\" \",\" \",\" \",\" \",\" \",\" \",\" \",\" \",\" \",\" \",\" \",\" \",\" \",\" \",\" \",\" \",\" \",\" \",\" \",\" \",\" \",\" \",\" \",\" \",\" \",\" \",\" \",\" \",\" \",\" \",\" \",\" \",\" \",\" \",\" \",\" \",\" \",\" \",\" \",\" \",\" \",\" \",\" \",\" \",\" \",\" \",\" \",\" \",\" \",\" \",\" \",\" \",\" \",\" \",\" \",\" \",\" \",\" \",\" \",\" \",\" \",\" \",\" \",\" \",\" \",\" \",\" \",\" \",\" \",\" \",\" \",\" \",\" \",\" \",\" \",\" \",\" \",\" \",\" \",\" \",\" \",\" \",\" \",\" \",\" \",\" \",\" \",\" \",\" \",\" \",\" \",\" \",\" \",\" \",\" \",\" \",\" \",\" \",\" \",\" \",\" \",\" \",\" \",\" \",\" \",\" \",\" \",\" \",\" \",\" \",\" \",\" \",\" \",\" \",\" \",\" \",\" \",\" \",\" \",\" \",\" \",\" \",\" \",\" \",\" \",\" \",\" \",\" \",\" \",\" \",\" \",\" \",\" \",\" \",\" \",\" \",\" \",\" \",\" \",\" \",\" \",\" \",\" \",\" \",\" \",\" \",\" \",\" \",\" \",\" \",\" \",\" \",\" \",\" \",\" \",\" \",\" \",\" \",\" \",\" \",\" \",\" \",\" \",\" \",\" \",\" \",\" \",\" \",\" \",\" \",\" \",\" \",\" \",\" \",\" \",\" \",\" \",\" \",\" \",\" \",\" \",\" \",\" \",\" \",\" \",\" \",\" \",\" \",\" \",\" \",\" \",\" \",\" \",\" \",\" \",\" \",\" \",\" \",\" \",\" \",\" \",\" \",\" \",\" \",\" \",\" \",\" \",\" \",\" \",\" \",\" \",\" \",\" \",\" \",\" \",\" \",\" \",\" \",\" \",\" \",\" \",\" \",\" \",\" \",\" \",\" \",\" \",\" \",\" \",\" \",\" \",\" \",\" \",\" \",\" \",\" \",\" \",\" \",\" \",\" \",\" \",\" \",\" \",\" \",\" \",\" \",\" \",\" \",\" \",\" \",\" \",\" \",\" \",\" \",\" \",\" \",\" \",\" \",\" \",\" \",\" \",\" \",\" \",\" \",\" \",\" \",\" \",\" \",\" \",\" \",\" \",\" \",\" \",\" \",\" \",\" \",\" \",\" \",\" \",\" \",\" \",\" \",\" \",\" \",\" \",\" \",\" \",\" \",\" \",\" \",\" \",\" \",\" \",\" \",\" \",\" \",\" \",\" \",\" \",\" \",\" \",\" \",\" \",\" \",\" \",\" \",\" \",\" \",\" \",\" \",\" \",\" \",\" \",\" \",\" \",\" \",\" \",\" \",\" \",\" \",\" \",\" \",\" \",\" \",\" \",\" \",\" \",\" \",\" \",\" \",\" \",\" \",\" \",\" \",\" \",\" \",\" \",\" \",\" \",\" \",\" \",\" \",\" \",\" \",\" \",\" \",\" \",\" \",\" \",\" \",\" \",\" \",\" \",\" \",\" \",\" \",\" \",\" \",\" \",\" \",\" \",\" \",\" \",\" \",\" \",\" \",\" \",\" \",\" \",\" \",\" \",\" \",\" \",\" \",\" \",\" \",\" \",\" \",\" \",\" \",\" \",\" \",\" \",\" \",\" \",\" \",\" \",\" \",\" \",\" \",\" \",\" \",\" \",\" \",\" \",\" \",\" \",\" \",\" \",\" \",\" \",\" \",\" \",\" \",\" \",\" \",\" \",\" \",\" \",\" \",\" \",\" \",\" \",\" \",\" \",\" \",\" \",\" \",\" \",\" \",\" \",\" \",\" \",\" \",\" \",\" \",\" \",\" \",\" \",\" \",\" \",\" \",\" \",\" \",\" \",\" \",\" \",\" \",\" \",\" \",\" \",\" \",\" \",\" \",\" \",\" \",\" \",\" \",\" \",\" \",\" \",\" \",\" \",\" \",\" \",\" \",\" \",\" \",\" \",\" \",\" \",\" \",\" \",\" \",\" \",\" \",\" \",\" \",\" \",\" \",\" \",\" \",\" \",\" \",\" \",\" \",\" \",\" \",\" \",\" \",\" \",\" \",\" \",\" \",\" \",\" \",\" \",\" \",\" \",\" \",\" \",\" \",\" \",\" \",\" \",\" \",\" \",\" \",\" \",\" \",\" \",\" \",\" \",\" \",\" \",\" \",\" \",\" \",\" \",\" \",\" \",\" \",\" \",\" \",\" \",\" \",\" \",\" \",\" \",\" \",\" \",\" \",\" \",\" \",\" \",\" \",\" \",\" \",\" \",\" \",\" \",\" \",\" \",\" \",\" \",\" \",\" \",\" \",\" \",\" \",\" \",\" \",\" \",\" \",\" \",\" \",\" \",\" \",\" \",\" \",\" \",\" \",\" \",\" \",\" \",\" \",\" \",\" \",\" \",\" \",\" \",\" \",\" \",\" \",\" \",\" \",\" \",\" \",\" \",\" \",\" \",\" \",\" \",\" \",\" \",\" \",\" \",\" \",\" \",\" \",\" \",\" \",\" \",\" \",\" \",\" \",\" \",\" \",\" \",\" \",\" \",\" \",\" \",\" \",\" \",\" \",\" \",\" \",\" \",\" \",\" \",\" \",\" \",\" \",\" \",\" \",\" \",\" \",\" \",\" \",\" \",\" \",\" \",\" \",\" \",\" \",\" \",\" \"],\"index\":[0,1,2,3,4,5,6,7,8,9,10,11,12,13,14,15,16,17,18,19,20,21,22,23,24,25,26,27,28,29,30,31,32,33,34,35,36,37,38,39,40,41,42,43,44,45,46,47,48,49,50,51,52,53,54,55,56,57,58,59,60,61,62,63,64,65,66,67,68,69,70,71,72,73,74,75,76,77,78,79,80,81,82,83,84,85,86,87,88,89,90,91,92,93,94,95,96,97,98,99,100,101,102,103,104,105,106,107,108,109,110,111,112,113,114,115,116,117,118,119,120,121,122,123,124,125,126,127,128,129,130,131,132,133,134,135,136,137,138,139,140,141,142,143,144,145,146,147,148,149,150,151,152,153,154,155,156,157,158,159,160,161,162,163,164,165,166,167,168,169,170,171,172,173,174,175,176,177,178,179,180,181,182,183,184,185,186,187,188,189,190,191,192,193,194,195,196,197,198,199,200,201,202,203,204,205,206,207,208,209,210,211,212,213,214,215,216,217,218,219,220,221,222,223,224,225,226,227,228,229,230,231,232,233,234,235,236,237,238,239,240,241,242,243,244,245,246,247,248,249,250,251,252,253,254,255,256,257,258,259,260,261,262,263,264,265,266,267,268,269,270,271,272,273,274,275,276,277,278,279,280,281,282,283,284,285,286,287,288,289,290,291,292,293,294,295,296,297,298,299,300,301,302,303,304,305,306,307,308,309,310,311,312,313,314,315,316,317,318,319,320,321,322,323,324,325,326,327,328,329,330,331,332,333,334,335,336,337,338,339,340,341,342,343,344,345,346,347,348,349,350,351,352,353,354,355,356,357,358,359,360,361,362,363,364,365,366,367,368,369,370,371,372,373,374,375,376,377,378,379,380,381,382,383,384,385,386,387,388,389,390,391,392,393,394,395,396,397,398,399,400,401,402,403,404,405,406,407,408,409,410,411,412,413,414,415,416,417,418,419,420,421,422,423,424,425,426,427,428,429,430,431,432,433,434,435,436,437,438,439,440,441,442,443,444,445,446,447,448,449,450,451,452,453,454,455,456,457,458,459,460,461,462,463,464,465,466,467,468,469,470,471,472,473,474,475,476,477,478,479,480,481,482,483,484,485,486,487,488,489,490,491,492,493,494,495,496,497,498,499,500,501,502,503,504,505,506,507,508,509,510,511,512,513,514,515,516,517,518,519,520,521,522,523,524,525,526,527,528,529,530,531,532,533,534,535,536,537,538,539,540,541,542,543,544,545,546,547,548,549,550,551,552,553,554,555,556,557,558,559,560,561,562,563,564,565,566,567,568,569,570,571,572,573,574,575,576,577,578,579,580,581,582,583,584,585,586,587,588,589,590,591,592,593,594,595,596,597,598,599,600,601,602,603,604,605,606,607,608,609,610,611,612,613,614,615,616,617,618,619,620,621,622,623,624,625,626,627,628,629,630,631,632,633,634,635,636,637,638,639,640,641,642,643,644,645,646,647,648,649,650,651,652,653,654,655,656,657,658,659,660,661,662,663,664,665,666,667,668,669,670,671,672,673,674,675,676,677,678,679,680,681,682,683,684,685,686,687,688,689,690,691,692,693,694,695,696,697,698,699,700,701,702,703,704,705,706,707,708,709,710,711,712,713,714,715,716,717,718,719,720,721,722,723,724,725,726,727,728,729,730,731,732,733,734,735,736,737,738,739,740,741,742,743,744,745,746,747,748,749,750,751,752,753,754,755,756,757,758,759,760,761,762,763,764,765,766,767,768,769,770,771,772,773,774,775,776,777,778,779,780,781,782,783,784,785,786,787,788,789,790,791,792,793,794,795,796,797,798,799,800,801,802,803,804,805,806,807,808,809,810,811,812,813,814,815,816,817,818,819,820,821,822,823,824,825,826,827,828,829,830,831,832,833,834,835,836,837,838,839,840,841,842,843,844,845,846,847,848,849,850,851,852,853,854,855,856,857,858,859,860,861,862,863,864,865,866,867,868,869,870,871,872,873,874,875,876,877,878,879,880,881,882,883,884,885,886,887,888,889,890,891,892,893,894,895,896,897,898,899,900,901,902,903,904,905,906,907,908,909,910,911,912,913,914,915,916,917,918,919,920,921,922,923,924,925,926,927,928,929,930,931,932,933,934,935,936,937,938,939,940,941,942,943,944,945,946,947,948,949,950,951,952,953,954,955,956,957,958,959,960,961,962,963,964,965,966,967,968,969,970,971,972,973,974,975,976,977,978,979,980,981,982,983,984,985,986,987,988,989,990,991,992,993,994,995,996,997,998,999],\"x\":{\"__ndarray__\":\"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\",\"dtype\":\"float64\",\"shape\":[1000]}},\"selected\":{\"id\":\"1061\"},\"selection_policy\":{\"id\":\"1060\"}},\"id\":\"1033\",\"type\":\"ColumnDataSource\"},{\"attributes\":{},\"id\":\"1024\",\"type\":\"HelpTool\"},{\"attributes\":{\"line_alpha\":0.1,\"line_color\":\"orange\",\"line_width\":2,\"x\":{\"field\":\"x\"},\"y\":{\"field\":\"y\"}},\"id\":\"1050\",\"type\":\"Line\"},{\"attributes\":{},\"id\":\"1062\",\"type\":\"UnionRenderers\"},{\"attributes\":{\"label\":{\"value\":\" \"},\"renderers\":[{\"id\":\"1037\"}]},\"id\":\"1047\",\"type\":\"LegendItem\"},{\"attributes\":{},\"id\":\"1061\",\"type\":\"Selection\"},{\"attributes\":{\"source\":{\"id\":\"1048\"}},\"id\":\"1052\",\"type\":\"CDSView\"},{\"attributes\":{\"data_source\":{\"id\":\"1048\"},\"glyph\":{\"id\":\"1049\"},\"hover_glyph\":null,\"muted_glyph\":null,\"nonselection_glyph\":{\"id\":\"1050\"},\"selection_glyph\":null,\"view\":{\"id\":\"1052\"}},\"id\":\"1051\",\"type\":\"GlyphRenderer\"},{\"attributes\":{},\"id\":\"1016\",\"type\":\"BasicTicker\"},{\"attributes\":{},\"id\":\"1060\",\"type\":\"UnionRenderers\"},{\"attributes\":{\"data\":{\"x\":[0,1],\"y\":[0,1]},\"selected\":{\"id\":\"1063\"},\"selection_policy\":{\"id\":\"1062\"}},\"id\":\"1048\",\"type\":\"ColumnDataSource\"},{\"attributes\":{\"source\":{\"id\":\"1033\"}},\"id\":\"1038\",\"type\":\"CDSView\"},{\"attributes\":{},\"id\":\"1063\",\"type\":\"Selection\"}],\"root_ids\":[\"1002\"]},\"title\":\"Bokeh Application\",\"version\":\"2.0.2\"}};\n",
       "  var render_items = [{\"docid\":\"1458c7c6-9c81-4667-9920-9356cb9ee7c7\",\"root_ids\":[\"1002\"],\"roots\":{\"1002\":\"0f4ddb77-0c74-4006-a90c-ccf75f7273da\"}}];\n",
       "  root.Bokeh.embed.embed_items_notebook(docs_json, render_items);\n",
       "\n",
       "  }\n",
       "  if (root.Bokeh !== undefined) {\n",
       "    embed_document(root);\n",
       "  } else {\n",
       "    var attempts = 0;\n",
       "    var timer = setInterval(function(root) {\n",
       "      if (root.Bokeh !== undefined) {\n",
       "        clearInterval(timer);\n",
       "        embed_document(root);\n",
       "      } else {\n",
       "        attempts++;\n",
       "        if (attempts > 100) {\n",
       "          clearInterval(timer);\n",
       "          console.log(\"Bokeh: ERROR: Unable to run BokehJS code because BokehJS library is missing\");\n",
       "        }\n",
       "      }\n",
       "    }, 10, root)\n",
       "  }\n",
       "})(window);"
      ],
      "application/vnd.bokehjs_exec.v0+json": ""
     },
     "metadata": {
      "application/vnd.bokehjs_exec.v0+json": {
       "id": "1002"
      }
     },
     "output_type": "display_data"
    }
   ],
   "source": [
    "# Generate random numbers\n",
    "x = np.random.uniform(low=0, high=1, size=1000)\n",
    "\n",
    "# Plot the ECDF of randomly generated numbers\n",
    "p = bokeh_catplot.ecdf(x)\n",
    "\n",
    "p.line(\n",
    "    x=[0, 1],\n",
    "    y=[0, 1],\n",
    "    line_width=2,\n",
    "    line_color='orange',\n",
    ")\n",
    "\n",
    "bokeh.io.show(p)"
   ]
  },
  {
   "cell_type": "markdown",
   "metadata": {},
   "source": [
    "So, it looks like our random number generator is doing a good job.\n",
    "\n",
    "Generating random numbers on the uniform interval is one of the most commonly used RNG techniques. In fact, many of the other contexts of RNG are derived from draws from the uniform distribution. For example, you can simulate flipping a biased (unfair) coin."
   ]
  },
  {
   "cell_type": "code",
   "execution_count": 4,
   "metadata": {},
   "outputs": [
    {
     "name": "stdout",
     "output_type": "stream",
     "text": [
      "[ True  True  True  True False False False False False  True False  True\n",
      "  True  True  True False False  True  True  True]\n",
      "\n",
      "There were 12 heads.\n"
     ]
    }
   ],
   "source": [
    "# Generate 20 random numbers on uniform interval\n",
    "x = np.random.uniform(low=0, high=1, size=20)\n",
    "\n",
    "# Make the coin flips (< 0.7 means we have a 70% chance of heads)\n",
    "heads = x < 0.7\n",
    "\n",
    "# Show which were heads, and count the number of heads\n",
    "print(heads)\n",
    "print('\\nThere were', np.sum(heads), 'heads.')"
   ]
  },
  {
   "cell_type": "markdown",
   "metadata": {},
   "source": [
    "## Choice of generator\n",
    "\n",
    "As of version 1.17.3 of Numpy, the algorithm under the hood of calls to functions like `np.random.uniform()` is the [Mersenne Twister Algorithm](https://en.wikipedia.org/wiki/Mersenne_Twister) for generating random numbers. It is a very widely used and reliable method for generating random numbers. However, starting with version 1.17.4, the `numpy.random` module offers random number generators with better statistical performance, including the [PCG64 generator](http://www.pcg-random.org). Going forward, the preferred approach to doing random number generation is to first instantiate a generator of your choice, and then use its methods to generate numbers out of probability distributions.\n",
    "\n",
    "Let's set up a PCG64 generator, which is Numpy's default."
   ]
  },
  {
   "cell_type": "code",
   "execution_count": 5,
   "metadata": {},
   "outputs": [],
   "source": [
    "rg = np.random.default_rng()"
   ]
  },
  {
   "cell_type": "markdown",
   "metadata": {},
   "source": [
    "Now that we have the generator, we can use it to draw numbers out of distributions. The syntax is the same as before, except `rg` replaces `np.random`."
   ]
  },
  {
   "cell_type": "code",
   "execution_count": 6,
   "metadata": {},
   "outputs": [
    {
     "data": {
      "text/plain": [
       "array([0.39313936, 0.98287716, 0.08655973, 0.76565162, 0.20259894,\n",
       "       0.5020257 , 0.53493208, 0.12603032, 0.76314581, 0.84669399,\n",
       "       0.12926163, 0.35004382, 0.96208211, 0.59216024, 0.37498657,\n",
       "       0.31451715, 0.63471778, 0.25925974, 0.83188035, 0.06018767])"
      ]
     },
     "execution_count": 6,
     "metadata": {},
     "output_type": "execute_result"
    }
   ],
   "source": [
    "rg.uniform(low=0, high=1, size=20)"
   ]
  },
  {
   "cell_type": "markdown",
   "metadata": {},
   "source": [
    "## Seeding random number generators\n",
    "\n",
    "Now, just to demonstrate that random number generation is deterministic, we will explicitly **seed** the random number generator (which is usually seeded with a number representing the date/time to avoid repeats) to show that we get the same random numbers."
   ]
  },
  {
   "cell_type": "code",
   "execution_count": 7,
   "metadata": {},
   "outputs": [
    {
     "data": {
      "text/plain": [
       "array([0.18866535, 0.04418857, 0.02961285, 0.22083971, 0.43341773,\n",
       "       0.13166813, 0.42112164, 0.43507845, 0.61380912, 0.30627603])"
      ]
     },
     "execution_count": 7,
     "metadata": {},
     "output_type": "execute_result"
    }
   ],
   "source": [
    "# Instantiate generator with a seed\n",
    "rg = np.random.default_rng(seed=3252)\n",
    "\n",
    "# Generate random numbers\n",
    "rg.uniform(size=10)"
   ]
  },
  {
   "cell_type": "code",
   "execution_count": 8,
   "metadata": {},
   "outputs": [
    {
     "data": {
      "text/plain": [
       "array([0.18866535, 0.04418857, 0.02961285, 0.22083971, 0.43341773,\n",
       "       0.13166813, 0.42112164, 0.43507845, 0.61380912, 0.30627603])"
      ]
     },
     "execution_count": 8,
     "metadata": {},
     "output_type": "execute_result"
    }
   ],
   "source": [
    "# Re-seed the RNG\n",
    "rg = np.random.default_rng(seed=3252)\n",
    "\n",
    "# Generate random numbers\n",
    "rg.uniform(size=10)"
   ]
  },
  {
   "cell_type": "markdown",
   "metadata": {},
   "source": [
    "The random number sequence is exactly the same. If we choose a different seed, we get totally different random numbers."
   ]
  },
  {
   "cell_type": "code",
   "execution_count": 9,
   "metadata": {},
   "outputs": [
    {
     "data": {
      "text/plain": [
       "array([0.31390226, 0.73012457, 0.05800998, 0.01557021, 0.29825701,\n",
       "       0.10106784, 0.06329107, 0.58614237, 0.52023168, 0.52779988])"
      ]
     },
     "execution_count": 9,
     "metadata": {},
     "output_type": "execute_result"
    }
   ],
   "source": [
    "# Fit one more fan in the 3252\n",
    "rg = np.random.default_rng(seed=3253)\n",
    "rg.uniform(size=10)"
   ]
  },
  {
   "cell_type": "markdown",
   "metadata": {},
   "source": [
    "If you are writing tests, it is often useful to seed the random number generator to get reproducible results."
   ]
  },
  {
   "cell_type": "markdown",
   "metadata": {},
   "source": [
    "## Drawing random numbers out of other distributions\n",
    "\n",
    "We can also draw random numbers from other probability distributions. For example, say we wanted to draw random samples from a Normal distribution with mean μ and standard deviation σ. (We already saw this example when we were looking at histograms, but we repeat it here.)"
   ]
  },
  {
   "cell_type": "code",
   "execution_count": 10,
   "metadata": {},
   "outputs": [
    {
     "data": {
      "text/html": [
       "\n",
       "\n",
       "\n",
       "\n",
       "\n",
       "\n",
       "  <div class=\"bk-root\" id=\"1429f4d3-2b82-474d-b147-6feb33e849b1\" data-root-id=\"1131\"></div>\n"
      ]
     },
     "metadata": {},
     "output_type": "display_data"
    },
    {
     "data": {
      "application/javascript": [
       "(function(root) {\n",
       "  function embed_document(root) {\n",
       "    \n",
       "  var docs_json = {\"c5bd019f-7a19-4f3e-8afc-567f8c2c9b32\":{\"roots\":{\"references\":[{\"attributes\":{\"below\":[{\"id\":\"1139\"}],\"center\":[{\"id\":\"1142\"},{\"id\":\"1146\"},{\"id\":\"1173\"}],\"left\":[{\"id\":\"1143\"}],\"plot_height\":300,\"plot_width\":400,\"renderers\":[{\"id\":\"1164\"},{\"id\":\"1178\"}],\"title\":{\"id\":\"1167\"},\"toolbar\":{\"id\":\"1154\"},\"x_range\":{\"id\":\"1132\"},\"x_scale\":{\"id\":\"1135\"},\"y_range\":{\"id\":\"1130\"},\"y_scale\":{\"id\":\"1137\"}},\"id\":\"1131\",\"subtype\":\"Figure\",\"type\":\"Plot\"},{\"attributes\":{\"text\":\"\"},\"id\":\"1167\",\"type\":\"Title\"},{\"attributes\":{\"overlay\":{\"id\":\"1153\"}},\"id\":\"1149\",\"type\":\"BoxZoomTool\"},{\"attributes\":{\"source\":{\"id\":\"1161\"}},\"id\":\"1165\",\"type\":\"CDSView\"},{\"attributes\":{\"data\":{\"x\":{\"__ndarray__\":\"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\",\"dtype\":\"float64\",\"shape\":[296]},\"y\":{\"__ndarray__\":\"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\",\"dtype\":\"float64\",\"shape\":[296]}},\"selected\":{\"id\":\"1188\"},\"selection_policy\":{\"id\":\"1187\"}},\"id\":\"1161\",\"type\":\"ColumnDataSource\"},{\"attributes\":{\"data\":{\"x\":{\"__ndarray__\":\"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\",\"dtype\":\"float64\",\"shape\":[298]},\"y\":{\"__ndarray__\":\"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\",\"dtype\":\"float64\",\"shape\":[298]}},\"selected\":{\"id\":\"1210\"},\"selection_policy\":{\"id\":\"1209\"}},\"id\":\"1175\",\"type\":\"ColumnDataSource\"},{\"attributes\":{\"start\":0},\"id\":\"1130\",\"type\":\"DataRange1d\"},{\"attributes\":{\"active_drag\":\"auto\",\"active_inspect\":\"auto\",\"active_multi\":null,\"active_scroll\":\"auto\",\"active_tap\":\"auto\",\"tools\":[{\"id\":\"1147\"},{\"id\":\"1148\"},{\"id\":\"1149\"},{\"id\":\"1150\"},{\"id\":\"1151\"},{\"id\":\"1152\"}]},\"id\":\"1154\",\"type\":\"Toolbar\"},{\"attributes\":{\"items\":[{\"id\":\"1174\"}],\"visible\":false},\"id\":\"1173\",\"type\":\"Legend\"},{\"attributes\":{},\"id\":\"1137\",\"type\":\"LinearScale\"},{\"attributes\":{},\"id\":\"1132\",\"type\":\"DataRange1d\"},{\"attributes\":{},\"id\":\"1148\",\"type\":\"WheelZoomTool\"},{\"attributes\":{\"line_alpha\":0.1,\"line_color\":\"#1f77b3\",\"line_width\":2,\"x\":{\"field\":\"x\"},\"y\":{\"field\":\"y\"}},\"id\":\"1163\",\"type\":\"Line\"},{\"attributes\":{},\"id\":\"1168\",\"type\":\"BasicTickFormatter\"},{\"attributes\":{},\"id\":\"1147\",\"type\":\"PanTool\"},{\"attributes\":{},\"id\":\"1209\",\"type\":\"UnionRenderers\"},{\"attributes\":{\"fill_alpha\":0.3,\"fill_color\":\"#1f77b3\",\"line_alpha\":0,\"line_color\":\"#1f77b3\",\"x\":{\"field\":\"x\"},\"y\":{\"field\":\"y\"}},\"id\":\"1176\",\"type\":\"Patch\"},{\"attributes\":{\"data_source\":{\"id\":\"1161\"},\"glyph\":{\"id\":\"1162\"},\"hover_glyph\":null,\"muted_glyph\":null,\"nonselection_glyph\":{\"id\":\"1163\"},\"selection_glyph\":null,\"view\":{\"id\":\"1165\"}},\"id\":\"1164\",\"type\":\"GlyphRenderer\"},{\"attributes\":{\"label\":{\"value\":\" \"},\"renderers\":[{\"id\":\"1164\"},{\"id\":\"1178\"}]},\"id\":\"1174\",\"type\":\"LegendItem\"},{\"attributes\":{\"data_source\":{\"id\":\"1175\"},\"glyph\":{\"id\":\"1176\"},\"hover_glyph\":null,\"muted_glyph\":null,\"nonselection_glyph\":{\"id\":\"1177\"},\"selection_glyph\":null,\"view\":{\"id\":\"1179\"}},\"id\":\"1178\",\"type\":\"GlyphRenderer\"},{\"attributes\":{},\"id\":\"1150\",\"type\":\"SaveTool\"},{\"attributes\":{\"line_color\":\"#1f77b3\",\"line_width\":2,\"x\":{\"field\":\"x\"},\"y\":{\"field\":\"y\"}},\"id\":\"1162\",\"type\":\"Line\"},{\"attributes\":{},\"id\":\"1135\",\"type\":\"LinearScale\"},{\"attributes\":{\"fill_alpha\":0.1,\"fill_color\":\"#1f77b3\",\"line_alpha\":0.1,\"line_color\":\"#1f77b3\",\"x\":{\"field\":\"x\"},\"y\":{\"field\":\"y\"}},\"id\":\"1177\",\"type\":\"Patch\"},{\"attributes\":{\"axis_label\":\"x\",\"formatter\":{\"id\":\"1170\"},\"ticker\":{\"id\":\"1140\"}},\"id\":\"1139\",\"type\":\"LinearAxis\"},{\"attributes\":{},\"id\":\"1140\",\"type\":\"BasicTicker\"},{\"attributes\":{\"bottom_units\":\"screen\",\"fill_alpha\":0.5,\"fill_color\":\"lightgrey\",\"left_units\":\"screen\",\"level\":\"overlay\",\"line_alpha\":1.0,\"line_color\":\"black\",\"line_dash\":[4,4],\"line_width\":2,\"render_mode\":\"css\",\"right_units\":\"screen\",\"top_units\":\"screen\"},\"id\":\"1153\",\"type\":\"BoxAnnotation\"},{\"attributes\":{},\"id\":\"1188\",\"type\":\"Selection\"},{\"attributes\":{\"axis\":{\"id\":\"1143\"},\"dimension\":1,\"ticker\":null},\"id\":\"1146\",\"type\":\"Grid\"},{\"attributes\":{},\"id\":\"1151\",\"type\":\"ResetTool\"},{\"attributes\":{},\"id\":\"1210\",\"type\":\"Selection\"},{\"attributes\":{\"axis\":{\"id\":\"1139\"},\"ticker\":null},\"id\":\"1142\",\"type\":\"Grid\"},{\"attributes\":{},\"id\":\"1144\",\"type\":\"BasicTicker\"},{\"attributes\":{\"source\":{\"id\":\"1175\"}},\"id\":\"1179\",\"type\":\"CDSView\"},{\"attributes\":{\"axis_label\":\"approximate PDF\",\"formatter\":{\"id\":\"1168\"},\"ticker\":{\"id\":\"1144\"}},\"id\":\"1143\",\"type\":\"LinearAxis\"},{\"attributes\":{},\"id\":\"1152\",\"type\":\"HelpTool\"},{\"attributes\":{},\"id\":\"1187\",\"type\":\"UnionRenderers\"},{\"attributes\":{},\"id\":\"1170\",\"type\":\"BasicTickFormatter\"}],\"root_ids\":[\"1131\"]},\"title\":\"Bokeh Application\",\"version\":\"2.0.2\"}};\n",
       "  var render_items = [{\"docid\":\"c5bd019f-7a19-4f3e-8afc-567f8c2c9b32\",\"root_ids\":[\"1131\"],\"roots\":{\"1131\":\"1429f4d3-2b82-474d-b147-6feb33e849b1\"}}];\n",
       "  root.Bokeh.embed.embed_items_notebook(docs_json, render_items);\n",
       "\n",
       "  }\n",
       "  if (root.Bokeh !== undefined) {\n",
       "    embed_document(root);\n",
       "  } else {\n",
       "    var attempts = 0;\n",
       "    var timer = setInterval(function(root) {\n",
       "      if (root.Bokeh !== undefined) {\n",
       "        clearInterval(timer);\n",
       "        embed_document(root);\n",
       "      } else {\n",
       "        attempts++;\n",
       "        if (attempts > 100) {\n",
       "          clearInterval(timer);\n",
       "          console.log(\"Bokeh: ERROR: Unable to run BokehJS code because BokehJS library is missing\");\n",
       "        }\n",
       "      }\n",
       "    }, 10, root)\n",
       "  }\n",
       "})(window);"
      ],
      "application/vnd.bokehjs_exec.v0+json": ""
     },
     "metadata": {
      "application/vnd.bokehjs_exec.v0+json": {
       "id": "1131"
      }
     },
     "output_type": "display_data"
    }
   ],
   "source": [
    "# Set parameters\n",
    "mu = 10\n",
    "sigma = 1\n",
    "\n",
    "# Draw 100000 random samples\n",
    "x = rg.normal(mu, sigma, size=100000)\n",
    "\n",
    "# Plot the histogram\n",
    "p = bokeh_catplot.histogram(\n",
    "    x,\n",
    "    density=True,\n",
    "    y_axis_label='approximate PDF',\n",
    ")\n",
    "\n",
    "bokeh.io.show(p)"
   ]
  },
  {
   "cell_type": "markdown",
   "metadata": {},
   "source": [
    "It looks Normal, but, again, comparing the resulting ECDF is a better way to look at this. We'll check out the ECDF with 1000 samples so as not to choke the browser. I will also make use of the theoretical CDF for the Normal distribution available from the `scipy.stats` module."
   ]
  },
  {
   "cell_type": "code",
   "execution_count": 11,
   "metadata": {},
   "outputs": [
    {
     "data": {
      "text/html": [
       "\n",
       "\n",
       "\n",
       "\n",
       "\n",
       "\n",
       "  <div class=\"bk-root\" id=\"090f6b4a-7e8c-4370-9bab-dc8614cd3ded\" data-root-id=\"1277\"></div>\n"
      ]
     },
     "metadata": {},
     "output_type": "display_data"
    },
    {
     "data": {
      "application/javascript": [
       "(function(root) {\n",
       "  function embed_document(root) {\n",
       "    \n",
       "  var docs_json = {\"a71b48ec-68db-435c-9139-8b12cc759a65\":{\"roots\":{\"references\":[{\"attributes\":{\"below\":[{\"id\":\"1286\"}],\"center\":[{\"id\":\"1289\"},{\"id\":\"1293\"},{\"id\":\"1321\"}],\"left\":[{\"id\":\"1290\"}],\"plot_height\":300,\"plot_width\":400,\"renderers\":[{\"id\":\"1312\"},{\"id\":\"1326\"}],\"title\":{\"id\":\"1315\"},\"toolbar\":{\"id\":\"1301\"},\"x_range\":{\"id\":\"1278\"},\"x_scale\":{\"id\":\"1282\"},\"y_range\":{\"id\":\"1280\"},\"y_scale\":{\"id\":\"1284\"}},\"id\":\"1277\",\"subtype\":\"Figure\",\"type\":\"Plot\"},{\"attributes\":{\"label\":{\"value\":\" \"},\"renderers\":[{\"id\":\"1312\"}]},\"id\":\"1322\",\"type\":\"LegendItem\"},{\"attributes\":{},\"id\":\"1278\",\"type\":\"DataRange1d\"},{\"attributes\":{},\"id\":\"1318\",\"type\":\"BasicTickFormatter\"},{\"attributes\":{\"axis\":{\"id\":\"1290\"},\"dimension\":1,\"ticker\":null},\"id\":\"1293\",\"type\":\"Grid\"},{\"attributes\":{},\"id\":\"1284\",\"type\":\"LinearScale\"},{\"attributes\":{},\"id\":\"1280\",\"type\":\"DataRange1d\"},{\"attributes\":{\"bottom_units\":\"screen\",\"fill_alpha\":0.5,\"fill_color\":\"lightgrey\",\"left_units\":\"screen\",\"level\":\"overlay\",\"line_alpha\":1.0,\"line_color\":\"black\",\"line_dash\":[4,4],\"line_width\":2,\"render_mode\":\"css\",\"right_units\":\"screen\",\"top_units\":\"screen\"},\"id\":\"1300\",\"type\":\"BoxAnnotation\"},{\"attributes\":{},\"id\":\"1358\",\"type\":\"Selection\"},{\"attributes\":{},\"id\":\"1291\",\"type\":\"BasicTicker\"},{\"attributes\":{\"data\":{\"x\":{\"__ndarray__\":\"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\",\"dtype\":\"float64\",\"shape\":[400]},\"y\":{\"__ndarray__\":\"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\",\"dtype\":\"float64\",\"shape\":[400]}},\"selected\":{\"id\":\"1360\"},\"selection_policy\":{\"id\":\"1359\"}},\"id\":\"1323\",\"type\":\"ColumnDataSource\"},{\"attributes\":{},\"id\":\"1359\",\"type\":\"UnionRenderers\"},{\"attributes\":{},\"id\":\"1360\",\"type\":\"Selection\"},{\"attributes\":{\"data_source\":{\"id\":\"1308\"},\"glyph\":{\"id\":\"1310\"},\"hover_glyph\":null,\"muted_glyph\":null,\"nonselection_glyph\":{\"id\":\"1311\"},\"selection_glyph\":null,\"view\":{\"id\":\"1313\"}},\"id\":\"1312\",\"type\":\"GlyphRenderer\"},{\"attributes\":{\"data\":{\"__ECDF\":{\"__ndarray__\":\"tMh2vp8a7z8MAiuHFtnqP57vp8ZLN+U/SgwCK4cW4T8hsHJoke3gP42XbhKDwNI/ke18PzVe2j/l0CLb+X7aP0jhehSuR8E/TDeJQWDl2D/Xo3A9CtfnP+58PzVeuu0/TmIQWDm06D+yne+nxkvjP0w3iUFg5eA/pHA9CtejwD8pXI/C9SjUP1CNl24Sg9g/FK5H4XoU5j9cj8L1KFzfP39qvHSTGNQ/okW28/3U2D9qvHSTGATiP90kBoGVQ+c/YOXQItv53j+BlUOLbOfrP65H4XoUru8/N4lBYOXQ0j9aZDvfT423P/yp8dJNYuA/KVyPwvUo4D+LbOf7qfGyPxfZzvdT4+E/UI2XbhKD0D8MAiuHFtnOP9v5fmq8dLM/rkfhehSu1z/D9Shcj8LVPxsv3SQGge0/MQisHFpk5z9WDi2yne/nP8l2vp8aL9U/I9v5fmq8xD+6SQwCK4fePx+F61G4Huk/bef7qfHS1T8zMzMzMzPbP4lBYOXQIqs/HVpkO99P7T+PwvUoXI/mP76fGi/dJN4/5dAi2/l+0j+PwvUoXI/uP1TjpZvEINA/46WbxCCw0j9/arx0kxjcP+kmMQisHOY/+FPjpZvE4D+oxks3iUHAP99PjZduEu8/i2zn+6nxoj9g5dAi2/nWP4XrUbgehdM/j8L1KFyPwj/ufD81XrrhP+f7qfHSTdI/xSCwcmiR4T8ZBFYOLbLNP1K4HoXrUeg/2c73U+Oluz/6fmq8dJOIP8l2vp8aL+k/bxKDwMqh7T8lBoGVQ4vkP7gehetRuK4/3SQGgZVDyz8zMzMzMzPjP0w3iUFg5ew/fT81XrpJ3D+amZmZmZnRP0oMAiuHFuk/QmDl0CLb4T9cj8L1KFzrP5HtfD81Xu4/c2iR7Xw/1T8nMQisHFrEPylcj8L1KOg/UI2XbhKD4D/NzMzMzMzMP/7UeOkmMdg/VOOlm8Qg7D9iEFg5tMjiPzVeukkMAuM/ObTIdr6fmj9cj8L1KFzjP9ejcD0K18M/WDm0yHa+4z+LbOf7qfHmP+58PzVeuuU/exSuR+F63D9xPQrXo3DhP0a28/3UeNE/hetRuB6F2z/D9Shcj8LlP30/NV66Seg/ObTIdr6f4j+LbOf7qfHCP7pJDAIrh4Y/SOF6FK5H2T/TTWIQWDncPzMzMzMzM8M/BFYOLbKd3z956SYxCKzMP8HKoUW2870/AAAAAAAAwD+amZmZmZnJP9V46SYxCNw/ukkMAiuHlj8/NV66SQzqP4cW2c73U+8/Rrbz/dR44T+wcmiR7XznP9v5fmq8dKM/DAIrhxbZ1j8j2/l+arzgP23n+6nx0t0/okW28/3U4D/hehSuR+HKP/T91HjpJtE/wcqhRbbz3T85tMh2vp/KP5zEILByaJE/ukkMAiuH7j956SYxCKzgP28Sg8DKod0/rkfhehSu5z8MAiuHFtniPx+F61G4Ht0/JzEIrBxa6D8QWDm0yHbqP8l2vp8aL70/3SQGgZVD2z8bL90kBoHlP7Kd76fGS+c//tR46SYx5D/Jdr6fGi+tPzeJQWDl0O4/YOXQItv55j/Jdr6fGi/dP6abxCCwcuw/YhBYObTI3j8K16NwPQrfP+F6FK5H4e4/Vg4tsp3v4z/wp8ZLN4nBPxfZzvdT4+k/aJHtfD811j+iRbbz/dTsP3WTGARWDu0/AAAAAAAA8D/sUbgehevRP/yp8dJNYuQ/MQisHFpk7z9zaJHtfD/pP39qvHSTGOA/9P3UeOkm2T+4HoXrUbjmP9Ei2/l+atw/30+Nl24S2z+6SQwCK4emPx1aZDvfT+k/JQaBlUOL3D+uR+F6FK7fP7bz/dR46d4/z/dT46Wb7D8AAAAAAADQP1TjpZvEIOg/XrpJDAIr5z9t5/up8dLhP2iR7Xw/Nd4/0SLb+X5q5D9Ei2zn+6mxP/p+arx0k5g/qMZLN4lB0D/dJAaBlUPvP99PjZduEus/ZmZmZmZm5j/jpZvEILCyPxsv3SQGgek/lkOLbOf77T89CtejcD3SPxsv3SQGgcU/ZmZmZmZm1j8nMQisHFrgPxBYObTIdtY/tvP91Hjp1j81XrpJDALbP6RwPQrXo+w/vp8aL90k1j8OLbKd76fuP5ZDi2zn+9k/tMh2vp8a1z9I4XoUrkftP4PAyqFFtts/6SYxCKwc4j+6SQwCK4fWP3npJjEIrOw/w/UoXI/C4T8nMQisHFrkP6RwPQrXo+Q/DAIrhxbZ3j/wp8ZLN4nlP5zEILByaOE/8tJNYhBY4T8GgZVDi2zrP0SLbOf7qcE/x0s3iUFgxT9QjZduEoPkPyPb+X5qvNQ/CKwcWmQ77z8OLbKd76fWP4GVQ4ts57s/g8DKoUW24z+oxks3iUHgP1CNl24Sg+g/cT0K16NwzT/ByqFFtvPVP+F6FK5H4bo/c2iR7Xw/4T9WDi2yne/rP4lBYOXQIuc/4XoUrkfh2j+Nl24Sg8DiPwisHFpkO+c/arx0kxgE1j8ZBFYOLbK9P9V46SYxCOg/wcqhRbbzzT/LoUW28/3sPw4tsp3vp94/qvHSTWIQyD8730+Nl27uPwisHFpkO9c/5dAi2/l+6j/hehSuR+HiP5zEILByaOU/fT81XrpJ1D+DwMqhRbbvP3npJjEIrOQ/WmQ730+N1z/Jdr6fGi/hP6wcWmQ7388/nMQgsHJosT/VeOkmMQjMP/LSTWIQWLk/+FPjpZvE7D+q8dJNYhDYP9nO91Pjpds/JQaBlUOL6D9eukkMAivjP7gehetRuOo/+FPjpZvE5D9xPQrXo3DtP5qZmZmZmbk/Di2yne+n4j+HFtnO91PjPxkEVg4tsu0/Rrbz/dR46T/ZzvdT46WbP/hT46WbxMA/K4cW2c737z9oke18PzXiP83MzMzMzOw/aJHtfD817j8ZBFYOLbLVP57vp8ZLN+k/UI2XbhKD7D8hsHJoke3MPxSuR+F6FNY/j8L1KFyP0j+8dJMYBFbuP5HtfD81Xso/j8L1KFyP6j/TTWIQWDnUP6rx0k1iEOQ/2c73U+Olqz91kxgEVg7pP39qvHSTGOg/5dAi2/l+5j/6fmq8dJNoP5qZmZmZmdk/LbKd76fG2z8bL90kBoHhP0oMAiuHFsk/arx0kxgE6j+BlUOLbOfLP3E9CtejcNU/+n5qvHSTeD956SYxCKzoPxsv3SQGgZU/ZmZmZmZm3j/l0CLb+X7KPyPb+X5qvOg/BFYOLbKd7z/RItv5fmroPx+F61G4HuU/O99PjZdu0j9oke18PzXOPzEIrBxaZOs/g8DKoUW2sz9MN4lBYOWgP5MYBFYOLdI/30+Nl24S4z+wcmiR7XzfP1g5tMh2vt8/EoPAyqFFtj+q8dJNYhDsP+F6FK5H4eY/tMh2vp8azz93vp8aL93gPylcj8L1KMw/AiuHFtnOxz+TGARWDi3qP8uhRbbz/eQ/cT0K16Nw3T/pJjEIrBzqPzeJQWDl0Oo/sHJoke186z8pXI/C9SisP7bz/dR46eY/z/dT46Wb3D8OLbKd76fqPz81XrpJDMI/9P3UeOkmwT9Ei2zn+6nhP1pkO99Pjcc/d76fGi/d6D+8dJMYBFbiPx1aZDvfT+U/ke18PzVe6j/LoUW28/3cP/yp8dJNYlA/LbKd76fG5z8CK4cW2c7fP4XrUbgeheM/YhBYObTI5j/8qfHSTWJwP8UgsHJokd0/hetRuB6Fyz8QWDm0yHa+P/p+arx0k7g/ppvEILBy0D8UrkfhehTuP7gehetRuOI/x0s3iUFg7T8xCKwcWmTLP/LSTWIQWO0/uB6F61G4zj+gGi/dJAblP0oMAiuHFuU/tvP91Hjp4j/dJAaBlUPrP3sUrkfherQ/cT0K16Nw5T/8qfHSTWLsP7gehetRuJ4/oBov3SQG4T9iEFg5tMjqP7pJDAIrh7Y/GQRWDi2ynT/wp8ZLN4npP+kmMQisHNI/okW28/3U5D/RItv5fmrgP3WTGARWDuE/oBov3SQGwT9kO99PjZfeP0w3iUFg5dA/nu+nxks30T+4HoXrUbjeP/7UeOkmMeg/EFg5tMh23j9mZmZmZmbqPwaBlUOLbOc/L90kBoGV0z+TGARWDi3CP3npJjEIrNw/1XjpJjEI5D85tMh2vp/SP3e+nxov3cQ/AiuHFtnOtz/ByqFFtvPhP76fGi/dJOo/WDm0yHa+vz/b+X5qvHTTP0SLbOf7qek/oBov3SQG7T8EVg4tsp3rPyUGgZVDi+w/EFg5tMh2zj8AAAAAAADYP1YOLbKd79c/gZVDi2zn2z9KDAIrhxapPzeJQWDl0OY/Rrbz/dR47T9GtvP91HjZPyGwcmiR7eQ/2c73U+Ol6z/6fmq8dJPsP1pkO99Pjac/c2iR7Xw/7T+JQWDl0CLbP0w3iUFg5eg/sHJoke184z+0yHa+nxrrPylcj8L1KOw/7FG4HoXrwT+Nl24Sg8DKP3e+nxov3dQ/nMQgsHJooT9cj8L1KFzXP0jhehSuR+U/x0s3iUFg1T+PwvUoXI/iP+F6FK5H4dI/iUFg5dAi4z8tsp3vp8bvP8uhRbbz/aQ/oBov3SQG2T+cxCCwcmjRP/yp8dJNYpA/SOF6FK5H0T+wcmiR7XzPP6JFtvP91NA/jZduEoPA7j99PzVeuknkP/LSTWIQWOU/CKwcWmQ76z+DwMqhRbbDP6abxCCwcuQ/TmIQWDm0yD8xCKwcWmTbP4cW2c73U+s/LbKd76fG4z+8dJMYBFbWP+kmMQisHNo/sp3vp8ZL7z+LbOf7qfHuP30/NV66Sew/x0s3iUFg6T8pXI/C9SjkPwaBlUOLbOM/AAAAAAAA6D9MN4lBYOWwPyUGgZVDi8w/eekmMQisjD/4U+Olm8TQP1pkO99Pjes/qvHSTWIQ4D+HFtnO91PDP3npJjEIrNQ/WmQ730+N5z+TGARWDi3iPy2yne+nxss/dZMYBFYO1T8/NV66SQziP5huEoPAytk/RIts5/up0T+PwvUoXI/aPxBYObTIduY/ukkMAiuH5j9U46WbxCDYPwIrhxbZzuc/TDeJQWDl5D8j2/l+arzkP0SLbOf7qe0/zczMzMzM3D85tMh2vp/qPwRWDi2ync8/x0s3iUFg4T/sUbgehevtPz81XrpJDOY/001iEFg54D/8qfHSTWKgP42XbhKDwNo/H4XrUbge7T+amZmZmZntP3npJjEIrJw/WmQ730+Nlz9vEoPAyqHpP2Dl0CLb+eo/JzEIrBxa3D8IrBxaZDuvP1g5tMh2vus/PQrXo3A97j9g5dAi2/m+P1g5tMh2vq8/arx0kxgE3j8K16NwPQrnPylcj8L1KNw/w/UoXI/C6T9OYhBYObTYP90kBoGVQ+M/zczMzMzM6D8GgZVDi2zXP39qvHSTGOQ/arx0kxgE7j+cxCCwcmjZP8HKoUW28+U/pHA9Ctej6D+JQWDl0CLLP8UgsHJokek//Knx0k1i6D9OYhBYObTsP2ZmZmZmZu4/aJHtfD815j/sUbgehevZP76fGi/dJO4/+n5qvHST2D/D9Shcj8LFP2iR7Xw/Na4/Vg4tsp3vxz/8qfHSTWJgP+Olm8QgsOI/CtejcD0Kpz9CYOXQItvtP6abxCCwcuA/exSuR+F6xD+amZmZmZnhP0oMAiuHFtk/ZDvfT42X4j+R7Xw/NV7mP2q8dJMYBMY/rBxaZDvf1z+DwMqhRbbnP+Olm8QgsOY/kxgEVg4tsj9qvHSTGATmP6AaL90kBuk/QmDl0CLb5T8CK4cW2c7jP2q8dJMYBKY/HVpkO99P3T97FK5H4XrgP7pJDAIrh+o/MzMzMzMz7z/P91PjpZvUPw4tsp3vp+Y/i2zn+6nx2j/8qfHSTWKwP3WTGARWDt0/XrpJDAIr6z++nxov3STmPyuHFtnO9+c/okW28/3U6D8fhetRuB7FP5zEILByaOk/rkfhehSuxz8K16NwPQrXPz81XrpJDNI/AiuHFtnO7z/+1HjpJjHgP1pkO99PjeM/WmQ730+N7z/Xo3A9CtfTP5ZDi2zn++E/qvHSTWIQuD9I4XoUrkfhP166SQwCK8c/WmQ730+N3z/6fmq8dJPkP3e+nxov3dw/w/UoXI/C7T8730+Nl27CP4GVQ4ts59M/Rrbz/dR4yT/2KFyPwvXYPxsv3SQGgaU/exSuR+F61D+kcD0K16PQP7x0kxgEVs4/EFg5tMh24j/b+X5qvHTrPycxCKwcWtQ/+n5qvHST6D8EVg4tsp3jP7Kd76fGS8c/QmDl0CLbuT+amZmZmZmZP5huEoPAytE/qvHSTWIQ6D956SYxCKysP4GVQ4ts5+c/wcqhRbbz6T/l0CLb+X7uPwAAAAAAAOw/ppvEILBy2D9CYOXQItvpPzVeukkMAus/bxKDwMqhxT+4HoXrUbjWP7Kd76fGS+s/6SYxCKwcqj/FILByaJHlP+f7qfHSTeo/i2zn+6nx0j/b+X5qvHTDP9Ei2/l+asw/QmDl0CLb2T956SYxCKx8P/T91HjpJuk/dZMYBFYOzT+28/3UeOnqPxkEVg4tst0/Rrbz/dR45T/RItv5fmrsPyuHFtnO97M/vp8aL90kxj8bL90kBoHVPxfZzvdT48U/NV66SQwCyz+YbhKDwMrtPwrXo3A9Crc/GQRWDi2y6T+4HoXrUbjuP3Noke18P90/7FG4HoXr5T89CtejcD3mP/T91HjpJuE/y6FFtvP91D9U46WbxCDgP8/3U+Olm+Q/wcqhRbbz7T8tsp3vp8brP8/3U+Olm+A/jZduEoPA5j8dWmQ730/VP5HtfD81XuI/K4cW2c732z8X2c73U+PtPzm0yHa+n6o/L90kBoGVwz/RItv5fmq8P65H4XoUrus/hetRuB6F5z89CtejcD3KP30/NV66SeA/8tJNYhBY2T/TTWIQWDm0Pz81XrpJDO4/+n5qvHSTyD+oxks3iUHkP2Q730+Nl+Y/FK5H4XoU4j8730+Nl26yPxkEVg4tsuE/CtejcD0Kxz+JQWDl0CLvP8UgsHJokc0/IbByaJHt7D8zMzMzMzPnP9NNYhBYOew/K4cW2c734z9QjZduEoPAP1yPwvUoXO8/nu+nxks37T9eukkMAivfP9NNYhBYOcQ/VOOlm8Qg5D8xCKwcWmTjPzvfT42XboI/ZmZmZmZmxj83iUFg5dDiP4XrUbgehes/iUFg5dAi6z+HFtnO91PnP/yp8dJNYsA/ppvEILBy6D+YbhKDwMrhP5qZmZmZmeU/K4cW2c736z8j2/l+arzsP6jGSzeJQeg/30+Nl24S0z/Xo3A9CtfvP7TIdr6fGuc/2/l+arx0kz/2KFyPwvXoPz0K16NwPeo/L90kBoGV4z9g5dAi2/niPyGwcmiR7dQ/UrgehetR0D9WDi2yne/fPzVeukkMAu8/tvP91Hjp7j9iEFg5tMi2PwRWDi2yndc/rBxaZDvf5z/+1HjpJjHQP0Jg5dAi28k/9ihcj8L14D/Jdr6fGi/tP39qvHSTGOw/5/up8dJN7j9vEoPAyqHlP05iEFg5tOA/IbByaJHt6D+LbOf7qfHqPxkEVg4tsuU/CKwcWmQ7zz8MAiuHFtnuP7pJDAIrh8Y/mpmZmZmZ6T9t5/up8dLlP/T91HjpJuU/7FG4HoXr4T/8qfHSTWLYP+58PzVeusk/NV66SQwC5z/fT42XbhLnP166SQwCK+8/sHJoke187z+TGARWDi3uP0w3iUFg5cA/16NwPQrX4z/l0CLb+X7iPzm0yHa+n+Y/I9v5fmq83D+JQWDl0CLTP9v5fmq8dO8/cT0K16Nw6T/Jdr6fGi/lP9nO91Pjpec/c2iR7Xw/xT8Sg8DKoUXGP83MzMzMzOA/5/up8dJN4j/hehSuR+HqP/T91HjpJu0/30+Nl24Swz9YObTIdr7nP/YoXI/C9ew/nu+nxks3yT/VeOkmMQjUPzvfT42Xbuo/MQisHFpkuz+R7Xw/NV7SP2iR7Xw/Neo/16NwPQrX6z97FK5H4XrsP8uhRbbz/eg/YhBYObTI7j8Sg8DKoUXqP3sUrkfhepQ/XI/C9Shczz/Xo3A9CtfbP9nO91Pjpcs/nu+nxks34T8Sg8DKoUXuP+Olm8QgsO4/2/l+arx02z8K16NwPQrjP3sUrkfheoQ/f2q8dJMYxD/b+X5qvHTnPzm0yHa+n4o/GQRWDi2yrT8Sg8DKoUXeP2ZmZmZmZuI/ObTIdr6fuj/ZzvdT46XjP9V46SYxCOw/y6FFtvP9xD9t5/up8dLpP/Cnxks3idE/bxKDwMqh4T+kcD0K16PYP2Q730+Nl+4/MzMzMzMzsz9YObTIdr6fP/Cnxks3ieE/SOF6FK5H6T8730+Nl26SP2Q730+Nl9Y/I9v5fmq8tD+LbOf7qfHiP6wcWmQ73+s/gZVDi2zn7z97FK5H4XqkPwisHFpkO78/KVyPwvUovD9Ei2zn+6nlP2IQWDm0yMY/EFg5tMh27j/2KFyPwvXQP76fGi/dJOI/lkOLbOf70T/b+X5qvHTjP2Q730+Nl+o/46WbxCCw2j/6fmq8dJOoP1yPwvUoXOc/7nw/NV666T9iEFg5tMjWP1K4HoXrUeA/rkfhehSu4z/NzMzMzMzkP+kmMQisHLo/FK5H4XoUzj+4HoXrUbi+P5HtfD81Xro/exSuR+F66D/LoUW28/3gP28Sg8DKodU/c2iR7Xw/5T+kcD0K16OwP+kmMQisHO4/zczMzMzM1D8dWmQ730/hPxsv3SQGgd0/SgwCK4cW0T9zaJHtfD+1PxSuR+F6FOo/7nw/NV662T956SYxCKy8PwaBlUOLbMc//tR46SYx7D+0yHa+nxrjP23n+6nx0s0/2c73U+Ol7z8730+Nl27mP1K4HoXrUcg/BoGVQ4ts3z8/NV66SQzaPycxCKwcWuw/arx0kxgEtj/y0k1iEFjRP8P1KFyPwt0/BFYOLbKd5z/FILByaJHVPz0K16NwPeI/K4cW2c73oz8UrkfhehTePzvfT42XbqI/mG4Sg8DKwT+HFtnO91PTP1TjpZvEIMA/sp3vp8ZL1z93vp8aL93kP+kmMQisHMo/UrgehetRuD89CtejcD3aPxfZzvdT490/g8DKoUW20z+q8dJNYhCoP90kBoGVQ9M/F9nO91Pj1T/P91PjpZvEP7x0kxgEVt4/8tJNYhBY6T8v3SQGgZXrP05iEFg5tNA/QmDl0CLb0T8OLbKd76fGP8dLN4lBYOU/+FPjpZvE6D+gGi/dJAbRP4XrUbgehe8/RIts5/up2T97FK5H4Xp0P8dLN4lBYN0/H4XrUbge4T+cxCCwcmjBPxsv3SQGgbU/7FG4HoXr6T8X2c73U+PlP30/NV66Scw/kxgEVg4t5j9g5dAi2/nuPwIrhxbZzus/XrpJDAIr1z+oxks3iUHYP42XbhKDwOo/mpmZmZmZqT/n+6nx0k3mP7Kd76fGS7c/cT0K16NwvT+wcmiR7XzXP6wcWmQ73+M/d76fGi/d7D/6fmq8dJPgP7bz/dR46cY/y6FFtvP9tD+8dJMYBFbqPwIrhxbZztc/pHA9Ctej4D/y0k1iEFjJP5MYBFYOLdo/nu+nxks32T8730+Nl27iP7TIdr6fGt8/001iEFg55D+WQ4ts5/vpP6JFtvP91Lg//tR46SYxyD8Sg8DKoUXiPzMzMzMzM+s/aJHtfD81vj/n+6nx0k3aP/yp8dJNYoA/L90kBoGV2z8AAAAAAADkP/YoXI/C9cg/K4cW2c73wz8zMzMzMzPTP+Olm8QgsOo/EoPAyqFF1j9OYhBYObTkP/yp8dJNYtA/okW28/3UyD9SuB6F61HsPwAAAAAAAOA/ObTIdr6f7j+BlUOLbOfjP1g5tMh2vs8/N4lBYOXQwj/ufD81XrrRP1g5tMh2vu8/H4XrUbge1T/sUbgeheuhPzm0yHa+n9o/lkOLbOf7yT/6fmq8dJPQP5ZDi2zn++U/rBxaZDvf7z/VeOkmMQjgPzeJQWDl0No/SgwCK4cW7T+YbhKDwMrpP5zEILByaO0/DAIrhxbZ5j8lBoGVQ4vgP6wcWmQ7398/hxbZzvdT2z9YObTIdr7XP7ByaJHtfL8/8KfGSzeJ7T/Jdr6fGi/NP4lBYOXQIrs/HVpkO99PzT/sUbgeheuxPzvfT42Xbto/qvHSTWIQ0D81XrpJDALTPwisHFpkO+M/EoPAyqFF5j8hsHJoke3cPy/dJAaBle8/w/UoXI/CtT+YbhKDwMrlPyUGgZVDi9Q/MQisHFpk0z+8dJMYBFbmP6jGSzeJQew/IbByaJHtvD/ZzvdT46XTPwrXo3A9Cus/ukkMAiuH4j97FK5H4XrkP23n+6nx0u0/uB6F61G4jj/n+6nx0k3CP8/3U+Olm+g/001iEFg56D/FILByaJHtP3WTGARWDuU/VOOlm8QgsD8K16NwPQrvPyuHFtnO99M/ppvEILByyD9g5dAi2/nOPy/dJAaBlec/SgwCK4cWuT/4U+Olm8TYP7Kd76fGS98/CKwcWmQ73z9SuB6F61HYP1YOLbKd7+8/LbKd76fG0z+DwMqhRbbrP/YoXI/C9eQ/BoGVQ4ts7z/wp8ZLN4nZP9Ei2/l+atQ/9P3UeOkmsT9kO99PjZfOP1K4HoXrUeQ/46WbxCCwwj8=\",\"dtype\":\"float64\",\"shape\":[1000]},\"__dummy_cat\":[\" \",\" \",\" \",\" \",\" \",\" \",\" \",\" \",\" \",\" \",\" \",\" \",\" \",\" \",\" \",\" \",\" \",\" \",\" \",\" \",\" \",\" \",\" \",\" \",\" \",\" \",\" \",\" \",\" \",\" \",\" \",\" \",\" \",\" \",\" \",\" \",\" \",\" \",\" \",\" \",\" \",\" \",\" \",\" \",\" \",\" \",\" \",\" \",\" \",\" \",\" \",\" \",\" \",\" \",\" \",\" \",\" \",\" \",\" \",\" \",\" \",\" \",\" \",\" \",\" \",\" \",\" \",\" \",\" \",\" \",\" \",\" \",\" \",\" \",\" \",\" \",\" \",\" \",\" \",\" \",\" \",\" \",\" \",\" \",\" \",\" \",\" \",\" \",\" \",\" \",\" \",\" \",\" \",\" \",\" \",\" \",\" \",\" \",\" \",\" \",\" \",\" \",\" \",\" \",\" \",\" \",\" \",\" \",\" \",\" \",\" \",\" \",\" \",\" \",\" \",\" \",\" \",\" \",\" \",\" \",\" \",\" \",\" \",\" \",\" \",\" \",\" \",\" \",\" \",\" \",\" \",\" \",\" \",\" \",\" \",\" \",\" \",\" \",\" \",\" \",\" \",\" \",\" \",\" \",\" \",\" \",\" \",\" \",\" \",\" \",\" \",\" \",\" \",\" \",\" \",\" \",\" \",\" \",\" \",\" \",\" \",\" \",\" \",\" \",\" \",\" \",\" \",\" \",\" \",\" \",\" \",\" \",\" \",\" \",\" \",\" \",\" \",\" \",\" \",\" \",\" \",\" \",\" \",\" \",\" \",\" \",\" \",\" \",\" \",\" \",\" \",\" \",\" \",\" \",\" \",\" \",\" \",\" \",\" \",\" \",\" \",\" \",\" \",\" \",\" \",\" \",\" \",\" \",\" \",\" \",\" \",\" \",\" \",\" \",\" \",\" \",\" \",\" \",\" \",\" \",\" \",\" \",\" \",\" \",\" \",\" \",\" \",\" \",\" \",\" \",\" \",\" \",\" \",\" \",\" \",\" \",\" \",\" \",\" \",\" \",\" \",\" \",\" \",\" \",\" \",\" \",\" \",\" \",\" \",\" \",\" \",\" \",\" \",\" \",\" \",\" \",\" \",\" \",\" \",\" \",\" \",\" \",\" \",\" \",\" \",\" \",\" \",\" \",\" \",\" \",\" \",\" \",\" \",\" \",\" \",\" \",\" \",\" \",\" \",\" \",\" \",\" \",\" \",\" \",\" \",\" \",\" \",\" \",\" \",\" \",\" \",\" \",\" \",\" \",\" \",\" \",\" \",\" \",\" \",\" \",\" \",\" \",\" \",\" \",\" \",\" \",\" \",\" \",\" \",\" \",\" \",\" \",\" \",\" \",\" \",\" \",\" \",\" \",\" \",\" \",\" \",\" \",\" \",\" \",\" \",\" \",\" \",\" \",\" \",\" \",\" \",\" \",\" \",\" \",\" \",\" \",\" \",\" \",\" \",\" \",\" \",\" \",\" \",\" \",\" \",\" \",\" \",\" \",\" \",\" \",\" \",\" \",\" \",\" \",\" \",\" \",\" \",\" \",\" \",\" \",\" \",\" \",\" \",\" \",\" \",\" \",\" \",\" \",\" \",\" \",\" \",\" \",\" \",\" \",\" \",\" \",\" \",\" \",\" \",\" \",\" \",\" \",\" \",\" \",\" \",\" \",\" \",\" \",\" \",\" \",\" \",\" \",\" \",\" \",\" \",\" \",\" \",\" \",\" \",\" \",\" \",\" \",\" \",\" \",\" \",\" \",\" \",\" \",\" \",\" \",\" \",\" \",\" \",\" \",\" \",\" \",\" \",\" \",\" \",\" \",\" \",\" \",\" \",\" \",\" \",\" \",\" \",\" \",\" \",\" \",\" \",\" \",\" \",\" \",\" \",\" \",\" \",\" \",\" \",\" \",\" \",\" \",\" \",\" \",\" \",\" \",\" \",\" \",\" \",\" \",\" \",\" \",\" \",\" \",\" \",\" \",\" \",\" \",\" \",\" \",\" \",\" \",\" \",\" \",\" \",\" \",\" \",\" \",\" \",\" \",\" \",\" \",\" \",\" \",\" \",\" \",\" \",\" \",\" \",\" \",\" \",\" \",\" \",\" \",\" \",\" \",\" \",\" \",\" \",\" \",\" \",\" \",\" \",\" \",\" \",\" \",\" \",\" \",\" \",\" \",\" \",\" \",\" \",\" \",\" \",\" \",\" \",\" \",\" \",\" \",\" \",\" \",\" \",\" \",\" \",\" \",\" \",\" \",\" \",\" \",\" \",\" \",\" \",\" \",\" \",\" \",\" \",\" \",\" \",\" \",\" \",\" \",\" \",\" \",\" \",\" \",\" \",\" \",\" \",\" \",\" \",\" \",\" \",\" \",\" \",\" \",\" \",\" \",\" \",\" \",\" \",\" \",\" \",\" \",\" \",\" \",\" \",\" \",\" \",\" \",\" \",\" \",\" \",\" \",\" \",\" \",\" \",\" \",\" \",\" \",\" \",\" \",\" \",\" \",\" \",\" \",\" \",\" \",\" \",\" \",\" \",\" \",\" \",\" \",\" \",\" \",\" \",\" \",\" \",\" \",\" \",\" \",\" \",\" \",\" \",\" \",\" \",\" \",\" \",\" \",\" \",\" \",\" \",\" \",\" \",\" \",\" \",\" \",\" \",\" \",\" \",\" \",\" \",\" \",\" \",\" \",\" \",\" \",\" \",\" \",\" \",\" \",\" \",\" \",\" \",\" \",\" \",\" \",\" \",\" \",\" \",\" \",\" \",\" \",\" \",\" \",\" \",\" \",\" \",\" \",\" \",\" \",\" \",\" \",\" \",\" \",\" \",\" \",\" \",\" \",\" \",\" \",\" \",\" \",\" \",\" \",\" \",\" \",\" \",\" \",\" \",\" \",\" \",\" \",\" \",\" \",\" \",\" \",\" \",\" \",\" \",\" \",\" \",\" \",\" \",\" \",\" \",\" \",\" \",\" \",\" \",\" \",\" \",\" \",\" \",\" \",\" \",\" \",\" \",\" \",\" \",\" \",\" \",\" \",\" \",\" \",\" \",\" \",\" \",\" \",\" \",\" \",\" \",\" \",\" \",\" \",\" \",\" \",\" \",\" \",\" \",\" \",\" \",\" \",\" \",\" \",\" \",\" \",\" \",\" \",\" \",\" \",\" \",\" \",\" \",\" \",\" \",\" \",\" \",\" \",\" \",\" \",\" \",\" \",\" \",\" \",\" \",\" \",\" \",\" \",\" \",\" \",\" \",\" \",\" \",\" \",\" \",\" \",\" \",\" \",\" \",\" \",\" \",\" \",\" \",\" \",\" \",\" \",\" \",\" \",\" \",\" \",\" \",\" \",\" \",\" \",\" \",\" \",\" \",\" \",\" \",\" \",\" \",\" \",\" \",\" \",\" \",\" \",\" \",\" \",\" \",\" \",\" \",\" \",\" \",\" \",\" \",\" \",\" \",\" \",\" \",\" \",\" \",\" \",\" \",\" \",\" \",\" \",\" \",\" \",\" \",\" \",\" \",\" \",\" \",\" \",\" \",\" \",\" \",\" \",\" \",\" \",\" \",\" \",\" \",\" \",\" \",\" \",\" \",\" \",\" \",\" \",\" \",\" \",\" \",\" \",\" \",\" \",\" \",\" \",\" \",\" \",\" \",\" \",\" \",\" \",\" \",\" \",\" \",\" \",\" \",\" \",\" \",\" \",\" \",\" \",\" \",\" \",\" \",\" \",\" \",\" \",\" \",\" \",\" \",\" \",\" \",\" \",\" \",\" \",\" \",\" \",\" \",\" \",\" \",\" \",\" \",\" \",\" \",\" \",\" \",\" \",\" \",\" \",\" \",\" \",\" \",\" \",\" \",\" \",\" \",\" \",\" \",\" \",\" \",\" \",\" \",\" \",\" \",\" \",\" \",\" \",\" \",\" \",\" \",\" \",\" \",\" \",\" \",\" \",\" \",\" \",\" \",\" \",\" \",\" \",\" \",\" \",\" \",\" \",\" \",\" \",\" \",\" \",\" \",\" \",\" \",\" \",\" \",\" \",\" \",\" \",\" \",\" \",\" \",\" \",\" \",\" \",\" \",\" \",\" \",\" \",\" \",\" \",\" \",\" \",\" \",\" \",\" \",\" \",\" \",\" \",\" \",\" \",\" \",\" \",\" \",\" \",\" \",\" \",\" \",\" \",\" \",\" \",\" \",\" \",\" \",\" \",\" \",\" \",\" \",\" \",\" \",\" \",\" \",\" \",\" \",\" \",\" \",\" \",\" \",\" \",\" \",\" \",\" \",\" \",\" \",\" \",\" \",\" \",\" \",\" \",\" \",\" \",\" \",\" \",\" \",\" \",\" \",\" \",\" \",\" \",\" \",\" \",\" \",\" \",\" \",\" \",\" \",\" \"],\"__label\":[\" \",\" \",\" \",\" \",\" \",\" \",\" \",\" \",\" \",\" \",\" \",\" \",\" \",\" \",\" \",\" \",\" \",\" \",\" \",\" \",\" \",\" \",\" \",\" \",\" \",\" \",\" \",\" \",\" \",\" \",\" \",\" \",\" \",\" \",\" \",\" \",\" \",\" \",\" \",\" \",\" \",\" \",\" \",\" \",\" \",\" \",\" \",\" \",\" \",\" \",\" \",\" \",\" \",\" \",\" \",\" \",\" \",\" \",\" \",\" \",\" \",\" \",\" \",\" \",\" \",\" \",\" \",\" \",\" \",\" \",\" \",\" \",\" \",\" \",\" \",\" \",\" \",\" \",\" \",\" \",\" \",\" \",\" \",\" \",\" \",\" \",\" \",\" \",\" \",\" \",\" \",\" \",\" \",\" \",\" \",\" \",\" \",\" \",\" \",\" \",\" \",\" \",\" \",\" \",\" \",\" \",\" \",\" \",\" \",\" \",\" \",\" \",\" \",\" \",\" \",\" \",\" \",\" \",\" \",\" \",\" \",\" \",\" \",\" \",\" \",\" \",\" \",\" \",\" \",\" \",\" \",\" \",\" \",\" \",\" \",\" \",\" \",\" \",\" \",\" \",\" \",\" \",\" \",\" \",\" \",\" \",\" \",\" \",\" \",\" \",\" \",\" \",\" \",\" \",\" \",\" \",\" \",\" \",\" \",\" \",\" \",\" \",\" \",\" \",\" \",\" \",\" \",\" \",\" \",\" \",\" \",\" \",\" \",\" \",\" \",\" \",\" \",\" \",\" \",\" \",\" \",\" \",\" \",\" \",\" \",\" \",\" \",\" \",\" \",\" \",\" \",\" \",\" \",\" \",\" \",\" \",\" \",\" \",\" \",\" \",\" \",\" \",\" \",\" \",\" \",\" \",\" \",\" \",\" \",\" \",\" \",\" \",\" \",\" \",\" \",\" \",\" \",\" \",\" \",\" \",\" \",\" \",\" \",\" \",\" \",\" \",\" \",\" \",\" \",\" \",\" \",\" \",\" \",\" \",\" \",\" \",\" \",\" \",\" \",\" \",\" \",\" \",\" \",\" \",\" \",\" \",\" \",\" \",\" \",\" \",\" \",\" \",\" \",\" \",\" \",\" \",\" \",\" \",\" \",\" \",\" \",\" \",\" \",\" \",\" \",\" \",\" \",\" \",\" \",\" \",\" \",\" \",\" \",\" \",\" \",\" \",\" \",\" \",\" \",\" \",\" \",\" \",\" \",\" \",\" \",\" \",\" \",\" \",\" \",\" \",\" \",\" \",\" \",\" \",\" \",\" \",\" \",\" \",\" \",\" \",\" \",\" \",\" \",\" \",\" \",\" \",\" \",\" \",\" \",\" \",\" \",\" \",\" \",\" \",\" \",\" \",\" \",\" \",\" \",\" \",\" \",\" \",\" \",\" \",\" \",\" \",\" \",\" \",\" \",\" \",\" \",\" \",\" \",\" \",\" \",\" \",\" \",\" \",\" \",\" \",\" \",\" \",\" \",\" \",\" \",\" \",\" \",\" \",\" \",\" \",\" \",\" \",\" \",\" \",\" \",\" \",\" \",\" \",\" \",\" \",\" \",\" \",\" \",\" \",\" \",\" \",\" \",\" \",\" \",\" \",\" \",\" \",\" \",\" \",\" \",\" \",\" \",\" \",\" \",\" \",\" \",\" \",\" \",\" \",\" \",\" \",\" \",\" \",\" \",\" \",\" \",\" \",\" \",\" \",\" \",\" \",\" \",\" \",\" \",\" \",\" \",\" \",\" \",\" \",\" \",\" \",\" \",\" \",\" \",\" \",\" \",\" \",\" \",\" \",\" \",\" \",\" \",\" \",\" \",\" \",\" \",\" \",\" \",\" \",\" \",\" \",\" \",\" \",\" \",\" \",\" \",\" \",\" \",\" \",\" \",\" \",\" \",\" \",\" \",\" \",\" \",\" \",\" \",\" \",\" \",\" \",\" \",\" \",\" \",\" \",\" \",\" \",\" \",\" \",\" \",\" \",\" \",\" \",\" \",\" \",\" \",\" \",\" \",\" \",\" \",\" \",\" \",\" \",\" \",\" \",\" \",\" \",\" \",\" \",\" \",\" \",\" \",\" \",\" \",\" \",\" \",\" \",\" \",\" \",\" \",\" \",\" \",\" \",\" \",\" \",\" \",\" \",\" \",\" \",\" \",\" \",\" \",\" \",\" \",\" \",\" \",\" \",\" \",\" \",\" \",\" \",\" \",\" \",\" \",\" \",\" \",\" \",\" \",\" \",\" \",\" \",\" \",\" \",\" \",\" \",\" \",\" \",\" \",\" \",\" \",\" \",\" \",\" \",\" \",\" \",\" \",\" \",\" \",\" \",\" \",\" \",\" \",\" \",\" \",\" \",\" \",\" \",\" \",\" \",\" \",\" \",\" \",\" \",\" \",\" \",\" \",\" \",\" \",\" \",\" \",\" \",\" \",\" \",\" \",\" \",\" \",\" \",\" \",\" \",\" \",\" \",\" \",\" \",\" \",\" \",\" \",\" \",\" \",\" \",\" \",\" \",\" \",\" \",\" \",\" \",\" \",\" \",\" \",\" \",\" \",\" \",\" \",\" \",\" \",\" \",\" \",\" \",\" \",\" \",\" \",\" \",\" \",\" \",\" \",\" \",\" \",\" \",\" \",\" \",\" \",\" \",\" \",\" \",\" \",\" \",\" \",\" \",\" \",\" \",\" \",\" \",\" \",\" \",\" \",\" \",\" \",\" \",\" \",\" \",\" \",\" \",\" \",\" \",\" \",\" \",\" \",\" \",\" \",\" \",\" \",\" \",\" \",\" \",\" \",\" \",\" \",\" \",\" \",\" \",\" \",\" \",\" \",\" \",\" \",\" \",\" \",\" \",\" \",\" \",\" \",\" \",\" \",\" \",\" \",\" \",\" \",\" \",\" \",\" \",\" \",\" \",\" \",\" \",\" \",\" \",\" \",\" \",\" \",\" \",\" \",\" \",\" \",\" \",\" \",\" \",\" \",\" \",\" \",\" \",\" \",\" \",\" \",\" \",\" \",\" \",\" \",\" \",\" \",\" \",\" \",\" \",\" \",\" \",\" \",\" \",\" \",\" \",\" \",\" \",\" \",\" \",\" \",\" \",\" \",\" \",\" \",\" \",\" \",\" \",\" \",\" \",\" \",\" \",\" \",\" \",\" \",\" \",\" \",\" \",\" \",\" \",\" \",\" \",\" \",\" \",\" \",\" \",\" \",\" \",\" \",\" \",\" \",\" \",\" \",\" \",\" \",\" \",\" \",\" \",\" \",\" \",\" \",\" \",\" \",\" \",\" \",\" \",\" \",\" \",\" \",\" \",\" \",\" \",\" \",\" \",\" \",\" \",\" \",\" \",\" \",\" \",\" \",\" \",\" \",\" \",\" \",\" \",\" \",\" \",\" \",\" \",\" \",\" \",\" \",\" \",\" \",\" \",\" \",\" \",\" \",\" \",\" \",\" \",\" \",\" \",\" \",\" \",\" \",\" \",\" \",\" \",\" \",\" \",\" \",\" \",\" \",\" \",\" \",\" \",\" \",\" \",\" \",\" \",\" \",\" \",\" \",\" \",\" \",\" \",\" \",\" \",\" \",\" \",\" \",\" \",\" \",\" \",\" \",\" \",\" \",\" \",\" \",\" \",\" \",\" \",\" \",\" \",\" \",\" \",\" \",\" \",\" \",\" \",\" \",\" \",\" \",\" \",\" \",\" \",\" \",\" \",\" \",\" \",\" \",\" \",\" \",\" \",\" \",\" \",\" \",\" \",\" \",\" \",\" \",\" \",\" \",\" \",\" \",\" \",\" \",\" \",\" \",\" \",\" \",\" \",\" \",\" \",\" \",\" \",\" \",\" \",\" \",\" \",\" \",\" \",\" \",\" \",\" \",\" \",\" \",\" \",\" \",\" \",\" \",\" \",\" \",\" \",\" \",\" \",\" \",\" \",\" \",\" \",\" \",\" \",\" \",\" \",\" \",\" \",\" \",\" \",\" \",\" \",\" \",\" \",\" \",\" \",\" \",\" \",\" \",\" \",\" \",\" \",\" \",\" \",\" \",\" \",\" \",\" \",\" \",\" \",\" \",\" \",\" \",\" \",\" \",\" \",\" \",\" \",\" \",\" \",\" \",\" \",\" \",\" \",\" \",\" \",\" \",\" \",\" \",\" \",\" \",\" \",\" \",\" \",\" \",\" \",\" \",\" \",\" \",\" \",\" \",\" \",\" \",\" \",\" \",\" \",\" \",\" \",\" \",\" \",\" \",\" \",\" \",\" \",\" \",\" \",\" \",\" \",\" \",\" \",\" \",\" \",\" \",\" \",\" \",\" \",\" \",\" \",\" \",\" \",\" \",\" \",\" \",\" \",\" \",\" \",\" \",\" \",\" \",\" \",\" \",\" \",\" \",\" \"],\"index\":[0,1,2,3,4,5,6,7,8,9,10,11,12,13,14,15,16,17,18,19,20,21,22,23,24,25,26,27,28,29,30,31,32,33,34,35,36,37,38,39,40,41,42,43,44,45,46,47,48,49,50,51,52,53,54,55,56,57,58,59,60,61,62,63,64,65,66,67,68,69,70,71,72,73,74,75,76,77,78,79,80,81,82,83,84,85,86,87,88,89,90,91,92,93,94,95,96,97,98,99,100,101,102,103,104,105,106,107,108,109,110,111,112,113,114,115,116,117,118,119,120,121,122,123,124,125,126,127,128,129,130,131,132,133,134,135,136,137,138,139,140,141,142,143,144,145,146,147,148,149,150,151,152,153,154,155,156,157,158,159,160,161,162,163,164,165,166,167,168,169,170,171,172,173,174,175,176,177,178,179,180,181,182,183,184,185,186,187,188,189,190,191,192,193,194,195,196,197,198,199,200,201,202,203,204,205,206,207,208,209,210,211,212,213,214,215,216,217,218,219,220,221,222,223,224,225,226,227,228,229,230,231,232,233,234,235,236,237,238,239,240,241,242,243,244,245,246,247,248,249,250,251,252,253,254,255,256,257,258,259,260,261,262,263,264,265,266,267,268,269,270,271,272,273,274,275,276,277,278,279,280,281,282,283,284,285,286,287,288,289,290,291,292,293,294,295,296,297,298,299,300,301,302,303,304,305,306,307,308,309,310,311,312,313,314,315,316,317,318,319,320,321,322,323,324,325,326,327,328,329,330,331,332,333,334,335,336,337,338,339,340,341,342,343,344,345,346,347,348,349,350,351,352,353,354,355,356,357,358,359,360,361,362,363,364,365,366,367,368,369,370,371,372,373,374,375,376,377,378,379,380,381,382,383,384,385,386,387,388,389,390,391,392,393,394,395,396,397,398,399,400,401,402,403,404,405,406,407,408,409,410,411,412,413,414,415,416,417,418,419,420,421,422,423,424,425,426,427,428,429,430,431,432,433,434,435,436,437,438,439,440,441,442,443,444,445,446,447,448,449,450,451,452,453,454,455,456,457,458,459,460,461,462,463,464,465,466,467,468,469,470,471,472,473,474,475,476,477,478,479,480,481,482,483,484,485,486,487,488,489,490,491,492,493,494,495,496,497,498,499,500,501,502,503,504,505,506,507,508,509,510,511,512,513,514,515,516,517,518,519,520,521,522,523,524,525,526,527,528,529,530,531,532,533,534,535,536,537,538,539,540,541,542,543,544,545,546,547,548,549,550,551,552,553,554,555,556,557,558,559,560,561,562,563,564,565,566,567,568,569,570,571,572,573,574,575,576,577,578,579,580,581,582,583,584,585,586,587,588,589,590,591,592,593,594,595,596,597,598,599,600,601,602,603,604,605,606,607,608,609,610,611,612,613,614,615,616,617,618,619,620,621,622,623,624,625,626,627,628,629,630,631,632,633,634,635,636,637,638,639,640,641,642,643,644,645,646,647,648,649,650,651,652,653,654,655,656,657,658,659,660,661,662,663,664,665,666,667,668,669,670,671,672,673,674,675,676,677,678,679,680,681,682,683,684,685,686,687,688,689,690,691,692,693,694,695,696,697,698,699,700,701,702,703,704,705,706,707,708,709,710,711,712,713,714,715,716,717,718,719,720,721,722,723,724,725,726,727,728,729,730,731,732,733,734,735,736,737,738,739,740,741,742,743,744,745,746,747,748,749,750,751,752,753,754,755,756,757,758,759,760,761,762,763,764,765,766,767,768,769,770,771,772,773,774,775,776,777,778,779,780,781,782,783,784,785,786,787,788,789,790,791,792,793,794,795,796,797,798,799,800,801,802,803,804,805,806,807,808,809,810,811,812,813,814,815,816,817,818,819,820,821,822,823,824,825,826,827,828,829,830,831,832,833,834,835,836,837,838,839,840,841,842,843,844,845,846,847,848,849,850,851,852,853,854,855,856,857,858,859,860,861,862,863,864,865,866,867,868,869,870,871,872,873,874,875,876,877,878,879,880,881,882,883,884,885,886,887,888,889,890,891,892,893,894,895,896,897,898,899,900,901,902,903,904,905,906,907,908,909,910,911,912,913,914,915,916,917,918,919,920,921,922,923,924,925,926,927,928,929,930,931,932,933,934,935,936,937,938,939,940,941,942,943,944,945,946,947,948,949,950,951,952,953,954,955,956,957,958,959,960,961,962,963,964,965,966,967,968,969,970,971,972,973,974,975,976,977,978,979,980,981,982,983,984,985,986,987,988,989,990,991,992,993,994,995,996,997,998,999],\"x\":{\"__ndarray__\":\"vPvnYBjbJ0DekRQDhQImQLCZAJghxiRAojdmt/UaJEAwo6hNKRckQOUysjla0SJACXNznwZ/I0BQaBsEbIAjQAQRnOR4siFALgDZ7MRdI0BR81pnzkglQKh5lyrtASdACqTHaup1JUCArTkEGmUkQHYv1lsYFiRA07B52XOoIUCIyac0Kf8iQDIkKVwKViNA1iJ892T3JECv4/jaK+QjQIO26GNw+yJAtLo6MEVdI0ARZ/vSmDokQC835rIkNiVAr6HNyqjUI0AIZ1SXQWMmQGpQLc+y9ChARN54ifjRIkDwOt8o+EUhQIBnmKTv/yNA5MkDp3b2I0BD0Qk5dRIhQI1LpMKLNyRAPFTCHwmeIkC9N637T44iQByBGxbLFyFAfr2qKeJHI0D3czuXcSsjQFAJmnpy2yZAuVf2+6s5JUDmlcNR4UklQL7WtdcqGyNAl467kyTuIUBhZW7RFcgjQKDtPaPajCVA+oD97cosI0CbEA/En44jQHcklUMsvyBAuZoUzIrOJkDZ/+QsywolQCX1j27owSNAiiZHppjMIkBEh3L/yU8nQI5VO1x8myJAvwfO3oHOIkCohsp5WKAjQFrpWKJd+CRAKA7olQ4QJEAvDyTs7KMhQEktcHmvtidAMM2VDVR/IEDkU26vSDojQDMikhVd5yJAQAKAVWjNIUD6ivcmWDMkQNsZkoF2yCJAkYR7wKotJEDLh2fRL3oiQJmNmXs3aSVAavaq7X9jIUATNV5KKW8eQAayYhbzlSVAMsDBb1HhJkCWhU7WTKEkQPuFgxyU6CBAfG7N+WJiIkB0U5g5kl0kQGxzzeeBriZAvNDP3hyjI0A43SCbv7IiQOxvvf1DiiVAFBwZYSU3JEC1CNEFvTMmQOJLMIkqPydAVQvDoBseI0AV3HnpiewhQBkdqse/WSVAmQOk8rAGJECkyhnDFXIiQL2wusHATiNAmGjl1RZvJkCkiUOxGVMkQJL9cBvjWiRAIU8W5mkpIEAz+y/7YmckQFpqhyDw3yFApPuhHsF1JEDX8eoDWx8lQKnnZtWd7SRAEvU97MujI0AdqWC6nSwkQFiem4LYsCJAGfhBzCGYI0AwZtu4ve0kQEoFsgWdZyVAx8N09jNOJEAak+FodtEhQOxa9KgX+h1AmcDfeXtjI0CrFlNaDaIjQFhkxTlc0yFAyI8lovrmI0DM97a16m8iQKwglNWrgCFAehOLnxSeIUADP1zss0MiQOZ9ddLqnCNAlJs+pGEWIEDPOEwHGs4lQDq6s6gdFChA8IkrfbIsJEDV4idvgDolQFIZtCU4giBAjhvjmEo3I0CA9M4ohw8kQDc8cZ1wuSNATgqIpFYUJEAcVtNFZVEiQLnufjVlpiJAEtIYcJ2/I0APf7Dw7kkiQCzZWBwQDh9AKNr0nBRNJ0Cmp4LOoQ4kQEtAGi3ttyNAQreeVGlCJUDRkQMUEVQkQLaLsV3KrCNAR/YURnlpJUA7K7eqA+clQPZY+EYhdCFAw15gwTWPI0AztZq4KtskQBILua7oNiVAX725pzGUJED3f0Z7edkgQBQyaf8RiCdA0OnTiwYiJUA8X8QYF68jQIP8Fu/WfSZAYCyKOrnOI0CdlJYafdUjQBdj4NGhlSdAplbzYZuAJEAmcEA04rMhQHh8ZjfqxyVApMrGAcQwI0DysEqCWKAmQDULxJH6vCZAtGgm790xKkCTYGV1tMMiQBfX4fQmmiRADSN6Y9c8KEApPe2zvZglQErnggOr9SNAH5t7sNBhI0Ap7Mu+8RklQH1pxKSBoyNAfs1IyviNI0DpJnJQB40gQHMNeyF6miVARPO4+wGkI0CTWHjSOuojQMt6mMjV0yNAw8qw73+WJkAO+I48dpkiQC9TFJ2mWCVAHlwAoncvJUAChXhobjYkQPEHcFtqwiNAyofqPYeaJEAQAdz1sgshQHaoV0RcGiBAAztmmDKcIkAissBjzwwoQIWDOaCPFSZA1+LheQAGJUCR73shQBIhQJ7+/C8IqyVAzMW3E1sQJ0CbXcm+SMciQLyfSPNs9iFAKOPNMYczI0C4cU+JR/8jQJR1GKTBMyNA94t5+Y85I0ArMWrVPI0jQFT+sYA/lyZAygxoaCUwI0AWzxDmSVonQJxW9QJFcyNA9WTcJNs7I0CqmRQApsUmQJechOO7mSNAORGkigc+JECwSaxPsjQjQOyMlVmLmSZAaL8GTgI0JECn8BFo15gkQNQyXmX4pSRABbxTjr3OI0Dj98ijA9wkQK6G6Q5BKiRAiJU1Qs8oJEAXdnQmIzwmQG+ZmeC1tCFAUEUYuLb1IUA1SyjZsaAkQNJbmH08DiNACVYBcrMMKEC6BmyddzYjQLfESvoIaCFA6E7KPHR1JEDA4bEsbfkjQOuWWUrybSVAwG52Czl4IkCUQ7Ii6S0jQET1E1TMXSFAtbg/EW4mJECsLIqIq2MmQDKBgbG2KCVAk0wBtR2KI0Apz/dYyFEkQKPg7QhMNSVAuPbf+G8uI0AeRg5JSH4hQKxqqYoyTSVAK2SlmFt8IkB4WG9rd7smQKrjXoElySNAg1eYmicfIkAcTbIbpUYnQPd0pWNnPiNAQecvqSvnJUD6Qvh9VVUkQKfycxHD1iRA3YRVbJkCI0AUrdi85AgpQPiTA7lipiRAk+zEcjRGI0CCEfBHDyAkQCsPdeICmSJAIDYA1K8DIUBOW9NroG4iQA6u685PVSFAvvdZVg6dJkCYSkLvek4jQEjSAvRjmSNAQXdhF9NuJUCXvdONgF0kQGnWRNsp9SVAaGSXfvSpJEARhCq+pNcmQFXRNETVVSFAnszv1r1OJEDIhT9G3mYkQIF30Ps05SZAXQ5tjt+qJUDF5k/J9iogQPdHc1ymqCFAjs+kfe0oKkAznlNndz4kQB7k2G8AniZA3p3krtMwJ0BN0akdnicjQCqcHtvwliVAtYLzYCGAJkBJqwekInIiQP0FaPwYLyNAuNVcNWfNIkAUNw48LT0nQC9jvzRcRiJAcCdQvIPpJUBYmtz4vAAjQPuBZY/5iSRAAnly4KrHIEB/piliX4klQBWvjJpHVyVA978Lf7IIJUD0vqpr3NMbQM3yZnbmaCNAJZWyDz2aI0BENKF0tywkQLy+3OuNQCJAgD/d2RzNJUDMeRzyEWsiQCgjpHfyICNAas1bE+ZVHUDDszfG7XMlQA8kCvvX0R9A1yI0J7fFI0BBTrNaYEkiQPkFdQXsdSVAVNUytwuBKEDyejj/OWslQG4wjz10wSRA+TEHbarLIkD6fGDO0IIiQEE/pvnFNSZA7Gvy43AbIUB/WZktg2cgQMkXw9IzxyJA49b2y5JcJEBq0X4BtOYjQLsqd6mT6iNAW03EZyI7IUAOdE/eF24mQIEbOSInHyVA9fb+AECQIkAqzoqTyBQkQMMRMeMEbyJA4Ycn3WweIkAkBP7U6NUlQDXOi6uwuiRAdkpcp/CzI0AYZanAbNElQHoEPeUWAiZAyY/JtChBJkAwBUMFz88gQPXCXS49HyVApNQEbzykI0AUsoqSs/ElQDg7W1gmviFAKQzA+YKpIUB/NktE4zEkQFO2CBwvGSJAqaAC9fZ/JUC8YyIu/kIkQK+wxL1F0SRA2S/JXqjhJUByMiHhV6kjQLZkd7Fr3BpAAe/uEZJHJUCk2t+WIOsjQCmhwNz+cSRAYY5ZpIsdJUAOS9N2jwkdQKFskd/FtSNAAgjRPYhjIkBQa+/1UYIhQJS4Q4yGTiFAu+M1wKydIkD4PtPmFRwnQCxMMrCYUSRAxcollQfRJkDuuyIevmIiQPojIqt80CZANDGSa32MIkBCp9/eFb0kQHH3Z1QxwSRAoM4DX/BWJEDqHj4d8DImQMbr0rsuJiFAzOZJINbXJEAC1UuSgHgmQPj83FD9TCBA+oE+47MYJEA/uRq7gfolQIVyMzCROyFAyie6ZMc9IEBQwjXLOK4lQKFmmZIIxiJAHAJZzuKuJEAK2EMqNwEkQOmrLCTLGSRADLs0RWupIUBEy5jvwMgjQBroa4V/oSJAczuXqSSoIkACx32QZcojQKsPKNJlYiVAIVUbGgHGI0CQTLZDyuIlQC2cMX0VOiVAPXrOMUDuIkBfxAaRqcIhQDjCwJifpCNAf8/3iveIJEDqxk1+3s0iQF11CZRq8CFAH3yTtlhGIUAWdlUG9jkkQIiT5M+A1CVA0vxSOqCQIUD9TdU2H+YiQDD1pOwxtiVATfHfZlS8JkDxMj1CxEwmQDl1hv4LiCZA7m2oPAOHIkBxiNm+mE0jQKhmUGsMTSNAPfjwYPuaI0CYMX3cuqEgQKKIJCIpHiVAOAEbbZbYJkDv+GPo5GQjQNrB3cLrtiRAJVvXU9pQJkDNRWTA+owmQPUE22txkiBAqR433QzDJkCh4jhuFI4jQImmytzYgCVA0RwUwEVwJECMa4D02xsmQM9zvNEqcyZAQTVkrCy6IUBKi/sW/UwiQBhYDNSYECNAu2JH9M53IEDm7Wy2OkEjQIfHlG0F0CRAjjOh0fofI0BE2LwZ/UskQJ7k3gA70yJAeXEwEUxdJEC4WG6ghTIpQIHCmWAnhSBAYvIFrvxfI0DQCKPzCK0iQEycYENtCB9A10Y+IU6oIkDdF8PInJMiQD7f9QP5oCJAG/9mTtyDJ0BMk5NYL5YkQHM7cy9n0yRA45BYROQqJkC3YjxPmN8hQCiVVSHbmyRAppHoEag5IkDKCAtobZMjQO4inzGNMyZAL2myuWR3JEABt/Du1jEjQHIjaPvpdyNAx1/guP4NKEA4WSS3VKAnQNu9mRAmdyZAxBcZ5QiiJUBgDmf14pMkQM2FvaUpayRAwbFK4FNMJUAURFDXtAAhQLv7nBYtbyJAUvVeL47MHkAMXHO48aAiQAMUNOZnRyZAWL/v1rbvI0BwMHHPwdYhQKK/7OjMDCNATXD9qto+JUDtHa59cD4kQKwyyVrMaCJADnGt9lAXI0DZH4KQsTwkQKZ01ZfUbiNAQrKAEdO0IkDXENVbdYAjQOJB5qggCCVAS5Kr2MUJJUA9+6X7fU4jQCOG40IASCVAZyd5nGizJEC221+1y6kkQLvWoAGB4SZALsKAS5alI0CLcMHoxuwlQNNZ6iqzlSJAlZxZxl8pJECaMh1JsQ8nQCcEiMz89iRA0SdY4hb3I0BtbbYlvlkgQPAKRk81iSNAHOl/1b7AJkDCdhGTCuAmQDc3dd8WMSBA7dVX9JcWIEDyyNnt37MlQNZ99KLDCCZAimmnEzqjI0AIPN0mUO4gQP9Qweo5VyZANfc+Fw00J0CbO8yxeYchQPK+8rnZ7yBAgXa72/DAI0DDg0GrZCMlQNzJMRxwoSNALa1fjxq9JUAm0e/tzFojQBU/+HctYSRAjYgxPm98JUCahivTskMjQGWgza8hjyRAUB9biuEaJ0CxmhANkmQjQK0WANSe9CRAPKqfiFdzJUC2IV7c8mAiQKrVmWj/riVAZr1xPBJrJUBw6fctvpkmQK3KovxBRidAOY8S3u35JEAJWFnTcHAjQLZmCoRfLydAhSVwYZBYI0BD0uMY7P0hQKAilVpg4iBARz1YCrAeIkBSVaLa2jUbQNME7MPbUCRAF5aXiSaPIECaaWFndg4nQB3S3JrjAiRAhhZxmzjtIUBTFbIlFi8kQKS9odrBYCNABJFtRYtNJECXf7VA8QMlQE5frVfGACJAaxTYrspMI0ArVHhE6EMlQFCF+iNtGCVAMmHW8T8OIUAFIFjs3vUkQP7z/SaOhyVAEBowBfHwJEAKpdbmCngkQIatcYw0iSBAnQKZYwuyI0DuOxI/ewYkQPqtvZVx6CVANMHTJdwLKEDhCl5XGQsjQChhF6bAFSVAhoRCtFSLI0BbK+ghk/kgQBw6gEWKrCNAsYEa5u8jJkBsOqgUpPgkQPDL+qwBSyVA6zSBymV/JUDLDMVsQPEhQFEg0JG2piVATd+pZ1keIkBcQ7or3TojQF3YvmIsxCJARUD9Jg4zKUAOUm6PoPYjQI5x8WGfciRA8IsAJTt6KEAaXJovr/giQN1mxAQ2OiRAnePcbbVIIUBuJjBNtickQFhLowMBFyJAPc4TMNnmI0BHI/gs1KEkQMOEiJHHpSNAApHTM+kEJ0CjVk0aFM0hQJrheY91+SJAhPCSRahDIkAVuwPx6V0jQCvzGAAWiSBANC3YzV0JI0C6I57P2Z8iQKRkw0KMgyJAdMmNfbxGJEBmiNvWqT4mQOUMQpuIAyNA4nLRZAVvJUDYFZfkUXQkQGQtKjBtGCJAXRSlGNlXIUBiz49ANh0gQEZGKDbvviJAIgVN9O5PJUC8p5BSGtIgQFrOxXDLSSVAsFV0ZQfKJUBaZczd3kknQA6YXh5obSZAWxng231VI0DYZDg2w8ElQGgguEpQCSZAoPN2Cgf9IUCILUv9nzYjQExugnPxMiZAaI4XpwC+IECREEpPGuEkQO0ud3s73iVAaG4MxkrYIkAh7NeiENghQGlAL8oMbyJAI7z609RvI0BgkFr/CFwdQEgz9+T4kSVAN4oSYF5yIkAdHOcX0AQmQAWPG5xbuCNAJIekNybaJEBpwQmtzH0mQADR6TJlHyFAJMYvYUQCIkAJHGqXECQjQBwnyqX//SFAtbopFvtZIkD/5+XzwAcnQONnjlHSQSFA8pNGPc62JUDI6x2UdXUnQPu0HPpDryNADPOrN6fzJECkgqz3SfwkQNfZfrlNHSRAzD5D7GITI0DeqbiHOPYjQOmALnV5pSRAqJKcNtEPJ0Bze2SBJ1kmQEmYTdHEDSRAqjv3dtQaJUBzwRi8Qx8jQEwzWToXQyRAleCOJmqcI0B3gSQcYg8nQMSTkQBqviBAeFN8Vz3YIUDM3NqOQm8hQGWvYLP+UCZA3aG965M6JUCgbRR22UUiQBqBLyOv+SNANViPaFNkI0D/CoVmwCUhQD6al3DwGidAhiae+iM4IkCkWRIREpUkQMptU6e7DyVATDnFMsI8JECeEmkIMRAhQIJltXwVMiRAZBpQdVMWIkCDxlRti+MnQKjXNiToeCJAiuyHBAq2JkApKfD/ATMlQGQQ2v4UdiZA2ow3XX+DJEBWexK1IaghQPlWihhnNyhA+kFQNy3CJkC9Ttbqu90jQOf8kISM6iFAjq65RnCSJEC7p2cNd2gkQJ4MwcPleh1AhfIpzl4FIkC/cmaq51MkQKQTmF2jRiZAAGax3XEgJkCZx4OJwDglQBw0F+PKpCFAuSHOgeFsJUDztpvtMDQkQHBdczvb5iRADkrWMtxnJkC3uEHkM5smQAzMhFp7ZyVAF0TMyFDcIkCIeUpKITQpQHc+IaowKCVADdjeMmJjH0BWmAxBUIUlQMbWNfXp1yVADTwfuAp0JEDJX1HkMlokQE/KGAvxECNAt2ETX+2cIkAoCylul+wjQIW/swegrSdAYgMP516aJ0Dd8LWDwz4hQNjh8g6VRyNAMZa/n/ZIJUAH1QoS/psiQE4r2fVpRCJANkxWb+kXJECQo9DpncEmQLFmWLtBbiZAyzzdmYg8J0Ct2iu77eckQGZymJQiDyRAYH1vRhOBJUCqFw/jnAYmQF2KZhOe6SRAdb8cmQOSIkAf0eaRmpEnQFNhYQAEDSJA0Q+mkfSxJUDWbJs67vAkQJG+r0a4xCRATeYC/IU5JEBUQOdQpFIjQCqqdsm1QyJAoICOALIiJUA8m0b9diclQD2wxnp88ydAGObR5xhbKECu2iBfcjAnQE4Wv06pqCFARSgMJW58JED9dDWQQEgkQFnJbNK3EyVAJwuwZ3SlI0BXHFshzN0iQFfQSYNYSShAKhPtieaoJUBEn6l4O8UkQOojFvffQSVAwGGMYa/zIUCqJUvsywMiQNPINotCEiRAObphNfNBJEBnAuCpgQQmQLisWpyVwSZA1p3nqVDSIUA5xCJe1EQlQGF/Eys+tiZAXG+INNZCIkDNqhvmN/oiQJYMpuXT5SVAzhW7VMFiIUCXvbqBwMoiQFMFqiO31yVA/GUZUXhbJkDdeR0YBn4mQBcDJJ19hiVADMPZZRWEJ0BFVHfzXdolQMY/SNzSgB9Au4tITJ2SIkDRYp94+pojQBpDq3pGZCJADTzmSn8gJEC5Nm9V2zgnQMulJGJscydAA+mGtYqWI0By/fbFIFskQCyFnTYdth1AzNxJaCDnIUAPBOG3SjolQKIcU6xdgR5AUPeHsj/gIEBS+AHndcIjQEVZy1dSQyRAbn0Zn5BdIUCMw5Rz3XQkQPUAcBXGbSZAHnRjAjrxIUAjTt0lr8AlQKjOB5s0siJAL5p90nkxJECElcvSq1ojQER09ARLUydApQ8llyQTIUBorunxKlcgQBIT88t2LSRAT/TVEYWZJUCyd3bPUjsfQPS4/z4MNSNA4QyotD8qIUASNrId1FckQIXL8E/hXiZAEFCgSdOhKUAjBITz0IMgQNSOIsdZiCFAJe+j+V5sIUCSdERC6egkQJsxo4nLDSJA6QDko8FIJ0AfkAjJu6EiQEzpUuAdPiRAWhx8QyzEIkCEWvHMTm0kQN65FD+77CVAqCfQTtWHI0B4YUB9Rp0gQK74BvzTOCVAI2nYHkC8JUBG8fIQuDYjQFA+Atxq+iNAJEgLT1F1JEDvVWEDyqokQH6dAmwbXCFAsrfZg0qCIkDXYV9OooQhQLIIb5DKXCFA9BZ3u4ZtJUAHPAUsMBgkQFAyjxd3JSNAsORfik/JJEBRs2G91f8gQD5emDzHICdAFzVg++0OI0BzJ01sVSgkQMobpwcDtSNAf53/7cylIkBndo5cRyshQCpLxFLEziVAAVsuEM1sI0BWdA8PnXAhQDJJ4L6eGCJAzLOGSOl1JkCrq6zkJF0kQJCLLXHIeyJAyobtJaePKEA1O09PlgYlQDbFeqqxMyJA0Tpt48rkI0AN6ordQXQjQEJ1Ccz3dyZAepeQ6Ak4IUAg+wF3v6kiQEWGi5IwuSNA7UjUklc/JUBMP2SZ8CQjQEvtGzwLPyRApoMiT3yDIEB08B8UrMEjQEnhHzzLfiBA9imzDn64IUBVM2lIT+IiQErQ/h2PniFA/zLIzkk/I0B+SankmrIkQMjdR446RSJABX419s5IIUD1so1qd3sjQODpc5bVvSNA4SgHk3v2IkDgL2PGJZUgQMVR5L0A4CJAXi7eZuUtI0DkOOxoy+0hQKWwrP1ixSNALfpQqrOcJUCAjO/8QkgmQAwpSkEaoCJAkSk0WZ7DIkDZr/liJw0iQLZ9GGP90yRAQVqdvSh4JUDK++JKs6MiQALDeDwqdihAME/JJgJrI0AIhj49FQ0dQJM9x9qysyNAP8yUq/wbJECBuTFZ9rIhQDgR3O1wLCFAEbotnY3IJUCYbuKJkfEkQOQU28gHbyJACWpFBIv5JEDIrHz2EKknQCRjSlmsWiZA9rSX9LU8I0ANSbZ6nVAjQPM6QfnC9yVAiHDQ4Eu8IEBNH4cpmQElQOAHO8doRSFAKmdzOHh7IUA8e7m8qkQjQACaVe8FfSRANcp72E+kJkCZRLPasAckQGw1ev3/EyJA2kOc9TwrIUCkkXp5z94lQFN7t2VqTCNAda4gnCAOJEAwQh/qWkMiQDwzlEgJeiNA1FZTnjJjI0B6BDNTmEUkQPsDLRj71iNAljWz+JWUJEDxlbPbc8wlQNoTY47gUCFA+7qAWwcqIkD2Ef8qMj8kQEJ9oHWaKCZA6yGSUNSBIUBllV+FqHwjQDRejmsKYh1AXDO9IvmYI0Cxr0RnGYckQNHbNv4WPiJA5kd9aBfjIUD2kjTYnt4iQFOBZ2TE8yVAoLnIlRoxI0Cy7n5eqqkkQPTEGDYOnSJAmfWUclQ8IkD2bwGSVXcmQGx+yydl7iNAPMLBdjFWJ0BEfB0urH0kQM50M2E8mCJAIuv2fPjPIUCT4i0atboiQIJDg2xJEilAESQTemMXI0Du/0OfFXggQKxhF8i/hyNAftQZWntEIkDibPJ0nZ8iQOwgG9h49SRArFgjDopwKUBDtLGnZe4jQPYgbitFiSNA5RWyGUW9JkCms0BWFMAlQCT2mLuP0SZAVkdB9uoeJUDtY4dSGgckQIRxlgR/6yNAn+/CtGiQI0BrN0zj2ksjQHcPzDSbiCFAkMk5SK/eJkBMgq/5Q3YiQPXJHzQ4XyFAMv1hDlJ2IkCU92NAqQ0hQH+LwcQ5gCNAis+0dmybIkBzEzzYvNgiQED8GB+gXyRAlElzSIj/JEDrm5dc8qcjQJ5nKre8eihArrcr1G8vIUC/u6Knx+4kQPf/MvORCSNA+nnp+xHjIkDZ8diKjAIlQCCp4JsqdiZAtgXvGQBzIUARz+8sRfQiQNEPeBnwCiZAGaRSAGBJJEDid6uqnp4kQGLwQUcdCidAZxv8amrRHkBU9mE148whQK6UVuRVcSVAgjBmCeZjJUBax039AN8mQAgEX/NWviRAPBsDaf/xIEC8YVcU1K0nQBcTaQGm+SJAdXH5tAY1IkCPOuiTjo4iQOXY5cznPiVAj7YXwsJRIUDRSQ0t8FojQAcQo2zB4iNA7Hf9107gI0CU7c2Nm1IjQIYe+O3k/ylA2GpA0OX3IkCOVnAcnVQmQAbP9JgEuiRACwovQdlBKEAZzQ1G/GYjQFtB4SFlCCNABVgpByEBIUA9YScBLooiQLHa3EwplyRAD2CiVovPIUA=\",\"dtype\":\"float64\",\"shape\":[1000]}},\"selected\":{\"id\":\"1358\"},\"selection_policy\":{\"id\":\"1357\"}},\"id\":\"1308\",\"type\":\"ColumnDataSource\"},{\"attributes\":{\"source\":{\"id\":\"1323\"}},\"id\":\"1327\",\"type\":\"CDSView\"},{\"attributes\":{},\"id\":\"1295\",\"type\":\"WheelZoomTool\"},{\"attributes\":{},\"id\":\"1282\",\"type\":\"LinearScale\"},{\"attributes\":{},\"id\":\"1287\",\"type\":\"BasicTicker\"},{\"attributes\":{\"fill_color\":{\"value\":\"#1f77b3\"},\"line_color\":{\"value\":\"#1f77b3\"},\"x\":{\"field\":\"x\"},\"y\":{\"field\":\"__ECDF\"}},\"id\":\"1310\",\"type\":\"Circle\"},{\"attributes\":{\"fill_alpha\":{\"value\":0.1},\"fill_color\":{\"value\":\"#1f77b3\"},\"line_alpha\":{\"value\":0.1},\"line_color\":{\"value\":\"#1f77b3\"},\"x\":{\"field\":\"x\"},\"y\":{\"field\":\"__ECDF\"}},\"id\":\"1311\",\"type\":\"Circle\"},{\"attributes\":{\"axis\":{\"id\":\"1286\"},\"ticker\":null},\"id\":\"1289\",\"type\":\"Grid\"},{\"attributes\":{\"axis_label\":\"x\",\"formatter\":{\"id\":\"1318\"},\"ticker\":{\"id\":\"1287\"}},\"id\":\"1286\",\"type\":\"LinearAxis\"},{\"attributes\":{},\"id\":\"1298\",\"type\":\"ResetTool\"},{\"attributes\":{\"source\":{\"id\":\"1308\"}},\"id\":\"1313\",\"type\":\"CDSView\"},{\"attributes\":{},\"id\":\"1294\",\"type\":\"PanTool\"},{\"attributes\":{\"text\":\"\"},\"id\":\"1315\",\"type\":\"Title\"},{\"attributes\":{\"data_source\":{\"id\":\"1323\"},\"glyph\":{\"id\":\"1324\"},\"hover_glyph\":null,\"muted_glyph\":null,\"nonselection_glyph\":{\"id\":\"1325\"},\"selection_glyph\":null,\"view\":{\"id\":\"1327\"}},\"id\":\"1326\",\"type\":\"GlyphRenderer\"},{\"attributes\":{\"active_drag\":\"auto\",\"active_inspect\":\"auto\",\"active_multi\":null,\"active_scroll\":\"auto\",\"active_tap\":\"auto\",\"tools\":[{\"id\":\"1294\"},{\"id\":\"1295\"},{\"id\":\"1296\"},{\"id\":\"1297\"},{\"id\":\"1298\"},{\"id\":\"1299\"}]},\"id\":\"1301\",\"type\":\"Toolbar\"},{\"attributes\":{},\"id\":\"1357\",\"type\":\"UnionRenderers\"},{\"attributes\":{\"axis_label\":\"ECDF\",\"formatter\":{\"id\":\"1316\"},\"ticker\":{\"id\":\"1291\"}},\"id\":\"1290\",\"type\":\"LinearAxis\"},{\"attributes\":{\"overlay\":{\"id\":\"1300\"}},\"id\":\"1296\",\"type\":\"BoxZoomTool\"},{\"attributes\":{\"line_alpha\":0.1,\"line_color\":\"orange\",\"line_width\":2,\"x\":{\"field\":\"x\"},\"y\":{\"field\":\"y\"}},\"id\":\"1325\",\"type\":\"Line\"},{\"attributes\":{},\"id\":\"1297\",\"type\":\"SaveTool\"},{\"attributes\":{\"line_color\":\"orange\",\"line_width\":2,\"x\":{\"field\":\"x\"},\"y\":{\"field\":\"y\"}},\"id\":\"1324\",\"type\":\"Line\"},{\"attributes\":{\"items\":[{\"id\":\"1322\"}],\"visible\":false},\"id\":\"1321\",\"type\":\"Legend\"},{\"attributes\":{},\"id\":\"1316\",\"type\":\"BasicTickFormatter\"},{\"attributes\":{},\"id\":\"1299\",\"type\":\"HelpTool\"}],\"root_ids\":[\"1277\"]},\"title\":\"Bokeh Application\",\"version\":\"2.0.2\"}};\n",
       "  var render_items = [{\"docid\":\"a71b48ec-68db-435c-9139-8b12cc759a65\",\"root_ids\":[\"1277\"],\"roots\":{\"1277\":\"090f6b4a-7e8c-4370-9bab-dc8614cd3ded\"}}];\n",
       "  root.Bokeh.embed.embed_items_notebook(docs_json, render_items);\n",
       "\n",
       "  }\n",
       "  if (root.Bokeh !== undefined) {\n",
       "    embed_document(root);\n",
       "  } else {\n",
       "    var attempts = 0;\n",
       "    var timer = setInterval(function(root) {\n",
       "      if (root.Bokeh !== undefined) {\n",
       "        clearInterval(timer);\n",
       "        embed_document(root);\n",
       "      } else {\n",
       "        attempts++;\n",
       "        if (attempts > 100) {\n",
       "          clearInterval(timer);\n",
       "          console.log(\"Bokeh: ERROR: Unable to run BokehJS code because BokehJS library is missing\");\n",
       "        }\n",
       "      }\n",
       "    }, 10, root)\n",
       "  }\n",
       "})(window);"
      ],
      "application/vnd.bokehjs_exec.v0+json": ""
     },
     "metadata": {
      "application/vnd.bokehjs_exec.v0+json": {
       "id": "1277"
      }
     },
     "output_type": "display_data"
    }
   ],
   "source": [
    "# Compute theoretical CDF\n",
    "x_theor = np.linspace(6, 14, 400)\n",
    "y_theor = scipy.stats.norm.cdf(x_theor, mu, sigma)\n",
    "\n",
    "# Plot the ECDF of randomly generated numbers\n",
    "p = bokeh_catplot.ecdf(x[:1000])\n",
    "\n",
    "p.line(\n",
    "    x=x_theor,\n",
    "    y=y_theor,\n",
    "    line_width=2,\n",
    "    line_color='orange',\n",
    ")\n",
    "\n",
    "bokeh.io.show(p)"
   ]
  },
  {
   "cell_type": "markdown",
   "metadata": {},
   "source": [
    "Yup, right on!"
   ]
  },
  {
   "cell_type": "markdown",
   "metadata": {},
   "source": [
    "## Selections from discrete distributions\n",
    "\n",
    "The random numbers we have generated so far from from continuous probability distributions. We can also draw random numbers from discrete distributions. We already showed how we can do this for \"coin flips,\" but we can do it for other distributions as well. Say we wanted to draw from a Binomial distribution. We can use `rg.binomial()`."
   ]
  },
  {
   "cell_type": "code",
   "execution_count": 12,
   "metadata": {},
   "outputs": [
    {
     "data": {
      "text/plain": [
       "7"
      ]
     },
     "execution_count": 12,
     "metadata": {},
     "output_type": "execute_result"
    }
   ],
   "source": [
    "# Draw how many coin flips land heads in 10 files\n",
    "rg.binomial(10, 0.5)"
   ]
  },
  {
   "cell_type": "markdown",
   "metadata": {},
   "source": [
    "There are other discrete distributions we can draw from, such as Binomial, Geometric, Poisson, etc., and [the documentation](http://docs.scipy.org/doc/numpy/reference/routines.random.html) describes how to use them."
   ]
  },
  {
   "cell_type": "markdown",
   "metadata": {},
   "source": [
    "## Choosing elements from an array\n",
    "\n",
    "It is often useful to randomly choose elements from an existing array. The `rg.choice()` function does this. You equivalently could do this using `rg.integers()`, where the integers represent indices in the array, *except* `rg.choice()` has a great keyword argument, `replace`, which allows random draws with or without replacement. For example, say you had 100 samples that you wanted to send to a facility for analysis, but you can only afford to send 20. If we used `rg.integers()`, we might have a problem."
   ]
  },
  {
   "cell_type": "code",
   "execution_count": 13,
   "metadata": {},
   "outputs": [
    {
     "data": {
      "text/plain": [
       "array([ 1,  2,  2,  6,  7,  9, 10, 11, 11, 13, 15, 17, 21, 22, 22, 23, 31,\n",
       "       33, 37, 38])"
      ]
     },
     "execution_count": 13,
     "metadata": {},
     "output_type": "execute_result"
    }
   ],
   "source": [
    "rg = np.random.default_rng(seed=3252)\n",
    "np.sort(rg.integers(0, 51, size=20))"
   ]
  },
  {
   "cell_type": "markdown",
   "metadata": {},
   "source": [
    "Samples 2, 11, and 22 we each selected twice!"
   ]
  },
  {
   "cell_type": "code",
   "execution_count": 14,
   "metadata": {},
   "outputs": [
    {
     "data": {
      "text/plain": [
       "array([ 5, 37, 43, 11, 20, 10, 29, 22, 39, 23, 17,  1, 12, 21, 42, 27, 28,\n",
       "       36, 25, 31])"
      ]
     },
     "execution_count": 14,
     "metadata": {},
     "output_type": "execute_result"
    }
   ],
   "source": [
    "rg.choice(np.arange(51), size=20, replace=False)"
   ]
  },
  {
   "cell_type": "markdown",
   "metadata": {},
   "source": [
    "Now, because we chose `replace=False`, we do not get any repeats."
   ]
  },
  {
   "cell_type": "markdown",
   "metadata": {},
   "source": [
    "### Generating random sequences\n",
    "\n",
    "Because it works with selecting characters as well as numbers, we can use the `rg.choice()` function to generate random DNA sequences."
   ]
  },
  {
   "cell_type": "code",
   "execution_count": 15,
   "metadata": {},
   "outputs": [
    {
     "data": {
      "text/plain": [
       "'CAGGAGTCGCTGGGATAACAATTGTGACCTATGTAACTCAGCGAAGAGACTCGGGCCCGACCCACTAAAG'"
      ]
     },
     "execution_count": 15,
     "metadata": {},
     "output_type": "execute_result"
    }
   ],
   "source": [
    "''.join(rg.choice(list('ATGC'), replace=True, size=70))"
   ]
  },
  {
   "cell_type": "markdown",
   "metadata": {},
   "source": [
    "## Shuffling an array\n",
    "\n",
    "Similarly, the `np.random.permutation()` function is useful. It takes the entries in an array and shuffles them! Let's shuffle a deck of cards."
   ]
  },
  {
   "cell_type": "code",
   "execution_count": 16,
   "metadata": {},
   "outputs": [
    {
     "data": {
      "text/plain": [
       "array([21, 32, 52, 28, 29, 46,  2,  9, 16, 41, 43, 33, 36, 42, 19, 44, 25,\n",
       "       50,  0, 27, 35, 24, 26, 30, 10, 11,  5, 14, 23, 17, 40, 12, 13, 49,\n",
       "       22,  8, 47,  7, 48, 45, 31,  6, 34, 51,  1, 18, 20, 15, 39,  4, 38,\n",
       "        3, 37])"
      ]
     },
     "execution_count": 16,
     "metadata": {},
     "output_type": "execute_result"
    }
   ],
   "source": [
    "rg.permutation(np.arange(53))"
   ]
  },
  {
   "cell_type": "markdown",
   "metadata": {},
   "source": [
    "## When do we need RNG?\n",
    "\n",
    "Answer: VERY OFTEN!  We will see many examples in the next lessons and in the exercises.  \n",
    "\n",
    "In many ways, probability is the language of biology. Molecular processes have energetics that are comparable to the thermal energy, which means they are always influenced by random thermal forces. The processes of the central dogma, including DNA replication, are no exceptions. This gives rise to random mutations, which are central to understanding how evolution works. If we want to understand them, it is often useful to use random number generators to model the processes.\n",
    "\n",
    "RNG also comes up A LOT in data analysis, which we will see in the lessons on hacker stats."
   ]
  },
  {
   "cell_type": "markdown",
   "metadata": {},
   "source": [
    "## Computing environment"
   ]
  },
  {
   "cell_type": "code",
   "execution_count": 17,
   "metadata": {},
   "outputs": [
    {
     "name": "stdout",
     "output_type": "stream",
     "text": [
      "CPython 3.7.7\n",
      "IPython 7.13.0\n",
      "\n",
      "numpy 1.18.1\n",
      "scipy 1.4.1\n",
      "pandas 0.24.2\n",
      "bokeh 2.0.2\n",
      "bokeh_catplot 0.1.8\n",
      "jupyterlab 1.2.6\n"
     ]
    }
   ],
   "source": [
    "%load_ext watermark\n",
    "%watermark -v -p numpy,scipy,pandas,bokeh,bokeh_catplot,jupyterlab"
   ]
  }
 ],
 "metadata": {
  "anaconda-cloud": {},
  "kernelspec": {
   "display_name": "Python 3",
   "language": "python",
   "name": "python3"
  },
  "language_info": {
   "codemirror_mode": {
    "name": "ipython",
    "version": 3
   },
   "file_extension": ".py",
   "mimetype": "text/x-python",
   "name": "python",
   "nbconvert_exporter": "python",
   "pygments_lexer": "ipython3",
   "version": "3.7.7"
  }
 },
 "nbformat": 4,
 "nbformat_minor": 4
}
