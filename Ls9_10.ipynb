{
 "cells": [
  {
   "cell_type": "markdown",
   "id": "b68fb545-e7a8-4a50-ad98-cfef456cfebd",
   "metadata": {},
   "source": [
    "# Dictionaries"
   ]
  },
  {
   "cell_type": "code",
   "execution_count": 7,
   "id": "f43057a5-29d2-4c06-b611-4681b1152f84",
   "metadata": {},
   "outputs": [
    {
     "data": {
      "text/plain": [
       "{'a': 6, 'b': 7, 'c': 27.6}"
      ]
     },
     "execution_count": 7,
     "metadata": {},
     "output_type": "execute_result"
    }
   ],
   "source": [
    "my_dict = {'a': 6, 'b': 7, 'c': 27.6}\n",
    "\n",
    "# Can also create a dictionary:\n",
    "dict(a=6, b=7, c=27.6)"
   ]
  },
  {
   "cell_type": "code",
   "execution_count": 4,
   "id": "879062ab-8e86-41a9-bfb3-f04a781cdddb",
   "metadata": {},
   "outputs": [
    {
     "data": {
      "text/plain": [
       "{'a': 6, 'b': 7, 'c': 27.6}"
      ]
     },
     "execution_count": 4,
     "metadata": {},
     "output_type": "execute_result"
    }
   ],
   "source": [
    "my_dict\n",
    "# key - value, example: a - 6"
   ]
  },
  {
   "cell_type": "code",
   "execution_count": 6,
   "id": "bc9d178a-3fe6-4d2f-a23d-41cdee56b421",
   "metadata": {},
   "outputs": [
    {
     "data": {
      "text/plain": [
       "7"
      ]
     },
     "execution_count": 6,
     "metadata": {},
     "output_type": "execute_result"
    }
   ],
   "source": [
    "my_dict['b']\n",
    "# access key value"
   ]
  },
  {
   "cell_type": "markdown",
   "id": "877fa7f5-d0b4-4cac-9a05-3a850752346b",
   "metadata": {},
   "source": [
    "Any mutable objects like lists cannot be used as keys."
   ]
  },
  {
   "cell_type": "code",
   "execution_count": 9,
   "id": "34e3d93c-4733-4fea-9fe8-ec02a0961b3f",
   "metadata": {},
   "outputs": [],
   "source": [
    "# Could have resolved Exercise 1.4 with it\n",
    "def complement_seq_reversed(seq, material='DNA'):\n",
    "    \"\"\"Returns the reversed, complementary strain for a DNA sequence.\"\"\"\n",
    "    dict = str.maketrans({\"A\": \"T\", \"C\": \"G\", \"T\": \"A\", \"G\": \"C\"})\n",
    "    complementarySeq = seq.translate(dict)\n",
    "    return complementarySeq[::-1]"
   ]
  },
  {
   "cell_type": "code",
   "execution_count": 10,
   "id": "1d8d97c4-6040-4d6b-9b72-021e9b638335",
   "metadata": {},
   "outputs": [],
   "source": [
    "aa_dict = {\n",
    "    \"A\": \"Ala\",\n",
    "    \"R\": \"Arg\",\n",
    "    \"N\": \"Asn\",\n",
    "    \"D\": \"Asp\",\n",
    "    \"C\": \"Cys\",\n",
    "    \"Q\": \"Gln\",\n",
    "    \"E\": \"Glu\",\n",
    "    \"G\": \"Gly\",\n",
    "    \"H\": \"His\",\n",
    "    \"I\": \"Ile\",\n",
    "    \"L\": \"Leu\",\n",
    "    \"K\": \"Lys\",\n",
    "    \"M\": \"Met\",\n",
    "    \"F\": \"Phe\",\n",
    "    \"P\": \"Pro\",\n",
    "    \"S\": \"Ser\",\n",
    "    \"T\": \"Thr\",\n",
    "    \"W\": \"Trp\",\n",
    "    \"Y\": \"Tyr\",\n",
    "    \"V\": \"Val\",\n",
    "}\n",
    "# could have taken less line but here, very legible "
   ]
  },
  {
   "cell_type": "code",
   "execution_count": 11,
   "id": "5e294641-7623-4f59-8c16-bb41d685a1f3",
   "metadata": {},
   "outputs": [
    {
     "data": {
      "text/plain": [
       "'Leu'"
      ]
     },
     "execution_count": 11,
     "metadata": {},
     "output_type": "execute_result"
    }
   ],
   "source": [
    "aa_dict['L']"
   ]
  },
  {
   "cell_type": "code",
   "execution_count": 13,
   "id": "d19eb78b-49d9-4409-8d1e-604533b8161c",
   "metadata": {},
   "outputs": [
    {
     "name": "stdout",
     "output_type": "stream",
     "text": [
      "{'TTT': 'F', 'TTC': 'F', 'TTA': 'L', 'TTG': 'L', 'TCT': 'S', 'TCC': 'S', 'TCA': 'S', 'TCG': 'S', 'TAT': 'Y', 'TAC': 'Y', 'TAA': '*', 'TAG': '*', 'TGT': 'C', 'TGC': 'C', 'TGA': '*', 'TGG': 'W', 'CTT': 'L', 'CTC': 'L', 'CTA': 'L', 'CTG': 'L', 'CCT': 'P', 'CCC': 'P', 'CCA': 'P', 'CCG': 'P', 'CAT': 'H', 'CAC': 'H', 'CAA': 'Q', 'CAG': 'Q', 'CGT': 'R', 'CGC': 'R', 'CGA': 'R', 'CGG': 'R', 'ATT': 'I', 'ATC': 'I', 'ATA': 'I', 'ATG': 'M', 'ACT': 'T', 'ACC': 'T', 'ACA': 'T', 'ACG': 'T', 'AAT': 'N', 'AAC': 'N', 'AAA': 'K', 'AAG': 'K', 'AGT': 'S', 'AGC': 'S', 'AGA': 'R', 'AGG': 'R', 'GTT': 'V', 'GTC': 'V', 'GTA': 'V', 'GTG': 'V', 'GCT': 'A', 'GCC': 'A', 'GCA': 'A', 'GCG': 'A', 'GAT': 'D', 'GAC': 'D', 'GAA': 'E', 'GAG': 'E', 'GGT': 'G', 'GGC': 'G', 'GGA': 'G', 'GGG': 'G'}\n"
     ]
    }
   ],
   "source": [
    "# Codes https://en.wikipedia.org/wiki/DNA_codon_table\n",
    "# The set of DNA bases\n",
    "bases = ['T', 'C', 'A', 'G']\n",
    "\n",
    "# Build list of codons\n",
    "codon_list = []\n",
    "for first_base in bases:\n",
    "    for second_base in bases:\n",
    "        for third_base in bases:\n",
    "            codon_list += [first_base + second_base + third_base]\n",
    "\n",
    "# The amino acids that are coded for (* = STOP codon)\n",
    "amino_acids = 'FFLLSSSSYY**CC*WLLLLPPPPHHQQRRRRIIIMTTTTNNKKSSRRVVVVAAAADDEEGGGG'\n",
    "\n",
    "# Build dictionary from tuple of 2-tuples (technically an iterator, but it works)\n",
    "codons = dict(zip(codon_list, amino_acids))\n",
    "\n",
    "# Show that we did it\n",
    "print(codons)"
   ]
  },
  {
   "cell_type": "code",
   "execution_count": 14,
   "id": "ba915b50-fcc5-4cc1-99c7-9bd62684ac99",
   "metadata": {},
   "outputs": [
    {
     "data": {
      "text/plain": [
       "{'a': 6, 'b': 7, 'c': 27.6}"
      ]
     },
     "execution_count": 14,
     "metadata": {},
     "output_type": "execute_result"
    }
   ],
   "source": [
    "my_dict"
   ]
  },
  {
   "cell_type": "markdown",
   "id": "68346c88-e825-4d2b-9475-e0caa7f2a9d6",
   "metadata": {},
   "source": [
    "Dictionnaries are mutable"
   ]
  },
  {
   "cell_type": "code",
   "execution_count": 17,
   "id": "3fff6023-d73c-48b2-8a69-03402b06367b",
   "metadata": {},
   "outputs": [],
   "source": [
    "# Can add key/value\n",
    "my_dict['d'] = 'Bootcamp is so much fun!'"
   ]
  },
  {
   "cell_type": "code",
   "execution_count": 16,
   "id": "36ba456c-65cd-4cd3-a967-7e703ab66b97",
   "metadata": {},
   "outputs": [
    {
     "data": {
      "text/plain": [
       "{'a': 6, 'b': 7, 'c': 27.6, 'd': 'Bootcamp is so much fun!'}"
      ]
     },
     "execution_count": 16,
     "metadata": {},
     "output_type": "execute_result"
    }
   ],
   "source": [
    "my_dict"
   ]
  },
  {
   "cell_type": "code",
   "execution_count": 19,
   "id": "70dd34d9-cdf1-4d94-bbae-a2320f7423f9",
   "metadata": {},
   "outputs": [
    {
     "data": {
      "text/plain": [
       "{'a': 'I was not satisfied with entry a.',\n",
       " 'b': 7,\n",
       " 'c': 27.6,\n",
       " 'd': 'Bootcamp is so much fun!'}"
      ]
     },
     "execution_count": 19,
     "metadata": {},
     "output_type": "execute_result"
    }
   ],
   "source": [
    "# Can change a value\n",
    "my_dict['a'] = 'I was not satisfied with entry a.'\n",
    "my_dict"
   ]
  },
  {
   "cell_type": "code",
   "execution_count": 23,
   "id": "27f7f7f7-beae-4ae5-ade1-4d6e0191f151",
   "metadata": {},
   "outputs": [
    {
     "data": {
      "text/plain": [
       "False"
      ]
     },
     "execution_count": 23,
     "metadata": {},
     "output_type": "execute_result"
    }
   ],
   "source": [
    "# membership in a dictionary is based on a key\n",
    "7 in my_dict"
   ]
  },
  {
   "cell_type": "code",
   "execution_count": 21,
   "id": "c2b08c65-31f6-409a-847a-e22f6bd41086",
   "metadata": {},
   "outputs": [
    {
     "data": {
      "text/plain": [
       "True"
      ]
     },
     "execution_count": 21,
     "metadata": {},
     "output_type": "execute_result"
    }
   ],
   "source": [
    "'c' in my_dict"
   ]
  },
  {
   "cell_type": "code",
   "execution_count": 24,
   "id": "81b4fea1-b2a7-4776-8141-4cbfac5786b4",
   "metadata": {},
   "outputs": [
    {
     "data": {
      "text/plain": [
       "True"
      ]
     },
     "execution_count": 24,
     "metadata": {},
     "output_type": "execute_result"
    }
   ],
   "source": [
    "'e' not in my_dict"
   ]
  },
  {
   "cell_type": "code",
   "execution_count": 25,
   "id": "675d7519-bdbc-421f-85e7-88e935ba9eab",
   "metadata": {},
   "outputs": [
    {
     "data": {
      "text/plain": [
       "True"
      ]
     },
     "execution_count": 25,
     "metadata": {},
     "output_type": "execute_result"
    }
   ],
   "source": [
    "7 not in my_dict"
   ]
  },
  {
   "cell_type": "code",
   "execution_count": 27,
   "id": "7e01ad0d-f5bf-44ec-bbf8-2e9b30792054",
   "metadata": {},
   "outputs": [
    {
     "name": "stdout",
     "output_type": "stream",
     "text": [
      "a\n",
      "b\n",
      "c\n",
      "d\n"
     ]
    }
   ],
   "source": [
    "# Iterate over the keys\n",
    "for key in my_dict:\n",
    "    print(key)"
   ]
  },
  {
   "cell_type": "code",
   "execution_count": 28,
   "id": "b28664a8-522e-4238-891a-7b6adc1de186",
   "metadata": {},
   "outputs": [
    {
     "name": "stdout",
     "output_type": "stream",
     "text": [
      "a : I was not satisfied with entry a.\n",
      "b : 7\n",
      "c : 27.6\n",
      "d : Bootcamp is so much fun!\n"
     ]
    }
   ],
   "source": [
    "# Iterate over the keys and values\n",
    "for key, value in my_dict.items():\n",
    "    print(key, \":\", value)"
   ]
  },
  {
   "cell_type": "code",
   "execution_count": 30,
   "id": "66a6cab4-2bea-4726-b60a-5f8d211d59a7",
   "metadata": {},
   "outputs": [
    {
     "data": {
      "text/plain": [
       "{'a': 'I was not satisfied with entry a.',\n",
       " 'b': 7,\n",
       " 'c': 27.6,\n",
       " 'd': 'Bootcamp is so much fun!'}"
      ]
     },
     "execution_count": 30,
     "metadata": {},
     "output_type": "execute_result"
    }
   ],
   "source": [
    "for key, value in my_dict.items():\n",
    "    value = 3252\n",
    "my_dict\n",
    "# Nothing changes like lists"
   ]
  },
  {
   "cell_type": "code",
   "execution_count": 32,
   "id": "8f8d1d8b-f00b-478a-a0aa-fe9402bb9d43",
   "metadata": {},
   "outputs": [
    {
     "data": {
      "text/plain": [
       "{'a': 3252, 'b': 3252, 'c': 3252, 'd': 3252}"
      ]
     },
     "execution_count": 32,
     "metadata": {},
     "output_type": "execute_result"
    }
   ],
   "source": [
    "for key, value in my_dict.items():\n",
    "    my_dict[key] = 3252\n",
    "my_dict\n",
    "# needs to specify the key to change it !"
   ]
  },
  {
   "cell_type": "code",
   "execution_count": 33,
   "id": "3b52da51-86bc-4ed7-9ef5-56aebfd222b3",
   "metadata": {},
   "outputs": [
    {
     "data": {
      "text/plain": [
       "['A',\n",
       " 'R',\n",
       " 'N',\n",
       " 'D',\n",
       " 'C',\n",
       " 'Q',\n",
       " 'E',\n",
       " 'G',\n",
       " 'H',\n",
       " 'I',\n",
       " 'L',\n",
       " 'K',\n",
       " 'M',\n",
       " 'F',\n",
       " 'P',\n",
       " 'S',\n",
       " 'T',\n",
       " 'W',\n",
       " 'Y',\n",
       " 'V']"
      ]
     },
     "execution_count": 33,
     "metadata": {},
     "output_type": "execute_result"
    }
   ],
   "source": [
    "list(aa_dict.keys())"
   ]
  },
  {
   "cell_type": "code",
   "execution_count": 34,
   "id": "b141b78f-fd5e-47ce-bfe3-b85ab15e7b89",
   "metadata": {},
   "outputs": [
    {
     "data": {
      "text/plain": [
       "['Ala',\n",
       " 'Arg',\n",
       " 'Asn',\n",
       " 'Asp',\n",
       " 'Cys',\n",
       " 'Gln',\n",
       " 'Glu',\n",
       " 'Gly',\n",
       " 'His',\n",
       " 'Ile',\n",
       " 'Leu',\n",
       " 'Lys',\n",
       " 'Met',\n",
       " 'Phe',\n",
       " 'Pro',\n",
       " 'Ser',\n",
       " 'Thr',\n",
       " 'Trp',\n",
       " 'Tyr',\n",
       " 'Val']"
      ]
     },
     "execution_count": 34,
     "metadata": {},
     "output_type": "execute_result"
    }
   ],
   "source": [
    "list(aa_dict.values())"
   ]
  },
  {
   "cell_type": "code",
   "execution_count": 35,
   "id": "6f8132ca-4f0e-48d1-8f09-b166c170d774",
   "metadata": {},
   "outputs": [
    {
     "data": {
      "text/plain": [
       "'Lys'"
      ]
     },
     "execution_count": 35,
     "metadata": {},
     "output_type": "execute_result"
    }
   ],
   "source": [
    "aa_dict.pop('K')\n",
    "# Shows values and removes it from dictionary"
   ]
  },
  {
   "cell_type": "code",
   "execution_count": 37,
   "id": "31601211-4015-490d-8f24-6ae59d870a15",
   "metadata": {},
   "outputs": [
    {
     "data": {
      "text/plain": [
       "'Leu'"
      ]
     },
     "execution_count": 37,
     "metadata": {},
     "output_type": "execute_result"
    }
   ],
   "source": [
    "aa_dict['L']"
   ]
  },
  {
   "cell_type": "code",
   "execution_count": 38,
   "id": "18e3f1ee-2302-45d1-be86-0b34cfd214ff",
   "metadata": {},
   "outputs": [
    {
     "ename": "KeyError",
     "evalue": "'K'",
     "output_type": "error",
     "traceback": [
      "\u001b[0;31m---------------------------------------------------------------------------\u001b[0m",
      "\u001b[0;31mKeyError\u001b[0m                                  Traceback (most recent call last)",
      "Input \u001b[0;32mIn [38]\u001b[0m, in \u001b[0;36m<cell line: 1>\u001b[0;34m()\u001b[0m\n\u001b[0;32m----> 1\u001b[0m \u001b[43maa_dict\u001b[49m\u001b[43m[\u001b[49m\u001b[38;5;124;43m'\u001b[39;49m\u001b[38;5;124;43mK\u001b[39;49m\u001b[38;5;124;43m'\u001b[39;49m\u001b[43m]\u001b[49m\n",
      "\u001b[0;31mKeyError\u001b[0m: 'K'"
     ]
    }
   ],
   "source": [
    "aa_dict['K']\n",
    "# Error does not exist"
   ]
  },
  {
   "cell_type": "code",
   "execution_count": 39,
   "id": "e9476503-8c40-4c0a-ae04-80652a1de174",
   "metadata": {},
   "outputs": [
    {
     "data": {
      "text/plain": [
       "'Leu'"
      ]
     },
     "execution_count": 39,
     "metadata": {},
     "output_type": "execute_result"
    }
   ],
   "source": [
    "aa_dict.get('L')"
   ]
  },
  {
   "cell_type": "code",
   "execution_count": 40,
   "id": "263636ff-ffcc-4870-9d0c-6b5d21eab926",
   "metadata": {},
   "outputs": [],
   "source": [
    "aa_dict.get('K') \n",
    "# No error"
   ]
  },
  {
   "cell_type": "code",
   "execution_count": 42,
   "id": "429d4a9e-e488-4bb8-b6e9-d1f9efc63029",
   "metadata": {},
   "outputs": [
    {
     "name": "stdout",
     "output_type": "stream",
     "text": [
      "None\n"
     ]
    }
   ],
   "source": [
    "print(aa_dict.get('K'))\n",
    "# indicate absent"
   ]
  },
  {
   "cell_type": "code",
   "execution_count": 47,
   "id": "70b31811-1abc-4f18-a4a1-282eaaba86d7",
   "metadata": {},
   "outputs": [
    {
     "data": {
      "text/plain": [
       "'NaAA'"
      ]
     },
     "execution_count": 47,
     "metadata": {},
     "output_type": "execute_result"
    }
   ],
   "source": [
    "aa_dict.get('K', 'NaAA') \n",
    "# Can specify output if absent"
   ]
  },
  {
   "cell_type": "code",
   "execution_count": 45,
   "id": "69bcb0a5-2285-404a-9828-a7d8cdf9b439",
   "metadata": {},
   "outputs": [
    {
     "ename": "KeyError",
     "evalue": "'K'",
     "output_type": "error",
     "traceback": [
      "\u001b[0;31m---------------------------------------------------------------------------\u001b[0m",
      "\u001b[0;31mKeyError\u001b[0m                                  Traceback (most recent call last)",
      "Input \u001b[0;32mIn [45]\u001b[0m, in \u001b[0;36m<cell line: 1>\u001b[0;34m()\u001b[0m\n\u001b[0;32m----> 1\u001b[0m \u001b[43maa_dict\u001b[49m\u001b[43m[\u001b[49m\u001b[38;5;124;43m'\u001b[39;49m\u001b[38;5;124;43mK\u001b[39;49m\u001b[38;5;124;43m'\u001b[39;49m\u001b[43m]\u001b[49m\n",
      "\u001b[0;31mKeyError\u001b[0m: 'K'"
     ]
    }
   ],
   "source": [
    "aa_dict['K']"
   ]
  },
  {
   "cell_type": "code",
   "execution_count": 48,
   "id": "5e10c7e6-b313-484c-ba02-5dc011c6edd2",
   "metadata": {},
   "outputs": [],
   "source": [
    "def concatenate_sequences(a, b, **kwargs):\n",
    "    \"\"\"Concatenate (combine) 2 or more sequences.\"\"\"\n",
    "    seq = a + b\n",
    "\n",
    "    for key in kwargs:\n",
    "        seq += kwargs[key]\n",
    "\n",
    "    return seq"
   ]
  },
  {
   "cell_type": "markdown",
   "id": "e092cdcf-a050-4669-9f6f-5bf3abe6f142",
   "metadata": {},
   "source": [
    "If function \\**kwargs means any keywords argument can be converted into a dictionary that would be passed into the function !"
   ]
  },
  {
   "cell_type": "code",
   "execution_count": 49,
   "id": "92699675-dd63-441b-a94e-d0ba3461d715",
   "metadata": {},
   "outputs": [
    {
     "data": {
      "text/plain": [
       "'AGATAGATAGATGGAGA'"
      ]
     },
     "execution_count": 49,
     "metadata": {},
     "output_type": "execute_result"
    }
   ],
   "source": [
    "concatenate_sequences(a='AGATAGATA', b='GATGGAGA')"
   ]
  },
  {
   "cell_type": "code",
   "execution_count": 50,
   "id": "ff30d49c-5a44-41f3-9d4e-495243b321ac",
   "metadata": {},
   "outputs": [
    {
     "data": {
      "text/plain": [
       "{'a': 'AGATAGATA', 'b': 'GATGGAGA'}"
      ]
     },
     "execution_count": 50,
     "metadata": {},
     "output_type": "execute_result"
    }
   ],
   "source": [
    "dict(a='AGATAGATA', b='GATGGAGA')"
   ]
  },
  {
   "cell_type": "code",
   "execution_count": 57,
   "id": "a3f52234-2636-44c5-8c6b-85c921c445f0",
   "metadata": {},
   "outputs": [],
   "source": [
    "def concat_sequences(say_hi=False, **kwargs):\n",
    "    \"\"\"Concatenate sequences.\"\"\"\n",
    "    if say_hi:\n",
    "        print(\"Hi.\")\n",
    "\n",
    "    seq = ''\n",
    "    for key, value in kwargs.items():\n",
    "        seq += value\n",
    "\n",
    "    return seq"
   ]
  },
  {
   "cell_type": "code",
   "execution_count": 58,
   "id": "6ffbf210-34d3-42dd-8c5b-fe9a19587a25",
   "metadata": {},
   "outputs": [
    {
     "name": "stdout",
     "output_type": "stream",
     "text": [
      "Hi.\n"
     ]
    },
    {
     "data": {
      "text/plain": [
       "'AGATAGATAGATGGAGA'"
      ]
     },
     "execution_count": 58,
     "metadata": {},
     "output_type": "execute_result"
    }
   ],
   "source": [
    "concat_sequences(say_hi=True, a='AGATAGATA', b='GATGGAGA')"
   ]
  },
  {
   "cell_type": "code",
   "execution_count": 59,
   "id": "8d42fa6f-3426-4830-84f7-c42da78149cd",
   "metadata": {},
   "outputs": [
    {
     "data": {
      "text/plain": [
       "{'a': 'AGATAGATA', 'b': 'GATGGAGA'}"
      ]
     },
     "execution_count": 59,
     "metadata": {},
     "output_type": "execute_result"
    }
   ],
   "source": [
    "seq_dict = dict(a='AGATAGATA', b='GATGGAGA')\n",
    "seq_dict"
   ]
  },
  {
   "cell_type": "code",
   "execution_count": 60,
   "id": "e937943d-24aa-44e6-9afb-e3c2b4f0f160",
   "metadata": {},
   "outputs": [
    {
     "data": {
      "text/plain": [
       "'AGATAGATAGATGGAGA'"
      ]
     },
     "execution_count": 60,
     "metadata": {},
     "output_type": "execute_result"
    }
   ],
   "source": [
    "concat_sequences(**seq_dict)"
   ]
  },
  {
   "cell_type": "code",
   "execution_count": 61,
   "id": "9304b49a-8b57-4754-a41c-c673c1c40a41",
   "metadata": {},
   "outputs": [
    {
     "name": "stdout",
     "output_type": "stream",
     "text": [
      "Hi.\n"
     ]
    },
    {
     "data": {
      "text/plain": [
       "'AGATAGATAGATGGAGA'"
      ]
     },
     "execution_count": 61,
     "metadata": {},
     "output_type": "execute_result"
    }
   ],
   "source": [
    "seq_dict = dict(a='AGATAGATA', b='GATGGAGA', say_hi=True)\n",
    "concat_sequences(**seq_dict)"
   ]
  },
  {
   "cell_type": "code",
   "execution_count": 62,
   "id": "70f40609-e55e-47d7-b244-eafc6dfe6a15",
   "metadata": {},
   "outputs": [],
   "source": [
    "def mean(data):\n",
    "    \"\"\"Compute the mea of a list of numbers.\"\"\"\n",
    "    return sum(data) / len(data)"
   ]
  },
  {
   "cell_type": "code",
   "execution_count": 63,
   "id": "d765ed98-35c6-4e3f-ace7-46bd46618d7b",
   "metadata": {},
   "outputs": [
    {
     "data": {
      "text/plain": [
       "3.0"
      ]
     },
     "execution_count": 63,
     "metadata": {},
     "output_type": "execute_result"
    }
   ],
   "source": [
    "mean([1, 2, 3, 4, 5])"
   ]
  },
  {
   "cell_type": "code",
   "execution_count": 64,
   "id": "72f8fec6-26d7-487c-a490-0051d194c779",
   "metadata": {},
   "outputs": [
    {
     "data": {
      "text/plain": [
       "1121.6666666666667"
      ]
     },
     "execution_count": 64,
     "metadata": {},
     "output_type": "execute_result"
    }
   ],
   "source": [
    "mean([42, 3252, 71])"
   ]
  },
  {
   "cell_type": "code",
   "execution_count": 66,
   "id": "20fe6282-71c7-4d2e-8f94-651929365d18",
   "metadata": {},
   "outputs": [],
   "source": [
    "# But most likely frequently used, method must exist but not present in python.\n",
    "# --> exist in modules"
   ]
  },
  {
   "cell_type": "markdown",
   "id": "b4914de7-0d01-446c-86a9-f38246ce6f5b",
   "metadata": {},
   "source": [
    "# Packages and modules"
   ]
  },
  {
   "cell_type": "code",
   "execution_count": 67,
   "id": "a14b36c7-e1e2-4955-b160-14291d3cf419",
   "metadata": {},
   "outputs": [],
   "source": [
    "import numpy"
   ]
  },
  {
   "cell_type": "code",
   "execution_count": 68,
   "id": "a9bede77-5304-4e92-9ae0-093d3f8057d4",
   "metadata": {},
   "outputs": [
    {
     "data": {
      "text/plain": [
       "3.0"
      ]
     },
     "execution_count": 68,
     "metadata": {},
     "output_type": "execute_result"
    }
   ],
   "source": [
    "numpy.mean([1, 2, 3, 4, 5])"
   ]
  },
  {
   "cell_type": "code",
   "execution_count": 71,
   "id": "09875158-f550-41ed-b876-9e1da4967d91",
   "metadata": {},
   "outputs": [
    {
     "data": {
      "text/plain": [
       "\u001b[0;31mSignature:\u001b[0m \u001b[0mnumpy\u001b[0m\u001b[0;34m.\u001b[0m\u001b[0mmedian\u001b[0m\u001b[0;34m(\u001b[0m\u001b[0ma\u001b[0m\u001b[0;34m,\u001b[0m \u001b[0maxis\u001b[0m\u001b[0;34m=\u001b[0m\u001b[0;32mNone\u001b[0m\u001b[0;34m,\u001b[0m \u001b[0mout\u001b[0m\u001b[0;34m=\u001b[0m\u001b[0;32mNone\u001b[0m\u001b[0;34m,\u001b[0m \u001b[0moverwrite_input\u001b[0m\u001b[0;34m=\u001b[0m\u001b[0;32mFalse\u001b[0m\u001b[0;34m,\u001b[0m \u001b[0mkeepdims\u001b[0m\u001b[0;34m=\u001b[0m\u001b[0;32mFalse\u001b[0m\u001b[0;34m)\u001b[0m\u001b[0;34m\u001b[0m\u001b[0;34m\u001b[0m\u001b[0m\n",
       "\u001b[0;31mDocstring:\u001b[0m\n",
       "Compute the median along the specified axis.\n",
       "\n",
       "Returns the median of the array elements.\n",
       "\n",
       "Parameters\n",
       "----------\n",
       "a : array_like\n",
       "    Input array or object that can be converted to an array.\n",
       "axis : {int, sequence of int, None}, optional\n",
       "    Axis or axes along which the medians are computed. The default\n",
       "    is to compute the median along a flattened version of the array.\n",
       "    A sequence of axes is supported since version 1.9.0.\n",
       "out : ndarray, optional\n",
       "    Alternative output array in which to place the result. It must\n",
       "    have the same shape and buffer length as the expected output,\n",
       "    but the type (of the output) will be cast if necessary.\n",
       "overwrite_input : bool, optional\n",
       "   If True, then allow use of memory of input array `a` for\n",
       "   calculations. The input array will be modified by the call to\n",
       "   `median`. This will save memory when you do not need to preserve\n",
       "   the contents of the input array. Treat the input as undefined,\n",
       "   but it will probably be fully or partially sorted. Default is\n",
       "   False. If `overwrite_input` is ``True`` and `a` is not already an\n",
       "   `ndarray`, an error will be raised.\n",
       "keepdims : bool, optional\n",
       "    If this is set to True, the axes which are reduced are left\n",
       "    in the result as dimensions with size one. With this option,\n",
       "    the result will broadcast correctly against the original `arr`.\n",
       "\n",
       "    .. versionadded:: 1.9.0\n",
       "\n",
       "Returns\n",
       "-------\n",
       "median : ndarray\n",
       "    A new array holding the result. If the input contains integers\n",
       "    or floats smaller than ``float64``, then the output data-type is\n",
       "    ``np.float64``.  Otherwise, the data-type of the output is the\n",
       "    same as that of the input. If `out` is specified, that array is\n",
       "    returned instead.\n",
       "\n",
       "See Also\n",
       "--------\n",
       "mean, percentile\n",
       "\n",
       "Notes\n",
       "-----\n",
       "Given a vector ``V`` of length ``N``, the median of ``V`` is the\n",
       "middle value of a sorted copy of ``V``, ``V_sorted`` - i\n",
       "e., ``V_sorted[(N-1)/2]``, when ``N`` is odd, and the average of the\n",
       "two middle values of ``V_sorted`` when ``N`` is even.\n",
       "\n",
       "Examples\n",
       "--------\n",
       ">>> a = np.array([[10, 7, 4], [3, 2, 1]])\n",
       ">>> a\n",
       "array([[10,  7,  4],\n",
       "       [ 3,  2,  1]])\n",
       ">>> np.median(a)\n",
       "3.5\n",
       ">>> np.median(a, axis=0)\n",
       "array([6.5, 4.5, 2.5])\n",
       ">>> np.median(a, axis=1)\n",
       "array([7.,  2.])\n",
       ">>> m = np.median(a, axis=0)\n",
       ">>> out = np.zeros_like(m)\n",
       ">>> np.median(a, axis=0, out=m)\n",
       "array([6.5,  4.5,  2.5])\n",
       ">>> m\n",
       "array([6.5,  4.5,  2.5])\n",
       ">>> b = a.copy()\n",
       ">>> np.median(b, axis=1, overwrite_input=True)\n",
       "array([7.,  2.])\n",
       ">>> assert not np.all(a==b)\n",
       ">>> b = a.copy()\n",
       ">>> np.median(b, axis=None, overwrite_input=True)\n",
       "3.5\n",
       ">>> assert not np.all(a==b)\n",
       "\u001b[0;31mFile:\u001b[0m      /opt/anaconda3/lib/python3.9/site-packages/numpy/lib/function_base.py\n",
       "\u001b[0;31mType:\u001b[0m      function\n"
      ]
     },
     "metadata": {},
     "output_type": "display_data"
    }
   ],
   "source": [
    "numpy.median?\n",
    "# or check online documentation"
   ]
  },
  {
   "cell_type": "code",
   "execution_count": 73,
   "id": "1c2bfef6-49ae-4ac2-805f-6513e4c8ae80",
   "metadata": {},
   "outputs": [],
   "source": [
    "import numpy as np\n",
    "# more tha 300 000 packages!"
   ]
  },
  {
   "cell_type": "markdown",
   "id": "0a9181c3-ae75-4715-98f4-d1fdd0984a30",
   "metadata": {},
   "source": [
    "Can also avoid copying code (= bad) by importing our own built packages ! see website"
   ]
  },
  {
   "cell_type": "code",
   "execution_count": 74,
   "id": "9f7b61a8-503b-4e7d-82fc-464b653df955",
   "metadata": {},
   "outputs": [
    {
     "ename": "ModuleNotFoundError",
     "evalue": "No module named 'jb_bootcamp'",
     "output_type": "error",
     "traceback": [
      "\u001b[0;31m---------------------------------------------------------------------------\u001b[0m",
      "\u001b[0;31mModuleNotFoundError\u001b[0m                       Traceback (most recent call last)",
      "Input \u001b[0;32mIn [74]\u001b[0m, in \u001b[0;36m<cell line: 1>\u001b[0;34m()\u001b[0m\n\u001b[0;32m----> 1\u001b[0m \u001b[38;5;28;01mimport\u001b[39;00m \u001b[38;5;21;01mjb_bootcamp\u001b[39;00m\n",
      "\u001b[0;31mModuleNotFoundError\u001b[0m: No module named 'jb_bootcamp'"
     ]
    }
   ],
   "source": [
    "import jb_bootcamp"
   ]
  },
  {
   "cell_type": "markdown",
   "id": "be515d84-45e7-4764-91a8-ca5e9f39bb9b",
   "metadata": {},
   "source": [
    "# File I/O"
   ]
  },
  {
   "cell_type": "code",
   "execution_count": 97,
   "id": "3c341435-256e-46e1-ad58-ff84bcbf0552",
   "metadata": {},
   "outputs": [
    {
     "data": {
      "text/plain": [
       "'/Users/anaishaget/git/bootcamp'"
      ]
     },
     "execution_count": 97,
     "metadata": {},
     "output_type": "execute_result"
    }
   ],
   "source": [
    "pwd # check if in the correct folder"
   ]
  },
  {
   "cell_type": "code",
   "execution_count": 89,
   "id": "84136a9b-20ad-43a8-8333-9b5486a0a691",
   "metadata": {},
   "outputs": [],
   "source": [
    "import os\n",
    "import glob"
   ]
  },
  {
   "cell_type": "code",
   "execution_count": 90,
   "id": "747f804d-e36b-421a-a7b3-9d9fe979d544",
   "metadata": {},
   "outputs": [],
   "source": [
    "# Use PDB file, protein data bank\n",
    "# p53 essential protein, if mutate we are very likely to get cancer"
   ]
  },
  {
   "cell_type": "code",
   "execution_count": 92,
   "id": "92fa7534-4373-4282-857a-3673c7be91df",
   "metadata": {},
   "outputs": [
    {
     "name": "stdout",
     "output_type": "stream",
     "text": [
      "<class '_io.TextIOWrapper'>\n"
     ]
    }
   ],
   "source": [
    "with open('data/1OLG.pdb', 'r') as f:\n",
    "    print(type(f))\n",
    "    \n",
    "# python way to open a file to read.\n",
    "# w = to write but annihilate the content !\n",
    "# f is what we get when we open a file, is a textIOWrapper datatype.\n",
    "# do not forget to close the file when open it.\n",
    "# Context management great, with such context block it will automatically close it for you, like here !!"
   ]
  },
  {
   "cell_type": "code",
   "execution_count": 93,
   "id": "475bd060-b630-4ea5-8f37-f493cbb00563",
   "metadata": {},
   "outputs": [],
   "source": [
    "with open('data/1OLG.pdb', 'r') as f:\n",
    "    f_str = f.read() # method to read a file and return it as a string"
   ]
  },
  {
   "cell_type": "code",
   "execution_count": 94,
   "id": "aba246ca-b01f-4b1d-bd13-a6d66720e336",
   "metadata": {},
   "outputs": [
    {
     "data": {
      "text/plain": [
       "'HEADER    ANTI-ONCOGENE                           13-JUN-94   1OLG              \\nTITLE     HIGH-RESOLUTION SOLUTION STRUCTURE OF THE OLIGOMERIZATION             \\nTITLE    2 DOMAIN OF P53 BY MULTI-DIMENSIONAL NMR                               \\nCOMPND    MOL_ID: 1;                                                            \\nCOMPND   2 MOLECULE: TUMOR SUPPRESSOR P53 (OLIGOMERIZATION DOMAIN);             \\nCOMPND   3 CHAIN: A, B, C, D;                                                   \\nCOMPND   4 ENGINEERED: YES                                                      \\nSOURCE    MOL_ID: 1;                                                            \\nSOURCE   2 ORGANISM_SCIENTIFIC: HOMO SAPIENS;                                   \\nSOURCE   3 ORGANISM_COMMON: HUMAN;                                              \\nSOURCE   4 ORGANISM_TAXID: 9606                                                 \\nKEYWDS    ANTI-ONCOGENE                                                         \\nEXPDTA    SOLUTION NMR      '"
      ]
     },
     "execution_count": 94,
     "metadata": {},
     "output_type": "execute_result"
    }
   ],
   "source": [
    "f_str[:1000]"
   ]
  },
  {
   "cell_type": "code",
   "execution_count": 95,
   "id": "e69b0839-5947-41d4-830f-e113b59955bf",
   "metadata": {},
   "outputs": [],
   "source": [
    "with open('data/1OLG.pdb', 'r') as f:\n",
    "    f_list = f.readlines() # method to read a file and return it as a string"
   ]
  },
  {
   "cell_type": "code",
   "execution_count": 96,
   "id": "ca3063ec-75d7-49b2-bc21-627352f06d88",
   "metadata": {},
   "outputs": [
    {
     "data": {
      "text/plain": [
       "['HEADER    ANTI-ONCOGENE                           13-JUN-94   1OLG              \\n',\n",
       " 'TITLE     HIGH-RESOLUTION SOLUTION STRUCTURE OF THE OLIGOMERIZATION             \\n',\n",
       " 'TITLE    2 DOMAIN OF P53 BY MULTI-DIMENSIONAL NMR                               \\n',\n",
       " 'COMPND    MOL_ID: 1;                                                            \\n',\n",
       " 'COMPND   2 MOLECULE: TUMOR SUPPRESSOR P53 (OLIGOMERIZATION DOMAIN);             \\n',\n",
       " 'COMPND   3 CHAIN: A, B, C, D;                                                   \\n',\n",
       " 'COMPND   4 ENGINEERED: YES                                                      \\n',\n",
       " 'SOURCE    MOL_ID: 1;                                                            \\n',\n",
       " 'SOURCE   2 ORGANISM_SCIENTIFIC: HOMO SAPIENS;                                   \\n',\n",
       " 'SOURCE   3 ORGANISM_COMMON: HUMAN;                                              \\n']"
      ]
     },
     "execution_count": 96,
     "metadata": {},
     "output_type": "execute_result"
    }
   ],
   "source": [
    "f_list[:10]"
   ]
  },
  {
   "cell_type": "code",
   "execution_count": 98,
   "id": "cc01a1c4-fc52-4d01-a4f5-d519bc665364",
   "metadata": {},
   "outputs": [
    {
     "data": {
      "text/plain": [
       "'HEADER    ANTI-ONCOGENE                           13-JUN-94   1OLG              \\n'"
      ]
     },
     "execution_count": 98,
     "metadata": {},
     "output_type": "execute_result"
    }
   ],
   "source": [
    "f_list[0]"
   ]
  },
  {
   "cell_type": "code",
   "execution_count": 99,
   "id": "cbd1971c-8dce-4ffd-a7bf-01900f75ae8b",
   "metadata": {},
   "outputs": [
    {
     "data": {
      "text/plain": [
       "'HEADER    ANTI-ONCOGENE                           13-JUN-94   1OLG'"
      ]
     },
     "execution_count": 99,
     "metadata": {},
     "output_type": "execute_result"
    }
   ],
   "source": [
    "f_list[0].rstrip()"
   ]
  },
  {
   "cell_type": "code",
   "execution_count": 113,
   "id": "637cdf26-6c40-4696-b899-69c3ec18d643",
   "metadata": {},
   "outputs": [
    {
     "name": "stdout",
     "output_type": "stream",
     "text": [
      "HEADER    ANTI-ONCOGENE                           13-JUN-94   1OLG\n",
      "TITLE     HIGH-RESOLUTION SOLUTION STRUCTURE OF THE OLIGOMERIZATION\n",
      "TITLE    2 DOMAIN OF P53 BY MULTI-DIMENSIONAL NMR\n",
      "COMPND    MOL_ID: 1;\n",
      "COMPND   2 MOLECULE: TUMOR SUPPRESSOR P53 (OLIGOMERIZATION DOMAIN);\n",
      "COMPND   3 CHAIN: A, B, C, D;\n",
      "COMPND   4 ENGINEERED: YES\n",
      "SOURCE    MOL_ID: 1;\n",
      "SOURCE   2 ORGANISM_SCIENTIFIC: HOMO SAPIENS;\n",
      "SOURCE   3 ORGANISM_COMMON: HUMAN;\n",
      "SOURCE   4 ORGANISM_TAXID: 9606\n",
      "KEYWDS    ANTI-ONCOGENE\n",
      "EXPDTA    SOLUTION NMR\n",
      "AUTHOR    G.M.CLORE,J.G.OMICHINSKI,A.M.GRONENBORN\n",
      "REVDAT   4   24-FEB-09 1OLG    1       VERSN\n",
      "REVDAT   3   01-APR-03 1OLG    1       JRNL\n",
      "REVDAT   2   08-MAR-95 1OLG    1       REMARK\n",
      "REVDAT   1   26-JAN-95 1OLG    0\n",
      "JRNL        AUTH   G.M.CLORE,J.G.OMICHINSKI,K.SAKAGUCHI,N.ZAMBRANO,\n",
      "JRNL        AUTH 2 H.SAKAMOTO,E.APPELLA,A.M.GRONENBORN\n"
     ]
    }
   ],
   "source": [
    "with open('data/1OLG.pdb', 'r') as f:\n",
    "    for i, line in enumerate(f):\n",
    "        if i<20:\n",
    "            print(line.rstrip())"
   ]
  },
  {
   "cell_type": "code",
   "execution_count": 101,
   "id": "aadd47cc-bc5a-4406-8881-008a6ee4a676",
   "metadata": {},
   "outputs": [],
   "source": [
    "# DO NOT RUN IT risk obliterating if the file exist !\n",
    "# Write a line to a file !\n",
    "with open('yogi.txt', 'w') as f:\n",
    "    f.write('When you come to a fork in the road, take it.')\n",
    "    f.write('You can observe a lot by just watching.')\n",
    "    f.write('I never said most of the things I said.')"
   ]
  },
  {
   "cell_type": "code",
   "execution_count": 103,
   "id": "e0bafc7e-ac49-4cee-8478-fe4f559462ed",
   "metadata": {},
   "outputs": [
    {
     "ename": "RuntimeError",
     "evalue": "File yogi.txt already exists.",
     "output_type": "error",
     "traceback": [
      "\u001b[0;31m---------------------------------------------------------------------------\u001b[0m",
      "\u001b[0;31mRuntimeError\u001b[0m                              Traceback (most recent call last)",
      "Input \u001b[0;32mIn [103]\u001b[0m, in \u001b[0;36m<cell line: 2>\u001b[0;34m()\u001b[0m\n\u001b[1;32m      1\u001b[0m \u001b[38;5;66;03m# For safety check by doing:\u001b[39;00m\n\u001b[1;32m      2\u001b[0m \u001b[38;5;28;01mif\u001b[39;00m os\u001b[38;5;241m.\u001b[39mpath\u001b[38;5;241m.\u001b[39misfile(\u001b[38;5;124m'\u001b[39m\u001b[38;5;124myogi.txt\u001b[39m\u001b[38;5;124m'\u001b[39m):\n\u001b[0;32m----> 3\u001b[0m     \u001b[38;5;28;01mraise\u001b[39;00m \u001b[38;5;167;01mRuntimeError\u001b[39;00m(\u001b[38;5;124m'\u001b[39m\u001b[38;5;124mFile yogi.txt already exists.\u001b[39m\u001b[38;5;124m'\u001b[39m)\n\u001b[1;32m      5\u001b[0m \u001b[38;5;28;01mwith\u001b[39;00m \u001b[38;5;28mopen\u001b[39m(\u001b[38;5;124m'\u001b[39m\u001b[38;5;124myogi.txt\u001b[39m\u001b[38;5;124m'\u001b[39m, \u001b[38;5;124m'\u001b[39m\u001b[38;5;124mw\u001b[39m\u001b[38;5;124m'\u001b[39m) \u001b[38;5;28;01mas\u001b[39;00m f:\n\u001b[1;32m      6\u001b[0m     f\u001b[38;5;241m.\u001b[39mwrite(\u001b[38;5;124m'\u001b[39m\u001b[38;5;124mWhen you come to a fork in the road, take it.\u001b[39m\u001b[38;5;124m'\u001b[39m)\n",
      "\u001b[0;31mRuntimeError\u001b[0m: File yogi.txt already exists."
     ]
    }
   ],
   "source": [
    "# For safety check by doing:\n",
    "if os.path.isfile('yogi.txt'):\n",
    "    raise RuntimeError('File yogi.txt already exists.')\n",
    "    \n",
    "with open('yogi.txt', 'w') as f:\n",
    "    f.write('When you come to a fork in the road, take it.')\n",
    "    f.write('You can observe a lot by just watching.')\n",
    "    f.write('I never said most of the things I said.')\n",
    "    # Everything on the same line"
   ]
  },
  {
   "cell_type": "code",
   "execution_count": 104,
   "id": "59a4d8c1-006b-4288-baf7-c1ab29bc011e",
   "metadata": {},
   "outputs": [],
   "source": [
    "if os.path.isfile('yogi.txt'):\n",
    "    raise RuntimeError('File yogi.txt already exists.')\n",
    "    \n",
    "with open('yogi.txt', 'w') as f:\n",
    "    f.write('When you come to a fork in the road, take it.\\n')\n",
    "    f.write('You can observe a lot by just watching.\\n')\n",
    "    f.write('I never said most of the things I said.\\n')"
   ]
  },
  {
   "cell_type": "code",
   "execution_count": 109,
   "id": "e6173c87-fec7-4514-8136-f0ea4d4b7f2a",
   "metadata": {},
   "outputs": [],
   "source": [
    "outfile = 'atoms_chain_A.txt'\n",
    "\n",
    "if os.path.isfile(outfile):\n",
    "    raise RuntimeError('File outfile already exists.')\n",
    "    \n",
    "with open('data/1OLG.pdb', 'r') as f, open(outfile, 'w') as f_out:\n",
    "    for line in f:\n",
    "        if len(line) > 21 and line[:4] == 'ATOM' and line[21] == 'A':\n",
    "            # Condition to get atoms for chain A, knows which columns number from pdb specifications\n",
    "            f_out.write(line)"
   ]
  },
  {
   "cell_type": "code",
   "execution_count": 112,
   "id": "9e504cdc-319a-445d-817c-29a6ff63117a",
   "metadata": {},
   "outputs": [
    {
     "name": "stdout",
     "output_type": "stream",
     "text": [
      "ATOM      1  N   LYS A 319      18.634  25.437  10.685  1.00  4.81           N  \n",
      "ATOM      2  CA  LYS A 319      17.984  25.295   9.354  1.00  4.32           C  \n",
      "ATOM      3  C   LYS A 319      18.160  23.876   8.818  1.00  3.74           C  \n",
      "ATOM      4  O   LYS A 319      19.259  23.441   8.537  1.00  3.67           O  \n",
      "ATOM      5  CB  LYS A 319      18.609  26.282   8.371  1.00  4.67           C  \n",
      "ATOM      6  CG  LYS A 319      18.003  26.056   6.986  1.00  5.15           C  \n",
      "ATOM      7  CD  LYS A 319      16.476  26.057   7.091  1.00  5.90           C  \n",
      "ATOM      8  CE  LYS A 319      16.014  27.341   7.784  1.00  6.51           C  \n",
      "ATOM      9  NZ  LYS A 319      16.388  28.518   6.952  1.00  7.33           N  \n",
      "ATOM     10  H1  LYS A 319      18.414  24.606  11.281  1.00  5.09           H  \n"
     ]
    }
   ],
   "source": [
    "!head -10 atoms_chain_A.txt"
   ]
  },
  {
   "cell_type": "code",
   "execution_count": null,
   "id": "f3ec3718-3bec-451d-b10d-b6089487acff",
   "metadata": {},
   "outputs": [],
   "source": []
  }
 ],
 "metadata": {
  "kernelspec": {
   "display_name": "Python 3 (ipykernel)",
   "language": "python",
   "name": "python3"
  },
  "language_info": {
   "codemirror_mode": {
    "name": "ipython",
    "version": 3
   },
   "file_extension": ".py",
   "mimetype": "text/x-python",
   "name": "python",
   "nbconvert_exporter": "python",
   "pygments_lexer": "ipython3",
   "version": "3.9.12"
  }
 },
 "nbformat": 4,
 "nbformat_minor": 5
}
