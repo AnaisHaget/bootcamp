{
 "cells": [
  {
   "cell_type": "code",
   "execution_count": 1,
   "id": "7a2128bb-61bf-40ed-a401-4550ae418814",
   "metadata": {},
   "outputs": [
    {
     "name": "stdout",
     "output_type": "stream",
     "text": [
      "Hello, world.\n"
     ]
    }
   ],
   "source": [
    "print('Hello, world.')"
   ]
  },
  {
   "cell_type": "markdown",
   "id": "e7150ec3-7dec-4391-bfe6-e43e07fde31b",
   "metadata": {},
   "source": [
    "Text gets rendered in the default browser font."
   ]
  },
  {
   "cell_type": "markdown",
   "id": "c170e7ce-c951-4009-8127-63c0691a994a",
   "metadata": {},
   "source": [
    "I can also do $\\LaTeX$!"
   ]
  },
  {
   "cell_type": "markdown",
   "id": "c52e64ab-1ed6-4092-9628-fba51b72da6d",
   "metadata": {},
   "source": [
    "$E = mc^2$."
   ]
  },
  {
   "cell_type": "code",
   "execution_count": null,
   "id": "5de883ad-f624-49ae-a368-5139b8aed1a4",
   "metadata": {},
   "outputs": [],
   "source": []
  }
 ],
 "metadata": {
  "kernelspec": {
   "display_name": "Python 3 (ipykernel)",
   "language": "python",
   "name": "python3"
  },
  "language_info": {
   "codemirror_mode": {
    "name": "ipython",
    "version": 3
   },
   "file_extension": ".py",
   "mimetype": "text/x-python",
   "name": "python",
   "nbconvert_exporter": "python",
   "pygments_lexer": "ipython3",
   "version": "3.9.12"
  }
 },
 "nbformat": 4,
 "nbformat_minor": 5
}
