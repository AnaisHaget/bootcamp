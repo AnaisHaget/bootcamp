{
 "cells": [
  {
   "cell_type": "markdown",
   "metadata": {},
   "source": [
    "# Lesson 24: Practice with Pandas and Altair *solution*\n",
    "\n",
    "(c) 2018 Justin Bois. With the exception of pasted graphics, where the source is noted, this work is licensed under a [Creative Commons Attribution License CC-BY 4.0](https://creativecommons.org/licenses/by/4.0/). All code contained herein is licensed under an [MIT license](https://opensource.org/licenses/MIT).\n",
    "\n",
    "This document was prepared at [Caltech](http://www.caltech.edu) with financial support from the [Donna and Benjamin M. Rosen Bioengineering Center](http://rosen.caltech.edu).\n",
    "\n",
    "<img src=\"caltech_rosen.png\">\n",
    "\n",
    "*This lesson was generated from a Jupyter notebook.  You can download the notebook [here](l24_practice_with_pandas_and_altair_solution.ipynb).*\n",
    "\n",
    "<br /> <br />"
   ]
  },
  {
   "cell_type": "code",
   "execution_count": 1,
   "metadata": {},
   "outputs": [],
   "source": [
    "import pandas as pd\n",
    "import altair as alt\n",
    "\n",
    "import bootcamp_utils"
   ]
  },
  {
   "cell_type": "markdown",
   "metadata": {},
   "source": [
    "## Practice 1: Axes with logarithmic scale\n",
    "\n",
    "Sometimes you need to plot your data with a logarithmic scale. As an example, let's consider the classic genetic switch engineered by Jim Collins and coworkers ([Gardner, et al., *Nature*, **403**, 339, 2000](http://www.nature.com/nature/journal/v403/n6767/full/403339a0.html)). This genetic switch was incorporated into *E. coli* and is inducible by adjusting the concentration of the lactose analog IPTG. The readout is the fluorescence intensity of GFP.\n",
    "\n",
    "Let's load in some data that have the IPTG concentrations and GFP fluorescence intensity. The data are in the file `~/git/data/collins_switch.csv`. Let's look at it."
   ]
  },
  {
   "cell_type": "code",
   "execution_count": 2,
   "metadata": {},
   "outputs": [
    {
     "name": "stdout",
     "output_type": "stream",
     "text": [
      "# Data digitized from Fig. 5a of Gardner, et al., *Nature*, **403**, 339, 2000. The last column gives the standard error of the mean normalized GFP intensity.\n",
      "[IPTG] (mM),normalized GFP expression (a.u.),sem\n",
      "0.001000,0.004090,0.003475\n",
      "0.010000,0.010225,0.002268\n",
      "0.020000,0.022495,0.004781\n",
      "0.030000,0.034765,0.003000\n",
      "0.040000,0.067485,0.006604\n",
      "0.040000,0.668712,0.087862\n",
      "0.060000,0.740286,0.045853\n",
      "0.100000,0.840491,0.058986\n",
      "0.300000,0.936605,0.026931\n",
      "0.600000,0.961145,0.093553\n",
      "1.000000,0.940695,0.037624\n",
      "3.000000,0.852761,0.059035\n",
      "6.000000,0.910020,0.051052\n",
      "10.000000,0.893661,0.042773\n"
     ]
    }
   ],
   "source": [
    "!cat data/collins_switch.csv"
   ]
  },
  {
   "cell_type": "markdown",
   "metadata": {},
   "source": [
    "It has two rows of non-data. Then, Column 1 is the IPTG concentration, column 2 is the normalized GFP expression level, and the last column is the standard error of the mean normalized GFP intensity. This gives the error bars, which we will look at in the next exercise. For now, we will just plot IPTG versus normalized GFP intensity.\n",
    "\n",
    "In looking at the data set, note that there are two entries for [IPTG] = 0.04 mM. At this concentration, the switch happens, and there are two populations of cells, one with high expression of GFP and one with low. The two data points represent these two populations of cells.\n",
    "\n",
    "Now, let's make a plot of IPTG versus GFP.\n",
    "\n",
    ">1. Load in the data set using Pandas. Make sure you use the `comment` kwarg of pd.read_csv() properly.\n",
    "2. Make a plot of normalized GFP intensity (y-axis) versus IPTG concentration (x-axis). Be sure you change the columns names of the data frame to handle the forbidden Altair characters (`[`, `]`, `%`, `\"`, and `.`). \n",
    "\n",
    "Now that you have done that, there are some problems with the plot. It is really hard to see the data points with low concentrations of IPTG. In fact, looking at the data set, the concentration of IPTG varies over four orders of magnitude. When you have data like this, it is wise to plot them on a logarithmic scale. You can specify an axis in a `Chart` to have a logarithmic scale using the `scale=alt.Scale(type='log')` kwarg in your encoding for the *x* or *y* variables. For this data set, it is definitely best to have the x-axis on a logarithmic scale. Remake the plot you just did with the x-axis logarithmically scaled."
   ]
  },
  {
   "cell_type": "markdown",
   "metadata": {},
   "source": [
    "### Practice 1: solution"
   ]
  },
  {
   "cell_type": "code",
   "execution_count": 3,
   "metadata": {},
   "outputs": [
    {
     "data": {
      "application/vnd.vegalite.v2+json": {
       "$schema": "https://vega.github.io/schema/vega-lite/v2.4.3.json",
       "config": {
        "view": {
         "height": 300,
         "width": 400
        }
       },
       "data": {
        "values": [
         {
          "gfp": 0.00409,
          "iptg (mM)": 0.001,
          "sem": 0.003475
         },
         {
          "gfp": 0.010225,
          "iptg (mM)": 0.01,
          "sem": 0.002268
         },
         {
          "gfp": 0.022494999999999998,
          "iptg (mM)": 0.02,
          "sem": 0.0047810000000000005
         },
         {
          "gfp": 0.034765,
          "iptg (mM)": 0.03,
          "sem": 0.003
         },
         {
          "gfp": 0.067485,
          "iptg (mM)": 0.04,
          "sem": 0.0066040000000000005
         },
         {
          "gfp": 0.668712,
          "iptg (mM)": 0.04,
          "sem": 0.087862
         },
         {
          "gfp": 0.740286,
          "iptg (mM)": 0.06,
          "sem": 0.045853
         },
         {
          "gfp": 0.840491,
          "iptg (mM)": 0.1,
          "sem": 0.058986000000000004
         },
         {
          "gfp": 0.9366049999999999,
          "iptg (mM)": 0.3,
          "sem": 0.026931
         },
         {
          "gfp": 0.961145,
          "iptg (mM)": 0.6,
          "sem": 0.093553
         },
         {
          "gfp": 0.9406950000000001,
          "iptg (mM)": 1,
          "sem": 0.037624
         },
         {
          "gfp": 0.8527610000000001,
          "iptg (mM)": 3,
          "sem": 0.059035000000000004
         },
         {
          "gfp": 0.91002,
          "iptg (mM)": 6,
          "sem": 0.051052
         },
         {
          "gfp": 0.893661,
          "iptg (mM)": 10,
          "sem": 0.042773
         }
        ]
       },
       "encoding": {
        "x": {
         "field": "iptg (mM)",
         "title": "[IPTG] (mM)",
         "type": "quantitative"
        },
        "y": {
         "field": "gfp",
         "title": "norm. GFP expression (a.u.)",
         "type": "quantitative"
        }
       },
       "height": 200,
       "mark": {
        "color": "#08519c",
        "filled": true,
        "opacity": 1,
        "type": "point"
       },
       "width": 400
      },
      "image/png": "[encoded data removed]",
      "text/plain": [
       "<VegaLite 2 object>\n",
       "\n",
       "If you see this message, it means the renderer has not been properly enabled\n",
       "for the frontend that you are using. For more information, see\n",
       "https://altair-viz.github.io/user_guide/troubleshooting.html\n"
      ]
     },
     "execution_count": 3,
     "metadata": {},
     "output_type": "execute_result"
    }
   ],
   "source": [
    "# Load in the data\n",
    "df = pd.read_csv('data/collins_switch.csv', comment='#')\n",
    "\n",
    "# Rename columns\n",
    "df = df.rename(columns={'[IPTG] (mM)': 'iptg (mM)',\n",
    "                        'normalized GFP expression (a.u.)': 'gfp'})\n",
    "\n",
    "# Make a chart\n",
    "alt.Chart(df,\n",
    "        height=200,\n",
    "        width=400\n",
    "    ).mark_point(\n",
    "        filled=True,\n",
    "        color='#08519c',\n",
    "        opacity=1\n",
    "    ).encode(\n",
    "        x=alt.X('iptg (mM):Q', title='[IPTG] (mM)'),\n",
    "        y=alt.Y('gfp:Q', title='norm. GFP expression (a.u.)')\n",
    "    )"
   ]
  },
  {
   "cell_type": "markdown",
   "metadata": {},
   "source": [
    "We clearly need the $x$-axis to be on a log scale, so let's remake the plot."
   ]
  },
  {
   "cell_type": "code",
   "execution_count": 4,
   "metadata": {},
   "outputs": [
    {
     "data": {
      "application/vnd.vegalite.v2+json": {
       "$schema": "https://vega.github.io/schema/vega-lite/v2.4.3.json",
       "config": {
        "view": {
         "height": 300,
         "width": 400
        }
       },
       "data": {
        "values": [
         {
          "gfp": 0.00409,
          "iptg (mM)": 0.001,
          "sem": 0.003475
         },
         {
          "gfp": 0.010225,
          "iptg (mM)": 0.01,
          "sem": 0.002268
         },
         {
          "gfp": 0.022494999999999998,
          "iptg (mM)": 0.02,
          "sem": 0.0047810000000000005
         },
         {
          "gfp": 0.034765,
          "iptg (mM)": 0.03,
          "sem": 0.003
         },
         {
          "gfp": 0.067485,
          "iptg (mM)": 0.04,
          "sem": 0.0066040000000000005
         },
         {
          "gfp": 0.668712,
          "iptg (mM)": 0.04,
          "sem": 0.087862
         },
         {
          "gfp": 0.740286,
          "iptg (mM)": 0.06,
          "sem": 0.045853
         },
         {
          "gfp": 0.840491,
          "iptg (mM)": 0.1,
          "sem": 0.058986000000000004
         },
         {
          "gfp": 0.9366049999999999,
          "iptg (mM)": 0.3,
          "sem": 0.026931
         },
         {
          "gfp": 0.961145,
          "iptg (mM)": 0.6,
          "sem": 0.093553
         },
         {
          "gfp": 0.9406950000000001,
          "iptg (mM)": 1,
          "sem": 0.037624
         },
         {
          "gfp": 0.8527610000000001,
          "iptg (mM)": 3,
          "sem": 0.059035000000000004
         },
         {
          "gfp": 0.91002,
          "iptg (mM)": 6,
          "sem": 0.051052
         },
         {
          "gfp": 0.893661,
          "iptg (mM)": 10,
          "sem": 0.042773
         }
        ]
       },
       "encoding": {
        "x": {
         "field": "iptg (mM)",
         "scale": {
          "type": "log"
         },
         "title": "[IPTG] (mM)",
         "type": "quantitative"
        },
        "y": {
         "field": "gfp",
         "title": "norm. GFP expression (a.u.)",
         "type": "quantitative"
        }
       },
       "height": 200,
       "mark": {
        "color": "#08519c",
        "filled": true,
        "opacity": 1,
        "type": "point"
       },
       "width": 400
      },
      "image/png": "[encoded data removed]",
      "text/plain": [
       "<VegaLite 2 object>\n",
       "\n",
       "If you see this message, it means the renderer has not been properly enabled\n",
       "for the frontend that you are using. For more information, see\n",
       "https://altair-viz.github.io/user_guide/troubleshooting.html\n"
      ]
     },
     "execution_count": 4,
     "metadata": {},
     "output_type": "execute_result"
    }
   ],
   "source": [
    "# Make a chart\n",
    "dots = alt.Chart(df,\n",
    "        height=200,\n",
    "        width=400\n",
    "    ).mark_point(\n",
    "        filled=True,\n",
    "        color='#08519c',\n",
    "        opacity=1\n",
    "    ).encode(\n",
    "        x=alt.X('iptg (mM):Q',\n",
    "                title='[IPTG] (mM)', \n",
    "                scale=alt.Scale(type='log')),\n",
    "        y=alt.Y('gfp:Q', \n",
    "                title='norm. GFP expression (a.u.)')\n",
    "    )\n",
    "\n",
    "dots"
   ]
  },
  {
   "cell_type": "markdown",
   "metadata": {},
   "source": [
    "<br />"
   ]
  },
  {
   "cell_type": "markdown",
   "metadata": {},
   "source": [
    "## Practice 2: Plots with error bars\n",
    "\n",
    "The data set also contains the standard error of the mean, or SEM. The SEM is often displayed on plots as error bars. Now construct the plot with error bars.\n",
    "\n",
    ">1. Add columns `error_low` and `error_high` to the `DataFrame` containing the Collins data. These will set the bottoms and tops of the error bars. You should base the values in these columns on the standard error of the mean (`sem`). Assuming a Gaussian model the 95% confidence interval is ±1.96 times the s.e.m.\n",
    "2. Make a plot with the measured expression levels and the error bars."
   ]
  },
  {
   "cell_type": "markdown",
   "metadata": {},
   "source": [
    "### Practice 2 solution"
   ]
  },
  {
   "cell_type": "code",
   "execution_count": 5,
   "metadata": {},
   "outputs": [
    {
     "data": {
      "application/vnd.vegalite.v2+json": {
       "$schema": "https://vega.github.io/schema/vega-lite/v2.4.3.json",
       "config": {
        "view": {
         "height": 300,
         "width": 400
        }
       },
       "layer": [
        {
         "data": {
          "values": [
           {
            "error_high": 0.010901,
            "error_low": -0.0027209999999999995,
            "gfp": 0.00409,
            "iptg (mM)": 0.001,
            "sem": 0.003475
           },
           {
            "error_high": 0.01467028,
            "error_low": 0.0057797199999999995,
            "gfp": 0.010225,
            "iptg (mM)": 0.01,
            "sem": 0.002268
           },
           {
            "error_high": 0.03186576,
            "error_low": 0.013124239999999997,
            "gfp": 0.022494999999999998,
            "iptg (mM)": 0.02,
            "sem": 0.0047810000000000005
           },
           {
            "error_high": 0.040645,
            "error_low": 0.028884999999999997,
            "gfp": 0.034765,
            "iptg (mM)": 0.03,
            "sem": 0.003
           },
           {
            "error_high": 0.08042884,
            "error_low": 0.054541160000000005,
            "gfp": 0.067485,
            "iptg (mM)": 0.04,
            "sem": 0.0066040000000000005
           },
           {
            "error_high": 0.84092152,
            "error_low": 0.49650247999999997,
            "gfp": 0.668712,
            "iptg (mM)": 0.04,
            "sem": 0.087862
           },
           {
            "error_high": 0.83015788,
            "error_low": 0.65041412,
            "gfp": 0.740286,
            "iptg (mM)": 0.06,
            "sem": 0.045853
           },
           {
            "error_high": 0.95610356,
            "error_low": 0.72487844,
            "gfp": 0.840491,
            "iptg (mM)": 0.1,
            "sem": 0.058986000000000004
           },
           {
            "error_high": 0.9893897599999999,
            "error_low": 0.8838202399999999,
            "gfp": 0.9366049999999999,
            "iptg (mM)": 0.3,
            "sem": 0.026931
           },
           {
            "error_high": 1.14450888,
            "error_low": 0.77778112,
            "gfp": 0.961145,
            "iptg (mM)": 0.6,
            "sem": 0.093553
           },
           {
            "error_high": 1.0144380400000002,
            "error_low": 0.8669519600000001,
            "gfp": 0.9406950000000001,
            "iptg (mM)": 1,
            "sem": 0.037624
           },
           {
            "error_high": 0.9684696000000002,
            "error_low": 0.7370524,
            "gfp": 0.8527610000000001,
            "iptg (mM)": 3,
            "sem": 0.059035000000000004
           },
           {
            "error_high": 1.01008192,
            "error_low": 0.80995808,
            "gfp": 0.91002,
            "iptg (mM)": 6,
            "sem": 0.051052
           },
           {
            "error_high": 0.97749608,
            "error_low": 0.8098259200000001,
            "gfp": 0.893661,
            "iptg (mM)": 10,
            "sem": 0.042773
           }
          ]
         },
         "encoding": {
          "x": {
           "field": "iptg (mM)",
           "scale": {
            "type": "log"
           },
           "title": "[IPTG] (mM)",
           "type": "quantitative"
          },
          "y": {
           "field": "gfp",
           "title": "norm. GFP expression (a.u.)",
           "type": "quantitative"
          }
         },
         "height": 200,
         "mark": {
          "color": "#08519c",
          "filled": true,
          "opacity": 1,
          "type": "point"
         },
         "selection": {
          "selector001": {
           "bind": "scales",
           "encodings": [
            "x",
            "y"
           ],
           "mark": {
            "fill": "#333",
            "fillOpacity": 0.125,
            "stroke": "white"
           },
           "on": "[mousedown, window:mouseup] > window:mousemove!",
           "resolve": "global",
           "translate": "[mousedown, window:mouseup] > window:mousemove!",
           "type": "interval",
           "zoom": "wheel!"
          }
         },
         "width": 400
        },
        {
         "data": {
          "values": [
           {
            "error_high": 0.010901,
            "error_low": -0.0027209999999999995,
            "gfp": 0.00409,
            "iptg (mM)": 0.001,
            "sem": 0.003475
           },
           {
            "error_high": 0.01467028,
            "error_low": 0.0057797199999999995,
            "gfp": 0.010225,
            "iptg (mM)": 0.01,
            "sem": 0.002268
           },
           {
            "error_high": 0.03186576,
            "error_low": 0.013124239999999997,
            "gfp": 0.022494999999999998,
            "iptg (mM)": 0.02,
            "sem": 0.0047810000000000005
           },
           {
            "error_high": 0.040645,
            "error_low": 0.028884999999999997,
            "gfp": 0.034765,
            "iptg (mM)": 0.03,
            "sem": 0.003
           },
           {
            "error_high": 0.08042884,
            "error_low": 0.054541160000000005,
            "gfp": 0.067485,
            "iptg (mM)": 0.04,
            "sem": 0.0066040000000000005
           },
           {
            "error_high": 0.84092152,
            "error_low": 0.49650247999999997,
            "gfp": 0.668712,
            "iptg (mM)": 0.04,
            "sem": 0.087862
           },
           {
            "error_high": 0.83015788,
            "error_low": 0.65041412,
            "gfp": 0.740286,
            "iptg (mM)": 0.06,
            "sem": 0.045853
           },
           {
            "error_high": 0.95610356,
            "error_low": 0.72487844,
            "gfp": 0.840491,
            "iptg (mM)": 0.1,
            "sem": 0.058986000000000004
           },
           {
            "error_high": 0.9893897599999999,
            "error_low": 0.8838202399999999,
            "gfp": 0.9366049999999999,
            "iptg (mM)": 0.3,
            "sem": 0.026931
           },
           {
            "error_high": 1.14450888,
            "error_low": 0.77778112,
            "gfp": 0.961145,
            "iptg (mM)": 0.6,
            "sem": 0.093553
           },
           {
            "error_high": 1.0144380400000002,
            "error_low": 0.8669519600000001,
            "gfp": 0.9406950000000001,
            "iptg (mM)": 1,
            "sem": 0.037624
           },
           {
            "error_high": 0.9684696000000002,
            "error_low": 0.7370524,
            "gfp": 0.8527610000000001,
            "iptg (mM)": 3,
            "sem": 0.059035000000000004
           },
           {
            "error_high": 1.01008192,
            "error_low": 0.80995808,
            "gfp": 0.91002,
            "iptg (mM)": 6,
            "sem": 0.051052
           },
           {
            "error_high": 0.97749608,
            "error_low": 0.8098259200000001,
            "gfp": 0.893661,
            "iptg (mM)": 10,
            "sem": 0.042773
           }
          ]
         },
         "encoding": {
          "x": {
           "field": "iptg (mM)",
           "scale": {
            "type": "log"
           },
           "title": "[IPTG] (mM)",
           "type": "quantitative"
          },
          "y": {
           "field": "error_low",
           "title": "norm. GFP expression",
           "type": "quantitative"
          },
          "y2": {
           "field": "error_high",
           "title": "norm. GFP expression",
           "type": "quantitative"
          }
         },
         "height": 200,
         "mark": {
          "color": "#08519c",
          "type": "rule"
         },
         "width": 400
        }
       ]
      },
      "image/png": "[encoded data removed]",
      "text/plain": [
       "<VegaLite 2 object>\n",
       "\n",
       "If you see this message, it means the renderer has not been properly enabled\n",
       "for the frontend that you are using. For more information, see\n",
       "https://altair-viz.github.io/user_guide/troubleshooting.html\n"
      ]
     },
     "execution_count": 5,
     "metadata": {},
     "output_type": "execute_result"
    }
   ],
   "source": [
    "# Add error bars to the DataFrame\n",
    "df['error_low'] = df['gfp'] - 1.96*df['sem']\n",
    "df['error_high'] = df['gfp'] + 1.96*df['sem']\n",
    "\n",
    "# Make the error bar plot\n",
    "error_bars = alt.Chart(df,\n",
    "        height=200,\n",
    "        width=400\n",
    "    ).mark_rule(\n",
    "        color='#08519c',\n",
    "    ).encode(\n",
    "        x=alt.X('iptg (mM):Q',\n",
    "                title='[IPTG] (mM)', \n",
    "                scale=alt.Scale(type='log')),\n",
    "        y=alt.Y('error_low:Q', \n",
    "                title='norm. GFP expression'),\n",
    "        y2=alt.Y2('error_high:Q', \n",
    "            title='norm. GFP expression')\n",
    "    )\n",
    "\n",
    "# Overlay\n",
    "(dots + error_bars).interactive()"
   ]
  },
  {
   "cell_type": "markdown",
   "metadata": {},
   "source": [
    "Using the interactivity, you can zoom in on the point with the smalled IPTG concentration. Note the value of interactive graphics here. Even though the error bar is smaller than the dot on the zoomed-out plot, it is resolvable upon zooming in, which is impossible even with vector graphics. Note also a common problem with using an s.e.m. to compute error bars. The result is something unphysical; the error bar extends below zero. In general using s.e.m. for error bars is a not a good idea."
   ]
  }
 ],
 "metadata": {
  "anaconda-cloud": {},
  "kernelspec": {
   "display_name": "Python 3",
   "language": "python",
   "name": "python3"
  },
  "language_info": {
   "codemirror_mode": {
    "name": "ipython",
    "version": 3
   },
   "file_extension": ".py",
   "mimetype": "text/x-python",
   "name": "python",
   "nbconvert_exporter": "python",
   "pygments_lexer": "ipython3",
   "version": "3.6.6"
  }
 },
 "nbformat": 4,
 "nbformat_minor": 2
}
